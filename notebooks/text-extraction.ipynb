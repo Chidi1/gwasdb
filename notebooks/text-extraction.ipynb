{
 "cells": [
  {
   "cell_type": "markdown",
   "metadata": {},
   "source": [
    "# SNP/Phenotype detection from raw text"
   ]
  },
  {
   "cell_type": "code",
   "execution_count": 1,
   "metadata": {
    "collapsed": false
   },
   "outputs": [],
   "source": [
    "%load_ext autoreload\n",
    "%autoreload 2\n",
    "\n",
    "import sys"
   ]
  },
  {
   "cell_type": "code",
   "execution_count": 2,
   "metadata": {
    "collapsed": false
   },
   "outputs": [],
   "source": [
    "# import snorkel and gwasdb\n",
    "sys.path.append('../snorkel')\n",
    "sys.path.append('../src')\n",
    "\n",
    "# set up paths\n",
    "abstract_dir = '../data/db/papers'"
   ]
  },
  {
   "cell_type": "markdown",
   "metadata": {},
   "source": [
    "## Assemble a corpus"
   ]
  },
  {
   "cell_type": "markdown",
   "metadata": {},
   "source": [
    "We will look at abstracts for now"
   ]
  },
  {
   "cell_type": "code",
   "execution_count": 3,
   "metadata": {
    "collapsed": false
   },
   "outputs": [],
   "source": [
    "from snorkel.parser import XMLDocParser\n",
    "from extractor.parser import UnicodeXMLDocParser\n",
    "\n",
    "xml_parser = UnicodeXMLDocParser(\n",
    "    path=abstract_dir,\n",
    "    doc='./*',\n",
    "    text='.//abstract/p//text() | .//front//article-title//text()',\n",
    "    id='.//article-id[@pub-id-type=\"pmid\"]/text()',\n",
    "    keep_xml_tree=True)"
   ]
  },
  {
   "cell_type": "markdown",
   "metadata": {},
   "source": [
    "Warning: there are unicode chars that cause trouble, e.g.:"
   ]
  },
  {
   "cell_type": "code",
   "execution_count": 4,
   "metadata": {
    "collapsed": false
   },
   "outputs": [
    {
     "name": "stdout",
     "output_type": "stream",
     "text": [
      "− 8\n",
      "\n",
      "×\n"
     ]
    }
   ],
   "source": [
    "import unicodedata\n",
    "print u'\\u2212 8'\n",
    "txt=u'\\xd7'\n",
    "print unicodedata.normalize('NFKD', txt).encode('ascii','ignore')\n",
    "print unicode(txt)"
   ]
  },
  {
   "cell_type": "markdown",
   "metadata": {},
   "source": [
    "Get the actual docs:"
   ]
  },
  {
   "cell_type": "code",
   "execution_count": 5,
   "metadata": {
    "collapsed": false
   },
   "outputs": [
    {
     "name": "stdout",
     "output_type": "stream",
     "text": [
      "<Element article at 0x10c4ccaf0>\n",
      "['Sudden cardiac death (SCD) and drug-induced ventricular arrhythmia, a major barrier to drug development, are poorly predicted.', '1', ' Prolongation of electrocardiographic QT interval duration, a measure of myocardial repolarization time, is a risk factor for drug-induced arrhythmias and SCD. Continuous QT interval duration is heritable', '2', ' (h', '2', u' \\u22480.35) and has multiple environmental and genetic contributors. Its genetic determinants in populations are poorly characterized.', '3', ' Congenital Long and Short QT Syndromes of ventricular arrhythmias and SCD due to extremes of QT interval duration are often caused by mutations with large effect sizes, commonly in ion channels involved in myocardial repolarization. These mutations are typically private to specific families and individually explain little of the population variation in QT interval duration or SCD risk.', '4', ' The few common variants in candidate genes associated with QT interval duration thus far reported', '5', u'\\u2013', '9', ' leave much of its heritability unexplained. Genome-wide association studies covering the majority of common variation in the human genome can be used in large samples to identify genetic variants that typically confer modest effect sizes for quantitative complex traits such as QT interval duration. We completed a meta-analysis of three genome-wide association studies of QT interval duration in 13,685 self-identified white individuals of European ancestry drawn from three prospective cohort studies: the Framingham Heart Study (FHS, n = 7,650), the Rotterdam Study (RS, n = 4,606) and the first and second rounds of genotyping in the Cardiovascular Health Study (CHS, n = 1,429).', '10', ' We used genotypes from the Affymetrix 500K chip and 50K gene-centered MIP, the Illumina 550K and Illumina 370CNV arrays, respectively, to impute genotypes for 2,543,686 autosomal SNPs with reference to HapMap CEU linkage disequilibrium patterns.']\n"
     ]
    }
   ],
   "source": [
    "import lxml.etree as et\n",
    "with open('../data/db/papers/19305408.xml') as f:\n",
    "    for i,doc in enumerate(et.parse(f).xpath('./*')):\n",
    "        print doc\n",
    "#         print doc.xpath('.//abstract/p//text() | .//front//article-title//text()')\n",
    "        print doc.xpath('.//body/p[1]//text()')"
   ]
  },
  {
   "cell_type": "code",
   "execution_count": 6,
   "metadata": {
    "collapsed": false
   },
   "outputs": [
    {
     "name": "stdout",
     "output_type": "stream",
     "text": [
      "CPU times: user 1.85 s, sys: 195 ms, total: 2.04 s\n",
      "Wall time: 17.2 s\n"
     ]
    }
   ],
   "source": [
    "from snorkel.parser import HTMLParser\n",
    "from snorkel.parser import SentenceParser\n",
    "from snorkel.parser import CorpusParser\n",
    "import cPickle\n",
    "\n",
    "sent_parser = SentenceParser()\n",
    "html_parser = HTMLParser(path='../data/db/papers/')\n",
    "\n",
    "corpus_name = 'gwas-text-corpus.pkl'\n",
    "\n",
    "try:\n",
    "    with open(corpus_name,\"r\") as pkl:\n",
    "        corpus = cPickle.load(pkl)\n",
    "except:\n",
    "    cp = CorpusParser(xml_parser, sent_parser, max_docs=100)\n",
    "    %time corpus = cp.parse_corpus(name='GWAS Corpus')\n",
    "    # pickling currently doesn't work...\n",
    "#     with open(corpus_name,\"w\") as pkl:\n",
    "#         corpus = cPickle.dump(corpus, pkl)"
   ]
  },
  {
   "cell_type": "markdown",
   "metadata": {
    "collapsed": true
   },
   "source": [
    "Test the results:"
   ]
  },
  {
   "cell_type": "code",
   "execution_count": 7,
   "metadata": {
    "collapsed": false
   },
   "outputs": [
    {
     "name": "stdout",
     "output_type": "stream",
     "text": [
      "Document('17684544', Corpus (GWAS Corpus))\n"
     ]
    }
   ],
   "source": [
    "doc = corpus.documents[2]\n",
    "print doc\n",
    "\n",
    "for doc in corpus.documents:\n",
    "    if doc.name is None: \n",
    "        print doc"
   ]
  },
  {
   "cell_type": "code",
   "execution_count": 8,
   "metadata": {
    "collapsed": false
   },
   "outputs": [
    {
     "name": "stdout",
     "output_type": "stream",
     "text": [
      "Sentence(Document('17447842', Corpus (GWAS Corpus)), 0, u'Novel Crohn Disease Locus Identified by Genome-Wide Association Maps to a Gene Desert on 5p13.1 and Modulates Expression of  PTGER4 To identify novel susceptibility loci for Crohn disease (CD), we undertook a genome-wide association study with more than 300,000 SNPs characterized in 547 patients and 928 controls.')\n"
     ]
    }
   ],
   "source": [
    "sent = corpus.get_sentences()[0]\n",
    "print sent"
   ]
  },
  {
   "cell_type": "markdown",
   "metadata": {},
   "source": [
    "## Try extracting rs-ids first"
   ]
  },
  {
   "cell_type": "code",
   "execution_count": 9,
   "metadata": {
    "collapsed": false
   },
   "outputs": [],
   "source": [
    "# add new paths\n",
    "sys.path.append('../src/crawler')\n",
    "sys.path.append('../src/crawler/db')\n",
    "\n",
    "# import new libs\n",
    "from kb import KnowledgeBase\n",
    "from extractor.util import gold_rsid_stats, gold_rsid_precision\n",
    "\n",
    "from snorkel.candidates import Ngrams\n",
    "from snorkel.matchers import DictionaryMatch, RegexMatchSpan, Union\n",
    "from snorkel.candidates import EntityExtractor\n",
    "\n",
    "# from snorkel.candidates import Candidates"
   ]
  },
  {
   "cell_type": "markdown",
   "metadata": {},
   "source": [
    "### Create a gold set"
   ]
  },
  {
   "cell_type": "markdown",
   "metadata": {},
   "source": [
    "Get a list of all the rs-ids we know."
   ]
  },
  {
   "cell_type": "code",
   "execution_count": 10,
   "metadata": {
    "collapsed": true
   },
   "outputs": [],
   "source": [
    "kb = KnowledgeBase()"
   ]
  },
  {
   "cell_type": "code",
   "execution_count": 11,
   "metadata": {
    "collapsed": false
   },
   "outputs": [
    {
     "name": "stdout",
     "output_type": "stream",
     "text": [
      "rs4950928\n"
     ]
    }
   ],
   "source": [
    "rs_ids = kb.get_rsid_candidates()\n",
    "print rs_ids[0]"
   ]
  },
  {
   "cell_type": "markdown",
   "metadata": {},
   "source": [
    "Get a gold set:"
   ]
  },
  {
   "cell_type": "code",
   "execution_count": 12,
   "metadata": {
    "collapsed": false
   },
   "outputs": [],
   "source": [
    "gold_set = frozenset( [ (doc.name, rs_id) for doc in corpus.documents for rs_id in kb.rsids_by_pmid(int(doc.name)) ] )"
   ]
  },
  {
   "cell_type": "code",
   "execution_count": 13,
   "metadata": {
    "collapsed": false
   },
   "outputs": [],
   "source": [
    "gold_set_rsids = [rs_id for doc_id, rs_id in gold_set]"
   ]
  },
  {
   "cell_type": "markdown",
   "metadata": {},
   "source": [
    "### Extract candidates:"
   ]
  },
  {
   "cell_type": "code",
   "execution_count": 14,
   "metadata": {
    "collapsed": false
   },
   "outputs": [
    {
     "name": "stdout",
     "output_type": "stream",
     "text": [
      "CPU times: user 717 ms, sys: 56.4 ms, total: 773 ms\n",
      "Wall time: 739 ms\n",
      "Span(\"rs9930506\", context=None, chars=[23,31], words=[5,5])\n",
      "Span(\"rs6602024\", context=None, chars=[22,30], words=[5,5])\n",
      "Span(\"rs9930506\", context=None, chars=[121,129], words=[23,23])\n",
      "Span(\"rs6602024\", context=None, chars=[41,49], words=[6,6])\n",
      "Span(\"rs1793004\", context=None, chars=[17,25], words=[4,4])\n",
      "Span(\"rs1992660\", context=None, chars=[169,177], words=[35,35])\n",
      "Span(\"rs6855911\", context=None, chars=[4,12], words=[1,1])\n",
      "Span(\"rs6855911\", context=None, chars=[46,54], words=[7,7])\n",
      "Span(\"rs7341475\", context=None, chars=[44,52], words=[6,6])\n",
      "Span(\"rs7341475\", context=None, chars=[11,19], words=[2,2])\n",
      "125 candidates extracted\n"
     ]
    }
   ],
   "source": [
    "from snorkel.candidates import EntityExtractor\n",
    "# Define a candidate space\n",
    "ngrams = Ngrams(n_max=1)\n",
    "\n",
    "# Define matchers\n",
    "dict_rsid_matcher = DictionaryMatch(d=rs_ids, longest_match_only=False)\n",
    "gold_rsid_matcher = DictionaryMatch(d=gold_set_rsids, longest_match_only=False)\n",
    "regx_rsid_matcher = RegexMatchSpan(rgx=r'rs\\d+')\n",
    "rsid_matcher = Union(dict_rsid_matcher, regx_rsid_matcher)\n",
    "\n",
    "rsid_extractor = EntityExtractor(ngrams, rsid_matcher)\n",
    "%time rsid_c = rsid_extractor.extract(corpus.get_sentences(), name='all')\n",
    "for cand in rsid_c[:10]: \n",
    "    print cand\n",
    "print \"%s candidates extracted\" % len(rsid_c)\n",
    "\n",
    "# # collect candidates\n",
    "# %time gold_dict_c = Candidates(ngrams, gold_rsid_matcher, corpus.get_contexts())\n",
    "# %time rsid_c = Candidates(ngrams, rsid_matcher, corpus.get_contexts())"
   ]
  },
  {
   "cell_type": "markdown",
   "metadata": {},
   "source": [
    "### Statistics"
   ]
  },
  {
   "cell_type": "markdown",
   "metadata": {},
   "source": [
    "Statistics on all the rsid candidates:"
   ]
  },
  {
   "cell_type": "code",
   "execution_count": 15,
   "metadata": {
    "collapsed": false
   },
   "outputs": [
    {
     "name": "stdout",
     "output_type": "stream",
     "text": [
      "# of gold annotations\t= 830\n",
      "# of candidates\t\t= 105\n",
      "Candidate recall\t= 0.093\n",
      "Candidate precision\t= 0.733\n"
     ]
    }
   ],
   "source": [
    "gold_rsid_stats(rsid_c, gold_set)"
   ]
  },
  {
   "cell_type": "markdown",
   "metadata": {},
   "source": [
    "Statistics on the candidates extracted via dictionary matching.\n",
    "\n",
    "Recall is how many SNPs in the gold set are actually mentioned in the abstract/txt.\n",
    "Precision is how many recovered SNPs are also found in the gold set.\n",
    "\n",
    "The gold set are (pmid, rsid) tuples, so in some cases, there are papers where there is a mention of an rsid from another paper, but this new mention is not recorded in the gold set."
   ]
  },
  {
   "cell_type": "code",
   "execution_count": 16,
   "metadata": {
    "collapsed": false
   },
   "outputs": [],
   "source": [
    "# gold_rsid_stats(gold_dict_c.get_candidates(), gold_set)"
   ]
  },
  {
   "cell_type": "markdown",
   "metadata": {},
   "source": [
    "Some debugging on the largest rsID candate set:"
   ]
  },
  {
   "cell_type": "code",
   "execution_count": 17,
   "metadata": {
    "collapsed": false
   },
   "outputs": [
    {
     "name": "stdout",
     "output_type": "stream",
     "text": [
      "Span(\"rs6602024\", context=None, chars=[22,30], words=[5,5])\n",
      "Within the PFKP gene, rs6602024 showed very strong association with BMI ( p =  4.9 × 10 − 6 ).\n",
      "Span(\"rs6602024\", context=None, chars=[41,49], words=[6,6])\n",
      "We did not replicate association between rs6602024 and obesity-related traits in the GenNet sample, although we found that in European Americans, Hispanic Americans, and African Americans, homozygotes for the rare “A” allele were, on average, 1.0–3.0 BMI units heavier than homozygotes for the more common “G” allele.\n",
      "Span(\"rs11209026\", context=None, chars=[151,160], words=[25,25])\n",
      "We replicated the previously reported association with interleukin 23 receptor and interleukin 12B (IL12B) polymorphisms in PS and PSA cohorts (IL23R: rs11209026, U.S. PS, P = 1.4×10 −4 ; U.K. PSA: P = 8.0×10 −4 ; IL12B:rs6887695, U.S. PS, P = 5×10 −5  and U.K. PSA, P = 1.3×10 −3 ) and detected an independent association in the IL23R region with a SNP 4 kb upstream from IL12RB2 (P = 0.001).\n",
      "Span(\"rs6887695\", context=None, chars=[220,228], words=[51,51])\n",
      "We replicated the previously reported association with interleukin 23 receptor and interleukin 12B (IL12B) polymorphisms in PS and PSA cohorts (IL23R: rs11209026, U.S. PS, P = 1.4×10 −4 ; U.K. PSA: P = 8.0×10 −4 ; IL12B:rs6887695, U.S. PS, P = 5×10 −5  and U.K. PSA, P = 1.3×10 −3 ) and detected an independent association in the IL23R region with a SNP 4 kb upstream from IL12RB2 (P = 0.001).\n",
      "Span(\"rs6701216\", context=None, chars=[379,387], words=[77,77])\n",
      "Novel associations replicated in the U.S. PS cohort included the region harboring lipoma HMGIC fusion partner (LHFP) and conserved oligomeric golgi complex component 6 (COG6) genes on chromosome 13q13 (combined P = 2×10 −6  for rs7993214; OR = 0.71), the late cornified envelope gene cluster (LCE) from the Epidermal Differentiation Complex (PSORS4) (combined P = 6.2×10 −5  for rs6701216; OR 1.45) and a region of LD at 15q21 (combined P = 2.9×10 −5  for rs3803369; OR = 1.43).\n"
     ]
    }
   ],
   "source": [
    "strange_ngrams = gold_rsid_precision(rsid_c, gold_set)\n",
    "gold_dict = dict(gold_set)\n",
    "for ngram in strange_ngrams[:5]:\n",
    "    print ngram\n",
    "    # print corpus.get_doc(ngram.doc_id)\n",
    "    print ngram.context.text"
   ]
  },
  {
   "cell_type": "markdown",
   "metadata": {
    "collapsed": true
   },
   "source": [
    "## Get candidate p-values"
   ]
  },
  {
   "cell_type": "markdown",
   "metadata": {},
   "source": [
    "Need to use regular expressions for this."
   ]
  },
  {
   "cell_type": "code",
   "execution_count": 18,
   "metadata": {
    "collapsed": true
   },
   "outputs": [],
   "source": [
    "from snorkel.matchers import RegexMatchSpan"
   ]
  },
  {
   "cell_type": "markdown",
   "metadata": {},
   "source": [
    "Test out the regexp."
   ]
  },
  {
   "cell_type": "code",
   "execution_count": 19,
   "metadata": {
    "collapsed": false
   },
   "outputs": [
    {
     "name": "stdout",
     "output_type": "stream",
     "text": [
      "CPU times: user 4.06 s, sys: 40.1 ms, total: 4.1 s\n",
      "Wall time: 4.12 s\n"
     ]
    }
   ],
   "source": [
    "from extractor.matcher import PvalMatcher\n",
    "rgx1 = u'[1-9]\\d?[\\xb7\\.]?\\d*\\s*[\\xd7\\*]\\s*10\\s*[-\\u2212\\u2013]\\s*\\d+'\n",
    "pval_rgx_matcher1 = RegexMatchSpan(rgx=rgx1)\n",
    "rgx2 = u'[1-9]\\d?[\\xb7\\.]?\\d*\\s*[eE][-\\u2212\\u2013]\\d+'\n",
    "pval_rgx_matcher2 = RegexMatchSpan(rgx=rgx2)\n",
    "rgx3 = u'0\\.0000+\\d+'\n",
    "pval_rgx_matcher3 = RegexMatchSpan(rgx=rgx3)\n",
    "pval_matcher = Union(pval_rgx_matcher1, pval_rgx_matcher2, pval_rgx_matcher3)\n",
    "# pval_matcher = PvalMatcher()\n",
    "ngrams = Ngrams(n_max=7)\n",
    "pval_extractor = EntityExtractor(ngrams, pval_matcher)\n",
    "\n",
    "%time pval_c = pval_extractor.extract(corpus.get_sentences(), name='all')"
   ]
  },
  {
   "cell_type": "code",
   "execution_count": 20,
   "metadata": {
    "collapsed": false
   },
   "outputs": [
    {
     "name": "stdout",
     "output_type": "stream",
     "text": [
      "Got 209 candidates, e.g.:\n",
      "Span(\"4 × 10 −4\", context=None, chars=[43,51], words=[7,11])\n",
      "Span(\"8.6 ×10 − 7\", context=None, chars=[82,92], words=[15,19])\n",
      "Span(\"3.4 × 10 − 8\", context=None, chars=[122,133], words=[27,31])\n",
      "Span(\"9.1 × 10 − 7\", context=None, chars=[156,167], words=[39,43])\n",
      "Span(\"4.9 × 10 − 6\", context=None, chars=[79,90], words=[15,19])\n"
     ]
    }
   ],
   "source": [
    "print 'Got %d candidates, e.g.:' % len(pval_c)\n",
    "for candidate in pval_c[:5]:\n",
    "    print unicode(candidate)"
   ]
  },
  {
   "cell_type": "markdown",
   "metadata": {},
   "source": [
    "### Statistics"
   ]
  },
  {
   "cell_type": "markdown",
   "metadata": {},
   "source": [
    "First, how many p-values that should be present do we extract?"
   ]
  },
  {
   "cell_type": "code",
   "execution_count": 21,
   "metadata": {
    "collapsed": false
   },
   "outputs": [
    {
     "name": "stdout",
     "output_type": "stream",
     "text": [
      "6.2e-05\n",
      "1.85e-20\n"
     ]
    }
   ],
   "source": [
    "# we need to define a p-value -> float converter\n",
    "from extractor.util import pvalue_to_float, gold_pval_stats, gold_pval_precision\n",
    "\n",
    "print pvalue_to_float(u\"6.2×10 −5\")\n",
    "print pvalue_to_float(u\"1.85×10 −20\")"
   ]
  },
  {
   "cell_type": "code",
   "execution_count": 22,
   "metadata": {
    "collapsed": false
   },
   "outputs": [],
   "source": [
    "from kb import KnowledgeBase\n",
    "kb = KnowledgeBase()\n",
    "gold_set_pvals = frozenset([ (doc.name, pval) for doc in corpus.documents for pval in kb.pvals_by_pmid(int(doc.name)) ])\n"
   ]
  },
  {
   "cell_type": "code",
   "execution_count": 23,
   "metadata": {
    "collapsed": false
   },
   "outputs": [
    {
     "name": "stdout",
     "output_type": "stream",
     "text": [
      "Found 674 gold mentions, e.g.:\n",
      "[('19668339', 7e-06), ('17903294', 1e-06), ('19305408', 5.0000000000000005e-22), ('17903292', 8e-06), ('18464913', 3e-06)]\n",
      "\n",
      "# of gold annotations\t= 388\n",
      "# of candidates\t\t= 161\n",
      "Candidate recall\t= 0.240\n",
      "Candidate precision\t= 0.578\n",
      "None\n"
     ]
    }
   ],
   "source": [
    "print 'Found %d gold mentions, e.g.:' % len(gold_set_pvals)\n",
    "print list(gold_set_pvals)[:5]\n",
    "print\n",
    "\n",
    "print gold_pval_stats(pval_c, gold_set_pvals)"
   ]
  },
  {
   "cell_type": "markdown",
   "metadata": {},
   "source": [
    "Some debugging..."
   ]
  },
  {
   "cell_type": "code",
   "execution_count": 24,
   "metadata": {
    "collapsed": false
   },
   "outputs": [
    {
     "name": "stdout",
     "output_type": "stream",
     "text": [
      "Span(\"4 × 10 −4\", context=None, chars=[43,51], words=[7,11])\n",
      "Significant evidence of association ( p  < 4 × 10 −4 ) was found in case/control comparisons with the replication data, while associated alleles were over-transmitted to affected offspring ( p  < 0.05), thus confirming that the 5p13.1 locus contributes to CD susceptibility.\n",
      "[1e-06, 2e-18, 2e-12]\n",
      "\n",
      "Span(\"4.9 × 10 − 6\", context=None, chars=[79,90], words=[15,19])\n",
      "Within the PFKP gene, rs6602024 showed very strong association with BMI ( p =  4.9 × 10 − 6 ).\n",
      "[9e-07, 3.0000000000000004e-08]\n",
      "\n",
      "Span(\"6.05 × 10 −11\", context=None, chars=[120,132], words=[29,33])\n",
      "SNP rs6855911 showed the strongest association ( p  = 1.84 × 10 −16 ), along with eight others ( p  = 7.75 × 10 −16  to 6.05 × 10 −11 ).\n",
      "[2e-16]\n",
      "\n",
      "Span(\"2.9 × 10 −5\", context=None, chars=[115,125], words=[24,28])\n",
      "We found a female-specific association with rs7341475, a SNP in the fourth intron of the reelin (RELN) gene ( p  = 2.9 × 10 −5  in women), with a significant gene-sex effect ( p  = 1.8 × 10 −4 ).\n",
      "[9e-07]\n",
      "\n",
      "Span(\"1.8 × 10 −4\", context=None, chars=[181,191], words=[41,45])\n",
      "We found a female-specific association with rs7341475, a SNP in the fourth intron of the reelin (RELN) gene ( p  = 2.9 × 10 −5  in women), with a significant gene-sex effect ( p  = 1.8 × 10 −4 ).\n",
      "[9e-07]\n",
      "\n"
     ]
    }
   ],
   "source": [
    "gold_pval_dict = { doc_id : [] for doc_id, pval in gold_set_pvals }\n",
    "for doc_id, pval in gold_set_pvals:\n",
    "    gold_pval_dict[doc_id].append(pval)\n",
    "    \n",
    "strange_ngrams = gold_pval_precision(pval_c, gold_set_pvals)\n",
    "for ngram in strange_ngrams[:5]:\n",
    "    print unicode(ngram)\n",
    "    print ngram.context.text\n",
    "    print gold_pval_dict[ngram.context.document.name]\n",
    "    print"
   ]
  },
  {
   "cell_type": "markdown",
   "metadata": {},
   "source": [
    "Potential analysis question: how many rsIDs that we extracted earlier also have an associated p-value?\n",
    "\n",
    "We will say that if an rsID and a p-value occur in the same document, they have been identified correctly.\n",
    "\n",
    "So we extract from our gold set tuples of the form (pmid, rsID, p-value). We compare them to candidate tuples, where an rsID and a p-value are associated if they occur in the same sentence.\n",
    "\n",
    "This seems like something to be checked at the relation extraction stage."
   ]
  },
  {
   "cell_type": "markdown",
   "metadata": {
    "collapsed": true
   },
   "source": [
    "## Extract phenotypes"
   ]
  },
  {
   "cell_type": "code",
   "execution_count": 52,
   "metadata": {
    "collapsed": false
   },
   "outputs": [
    {
     "name": "stdout",
     "output_type": "stream",
     "text": [
      "CPU times: user 15.8 s, sys: 97.7 ms, total: 15.9 s\n",
      "Wall time: 15.9 s\n"
     ]
    }
   ],
   "source": [
    "from extractor.util import change_name\n",
    "# Define a candidate space\n",
    "ngrams = Ngrams(n_max=4)\n",
    "\n",
    "# collect phenotype list\n",
    "from db.kb import KnowledgeBase\n",
    "kb = KnowledgeBase()\n",
    "# phenotype_list = kb.get_phenotype_candidates(mod_fn=change_name)\n",
    "# TODO: load disease names from NCBI\n",
    "\n",
    "# Define matchers\n",
    "from snorkel.matchers import DictionaryMatch\n",
    "from extractor.matcher import PhenotypeMatcher\n",
    "# phen_matcher = DictionaryMatch(d=phenotype_list, longest_match_only=True, ignore_case=True, stemmer='porter')\n",
    "phen_matcher = PhenotypeMatcher(d=phenotype_list, ignore_case=True, mod_fn=change_name)\n",
    "\n",
    "# Extractor\n",
    "ngrams = Ngrams(n_max=7)\n",
    "phen_extractor = EntityExtractor(ngrams, phen_matcher)\n",
    "\n",
    "# collect candidates\n",
    "%time phen_c = phen_extractor.extract(corpus.get_sentences(), name='all')"
   ]
  },
  {
   "cell_type": "code",
   "execution_count": 53,
   "metadata": {
    "collapsed": false
   },
   "outputs": [
    {
     "name": "stdout",
     "output_type": "stream",
     "text": [
      "10765 10766\n"
     ]
    }
   ],
   "source": [
    "# remove tested candidates\n",
    "\n",
    "# load existing candidates into a dict\n",
    "span_dict = { str(span.context) : list() for span in phen_c }\n",
    "for span in pval_c:\n",
    "    span_dict[str(span.context)].append( (span.char_start, span.char_end) )\n",
    "\n",
    "def nested(ivl1, ivl2):\n",
    "    if ivl1 != ivl2 and ivl2[0] <= ivl1[0] <= ivl1[1] <= ivl2[1]:\n",
    "        return True\n",
    "    else:\n",
    "        return False\n",
    "\n",
    "new_phen_c = list()\n",
    "for span in phen_c:\n",
    "    span_ivl = span.char_start, span.char_end\n",
    "    span_name = str(span.context)\n",
    "    if all([not nested(span_ivl, other_ivl) for other_ivl in span_dict[span_name]]):\n",
    "        new_phen_c.append(span)\n",
    "\n",
    "print len(new_phen_c), len(phen_c)\n",
    "phen_c = new_phen_c"
   ]
  },
  {
   "cell_type": "code",
   "execution_count": 54,
   "metadata": {
    "collapsed": false
   },
   "outputs": [
    {
     "name": "stdout",
     "output_type": "stream",
     "text": [
      "Got 10765 candidates, e.g.:\n",
      "Span(\"(CD),\", context=None, chars=[188,192], words=[29,32])\n",
      "Span(\"CD),\", context=None, chars=[189,192], words=[30,32])\n",
      "Span(\"Crohn Disease\", context=None, chars=[6,18], words=[1,2])\n",
      "Span(\"Crohn disease\", context=None, chars=[174,186], words=[27,28])\n",
      "Span(\"(CD\", context=None, chars=[188,190], words=[29,30])\n"
     ]
    }
   ],
   "source": [
    "print 'Got %d candidates, e.g.:' % len(phen_c)\n",
    "for candidate in phen_c[:5]:\n",
    "    print candidate"
   ]
  },
  {
   "cell_type": "markdown",
   "metadata": {},
   "source": [
    "### Statistics"
   ]
  },
  {
   "cell_type": "code",
   "execution_count": 55,
   "metadata": {
    "collapsed": false
   },
   "outputs": [
    {
     "name": "stdout",
     "output_type": "stream",
     "text": [
      "Found 322 gold mentions, e.g.:\n",
      "[('17658951', u'http://www.ebi.ac.uk/efo/EFO_0004764'), ('17903294', u'http://purl.obolibrary.org/obo/GO_0070527'), ('20038947', u'http://www.ebi.ac.uk/efo/EFO_0003761'), ('19197348', u'http://www.ebi.ac.uk/efo/EFO_0004748'), ('17658951', u'http://www.ebi.ac.uk/efo/EFO_0004626')]\n",
      "833 216\n"
     ]
    }
   ],
   "source": [
    "from db.kb import KnowledgeBase\n",
    "from nltk.stem import PorterStemmer\n",
    "from extractor.util import change_name\n",
    "\n",
    "kb = KnowledgeBase() # reload\n",
    "gold_set_phens = frozenset ([ \n",
    "    (doc.name, phen.ontology_ref) for doc in corpus.documents \n",
    "                                  for phen in kb.phen_by_pmid(int(doc.name))\n",
    "])\n",
    "\n",
    "# map phenotype names to their id\n",
    "stemmer = PorterStemmer()\n",
    "phen2id = {\n",
    "    change_name(syn) : phen.ontology_ref for doc in corpus.documents\n",
    "                                                  for phen in kb.phen_by_pmid(doc.name)\n",
    "                                                  for syn in [phen.name] + phen.synonyms.split('|')\n",
    "}\n",
    "id2phen = {\n",
    "    phen.ontology_ref : phen for doc in corpus.documents\n",
    "                             for phen in kb.phen_by_pmid(doc.name)\n",
    "}\n",
    "\n",
    "print 'Found %d gold mentions, e.g.:' % len(gold_set_phens)\n",
    "print list(gold_set_phens)[:5]\n",
    "print len(phen2id), len(id2phen)"
   ]
  },
  {
   "cell_type": "code",
   "execution_count": 56,
   "metadata": {
    "collapsed": false
   },
   "outputs": [
    {
     "name": "stdout",
     "output_type": "stream",
     "text": [
      "103 10468\n"
     ]
    }
   ],
   "source": [
    "gt_dict_pos = dict()\n",
    "gt_dict_neg = dict()\n",
    "for span in phen_c:\n",
    "    phen_id = phen2id.get(span.get_span(), None)\n",
    "    if (span.context.document.name, phen_id) in gold_set_phens:\n",
    "        gt_dict_pos[span.uid] = +1\n",
    "    else:\n",
    "        gt_dict_neg[span.uid] = -1\n",
    "\n",
    "print len(gt_dict_pos), len(gt_dict_neg)\n",
    "gt_dict = dict(gt_dict_pos.items() + gt_dict_neg.items())"
   ]
  },
  {
   "cell_type": "code",
   "execution_count": 57,
   "metadata": {
    "collapsed": false
   },
   "outputs": [
    {
     "name": "stdout",
     "output_type": "stream",
     "text": [
      "# of gold annotations\t= 322\n",
      "# of candidates\t\t= 10765\n",
      "Candidate recall\t= 0.323\n",
      "Candidate precision\t= 0.010\n"
     ]
    }
   ],
   "source": [
    "from extractor.util import gold_phen_stats\n",
    "gold_phen_stats(phen_c, gold_set_phens, phen2id)"
   ]
  },
  {
   "cell_type": "markdown",
   "metadata": {},
   "source": [
    "Why do we get low recall?"
   ]
  },
  {
   "cell_type": "code",
   "execution_count": 59,
   "metadata": {
    "collapsed": false
   },
   "outputs": [
    {
     "name": "stdout",
     "output_type": "stream",
     "text": [
      "igfbp-3 measurement\n",
      "Sentence(Document('17658951', Corpus (GWAS Corpus)), 0, u'Genome-Wide Association Scan Shows Genetic Variants in the  FTO  Gene Are Associated with Obesity-Related Traits The obesity epidemic is responsible for a substantial economic burden in developed countries and is a major risk factor for type 2 diabetes and cardiovascular disease.')\n"
     ]
    }
   ],
   "source": [
    "from extractor.util import gold_phen_recall\n",
    "\n",
    "gold_dict_phen = { doc_id : set() for doc_id, phen_id in gold_set_phens }\n",
    "for doc_id, phen_id in gold_set_phens:\n",
    "    gold_dict_phen[doc_id].add(phen_id)\n",
    "    \n",
    "phen_not_found = list(gold_phen_recall(phen_c, gold_set_phens, phen2id))\n",
    "doc_id, phen_id = phen_not_found[2]\n",
    "print id2phen[phen_id].name \n",
    "print doc2id[doc_id].sentences[0]\n",
    "for span in ngrams.apply(doc2id[doc_id].sentences[0]):\n",
    "    print span.get_span()\n",
    "    if phen_matcher._f(span):    \n",
    "        phen_name = span.get_span()\n",
    "        print phen_name\n",
    "        phen_id = phen2id.get(change_name(phen_name), None)\n",
    "        print phen_id\n",
    "        if not phen_id or phen_id not in gold_dict_phen[span.context.document.name]:\n",
    "            print span.context.document.name, phen_id\n",
    "            print gold_dict_phen[span.context.document.name]\n",
    "        print\n"
   ]
  },
  {
   "cell_type": "code",
   "execution_count": 60,
   "metadata": {
    "collapsed": false
   },
   "outputs": [
    {
     "data": {
      "text/plain": [
       "True"
      ]
     },
     "execution_count": 60,
     "metadata": {},
     "output_type": "execute_result"
    }
   ],
   "source": [
    "change_name('waist circumference') in phenotype_list"
   ]
  },
  {
   "cell_type": "code",
   "execution_count": 61,
   "metadata": {
    "collapsed": false
   },
   "outputs": [
    {
     "name": "stdout",
     "output_type": "stream",
     "text": [
      "218\n",
      "19798445\n",
      "blood metabolite measurement http://www.ebi.ac.uk/efo/EFO_0005664\n",
      "sphingolipid measurement http://www.ebi.ac.uk/efo/EFO_0004622\n",
      "blood metabolite measurement http://www.ebi.ac.uk/efo/EFO_0005664\n",
      "\n",
      "Genetic determinants of circulating sphingolipid concentrations in European populations.\n",
      "Genetic Determinants of Circulating Sphingolipid Concentrations in European Populations Sphingolipids have essential roles as structural components of cell membranes and in cell signalling, and disruption of their metabolism causes several diseases, with diverse neurological, psychiatric, and metabolic consequences. Increasingly, variants within a few of the genes that encode enzymes involved in sphingolipid metabolism are being associated with complex disease phenotypes. Direct experimental evidence supports a role of specific sphingolipid species in several common complex chronic disease processes including atherosclerotic plaque formation, myocardial infarction (MI), cardiomyopathy, pancreatic β-cell failure, insulin resistance, and type 2 diabetes mellitus. Therefore, sphingolipids represent novel and important intermediate phenotypes for genetic analysis, yet little is known about the major genetic variants that influence their circulating levels in the general population. We performed a genome-wide association study (GWAS) between 318,237 single-nucleotide polymorphisms (SNPs) and levels of circulating sphingomyelin (SM), dihydrosphingomyelin (Dih-SM), ceramide (Cer), and glucosylceramide (GluCer) single lipid species (33 traits); and 43 matched metabolite ratios measured in 4,400 subjects from five diverse European populations. Associated variants (32) in five genomic regions were identified with genome-wide significant corrected  p -values ranging down to 9.08×10 −66 . The strongest associations were observed in or near 7 genes functionally involved in ceramide biosynthesis and trafficking:  SPTLC3 ,  LASS4 ,  SGPP1 ,  ATP10D , and  FADS1–3 . Variants in 3 loci ( ATP10D ,  FADS3 , and  SPTLC3 ) associate with MI in a series of three German MI studies. An additional 70 variants across 23 candidate genes involved in sphingolipid-metabolizing pathways also demonstrate association ( p  = 10 −4  or less). Circulating concentrations of several key components in sphingolipid metabolism are thus under strong genetic control, and variants in these loci can be tested for a role in the development of common cardiovascular, metabolic, neurological, and psychiatric diseases. Although several rare monogenic diseases are caused by defects in enzymes involved in sphingolipid biosynthesis and metabolism, little is known about the major variants that control the circulating levels of these important bioactive molecules. As well as being essential components of plasma membranes and endosomes, sphingolipids play critical roles in cell surface protection, protein and lipid transport and sorting, and cellular signalling cascades. Experimental evidence supports a role for sphingolipids in several common complex chronic metabolic, cardiovascular, or neurological disease processes. Therefore, sphingolipids represent novel and important intermediate phenotypes for genetic analysis, and discovering the genetic variants that influence their circulating concentrations is an important step towards understanding how the genetic control of sphingolipids might contribute to common human disease. We have identified 32 variants in 7 genes that have a strong effect on the circulating plasma levels of 33 distinct sphingolipids, and 43 matched metabolite ratios. In a series of 3 German MI studies, we see association with MI for variants in 3 of the genes tested. Further cardiovascular, metabolic, neurological, and psychiatric disease associations can be tested with the variants described here, which may identify additional disease risk and potentially useful therapeutic targets.\n",
      "\n",
      "17903300\n",
      "waist circumference http://www.ebi.ac.uk/efo/EFO_0004342\n",
      "body mass index http://www.ebi.ac.uk/efo/EFO_0004340\n",
      "longitudinal bmi measurement http://www.ebi.ac.uk/efo/EFO_0005937\n",
      "longitudinal bmi measurement http://www.ebi.ac.uk/efo/EFO_0005937\n",
      "body mass index change measurement\n",
      "Genome-wide association to body mass index and waist circumference: the Framingham Heart Study 100K project.\n",
      "Genome-wide association to body mass index and waist circumference: the Framingham Heart Study 100K project\n",
      "\n",
      "17903296\n",
      "bone density http://www.ebi.ac.uk/efo/EFO_0003923\n",
      "hip geometry http://www.ebi.ac.uk/efo/EFO_0004685\n",
      "bone density http://www.ebi.ac.uk/efo/EFO_0003923\n",
      "density, bone mineral|bone densities|bone mineral density|bone mineral densities|density, bone|bmd\n",
      "Genome-wide association with bone mass and geometry in the Framingham Heart Study.\n",
      "Genome-wide association with bone mass and geometry in the Framingham Heart Study\n",
      "\n",
      "19454037\n",
      "left ventricular hypertrophy http://www.ebi.ac.uk/efo/EFO_0003896\n",
      "cardiovascular measurement http://www.ebi.ac.uk/efo/EFO_0004298\n",
      "cardiovascular measurement http://www.ebi.ac.uk/efo/EFO_0004298\n",
      "diagnostic techniques, cardiovascular|cardiovascular diagnostic technique\n",
      "Genome-wide association study identifies single-nucleotide polymorphism in KCNB1 associated with left ventricular mass in humans: the HyperGEN Study.\n",
      "Genome-wide association study identifies single-nucleotide polymorphism in  KCNB1  associated with left ventricular mass in humans: The HyperGEN Study\n",
      "\n",
      "17903305\n",
      "prostate carcinoma http://www.ebi.ac.uk/efo/EFO_0001663\n",
      "breast carcinoma http://www.ebi.ac.uk/efo/EFO_0000305\n",
      "breast carcinoma http://www.ebi.ac.uk/efo/EFO_0000305\n",
      "breast neoplasms|neoplasm, breast|ca - carcinoma of breast|human mammary carcinomas|breast tumor|mammary neoplasms, human|human mammary neoplasm|cancer of breast|neoplasms, human mammary|carcinoma of breast|neoplasm, human mammary|carcinoma of breast nos|tumors, breast|mammary carcinoma, human|carcinoma, human mammary|neoplasms, breast|carcinoma of the breast|carcinoma of breast nos (disorder)|carcinoma of breast (disorder)|human mammary neoplasms|breast neopl|breast tumors|human mammary carcinoma|cancer, breast|breast cancer|tumor, breast|mammary carcinomas, human|breast neoplasm|cancer of the breast|neopl breast|carcinomas, human mammary|mammary neoplasm, human|mammary carcinoma\n",
      "A genome-wide association study of breast and prostate cancer in the NHLBI's Framingham Heart Study.\n",
      "A genome-wide association study of breast and prostate cancer in the NHLBI's Framingham Heart Study\n",
      "\n",
      "19570815\n",
      "body height http://www.ebi.ac.uk/efo/EFO_0004339\n",
      "anthropometry http://www.ebi.ac.uk/efo/EFO_0004302\n",
      "anthropometry http://www.ebi.ac.uk/efo/EFO_0004302\n",
      "anthropometric traits\n",
      "A genome-wide association study of northwestern Europeans involves the C-type natriuretic peptide signaling pathway in the etiology of human height variation.\n",
      "A genome-wide association study of northwestern Europeans involves the C-type natriuretic peptide signaling pathway in the etiology of human height variation Northwestern Europeans are among the tallest of human populations. The increase in body height in these people appears to have reached a plateau, suggesting the ubiquitous presence of an optimal environment in which genetic factors may have exerted a particularly strong influence on human growth. Therefore, we performed a genome-wide association study (GWAS) of body height using 2.2 million markers in 10 074 individuals from three Dutch and one German population-based cohorts. Upon genotyping, the 12 most significantly height-associated single nucleotide polymorphisms (SNPs) from this GWAS in 6912 additional individuals of Dutch and Swedish origin, a genetic variant (rs6717918) on chromosome 2q37.1 was found to be associated with height at a genome-wide significance level ( P combined  = 3.4 × 10 −9 ). Notably, a second SNP (rs6718438) located ∼450 bp away and in strong LD ( r 2  = 0.77) with rs6717918 was previously found to be suggestive of a height association in 29 820 individuals of mainly northwestern European ancestry, and the over-expression of a nearby natriuretic peptide precursor type C ( NPPC ) gene, has been associated with overgrowth and skeletal anomalies. We also found a SNP (rs10472828) located on 5p14 near the natriuretic peptide receptor 3 ( NPR3 ) gene, encoding a receptor of the NPPC ligand, to be associated with body height ( P combined  = 2.1 × 10 −7 ). Taken together, these results suggest that variation in the C-type natriuretic peptide signaling pathway, involving the  NPPC  and  NPR3  genes, plays an important role in determining human body height.\n",
      "\n",
      "19343178\n",
      "body height http://www.ebi.ac.uk/efo/EFO_0004339\n",
      "anthropometry http://www.ebi.ac.uk/efo/EFO_0004302\n",
      "anthropometry http://www.ebi.ac.uk/efo/EFO_0004302\n",
      "anthropometric traits\n",
      "Meta-analysis of genome-wide scans for human adult stature identifies novel Loci and associations with measures of skeletal frame size.\n",
      "Meta-Analysis of Genome-Wide Scans for Human Adult Stature Identifies Novel Loci and Associations with Measures of Skeletal Frame Size Recent genome-wide (GW) scans have identified several independent loci affecting human stature, but their contribution through the different skeletal components of height is still poorly understood. We carried out a genome-wide scan in 12,611 participants, followed by replication in an additional 7,187 individuals, and identified 17 genomic regions with GW-significant association with height. Of these, two are entirely novel (rs11809207 in  CATSPER4 , combined  P -value = 6.1×10 −8  and rs910316 in  TMED10 ,  P -value = 1.4×10 −7 ) and two had previously been described with weak statistical support (rs10472828 in  NPR3 ,  P -value = 3×10 −7  and rs849141 in  JAZF1 ,  P -value = 3.2×10 −11 ). One locus (rs1182188 at  GNA12 ) identifies the first height eQTL. We also assessed the contribution of height loci to the upper- (trunk) and lower-body (hip axis and femur) skeletal components of height. We find evidence for several loci associated with trunk length (including rs6570507 in  GPR126 ,  P -value = 4×10 −5  and rs6817306 in  LCORL ,  P -value = 4×10 −4 ), hip axis length (including rs6830062 at  LCORL ,  P -value = 4.8×10 −4  and rs4911494 at  UQCC ,  P -value = 1.9×10 −4 ), and femur length (including rs710841 at  PRKG2 ,  P -value = 2.4×10 −5  and rs10946808 at  HIST1H1D ,  P -value = 6.4×10 −6 ). Finally, we used conditional analyses to explore a possible differential contribution of the height loci to these different skeletal size measurements. In addition to validating four novel loci controlling adult stature, our study represents the first effort to assess the contribution of genetic loci to three skeletal components of height. Further statistical tests in larger numbers of individuals will be required to verify if the height loci affect height preferentially through these subcomponents of height. The first genetic association studies of adult height have confirmed a role of many common variants in influencing human height, but to date, the genetic basis of differences between different skeletal components of height have not been addressed. Here, we take advantage of recent technical and methodological advances to examine the role of common genetic variants on both height and skeletal components of height. By examining nearly 20,000 individuals from the UK and the Netherlands, we provide statistically significant evidence that 17 genomic regions are associated with height, including four novel regions. We also examine, for the first time, the association of these 17 regions with skeletal size measurements of spine, femur, and hip axis length, a measurement of hip geometry known to influence the risk of osteoporotic fractures. We find that some height loci are also associated with these skeletal components, although further statistical tests will be required to verify if these genetic variants act differentially on the individual skeletal measurements. The knowledge generated by this and other studies will not only inform the genetics of human quantitative variation, but will also lead to the potential discovery of many medically important polymorphisms.\n",
      "\n",
      "19300499\n",
      "response to anticoagulant http://purl.obolibrary.org/obo/GO_0061476\n",
      "response to anticoagulant http://purl.obolibrary.org/obo/GO_0061476\n",
      "\n",
      "A genome-wide association study confirms VKORC1, CYP2C9, and CYP4F2 as principal genetic determinants of warfarin dose.\n",
      "A Genome-Wide Association Study Confirms  VKORC1 ,  CYP2C9 , and  CYP4F2  as Principal Genetic Determinants of Warfarin Dose We report the first genome-wide association study (GWAS) whose sample size (1,053 Swedish subjects) is sufficiently powered to detect genome-wide significance ( p <1.5×10 −7 ) for polymorphisms that modestly alter therapeutic warfarin dose. The anticoagulant drug warfarin is widely prescribed for reducing the risk of stroke, thrombosis, pulmonary embolism, and coronary malfunction. However, Caucasians vary widely (20-fold) in the dose needed for therapeutic anticoagulation, and hence prescribed doses may be too low (risking serious illness) or too high (risking severe bleeding). Prior work established that ∼30% of the dose variance is explained by single nucleotide polymorphisms (SNPs) in the warfarin drug target  VKORC1  and another ∼12% by two non-synonymous SNPs ( *2 ,  *3 ) in the cytochrome P450 warfarin-metabolizing gene  CYP2C9 . We initially tested each of 325,997 GWAS SNPs for association with warfarin dose by univariate regression and found the strongest statistical signals ( p <10 −78 ) at SNPs clustering near  VKORC1  and the second lowest p-values ( p <10 −31 ) emanating from  CYP2C9 . No other SNPs approached genome-wide significance. To enhance detection of weaker effects, we conducted multiple regression adjusting for known influences on warfarin dose ( VKORC1 ,  CYP2C9 , age, gender) and identified a single SNP (rs2108622) with genome-wide significance ( p  = 8.3×10 −10 ) that alters protein coding of the  CYP4F2  gene. We confirmed this result in 588 additional Swedish patients ( p <0.0029) and, during our investigation, a second group provided independent confirmation from a scan of warfarin-metabolizing genes. We also thoroughly investigated copy number variations, haplotypes, and imputed SNPs, but found no additional highly significant warfarin associations. We present power analysis of our GWAS that is generalizable to other studies, and conclude we had 80% power to detect genome-wide significance for common causative variants or markers explaining at least 1.5% of dose variance. These GWAS results provide further impetus for conducting large-scale trials assessing patient benefit from genotype-based forecasting of warfarin dose. Recently, geneticists have begun assaying hundreds of thousands of genetic markers covering the entire human genome to systematically search for and identify genes that cause disease. We have extended this “genome-wide association study” (GWAS) method by assaying ∼326,000 markers in 1,053 Swedish patients in order to identify genes that alter response to the anticoagulant drug warfarin. Warfarin is widely prescribed to reduce blood clotting in order to protect high-risk patients from stroke, thrombosis, and heart attack. But patients vary widely (20-fold) in the warfarin dose needed for proper blood thinning, which means that initial doses in some patients are too high (risking severe bleeding) or too low (risking serious illness). Our GWAS detected two genes ( VKORC1 ,  CYP2C9 ) already known to cause ∼40% of the variability in warfarin dose and discovered a new gene ( CYP4F2 ) contributing 1%–2% of the variability. Since our GWAS searched the entire genome, additional genes having a major influence on warfarin dose might not exist or be found in the near-term. Hence, clinical trials assessing patient benefit from individualized dose forecasting based on a patient's genetic makeup at  VKORC1 ,  CYP2C9  and possibly  CYP4F2  could provide state-of-the-art clinical benchmarks for warfarin use during the foreseeable future.\n",
      "\n",
      "17903297\n",
      "neuropsychological test http://www.ebi.ac.uk/efo/EFO_0003926\n",
      "volumetric brain mri http://www.ebi.ac.uk/efo/EFO_0004868\n",
      "neuropsychological test http://www.ebi.ac.uk/efo/EFO_0003926\n",
      "test, aphasia|aphasia test|tests neuropsychol|memory for designs test|neuropsychologic tests|tests, aphasia|neuropsychologic test|test, neuropsychological|neuropsychological tests|neuropsychol test|tests, neuropsychologic|test, neuropsychologic|aphasia tests|cognitive performance|cognitive performance test|cognitive test performance|neuropsychol tests|test neuropsychol|tests, neuropsychological\n",
      "Genetic correlates of brain aging on MRI and cognitive test measures: a genome-wide association and linkage analysis in the Framingham Study.\n",
      "Genetic correlates of brain aging on MRI and cognitive test measures: a genome-wide association and linkage analysis in the Framingham study\n",
      "\n",
      "17903296\n",
      "bone density http://www.ebi.ac.uk/efo/EFO_0003923\n",
      "hip geometry http://www.ebi.ac.uk/efo/EFO_0004685\n",
      "hip geometry http://www.ebi.ac.uk/efo/EFO_0004685\n",
      "\n",
      "Genome-wide association with bone mass and geometry in the Framingham Heart Study.\n",
      "Genome-wide association with bone mass and geometry in the Framingham Heart Study\n",
      "\n"
     ]
    }
   ],
   "source": [
    "from extractor.util import gold_phen_recall\n",
    "kb = KnowledgeBase()\n",
    "doc2id = {doc.name : doc for doc in corpus.documents}\n",
    "\n",
    "phen_not_found = list(gold_phen_recall(phen_c, gold_set_phens, phen2id))\n",
    "print len(phen_not_found)\n",
    "for doc_id, phen_id in phen_not_found[:100]:\n",
    "    if len(gold_dict_phen[doc_id]) > 3: continue\n",
    "    print doc_id\n",
    "    for phen_id2 in gold_dict_phen[doc_id]:\n",
    "        print id2phen[phen_id2].name, phen_id2\n",
    "#     print gold_dict_phen[doc_id]\n",
    "    print id2phen[phen_id].name, id2phen[phen_id].ontology_ref\n",
    "    print id2phen[phen_id].synonyms    \n",
    "    print kb.title_by_pmid(doc_id)\n",
    "    print ' '.join(s.text for s in doc2id[doc_id].sentences)\n",
    "    print"
   ]
  },
  {
   "cell_type": "code",
   "execution_count": null,
   "metadata": {
    "collapsed": false
   },
   "outputs": [],
   "source": [
    "stemmer.stem('alzheimer')"
   ]
  },
  {
   "cell_type": "markdown",
   "metadata": {},
   "source": [
    "## Now let's do some learning!"
   ]
  },
  {
   "cell_type": "markdown",
   "metadata": {},
   "source": [
    "### Learning correct phenotypes"
   ]
  },
  {
   "cell_type": "markdown",
   "metadata": {},
   "source": [
    "Extract features, and store them to a file."
   ]
  },
  {
   "cell_type": "code",
   "execution_count": 31,
   "metadata": {
    "collapsed": false
   },
   "outputs": [
    {
     "name": "stdout",
     "output_type": "stream",
     "text": [
      "Building feature index...\n",
      "Extracting features...\n",
      "0/37210\n",
      "5000/37210\n",
      "10000/37210\n",
      "15000/37210\n",
      "20000/37210\n",
      "25000/37210\n",
      "30000/37210\n",
      "35000/37210\n"
     ]
    }
   ],
   "source": [
    "import cPickle        \n",
    "from snorkel.features import NgramFeaturizer\n",
    "\n",
    "pkl_f = 'phenotype_feats.pkl'\n",
    "try:\n",
    "    with open(pkl_f, 'rb') as f:\n",
    "        featurizer = cPickle.load(f)\n",
    "except:\n",
    "    featurizer = NgramFeaturizer()\n",
    "    featurizer.fit_transform(phen_c)"
   ]
  },
  {
   "cell_type": "code",
   "execution_count": 32,
   "metadata": {
    "collapsed": false
   },
   "outputs": [
    {
     "name": "stdout",
     "output_type": "stream",
     "text": [
      "DDLIB_WORD_SEQ_[disease]\n",
      "DDLIB_LEMMA_SEQ_[disease]\n",
      "DDLIB_POS_SEQ_[NN]\n",
      "DDLIB_DEP_SEQ_[nmod]\n",
      "DDLIB_W_LEFT_1_[crohn]\n",
      "DDLIB_W_LEFT_POS_1_[NN]\n",
      "DDLIB_W_LEFT_2_[for crohn]\n",
      "DDLIB_W_LEFT_POS_2_[IN NN]\n",
      "DDLIB_W_LEFT_3_[locus for crohn]\n",
      "DDLIB_W_LEFT_POS_3_[NNS IN NN]\n"
     ]
    }
   ],
   "source": [
    "for f in featurizer.get_features_by_candidate(phen_c[0])[:10]: print f"
   ]
  },
  {
   "cell_type": "markdown",
   "metadata": {},
   "source": [
    "We now create a gold truth set. Phenotype mentions are said to be correct if the phenotype is known to be mentioned in the document."
   ]
  },
  {
   "cell_type": "code",
   "execution_count": 79,
   "metadata": {
    "collapsed": false
   },
   "outputs": [
    {
     "name": "stdout",
     "output_type": "stream",
     "text": [
      "Span(\"disease\", context=None, chars=[48,54], words=[7,7])\n",
      "17447842-0:48-54\n",
      "17447842\n",
      "disease\n"
     ]
    }
   ],
   "source": [
    "# small helper functions:\n",
    "def get_doc_id(entity):\n",
    "    return entity.uid.split('-')[0]\n",
    "\n",
    "def get_phenotype(entity, stem=False):\n",
    "    phenotype = entity.get_span()\n",
    "    if stem:\n",
    "        phenotype = stemmer.stem(phenotype)\n",
    "    return phenotype.lower()\n",
    "        \n",
    "    \n",
    "print phen_c[0]\n",
    "print phen_c[0].uid\n",
    "print get_doc_id(phen_c[0])\n",
    "print get_phenotype(phen_c[0])"
   ]
  },
  {
   "cell_type": "code",
   "execution_count": 80,
   "metadata": {
    "collapsed": false
   },
   "outputs": [
    {
     "ename": "KeyboardInterrupt",
     "evalue": "",
     "output_type": "error",
     "traceback": [
      "\u001b[0;31m---------------------------------------------------------------------------\u001b[0m",
      "\u001b[0;31mKeyboardInterrupt\u001b[0m                         Traceback (most recent call last)",
      "\u001b[0;32m<ipython-input-80-834eb2e26082>\u001b[0m in \u001b[0;36m<module>\u001b[0;34m()\u001b[0m\n\u001b[1;32m      1\u001b[0m \u001b[0;31m# load true phenotype mentions\u001b[0m\u001b[0;34m\u001b[0m\u001b[0;34m\u001b[0m\u001b[0m\n\u001b[1;32m      2\u001b[0m \u001b[0mdoc_ids\u001b[0m \u001b[0;34m=\u001b[0m \u001b[0;34m[\u001b[0m\u001b[0mphen\u001b[0m\u001b[0;34m.\u001b[0m\u001b[0mcontext\u001b[0m\u001b[0;34m.\u001b[0m\u001b[0mdocument\u001b[0m\u001b[0;34m.\u001b[0m\u001b[0mname\u001b[0m \u001b[0;32mfor\u001b[0m \u001b[0mphen\u001b[0m \u001b[0;32min\u001b[0m \u001b[0mphen_c\u001b[0m\u001b[0;34m]\u001b[0m\u001b[0;34m\u001b[0m\u001b[0m\n\u001b[0;32m----> 3\u001b[0;31m \u001b[0mgold_phen_dict\u001b[0m \u001b[0;34m=\u001b[0m \u001b[0;34m{\u001b[0m \u001b[0mdoc_id\u001b[0m \u001b[0;34m:\u001b[0m \u001b[0mkb\u001b[0m\u001b[0;34m.\u001b[0m\u001b[0mphens_by_pmid\u001b[0m\u001b[0;34m(\u001b[0m\u001b[0mdoc_id\u001b[0m\u001b[0;34m)\u001b[0m \u001b[0;32mfor\u001b[0m \u001b[0mdoc_id\u001b[0m \u001b[0;32min\u001b[0m \u001b[0mdoc_ids\u001b[0m\u001b[0;34m}\u001b[0m\u001b[0;34m\u001b[0m\u001b[0m\n\u001b[0m",
      "\u001b[0;32m<ipython-input-80-834eb2e26082>\u001b[0m in \u001b[0;36m<dictcomp>\u001b[0;34m((doc_id,))\u001b[0m\n\u001b[1;32m      1\u001b[0m \u001b[0;31m# load true phenotype mentions\u001b[0m\u001b[0;34m\u001b[0m\u001b[0;34m\u001b[0m\u001b[0m\n\u001b[1;32m      2\u001b[0m \u001b[0mdoc_ids\u001b[0m \u001b[0;34m=\u001b[0m \u001b[0;34m[\u001b[0m\u001b[0mphen\u001b[0m\u001b[0;34m.\u001b[0m\u001b[0mcontext\u001b[0m\u001b[0;34m.\u001b[0m\u001b[0mdocument\u001b[0m\u001b[0;34m.\u001b[0m\u001b[0mname\u001b[0m \u001b[0;32mfor\u001b[0m \u001b[0mphen\u001b[0m \u001b[0;32min\u001b[0m \u001b[0mphen_c\u001b[0m\u001b[0;34m]\u001b[0m\u001b[0;34m\u001b[0m\u001b[0m\n\u001b[0;32m----> 3\u001b[0;31m \u001b[0mgold_phen_dict\u001b[0m \u001b[0;34m=\u001b[0m \u001b[0;34m{\u001b[0m \u001b[0mdoc_id\u001b[0m \u001b[0;34m:\u001b[0m \u001b[0mkb\u001b[0m\u001b[0;34m.\u001b[0m\u001b[0mphens_by_pmid\u001b[0m\u001b[0;34m(\u001b[0m\u001b[0mdoc_id\u001b[0m\u001b[0;34m)\u001b[0m \u001b[0;32mfor\u001b[0m \u001b[0mdoc_id\u001b[0m \u001b[0;32min\u001b[0m \u001b[0mdoc_ids\u001b[0m\u001b[0;34m}\u001b[0m\u001b[0;34m\u001b[0m\u001b[0m\n\u001b[0m",
      "\u001b[0;32m/Users/kuleshov/work/gwasdb/src/crawler/db/kb.py\u001b[0m in \u001b[0;36mphens_by_pmid\u001b[0;34m(self, pmid)\u001b[0m\n\u001b[1;32m     25\u001b[0m   \u001b[0;32mdef\u001b[0m \u001b[0mphens_by_pmid\u001b[0m\u001b[0;34m(\u001b[0m\u001b[0mself\u001b[0m\u001b[0;34m,\u001b[0m \u001b[0mpmid\u001b[0m\u001b[0;34m)\u001b[0m\u001b[0;34m:\u001b[0m\u001b[0;34m\u001b[0m\u001b[0m\n\u001b[1;32m     26\u001b[0m     \u001b[0mpaper\u001b[0m \u001b[0;34m=\u001b[0m \u001b[0mdb_session\u001b[0m\u001b[0;34m.\u001b[0m\u001b[0mquery\u001b[0m\u001b[0;34m(\u001b[0m\u001b[0mPaper\u001b[0m\u001b[0;34m)\u001b[0m\u001b[0;34m.\u001b[0m\u001b[0mfilter\u001b[0m\u001b[0;34m(\u001b[0m\u001b[0mPaper\u001b[0m\u001b[0;34m.\u001b[0m\u001b[0mpubmed_id\u001b[0m\u001b[0;34m==\u001b[0m\u001b[0mpmid\u001b[0m\u001b[0;34m)\u001b[0m\u001b[0;34m.\u001b[0m\u001b[0mfirst\u001b[0m\u001b[0;34m(\u001b[0m\u001b[0;34m)\u001b[0m\u001b[0;34m\u001b[0m\u001b[0m\n\u001b[0;32m---> 27\u001b[0;31m     \u001b[0;32mreturn\u001b[0m \u001b[0mset\u001b[0m\u001b[0;34m(\u001b[0m\u001b[0;34m[\u001b[0m\u001b[0m_clean_phenotype\u001b[0m\u001b[0;34m(\u001b[0m\u001b[0massoc\u001b[0m\u001b[0;34m.\u001b[0m\u001b[0mphenotype\u001b[0m\u001b[0;34m.\u001b[0m\u001b[0mname\u001b[0m\u001b[0;34m)\u001b[0m \u001b[0;32mfor\u001b[0m \u001b[0massoc\u001b[0m \u001b[0;32min\u001b[0m \u001b[0mpaper\u001b[0m\u001b[0;34m.\u001b[0m\u001b[0massociations\u001b[0m\u001b[0;34m]\u001b[0m\u001b[0;34m)\u001b[0m\u001b[0;34m\u001b[0m\u001b[0m\n\u001b[0m\u001b[1;32m     28\u001b[0m          \u001b[0;31m# + [assoc.phenotype.ontology_ref.lower() for assoc in paper.associations if assoc.phenotype.ontology_ref]\u001b[0m\u001b[0;34m\u001b[0m\u001b[0;34m\u001b[0m\u001b[0m\n\u001b[1;32m     29\u001b[0m \u001b[0;34m\u001b[0m\u001b[0m\n",
      "\u001b[0;32m/Library/Python/2.7/site-packages/sqlalchemy/orm/attributes.pyc\u001b[0m in \u001b[0;36m__get__\u001b[0;34m(self, instance, owner)\u001b[0m\n\u001b[1;32m    235\u001b[0m             \u001b[0;32mreturn\u001b[0m \u001b[0mdict_\u001b[0m\u001b[0;34m[\u001b[0m\u001b[0mself\u001b[0m\u001b[0;34m.\u001b[0m\u001b[0mkey\u001b[0m\u001b[0;34m]\u001b[0m\u001b[0;34m\u001b[0m\u001b[0m\n\u001b[1;32m    236\u001b[0m         \u001b[0;32melse\u001b[0m\u001b[0;34m:\u001b[0m\u001b[0;34m\u001b[0m\u001b[0m\n\u001b[0;32m--> 237\u001b[0;31m             \u001b[0;32mreturn\u001b[0m \u001b[0mself\u001b[0m\u001b[0;34m.\u001b[0m\u001b[0mimpl\u001b[0m\u001b[0;34m.\u001b[0m\u001b[0mget\u001b[0m\u001b[0;34m(\u001b[0m\u001b[0minstance_state\u001b[0m\u001b[0;34m(\u001b[0m\u001b[0minstance\u001b[0m\u001b[0;34m)\u001b[0m\u001b[0;34m,\u001b[0m \u001b[0mdict_\u001b[0m\u001b[0;34m)\u001b[0m\u001b[0;34m\u001b[0m\u001b[0m\n\u001b[0m\u001b[1;32m    238\u001b[0m \u001b[0;34m\u001b[0m\u001b[0m\n\u001b[1;32m    239\u001b[0m \u001b[0;34m\u001b[0m\u001b[0m\n",
      "\u001b[0;32m/Library/Python/2.7/site-packages/sqlalchemy/orm/attributes.pyc\u001b[0m in \u001b[0;36mget\u001b[0;34m(self, state, dict_, passive)\u001b[0m\n\u001b[1;32m    581\u001b[0m                     \u001b[0mvalue\u001b[0m \u001b[0;34m=\u001b[0m \u001b[0mcallable_\u001b[0m\u001b[0;34m(\u001b[0m\u001b[0mstate\u001b[0m\u001b[0;34m,\u001b[0m \u001b[0mpassive\u001b[0m\u001b[0;34m)\u001b[0m\u001b[0;34m\u001b[0m\u001b[0m\n\u001b[1;32m    582\u001b[0m                 \u001b[0;32melif\u001b[0m \u001b[0mself\u001b[0m\u001b[0;34m.\u001b[0m\u001b[0mcallable_\u001b[0m\u001b[0;34m:\u001b[0m\u001b[0;34m\u001b[0m\u001b[0m\n\u001b[0;32m--> 583\u001b[0;31m                     \u001b[0mvalue\u001b[0m \u001b[0;34m=\u001b[0m \u001b[0mself\u001b[0m\u001b[0;34m.\u001b[0m\u001b[0mcallable_\u001b[0m\u001b[0;34m(\u001b[0m\u001b[0mstate\u001b[0m\u001b[0;34m,\u001b[0m \u001b[0mpassive\u001b[0m\u001b[0;34m)\u001b[0m\u001b[0;34m\u001b[0m\u001b[0m\n\u001b[0m\u001b[1;32m    584\u001b[0m                 \u001b[0;32melse\u001b[0m\u001b[0;34m:\u001b[0m\u001b[0;34m\u001b[0m\u001b[0m\n\u001b[1;32m    585\u001b[0m                     \u001b[0mvalue\u001b[0m \u001b[0;34m=\u001b[0m \u001b[0mATTR_EMPTY\u001b[0m\u001b[0;34m\u001b[0m\u001b[0m\n",
      "\u001b[0;32m/Library/Python/2.7/site-packages/sqlalchemy/orm/strategies.pyc\u001b[0m in \u001b[0;36m_load_for_state\u001b[0;34m(self, state, passive)\u001b[0m\n\u001b[1;32m    542\u001b[0m                 \u001b[0;32mreturn\u001b[0m \u001b[0mattributes\u001b[0m\u001b[0;34m.\u001b[0m\u001b[0mPASSIVE_NO_RESULT\u001b[0m\u001b[0;34m\u001b[0m\u001b[0m\n\u001b[1;32m    543\u001b[0m \u001b[0;34m\u001b[0m\u001b[0m\n\u001b[0;32m--> 544\u001b[0;31m         \u001b[0;32mreturn\u001b[0m \u001b[0mself\u001b[0m\u001b[0;34m.\u001b[0m\u001b[0m_emit_lazyload\u001b[0m\u001b[0;34m(\u001b[0m\u001b[0msession\u001b[0m\u001b[0;34m,\u001b[0m \u001b[0mstate\u001b[0m\u001b[0;34m,\u001b[0m \u001b[0mident_key\u001b[0m\u001b[0;34m,\u001b[0m \u001b[0mpassive\u001b[0m\u001b[0;34m)\u001b[0m\u001b[0;34m\u001b[0m\u001b[0m\n\u001b[0m\u001b[1;32m    545\u001b[0m \u001b[0;34m\u001b[0m\u001b[0m\n\u001b[1;32m    546\u001b[0m     \u001b[0;32mdef\u001b[0m \u001b[0m_get_ident_for_use_get\u001b[0m\u001b[0;34m(\u001b[0m\u001b[0mself\u001b[0m\u001b[0;34m,\u001b[0m \u001b[0msession\u001b[0m\u001b[0;34m,\u001b[0m \u001b[0mstate\u001b[0m\u001b[0;34m,\u001b[0m \u001b[0mpassive\u001b[0m\u001b[0;34m)\u001b[0m\u001b[0;34m:\u001b[0m\u001b[0;34m\u001b[0m\u001b[0m\n",
      "\u001b[0;32m<string>\u001b[0m in \u001b[0;36m<lambda>\u001b[0;34m(self, session, state, ident_key, passive)\u001b[0m\n",
      "\u001b[0;32m/Library/Python/2.7/site-packages/sqlalchemy/orm/strategies.pyc\u001b[0m in \u001b[0;36m_emit_lazyload\u001b[0;34m(self, strategy_options, session, state, ident_key, passive)\u001b[0m\n\u001b[1;32m    612\u001b[0m         \u001b[0mq\u001b[0m \u001b[0;34m=\u001b[0m \u001b[0mq\u001b[0m\u001b[0;34m.\u001b[0m\u001b[0mfilter\u001b[0m\u001b[0;34m(\u001b[0m\u001b[0mlazy_clause\u001b[0m\u001b[0;34m)\u001b[0m\u001b[0;34m.\u001b[0m\u001b[0mparams\u001b[0m\u001b[0;34m(\u001b[0m\u001b[0mparams\u001b[0m\u001b[0;34m)\u001b[0m\u001b[0;34m\u001b[0m\u001b[0m\n\u001b[1;32m    613\u001b[0m \u001b[0;34m\u001b[0m\u001b[0m\n\u001b[0;32m--> 614\u001b[0;31m         \u001b[0mresult\u001b[0m \u001b[0;34m=\u001b[0m \u001b[0mq\u001b[0m\u001b[0;34m.\u001b[0m\u001b[0mall\u001b[0m\u001b[0;34m(\u001b[0m\u001b[0;34m)\u001b[0m\u001b[0;34m\u001b[0m\u001b[0m\n\u001b[0m\u001b[1;32m    615\u001b[0m         \u001b[0;32mif\u001b[0m \u001b[0mself\u001b[0m\u001b[0;34m.\u001b[0m\u001b[0muselist\u001b[0m\u001b[0;34m:\u001b[0m\u001b[0;34m\u001b[0m\u001b[0m\n\u001b[1;32m    616\u001b[0m             \u001b[0;32mreturn\u001b[0m \u001b[0mresult\u001b[0m\u001b[0;34m\u001b[0m\u001b[0m\n",
      "\u001b[0;32m/Library/Python/2.7/site-packages/sqlalchemy/orm/query.pyc\u001b[0m in \u001b[0;36mall\u001b[0;34m(self)\u001b[0m\n\u001b[1;32m   2611\u001b[0m \u001b[0;34m\u001b[0m\u001b[0m\n\u001b[1;32m   2612\u001b[0m         \"\"\"\n\u001b[0;32m-> 2613\u001b[0;31m         \u001b[0;32mreturn\u001b[0m \u001b[0mlist\u001b[0m\u001b[0;34m(\u001b[0m\u001b[0mself\u001b[0m\u001b[0;34m)\u001b[0m\u001b[0;34m\u001b[0m\u001b[0m\n\u001b[0m\u001b[1;32m   2614\u001b[0m \u001b[0;34m\u001b[0m\u001b[0m\n\u001b[1;32m   2615\u001b[0m     \u001b[0;34m@\u001b[0m\u001b[0m_generative\u001b[0m\u001b[0;34m(\u001b[0m\u001b[0m_no_clauseelement_condition\u001b[0m\u001b[0;34m)\u001b[0m\u001b[0;34m\u001b[0m\u001b[0m\n",
      "\u001b[0;32m/Library/Python/2.7/site-packages/sqlalchemy/orm/loading.pyc\u001b[0m in \u001b[0;36minstances\u001b[0;34m(query, cursor, context)\u001b[0m\n\u001b[1;32m     65\u001b[0m                     \u001b[0;32mbreak\u001b[0m\u001b[0;34m\u001b[0m\u001b[0m\n\u001b[1;32m     66\u001b[0m             \u001b[0;32melse\u001b[0m\u001b[0;34m:\u001b[0m\u001b[0;34m\u001b[0m\u001b[0m\n\u001b[0;32m---> 67\u001b[0;31m                 \u001b[0mfetch\u001b[0m \u001b[0;34m=\u001b[0m \u001b[0mcursor\u001b[0m\u001b[0;34m.\u001b[0m\u001b[0mfetchall\u001b[0m\u001b[0;34m(\u001b[0m\u001b[0;34m)\u001b[0m\u001b[0;34m\u001b[0m\u001b[0m\n\u001b[0m\u001b[1;32m     68\u001b[0m \u001b[0;34m\u001b[0m\u001b[0m\n\u001b[1;32m     69\u001b[0m             \u001b[0;32mif\u001b[0m \u001b[0msingle_entity\u001b[0m\u001b[0;34m:\u001b[0m\u001b[0;34m\u001b[0m\u001b[0m\n",
      "\u001b[0;32m/Library/Python/2.7/site-packages/sqlalchemy/engine/result.pyc\u001b[0m in \u001b[0;36mfetchall\u001b[0;34m(self)\u001b[0m\n\u001b[1;32m    962\u001b[0m \u001b[0;34m\u001b[0m\u001b[0m\n\u001b[1;32m    963\u001b[0m         \u001b[0;32mtry\u001b[0m\u001b[0;34m:\u001b[0m\u001b[0;34m\u001b[0m\u001b[0m\n\u001b[0;32m--> 964\u001b[0;31m             \u001b[0ml\u001b[0m \u001b[0;34m=\u001b[0m \u001b[0mself\u001b[0m\u001b[0;34m.\u001b[0m\u001b[0mprocess_rows\u001b[0m\u001b[0;34m(\u001b[0m\u001b[0mself\u001b[0m\u001b[0;34m.\u001b[0m\u001b[0m_fetchall_impl\u001b[0m\u001b[0;34m(\u001b[0m\u001b[0;34m)\u001b[0m\u001b[0;34m)\u001b[0m\u001b[0;34m\u001b[0m\u001b[0m\n\u001b[0m\u001b[1;32m    965\u001b[0m             \u001b[0mself\u001b[0m\u001b[0;34m.\u001b[0m\u001b[0m_soft_close\u001b[0m\u001b[0;34m(\u001b[0m\u001b[0;34m)\u001b[0m\u001b[0;34m\u001b[0m\u001b[0m\n\u001b[1;32m    966\u001b[0m             \u001b[0;32mreturn\u001b[0m \u001b[0ml\u001b[0m\u001b[0;34m\u001b[0m\u001b[0m\n",
      "\u001b[0;32m/Library/Python/2.7/site-packages/sqlalchemy/engine/result.pyc\u001b[0m in \u001b[0;36m_fetchall_impl\u001b[0;34m(self)\u001b[0m\n\u001b[1;32m    913\u001b[0m     \u001b[0;32mdef\u001b[0m \u001b[0m_fetchall_impl\u001b[0m\u001b[0;34m(\u001b[0m\u001b[0mself\u001b[0m\u001b[0;34m)\u001b[0m\u001b[0;34m:\u001b[0m\u001b[0;34m\u001b[0m\u001b[0m\n\u001b[1;32m    914\u001b[0m         \u001b[0;32mtry\u001b[0m\u001b[0;34m:\u001b[0m\u001b[0;34m\u001b[0m\u001b[0m\n\u001b[0;32m--> 915\u001b[0;31m             \u001b[0;32mreturn\u001b[0m \u001b[0mself\u001b[0m\u001b[0;34m.\u001b[0m\u001b[0mcursor\u001b[0m\u001b[0;34m.\u001b[0m\u001b[0mfetchall\u001b[0m\u001b[0;34m(\u001b[0m\u001b[0;34m)\u001b[0m\u001b[0;34m\u001b[0m\u001b[0m\n\u001b[0m\u001b[1;32m    916\u001b[0m         \u001b[0;32mexcept\u001b[0m \u001b[0mAttributeError\u001b[0m\u001b[0;34m:\u001b[0m\u001b[0;34m\u001b[0m\u001b[0m\n\u001b[1;32m    917\u001b[0m             \u001b[0;32mreturn\u001b[0m \u001b[0mself\u001b[0m\u001b[0;34m.\u001b[0m\u001b[0m_non_result\u001b[0m\u001b[0;34m(\u001b[0m\u001b[0;34m[\u001b[0m\u001b[0;34m]\u001b[0m\u001b[0;34m)\u001b[0m\u001b[0;34m\u001b[0m\u001b[0m\n",
      "\u001b[0;31mKeyboardInterrupt\u001b[0m: "
     ]
    }
   ],
   "source": [
    "# load true phenotype mentions\n",
    "doc_ids = [phen.context.document.name for phen in phen_c]\n",
    "gold_phen_dict = { doc_id : kb.phens_by_pmid(doc_id) for doc_id in doc_ids}"
   ]
  },
  {
   "cell_type": "code",
   "execution_count": 35,
   "metadata": {
    "collapsed": true
   },
   "outputs": [],
   "source": [
    "# classify candidates as correct or not\n",
    "uids = list()\n",
    "gt = list()\n",
    "for doc_id, phenotype in zip(doc_ids, phen_c):\n",
    "    uids.append(phenotype.uid)\n",
    "    phenotype_name = get_phenotype(phenotype)\n",
    "    if phenotype_name in gold_phen_dict[doc_id]:\n",
    "        gt.append(+1)\n",
    "    else:\n",
    "        gt.append(-1)"
   ]
  },
  {
   "cell_type": "code",
   "execution_count": 36,
   "metadata": {
    "collapsed": false
   },
   "outputs": [
    {
     "name": "stdout",
     "output_type": "stream",
     "text": [
      "Training set size: 1133\n",
      "Gold set size: 1133\n",
      "Positive labels in training set: 39\n",
      "Negative labels in training set: 1094\n",
      "Positive labels in gold set: 36\n",
      "Negative labels in gold set: 1097\n"
     ]
    }
   ],
   "source": [
    "import numpy as np\n",
    "\n",
    "# Split into train and test set\n",
    "candidates = phen_c\n",
    "training_candidates = []\n",
    "gold_candidates     = []\n",
    "gold_labels         = []\n",
    "n_half = len(candidates)/2\n",
    "for c in candidates[:n_half]:\n",
    "    if c.uid in gt_dict:\n",
    "        gold_candidates.append(c)\n",
    "        gold_labels.append(gt_dict[c.uid])\n",
    "    else:\n",
    "        training_candidates.append(c)\n",
    "training_candidates.extend(candidates[n_half:])\n",
    "gold_labels = np.array(gold_labels)\n",
    "print \"Training set size: %s\" % len(training_candidates)\n",
    "print \"Gold set size: %s\" % len(gold_candidates)\n",
    "print \"Positive labels in training set: %s\" % len([c for c in training_candidates if gt_dict.get(c.uid,0)==1])\n",
    "print \"Negative labels in training set: %s\" % len([c for c in training_candidates if gt_dict.get(c.uid,0)==-1])\n",
    "print \"Positive labels in gold set: %s\" % len([c for c in gold_candidates if gt_dict[c.uid]==1])\n",
    "print \"Negative labels in gold set: %s\" % len([c for c in gold_candidates if gt_dict[c.uid]==-1])"
   ]
  },
  {
   "cell_type": "markdown",
   "metadata": {},
   "source": [
    "#### Labeling functions"
   ]
  },
  {
   "cell_type": "code",
   "execution_count": 43,
   "metadata": {
    "collapsed": false
   },
   "outputs": [],
   "source": [
    "# load set of dictionary phenotypes\n",
    "kb = KnowledgeBase()\n",
    "phenotype_list = kb.get_phenotype_candidates() # TODO: load disease names from NCBI\n",
    "# phenotype_list = [stemmer.stem(phenotype) for phenotype in phenotype_list]\n",
    "phenotype_list = [phenotype for phenotype in phenotype_list]\n",
    "phenotype_set = set(phenotype_list)\n",
    "\n",
    "def LF_in_set(m):\n",
    "    return +1 if get_phenotype(m, stem=True) in phenotype_list else -1\n",
    "def LF_associated(m):\n",
    "    return +1 if 'associate' in m.pre_window('lemmas') else 0\n",
    "def LF_influencing(m):\n",
    "    return +1 if 'influence' in m.pre_window('lemmas') else 0\n",
    "def LF_related(m):\n",
    "    return +1 if 'relate' in m.pre_window('lemmas') else 0\n",
    "def LF_phenotype(m):\n",
    "    return +1 if 'phenotype' in m.pre_window('lemmas') or 'phenotype' in m.post_window('lemmas') else 0\n",
    "\n",
    "# negative LFs\n",
    "def LF_previously(m):\n",
    "    return -1 if 'previously' in m.pre_window('lemmas', 8) else 0\n",
    "def LF_obese(m):\n",
    "    words = m.get_span().split(' ')        \n",
    "    return -1 if 'obese' in words and len(words) == 1 else 0\n",
    "def LF_further(m):\n",
    "    lemmas = m.get_attrib_span('lemmas').split(' ')    \n",
    "    return -1 if 'further' in lemmas or 'furthermore' in lemmas else 0\n",
    "def LF_also(m):\n",
    "    words = m.get_span().split(' ')        \n",
    "    return -1 if 'also' in words else 0\n",
    "def LF_age(m):\n",
    "    words = m.get_span().split(' ')\n",
    "    return -1 if 'age' in words or 'aging' in words or 'ages' in words else 0\n",
    "def LF_trait(m):\n",
    "    lemmas = m.get_attrib_span('lemmas').split(' ')\n",
    "    return -1 if 'trait' in lemmas else 0\n",
    "def LF_weight(m):\n",
    "    lemmas = m.get_attrib_span('lemmas').split(' ')\n",
    "    return -1 if 'weight' in lemmas else 0\n",
    "def LF_recently(m):\n",
    "    words = m.get_span().split(' ')    \n",
    "    return -1 if 'recently' in words else 0\n",
    "def LF_addit(m):\n",
    "    lemmas = m.get_attrib_span('lemmas').split(' ')\n",
    "    return -1 if 'addit' in lemmas else 0\n",
    "def LF_may(m):\n",
    "    words = m.get_span().split(' ')\n",
    "    return -1 if 'may' in words else 0\n",
    "def LF_short(m):\n",
    "    lemmas = m.get_attrib_span('lemmas').split(' ')    \n",
    "    return -1 if len(lemmas) == 1 else 0"
   ]
  },
  {
   "cell_type": "code",
   "execution_count": 44,
   "metadata": {
    "collapsed": false
   },
   "outputs": [],
   "source": [
    "LFs = [LF_associated, LF_influencing, LF_related, LF_previously, LF_phenotype, LF_obese, LF_further,\n",
    "       LF_also, LF_age, LF_trait, LF_weight, LF_recently, LF_addit, LF_may, LF_short]"
   ]
  },
  {
   "cell_type": "code",
   "execution_count": 45,
   "metadata": {
    "collapsed": false
   },
   "outputs": [
    {
     "name": "stdout",
     "output_type": "stream",
     "text": [
      "Applying LFs...\n",
      "Featurizing...\n",
      "Building feature index...\n",
      "Extracting features...\n",
      "0/20128\n",
      "5000/20128\n",
      "10000/20128\n",
      "15000/20128\n",
      "20000/20128\n",
      "============================================================\n",
      "LF Summary Statistics: 15 LFs applied to 1133 candidates\n",
      "------------------------------------------------------------\n",
      "Coverage (candidates w/ > 0 labels):\t\t77.85%\n",
      "Overlap (candidates w/ > 1 labels):\t\t13.77%\n",
      "Conflict (candidates w/ conflicting labels):\t12.71%\n",
      "============================================================\n"
     ]
    }
   ],
   "source": [
    "from snorkel.snorkel import TrainingSet\n",
    "from snorkel.features import NgramFeaturizer\n",
    "\n",
    "training_set = TrainingSet(training_candidates, LFs, featurizer=NgramFeaturizer())"
   ]
  },
  {
   "cell_type": "code",
   "execution_count": 62,
   "metadata": {
    "collapsed": false
   },
   "outputs": [
    {
     "name": "stdout",
     "output_type": "stream",
     "text": [
      "population\n",
      "Span(\"population\", context=None, chars=[163,172], words=[26,26])\n",
      "-1\n",
      "set([u\"crohn's disease\"])\n",
      "0 0 0 0 0 0 0 0 0 0 0 0 0 0 -1 \n",
      "\n",
      "controls\n",
      "Span(\"controls\", context=None, chars=[217,224], words=[36,36])\n",
      "-1\n",
      "set([u\"crohn's disease\"])\n",
      "0 0 0 0 0 0 0 0 0 0 0 0 0 0 -1 \n",
      "\n",
      "replication\n",
      "Span(\"replication\", context=None, chars=[28,38], words=[4,4])\n",
      "-1\n",
      "set([u\"crohn's disease\"])\n",
      "0 0 0 0 0 0 0 0 0 0 0 0 0 0 -1 \n",
      "\n",
      "ulcerative colitis\n",
      "Span(\"ulcerative colitis\", context=None, chars=[39,56], words=[6,7])\n",
      "-1\n",
      "set([u\"crohn's disease\"])\n",
      "0 0 0 0 0 0 0 0 0 0 0 0 0 0 0 \n",
      "\n",
      "ulcerative\n",
      "Span(\"ulcerative\", context=None, chars=[39,48], words=[6,6])\n",
      "-1\n",
      "set([u\"crohn's disease\"])\n",
      "0 0 0 0 0 0 0 0 0 0 0 0 0 0 -1 \n",
      "\n",
      "colitis\n",
      "Span(\"colitis\", context=None, chars=[50,56], words=[7,7])\n",
      "-1\n",
      "set([u\"crohn's disease\"])\n",
      "0 0 0 0 0 0 0 0 0 0 0 0 0 0 -1 \n",
      "\n",
      "replicated\n",
      "Span(\"replicated\", context=None, chars=[34,43], words=[7,7])\n",
      "-1\n",
      "set([u\"crohn's disease\"])\n",
      "0 0 0 0 0 0 0 0 0 0 0 0 0 0 -1 \n",
      "\n",
      "controls\n",
      "Span(\"controls\", context=None, chars=[133,140], words=[25,25])\n",
      "-1\n",
      "set([u\"crohn's disease\"])\n",
      "0 0 0 0 0 0 0 0 0 0 0 0 0 0 -1 \n",
      "\n",
      "replicated\n",
      "Span(\"replicated\", context=None, chars=[26,35], words=[3,3])\n",
      "-1\n",
      "set([u\"crohn's disease\"])\n",
      "0 0 0 0 0 0 0 0 0 0 0 0 0 0 -1 \n",
      "\n",
      "uric acid\n",
      "Span(\"uric acid\", context=None, chars=[11,19], words=[2,3])\n",
      "-1\n",
      "set([u'urate measurement'])\n",
      "0 0 0 0 0 0 0 0 0 0 0 0 0 0 0 \n",
      "\n",
      "acid\n",
      "Span(\"acid\", context=None, chars=[16,19], words=[3,3])\n",
      "-1\n",
      "set([u'urate measurement'])\n",
      "0 0 0 0 0 0 0 0 0 0 0 0 0 0 -1 \n",
      "\n",
      "gout\n",
      "Span(\"gout\", context=None, chars=[59,62], words=[9,9])\n",
      "-1\n",
      "set([u'urate measurement'])\n",
      "0 0 0 0 0 0 0 0 0 0 0 0 0 0 -1 \n",
      "\n",
      "individuals\n",
      "Span(\"individuals\", context=None, chars=[94,104], words=[14,14])\n",
      "-1\n",
      "set([u'urate measurement'])\n",
      "0 0 0 0 0 0 0 0 0 0 0 0 0 0 -1 \n",
      "\n",
      "mortality\n",
      "Span(\"mortality\", context=None, chars=[152,160], words=[22,22])\n",
      "-1\n",
      "set([u'urate measurement'])\n",
      "0 0 0 0 0 0 0 0 0 0 0 0 0 0 -1 \n",
      "\n",
      "uric acid\n",
      "Span(\"uric acid\", context=None, chars=[109,117], words=[13,14])\n",
      "-1\n",
      "set([u'urate measurement'])\n",
      "1 0 0 0 0 0 0 0 0 0 0 0 0 0 0 \n",
      "\n",
      "population\n",
      "Span(\"population\", context=None, chars=[56,65], words=[7,7])\n",
      "-1\n",
      "set([u'urate measurement'])\n",
      "0 0 0 0 0 0 0 0 0 0 0 0 0 0 -1 \n",
      "\n",
      "acid\n",
      "Span(\"acid\", context=None, chars=[114,117], words=[14,14])\n",
      "-1\n",
      "set([u'urate measurement'])\n",
      "1 0 0 0 0 0 0 0 0 0 0 0 0 0 -1 \n",
      "\n",
      "4\n",
      "Span(\"4\", context=None, chars=[41,41], words=[7,7])\n",
      "-1\n",
      "set([u'urate measurement'])\n",
      "0 0 0 0 0 0 0 0 0 0 0 0 0 0 -1 \n",
      "\n",
      "glucose\n",
      "Span(\"glucose\", context=None, chars=[43,49], words=[8,8])\n",
      "-1\n",
      "set([u'urate measurement'])\n",
      "0 0 0 0 0 0 0 0 0 0 0 0 0 0 -1 \n",
      "\n",
      "transporter\n",
      "Span(\"transporter\", context=None, chars=[51,61], words=[9,9])\n",
      "-1\n",
      "set([u'urate measurement'])\n",
      "0 0 0 0 0 0 0 0 0 0 0 0 0 0 -1 \n",
      "\n",
      "gene\n",
      "Span(\"gene\", context=None, chars=[63,66], words=[10,10])\n",
      "-1\n",
      "set([u'urate measurement'])\n",
      "0 0 0 0 0 0 0 0 0 0 0 0 0 0 -1 \n",
      "\n",
      "liver\n",
      "Span(\"liver\", context=None, chars=[95,99], words=[14,14])\n",
      "-1\n",
      "set([u'urate measurement'])\n",
      "0 0 0 0 0 0 0 0 0 0 0 0 0 0 -1 \n",
      "\n",
      "kidney\n",
      "Span(\"kidney\", context=None, chars=[105,110], words=[16,16])\n",
      "-1\n",
      "set([u'urate measurement'])\n",
      "0 0 0 0 0 0 0 0 0 0 0 0 0 0 -1 \n",
      "\n",
      "uric acid\n",
      "Span(\"uric acid\", context=None, chars=[107,115], words=[19,20])\n",
      "-1\n",
      "set([u'urate measurement'])\n",
      "0 0 0 0 0 0 0 0 0 0 0 0 0 0 0 \n",
      "\n",
      "Individuals\n",
      "Span(\"Individuals\", context=None, chars=[0,10], words=[0,0])\n",
      "-1\n",
      "set([u'urate measurement'])\n",
      "0 0 0 0 0 0 0 0 0 0 0 0 0 0 -1 \n",
      "\n",
      "acid\n",
      "Span(\"acid\", context=None, chars=[112,115], words=[20,20])\n",
      "-1\n",
      "set([u'urate measurement'])\n",
      "0 0 0 0 0 0 0 0 0 0 0 0 0 0 -1 \n",
      "\n",
      "replicated\n",
      "Span(\"replicated\", context=None, chars=[179,188], words=[32,32])\n",
      "-1\n",
      "set([u'urate measurement'])\n",
      "0 0 0 0 0 0 0 0 0 0 0 0 0 0 -1 \n",
      "\n",
      "cohort\n",
      "Span(\"cohort\", context=None, chars=[206,211], words=[36,36])\n",
      "-1\n",
      "set([u'urate measurement'])\n",
      "0 0 0 0 0 0 0 0 0 0 0 0 0 0 -1 \n",
      "\n",
      "uric acid\n",
      "Span(\"uric acid\", context=None, chars=[86,94], words=[12,13])\n",
      "-1\n",
      "set([u'urate measurement'])\n",
      "0 0 0 0 0 0 0 0 0 0 0 0 0 0 0 \n",
      "\n",
      "uric acid\n",
      "Span(\"uric acid\", context=None, chars=[151,159], words=[21,22])\n",
      "-1\n",
      "set([u'urate measurement'])\n",
      "0 1 0 0 0 0 0 0 0 0 0 0 0 0 0 \n",
      "\n",
      "glucose\n",
      "Span(\"glucose\", context=None, chars=[63,69], words=[9,9])\n",
      "-1\n",
      "set([u'urate measurement'])\n",
      "0 0 0 0 0 0 0 0 0 0 0 0 0 0 -1 \n",
      "\n",
      "acid\n",
      "Span(\"acid\", context=None, chars=[91,94], words=[13,13])\n",
      "-1\n",
      "set([u'urate measurement'])\n",
      "0 0 0 0 0 0 0 0 0 0 0 0 0 0 -1 \n",
      "\n",
      "acid\n",
      "Span(\"acid\", context=None, chars=[156,159], words=[22,22])\n",
      "-1\n",
      "set([u'urate measurement'])\n",
      "0 1 0 0 0 0 0 0 0 0 0 0 0 0 -1 \n",
      "\n",
      "Sex\n",
      "Span(\"Sex\", context=None, chars=[0,2], words=[0,0])\n",
      "-1\n",
      "set([u'schizophrenia'])\n",
      "0 0 0 0 0 0 0 0 0 0 0 0 0 0 -1 \n",
      "\n",
      "population\n",
      "Span(\"population\", context=None, chars=[85,94], words=[12,12])\n",
      "-1\n",
      "set([u'schizophrenia'])\n",
      "0 0 0 0 0 0 0 0 0 0 0 0 0 0 -1 \n",
      "\n",
      "DNA\n",
      "Span(\"DNA\", context=None, chars=[102,104], words=[14,14])\n",
      "-1\n",
      "set([u'schizophrenia'])\n",
      "0 0 0 0 0 0 0 0 0 0 0 0 0 0 -1 \n",
      "\n",
      "pooling\n",
      "Span(\"pooling\", context=None, chars=[106,112], words=[15,15])\n",
      "-1\n",
      "set([u'schizophrenia'])\n",
      "0 0 0 0 0 0 0 0 0 0 0 0 0 0 -1 \n",
      "\n",
      "gene\n",
      "Span(\"gene\", context=None, chars=[103,106], words=[20,20])\n",
      "-1\n",
      "set([u'schizophrenia'])\n",
      "0 0 0 0 0 0 0 0 0 0 0 0 0 0 -1 \n",
      "\n"
     ]
    }
   ],
   "source": [
    "# a bit of debugging\n",
    "for i in range(80, 120):\n",
    "    if gt[i] == -1:\n",
    "        print phen_c[i].get_span()\n",
    "        print phen_c[i]\n",
    "        print gt[i]\n",
    "        print gold_phen_dict[doc_ids[i]]\n",
    "    #     print phenotypes[i].pre_window('lemmas')\n",
    "        for LF in LFs:\n",
    "            print LF(phen_c[i]),\n",
    "        print '\\n'"
   ]
  },
  {
   "cell_type": "markdown",
   "metadata": {},
   "source": [
    "#### Results"
   ]
  },
  {
   "cell_type": "code",
   "execution_count": null,
   "metadata": {
    "collapsed": false
   },
   "outputs": [],
   "source": []
  },
  {
   "cell_type": "code",
   "execution_count": 63,
   "metadata": {
    "collapsed": false
   },
   "outputs": [
    {
     "data": {
      "text/html": [
       "<div style=\"max-height:1000px;max-width:1500px;overflow:auto;\">\n",
       "<table border=\"1\" class=\"dataframe\">\n",
       "  <thead>\n",
       "    <tr style=\"text-align: right;\">\n",
       "      <th></th>\n",
       "      <th>conflicts</th>\n",
       "      <th>coverage</th>\n",
       "      <th>j</th>\n",
       "      <th>overlaps</th>\n",
       "    </tr>\n",
       "  </thead>\n",
       "  <tbody>\n",
       "    <tr>\n",
       "      <th>LF_associated</th>\n",
       "      <td> 0.085613</td>\n",
       "      <td> 0.100618</td>\n",
       "      <td> 0</td>\n",
       "      <td> 0.085613</td>\n",
       "    </tr>\n",
       "    <tr>\n",
       "      <th>LF_influencing</th>\n",
       "      <td> 0.030009</td>\n",
       "      <td> 0.039718</td>\n",
       "      <td> 1</td>\n",
       "      <td> 0.030009</td>\n",
       "    </tr>\n",
       "    <tr>\n",
       "      <th>LF_related</th>\n",
       "      <td> 0.000883</td>\n",
       "      <td> 0.001765</td>\n",
       "      <td> 2</td>\n",
       "      <td> 0.000883</td>\n",
       "    </tr>\n",
       "    <tr>\n",
       "      <th>LF_previously</th>\n",
       "      <td> 0.002648</td>\n",
       "      <td> 0.011474</td>\n",
       "      <td> 3</td>\n",
       "      <td> 0.009709</td>\n",
       "    </tr>\n",
       "    <tr>\n",
       "      <th>LF_phenotype</th>\n",
       "      <td> 0.015887</td>\n",
       "      <td> 0.017652</td>\n",
       "      <td> 4</td>\n",
       "      <td> 0.015887</td>\n",
       "    </tr>\n",
       "  </tbody>\n",
       "</table>\n",
       "<p>5 rows × 4 columns</p>\n",
       "</div>"
      ],
      "text/plain": [
       "                conflicts  coverage  j  overlaps\n",
       "LF_associated    0.085613  0.100618  0  0.085613\n",
       "LF_influencing   0.030009  0.039718  1  0.030009\n",
       "LF_related       0.000883  0.001765  2  0.000883\n",
       "LF_previously    0.002648  0.011474  3  0.009709\n",
       "LF_phenotype     0.015887  0.017652  4  0.015887\n",
       "\n",
       "[5 rows x 4 columns]"
      ]
     },
     "execution_count": 63,
     "metadata": {},
     "output_type": "execute_result"
    }
   ],
   "source": [
    "lf_stats = training_set.lf_stats()\n",
    "lf_stats[:5]"
   ]
  },
  {
   "cell_type": "code",
   "execution_count": 64,
   "metadata": {
    "collapsed": false
   },
   "outputs": [
    {
     "data": {
      "text/plain": [
       "array([[<matplotlib.axes.AxesSubplot object at 0x11a04ccd0>]], dtype=object)"
      ]
     },
     "execution_count": 64,
     "metadata": {},
     "output_type": "execute_result"
    }
   ],
   "source": [
    "lf_stats.hist(\"coverage\")"
   ]
  },
  {
   "cell_type": "code",
   "execution_count": 65,
   "metadata": {
    "collapsed": false
   },
   "outputs": [],
   "source": [
    "from snorkel.snorkel import Learner\n",
    "import snorkel.learning\n",
    "from snorkel.learning import LogReg\n",
    "\n",
    "learner = Learner(training_set, model=snorkel.learning.LogReg())"
   ]
  },
  {
   "cell_type": "code",
   "execution_count": 66,
   "metadata": {
    "collapsed": true
   },
   "outputs": [],
   "source": [
    "# Splitting into CV and test set\n",
    "n_half = len(gold_candidates)/2\n",
    "test_candidates = gold_candidates[:n_half]\n",
    "test_labels     = gold_labels[:n_half]\n",
    "cv_candidates   = gold_candidates[n_half:]\n",
    "cv_labels       = gold_labels[n_half:]"
   ]
  },
  {
   "cell_type": "code",
   "execution_count": 57,
   "metadata": {
    "collapsed": false
   },
   "outputs": [
    {
     "name": "stdout",
     "output_type": "stream",
     "text": [
      "============================================================\n",
      "Testing mu = 1.00e-05, lf_w0 = 1.00e+00\n",
      "============================================================\n",
      "Begin training for rate=0.01, mu=1e-05\n",
      "\tLearning epoch = 0\tGradient mag. = 0.028215\n",
      "\tLearning epoch = 250\tGradient mag. = 0.031598\n",
      "\tLearning epoch = 500\tGradient mag. = 0.034183\n",
      "\tLearning epoch = 750\tGradient mag. = 0.037504\n",
      "Final gradient magnitude for rate=0.01, mu=1e-05: 0.042\n",
      "Applying LFs...\n",
      "Featurizing...\n",
      "============================================================\n",
      "Testing mu = 1.00e-05, lf_w0 = 2.00e+00\n",
      "============================================================\n",
      "Begin training for rate=0.01, mu=1e-05\n",
      "\tLearning epoch = 0\tGradient mag. = 0.052613\n",
      "\tLearning epoch = 250\tGradient mag. = 0.057508\n",
      "\tLearning epoch = 500\tGradient mag. = 0.060609\n",
      "\tLearning epoch = 750\tGradient mag. = 0.064753\n",
      "Final gradient magnitude for rate=0.01, mu=1e-05: 0.070\n",
      "============================================================\n",
      "Testing mu = 1.00e-07, lf_w0 = 1.00e+00\n",
      "============================================================\n",
      "Begin training for rate=0.01, mu=1e-07\n",
      "\tLearning epoch = 0\tGradient mag. = 0.028215\n",
      "\tLearning epoch = 250\tGradient mag. = 0.031612\n",
      "\tLearning epoch = 500\tGradient mag. = 0.034215\n",
      "\tLearning epoch = 750\tGradient mag. = 0.037557\n",
      "Final gradient magnitude for rate=0.01, mu=1e-07: 0.042\n",
      "============================================================\n",
      "Testing mu = 1.00e-07, lf_w0 = 2.00e+00\n",
      "============================================================\n",
      "Begin training for rate=0.01, mu=1e-07\n",
      "\tLearning epoch = 0\tGradient mag. = 0.052613\n",
      "\tLearning epoch = 250\tGradient mag. = 0.057519\n",
      "\tLearning epoch = 500\tGradient mag. = 0.060635\n",
      "\tLearning epoch = 750\tGradient mag. = 0.064797\n",
      "Final gradient magnitude for rate=0.01, mu=1e-07: 0.070\n"
     ]
    }
   ],
   "source": [
    "from snorkel.learning_utils import GridSearch\n",
    "\n",
    "gs       = GridSearch(learner, ['mu', 'lf_w0'], [[1e-5, 1e-7],[1.0,2.0]])\n",
    "gs_stats = gs.fit(cv_candidates, cv_labels)"
   ]
  },
  {
   "cell_type": "code",
   "execution_count": 58,
   "metadata": {
    "collapsed": false
   },
   "outputs": [
    {
     "data": {
      "text/html": [
       "<div style=\"max-height:1000px;max-width:1500px;overflow:auto;\">\n",
       "<table border=\"1\" class=\"dataframe\">\n",
       "  <thead>\n",
       "    <tr style=\"text-align: right;\">\n",
       "      <th></th>\n",
       "      <th>mu</th>\n",
       "      <th>lf_w0</th>\n",
       "      <th>Prec.</th>\n",
       "      <th>Rec.</th>\n",
       "      <th>F1</th>\n",
       "    </tr>\n",
       "  </thead>\n",
       "  <tbody>\n",
       "    <tr>\n",
       "      <th>0</th>\n",
       "      <td> 0.00001</td>\n",
       "      <td> 1</td>\n",
       "      <td> 0.166667</td>\n",
       "      <td> 0.1</td>\n",
       "      <td> 0.125</td>\n",
       "    </tr>\n",
       "    <tr>\n",
       "      <th>1</th>\n",
       "      <td> 0.00001</td>\n",
       "      <td> 2</td>\n",
       "      <td> 0.166667</td>\n",
       "      <td> 0.1</td>\n",
       "      <td> 0.125</td>\n",
       "    </tr>\n",
       "    <tr>\n",
       "      <th>2</th>\n",
       "      <td> 0.00000</td>\n",
       "      <td> 1</td>\n",
       "      <td> 0.166667</td>\n",
       "      <td> 0.1</td>\n",
       "      <td> 0.125</td>\n",
       "    </tr>\n",
       "    <tr>\n",
       "      <th>3</th>\n",
       "      <td> 0.00000</td>\n",
       "      <td> 2</td>\n",
       "      <td> 0.166667</td>\n",
       "      <td> 0.1</td>\n",
       "      <td> 0.125</td>\n",
       "    </tr>\n",
       "  </tbody>\n",
       "</table>\n",
       "<p>4 rows × 5 columns</p>\n",
       "</div>"
      ],
      "text/plain": [
       "        mu  lf_w0     Prec.  Rec.     F1\n",
       "0  0.00001      1  0.166667   0.1  0.125\n",
       "1  0.00001      2  0.166667   0.1  0.125\n",
       "2  0.00000      1  0.166667   0.1  0.125\n",
       "3  0.00000      2  0.166667   0.1  0.125\n",
       "\n",
       "[4 rows x 5 columns]"
      ]
     },
     "execution_count": 58,
     "metadata": {},
     "output_type": "execute_result"
    }
   ],
   "source": [
    "gs_stats"
   ]
  },
  {
   "cell_type": "code",
   "execution_count": 59,
   "metadata": {
    "collapsed": false
   },
   "outputs": [
    {
     "name": "stdout",
     "output_type": "stream",
     "text": [
      "Applying LFs...\n",
      "Featurizing...\n",
      "========================================\n",
      "Test set size:\t566\n",
      "----------------------------------------\n",
      "Precision:\t0.217391304348\n",
      "Recall:\t\t0.3125\n",
      "F1 Score:\t0.25641025641\n",
      "----------------------------------------\n",
      "TP: 5 | FP: 18 | TN: 532 | FN: 11\n",
      "========================================\n"
     ]
    },
    {
     "name": "stderr",
     "output_type": "stream",
     "text": [
      "/Library/Python/2.7/site-packages/numpy/core/_methods.py:59: RuntimeWarning: Mean of empty slice.\n",
      "  warnings.warn(\"Mean of empty slice.\", RuntimeWarning)\n"
     ]
    }
   ],
   "source": [
    "learner.test(test_candidates, test_labels)"
   ]
  },
  {
   "cell_type": "markdown",
   "metadata": {},
   "source": [
    "## Let's extract some relations!"
   ]
  },
  {
   "cell_type": "code",
   "execution_count": 68,
   "metadata": {
    "collapsed": false
   },
   "outputs": [
    {
     "name": "stdout",
     "output_type": "stream",
     "text": [
      "CPU times: user 3.44 s, sys: 367 ms, total: 3.81 s\n",
      "Wall time: 4.26 s\n"
     ]
    }
   ],
   "source": [
    "from snorkel.candidates import RelationExtractor, EntityExtractor\n",
    "\n",
    "ngrams = Ngrams(n_max=5)\n",
    "rsid_extractor = EntityExtractor(ngrams, rsid_matcher)\n",
    "pval_extractor = EntityExtractor(ngrams, pval_matcher)\n",
    "rel_extractor = RelationExtractor(rsid_extractor, pval_extractor)\n",
    "\n",
    "%time pval_relations = rel_extractor.extract(corpus.get_sentences(), name='all')"
   ]
  },
  {
   "cell_type": "markdown",
   "metadata": {},
   "source": [
    "Again, extract features."
   ]
  },
  {
   "cell_type": "code",
   "execution_count": 75,
   "metadata": {
    "collapsed": false
   },
   "outputs": [
    {
     "name": "stdout",
     "output_type": "stream",
     "text": [
      "Building feature index...\n",
      "Extracting features...\n",
      "0/3353\n"
     ]
    }
   ],
   "source": [
    "import cPickle        \n",
    "from snorkel.features import NgramPairFeaturizer\n",
    "\n",
    "pkl_f = 'pval_rel_feats.pkl'\n",
    "try:\n",
    "    with open(pkl_f, 'rb') as f:\n",
    "        featurizer = cPickle.load(f)\n",
    "except:\n",
    "    featurizer = NgramPairFeaturizer()\n",
    "    featurizer.fit_transform(pval_relations)"
   ]
  },
  {
   "cell_type": "markdown",
   "metadata": {},
   "source": [
    "Now we create the gold truth set."
   ]
  },
  {
   "cell_type": "code",
   "execution_count": 82,
   "metadata": {
    "collapsed": false
   },
   "outputs": [],
   "source": [
    "# load true phenotype mentions\n",
    "from math import floor, log10\n",
    "from db.kb import KnowledgeBase\n",
    "kb = KnowledgeBase()\n",
    "\n",
    "doc_ids = [get_doc_id(rel) for rel in pval_relations]\n",
    "# we only get the magnitude of the p-value:\n",
    "gold_pval_dict = { \n",
    "    doc_id : set([ \n",
    "                (assoc.snp.rs_id, floor(log10(assoc.pvalue))) for assoc in kb.assoc_by_pmid(doc_id) if assoc and assoc.pvalue \n",
    "            ])\n",
    "    for doc_id in doc_ids\n",
    "}"
   ]
  },
  {
   "cell_type": "code",
   "execution_count": 84,
   "metadata": {
    "collapsed": false
   },
   "outputs": [
    {
     "name": "stdout",
     "output_type": "stream",
     "text": [
      "(u'rs9930506', 8.599999999999999e-07)\n"
     ]
    }
   ],
   "source": [
    "# small helper functions:\n",
    "from extractor.util import pvalue_to_float\n",
    "def get_rsid_pval(rel, stem=False):\n",
    "    # pvalue\n",
    "    pval_txt = rel.span1.get_span()\n",
    "    pval = pvalue_to_float(pval_txt)\n",
    "    # rsid\n",
    "    rsid = rel.span0.get_span()    \n",
    "    return rsid, pval\n",
    "    \n",
    "# print pval_relations[0].mention2()\n",
    "print get_rsid_pval(pval_relations[0])"
   ]
  },
  {
   "cell_type": "code",
   "execution_count": 85,
   "metadata": {
    "collapsed": false
   },
   "outputs": [],
   "source": [
    "# classify candidates as correct or not\n",
    "from math import floor, log10\n",
    "uids = list()\n",
    "gt = list()\n",
    "\n",
    "for doc_id, rel in zip(doc_ids, pval_relations):\n",
    "    rsid, pval = get_rsid_pval(rel)\n",
    "    \n",
    "    # we say that its correct if we get the right order of magnitude\n",
    "    if pval:\n",
    "        uids.append(rel.uid)\n",
    "        pval_mag = floor(log10(pval))\n",
    "        if (rsid, pval_mag) in gold_pval_dict[doc_id]:\n",
    "            gt.append(+1)\n",
    "        else:\n",
    "            gt.append(-1)"
   ]
  },
  {
   "cell_type": "markdown",
   "metadata": {},
   "source": [
    "#### Labeling functions"
   ]
  },
  {
   "cell_type": "code",
   "execution_count": null,
   "metadata": {
    "collapsed": true
   },
   "outputs": [],
   "source": [
    "#### WHAT IS BELOW IS CURRENTLY NOT WORKING"
   ]
  },
  {
   "cell_type": "markdown",
   "metadata": {},
   "source": [
    "Print a few examples, for debugging."
   ]
  },
  {
   "cell_type": "code",
   "execution_count": 88,
   "metadata": {
    "collapsed": false
   },
   "outputs": [
    {
     "ename": "AttributeError",
     "evalue": "'SpanPair' object has no attribute 'e1_idxs'",
     "output_type": "error",
     "traceback": [
      "\u001b[0;31m---------------------------------------------------------------------------\u001b[0m",
      "\u001b[0;31mAttributeError\u001b[0m                            Traceback (most recent call last)",
      "\u001b[0;32m<ipython-input-88-96f1bdc12d2c>\u001b[0m in \u001b[0;36m<module>\u001b[0;34m()\u001b[0m\n\u001b[1;32m      1\u001b[0m \u001b[0;32mfor\u001b[0m \u001b[0mi\u001b[0m \u001b[0;32min\u001b[0m \u001b[0mrange\u001b[0m\u001b[0;34m(\u001b[0m\u001b[0;36m1000\u001b[0m\u001b[0;34m)\u001b[0m\u001b[0;34m:\u001b[0m\u001b[0;34m\u001b[0m\u001b[0m\n\u001b[1;32m      2\u001b[0m     \u001b[0mr\u001b[0m \u001b[0;34m=\u001b[0m \u001b[0mpval_relations\u001b[0m\u001b[0;34m[\u001b[0m\u001b[0mi\u001b[0m\u001b[0;34m]\u001b[0m\u001b[0;34m\u001b[0m\u001b[0m\n\u001b[0;32m----> 3\u001b[0;31m     \u001b[0mpos_labels\u001b[0m \u001b[0;34m=\u001b[0m \u001b[0;34m[\u001b[0m\u001b[0mLF\u001b[0m\u001b[0;34m(\u001b[0m\u001b[0mr\u001b[0m\u001b[0;34m)\u001b[0m \u001b[0;32mfor\u001b[0m \u001b[0mLF\u001b[0m \u001b[0;32min\u001b[0m \u001b[0mpos_LFs\u001b[0m\u001b[0;34m]\u001b[0m\u001b[0;34m\u001b[0m\u001b[0m\n\u001b[0m\u001b[1;32m      4\u001b[0m     \u001b[0mneg_labels\u001b[0m \u001b[0;34m=\u001b[0m \u001b[0;34m[\u001b[0m\u001b[0mLF\u001b[0m\u001b[0;34m(\u001b[0m\u001b[0mr\u001b[0m\u001b[0;34m)\u001b[0m \u001b[0;32mfor\u001b[0m \u001b[0mLF\u001b[0m \u001b[0;32min\u001b[0m \u001b[0mneg_LFs\u001b[0m\u001b[0;34m]\u001b[0m\u001b[0;34m\u001b[0m\u001b[0m\n\u001b[1;32m      5\u001b[0m     \u001b[0mlabels\u001b[0m \u001b[0;34m=\u001b[0m \u001b[0mpos_labels\u001b[0m \u001b[0;34m+\u001b[0m \u001b[0mneg_labels\u001b[0m\u001b[0;34m\u001b[0m\u001b[0m\n",
      "\u001b[0;32m<ipython-input-87-fbda74507c45>\u001b[0m in \u001b[0;36mLF_one_lrb\u001b[0;34m(m)\u001b[0m\n\u001b[1;32m     26\u001b[0m \u001b[0;31m# positive LFs\u001b[0m\u001b[0;34m\u001b[0m\u001b[0;34m\u001b[0m\u001b[0m\n\u001b[1;32m     27\u001b[0m \u001b[0;32mdef\u001b[0m \u001b[0mLF_one_lrb\u001b[0m\u001b[0;34m(\u001b[0m\u001b[0mm\u001b[0m\u001b[0;34m)\u001b[0m\u001b[0;34m:\u001b[0m\u001b[0;34m\u001b[0m\u001b[0m\n\u001b[0;32m---> 28\u001b[0;31m     \u001b[0miw\u001b[0m \u001b[0;34m=\u001b[0m \u001b[0minternal_words\u001b[0m\u001b[0;34m(\u001b[0m\u001b[0mm\u001b[0m\u001b[0;34m)\u001b[0m\u001b[0;34m\u001b[0m\u001b[0m\n\u001b[0m\u001b[1;32m     29\u001b[0m     \u001b[0;32mreturn\u001b[0m \u001b[0;34m+\u001b[0m\u001b[0;36m1\u001b[0m \u001b[0;32mif\u001b[0m \u001b[0;34m'-LRB-'\u001b[0m \u001b[0;32min\u001b[0m \u001b[0miw\u001b[0m \u001b[0;32mand\u001b[0m \u001b[0;34m'-RRB-'\u001b[0m \u001b[0;32mnot\u001b[0m \u001b[0;32min\u001b[0m \u001b[0miw\u001b[0m \u001b[0;32melse\u001b[0m \u001b[0;36m0\u001b[0m\u001b[0;34m\u001b[0m\u001b[0m\n\u001b[1;32m     30\u001b[0m \u001b[0;32mdef\u001b[0m \u001b[0mLF_in_pars\u001b[0m\u001b[0;34m(\u001b[0m\u001b[0mm\u001b[0m\u001b[0;34m)\u001b[0m\u001b[0;34m:\u001b[0m\u001b[0;34m\u001b[0m\u001b[0m\n",
      "\u001b[0;32m<ipython-input-87-fbda74507c45>\u001b[0m in \u001b[0;36minternal_words\u001b[0;34m(r, lemmas)\u001b[0m\n\u001b[1;32m      2\u001b[0m \u001b[0;32mdef\u001b[0m \u001b[0minternal_words\u001b[0m\u001b[0;34m(\u001b[0m\u001b[0mr\u001b[0m\u001b[0;34m,\u001b[0m \u001b[0mlemmas\u001b[0m\u001b[0;34m=\u001b[0m\u001b[0mFalse\u001b[0m\u001b[0;34m)\u001b[0m\u001b[0;34m:\u001b[0m\u001b[0;34m\u001b[0m\u001b[0m\n\u001b[1;32m      3\u001b[0m     \u001b[0;31m# last index of first mention, first index of second mention:\u001b[0m\u001b[0;34m\u001b[0m\u001b[0;34m\u001b[0m\u001b[0m\n\u001b[0;32m----> 4\u001b[0;31m     \u001b[0mfirst_idx1\u001b[0m \u001b[0;34m=\u001b[0m \u001b[0mmin\u001b[0m\u001b[0;34m(\u001b[0m\u001b[0mr\u001b[0m\u001b[0;34m.\u001b[0m\u001b[0me1_idxs\u001b[0m\u001b[0;34m)\u001b[0m\u001b[0;34m\u001b[0m\u001b[0m\n\u001b[0m\u001b[1;32m      5\u001b[0m     \u001b[0mfirst_idx2\u001b[0m \u001b[0;34m=\u001b[0m \u001b[0mmin\u001b[0m\u001b[0;34m(\u001b[0m\u001b[0mr\u001b[0m\u001b[0;34m.\u001b[0m\u001b[0me2_idxs\u001b[0m\u001b[0;34m)\u001b[0m\u001b[0;34m\u001b[0m\u001b[0m\n\u001b[1;32m      6\u001b[0m     \u001b[0;32mif\u001b[0m \u001b[0mfirst_idx1\u001b[0m \u001b[0;34m<\u001b[0m \u001b[0mfirst_idx2\u001b[0m\u001b[0;34m:\u001b[0m\u001b[0;34m\u001b[0m\u001b[0m\n",
      "\u001b[0;31mAttributeError\u001b[0m: 'SpanPair' object has no attribute 'e1_idxs'"
     ]
    }
   ],
   "source": [
    "for i in range(1000):\n",
    "    r = pval_relations[i]\n",
    "    pos_labels = [LF(r) for LF in pos_LFs]\n",
    "    neg_labels = [LF(r) for LF in neg_LFs]\n",
    "    labels = pos_labels + neg_labels\n",
    "#     if 1 not in labels and -1 not in labels:\n",
    "    if 1 in labels and -1 in labels:        \n",
    "        print '----'\n",
    "        print r.span0.context.text\n",
    "        print r.span0\n",
    "        print r.span1\n",
    "        print\n",
    "        print pos_labels\n",
    "        print neg_labels\n",
    "        print internal_words(r, lemmas=True)\n",
    "    #     print r.pre_window1('words')\n",
    "    #     print r.post_window2('words')    \n",
    "        print"
   ]
  },
  {
   "cell_type": "markdown",
   "metadata": {},
   "source": [
    "Now, define a few labeling functions"
   ]
  },
  {
   "cell_type": "code",
   "execution_count": 87,
   "metadata": {
    "collapsed": false
   },
   "outputs": [],
   "source": [
    "import re\n",
    "def internal_words(r, lemmas=False):\n",
    "    # last index of first mention, first index of second mention:\n",
    "    first_idx1 = min(r.span0.get_word_start())\n",
    "    first_idx2 = min(r.span1.get_word_start())\n",
    "    if first_idx1 < first_idx2:\n",
    "        idx1 = max(r.)\n",
    "        idx2 = min(r.e2_idxs)\n",
    "    else:\n",
    "        idx1 = max(r.e2_idxs)\n",
    "        idx2 = min(r.e1_idxs)\n",
    "    # internal words\n",
    "    if lemmas:\n",
    "        return r.lemmas[idx1+1:idx2]\n",
    "    else:\n",
    "        return r.words[idx1+1:idx2]\n",
    "        \n",
    "\n",
    "def internal_range(r):\n",
    "    # last index of first mention, first index of second mention:\n",
    "    idx1 = min(r.mention1.idxs + r.mention2.idxs)\n",
    "    idx2 = max(r.mention1.idxs + r.mention2.idxs)\n",
    "    # internal words\n",
    "    return idx1, idx2\n",
    "\n",
    "# positive LFs\n",
    "def LF_one_lrb(m):\n",
    "    iw = internal_words(m)\n",
    "    return +1 if '-LRB-' in iw and '-RRB-' not in iw else 0\n",
    "def LF_in_pars(m):\n",
    "    iw = internal_words(m)\n",
    "    iwj = ' '.join([w.lower() for w in iw])\n",
    "    n_rs = len(re.findall('rs\\d+', iwj))\n",
    "    return +1 \\\n",
    "        if '-LRB-' not in iw and '-RRB-' not in iw \\\n",
    "        and '-LRB-' in m.pre_window1('words', 5) \\\n",
    "        and '-RRB-' in m.post_window2('words', 5) \\\n",
    "        and n_rs == 0 \\\n",
    "        else 0\n",
    "def LF_associate(m):\n",
    "    iw = internal_words(m, lemmas=True)\n",
    "    return +1 if 'associate' in iw and len(iw) <= 7 else 0\n",
    "def LF_for(m):\n",
    "    iw = internal_words(m, lemmas=True)\n",
    "    return +1 if 'for' in iw and len(iw) <= 5 else 0\n",
    "def LF_col(m):\n",
    "    iw = internal_words(m, lemmas=True)\n",
    "    return +1 if ':' in iw and len(iw) <= 5 else 0\n",
    "def LF_two_p(m):\n",
    "    iw = internal_words(m)\n",
    "    iwj = ' '.join([w.lower() for w in iw])\n",
    "    n_p = len(re.findall('p =', iwj))\n",
    "    n_rs = len(re.findall('rs\\d+', iwj))\n",
    "    return 1 if n_p >= 2 and n_rs == 0 else 0\n",
    "\n",
    "# negative LFs\n",
    "def LF_rrb(m):\n",
    "    iw = internal_words(m)\n",
    "    return -1 if '-RRB-' in iw else 0\n",
    "def LF_no_p(m):\n",
    "    iw = internal_words(m)\n",
    "    return -1 if 'p' not in [w.lower() for w in m.pre_window2('words', 5)] \\\n",
    "              and 'for' not in [w.lower() for w in m.pre_window1('words')] \\\n",
    "              and len(iw) >= 3 \\\n",
    "              else 0\n",
    "# def LF_mid_p(m):\n",
    "#     iw = internal_words(m)\n",
    "#     return -1 if 'p' in [w.lower() for w in iw] else 0\n",
    "def LF_semicol(m):\n",
    "    iw = internal_words(m)\n",
    "    return -1 if ';' in iw and '-LRB-' not in iw and len(iw) >= 5 else 0\n",
    "def LF_and(m):\n",
    "    iw = internal_words(m)\n",
    "    return -1 if 'and' in iw else 0\n",
    "\n",
    "pos_LFs = [LF_one_lrb, LF_in_pars, LF_associate, LF_for, LF_col, LF_two_p]\n",
    "neg_LFs = [LF_rrb, LF_no_p, LF_semicol, LF_and]\n",
    "LFs = pos_LFs + neg_LFs"
   ]
  },
  {
   "cell_type": "code",
   "execution_count": 426,
   "metadata": {
    "collapsed": false
   },
   "outputs": [],
   "source": [
    "DDL.update_gt(gt, uids=uids)\n",
    "n_data = DDL.num_candidates()\n",
    "idxs = np.arange(start=n_data/2, stop=n_data)\n",
    "DDL.set_holdout(idxs)\n",
    "\n",
    "DDL.apply_lfs(LFs, clear=True)"
   ]
  },
  {
   "cell_type": "code",
   "execution_count": 427,
   "metadata": {
    "collapsed": false
   },
   "outputs": [
    {
     "name": "stdout",
     "output_type": "stream",
     "text": [
      "LF stats on training set\n",
      "Coverage:\t96.051%\n",
      "Overlap:\t45.877%\n",
      "Conflict:\t4.878%\n"
     ]
    },
    {
     "data": {
      "image/png": "[encoded data removed]",
      "text/plain": [
       "<matplotlib.figure.Figure at 0x152e18550>"
      ]
     },
     "metadata": {},
     "output_type": "display_data"
    }
   ],
   "source": [
    "DDL.print_lf_stats()\n",
    "DDL.plot_lf_stats()\n"
   ]
  },
  {
   "cell_type": "code",
   "execution_count": 428,
   "metadata": {
    "collapsed": false
   },
   "outputs": [
    {
     "name": "stdout",
     "output_type": "stream",
     "text": [
      "Begin training for rate=0.01, mu=1e-07\n",
      "\tLearning epoch = 0\tGradient mag. = 0.316057\n",
      "\tLearning epoch = 250\tGradient mag. = 0.481987\n",
      "Final gradient magnitude for rate=0.01, mu=1e-07: 0.597\n",
      "Running in False mode...\n",
      "Begin training for rate=0.01, mu=1e-09\n",
      "\tLearning epoch = 0\tGradient mag. = 0.055793\n",
      "\tLearning epoch = 250\tGradient mag. = 0.058497\n",
      "\tLearning epoch = 500\tGradient mag. = 0.058266\n",
      "\tLearning epoch = 750\tGradient mag. = 0.058038\n",
      "\tLearning epoch = 1000\tGradient mag. = 0.057811\n",
      "\tLearning epoch = 1250\tGradient mag. = 0.057587\n",
      "\tLearning epoch = 1500\tGradient mag. = 0.057364\n",
      "\tLearning epoch = 1750\tGradient mag. = 0.057144\n",
      "\tLearning epoch = 2000\tGradient mag. = 0.056925\n",
      "\tLearning epoch = 2250\tGradient mag. = 0.056708\n",
      "\tLearning epoch = 2500\tGradient mag. = 0.056493\n",
      "\tLearning epoch = 2750\tGradient mag. = 0.056280\n",
      "Final gradient magnitude for rate=0.01, mu=1e-09: 0.056\n",
      "Begin training for rate=0.01, mu=1e-05\n",
      "\tLearning epoch = 0\tGradient mag. = 0.055793\n",
      "\tLearning epoch = 250\tGradient mag. = 0.058497\n",
      "\tLearning epoch = 500\tGradient mag. = 0.058267\n",
      "\tLearning epoch = 750\tGradient mag. = 0.058038\n",
      "\tLearning epoch = 1000\tGradient mag. = 0.057812\n",
      "\tLearning epoch = 1250\tGradient mag. = 0.057588\n",
      "\tLearning epoch = 1500\tGradient mag. = 0.057366\n",
      "\tLearning epoch = 1750\tGradient mag. = 0.057145\n",
      "\tLearning epoch = 2000\tGradient mag. = 0.056927\n",
      "\tLearning epoch = 2250\tGradient mag. = 0.056711\n",
      "\tLearning epoch = 2500\tGradient mag. = 0.056496\n",
      "\tLearning epoch = 2750\tGradient mag. = 0.056284\n",
      "Final gradient magnitude for rate=0.01, mu=1e-05: 0.056\n",
      "Begin training for rate=0.01, mu=0.001\n",
      "\tLearning epoch = 0\tGradient mag. = 0.055793\n",
      "\tLearning epoch = 250\tGradient mag. = 0.058523\n",
      "\tLearning epoch = 500\tGradient mag. = 0.058319\n",
      "\tLearning epoch = 750\tGradient mag. = 0.058118\n",
      "\tLearning epoch = 1000\tGradient mag. = 0.057918\n",
      "\tLearning epoch = 1250\tGradient mag. = 0.057720\n",
      "\tLearning epoch = 1500\tGradient mag. = 0.057525\n",
      "\tLearning epoch = 1750\tGradient mag. = 0.057331\n",
      "\tLearning epoch = 2000\tGradient mag. = 0.057140\n",
      "\tLearning epoch = 2250\tGradient mag. = 0.056950\n",
      "\tLearning epoch = 2500\tGradient mag. = 0.056762\n",
      "\tLearning epoch = 2750\tGradient mag. = 0.056577\n",
      "Final gradient magnitude for rate=0.01, mu=0.001: 0.056\n",
      "Begin training for rate=0.01, mu=0.1\n",
      "\tLearning epoch = 0\tGradient mag. = 0.055793\n",
      "SGD converged for mu=0.1 after 10 steps\n"
     ]
    },
    {
     "data": {
      "image/png": "[encoded data removed]",
      "text/plain": [
       "<matplotlib.figure.Figure at 0x1455a7f90>"
      ]
     },
     "metadata": {},
     "output_type": "display_data"
    },
    {
     "name": "stdout",
     "output_type": "stream",
     "text": [
      "CPU times: user 29.1 s, sys: 417 ms, total: 29.5 s\n",
      "Wall time: 29.8 s\n"
     ]
    },
    {
     "data": {
      "text/html": [
       "<table><tr><td><b>ID</b></td><td><b># LFs</b></td><td><b>Test set size</b></td><td><b>Model</b></td><td><b>Precision</b></td><td><b>Recall</b></td><td><b>F1</b></td></tr><tr><td>5</td><td>10</td><td>423</td><td>Logistic regression</td><td>0.000</td><td>0.000</td><td>0.000</td></tr></table><table><tr><td><b>LF</b></td></tr><tr><td>LF_one_lrb</td></tr><tr><td>LF_in_pars</td></tr><tr><td>LF_associate</td></tr><tr><td>LF_for</td></tr><tr><td>LF_col</td></tr><tr><td>LF_two_p</td></tr><tr><td>LF_rrb</td></tr><tr><td>LF_no_p</td></tr><tr><td>LF_semicol</td></tr><tr><td>LF_and</td></tr></table>"
      ],
      "text/plain": [
       "<snorkel.snorkel.ModelLog instance at 0x14586fcb0>"
      ]
     },
     "execution_count": 428,
     "metadata": {},
     "output_type": "execute_result"
    }
   ],
   "source": [
    "import matplotlib\n",
    "import numpy as np\n",
    "%matplotlib inline\n",
    "\n",
    "matplotlib.rcParams['figure.figsize'] = (12,4)\n",
    "mu_seq = np.ravel([1e-9, 1e-5, 1e-3, 1e-1])\n",
    "lf_opts = {'sample': False, 'verbose': True}\n",
    "model_opts = {'sample': False, 'n_iter': 3000, 'alpha': 0.5, 'mu': mu_seq, 'bias': False, 'verbose': True}\n",
    "%time DDL.train_model(method='lr', lf_opts=lf_opts, model_opts=model_opts)"
   ]
  },
  {
   "cell_type": "code",
   "execution_count": null,
   "metadata": {
    "collapsed": true
   },
   "outputs": [],
   "source": []
  }
 ],
 "metadata": {
  "kernelspec": {
   "display_name": "Python 2",
   "language": "python",
   "name": "python2"
  },
  "language_info": {
   "codemirror_mode": {
    "name": "ipython",
    "version": 2
   },
   "file_extension": ".py",
   "mimetype": "text/x-python",
   "name": "python",
   "nbconvert_exporter": "python",
   "pygments_lexer": "ipython2",
   "version": "2.7.2"
  }
 },
 "nbformat": 4,
 "nbformat_minor": 0
}
