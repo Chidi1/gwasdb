{
 "cells": [
  {
   "cell_type": "markdown",
   "metadata": {},
   "source": [
    "# SNP/Phenotype detection from raw text"
   ]
  },
  {
   "cell_type": "code",
   "execution_count": 1,
   "metadata": {
    "collapsed": false
   },
   "outputs": [],
   "source": [
    "%load_ext autoreload\n",
    "%autoreload 2\n",
    "\n",
    "import sys"
   ]
  },
  {
   "cell_type": "code",
   "execution_count": 2,
   "metadata": {
    "collapsed": false
   },
   "outputs": [],
   "source": [
    "# import snorkel and gwasdb\n",
    "sys.path.append('../snorkel')\n",
    "sys.path.append('../src')\n",
    "\n",
    "# set up paths\n",
    "abstract_dir = '../data/db/papers'"
   ]
  },
  {
   "cell_type": "markdown",
   "metadata": {},
   "source": [
    "## Assemble a corpus"
   ]
  },
  {
   "cell_type": "markdown",
   "metadata": {},
   "source": [
    "We will look at abstracts for now"
   ]
  },
  {
   "cell_type": "code",
   "execution_count": 3,
   "metadata": {
    "collapsed": false
   },
   "outputs": [],
   "source": [
    "from snorkel.parser import XMLDocParser\n",
    "from extractor.parser import UnicodeXMLDocParser\n",
    "\n",
    "xml_parser = UnicodeXMLDocParser(\n",
    "    path=abstract_dir,\n",
    "    doc='./*',\n",
    "    text='.//abstract/p//text()',\n",
    "    id='.//article-id[@pub-id-type=\"pmid\"]/text()',\n",
    "    keep_xml_tree=True)"
   ]
  },
  {
   "cell_type": "markdown",
   "metadata": {},
   "source": [
    "Warning: there are unicode chars that cause trouble, e.g.:"
   ]
  },
  {
   "cell_type": "code",
   "execution_count": 23,
   "metadata": {
    "collapsed": false
   },
   "outputs": [
    {
     "name": "stdout",
     "output_type": "stream",
     "text": [
      "−8\n",
      "\n",
      "×\n"
     ]
    }
   ],
   "source": [
    "import unicodedata\n",
    "print u'\\u2212 8'\n",
    "txt=u'\\xd7'\n",
    "print unicodedata.normalize('NFKD', txt).encode('ascii','ignore')\n",
    "print unicode(txt)"
   ]
  },
  {
   "cell_type": "markdown",
   "metadata": {},
   "source": [
    "Get the actual docs:"
   ]
  },
  {
   "cell_type": "code",
   "execution_count": 20,
   "metadata": {
    "collapsed": false
   },
   "outputs": [
    {
     "name": "stdout",
     "output_type": "stream",
     "text": [
      "<Element article at 0x106398ea8>\n",
      "[u'QT interval duration reflecting myocardial repolarization on the electrocardiogram is a heritable risk factor for sudden cardiac death and drug-induced arrhythmias. We conducted a meta-analysis of 3 genome-wide association studies in 13,685 individuals of European ancestry from the Framingham Heart Study, the Rotterdam Study and the Cardiovascular Health Study. We observed associations at P < 5\\xd710', u'\\u22128', ' with variants in ', 'NOS1AP', ', ', 'KCNQ1, KCNE1', ', ', 'KCNH2', ' and ', 'SCN5A', ', known to be involved in myocardial repolarization and Mendelian Long QT Syndromes. Associations at five novel loci included 16q21 near ', 'NDRG4', ' and ', 'GINS3', ', 6q22 near ', 'PLN', ', 1p36 near ', 'RNF207', ', 16p13 near ', 'LITAF', ' and 17q12 near ', 'LIG3', ' and ', 'RIFFL', u'. Collectively, the 14 independent variants at these 10 loci explain 5.4\\u20136.5% of variation in QT interval. Identifying the causal variants and defining their impact on myocardial repolarization may add incrementally to the prevention of sudden cardiac death and drug-induced arrhythmias.']\n"
     ]
    }
   ],
   "source": [
    "import lxml.etree as et\n",
    "with open('../data/db/papers/19305408.xml') as f:\n",
    "    for i,doc in enumerate(et.parse(f).xpath('./*')):\n",
    "        print doc\n",
    "        print doc.xpath('.//abstract/p//text()')"
   ]
  },
  {
   "cell_type": "code",
   "execution_count": 4,
   "metadata": {
    "collapsed": false
   },
   "outputs": [
    {
     "name": "stdout",
     "output_type": "stream",
     "text": [
      "Parsing documents...\n",
      "Parsing contexts...\n",
      "Parsed 589 documents and 4799 contexts\n",
      "CPU times: user 8.52 s, sys: 934 ms, total: 9.45 s\n",
      "Wall time: 1min 22s\n"
     ]
    }
   ],
   "source": [
    "from snorkel.parser import SentenceParser\n",
    "from snorkel.parser import Corpus\n",
    "\n",
    "sent_parser = SentenceParser()\n",
    "%time corpus = Corpus(xml_parser, sent_parser)"
   ]
  },
  {
   "cell_type": "markdown",
   "metadata": {
    "collapsed": true
   },
   "source": [
    "Test the results:"
   ]
  },
  {
   "cell_type": "code",
   "execution_count": 5,
   "metadata": {
    "collapsed": false
   },
   "outputs": [
    {
     "name": "stdout",
     "output_type": "stream",
     "text": [
      "Document(id='21298047', file='21298047.xml', text=u'Substance dependence or addiction is a complex environmental and genetic disorder that results in serious health and socio-economic consequences. Multiple substance dependence categories together, rather than any one individual addiction outcome, may explain the genetic variability of such disorder. In our study, we defined a composite substance dependence phenotype derived from six individual diagnoses: addiction to nicotine, alcohol, marijuana, cocaine, opiates or other drugs as a whole. Using data from several genomewide case-control studies, we identified a strong (Odds ratio \\u200a=\\u200a1.77) and significant (p-value\\u200a=\\u200a7E-8) association signal with a novel gene, PBX/knotted 1 homeobox 2 (PKNOX2), on chromosome 11 with the composite phenotype in European-origin women. The association signal is not as significant when individual outcomes for addiction are considered, or in males or African-origin population. Our findings underscore the importance of considering multiple addiction types and the importance of considering population and gender stratification when analyzing data with heterogeneous population.', attribs={'root': <Element article at 0x10630c7a0>})\n"
     ]
    }
   ],
   "source": [
    "doc = corpus.get_docs()[2]\n",
    "print doc"
   ]
  },
  {
   "cell_type": "code",
   "execution_count": 9,
   "metadata": {
    "collapsed": false
   },
   "outputs": [
    {
     "name": "stdout",
     "output_type": "stream",
     "text": [
      "Sentence(id='21298047-0', doc_id='21298047', doc_name='21298047.xml', sent_id=0, words=[u'Substance', u'dependence', u'or', u'addiction', u'is', u'a', u'complex', u'environmental', u'and', u'genetic', u'disorder', u'that', u'results', u'in', u'serious', u'health', u'and', u'socio-economic', u'consequences', u'.'], lemmas=[u'substance', u'dependence', u'or', u'addiction', u'be', u'a', u'complex', u'environmental', u'and', u'genetic', u'disorder', u'that', u'result', u'in', u'serious', u'health', u'and', u'socio-economic', u'consequence', u'.'], poses=[u'NN', u'NN', u'CC', u'NN', u'VBZ', u'DT', u'JJ', u'JJ', u'CC', u'JJ', u'NN', u'WDT', u'VBZ', u'IN', u'JJ', u'NN', u'CC', u'JJ', u'NNS', u'.'], dep_parents=[2, 11, 2, 2, 11, 11, 11, 11, 8, 8, 0, 13, 11, 16, 16, 13, 16, 19, 16, 11], dep_labels=[u'compound', u'nsubj', u'cc', u'conj', u'cop', u'det', u'amod', u'amod', u'cc', u'conj', u'ROOT', u'nsubj', u'acl:relcl', u'case', u'amod', u'nmod', u'cc', u'amod', u'conj', u'punct'], char_offsets=[0, 10, 21, 24, 34, 37, 39, 47, 61, 65, 73, 82, 87, 95, 98, 106, 113, 117, 132, 144], text=u'Substance dependence or addiction is a complex environmental and genetic disorder that results in serious health and socio-economic consequences.')\n"
     ]
    }
   ],
   "source": [
    "sent = corpus.get_contexts_in(doc.id)[0]\n",
    "print sent"
   ]
  },
  {
   "cell_type": "markdown",
   "metadata": {},
   "source": [
    "## Try extracting rs-ids first"
   ]
  },
  {
   "cell_type": "code",
   "execution_count": 6,
   "metadata": {
    "collapsed": false
   },
   "outputs": [],
   "source": [
    "# add new paths\n",
    "sys.path.append('../src/crawler')\n",
    "sys.path.append('../src/crawler/db')\n",
    "\n",
    "# import new libs\n",
    "from kb import KnowledgeBase\n",
    "from extractor.util import gold_rsid_stats, gold_rsid_precision\n",
    "\n",
    "from snorkel.candidates import Ngrams\n",
    "from snorkel.matchers import DictionaryMatch, RegexMatchSpan, Union\n",
    "from snorkel.candidates import Candidates"
   ]
  },
  {
   "cell_type": "markdown",
   "metadata": {},
   "source": [
    "Get a list of all the rs-ids we know."
   ]
  },
  {
   "cell_type": "code",
   "execution_count": 7,
   "metadata": {
    "collapsed": true
   },
   "outputs": [],
   "source": [
    "kb = KnowledgeBase()"
   ]
  },
  {
   "cell_type": "code",
   "execution_count": 11,
   "metadata": {
    "collapsed": false
   },
   "outputs": [
    {
     "name": "stdout",
     "output_type": "stream",
     "text": [
      "rs1000113\n"
     ]
    }
   ],
   "source": [
    "rs_ids = kb.get_rsid_candidates()\n",
    "print rs_ids[0]"
   ]
  },
  {
   "cell_type": "markdown",
   "metadata": {},
   "source": [
    "Get a gold set:"
   ]
  },
  {
   "cell_type": "code",
   "execution_count": 11,
   "metadata": {
    "collapsed": false
   },
   "outputs": [
    {
     "name": "stdout",
     "output_type": "stream",
     "text": [
      "[u'We', u'identified', u'two', u'independent', u'single-nucleotide', u'polymorphisms', u'associated', u'with', u'circulating', u'retinol', u'levels', u',', u'which', u'are', u'located', u'near', u'the', u'transthyretin', u'-LRB-', u'TTR', u'-RRB-', u'and', u'retinol', u'binding', u'protein', u'4', u'-LRB-', u'RBP4', u'-RRB-', u'genes', u'which', u'encode', u'major', u'carrier', u'proteins', u'of', u'retinol', u':', u'rs1667255', u'-LRB-', u'P', u'=', u'2.30', u'\\xd7', u'10', u'\\u2212', u'17', u'-RRB-', u'and', u'rs10882272', u'-LRB-', u'P', u'=', u'6.04', u'\\xd7', u'10', u'\\u2212', u'12', u'-RRB-', u'.']\n",
      "[u'A', u'secondary', u'analysis', u'including', u'an', u'additional', u'211', u'cases', u'and', u'285', u'controls', u'from', u'two', u'closely-related', u'Latin-American', u'population', u'isolates', u'from', u'the', u'Central', u'Valley', u'of', u'Costa', u'Rica', u'and', u'Antioquia', u',', u'Colombia', u'also', u'identified', u'rs7868992', u'as', u'the', u'top', u'signal', u'-LRB-', u'p', u'=', u'3.6', u'\\xd7', u'10', u'\\u2212', u'7', u'for', u'the', u'combined', u'sample', u'of', u'1496', u'cases', u'and', u'5249', u'controls', u'following', u'imputation', u'with', u'1000', u'Genomes', u'data', u'-RRB-', u'.']\n",
      "[u'rs10198628', u'near', u'TRIB2', u'is', u'associated', u'with', u'pericardial', u'fat', u'but', u'not', u'measures', u'of', u'generalized', u'or', u'visceral', u'adiposity', u',', u'reinforcing', u'the', u'concept', u'that', u'there', u'are', u'unique', u'genetic', u'underpinnings', u'to', u'ectopic', u'fat', u'distribution', u'.']\n",
      "[u'The', u'association', u'at', u'rs455804', u'implicates', u'GRIK1', u'as', u'a', u'novel', u'susceptibility', u'gene', u'for', u'HBV', u'--', u'related', u'HCC', u',', u'suggesting', u'the', u'involvement', u'of', u'glutamate', u'signaling', u'in', u'the', u'development', u'of', u'HBV', u'--', u'related', u'HCC', u'.']\n",
      "[u'In', u'addition', u',', u'combined', u'genome-wide', u'significant', u'evidence', u'for', u'association', u'was', u'found', u'in', u'a', u'region', u'spanning', u'BTNL2', u'to', u'HLA-DQB1', u'on', u'chromosome', u'6p21', u'-LRB-', u'rs2395185', u',', u'combined', u'P', u'=', u'1.0', u'\\xd7', u'10', u'\\u2212', u'16', u',', u'combined', u'OR', u'=', u'0.66', u'-RRB-', u'and', u'at', u'the', u'IL23R', u'locus', u'on', u'chromosome', u'1p31', u'-LRB-', u'rs11209026', u',', u'combined', u'P', u'=', u'1.3', u'\\xd7', u'10', u'\\u2212', u'8', u',', u'combined', u'OR', u'=', u'0.56', u';', u'rs10889677', u',', u'combined', u'P', u'=', u'1.3', u'\\xd7', u'10', u'\\u2212', u'8', u',', u'combined', u'OR', u'=', u'1.29', u'-RRB-', u'.']\n"
     ]
    }
   ],
   "source": [
    "for ngram in c.get_candidates()[:5]:\n",
    "    print ngram.sentence['words']"
   ]
  },
  {
   "cell_type": "code",
   "execution_count": 12,
   "metadata": {
    "collapsed": true
   },
   "outputs": [],
   "source": [
    "gold_set = frozenset( [ (doc.id, rs_id) for doc in corpus.get_docs() for rs_id in kb.rsids_by_pmid(int(doc.id)) ] )"
   ]
  },
  {
   "cell_type": "code",
   "execution_count": 13,
   "metadata": {
    "collapsed": true
   },
   "outputs": [],
   "source": [
    "gold_set_rsids = [rs_id for doc_id, rs_id in gold_set]"
   ]
  },
  {
   "cell_type": "markdown",
   "metadata": {},
   "source": [
    "### Extract candidates:"
   ]
  },
  {
   "cell_type": "code",
   "execution_count": 14,
   "metadata": {
    "collapsed": false
   },
   "outputs": [
    {
     "name": "stdout",
     "output_type": "stream",
     "text": [
      "Extracting candidates...\n",
      "CPU times: user 3.6 s, sys: 47.4 ms, total: 3.64 s\n",
      "Wall time: 3.65 s\n",
      "Extracting candidates...\n",
      "CPU times: user 4.06 s, sys: 15.8 ms, total: 4.08 s\n",
      "Wall time: 4.08 s\n"
     ]
    }
   ],
   "source": [
    "# Define a candidate space\n",
    "ngrams = Ngrams(n_max=1)\n",
    "\n",
    "# Define matchers\n",
    "dict_rsid_matcher = DictionaryMatch(d=rs_ids, longest_match_only=False)\n",
    "gold_rsid_matcher = DictionaryMatch(d=gold_set_rsids, longest_match_only=False)\n",
    "regx_rsid_matcher = RegexMatchSpan(rgx=r'rs\\d+')\n",
    "rsid_matcher = Union(dict_rsid_matcher, regx_rsid_matcher)\n",
    "\n",
    "# collect candidates\n",
    "%time gold_dict_c = Candidates(ngrams, gold_rsid_matcher, corpus.get_contexts())\n",
    "%time rsid_c = Candidates(ngrams, rsid_matcher, corpus.get_contexts())"
   ]
  },
  {
   "cell_type": "code",
   "execution_count": 15,
   "metadata": {
    "collapsed": false
   },
   "outputs": [
    {
     "name": "stdout",
     "output_type": "stream",
     "text": [
      "Got 994 candidates, e.g.:\n"
     ]
    },
    {
     "data": {
      "text/plain": [
       "[<Ngram(\"rs1667255\", id=21878437-2:704-712, chars=[704,712], words=[38,38]),\n",
       " <Ngram(\"rs7868992\", id=22889924-4:983-991, chars=[983,991], words=[30,30]),\n",
       " <Ngram(\"rs10198628\", id=22589742-17:2336-2345, chars=[2336,2345], words=[0,0]),\n",
       " <Ngram(\"rs455804\", id=22807686-14:2226-2233, chars=[2226,2233], words=[3,3]),\n",
       " <Ngram(\"rs3093077\", id=22291609-5:1571-1579, chars=[1571,1579], words=[98,98])]"
      ]
     },
     "execution_count": 15,
     "metadata": {},
     "output_type": "execute_result"
    }
   ],
   "source": [
    "print 'Got %d candidates, e.g.:' % len(rsid_c.get_candidates())\n",
    "rsid_c.get_candidates()[:5]"
   ]
  },
  {
   "cell_type": "markdown",
   "metadata": {},
   "source": [
    "### Statistics"
   ]
  },
  {
   "cell_type": "markdown",
   "metadata": {},
   "source": [
    "Statistics on all the rsid candidates:"
   ]
  },
  {
   "cell_type": "code",
   "execution_count": 16,
   "metadata": {
    "collapsed": false
   },
   "outputs": [
    {
     "name": "stdout",
     "output_type": "stream",
     "text": [
      "# of gold annotations\t= 8384\n",
      "# of candidates\t\t= 792\n",
      "Candidate recall\t= 0.068\n",
      "Candidate precision\t= 0.722\n"
     ]
    }
   ],
   "source": [
    "gold_rsid_stats(rsid_c.get_candidates(), gold_set)"
   ]
  },
  {
   "cell_type": "markdown",
   "metadata": {},
   "source": [
    "Statistics on the candidates extracted via dictionary matching.\n",
    "\n",
    "Recall is how many SNPs in the gold set are actually mentioned in the abstract/txt.\n",
    "Precision is how many recovered SNPs are also found in the gold set.\n",
    "\n",
    "The gold set are (pmid, rsid) tuples, so in some cases, there are papers where there is a mention of an rsid from another paper, but this new mention is not recorded in the gold set."
   ]
  },
  {
   "cell_type": "code",
   "execution_count": 17,
   "metadata": {
    "collapsed": false
   },
   "outputs": [
    {
     "name": "stdout",
     "output_type": "stream",
     "text": [
      "# of gold annotations\t= 8384\n",
      "# of candidates\t\t= 621\n",
      "Candidate recall\t= 0.068\n",
      "Candidate precision\t= 0.921\n"
     ]
    }
   ],
   "source": [
    "gold_rsid_stats(gold_dict_c.get_candidates(), gold_set)"
   ]
  },
  {
   "cell_type": "markdown",
   "metadata": {},
   "source": [
    "Some debugging on the largest rsID candate set:"
   ]
  },
  {
   "cell_type": "code",
   "execution_count": 18,
   "metadata": {
    "collapsed": false
   },
   "outputs": [
    {
     "name": "stdout",
     "output_type": "stream",
     "text": [
      "<Ngram(\"rs3093077\", id=22291609-5:1571-1579, chars=[1571,1579], words=[98,98])\n",
      "Novel signals include : for IL-6 , in the ABO gene -LRB- rs657152 , p = 2.13 × 10 − 29 -RRB- ; for ESR , at the HBB -LRB- rs4910472 , p = 2.31 × 10 − 11 -RRB- and UCN119B / SPPL3 -LRB- rs11829037 , p = 8.91 × 10 − 10 -RRB- loci ; for MCP-1 , near its receptor CCR2 -LRB- rs17141006 , p = 7.53 × 10 − 13 -RRB- and in CADM3 -LRB- rs3026968 , p = 7.63 × 10 − 13 -RRB- ; for hsCRP , within the CRP gene -LRB- rs3093077 , p = 5.73 × 10 − 21 -RRB- , near DARC -LRB- rs3845624 , p = 1.43 × 10 − 10 -RRB- , UNC119B / SPPL3 -LRB- rs11829037 , p = 1.50 × 10 − 14 -RRB- , and ICOSLG/AIRE -LRB- rs113459440 , p = 1.54 × 10 − 08 -RRB- loci .\n",
      "<Ngram(\"rs1572312\", id=25729143-7:991-999, chars=[991,999], words=[9,9])\n",
      "The C allele of the most significant SNP , rs1572312 , was associated with high values of V .\n",
      "<Ngram(\"rs1572312\", id=25729143-9:1130-1138, chars=[1130,1138], words=[6,6])\n",
      "Furthermore , the frequency of the rs1572312 C allele was significantly higher in elite endurance athletes -LRB- 95.5 % -RRB- in comparison with non-elite endurance athletes -LRB- 89.8 % , P = 0.0257 -RRB- , Russian -LRB- 88.8 % , P = 0.007 -RRB- and European -LRB- 90.6 % , P = 0.0197 -RRB- controls and power athletes -LRB- 86.2 % , P = 0.0005 -RRB- .\n",
      "<Ngram(\"rs10795668\", id=23300701-7:1058-1067, chars=[1058,1067], words=[4,4])\n",
      "For the known locus rs10795668 -LRB- 10p14 -RRB- , we found an interacting SNP rs367615 -LRB- 5q21 -RRB- with replication p = 0.01 and combined p = 4.19 × 10 − 8 .\n",
      "<Ngram(\"rs7144481\", id=25729143-6:876-884, chars=[876,884], words=[14,14])\n",
      "Next , case-control studies resulted in remaining three SNPs -LRB- NFIA-AS2 rs1572312 , TSHR rs7144481 , RBFOX1 rs7191721 -RRB- associated with endurance athlete status .\n"
     ]
    }
   ],
   "source": [
    "strange_ngrams = gold_rsid_precision(rsid_c.get_candidates(), gold_set)\n",
    "gold_dict = dict(gold_set)\n",
    "for ngram in strange_ngrams[:5]:\n",
    "    print ngram\n",
    "    # print corpus.get_doc(ngram.doc_id)\n",
    "    print ' '.join(ngram.sentence['words'])"
   ]
  },
  {
   "cell_type": "markdown",
   "metadata": {
    "collapsed": true
   },
   "source": [
    "## Get candidate p-values"
   ]
  },
  {
   "cell_type": "markdown",
   "metadata": {},
   "source": [
    "Need to use regular expressions for this."
   ]
  },
  {
   "cell_type": "code",
   "execution_count": 19,
   "metadata": {
    "collapsed": true
   },
   "outputs": [],
   "source": [
    "from snorkel.matchers import RegexMatchSpan"
   ]
  },
  {
   "cell_type": "markdown",
   "metadata": {},
   "source": [
    "Test out the regexp."
   ]
  },
  {
   "cell_type": "code",
   "execution_count": 20,
   "metadata": {
    "collapsed": false
   },
   "outputs": [
    {
     "name": "stdout",
     "output_type": "stream",
     "text": [
      "Next , case-control studies resulted in remaining three SNPs -LRB- NFIA-AS2 rs1572312 , TSHR rs7144481 , RBFOX1 rs7191721 -RRB- associated with endurance athlete status .\n"
     ]
    },
    {
     "ename": "AttributeError",
     "evalue": "'NoneType' object has no attribute 'group'",
     "output_type": "error",
     "traceback": [
      "\u001b[0;31m---------------------------------------------------------------------------\u001b[0m",
      "\u001b[0;31mAttributeError\u001b[0m                            Traceback (most recent call last)",
      "\u001b[0;32m<ipython-input-20-6f72c6d75d34>\u001b[0m in \u001b[0;36m<module>\u001b[0;34m()\u001b[0m\n\u001b[1;32m      6\u001b[0m \u001b[0msentence\u001b[0m \u001b[0;34m=\u001b[0m \u001b[0;34m' '\u001b[0m\u001b[0;34m.\u001b[0m\u001b[0mjoin\u001b[0m\u001b[0;34m(\u001b[0m\u001b[0mstrange_ngrams\u001b[0m\u001b[0;34m[\u001b[0m\u001b[0;36m4\u001b[0m\u001b[0;34m]\u001b[0m\u001b[0;34m.\u001b[0m\u001b[0msentence\u001b[0m\u001b[0;34m[\u001b[0m\u001b[0;34m'words'\u001b[0m\u001b[0;34m]\u001b[0m\u001b[0;34m)\u001b[0m\u001b[0;34m\u001b[0m\u001b[0m\n\u001b[1;32m      7\u001b[0m \u001b[0;32mprint\u001b[0m \u001b[0msentence\u001b[0m\u001b[0;34m\u001b[0m\u001b[0m\n\u001b[0;32m----> 8\u001b[0;31m \u001b[0;32mprint\u001b[0m \u001b[0mre\u001b[0m\u001b[0;34m.\u001b[0m\u001b[0msearch\u001b[0m\u001b[0;34m(\u001b[0m\u001b[0mrgx\u001b[0m\u001b[0;34m,\u001b[0m \u001b[0msentence\u001b[0m\u001b[0;34m)\u001b[0m\u001b[0;34m.\u001b[0m\u001b[0mgroup\u001b[0m\u001b[0;34m(\u001b[0m\u001b[0;34m)\u001b[0m\u001b[0;34m\u001b[0m\u001b[0m\n\u001b[0m",
      "\u001b[0;31mAttributeError\u001b[0m: 'NoneType' object has no attribute 'group'"
     ]
    }
   ],
   "source": [
    "import re\n",
    "\n",
    "#p (whitespace)? = (whitespace)? \\d+ .? \\d? (whitespace?) \"x symbol\" (whitespace?) 10 (whitespace?) \"- symbol\" \\w?\\d+\n",
    "# rgx = u'p\\s*=\\s*\\d+\\.?\\d*\\s*\\xd7\\s*10\\s*\\u2212\\s*\\d+'\n",
    "rgx = u'\\d+\\.?\\d*\\s*\\xd7\\s*10\\s*\\u2212\\s*\\d+'\n",
    "sentence = ' '.join(strange_ngrams[4].sentence['words'])\n",
    "print sentence\n",
    "print re.search(rgx, sentence).group()"
   ]
  },
  {
   "cell_type": "code",
   "execution_count": 21,
   "metadata": {
    "collapsed": false
   },
   "outputs": [
    {
     "name": "stdout",
     "output_type": "stream",
     "text": [
      "Extracting candidates...\n",
      "CPU times: user 13 s, sys: 84.5 ms, total: 13.1 s\n",
      "Wall time: 13.1 s\n"
     ]
    }
   ],
   "source": [
    "pval_matcher = RegexMatchSpan(rgx=rgx)\n",
    "ngrams = Ngrams(n_max=5)\n",
    "%time pval_c = Candidates(ngrams, pval_matcher, corpus.get_contexts())"
   ]
  },
  {
   "cell_type": "code",
   "execution_count": 29,
   "metadata": {
    "collapsed": false
   },
   "outputs": [
    {
     "name": "stdout",
     "output_type": "stream",
     "text": [
      "Got 1013 candidates, e.g.:\n",
      "<Ngram(\"1.2×10 −15\", id=22792071-4:978-987, chars=[978,987], words=[50,54])\n",
      "<Ngram(\"1.2×10 −11\", id=20173748-2:485-494, chars=[485,494], words=[46,50])\n",
      "<Ngram(\"1.85×10 −20\", id=18846228-5:782-792, chars=[782,792], words=[41,45])\n",
      "<Ngram(\"6.2×10 −5\", id=24586183-6:1550-1558, chars=[1550,1558], words=[60,64])\n",
      "<Ngram(\"1.5×10 −7\", id=18464913-6:1097-1105, chars=[1097,1105], words=[60,64])\n"
     ]
    }
   ],
   "source": [
    "print 'Got %d candidates, e.g.:' % len(pval_c.get_candidates())\n",
    "for candidate in pval_c.get_candidates()[:5]:\n",
    "    print unicode(candidate)"
   ]
  },
  {
   "cell_type": "markdown",
   "metadata": {},
   "source": [
    "### Statistics"
   ]
  },
  {
   "cell_type": "markdown",
   "metadata": {},
   "source": [
    "First, how many p-values that should be present do we extract?"
   ]
  },
  {
   "cell_type": "code",
   "execution_count": 58,
   "metadata": {
    "collapsed": false
   },
   "outputs": [
    {
     "name": "stdout",
     "output_type": "stream",
     "text": [
      "6.2e-05\n",
      "1.85e-20\n"
     ]
    }
   ],
   "source": [
    "# we need to define a p-value -> float converter\n",
    "from extractor.util import pvalue_to_float, gold_pval_stats, gold_pval_precision\n",
    "\n",
    "print pvalue_to_float(u\"6.2×10 −5\")\n",
    "print pvalue_to_float(u\"1.85×10 −20\")"
   ]
  },
  {
   "cell_type": "code",
   "execution_count": 27,
   "metadata": {
    "collapsed": false
   },
   "outputs": [],
   "source": [
    "from kb import KnowledgeBase\n",
    "kb = KnowledgeBase()\n",
    "gold_set_pvals = frozenset([ (doc.id, pval) for doc in corpus.get_docs() for pval in kb.pvals_by_pmid(int(doc.id)) ])"
   ]
  },
  {
   "cell_type": "code",
   "execution_count": 45,
   "metadata": {
    "collapsed": false
   },
   "outputs": [
    {
     "name": "stdout",
     "output_type": "stream",
     "text": [
      "Found 5289 gold mentions, e.g.:\n",
      "[('23770605', 1e-14), ('23326517', 7.000000000000001e-32), ('19936222', 2e-53), ('24586186', 3e-164), ('24999842', 3e-11)]\n",
      "\n",
      "# of gold annotations\t= 2730\n",
      "# of candidates\t\t= 798\n",
      "Candidate recall\t= 0.182\n",
      "Candidate precision\t= 0.623\n",
      "None\n"
     ]
    }
   ],
   "source": [
    "print 'Found %d gold mentions, e.g.:' % len(gold_set_pvals)\n",
    "print list(gold_set_pvals)[:5]\n",
    "print\n",
    "\n",
    "print gold_pval_stats(pval_c.get_candidates(), gold_set_pvals)"
   ]
  },
  {
   "cell_type": "markdown",
   "metadata": {},
   "source": [
    "Some debugging..."
   ]
  },
  {
   "cell_type": "code",
   "execution_count": 70,
   "metadata": {
    "collapsed": false
   },
   "outputs": [
    {
     "name": "stdout",
     "output_type": "stream",
     "text": [
      "[('23900074', -10.0), ('22479202', -4.0), ('21878437', -5.0), ('22832960', -8.0), ('21738479', -8.0), ('19714205', -6.0), ('22291609', -29.0), ('18483556', -62.0), ('22737229', -12.0), ('21729881', -8.0), ('24586183', -4.0), ('22368281', -16.0), ('21079607', -7.0), ('19412175', -8.0), ('22479202', -43.0), ('25436638', -3.0), ('24586183', -5.0), ('19503597', -54.0), ('24940741', -11.0), ('23565137', -8.0), ('21814517', -8.0), ('20852633', -11.0), ('22479419', -5.0), ('23459443', -8.0), ('21533024', -16.0), ('24379826', -3.0), ('19503597', -26.0), ('22005930', -4.0), ('21326860', -5.0), ('21124946', -5.0), ('24023788', -3.0), ('23583978', -11.0), ('21124955', -11.0), ('23900074', -4.0), ('25017104', -16.0), ('18282107', -5.0), ('21273288', -10.0), ('23966204', -37.0), ('19915575', -5.0), ('20585626', -25.0), ('20838585', -24.0), ('21460840', -21.0), ('18776929', -7.0), ('21418511', -4.0), ('19056611', -14.0), ('21533024', -9.0), ('22479202', -5.0), ('22558097', -8.0), ('20921969', -5.0), ('23459936', -6.0), ('22899653', -16.0), ('18282107', -3.0), ('22807686', -3.0), ('18846228', -19.0), ('21051773', -7.0), ('21460840', -9.0), ('20686651', -5.0), ('21750679', -8.0), ('25364816', -7.0), ('19571809', -9.0), ('18369459', -11.0), ('22693455', -16.0), ('22792070', -31.0), ('20011104', -6.0), ('23358160', -2.0), ('24379826', -6.0), ('19305408', -8.0), ('18483556', -13.0), ('21533024', -17.0), ('21876539', -5.0), ('22558097', -4.0), ('23708191', -5.0), ('20072603', -6.0), ('19734902', -8.0), ('23670970', -6.0), ('22570627', -2.0), ('21379329', -8.0), ('22085899', -8.0), ('21750679', -5.0), ('23565137', -4.0), ('21448238', -8.0), ('25017104', -2.0), ('23696099', -8.0), ('19412175', -9.0), ('20081856', -8.0), ('24516586', -7.0), ('22693459', -88.0), ('22792070', -28.0), ('22899653', -8.0), ('23636237', -8.0), ('25297839', -8.0), ('23708191', -7.0), ('22479202', -3.0), ('25009551', -4.0), ('20686651', -17.0), ('23776548', -8.0), ('18846228', -4.0), ('19587794', -6.0), ('20372150', -30.0), ('21298027', -8.0), ('23118916', -3.0), ('22384028', -4.0), ('19412175', -7.0), ('22737229', -15.0), ('21273288', -11.0), ('19343178', -5.0), ('20418485', -25.0), ('19874204', -5.0), ('21533074', -7.0), ('24586186', -44.0), ('21060863', -8.0), ('24465431', -5.0), ('21460840', -4.0), ('24709693', -5.0), ('17658951', -6.0), ('24625756', -10.0), ('21729881', -4.0), ('20173747', -12.0), ('23565137', -7.0), ('20548946', -10.0), ('22470424', -4.0), ('18776929', -3.0), ('21124946', -6.0), ('19609347', -7.0), ('21298027', -5.0), ('22291609', -8.0), ('23583978', -7.0), ('22792070', -16.0), ('22384028', -5.0), ('22693459', -3.0), ('22807686', -4.0), ('22807686', -8.0), ('20852633', -9.0), ('22807686', -19.0), ('21779181', -61.0), ('22291609', -21.0), ('22737229', -10.0), ('18846228', -3.0), ('23459936', -9.0), ('21460840', -5.0), ('20585626', -4.0), ('20861866', -4.0), ('20066028', -4.0), ('21460840', -10.0), ('18604267', -8.0), ('25187353', -10.0), ('21298027', -2.0), ('24253340', -12.0), ('19503597', -201.0), ('20802479', -9.0), ('25009551', -5.0), ('22745674', -6.0), ('19874204', -3.0), ('24223155', -9.0), ('25436638', -17.0), ('20711177', -8.0), ('25105248', -8.0), ('23382809', -5.0), ('25310821', -13.0), ('21483430', -5.0), ('22344219', -7.0), ('24755620', -8.0), ('25102180', -23.0), ('19557197', -5.0), ('20418485', -7.0), ('19734902', -5.0), ('20548944', -13.0), ('23209189', -12.0), ('23358160', -5.0), ('24023788', -8.0), ('20700438', -20.0), ('18369459', -30.0), ('23958962', -9.0), ('22479419', -6.0), ('21998595', -4.0), ('19412175', -16.0), ('22544364', -5.0), ('21347284', -16.0), ('19412175', -4.0), ('20305777', -8.0), ('25629512', -21.0), ('22745674', -5.0), ('21878437', -12.0), ('22238593', -8.0), ('19096518', -9.0), ('25187353', -14.0), ('22792071', -6.0), ('23670970', -8.0), ('22570627', -4.0), ('20548944', -10.0), ('25017104', -11.0), ('19597492', -11.0), ('18369459', -3.0), ('22291609', -10.0), ('22558069', -3.0), ('22238593', -5.0), ('23696099', -6.0), ('20418485', -5.0), ('20418485', -30.0), ('19820699', -20.0), ('24800985', -5.0), ('20066028', -5.0), ('19247474', -5.0), ('24586186', -8.0), ('19343178', -4.0), ('20921969', -13.0), ('22368281', -11.0), ('20686651', -23.0), ('24945404', -14.0), ('23544013', -4.0), ('24586183', -3.0), ('20675712', -15.0), ('20418485', -22.0), ('24143190', -5.0), ('22085899', -11.0), ('21998597', -16.0), ('21298027', -9.0), ('18483556', -89.0), ('22438815', -8.0), ('23754948', -8.0), ('22899653', -63.0), ('20011104', -3.0), ('21814517', -7.0), ('23326239', -15.0), ('23900074', -7.0), ('19820699', -23.0), ('23966204', -13.0), ('20729852', -15.0), ('22359512', -204.0), ('22899653', -14.0), ('23209447', -8.0), ('22737229', -19.0), ('18846228', -7.0), ('19304780', -8.0), ('20066028', -3.0), ('24023788', -4.0), ('20395239', -11.0), ('21298027', -3.0), ('22558069', -10.0), ('17997608', -11.0), ('21533074', -12.0), ('21533074', -15.0), ('22693455', -14.0), ('21483430', -22.0), ('19874204', -4.0), ('23297363', -5.0), ('22792071', -12.0), ('19300499', -7.0), ('19056611', -13.0), ('23698163', -5.0), ('23209189', -9.0), ('25310821', -4.0), ('20700438', -11.0), ('23555300', -8.0), ('20548946', -19.0), ('21931564', -23.0), ('22889924', -7.0), ('19734902', -6.0), ('21437268', -9.0), ('21878437', -17.0), ('21460840', -16.0), ('23326512', -7.0), ('21423719', -8.0), ('22792071', -4.0), ('21483430', -4.0), ('21738484', -7.0), ('22792070', -11.0), ('23104006', -3.0), ('18282107', -4.0), ('21483845', -9.0), ('24999842', -6.0), ('21779181', -76.0), ('21151130', -3.0), ('18369459', -5.0), ('23291587', -4.0), ('24518671', -8.0), ('20852633', -4.0), ('23209447', -29.0), ('22291609', -13.0), ('22396660', -8.0), ('25340798', -10.0), ('24023777', -8.0), ('23670970', -10.0), ('24755620', -11.0), ('22504420', -4.0), ('21379329', -81.0), ('23900074', -14.0), ('18369459', -4.0), ('20548946', -33.0), ('22792071', -13.0), ('22558069', -4.0), ('24465473', -5.0), ('22430674', -7.0), ('21273288', -3.0), ('23565137', -5.0), ('20066028', -6.0), ('17447842', -4.0), ('23555300', -11.0), ('21931568', -8.0), ('25310821', -5.0), ('19503597', -57.0)]\n"
     ]
    }
   ],
   "source": [
    "print gold_pval_precision(pval_c.get_candidates(), gold_set_pvals)"
   ]
  },
  {
   "cell_type": "code",
   "execution_count": 76,
   "metadata": {
    "collapsed": false
   },
   "outputs": [
    {
     "name": "stdout",
     "output_type": "stream",
     "text": [
      "<Ngram(\"6.2×10 −5\", id=24586183-6:1550-1558, chars=[1550,1558], words=[60,64])\n",
      "The MAGI3 and BACH2 variants were associated with an increased risk of hyperthyroidism , which was replicated in an independent cohort of patients with Graves ' disease -LRB- OR : 1.37 , 95 % CI 1.22 -- 1.54 , P = 1.2 × 10 − 7 and OR : 1.25 , 95 % CI 1.12 -- 1.39 , P = 6.2 × 10 − 5 -RRB- .\n",
      "[1e-09, 3e-06, 3e-07, 3.0000000000000004e-08, 4e-08, 7e-13, 4e-07, 2e-16, 6e-07, 2e-08, 1e-07]\n",
      "\n",
      "<Ngram(\"2.44×10 −3\", id=18776929-6:1145-1154, chars=[1145,1154], words=[31,35])\n",
      "Two SNPs of the PLCL1 gene , rs892515 and rs9789480 , surrounded by the four SNPs identified in our GWAS , achieved p values of 8.62 × 10 − 3 and 2.44 × 10 − 3 , respectively , for association with hip BS .\n",
      "[2e-06]\n",
      "\n",
      "<Ngram(\"5.43 × 10 −4\", id=21483430-5:1469-1480, chars=[1469,1480], words=[113,117])\n",
      "Associated regions affiliated with memory included the entorhinal cortex -LRB- rs821639 , p = 4.11 × 10 − 5 ; rs2356606 , p = 4.71 × 10 − 4 -RRB- , cingulate cortex -LRB- rs16856322 , p = 2.88 × 10 − 4 -RRB- and parahippocampal gyrus -LRB- rs821639 , p = 4.95 × 10 − 4 -RRB- ; those affiliated with executive and other cognitive processing included the transverse temporal gyrus -LRB- rs9661837 , p = 5.21 × 10 − 4 ; rs17773946 , p = 6.23 × 10 − 4 -RRB- , anterior cingulate cortex -LRB- rs2487453 , p = ; 4.79 × 10 − 4 ; rs3738401 , p = 5.43 × 10 − 4 -RRB- and medial orbitofrontal cortex -LRB- rs9661837 ; p = 7.40 × 10 − 4 -RRB- .\n",
      "[4e-36]\n",
      "\n",
      "<Ngram(\"8.00 × 10 −8\", id=21448238-3:547-558, chars=[547,558], words=[16,20])\n",
      "The best result was obtained for SNP rs9908234 , which had a P - value of 8.00 × 10 − 8 .\n",
      "[8e-06, 5e-07]\n",
      "\n",
      "<Ngram(\"4.4×10 −3\", id=22479202-6:1344-1352, chars=[1344,1352], words=[69,73])\n",
      "This risk score was associated with increased risk of T2D -LRB- p = 4.3 × 10 − 3 , n = 22,044 -RRB- , increased triglycerides -LRB- p = 2.6 × 10 − 14 , n = 93,440 -RRB- , increased waist-to-hip ratio -LRB- p = 1.8 × 10 − 5 , n = 77,167 -RRB- , increased glucose two hours post oral glucose tolerance testing -LRB- p = 4.4 × 10 − 3 , n = 15,234 -RRB- , increased fasting insulin -LRB- p = 0.015 , n = 48,238 -RRB- , but with lower in HDL-cholesterol concentrations -LRB- p = 4.5 × 10 − 13 , n = 96,748 -RRB- and decreased BMI -LRB- p = 1.4 × 10 − 4 , n = 121,335 -RRB- .\n",
      "[3e-06, 4e-08, 4e-07, 1e-13, 8e-06, 4e-06, 1e-14, 9e-06, 8e-12, 2e-08, 2e-07, 3e-10, 7e-06, 2e-06, 6.000000000000001e-08, 3.0000000000000004e-08, 1e-09, 6e-48, 5e-07, 2.9999999999999995e-21, 2e-13, 7.000000000000001e-09, 4.999999999999999e-44, 2e-42, 6e-07]\n",
      "\n"
     ]
    }
   ],
   "source": [
    "gold_pval_dict = { doc_id : [] for doc_id, pval in gold_set_pvals }\n",
    "for doc_id, pval in gold_set_pvals:\n",
    "    gold_pval_dict[doc_id].append(pval)\n",
    "    \n",
    "strange_ngrams = gold_pval_precision(pval_c.get_candidates(), gold_set_pvals)\n",
    "for ngram in strange_ngrams[:5]:\n",
    "    print unicode(ngram)\n",
    "    print ' '.join(ngram.sentence['words'])\n",
    "    print gold_pval_dict[ngram.doc_id]\n",
    "    print"
   ]
  },
  {
   "cell_type": "code",
   "execution_count": null,
   "metadata": {
    "collapsed": false
   },
   "outputs": [],
   "source": [
    "kb.pvals_by_pmid('23382691')"
   ]
  },
  {
   "cell_type": "markdown",
   "metadata": {},
   "source": [
    "Potential analysis question: how many rsIDs that we extracted earlier also have an associated p-value?\n",
    "\n",
    "We will say that if an rsID and a p-value occur in the same document, they have been identified correctly.\n",
    "\n",
    "So we extract from our gold set tuples of the form (pmid, rsID, p-value). We compare them to candidate tuples, where an rsID and a p-value are associated if they occur in the same sentence.\n",
    "\n",
    "This seems like something to be checked at the relation extraction stage."
   ]
  },
  {
   "cell_type": "markdown",
   "metadata": {
    "collapsed": true
   },
   "source": [
    "## Extract phenotypes"
   ]
  },
  {
   "cell_type": "code",
   "execution_count": 83,
   "metadata": {
    "collapsed": false
   },
   "outputs": [
    {
     "name": "stdout",
     "output_type": "stream",
     "text": [
      "Extracting candidates...\n",
      "CPU times: user 21.2 s, sys: 142 ms, total: 21.4 s\n",
      "Wall time: 21.4 s\n"
     ]
    }
   ],
   "source": [
    "# Define a candidate space\n",
    "ngrams = Ngrams(n_max=4)\n",
    "\n",
    "# collect phenotype list\n",
    "from db.kb import KnowledgeBase\n",
    "kb = KnowledgeBase()\n",
    "phenotype_list = kb.get_phenotype_candidates()\n",
    "# TODO: load disease names from NCBI\n",
    "\n",
    "# Define matchers\n",
    "phen_matcher = DictionaryMatch(d=phenotype_list, longest_match_only=False, ignore_case=True, stemmer='porter')\n",
    "\n",
    "# collect candidates\n",
    "%time phen_c = Candidates(ngrams, phen_matcher, corpus.get_contexts())"
   ]
  },
  {
   "cell_type": "code",
   "execution_count": 84,
   "metadata": {
    "collapsed": false
   },
   "outputs": [
    {
     "name": "stdout",
     "output_type": "stream",
     "text": [
      "Got 2429 candidates, e.g.:\n",
      "<Ngram(\"quantitative trait\", id=20190752-4:597-614, chars=[597,614], words=[3,4])\n",
      "<Ngram(\"anthropometric traits\", id=21423719-8:1757-1777, chars=[1757,1777], words=[20,21])\n",
      "<Ngram(\"systemic sclerosis\", id=21779181-0:164-181, chars=[164,181], words=[27,28])\n",
      "<Ngram(\"type 2 diabetes\", id=25102180-11:1961-1975, chars=[1961,1975], words=[5,7])\n",
      "<Ngram(\"hepatic\", id=21423719-13:2404-2410, chars=[2404,2410], words=[15,15])\n"
     ]
    }
   ],
   "source": [
    "print 'Got %d candidates, e.g.:' % len(phen_c.get_candidates())\n",
    "for candidate in phen_c.get_candidates()[:5]:\n",
    "    print candidate"
   ]
  },
  {
   "cell_type": "markdown",
   "metadata": {},
   "source": [
    "### Statistics"
   ]
  },
  {
   "cell_type": "code",
   "execution_count": 89,
   "metadata": {
    "collapsed": false
   },
   "outputs": [
    {
     "name": "stdout",
     "output_type": "stream",
     "text": [
      "Found 1400 gold mentions, e.g.:\n",
      "[('24478790', u'telomere length'), ('23593202', u'femoral neck bone geometry and menarche (age at onset)'), ('20364137', u'http://www.ebi.ac.uk/efo/efo_0003870'), ('22479202', u'adiponectin levels'), ('22170493', u'http://www.ebi.ac.uk/efo/efo_0003778')]\n"
     ]
    }
   ],
   "source": [
    "from db.kb import KnowledgeBase\n",
    "kb = KnowledgeBase() # reload\n",
    "gold_set_phens = frozenset([ (doc.id, phen) for doc in corpus.get_docs() for phen in kb.phens_by_pmid(int(doc.id)) ])\n",
    "\n",
    "print 'Found %d gold mentions, e.g.:' % len(gold_set_phens)\n",
    "print list(gold_set_phens)[:5]"
   ]
  },
  {
   "cell_type": "code",
   "execution_count": 94,
   "metadata": {
    "collapsed": false
   },
   "outputs": [
    {
     "name": "stdout",
     "output_type": "stream",
     "text": [
      "# of gold annotations\t= 1400\n",
      "# of candidates\t\t= 2429\n",
      "Candidate recall\t= 0.485\n",
      "Candidate precision\t= 0.280\n"
     ]
    }
   ],
   "source": [
    "from extractor.util import gold_phen_stats\n",
    "gold_phen_stats(phen_c.get_candidates(), gold_set_phens)"
   ]
  },
  {
   "cell_type": "code",
   "execution_count": null,
   "metadata": {
    "collapsed": true
   },
   "outputs": [],
   "source": []
  }
 ],
 "metadata": {
  "kernelspec": {
   "display_name": "Python 2",
   "language": "python",
   "name": "python2"
  },
  "language_info": {
   "codemirror_mode": {
    "name": "ipython",
    "version": 2
   },
   "file_extension": ".py",
   "mimetype": "text/x-python",
   "name": "python",
   "nbconvert_exporter": "python",
   "pygments_lexer": "ipython2",
   "version": "2.7.11"
  }
 },
 "nbformat": 4,
 "nbformat_minor": 0
}
