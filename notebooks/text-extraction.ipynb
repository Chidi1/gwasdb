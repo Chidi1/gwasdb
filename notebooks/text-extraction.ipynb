{
 "cells": [
  {
   "cell_type": "markdown",
   "metadata": {},
   "source": [
    "# SNP/Phenotype detection from raw text"
   ]
  },
  {
   "cell_type": "code",
   "execution_count": 1,
   "metadata": {
    "collapsed": false
   },
   "outputs": [],
   "source": [
    "%load_ext autoreload\n",
    "%autoreload 2\n",
    "\n",
    "import sys"
   ]
  },
  {
   "cell_type": "code",
   "execution_count": 2,
   "metadata": {
    "collapsed": false
   },
   "outputs": [],
   "source": [
    "# import snorkel and gwasdb\n",
    "sys.path.append('../snorkel')\n",
    "sys.path.append('../src')\n",
    "\n",
    "# set up paths\n",
    "abstract_dir = '../data/db/papers'"
   ]
  },
  {
   "cell_type": "markdown",
   "metadata": {},
   "source": [
    "## Assemble a corpus"
   ]
  },
  {
   "cell_type": "markdown",
   "metadata": {},
   "source": [
    "We will look at abstracts for now"
   ]
  },
  {
   "cell_type": "code",
   "execution_count": 3,
   "metadata": {
    "collapsed": false
   },
   "outputs": [],
   "source": [
    "from snorkel.parser import XMLDocParser\n",
    "from extractor.parser import UnicodeXMLDocParser\n",
    "\n",
    "xml_parser = UnicodeXMLDocParser(\n",
    "    path=abstract_dir,\n",
    "    doc='./*',\n",
    "    text='.//abstract/p//text()',\n",
    "    id='.//article-id[@pub-id-type=\"pmid\"]/text()',\n",
    "    keep_xml_tree=True)"
   ]
  },
  {
   "cell_type": "markdown",
   "metadata": {},
   "source": [
    "Warning: there are unicode chars that cause trouble, e.g.:"
   ]
  },
  {
   "cell_type": "code",
   "execution_count": 437,
   "metadata": {
    "collapsed": false
   },
   "outputs": [
    {
     "name": "stdout",
     "output_type": "stream",
     "text": [
      "− 8\n",
      "\n",
      "×\n"
     ]
    }
   ],
   "source": [
    "import unicodedata\n",
    "print u'\\u2212 8'\n",
    "txt=u'\\xd7'\n",
    "print unicodedata.normalize('NFKD', txt).encode('ascii','ignore')\n",
    "print unicode(txt)"
   ]
  },
  {
   "cell_type": "markdown",
   "metadata": {},
   "source": [
    "Get the actual docs:"
   ]
  },
  {
   "cell_type": "code",
   "execution_count": 438,
   "metadata": {
    "collapsed": false
   },
   "outputs": [
    {
     "name": "stdout",
     "output_type": "stream",
     "text": [
      "<Element article at 0x1495dd7e8>\n",
      "[u'QT interval duration reflecting myocardial repolarization on the electrocardiogram is a heritable risk factor for sudden cardiac death and drug-induced arrhythmias. We conducted a meta-analysis of 3 genome-wide association studies in 13,685 individuals of European ancestry from the Framingham Heart Study, the Rotterdam Study and the Cardiovascular Health Study. We observed associations at P < 5\\xd710', u'\\u22128', ' with variants in ', 'NOS1AP', ', ', 'KCNQ1, KCNE1', ', ', 'KCNH2', ' and ', 'SCN5A', ', known to be involved in myocardial repolarization and Mendelian Long QT Syndromes. Associations at five novel loci included 16q21 near ', 'NDRG4', ' and ', 'GINS3', ', 6q22 near ', 'PLN', ', 1p36 near ', 'RNF207', ', 16p13 near ', 'LITAF', ' and 17q12 near ', 'LIG3', ' and ', 'RIFFL', u'. Collectively, the 14 independent variants at these 10 loci explain 5.4\\u20136.5% of variation in QT interval. Identifying the causal variants and defining their impact on myocardial repolarization may add incrementally to the prevention of sudden cardiac death and drug-induced arrhythmias.']\n"
     ]
    }
   ],
   "source": [
    "import lxml.etree as et\n",
    "with open('../data/db/papers/19305408.xml') as f:\n",
    "    for i,doc in enumerate(et.parse(f).xpath('./*')):\n",
    "        print doc\n",
    "        print doc.xpath('.//abstract/p//text()')"
   ]
  },
  {
   "cell_type": "code",
   "execution_count": 4,
   "metadata": {
    "collapsed": false
   },
   "outputs": [
    {
     "name": "stdout",
     "output_type": "stream",
     "text": [
      "CPU times: user 9.51 s, sys: 1.07 s, total: 10.6 s\n",
      "Wall time: 1min 18s\n"
     ]
    }
   ],
   "source": [
    "from snorkel.parser import SentenceParser\n",
    "from snorkel.parser import CorpusParser\n",
    "\n",
    "sent_parser = SentenceParser()\n",
    "corpus_parser = CorpusParser(xml_parser, sent_parser)\n",
    "%time corpus = corpus_parser.parse_corpus()"
   ]
  },
  {
   "cell_type": "markdown",
   "metadata": {
    "collapsed": true
   },
   "source": [
    "Test the results:"
   ]
  },
  {
   "cell_type": "code",
   "execution_count": 15,
   "metadata": {
    "collapsed": false
   },
   "outputs": [
    {
     "name": "stdout",
     "output_type": "stream",
     "text": [
      "Document('17684544', Corpus (None))\n"
     ]
    }
   ],
   "source": [
    "doc = corpus.documents[2]\n",
    "print doc\n",
    "\n",
    "for doc in corpus.documents:\n",
    "    if doc.name is None: \n",
    "        print doc"
   ]
  },
  {
   "cell_type": "code",
   "execution_count": 6,
   "metadata": {
    "collapsed": false
   },
   "outputs": [
    {
     "name": "stdout",
     "output_type": "stream",
     "text": [
      "Sentence(Document('17447842', Corpus (None)), 0, u'To identify novel susceptibility loci for Crohn disease (CD), we undertook a genome-wide association study with more than 300,000 SNPs characterized in 547 patients and 928 controls.')\n"
     ]
    }
   ],
   "source": [
    "sent = corpus.get_sentences()[0]\n",
    "print sent"
   ]
  },
  {
   "cell_type": "markdown",
   "metadata": {},
   "source": [
    "## Try extracting rs-ids first"
   ]
  },
  {
   "cell_type": "code",
   "execution_count": 7,
   "metadata": {
    "collapsed": false
   },
   "outputs": [],
   "source": [
    "# add new paths\n",
    "sys.path.append('../src/crawler')\n",
    "sys.path.append('../src/crawler/db')\n",
    "\n",
    "# import new libs\n",
    "from kb import KnowledgeBase\n",
    "from extractor.util import gold_rsid_stats, gold_rsid_precision\n",
    "\n",
    "from snorkel.candidates import Ngrams\n",
    "from snorkel.matchers import DictionaryMatch, RegexMatchSpan, Union\n",
    "from snorkel.candidates import EntityExtractor\n",
    "\n",
    "# from snorkel.candidates import Candidates"
   ]
  },
  {
   "cell_type": "markdown",
   "metadata": {},
   "source": [
    "### Create a gold set"
   ]
  },
  {
   "cell_type": "markdown",
   "metadata": {},
   "source": [
    "Get a list of all the rs-ids we know."
   ]
  },
  {
   "cell_type": "code",
   "execution_count": 8,
   "metadata": {
    "collapsed": true
   },
   "outputs": [],
   "source": [
    "kb = KnowledgeBase()"
   ]
  },
  {
   "cell_type": "code",
   "execution_count": 9,
   "metadata": {
    "collapsed": false
   },
   "outputs": [
    {
     "name": "stdout",
     "output_type": "stream",
     "text": [
      "rs1000113\n"
     ]
    }
   ],
   "source": [
    "rs_ids = kb.get_rsid_candidates()\n",
    "print rs_ids[0]"
   ]
  },
  {
   "cell_type": "markdown",
   "metadata": {},
   "source": [
    "Get a gold set:"
   ]
  },
  {
   "cell_type": "code",
   "execution_count": 17,
   "metadata": {
    "collapsed": false
   },
   "outputs": [],
   "source": [
    "gold_set = frozenset( [ (doc.name, rs_id) for doc in corpus.documents for rs_id in kb.rsids_by_pmid(int(doc.name)) ] )"
   ]
  },
  {
   "cell_type": "code",
   "execution_count": 18,
   "metadata": {
    "collapsed": false
   },
   "outputs": [],
   "source": [
    "gold_set_rsids = [rs_id for doc_id, rs_id in gold_set]"
   ]
  },
  {
   "cell_type": "markdown",
   "metadata": {},
   "source": [
    "### Extract candidates:"
   ]
  },
  {
   "cell_type": "code",
   "execution_count": 20,
   "metadata": {
    "collapsed": false
   },
   "outputs": [
    {
     "ename": "AttributeError",
     "evalue": "'Sentence' object has no attribute 'cell'",
     "output_type": "error",
     "traceback": [
      "\u001b[0;31m---------------------------------------------------------------------------\u001b[0m",
      "\u001b[0;31mAttributeError\u001b[0m                            Traceback (most recent call last)",
      "\u001b[0;32m<ipython-input-20-2f18d61638ee>\u001b[0m in \u001b[0;36m<module>\u001b[0;34m()\u001b[0m\n\u001b[1;32m     10\u001b[0m \u001b[0;34m\u001b[0m\u001b[0m\n\u001b[1;32m     11\u001b[0m \u001b[0mrsid_extractor\u001b[0m \u001b[0;34m=\u001b[0m \u001b[0mEntityExtractor\u001b[0m\u001b[0;34m(\u001b[0m\u001b[0mngrams\u001b[0m\u001b[0;34m,\u001b[0m \u001b[0mrsid_matcher\u001b[0m\u001b[0;34m)\u001b[0m\u001b[0;34m\u001b[0m\u001b[0m\n\u001b[0;32m---> 12\u001b[0;31m \u001b[0mget_ipython\u001b[0m\u001b[0;34m(\u001b[0m\u001b[0;34m)\u001b[0m\u001b[0;34m.\u001b[0m\u001b[0mmagic\u001b[0m\u001b[0;34m(\u001b[0m\u001b[0;34mu\"time rs_candidates = rsid_extractor.extract(corpus.get_sentences(), name='all')\"\u001b[0m\u001b[0;34m)\u001b[0m\u001b[0;34m\u001b[0m\u001b[0m\n\u001b[0m\u001b[1;32m     13\u001b[0m \u001b[0;32mfor\u001b[0m \u001b[0mcand\u001b[0m \u001b[0;32min\u001b[0m \u001b[0mrs_candidates\u001b[0m\u001b[0;34m[\u001b[0m\u001b[0;34m:\u001b[0m\u001b[0;36m10\u001b[0m\u001b[0;34m]\u001b[0m\u001b[0;34m:\u001b[0m\u001b[0;34m\u001b[0m\u001b[0m\n\u001b[1;32m     14\u001b[0m     \u001b[0;32mprint\u001b[0m \u001b[0mcand\u001b[0m\u001b[0;34m\u001b[0m\u001b[0m\n",
      "\u001b[0;32m/Users/kuleshov/work/snorkel/venv/lib/python2.7/site-packages/IPython/core/interactiveshell.pyc\u001b[0m in \u001b[0;36mmagic\u001b[0;34m(self, arg_s)\u001b[0m\n\u001b[1;32m   2144\u001b[0m         \u001b[0mmagic_name\u001b[0m\u001b[0;34m,\u001b[0m \u001b[0m_\u001b[0m\u001b[0;34m,\u001b[0m \u001b[0mmagic_arg_s\u001b[0m \u001b[0;34m=\u001b[0m \u001b[0marg_s\u001b[0m\u001b[0;34m.\u001b[0m\u001b[0mpartition\u001b[0m\u001b[0;34m(\u001b[0m\u001b[0;34m' '\u001b[0m\u001b[0;34m)\u001b[0m\u001b[0;34m\u001b[0m\u001b[0m\n\u001b[1;32m   2145\u001b[0m         \u001b[0mmagic_name\u001b[0m \u001b[0;34m=\u001b[0m \u001b[0mmagic_name\u001b[0m\u001b[0;34m.\u001b[0m\u001b[0mlstrip\u001b[0m\u001b[0;34m(\u001b[0m\u001b[0mprefilter\u001b[0m\u001b[0;34m.\u001b[0m\u001b[0mESC_MAGIC\u001b[0m\u001b[0;34m)\u001b[0m\u001b[0;34m\u001b[0m\u001b[0m\n\u001b[0;32m-> 2146\u001b[0;31m         \u001b[0;32mreturn\u001b[0m \u001b[0mself\u001b[0m\u001b[0;34m.\u001b[0m\u001b[0mrun_line_magic\u001b[0m\u001b[0;34m(\u001b[0m\u001b[0mmagic_name\u001b[0m\u001b[0;34m,\u001b[0m \u001b[0mmagic_arg_s\u001b[0m\u001b[0;34m)\u001b[0m\u001b[0;34m\u001b[0m\u001b[0m\n\u001b[0m\u001b[1;32m   2147\u001b[0m \u001b[0;34m\u001b[0m\u001b[0m\n\u001b[1;32m   2148\u001b[0m     \u001b[0;31m#-------------------------------------------------------------------------\u001b[0m\u001b[0;34m\u001b[0m\u001b[0;34m\u001b[0m\u001b[0m\n",
      "\u001b[0;32m/Users/kuleshov/work/snorkel/venv/lib/python2.7/site-packages/IPython/core/interactiveshell.pyc\u001b[0m in \u001b[0;36mrun_line_magic\u001b[0;34m(self, magic_name, line)\u001b[0m\n\u001b[1;32m   2065\u001b[0m                 \u001b[0mkwargs\u001b[0m\u001b[0;34m[\u001b[0m\u001b[0;34m'local_ns'\u001b[0m\u001b[0;34m]\u001b[0m \u001b[0;34m=\u001b[0m \u001b[0msys\u001b[0m\u001b[0;34m.\u001b[0m\u001b[0m_getframe\u001b[0m\u001b[0;34m(\u001b[0m\u001b[0mstack_depth\u001b[0m\u001b[0;34m)\u001b[0m\u001b[0;34m.\u001b[0m\u001b[0mf_locals\u001b[0m\u001b[0;34m\u001b[0m\u001b[0m\n\u001b[1;32m   2066\u001b[0m             \u001b[0;32mwith\u001b[0m \u001b[0mself\u001b[0m\u001b[0;34m.\u001b[0m\u001b[0mbuiltin_trap\u001b[0m\u001b[0;34m:\u001b[0m\u001b[0;34m\u001b[0m\u001b[0m\n\u001b[0;32m-> 2067\u001b[0;31m                 \u001b[0mresult\u001b[0m \u001b[0;34m=\u001b[0m \u001b[0mfn\u001b[0m\u001b[0;34m(\u001b[0m\u001b[0;34m*\u001b[0m\u001b[0margs\u001b[0m\u001b[0;34m,\u001b[0m\u001b[0;34m**\u001b[0m\u001b[0mkwargs\u001b[0m\u001b[0;34m)\u001b[0m\u001b[0;34m\u001b[0m\u001b[0m\n\u001b[0m\u001b[1;32m   2068\u001b[0m             \u001b[0;32mreturn\u001b[0m \u001b[0mresult\u001b[0m\u001b[0;34m\u001b[0m\u001b[0m\n\u001b[1;32m   2069\u001b[0m \u001b[0;34m\u001b[0m\u001b[0m\n",
      "\u001b[0;32m<decorator-gen-59>\u001b[0m in \u001b[0;36mtime\u001b[0;34m(self, line, cell, local_ns)\u001b[0m\n",
      "\u001b[0;32m/Users/kuleshov/work/snorkel/venv/lib/python2.7/site-packages/IPython/core/magic.pyc\u001b[0m in \u001b[0;36m<lambda>\u001b[0;34m(f, *a, **k)\u001b[0m\n\u001b[1;32m    186\u001b[0m     \u001b[0;31m# but it's overkill for just that one bit of state.\u001b[0m\u001b[0;34m\u001b[0m\u001b[0;34m\u001b[0m\u001b[0m\n\u001b[1;32m    187\u001b[0m     \u001b[0;32mdef\u001b[0m \u001b[0mmagic_deco\u001b[0m\u001b[0;34m(\u001b[0m\u001b[0marg\u001b[0m\u001b[0;34m)\u001b[0m\u001b[0;34m:\u001b[0m\u001b[0;34m\u001b[0m\u001b[0m\n\u001b[0;32m--> 188\u001b[0;31m         \u001b[0mcall\u001b[0m \u001b[0;34m=\u001b[0m \u001b[0;32mlambda\u001b[0m \u001b[0mf\u001b[0m\u001b[0;34m,\u001b[0m \u001b[0;34m*\u001b[0m\u001b[0ma\u001b[0m\u001b[0;34m,\u001b[0m \u001b[0;34m**\u001b[0m\u001b[0mk\u001b[0m\u001b[0;34m:\u001b[0m \u001b[0mf\u001b[0m\u001b[0;34m(\u001b[0m\u001b[0;34m*\u001b[0m\u001b[0ma\u001b[0m\u001b[0;34m,\u001b[0m \u001b[0;34m**\u001b[0m\u001b[0mk\u001b[0m\u001b[0;34m)\u001b[0m\u001b[0;34m\u001b[0m\u001b[0m\n\u001b[0m\u001b[1;32m    189\u001b[0m \u001b[0;34m\u001b[0m\u001b[0m\n\u001b[1;32m    190\u001b[0m         \u001b[0;32mif\u001b[0m \u001b[0mcallable\u001b[0m\u001b[0;34m(\u001b[0m\u001b[0marg\u001b[0m\u001b[0;34m)\u001b[0m\u001b[0;34m:\u001b[0m\u001b[0;34m\u001b[0m\u001b[0m\n",
      "\u001b[0;32m/Users/kuleshov/work/snorkel/venv/lib/python2.7/site-packages/IPython/core/magics/execution.pyc\u001b[0m in \u001b[0;36mtime\u001b[0;34m(self, line, cell, local_ns)\u001b[0m\n\u001b[1;32m   1174\u001b[0m         \u001b[0;32melse\u001b[0m\u001b[0;34m:\u001b[0m\u001b[0;34m\u001b[0m\u001b[0m\n\u001b[1;32m   1175\u001b[0m             \u001b[0mst\u001b[0m \u001b[0;34m=\u001b[0m \u001b[0mclock2\u001b[0m\u001b[0;34m(\u001b[0m\u001b[0;34m)\u001b[0m\u001b[0;34m\u001b[0m\u001b[0m\n\u001b[0;32m-> 1176\u001b[0;31m             \u001b[0;32mexec\u001b[0m\u001b[0;34m(\u001b[0m\u001b[0mcode\u001b[0m\u001b[0;34m,\u001b[0m \u001b[0mglob\u001b[0m\u001b[0;34m,\u001b[0m \u001b[0mlocal_ns\u001b[0m\u001b[0;34m)\u001b[0m\u001b[0;34m\u001b[0m\u001b[0m\n\u001b[0m\u001b[1;32m   1177\u001b[0m             \u001b[0mend\u001b[0m \u001b[0;34m=\u001b[0m \u001b[0mclock2\u001b[0m\u001b[0;34m(\u001b[0m\u001b[0;34m)\u001b[0m\u001b[0;34m\u001b[0m\u001b[0m\n\u001b[1;32m   1178\u001b[0m             \u001b[0mout\u001b[0m \u001b[0;34m=\u001b[0m \u001b[0mNone\u001b[0m\u001b[0;34m\u001b[0m\u001b[0m\n",
      "\u001b[0;32m<timed exec>\u001b[0m in \u001b[0;36m<module>\u001b[0;34m()\u001b[0m\n",
      "\u001b[0;32m/Users/kuleshov/work/gwasdb/snorkel/snorkel/candidates.pyc\u001b[0m in \u001b[0;36mextract\u001b[0;34m(self, contexts, name)\u001b[0m\n\u001b[1;32m     71\u001b[0m \u001b[0;34m\u001b[0m\u001b[0m\n\u001b[1;32m     72\u001b[0m         \u001b[0;32mif\u001b[0m \u001b[0mself\u001b[0m\u001b[0;34m.\u001b[0m\u001b[0mparallelism\u001b[0m \u001b[0;32min\u001b[0m \u001b[0;34m[\u001b[0m\u001b[0;36m1\u001b[0m\u001b[0;34m,\u001b[0m \u001b[0mFalse\u001b[0m\u001b[0;34m]\u001b[0m\u001b[0;34m:\u001b[0m\u001b[0;34m\u001b[0m\u001b[0m\n\u001b[0;32m---> 73\u001b[0;31m             \u001b[0;32mfor\u001b[0m \u001b[0mcandidate\u001b[0m \u001b[0;32min\u001b[0m \u001b[0mself\u001b[0m\u001b[0;34m.\u001b[0m\u001b[0m_extract\u001b[0m\u001b[0;34m(\u001b[0m\u001b[0mcontexts\u001b[0m\u001b[0;34m)\u001b[0m\u001b[0;34m:\u001b[0m\u001b[0;34m\u001b[0m\u001b[0m\n\u001b[0m\u001b[1;32m     74\u001b[0m                 \u001b[0mc\u001b[0m\u001b[0;34m.\u001b[0m\u001b[0mcandidates\u001b[0m\u001b[0;34m.\u001b[0m\u001b[0mappend\u001b[0m\u001b[0;34m(\u001b[0m\u001b[0mcandidate\u001b[0m\u001b[0;34m)\u001b[0m\u001b[0;34m\u001b[0m\u001b[0m\n\u001b[1;32m     75\u001b[0m         \u001b[0;32melse\u001b[0m\u001b[0;34m:\u001b[0m\u001b[0;34m\u001b[0m\u001b[0m\n",
      "\u001b[0;32m/Users/kuleshov/work/gwasdb/snorkel/snorkel/matchers.pyc\u001b[0m in \u001b[0;36mapply\u001b[0;34m(self, candidates)\u001b[0m\n\u001b[1;32m     62\u001b[0m         \"\"\"\n\u001b[1;32m     63\u001b[0m         \u001b[0mseen_spans\u001b[0m \u001b[0;34m=\u001b[0m \u001b[0mset\u001b[0m\u001b[0;34m(\u001b[0m\u001b[0;34m)\u001b[0m\u001b[0;34m\u001b[0m\u001b[0m\n\u001b[0;32m---> 64\u001b[0;31m         \u001b[0;32mfor\u001b[0m \u001b[0mc\u001b[0m \u001b[0;32min\u001b[0m \u001b[0mcandidates\u001b[0m\u001b[0;34m:\u001b[0m\u001b[0;34m\u001b[0m\u001b[0m\n\u001b[0m\u001b[1;32m     65\u001b[0m             \u001b[0;32mif\u001b[0m \u001b[0mself\u001b[0m\u001b[0;34m.\u001b[0m\u001b[0mf\u001b[0m\u001b[0;34m(\u001b[0m\u001b[0mc\u001b[0m\u001b[0;34m)\u001b[0m \u001b[0;32mis\u001b[0m \u001b[0mTrue\u001b[0m \u001b[0;32mand\u001b[0m \u001b[0;34m(\u001b[0m\u001b[0;32mnot\u001b[0m \u001b[0mself\u001b[0m\u001b[0;34m.\u001b[0m\u001b[0mlongest_match_only\u001b[0m \u001b[0;32mor\u001b[0m \u001b[0;32mnot\u001b[0m \u001b[0many\u001b[0m\u001b[0;34m(\u001b[0m\u001b[0;34m[\u001b[0m\u001b[0mself\u001b[0m\u001b[0;34m.\u001b[0m\u001b[0m_is_subspan\u001b[0m\u001b[0;34m(\u001b[0m\u001b[0mc\u001b[0m\u001b[0;34m,\u001b[0m \u001b[0ms\u001b[0m\u001b[0;34m)\u001b[0m \u001b[0;32mfor\u001b[0m \u001b[0ms\u001b[0m \u001b[0;32min\u001b[0m \u001b[0mseen_spans\u001b[0m\u001b[0;34m]\u001b[0m\u001b[0;34m)\u001b[0m\u001b[0;34m)\u001b[0m\u001b[0;34m:\u001b[0m\u001b[0;34m\u001b[0m\u001b[0m\n\u001b[1;32m     66\u001b[0m                 \u001b[0;32mif\u001b[0m \u001b[0mself\u001b[0m\u001b[0;34m.\u001b[0m\u001b[0mlongest_match_only\u001b[0m\u001b[0;34m:\u001b[0m\u001b[0;34m\u001b[0m\u001b[0m\n",
      "\u001b[0;32m/Users/kuleshov/work/gwasdb/snorkel/snorkel/candidates.pyc\u001b[0m in \u001b[0;36mapply\u001b[0;34m(self, context)\u001b[0m\n\u001b[1;32m    191\u001b[0m                 \u001b[0mchar_end\u001b[0m \u001b[0;34m=\u001b[0m \u001b[0mcontext\u001b[0m\u001b[0;34m.\u001b[0m\u001b[0mchar_offsets\u001b[0m\u001b[0;34m[\u001b[0m\u001b[0mi\u001b[0m\u001b[0;34m]\u001b[0m \u001b[0;34m+\u001b[0m \u001b[0mcl\u001b[0m \u001b[0;34m-\u001b[0m \u001b[0;36m1\u001b[0m\u001b[0;34m\u001b[0m\u001b[0m\n\u001b[1;32m    192\u001b[0m                 \u001b[0;31m# TEMP #\u001b[0m\u001b[0;34m\u001b[0m\u001b[0;34m\u001b[0m\u001b[0m\n\u001b[0;32m--> 193\u001b[0;31m                 uid = '%s-%s-%s-%s:%s-%s' % (context.cell.document.name,\n\u001b[0m\u001b[1;32m    194\u001b[0m                                        \u001b[0mcontext\u001b[0m\u001b[0;34m.\u001b[0m\u001b[0mcell\u001b[0m\u001b[0;34m.\u001b[0m\u001b[0mtable\u001b[0m\u001b[0;34m.\u001b[0m\u001b[0mposition\u001b[0m\u001b[0;34m,\u001b[0m\u001b[0;34m\u001b[0m\u001b[0m\n\u001b[1;32m    195\u001b[0m                                        \u001b[0mcontext\u001b[0m\u001b[0;34m.\u001b[0m\u001b[0mcell\u001b[0m\u001b[0;34m.\u001b[0m\u001b[0mposition\u001b[0m\u001b[0;34m,\u001b[0m\u001b[0;34m\u001b[0m\u001b[0m\n",
      "\u001b[0;31mAttributeError\u001b[0m: 'Sentence' object has no attribute 'cell'"
     ]
    }
   ],
   "source": [
    "from snorkel.candidates import EntityExtractor\n",
    "# Define a candidate space\n",
    "ngrams = Ngrams(n_max=1)\n",
    "\n",
    "# Define matchers\n",
    "dict_rsid_matcher = DictionaryMatch(d=rs_ids, longest_match_only=False)\n",
    "gold_rsid_matcher = DictionaryMatch(d=gold_set_rsids, longest_match_only=False)\n",
    "regx_rsid_matcher = RegexMatchSpan(rgx=r'rs\\d+')\n",
    "rsid_matcher = Union(dict_rsid_matcher, regx_rsid_matcher)\n",
    "\n",
    "rsid_extractor = EntityExtractor(ngrams, rsid_matcher)\n",
    "%time rs_candidates = rsid_extractor.extract(corpus.get_sentences(), name='all')\n",
    "for cand in rs_candidates[:10]: \n",
    "    print cand\n",
    "print \"%s candidates extracted\" % len(candidates)\n",
    "\n",
    "# # collect candidates\n",
    "# %time gold_dict_c = Candidates(ngrams, gold_rsid_matcher, corpus.get_contexts())\n",
    "# %time rsid_c = Candidates(ngrams, rsid_matcher, corpus.get_contexts())"
   ]
  },
  {
   "cell_type": "code",
   "execution_count": 15,
   "metadata": {
    "collapsed": false
   },
   "outputs": [
    {
     "name": "stdout",
     "output_type": "stream",
     "text": [
      "Got 994 candidates, e.g.:\n"
     ]
    },
    {
     "data": {
      "text/plain": [
       "[<Ngram(\"rs1667255\", id=21878437-2:704-712, chars=[704,712], words=[38,38]),\n",
       " <Ngram(\"rs7868992\", id=22889924-4:983-991, chars=[983,991], words=[30,30]),\n",
       " <Ngram(\"rs10198628\", id=22589742-17:2336-2345, chars=[2336,2345], words=[0,0]),\n",
       " <Ngram(\"rs455804\", id=22807686-14:2226-2233, chars=[2226,2233], words=[3,3]),\n",
       " <Ngram(\"rs3093077\", id=22291609-5:1571-1579, chars=[1571,1579], words=[98,98])]"
      ]
     },
     "execution_count": 15,
     "metadata": {},
     "output_type": "execute_result"
    }
   ],
   "source": [
    "print 'Got %d candidates, e.g.:' % len(rsid_c.get_candidates())\n",
    "rsid_c.get_candidates()[:5]"
   ]
  },
  {
   "cell_type": "markdown",
   "metadata": {},
   "source": [
    "### Statistics"
   ]
  },
  {
   "cell_type": "markdown",
   "metadata": {},
   "source": [
    "Statistics on all the rsid candidates:"
   ]
  },
  {
   "cell_type": "code",
   "execution_count": 16,
   "metadata": {
    "collapsed": false
   },
   "outputs": [
    {
     "name": "stdout",
     "output_type": "stream",
     "text": [
      "# of gold annotations\t= 8384\n",
      "# of candidates\t\t= 792\n",
      "Candidate recall\t= 0.068\n",
      "Candidate precision\t= 0.722\n"
     ]
    }
   ],
   "source": [
    "gold_rsid_stats(rsid_c.get_candidates(), gold_set)"
   ]
  },
  {
   "cell_type": "markdown",
   "metadata": {},
   "source": [
    "Statistics on the candidates extracted via dictionary matching.\n",
    "\n",
    "Recall is how many SNPs in the gold set are actually mentioned in the abstract/txt.\n",
    "Precision is how many recovered SNPs are also found in the gold set.\n",
    "\n",
    "The gold set are (pmid, rsid) tuples, so in some cases, there are papers where there is a mention of an rsid from another paper, but this new mention is not recorded in the gold set."
   ]
  },
  {
   "cell_type": "code",
   "execution_count": 17,
   "metadata": {
    "collapsed": false
   },
   "outputs": [
    {
     "name": "stdout",
     "output_type": "stream",
     "text": [
      "# of gold annotations\t= 8384\n",
      "# of candidates\t\t= 621\n",
      "Candidate recall\t= 0.068\n",
      "Candidate precision\t= 0.921\n"
     ]
    }
   ],
   "source": [
    "gold_rsid_stats(gold_dict_c.get_candidates(), gold_set)"
   ]
  },
  {
   "cell_type": "markdown",
   "metadata": {},
   "source": [
    "Some debugging on the largest rsID candate set:"
   ]
  },
  {
   "cell_type": "code",
   "execution_count": 18,
   "metadata": {
    "collapsed": false
   },
   "outputs": [
    {
     "name": "stdout",
     "output_type": "stream",
     "text": [
      "<Ngram(\"rs3093077\", id=22291609-5:1571-1579, chars=[1571,1579], words=[98,98])\n",
      "Novel signals include : for IL-6 , in the ABO gene -LRB- rs657152 , p = 2.13 × 10 − 29 -RRB- ; for ESR , at the HBB -LRB- rs4910472 , p = 2.31 × 10 − 11 -RRB- and UCN119B / SPPL3 -LRB- rs11829037 , p = 8.91 × 10 − 10 -RRB- loci ; for MCP-1 , near its receptor CCR2 -LRB- rs17141006 , p = 7.53 × 10 − 13 -RRB- and in CADM3 -LRB- rs3026968 , p = 7.63 × 10 − 13 -RRB- ; for hsCRP , within the CRP gene -LRB- rs3093077 , p = 5.73 × 10 − 21 -RRB- , near DARC -LRB- rs3845624 , p = 1.43 × 10 − 10 -RRB- , UNC119B / SPPL3 -LRB- rs11829037 , p = 1.50 × 10 − 14 -RRB- , and ICOSLG/AIRE -LRB- rs113459440 , p = 1.54 × 10 − 08 -RRB- loci .\n",
      "<Ngram(\"rs1572312\", id=25729143-7:991-999, chars=[991,999], words=[9,9])\n",
      "The C allele of the most significant SNP , rs1572312 , was associated with high values of V .\n",
      "<Ngram(\"rs1572312\", id=25729143-9:1130-1138, chars=[1130,1138], words=[6,6])\n",
      "Furthermore , the frequency of the rs1572312 C allele was significantly higher in elite endurance athletes -LRB- 95.5 % -RRB- in comparison with non-elite endurance athletes -LRB- 89.8 % , P = 0.0257 -RRB- , Russian -LRB- 88.8 % , P = 0.007 -RRB- and European -LRB- 90.6 % , P = 0.0197 -RRB- controls and power athletes -LRB- 86.2 % , P = 0.0005 -RRB- .\n",
      "<Ngram(\"rs10795668\", id=23300701-7:1058-1067, chars=[1058,1067], words=[4,4])\n",
      "For the known locus rs10795668 -LRB- 10p14 -RRB- , we found an interacting SNP rs367615 -LRB- 5q21 -RRB- with replication p = 0.01 and combined p = 4.19 × 10 − 8 .\n",
      "<Ngram(\"rs7144481\", id=25729143-6:876-884, chars=[876,884], words=[14,14])\n",
      "Next , case-control studies resulted in remaining three SNPs -LRB- NFIA-AS2 rs1572312 , TSHR rs7144481 , RBFOX1 rs7191721 -RRB- associated with endurance athlete status .\n"
     ]
    }
   ],
   "source": [
    "strange_ngrams = gold_rsid_precision(rsid_c.get_candidates(), gold_set)\n",
    "gold_dict = dict(gold_set)\n",
    "for ngram in strange_ngrams[:5]:\n",
    "    print ngram\n",
    "    # print corpus.get_doc(ngram.doc_id)\n",
    "    print ' '.join(ngram.sentence['words'])"
   ]
  },
  {
   "cell_type": "markdown",
   "metadata": {
    "collapsed": true
   },
   "source": [
    "## Get candidate p-values"
   ]
  },
  {
   "cell_type": "markdown",
   "metadata": {},
   "source": [
    "Need to use regular expressions for this."
   ]
  },
  {
   "cell_type": "code",
   "execution_count": 19,
   "metadata": {
    "collapsed": true
   },
   "outputs": [],
   "source": [
    "from snorkel.matchers import RegexMatchSpan"
   ]
  },
  {
   "cell_type": "markdown",
   "metadata": {},
   "source": [
    "Test out the regexp."
   ]
  },
  {
   "cell_type": "code",
   "execution_count": 20,
   "metadata": {
    "collapsed": false
   },
   "outputs": [
    {
     "name": "stdout",
     "output_type": "stream",
     "text": [
      "Next , case-control studies resulted in remaining three SNPs -LRB- NFIA-AS2 rs1572312 , TSHR rs7144481 , RBFOX1 rs7191721 -RRB- associated with endurance athlete status .\n"
     ]
    },
    {
     "ename": "AttributeError",
     "evalue": "'NoneType' object has no attribute 'group'",
     "output_type": "error",
     "traceback": [
      "\u001b[0;31m---------------------------------------------------------------------------\u001b[0m",
      "\u001b[0;31mAttributeError\u001b[0m                            Traceback (most recent call last)",
      "\u001b[0;32m<ipython-input-20-6f72c6d75d34>\u001b[0m in \u001b[0;36m<module>\u001b[0;34m()\u001b[0m\n\u001b[1;32m      6\u001b[0m \u001b[0msentence\u001b[0m \u001b[0;34m=\u001b[0m \u001b[0;34m' '\u001b[0m\u001b[0;34m.\u001b[0m\u001b[0mjoin\u001b[0m\u001b[0;34m(\u001b[0m\u001b[0mstrange_ngrams\u001b[0m\u001b[0;34m[\u001b[0m\u001b[0;36m4\u001b[0m\u001b[0;34m]\u001b[0m\u001b[0;34m.\u001b[0m\u001b[0msentence\u001b[0m\u001b[0;34m[\u001b[0m\u001b[0;34m'words'\u001b[0m\u001b[0;34m]\u001b[0m\u001b[0;34m)\u001b[0m\u001b[0;34m\u001b[0m\u001b[0m\n\u001b[1;32m      7\u001b[0m \u001b[0;32mprint\u001b[0m \u001b[0msentence\u001b[0m\u001b[0;34m\u001b[0m\u001b[0m\n\u001b[0;32m----> 8\u001b[0;31m \u001b[0;32mprint\u001b[0m \u001b[0mre\u001b[0m\u001b[0;34m.\u001b[0m\u001b[0msearch\u001b[0m\u001b[0;34m(\u001b[0m\u001b[0mrgx\u001b[0m\u001b[0;34m,\u001b[0m \u001b[0msentence\u001b[0m\u001b[0;34m)\u001b[0m\u001b[0;34m.\u001b[0m\u001b[0mgroup\u001b[0m\u001b[0;34m(\u001b[0m\u001b[0;34m)\u001b[0m\u001b[0;34m\u001b[0m\u001b[0m\n\u001b[0m",
      "\u001b[0;31mAttributeError\u001b[0m: 'NoneType' object has no attribute 'group'"
     ]
    }
   ],
   "source": [
    "import re\n",
    "\n",
    "#p (whitespace)? = (whitespace)? \\d+ .? \\d? (whitespace?) \"x symbol\" (whitespace?) 10 (whitespace?) \"- symbol\" \\w?\\d+\n",
    "# rgx = u'p\\s*=\\s*\\d+\\.?\\d*\\s*\\xd7\\s*10\\s*\\u2212\\s*\\d+'\n",
    "rgx = u'\\d+\\.?\\d*\\s*\\xd7\\s*10\\s*\\u2212\\s*\\d+'\n",
    "sentence = ' '.join(strange_ngrams[4].sentence['words'])\n",
    "print sentence\n",
    "print re.search(rgx, sentence).group()"
   ]
  },
  {
   "cell_type": "code",
   "execution_count": 21,
   "metadata": {
    "collapsed": false
   },
   "outputs": [
    {
     "name": "stdout",
     "output_type": "stream",
     "text": [
      "Extracting candidates...\n",
      "CPU times: user 13 s, sys: 84.5 ms, total: 13.1 s\n",
      "Wall time: 13.1 s\n"
     ]
    }
   ],
   "source": [
    "pval_matcher = RegexMatchSpan(rgx=rgx)\n",
    "ngrams = Ngrams(n_max=5)\n",
    "%time pval_c = Candidates(ngrams, pval_matcher, corpus.get_contexts())"
   ]
  },
  {
   "cell_type": "code",
   "execution_count": 29,
   "metadata": {
    "collapsed": false
   },
   "outputs": [
    {
     "name": "stdout",
     "output_type": "stream",
     "text": [
      "Got 1013 candidates, e.g.:\n",
      "<Ngram(\"1.2×10 −15\", id=22792071-4:978-987, chars=[978,987], words=[50,54])\n",
      "<Ngram(\"1.2×10 −11\", id=20173748-2:485-494, chars=[485,494], words=[46,50])\n",
      "<Ngram(\"1.85×10 −20\", id=18846228-5:782-792, chars=[782,792], words=[41,45])\n",
      "<Ngram(\"6.2×10 −5\", id=24586183-6:1550-1558, chars=[1550,1558], words=[60,64])\n",
      "<Ngram(\"1.5×10 −7\", id=18464913-6:1097-1105, chars=[1097,1105], words=[60,64])\n"
     ]
    }
   ],
   "source": [
    "print 'Got %d candidates, e.g.:' % len(pval_c.get_candidates())\n",
    "for candidate in pval_c.get_candidates()[:5]:\n",
    "    print unicode(candidate)"
   ]
  },
  {
   "cell_type": "markdown",
   "metadata": {},
   "source": [
    "### Statistics"
   ]
  },
  {
   "cell_type": "markdown",
   "metadata": {},
   "source": [
    "First, how many p-values that should be present do we extract?"
   ]
  },
  {
   "cell_type": "code",
   "execution_count": 58,
   "metadata": {
    "collapsed": false
   },
   "outputs": [
    {
     "name": "stdout",
     "output_type": "stream",
     "text": [
      "6.2e-05\n",
      "1.85e-20\n"
     ]
    }
   ],
   "source": [
    "# we need to define a p-value -> float converter\n",
    "from extractor.util import pvalue_to_float, gold_pval_stats, gold_pval_precision\n",
    "\n",
    "print pvalue_to_float(u\"6.2×10 −5\")\n",
    "print pvalue_to_float(u\"1.85×10 −20\")"
   ]
  },
  {
   "cell_type": "code",
   "execution_count": 27,
   "metadata": {
    "collapsed": false
   },
   "outputs": [],
   "source": [
    "from kb import KnowledgeBase\n",
    "kb = KnowledgeBase()\n",
    "gold_set_pvals = frozenset([ (doc.id, pval) for doc in corpus.get_docs() for pval in kb.pvals_by_pmid(int(doc.id)) ])"
   ]
  },
  {
   "cell_type": "code",
   "execution_count": 45,
   "metadata": {
    "collapsed": false
   },
   "outputs": [
    {
     "name": "stdout",
     "output_type": "stream",
     "text": [
      "Found 5289 gold mentions, e.g.:\n",
      "[('23770605', 1e-14), ('23326517', 7.000000000000001e-32), ('19936222', 2e-53), ('24586186', 3e-164), ('24999842', 3e-11)]\n",
      "\n",
      "# of gold annotations\t= 2730\n",
      "# of candidates\t\t= 798\n",
      "Candidate recall\t= 0.182\n",
      "Candidate precision\t= 0.623\n",
      "None\n"
     ]
    }
   ],
   "source": [
    "print 'Found %d gold mentions, e.g.:' % len(gold_set_pvals)\n",
    "print list(gold_set_pvals)[:5]\n",
    "print\n",
    "\n",
    "print gold_pval_stats(pval_c.get_candidates(), gold_set_pvals)"
   ]
  },
  {
   "cell_type": "markdown",
   "metadata": {},
   "source": [
    "Some debugging..."
   ]
  },
  {
   "cell_type": "code",
   "execution_count": 70,
   "metadata": {
    "collapsed": false
   },
   "outputs": [
    {
     "name": "stdout",
     "output_type": "stream",
     "text": [
      "[('23900074', -10.0), ('22479202', -4.0), ('21878437', -5.0), ('22832960', -8.0), ('21738479', -8.0), ('19714205', -6.0), ('22291609', -29.0), ('18483556', -62.0), ('22737229', -12.0), ('21729881', -8.0), ('24586183', -4.0), ('22368281', -16.0), ('21079607', -7.0), ('19412175', -8.0), ('22479202', -43.0), ('25436638', -3.0), ('24586183', -5.0), ('19503597', -54.0), ('24940741', -11.0), ('23565137', -8.0), ('21814517', -8.0), ('20852633', -11.0), ('22479419', -5.0), ('23459443', -8.0), ('21533024', -16.0), ('24379826', -3.0), ('19503597', -26.0), ('22005930', -4.0), ('21326860', -5.0), ('21124946', -5.0), ('24023788', -3.0), ('23583978', -11.0), ('21124955', -11.0), ('23900074', -4.0), ('25017104', -16.0), ('18282107', -5.0), ('21273288', -10.0), ('23966204', -37.0), ('19915575', -5.0), ('20585626', -25.0), ('20838585', -24.0), ('21460840', -21.0), ('18776929', -7.0), ('21418511', -4.0), ('19056611', -14.0), ('21533024', -9.0), ('22479202', -5.0), ('22558097', -8.0), ('20921969', -5.0), ('23459936', -6.0), ('22899653', -16.0), ('18282107', -3.0), ('22807686', -3.0), ('18846228', -19.0), ('21051773', -7.0), ('21460840', -9.0), ('20686651', -5.0), ('21750679', -8.0), ('25364816', -7.0), ('19571809', -9.0), ('18369459', -11.0), ('22693455', -16.0), ('22792070', -31.0), ('20011104', -6.0), ('23358160', -2.0), ('24379826', -6.0), ('19305408', -8.0), ('18483556', -13.0), ('21533024', -17.0), ('21876539', -5.0), ('22558097', -4.0), ('23708191', -5.0), ('20072603', -6.0), ('19734902', -8.0), ('23670970', -6.0), ('22570627', -2.0), ('21379329', -8.0), ('22085899', -8.0), ('21750679', -5.0), ('23565137', -4.0), ('21448238', -8.0), ('25017104', -2.0), ('23696099', -8.0), ('19412175', -9.0), ('20081856', -8.0), ('24516586', -7.0), ('22693459', -88.0), ('22792070', -28.0), ('22899653', -8.0), ('23636237', -8.0), ('25297839', -8.0), ('23708191', -7.0), ('22479202', -3.0), ('25009551', -4.0), ('20686651', -17.0), ('23776548', -8.0), ('18846228', -4.0), ('19587794', -6.0), ('20372150', -30.0), ('21298027', -8.0), ('23118916', -3.0), ('22384028', -4.0), ('19412175', -7.0), ('22737229', -15.0), ('21273288', -11.0), ('19343178', -5.0), ('20418485', -25.0), ('19874204', -5.0), ('21533074', -7.0), ('24586186', -44.0), ('21060863', -8.0), ('24465431', -5.0), ('21460840', -4.0), ('24709693', -5.0), ('17658951', -6.0), ('24625756', -10.0), ('21729881', -4.0), ('20173747', -12.0), ('23565137', -7.0), ('20548946', -10.0), ('22470424', -4.0), ('18776929', -3.0), ('21124946', -6.0), ('19609347', -7.0), ('21298027', -5.0), ('22291609', -8.0), ('23583978', -7.0), ('22792070', -16.0), ('22384028', -5.0), ('22693459', -3.0), ('22807686', -4.0), ('22807686', -8.0), ('20852633', -9.0), ('22807686', -19.0), ('21779181', -61.0), ('22291609', -21.0), ('22737229', -10.0), ('18846228', -3.0), ('23459936', -9.0), ('21460840', -5.0), ('20585626', -4.0), ('20861866', -4.0), ('20066028', -4.0), ('21460840', -10.0), ('18604267', -8.0), ('25187353', -10.0), ('21298027', -2.0), ('24253340', -12.0), ('19503597', -201.0), ('20802479', -9.0), ('25009551', -5.0), ('22745674', -6.0), ('19874204', -3.0), ('24223155', -9.0), ('25436638', -17.0), ('20711177', -8.0), ('25105248', -8.0), ('23382809', -5.0), ('25310821', -13.0), ('21483430', -5.0), ('22344219', -7.0), ('24755620', -8.0), ('25102180', -23.0), ('19557197', -5.0), ('20418485', -7.0), ('19734902', -5.0), ('20548944', -13.0), ('23209189', -12.0), ('23358160', -5.0), ('24023788', -8.0), ('20700438', -20.0), ('18369459', -30.0), ('23958962', -9.0), ('22479419', -6.0), ('21998595', -4.0), ('19412175', -16.0), ('22544364', -5.0), ('21347284', -16.0), ('19412175', -4.0), ('20305777', -8.0), ('25629512', -21.0), ('22745674', -5.0), ('21878437', -12.0), ('22238593', -8.0), ('19096518', -9.0), ('25187353', -14.0), ('22792071', -6.0), ('23670970', -8.0), ('22570627', -4.0), ('20548944', -10.0), ('25017104', -11.0), ('19597492', -11.0), ('18369459', -3.0), ('22291609', -10.0), ('22558069', -3.0), ('22238593', -5.0), ('23696099', -6.0), ('20418485', -5.0), ('20418485', -30.0), ('19820699', -20.0), ('24800985', -5.0), ('20066028', -5.0), ('19247474', -5.0), ('24586186', -8.0), ('19343178', -4.0), ('20921969', -13.0), ('22368281', -11.0), ('20686651', -23.0), ('24945404', -14.0), ('23544013', -4.0), ('24586183', -3.0), ('20675712', -15.0), ('20418485', -22.0), ('24143190', -5.0), ('22085899', -11.0), ('21998597', -16.0), ('21298027', -9.0), ('18483556', -89.0), ('22438815', -8.0), ('23754948', -8.0), ('22899653', -63.0), ('20011104', -3.0), ('21814517', -7.0), ('23326239', -15.0), ('23900074', -7.0), ('19820699', -23.0), ('23966204', -13.0), ('20729852', -15.0), ('22359512', -204.0), ('22899653', -14.0), ('23209447', -8.0), ('22737229', -19.0), ('18846228', -7.0), ('19304780', -8.0), ('20066028', -3.0), ('24023788', -4.0), ('20395239', -11.0), ('21298027', -3.0), ('22558069', -10.0), ('17997608', -11.0), ('21533074', -12.0), ('21533074', -15.0), ('22693455', -14.0), ('21483430', -22.0), ('19874204', -4.0), ('23297363', -5.0), ('22792071', -12.0), ('19300499', -7.0), ('19056611', -13.0), ('23698163', -5.0), ('23209189', -9.0), ('25310821', -4.0), ('20700438', -11.0), ('23555300', -8.0), ('20548946', -19.0), ('21931564', -23.0), ('22889924', -7.0), ('19734902', -6.0), ('21437268', -9.0), ('21878437', -17.0), ('21460840', -16.0), ('23326512', -7.0), ('21423719', -8.0), ('22792071', -4.0), ('21483430', -4.0), ('21738484', -7.0), ('22792070', -11.0), ('23104006', -3.0), ('18282107', -4.0), ('21483845', -9.0), ('24999842', -6.0), ('21779181', -76.0), ('21151130', -3.0), ('18369459', -5.0), ('23291587', -4.0), ('24518671', -8.0), ('20852633', -4.0), ('23209447', -29.0), ('22291609', -13.0), ('22396660', -8.0), ('25340798', -10.0), ('24023777', -8.0), ('23670970', -10.0), ('24755620', -11.0), ('22504420', -4.0), ('21379329', -81.0), ('23900074', -14.0), ('18369459', -4.0), ('20548946', -33.0), ('22792071', -13.0), ('22558069', -4.0), ('24465473', -5.0), ('22430674', -7.0), ('21273288', -3.0), ('23565137', -5.0), ('20066028', -6.0), ('17447842', -4.0), ('23555300', -11.0), ('21931568', -8.0), ('25310821', -5.0), ('19503597', -57.0)]\n"
     ]
    }
   ],
   "source": [
    "print gold_pval_precision(pval_c.get_candidates(), gold_set_pvals)"
   ]
  },
  {
   "cell_type": "code",
   "execution_count": 76,
   "metadata": {
    "collapsed": false
   },
   "outputs": [
    {
     "name": "stdout",
     "output_type": "stream",
     "text": [
      "<Ngram(\"6.2×10 −5\", id=24586183-6:1550-1558, chars=[1550,1558], words=[60,64])\n",
      "The MAGI3 and BACH2 variants were associated with an increased risk of hyperthyroidism , which was replicated in an independent cohort of patients with Graves ' disease -LRB- OR : 1.37 , 95 % CI 1.22 -- 1.54 , P = 1.2 × 10 − 7 and OR : 1.25 , 95 % CI 1.12 -- 1.39 , P = 6.2 × 10 − 5 -RRB- .\n",
      "[1e-09, 3e-06, 3e-07, 3.0000000000000004e-08, 4e-08, 7e-13, 4e-07, 2e-16, 6e-07, 2e-08, 1e-07]\n",
      "\n",
      "<Ngram(\"2.44×10 −3\", id=18776929-6:1145-1154, chars=[1145,1154], words=[31,35])\n",
      "Two SNPs of the PLCL1 gene , rs892515 and rs9789480 , surrounded by the four SNPs identified in our GWAS , achieved p values of 8.62 × 10 − 3 and 2.44 × 10 − 3 , respectively , for association with hip BS .\n",
      "[2e-06]\n",
      "\n",
      "<Ngram(\"5.43 × 10 −4\", id=21483430-5:1469-1480, chars=[1469,1480], words=[113,117])\n",
      "Associated regions affiliated with memory included the entorhinal cortex -LRB- rs821639 , p = 4.11 × 10 − 5 ; rs2356606 , p = 4.71 × 10 − 4 -RRB- , cingulate cortex -LRB- rs16856322 , p = 2.88 × 10 − 4 -RRB- and parahippocampal gyrus -LRB- rs821639 , p = 4.95 × 10 − 4 -RRB- ; those affiliated with executive and other cognitive processing included the transverse temporal gyrus -LRB- rs9661837 , p = 5.21 × 10 − 4 ; rs17773946 , p = 6.23 × 10 − 4 -RRB- , anterior cingulate cortex -LRB- rs2487453 , p = ; 4.79 × 10 − 4 ; rs3738401 , p = 5.43 × 10 − 4 -RRB- and medial orbitofrontal cortex -LRB- rs9661837 ; p = 7.40 × 10 − 4 -RRB- .\n",
      "[4e-36]\n",
      "\n",
      "<Ngram(\"8.00 × 10 −8\", id=21448238-3:547-558, chars=[547,558], words=[16,20])\n",
      "The best result was obtained for SNP rs9908234 , which had a P - value of 8.00 × 10 − 8 .\n",
      "[8e-06, 5e-07]\n",
      "\n",
      "<Ngram(\"4.4×10 −3\", id=22479202-6:1344-1352, chars=[1344,1352], words=[69,73])\n",
      "This risk score was associated with increased risk of T2D -LRB- p = 4.3 × 10 − 3 , n = 22,044 -RRB- , increased triglycerides -LRB- p = 2.6 × 10 − 14 , n = 93,440 -RRB- , increased waist-to-hip ratio -LRB- p = 1.8 × 10 − 5 , n = 77,167 -RRB- , increased glucose two hours post oral glucose tolerance testing -LRB- p = 4.4 × 10 − 3 , n = 15,234 -RRB- , increased fasting insulin -LRB- p = 0.015 , n = 48,238 -RRB- , but with lower in HDL-cholesterol concentrations -LRB- p = 4.5 × 10 − 13 , n = 96,748 -RRB- and decreased BMI -LRB- p = 1.4 × 10 − 4 , n = 121,335 -RRB- .\n",
      "[3e-06, 4e-08, 4e-07, 1e-13, 8e-06, 4e-06, 1e-14, 9e-06, 8e-12, 2e-08, 2e-07, 3e-10, 7e-06, 2e-06, 6.000000000000001e-08, 3.0000000000000004e-08, 1e-09, 6e-48, 5e-07, 2.9999999999999995e-21, 2e-13, 7.000000000000001e-09, 4.999999999999999e-44, 2e-42, 6e-07]\n",
      "\n"
     ]
    }
   ],
   "source": [
    "gold_pval_dict = { doc_id : [] for doc_id, pval in gold_set_pvals }\n",
    "for doc_id, pval in gold_set_pvals:\n",
    "    gold_pval_dict[doc_id].append(pval)\n",
    "    \n",
    "strange_ngrams = gold_pval_precision(pval_c.get_candidates(), gold_set_pvals)\n",
    "for ngram in strange_ngrams[:5]:\n",
    "    print unicode(ngram)\n",
    "    print ' '.join(ngram.sentence['words'])\n",
    "    print gold_pval_dict[ngram.doc_id]\n",
    "    print"
   ]
  },
  {
   "cell_type": "code",
   "execution_count": null,
   "metadata": {
    "collapsed": false
   },
   "outputs": [],
   "source": [
    "kb.pvals_by_pmid('23382691')"
   ]
  },
  {
   "cell_type": "markdown",
   "metadata": {},
   "source": [
    "Potential analysis question: how many rsIDs that we extracted earlier also have an associated p-value?\n",
    "\n",
    "We will say that if an rsID and a p-value occur in the same document, they have been identified correctly.\n",
    "\n",
    "So we extract from our gold set tuples of the form (pmid, rsID, p-value). We compare them to candidate tuples, where an rsID and a p-value are associated if they occur in the same sentence.\n",
    "\n",
    "This seems like something to be checked at the relation extraction stage."
   ]
  },
  {
   "cell_type": "markdown",
   "metadata": {
    "collapsed": true
   },
   "source": [
    "## Extract phenotypes"
   ]
  },
  {
   "cell_type": "code",
   "execution_count": 83,
   "metadata": {
    "collapsed": false
   },
   "outputs": [
    {
     "name": "stdout",
     "output_type": "stream",
     "text": [
      "Extracting candidates...\n",
      "CPU times: user 21.2 s, sys: 142 ms, total: 21.4 s\n",
      "Wall time: 21.4 s\n"
     ]
    }
   ],
   "source": [
    "# Define a candidate space\n",
    "ngrams = Ngrams(n_max=4)\n",
    "\n",
    "# collect phenotype list\n",
    "from db.kb import KnowledgeBase\n",
    "kb = KnowledgeBase()\n",
    "phenotype_list = kb.get_phenotype_candidates()\n",
    "# TODO: load disease names from NCBI\n",
    "\n",
    "# Define matchers\n",
    "phen_matcher = DictionaryMatch(d=phenotype_list, longest_match_only=False, ignore_case=True, stemmer='porter')\n",
    "\n",
    "# collect candidates\n",
    "%time phen_c = Candidates(ngrams, phen_matcher, corpus.get_contexts())"
   ]
  },
  {
   "cell_type": "code",
   "execution_count": 84,
   "metadata": {
    "collapsed": false
   },
   "outputs": [
    {
     "name": "stdout",
     "output_type": "stream",
     "text": [
      "Got 2429 candidates, e.g.:\n",
      "<Ngram(\"quantitative trait\", id=20190752-4:597-614, chars=[597,614], words=[3,4])\n",
      "<Ngram(\"anthropometric traits\", id=21423719-8:1757-1777, chars=[1757,1777], words=[20,21])\n",
      "<Ngram(\"systemic sclerosis\", id=21779181-0:164-181, chars=[164,181], words=[27,28])\n",
      "<Ngram(\"type 2 diabetes\", id=25102180-11:1961-1975, chars=[1961,1975], words=[5,7])\n",
      "<Ngram(\"hepatic\", id=21423719-13:2404-2410, chars=[2404,2410], words=[15,15])\n"
     ]
    }
   ],
   "source": [
    "print 'Got %d candidates, e.g.:' % len(phen_c.get_candidates())\n",
    "for candidate in phen_c.get_candidates()[:5]:\n",
    "    print candidate"
   ]
  },
  {
   "cell_type": "markdown",
   "metadata": {},
   "source": [
    "### Statistics"
   ]
  },
  {
   "cell_type": "code",
   "execution_count": 106,
   "metadata": {
    "collapsed": false
   },
   "outputs": [
    {
     "name": "stdout",
     "output_type": "stream",
     "text": [
      "Found 723 gold mentions, e.g.:\n",
      "[('24478790', u'telomere length'), ('21552555', u'obesity'), ('18483556', u'black vs. red hair color'), ('22359512', u'phospholipid levels (plasma)'), ('22479202', u'adiponectin levels')]\n"
     ]
    }
   ],
   "source": [
    "from db.kb import KnowledgeBase\n",
    "kb = KnowledgeBase() # reload\n",
    "gold_set_phens = frozenset([ (doc.id, phen) for doc in corpus.get_docs() for phen in kb.phens_by_pmid(int(doc.id)) ])\n",
    "\n",
    "print 'Found %d gold mentions, e.g.:' % len(gold_set_phens)\n",
    "print list(gold_set_phens)[:5]"
   ]
  },
  {
   "cell_type": "code",
   "execution_count": 104,
   "metadata": {
    "collapsed": false
   },
   "outputs": [
    {
     "name": "stdout",
     "output_type": "stream",
     "text": [
      "# of gold annotations\t= 723\n",
      "# of candidates\t\t= 2429\n",
      "Candidate recall\t= 0.939\n",
      "Candidate precision\t= 0.280\n"
     ]
    }
   ],
   "source": [
    "from extractor.util import gold_phen_stats\n",
    "gold_phen_stats(phen_c.get_candidates(), gold_set_phens)"
   ]
  },
  {
   "cell_type": "markdown",
   "metadata": {},
   "source": [
    "Why do we get low recall?"
   ]
  },
  {
   "cell_type": "code",
   "execution_count": 114,
   "metadata": {
    "collapsed": false
   },
   "outputs": [
    {
     "name": "stdout",
     "output_type": "stream",
     "text": [
      "word reading\n",
      "A genome-wide association study for reading and language abilities in two population cohorts.\n",
      "Document(id='23738518', file='23738518.xml', text=u'Candidate genes have been identified for both reading and language, but most of the heritable variance in these traits remains unexplained. Here, we report a genome-wide association meta-analysis of two large cohorts: population samples of Australian twins and siblings aged 12\\u201325\\u2009years ( n \\u2009=\\u20091177 from 538 families), and a younger cohort of children of the UK Avon Longitudinal Study of Parents and their Children (aged 8 and 9\\u2009years; maximum  n \\u2009=\\u20095472). Suggestive association was indicated for reading measures and non-word repetition (NWR), with the greatest support found for single nucleotide polymorphisms (SNPs) in the pseudogene,  ABCC13  ( P \\u2009=\\u20097.34\\u2009\\xd7\\u200910 \\u22128 ), and the gene,  DAZAP1  ( P \\u2009=\\u20091.32\\u2009\\xd7\\u200910 \\u22126 ). Gene-based analyses showed significant association ( P \\u2009<\\u20092.8\\u2009\\xd7\\u200910 \\u22126 ) for reading and spelling with genes  CD2L1 ,  CDC2L2  and  RCAN3  in two loci on chromosome 1. Some support was found for the same SNPs having effects on both reading skill and NWR, which is compatible with behavior genetic evidence for influences of reading acquisition on phonological-task performance. The results implicate novel candidates for study in additional cohorts for reading and language abilities.', attribs={'root': <Element article at 0x106335f80>})\n",
      "\n",
      "qt interval\n",
      "Common genetic variation near the phospholamban gene is associated with cardiac repolarisation: meta-analysis of three genome-wide association studies.\n",
      "Document(id='19587794', file='19587794.xml', text=u'To identify loci affecting the electrocardiographic QT interval, a measure of cardiac repolarisation associated with risk of ventricular arrhythmias and sudden cardiac death, we conducted a meta-analysis of three genome-wide association studies (GWAS) including 3,558 subjects from the TwinsUK and BRIGHT cohorts in the UK and the DCCT/EDIC cohort from North America. Five loci were significantly associated with QT interval at P<1\\xd710 \\u22126 . To validate these findings we performed an  in silico  comparison with data from two QT consortia: QTSCD (n\\u200a=\\u200a15,842) and QTGEN (n\\u200a=\\u200a13,685). Analysis confirmed the association between common variants near  NOS1AP  (P\\u200a=\\u200a1.4\\xd710 \\u221283 ) and the phospholamban ( PLN ) gene (P\\u200a=\\u200a1.9\\xd710 \\u221229 ). The most associated SNP near  NOS1AP  (rs12143842) explains 0.82% variance; the SNP near  PLN  (rs11153730) explains 0.74% variance of QT interval duration. We found no evidence for interaction between these two SNPs (P\\u200a=\\u200a0.99). PLN is a key regulator of cardiac diastolic function and is involved in regulating intracellular calcium cycling, it has only recently been identified as a susceptibility locus for QT interval. These data offer further mechanistic insights into genetic influence on the QT interval which may predispose to life threatening arrhythmias and sudden cardiac death.', attribs={'root': <Element article at 0x1062cb908>})\n",
      "\n",
      "systemic lupus erythematosus\n",
      "Differential genetic associations for systemic lupus erythematosus based on anti-dsDNA autoantibody production.\n",
      "Document(id='21408207', file='21408207.xml', text=u'Systemic lupus erythematosus (SLE) is a clinically heterogeneous, systemic autoimmune disease characterized by autoantibody formation. Previously published genome-wide association studies (GWAS) have investigated SLE as a single phenotype. Therefore, we conducted a GWAS to identify genetic factors associated with anti\\u2013dsDNA autoantibody production, a SLE\\u2013related autoantibody with diagnostic and clinical importance. Using two independent datasets, over 400,000 single nucleotide polymorphisms (SNPs) were studied in a total of 1,717 SLE cases and 4,813 healthy controls. Anti\\u2013dsDNA autoantibody positive (anti\\u2013dsDNA +, n\\u200a=\\u200a811) and anti\\u2013dsDNA autoantibody negative (anti\\u2013dsDNA \\u2013, n\\u200a=\\u200a906) SLE cases were compared to healthy controls and to each other to identify SNPs associated specifically with these SLE subtypes. SNPs in the previously identified SLE susceptibility loci  STAT4 ,  IRF5 ,  ITGAM , and the major histocompatibility complex were strongly associated with anti\\u2013dsDNA + SLE. Far fewer and weaker associations were observed for anti\\u2013dsDNA \\u2013 SLE. For example, rs7574865 in  STAT4  had an OR for anti\\u2013dsDNA + SLE of 1.77 (95% CI 1.57\\u20131.99, p\\u200a=\\u200a2.0E-20) compared to an OR for anti\\u2013dsDNA \\u2013 SLE of 1.26 (95% CI 1.12\\u20131.41, p\\u200a=\\u200a2.4E-04), with p heterogeneity <0.0005. SNPs in the SLE susceptibility loci  BANK1 ,  KIAA1542 , and  UBE2L3  showed evidence of association with anti\\u2013dsDNA + SLE and were not associated with anti\\u2013dsDNA \\u2013 SLE. In conclusion, we identified differential genetic associations with SLE based on anti\\u2013dsDNA autoantibody production. Many previously identified SLE susceptibility loci may confer disease risk through their role in autoantibody production and be more accurately described as autoantibody propensity loci. Lack of strong SNP associations may suggest that other types of genetic variation or non-genetic factors such as environmental exposures have a greater impact on susceptibility to anti\\u2013dsDNA \\u2013 SLE. Systemic lupus erythematosus (SLE) is a chronic autoimmune disease that can involve virtually any organ system. SLE patients produce antibodies that bind to their own cells and proteins (autoantibodies) which can cause irreversible organ damage. One particular SLE\\u2013related autoantibody directed at double-stranded DNA (anti\\u2013dsDNA) is associated with kidney involvement and more severe disease. Previous genome-wide association studies (GWAS) in SLE have studied SLE itself, not particular SLE manifestations. Therefore, we conducted this GWAS of anti\\u2013dsDNA autoantibody production to identify genetic associations with this clinically important autoantibody. We found that many previously identified SLE\\u2013associated genes are more strongly associated with anti\\u2013dsDNA autoantibody production than SLE itself, and they may be more accurately described as autoantibody propensity genes. No strong genetic associations were observed for SLE patients who do not produce anti\\u2013dsDNA autoantibodies, suggesting that other factors may have more influence in developing this type of SLE. Further investigation of these autoantibody propensity genes may lead to greater insight into the causes of autoantibody production and organ damage in SLE.', attribs={'root': <Element article at 0x10630cab8>})\n",
      "\n",
      "bone mineral density\n",
      "IL21R and PTH may underlie variation of femoral neck bone mineral density as revealed by a genome-wide association study.\n",
      "Document(id='19874204', file='19874204.xml', text=u'Bone mineral density (BMD) measured at the femoral neck (FN) is the most important risk phenotype for osteoporosis and has been used as a reference standard for describing osteoporosis. The specific genes influencing FN BMD remain largely unknown. To identify such genes, we first performed a genome-wide association (GWA) analysis for FN BMD in a discovery sample consisting of 983 unrelated white subjects. We then tested the top significant single-nucleotide polymorphisms (SNPs; 175 SNPs with  p  < 5 \\xd7 10 \\u22124 ) for replication in a family-based sample of 2557 white subjects. Combing results from these two samples, we found that two genes, parathyroid hormone ( PTH ) and interleukin 21 receptor ( IL21R ), achieved consistent association results in both the discovery and replication samples. The  PTH  gene SNPs, rs9630182, rs2036417, and rs7125774, achieved  p  values of 1.10 \\xd7 10 \\u22124 , 3.24 \\xd7 10 \\u22124 , and 3.06 \\xd7 10 \\u22124 , respectively, in the discovery sample;  p  values of 6.50 \\xd7 10 \\u22124 , 5.08 \\xd7 10 \\u22123 , and 5.68 \\xd7 10 \\u22123 , respectively, in the replication sample; and combined  p  values of 3.98 \\xd7 10 \\u22127 , 9.52 \\xd7 10 \\u22126 , and 1.05 \\xd7 10 \\u22125 , respectively, in the total sample. The  IL21R  gene SNPs, rs8057551, rs8061992, and rs7199138, achieved  p  values of 1.51 \\xd7 10 \\u22124 , 1.53 \\xd7 10 \\u22124 , and 3.88 \\xd7 10 \\u22124 , respectively, in the discovery sample;  p  values of 2.36 \\xd7 10 \\u22123 , 6.74 \\xd7 10 \\u22123 , and 6.41 \\xd7 10 \\u22123 , respectively, in the replication sample; and combined  p  values of 2.31 \\xd7 10 \\u22126 , 8.62 \\xd7 10 \\u22126 , and 1.41 \\xd7 10 \\u22125 , respectively, in the total sample. The effect size of each SNP was approximately 0.11 SD estimated in the discovery sample.  PTH  and  IL21R  both have potential biologic functions important to bone metabolism. Overall, our findings provide some new clues to the understanding of the genetic architecture of osteoporosis. \\xa9 2010 American Society for Bone and Mineral Research.', attribs={'root': <Element article at 0x1062cbcb0>})\n",
      "\n",
      "igg glycosylation\n",
      "Loci associated with N-glycosylation of human immunoglobulin G show pleiotropy with autoimmune diseases and haematological cancers.\n",
      "Document(id='23382691', file='23382691.xml', text=u\"Glycosylation of immunoglobulin G (IgG) influences IgG effector function by modulating binding to Fc receptors. To identify genetic loci associated with IgG glycosylation, we quantitated  N -linked IgG glycans using two approaches. After isolating IgG from human plasma, we performed 77 quantitative measurements of  N -glycosylation using ultra-performance liquid chromatography (UPLC) in 2,247 individuals from four European discovery populations. In parallel, we measured IgG  N -glycans using MALDI-TOF mass spectrometry (MS) in a replication cohort of 1,848 Europeans. Meta-analysis of genome-wide association study (GWAS) results identified 9 genome-wide significant loci (P<2.27\\xd710 \\u22129 ) in the discovery analysis and two of the same loci ( B4GALT1  and  MGAT3 ) in the replication cohort. Four loci contained genes encoding glycosyltransferases ( ST6GAL1 ,  B4GALT1 ,  FUT8 , and  MGAT3 ), while the remaining 5 contained genes that have not been previously implicated in protein glycosylation ( IKZF1 ,  IL6ST-ANKRD55 ,  ABCF2-SMARCD3 ,  SUV420H1 , and  SMARCB1-DERL3 ). However, most of them have been strongly associated with autoimmune and inflammatory conditions (e.g., systemic lupus erythematosus, rheumatoid arthritis, ulcerative colitis, Crohn's disease, diabetes type 1, multiple sclerosis, Graves' disease, celiac disease, nodular sclerosis) and/or haematological cancers (acute lymphoblastic leukaemia, Hodgkin lymphoma, and multiple myeloma). Follow-up functional experiments in haplodeficient  Ikzf1  knock-out mice showed the same general pattern of changes in IgG glycosylation as identified in the meta-analysis. As  IKZF1  was associated with multiple IgG  N -glycan traits, we explored biomarker potential of affected  N -glycans in 101 cases with SLE and 183 matched controls and demonstrated substantial discriminative power in a ROC-curve analysis (area under the curve\\u200a=\\u200a0.842). Our study shows that it is possible to identify new loci that control glycosylation of a single plasma protein using GWAS. The results may also provide an explanation for the reported pleiotropy and antagonistic effects of loci involved in autoimmune diseases and haematological cancer. After analysing glycans attached to human immunoglobulin G in 4,095 individuals, we performed the first genome-wide association study (GWAS) of the glycome of an individual protein. Nine genetic loci were found to associate with glycans with genome-wide significance. Of these, four were enzymes that directly participate in IgG glycosylation, thus the observed associations were biologically founded. The remaining five genetic loci were not previously implicated in protein glycosylation, but the most of them have been reported to be relevant for autoimmune and inflammatory conditions and/or haematological cancers. A particularly interesting gene,  IKZF1  was found to be associated with multiple IgG  N -glycans. This gene has been implicated in numerous diseases, including systemic lupus erythematosus (SLE). We analysed  N -glycans in 101 cases with SLE and 183 matched controls and demonstrated their substantial biomarker potential. Our study shows that it is possible to identify new loci that control glycosylation of a single plasma protein using GWAS. Our results may also provide an explanation for opposite effects of some genes in autoimmune diseases and haematological cancer.\", attribs={'root': <Element article at 0x1063352d8>})\n",
      "\n"
     ]
    }
   ],
   "source": [
    "from extractor.util import gold_phen_recall\n",
    "kb = KnowledgeBase()\n",
    "\n",
    "phen_not_found = gold_phen_recall(phen_c.get_candidates(), gold_set_phens)\n",
    "for doc_id, phen in phen_not_found[:5]:\n",
    "    print phen\n",
    "    print kb.title_by_pmid(doc_id)\n",
    "    print corpus.get_doc(doc_id)\n",
    "    print"
   ]
  },
  {
   "cell_type": "markdown",
   "metadata": {},
   "source": [
    "## Now let's do some learning!"
   ]
  },
  {
   "cell_type": "markdown",
   "metadata": {},
   "source": [
    "### Learning correct phenotypes"
   ]
  },
  {
   "cell_type": "code",
   "execution_count": 201,
   "metadata": {
    "collapsed": false
   },
   "outputs": [],
   "source": [
    "from snorkel.matchers import CandidateExtractor\n",
    "from snorkel.snorkel import Entities\n",
    "\n",
    "from nltk.stem.porter import PorterStemmer\n",
    "stemmer = PorterStemmer()\n",
    "\n",
    "ngrams = Ngrams(n_max=4)\n",
    "ce = CandidateExtractor(ngrams, phen_matcher)\n",
    "\n",
    "phenotypes = Entities(corpus.get_contexts(), ce)"
   ]
  },
  {
   "cell_type": "markdown",
   "metadata": {},
   "source": [
    "Extract features, and store them to a file."
   ]
  },
  {
   "cell_type": "code",
   "execution_count": 202,
   "metadata": {
    "collapsed": false
   },
   "outputs": [],
   "source": [
    "import cPickle\n",
    "feats = None\n",
    "\n",
    "pkl_f = 'phenotype_feats.pkl'\n",
    "try:\n",
    "    with open(pkl_f, 'rb') as f:\n",
    "        feats = cPickle.load(f)\n",
    "except:\n",
    "    %time phenotypes.extract_features()\n",
    "    feats = phenotypes.feats\n",
    "    with open(pkl_f, 'w+') as f:\n",
    "        cPickle.dump(feats, f)"
   ]
  },
  {
   "cell_type": "markdown",
   "metadata": {},
   "source": [
    "Create the model."
   ]
  },
  {
   "cell_type": "code",
   "execution_count": 203,
   "metadata": {
    "collapsed": false
   },
   "outputs": [
    {
     "name": "stdout",
     "output_type": "stream",
     "text": [
      "Extracted 48076 features for each of 2429 mentions\n"
     ]
    }
   ],
   "source": [
    "from snorkel.snorkel import DDLiteModel\n",
    "\n",
    "DDL = DDLiteModel(phenotypes, feats)\n",
    "print \"Extracted {} features for each of {} mentions\".format(DDL.num_feats(), DDL.num_candidates())"
   ]
  },
  {
   "cell_type": "markdown",
   "metadata": {},
   "source": [
    "We now create a gold truth set. Phenotype mentions are said to be correct if the phenotype is known to be mentioned in the document."
   ]
  },
  {
   "cell_type": "code",
   "execution_count": 253,
   "metadata": {
    "collapsed": false
   },
   "outputs": [
    {
     "name": "stdout",
     "output_type": "stream",
     "text": [
      "<Entity: [u'Wilms', u'tumor'][0, 1]>\n",
      "Words: [u'Wilms', u'tumor', u'is', u'the', u'most', u'common', u'renal', u'malignancy', u'of', u'childhood', u'.']\n",
      "Lemmas: [u'wilms', u'tumor', u'be', u'the', u'most', u'common', u'renal', u'malignancy', u'of', u'childhood', u'.']\n",
      "POSES: [u'NN', u'NN', u'VBZ', u'DT', u'RBS', u'JJ', u'JJ', u'NN', u'IN', u'NN', u'.']\n",
      "22544364::0::[[0, 1]]::['MATCHER']\n",
      "22544364\n",
      "wilms tumor\n"
     ]
    }
   ],
   "source": [
    "# small helper functions:\n",
    "def get_doc_id(entity):\n",
    "    return entity.uid.split('::')[0]\n",
    "\n",
    "def get_phenotype(entity, stem=False):\n",
    "    phenotype = ' '.join([entity.words[i] for i in entity.idxs])\n",
    "    if stem:\n",
    "        phenotype = stemmer.stem(phenotype)\n",
    "    return phenotype.lower()\n",
    "        \n",
    "    \n",
    "print phenotypes[0]\n",
    "print phenotypes[0].uid\n",
    "print get_doc_id(phenotypes[0])\n",
    "print get_phenotype(phenotypes[0])"
   ]
  },
  {
   "cell_type": "code",
   "execution_count": 205,
   "metadata": {
    "collapsed": false
   },
   "outputs": [
    {
     "name": "stdout",
     "output_type": "stream",
     "text": [
      "Wilms tumor is the most common renal malignancy of childhood .\n",
      "\n",
      "We conclude that the currently known major common variants related to obesity overlap to a substantial degree between children and adults .\n",
      "\n",
      "Variants in the Human Leukocyte Antigen -LRB- HLA -RRB- - DQ region were associated with age of onset -LRB- rs7744020 P = 7.9 × 10 − 9 beta − 1.9 years -RRB- and varied significantly among cases with onset after the 2009 H1N1 influenza pandemic compared to previous years -LRB- rs9271117 P = 7.8 × 10 − 10 OR 0.57 -RRB- .\n",
      "\n",
      "We uncovered a new gene influencing waist circumference , the neurexin 3 gene -LRB- NRXN3 -RRB- , which has been previously implicated in studies of addiction and reward behavior .\n",
      "\n",
      "We uncovered a new gene influencing waist circumference , the neurexin 3 gene -LRB- NRXN3 -RRB- , which has been previously implicated in studies of addiction and reward behavior .\n",
      "\n"
     ]
    }
   ],
   "source": [
    "for i in range(5):\n",
    "    print ' '.join(phenotypes[i].words)\n",
    "#     print phenotypes[i]\n",
    "    print"
   ]
  },
  {
   "cell_type": "code",
   "execution_count": 269,
   "metadata": {
    "collapsed": false
   },
   "outputs": [],
   "source": [
    "# load true phenotype mentions\n",
    "doc_ids = [get_doc_id(phen) for phen in phenotypes]\n",
    "gold_phen_dict = { doc_id : kb.phens_by_pmid(doc_id) for doc_id in doc_ids}"
   ]
  },
  {
   "cell_type": "code",
   "execution_count": 270,
   "metadata": {
    "collapsed": true
   },
   "outputs": [],
   "source": [
    "# classify candidates as correct or not\n",
    "uids = list()\n",
    "gt = list()\n",
    "for doc_id, phenotype in zip(doc_ids, phenotypes):\n",
    "    uids.append(phenotype.uid)\n",
    "    phenotype_name = get_phenotype(phenotype)\n",
    "    if phenotype_name in gold_phen_dict[doc_id]:\n",
    "        gt.append(+1)\n",
    "    else:\n",
    "        gt.append(-1)"
   ]
  },
  {
   "cell_type": "code",
   "execution_count": 271,
   "metadata": {
    "collapsed": false
   },
   "outputs": [],
   "source": [
    "DDL.update_gt(gt, uids=uids)\n",
    "n_data = DDL.num_candidates()\n",
    "idxs = np.arange(start=n_data/2, stop=n_data)\n",
    "DDL.set_holdout(idxs)"
   ]
  },
  {
   "cell_type": "markdown",
   "metadata": {},
   "source": [
    "#### Labeling functions"
   ]
  },
  {
   "cell_type": "code",
   "execution_count": 299,
   "metadata": {
    "collapsed": false
   },
   "outputs": [],
   "source": [
    "# load set of dictionary phenotypes\n",
    "kb = KnowledgeBase()\n",
    "phenotype_list = kb.get_phenotype_candidates() # TODO: load disease names from NCBI\n",
    "phenotype_list = [stemmer.stem(phenotype) for phenotype in phenotype_list]\n",
    "phenotype_set = set(phenotype_list)\n",
    "\n",
    "def LF_in_set(m):\n",
    "    return +1 if get_phenotype(m, stem=True) in phenotype_list else -1\n",
    "def LF_associated(m):\n",
    "    return +1 if 'associate' in m.pre_window('lemmas') else 0\n",
    "def LF_influencing(m):\n",
    "    return +1 if 'influence' in m.pre_window('lemmas') else 0\n",
    "def LF_related(m):\n",
    "    return +1 if 'relate' in m.pre_window('lemmas') else 0\n",
    "def LF_phenotype(m):\n",
    "    return +1 if 'phenotype' in m.pre_window('lemmas') or 'phenotype' in m.post_window('lemmas') else 0\n",
    "\n",
    "# negative LFs\n",
    "def LF_previously(m):\n",
    "    return -1 if 'previously' in m.pre_window('lemmas', 8) else 0\n",
    "def LF_obese(m):\n",
    "    return -1 if 'obese' in m.mention('words') and len(m.mention('words')) == 1 else 0\n",
    "def LF_further(m):\n",
    "    return -1 if 'further' in m.lemmas or 'furthermore' in m.lemmas else 0\n",
    "def LF_also(m):\n",
    "    return -1 if 'also' in m.words else 0\n",
    "def LF_age(m):\n",
    "    return -1 if 'age' in m.mention('words') or 'aging' in m.mention('words') or 'ages' in m.mention('words') else 0\n",
    "def LF_trait(m):\n",
    "    return -1 if 'trait' in m.mention('lemmas') else 0\n",
    "def LF_weight(m):\n",
    "    return -1 if 'weight' in m.mention('lemmas') else 0\n",
    "def LF_recently(m):\n",
    "    return -1 if 'recently' in m.words else 0\n",
    "def LF_addit(m):\n",
    "    return -1 if 'addit' in m.lemmas else 0\n",
    "def LF_may(m):\n",
    "    return -1 if 'may' in m.words else 0\n",
    "def LF_short(m):\n",
    "    return -1 if len(m.mention('lemmas')) == 1 in m.lemmas else 0"
   ]
  },
  {
   "cell_type": "code",
   "execution_count": 306,
   "metadata": {
    "collapsed": false
   },
   "outputs": [],
   "source": [
    "LFs = [LF_associated, LF_influencing, LF_related, LF_previously, LF_phenotype, LF_obese, LF_further,\n",
    "       LF_also, LF_age, LF_trait, LF_weight, LF_recently, LF_addit, LF_may, LF_short]\n",
    "DDL.apply_lfs(LFs, clear=True)"
   ]
  },
  {
   "cell_type": "code",
   "execution_count": 312,
   "metadata": {
    "collapsed": false
   },
   "outputs": [
    {
     "data": {
      "text/plain": [
       "u'previous'"
      ]
     },
     "execution_count": 312,
     "metadata": {},
     "output_type": "execute_result"
    }
   ],
   "source": [
    "stemmer.stem('previously')\n",
    "# print phenotypes[4]\n",
    "# m = phenotypes[4]\n",
    "# print\n",
    "# print m.lemmas[20]\n",
    "# print m.lemmas[m.dep_parents[20]]\n",
    "# print m.idxs\n",
    "# print [m.lemmas[m.dep_children[i] - 1] for i in m.idxs]\n"
   ]
  },
  {
   "cell_type": "code",
   "execution_count": 313,
   "metadata": {
    "collapsed": false
   },
   "outputs": [
    {
     "name": "stdout",
     "output_type": "stream",
     "text": [
      "We sought to identify additional genetic variants influencing NAFLD using genome-wide association -LRB- GWA -RRB- analysis of computed tomography -LRB- CT -RRB- measured hepatic steatosis , a non-invasive measure of NAFLD , in large population based samples .\n",
      "<Entity: [u'hepatic'][23]>\n",
      "Words: [u'We', u'sought', u'to', u'identify', u'additional', u'genetic', u'variants', u'influencing', u'NAFLD', u'using', u'genome-wide', u'association', u'-LRB-', u'GWA', u'-RRB-', u'analysis', u'of', u'computed', u'tomography', u'-LRB-', u'CT', u'-RRB-', u'measured', u'hepatic', u'steatosis', u',', u'a', u'non-invasive', u'measure', u'of', u'NAFLD', u',', u'in', u'large', u'population', u'based', u'samples', u'.']\n",
      "Lemmas: [u'we', u'seek', u'to', u'identify', u'additional', u'genetic', u'variant', u'influence', u'NAFLD', u'use', u'genome-wide', u'association', u'-lrb-', u'gwa', u'-rrb-', u'analysis', u'of', u'computed', u'tomography', u'-lrb-', u'ct', u'-rrb-', u'measure', u'hepatic', u'steatosis', u',', u'a', u'non-invasive', u'measure', u'of', u'NAFLD', u',', u'in', u'large', u'population', u'base', u'sample', u'.']\n",
      "POSES: [u'PRP', u'VBD', u'TO', u'VB', u'JJ', u'JJ', u'NNS', u'VBG', u'NNP', u'VBG', u'JJ', u'NN', u'-LRB-', u'NN', u'-RRB-', u'NN', u'IN', u'JJ', u'NN', u'-LRB-', u'NN', u'-RRB-', u'VBN', u'JJ', u'NN', u',', u'DT', u'JJ', u'NN', u'IN', u'NNP', u',', u'IN', u'JJ', u'NN', u'VBN', u'NNS', u'.']\n",
      "[u'hepatic']\n",
      "-1\n",
      "set([u'nonalcoholic fatty liver disease'])\n",
      "0 0 0 0 0 0 0 0 0 0 0 0 0 0 0 \n",
      "\n",
      "In large meta-analyses , associations between FADS1-2-3 and carotid intima media thickness , AGPAT1 and type 2 diabetes , and APOA1 and coronary artery disease were observed .\n",
      "<Entity: [u'carotid', u'intima', u'media', u'thickness'][8, 9, 10, 11]>\n",
      "Words: [u'In', u'large', u'meta-analyses', u',', u'associations', u'between', u'FADS1-2-3', u'and', u'carotid', u'intima', u'media', u'thickness', u',', u'AGPAT1', u'and', u'type', u'2', u'diabetes', u',', u'and', u'APOA1', u'and', u'coronary', u'artery', u'disease', u'were', u'observed', u'.']\n",
      "Lemmas: [u'in', u'large', u'meta-analysis', u',', u'association', u'between', u'fads1-2-3', u'and', u'carotid', u'intima', u'media', u'thickness', u',', u'agpat1', u'and', u'type', u'2', u'diabetes', u',', u'and', u'apoa1', u'and', u'coronary', u'artery', u'disease', u'be', u'observe', u'.']\n",
      "POSES: [u'IN', u'JJ', u'NNS', u',', u'NNS', u'IN', u'NN', u'CC', u'NN', u'NN', u'NNS', u'NN', u',', u'NN', u'CC', u'NN', u'CD', u'NN', u',', u'CC', u'NN', u'CC', u'JJ', u'NN', u'NN', u'VBD', u'VBN', u'.']\n",
      "[u'carotid', u'intima', u'media', u'thickness']\n",
      "-1\n",
      "set([u'sphingolipid levels', u'phospholipid levels'])\n",
      "0 0 0 0 0 0 0 0 0 0 0 0 0 0 0 \n",
      "\n",
      "In large meta-analyses , associations between FADS1-2-3 and carotid intima media thickness , AGPAT1 and type 2 diabetes , and APOA1 and coronary artery disease were observed .\n",
      "<Entity: [u'type', u'2', u'diabetes'][15, 16, 17]>\n",
      "Words: [u'In', u'large', u'meta-analyses', u',', u'associations', u'between', u'FADS1-2-3', u'and', u'carotid', u'intima', u'media', u'thickness', u',', u'AGPAT1', u'and', u'type', u'2', u'diabetes', u',', u'and', u'APOA1', u'and', u'coronary', u'artery', u'disease', u'were', u'observed', u'.']\n",
      "Lemmas: [u'in', u'large', u'meta-analysis', u',', u'association', u'between', u'fads1-2-3', u'and', u'carotid', u'intima', u'media', u'thickness', u',', u'agpat1', u'and', u'type', u'2', u'diabetes', u',', u'and', u'apoa1', u'and', u'coronary', u'artery', u'disease', u'be', u'observe', u'.']\n",
      "POSES: [u'IN', u'JJ', u'NNS', u',', u'NNS', u'IN', u'NN', u'CC', u'NN', u'NN', u'NNS', u'NN', u',', u'NN', u'CC', u'NN', u'CD', u'NN', u',', u'CC', u'NN', u'CC', u'JJ', u'NN', u'NN', u'VBD', u'VBN', u'.']\n",
      "[u'type', u'2', u'diabetes']\n",
      "-1\n",
      "set([u'sphingolipid levels', u'phospholipid levels'])\n",
      "0 0 0 0 0 0 0 0 0 0 0 0 0 0 0 \n",
      "\n",
      "In large meta-analyses , associations between FADS1-2-3 and carotid intima media thickness , AGPAT1 and type 2 diabetes , and APOA1 and coronary artery disease were observed .\n",
      "<Entity: [u'coronary', u'artery', u'disease'][22, 23, 24]>\n",
      "Words: [u'In', u'large', u'meta-analyses', u',', u'associations', u'between', u'FADS1-2-3', u'and', u'carotid', u'intima', u'media', u'thickness', u',', u'AGPAT1', u'and', u'type', u'2', u'diabetes', u',', u'and', u'APOA1', u'and', u'coronary', u'artery', u'disease', u'were', u'observed', u'.']\n",
      "Lemmas: [u'in', u'large', u'meta-analysis', u',', u'association', u'between', u'fads1-2-3', u'and', u'carotid', u'intima', u'media', u'thickness', u',', u'agpat1', u'and', u'type', u'2', u'diabetes', u',', u'and', u'apoa1', u'and', u'coronary', u'artery', u'disease', u'be', u'observe', u'.']\n",
      "POSES: [u'IN', u'JJ', u'NNS', u',', u'NNS', u'IN', u'NN', u'CC', u'NN', u'NN', u'NNS', u'NN', u',', u'NN', u'CC', u'NN', u'CD', u'NN', u',', u'CC', u'NN', u'CC', u'JJ', u'NN', u'NN', u'VBD', u'VBN', u'.']\n",
      "[u'coronary', u'artery', u'disease']\n",
      "-1\n",
      "set([u'sphingolipid levels', u'phospholipid levels'])\n",
      "0 0 0 0 0 0 0 0 0 0 0 0 0 0 0 \n",
      "\n",
      "Homoharringtonine -LRB- HHT -RRB- has been widely used in China to treat patients with acute and chronic myeloid leukemia for decades .\n",
      "<Entity: [u'chronic', u'myeloid', u'leukemia'][16, 17, 18]>\n",
      "Words: [u'Homoharringtonine', u'-LRB-', u'HHT', u'-RRB-', u'has', u'been', u'widely', u'used', u'in', u'China', u'to', u'treat', u'patients', u'with', u'acute', u'and', u'chronic', u'myeloid', u'leukemia', u'for', u'decades', u'.']\n",
      "Lemmas: [u'homoharringtonine', u'-lrb-', u'hht', u'-rrb-', u'have', u'be', u'widely', u'use', u'in', u'China', u'to', u'treat', u'patient', u'with', u'acute', u'and', u'chronic', u'myeloid', u'leukemia', u'for', u'decade', u'.']\n",
      "POSES: [u'NN', u'-LRB-', u'NN', u'-RRB-', u'VBZ', u'VBN', u'RB', u'VBN', u'IN', u'NNP', u'TO', u'VB', u'NNS', u'IN', u'JJ', u'CC', u'JJ', u'JJ', u'NN', u'IN', u'NNS', u'.']\n",
      "[u'chronic', u'myeloid', u'leukemia']\n",
      "-1\n",
      "set([u'response to homoharringtonine'])\n",
      "0 0 0 0 0 0 0 0 0 0 0 0 0 0 0 \n",
      "\n",
      "Our study has identified multiple new susceptibility alleles for pancreatic cancer worthy of follow-up studies .\n",
      "<Entity: [u'pancreatic'][9]>\n",
      "Words: [u'Our', u'study', u'has', u'identified', u'multiple', u'new', u'susceptibility', u'alleles', u'for', u'pancreatic', u'cancer', u'worthy', u'of', u'follow-up', u'studies', u'.']\n",
      "Lemmas: [u'we', u'study', u'have', u'identify', u'multiple', u'new', u'susceptibility', u'allele', u'for', u'pancreatic', u'cancer', u'worthy', u'of', u'follow-up', u'study', u'.']\n",
      "POSES: [u'PRP$', u'NN', u'VBZ', u'VBN', u'JJ', u'JJ', u'NN', u'NNS', u'IN', u'JJ', u'NN', u'JJ', u'IN', u'JJ', u'NNS', u'.']\n",
      "[u'pancreatic']\n",
      "-1\n",
      "set([u'pancreatic cancer'])\n",
      "0 0 0 0 0 0 0 0 0 0 0 0 0 0 0 \n",
      "\n",
      "We performed a multistage genome-wide association study -LRB- GWAS -RRB- including 7,683 individuals with pancreatic cancer and 14,397 controls of European descent .\n",
      "<Entity: [u'pancreatic'][14]>\n",
      "Words: [u'We', u'performed', u'a', u'multistage', u'genome-wide', u'association', u'study', u'-LRB-', u'GWAS', u'-RRB-', u'including', u'7,683', u'individuals', u'with', u'pancreatic', u'cancer', u'and', u'14,397', u'controls', u'of', u'European', u'descent', u'.']\n",
      "Lemmas: [u'we', u'perform', u'a', u'multistage', u'genome-wide', u'association', u'study', u'-lrb-', u'gwas', u'-rrb-', u'include', u'7,683', u'individual', u'with', u'pancreatic', u'cancer', u'and', u'14,397', u'control', u'of', u'european', u'descent', u'.']\n",
      "POSES: [u'PRP', u'VBD', u'DT', u'JJ', u'JJ', u'NN', u'NN', u'-LRB-', u'NN', u'-RRB-', u'VBG', u'CD', u'NNS', u'IN', u'JJ', u'NN', u'CC', u'CD', u'NNS', u'IN', u'JJ', u'NN', u'.']\n",
      "[u'pancreatic']\n",
      "-1\n",
      "set([u'pancreatic cancer'])\n",
      "0 0 0 0 0 0 0 0 0 0 0 0 0 0 0 \n",
      "\n",
      "This gene has been implicated in numerous diseases , including systemic lupus erythematosus -LRB- SLE -RRB- .\n",
      "<Entity: [u'systemic', u'lupus', u'erythematosus'][10, 11, 12]>\n",
      "Words: [u'This', u'gene', u'has', u'been', u'implicated', u'in', u'numerous', u'diseases', u',', u'including', u'systemic', u'lupus', u'erythematosus', u'-LRB-', u'SLE', u'-RRB-', u'.']\n",
      "Lemmas: [u'this', u'gene', u'have', u'be', u'implicate', u'in', u'numerous', u'disease', u',', u'include', u'systemic', u'lupus', u'erythematosus', u'-lrb-', u'sle', u'-rrb-', u'.']\n",
      "POSES: [u'DT', u'NN', u'VBZ', u'VBN', u'VBN', u'IN', u'JJ', u'NNS', u',', u'VBG', u'JJ', u'NN', u'NN', u'-LRB-', u'NN', u'-RRB-', u'.']\n",
      "[u'systemic', u'lupus', u'erythematosus']\n",
      "-1\n",
      "set([u'igg glycosylation'])\n",
      "0 0 0 0 0 0 0 0 0 0 0 0 0 0 0 \n",
      "\n",
      "This gene has been implicated in numerous diseases , including systemic lupus erythematosus -LRB- SLE -RRB- .\n",
      "<Entity: [u'lupus'][11]>\n",
      "Words: [u'This', u'gene', u'has', u'been', u'implicated', u'in', u'numerous', u'diseases', u',', u'including', u'systemic', u'lupus', u'erythematosus', u'-LRB-', u'SLE', u'-RRB-', u'.']\n",
      "Lemmas: [u'this', u'gene', u'have', u'be', u'implicate', u'in', u'numerous', u'disease', u',', u'include', u'systemic', u'lupus', u'erythematosus', u'-lrb-', u'sle', u'-rrb-', u'.']\n",
      "POSES: [u'DT', u'NN', u'VBZ', u'VBN', u'VBN', u'IN', u'JJ', u'NNS', u',', u'VBG', u'JJ', u'NN', u'NN', u'-LRB-', u'NN', u'-RRB-', u'.']\n",
      "[u'lupus']\n",
      "-1\n",
      "set([u'igg glycosylation'])\n",
      "0 0 0 0 0 0 0 0 0 0 0 0 0 0 0 \n",
      "\n",
      "Finally , SNP rs2000999 was associated with decreased total and low-density lipoprotein cholesterol in 8,789 European children -LRB- P total cholesterol = 0.002 and P LDL = 0.0008 -RRB- .\n",
      "<Entity: [u'cholesterol'][12]>\n",
      "Words: [u'Finally', u',', u'SNP', u'rs2000999', u'was', u'associated', u'with', u'decreased', u'total', u'and', u'low-density', u'lipoprotein', u'cholesterol', u'in', u'8,789', u'European', u'children', u'-LRB-', u'P', u'total', u'cholesterol', u'=', u'0.002', u'and', u'P', u'LDL', u'=', u'0.0008', u'-RRB-', u'.']\n",
      "Lemmas: [u'finally', u',', u'snp', u'rs2000999', u'be', u'associate', u'with', u'decrease', u'total', u'and', u'low-density', u'lipoprotein', u'cholesterol', u'in', u'8,789', u'european', u'child', u'-lrb-', u'p', u'total', u'cholesterol', u'=', u'0.002', u'and', u'p', u'ldl', u'=', u'0.0008', u'-rrb-', u'.']\n",
      "POSES: [u'RB', u',', u'NN', u'NN', u'VBD', u'VBN', u'IN', u'VBN', u'NN', u'CC', u'JJ', u'NN', u'NN', u'IN', u'CD', u'JJ', u'NNS', u'-LRB-', u'NN', u'JJ', u'NN', u'JJ', u'CD', u'CC', u'NN', u'NN', u'JJ', u'CD', u'-RRB-', u'.']\n",
      "[u'cholesterol']\n",
      "-1\n",
      "set([u'haptoglobin levels'])\n",
      "0 0 0 0 0 0 0 0 0 0 0 0 0 0 0 \n",
      "\n",
      "Finally , SNP rs2000999 was associated with decreased total and low-density lipoprotein cholesterol in 8,789 European children -LRB- P total cholesterol = 0.002 and P LDL = 0.0008 -RRB- .\n",
      "<Entity: [u'cholesterol'][20]>\n",
      "Words: [u'Finally', u',', u'SNP', u'rs2000999', u'was', u'associated', u'with', u'decreased', u'total', u'and', u'low-density', u'lipoprotein', u'cholesterol', u'in', u'8,789', u'European', u'children', u'-LRB-', u'P', u'total', u'cholesterol', u'=', u'0.002', u'and', u'P', u'LDL', u'=', u'0.0008', u'-RRB-', u'.']\n",
      "Lemmas: [u'finally', u',', u'snp', u'rs2000999', u'be', u'associate', u'with', u'decrease', u'total', u'and', u'low-density', u'lipoprotein', u'cholesterol', u'in', u'8,789', u'european', u'child', u'-lrb-', u'p', u'total', u'cholesterol', u'=', u'0.002', u'and', u'p', u'ldl', u'=', u'0.0008', u'-rrb-', u'.']\n",
      "POSES: [u'RB', u',', u'NN', u'NN', u'VBD', u'VBN', u'IN', u'VBN', u'NN', u'CC', u'JJ', u'NN', u'NN', u'IN', u'CD', u'JJ', u'NNS', u'-LRB-', u'NN', u'JJ', u'NN', u'JJ', u'CD', u'CC', u'NN', u'NN', u'JJ', u'CD', u'-RRB-', u'.']\n",
      "[u'cholesterol']\n",
      "-1\n",
      "set([u'haptoglobin levels'])\n",
      "0 0 0 0 0 0 0 0 0 0 0 0 0 0 0 \n",
      "\n",
      "Its main function is to bind hemoglobin released from erythrocytes to aid its elimination , and thereby haptoglobin prevents the generation of reactive oxygen species in the blood .\n",
      "<Entity: [u'hemoglobin'][6]>\n",
      "Words: [u'Its', u'main', u'function', u'is', u'to', u'bind', u'hemoglobin', u'released', u'from', u'erythrocytes', u'to', u'aid', u'its', u'elimination', u',', u'and', u'thereby', u'haptoglobin', u'prevents', u'the', u'generation', u'of', u'reactive', u'oxygen', u'species', u'in', u'the', u'blood', u'.']\n",
      "Lemmas: [u'its', u'main', u'function', u'be', u'to', u'bind', u'hemoglobin', u'release', u'from', u'erythrocyte', u'to', u'aid', u'its', u'elimination', u',', u'and', u'thereby', u'haptoglobin', u'prevent', u'the', u'generation', u'of', u'reactive', u'oxygen', u'species', u'in', u'the', u'blood', u'.']\n",
      "POSES: [u'PRP$', u'JJ', u'NN', u'VBZ', u'TO', u'VB', u'NN', u'VBN', u'IN', u'NNS', u'TO', u'VB', u'PRP$', u'NN', u',', u'CC', u'RB', u'NN', u'VBZ', u'DT', u'NN', u'IN', u'JJ', u'NN', u'NNS', u'IN', u'DT', u'NN', u'.']\n",
      "[u'hemoglobin']\n",
      "-1\n",
      "set([u'haptoglobin levels'])\n",
      "0 0 0 0 0 0 0 0 0 0 0 0 0 0 0 \n",
      "\n",
      "Its main function is to bind hemoglobin released from erythrocytes to aid its elimination , and thereby haptoglobin prevents the generation of reactive oxygen species in the blood .\n",
      "<Entity: [u'aid'][11]>\n",
      "Words: [u'Its', u'main', u'function', u'is', u'to', u'bind', u'hemoglobin', u'released', u'from', u'erythrocytes', u'to', u'aid', u'its', u'elimination', u',', u'and', u'thereby', u'haptoglobin', u'prevents', u'the', u'generation', u'of', u'reactive', u'oxygen', u'species', u'in', u'the', u'blood', u'.']\n",
      "Lemmas: [u'its', u'main', u'function', u'be', u'to', u'bind', u'hemoglobin', u'release', u'from', u'erythrocyte', u'to', u'aid', u'its', u'elimination', u',', u'and', u'thereby', u'haptoglobin', u'prevent', u'the', u'generation', u'of', u'reactive', u'oxygen', u'species', u'in', u'the', u'blood', u'.']\n",
      "POSES: [u'PRP$', u'JJ', u'NN', u'VBZ', u'TO', u'VB', u'NN', u'VBN', u'IN', u'NNS', u'TO', u'VB', u'PRP$', u'NN', u',', u'CC', u'RB', u'NN', u'VBZ', u'DT', u'NN', u'IN', u'JJ', u'NN', u'NNS', u'IN', u'DT', u'NN', u'.']\n",
      "[u'aid']\n",
      "-1\n",
      "set([u'haptoglobin levels'])\n",
      "0 0 0 0 0 0 0 0 0 0 0 0 0 0 0 \n",
      "\n",
      "Circulating levels of adiponectin , a hormone produced predominantly by adipocytes , are highly heritable and are inversely associated with type 2 diabetes mellitus -LRB- T2D -RRB- and other metabolic traits .\n",
      "<Entity: [u'type', u'2', u'diabetes'][20, 21, 22]>\n",
      "Words: [u'Circulating', u'levels', u'of', u'adiponectin', u',', u'a', u'hormone', u'produced', u'predominantly', u'by', u'adipocytes', u',', u'are', u'highly', u'heritable', u'and', u'are', u'inversely', u'associated', u'with', u'type', u'2', u'diabetes', u'mellitus', u'-LRB-', u'T2D', u'-RRB-', u'and', u'other', u'metabolic', u'traits', u'.']\n",
      "Lemmas: [u'circulate', u'level', u'of', u'adiponectin', u',', u'a', u'hormone', u'produce', u'predominantly', u'by', u'adipocyte', u',', u'be', u'highly', u'heritable', u'and', u'be', u'inversely', u'associate', u'with', u'type', u'2', u'diabetes', u'mellitus', u'-lrb-', u't2d', u'-rrb-', u'and', u'other', u'metabolic', u'trait', u'.']\n",
      "POSES: [u'VBG', u'NNS', u'IN', u'NN', u',', u'DT', u'NN', u'VBD', u'RB', u'IN', u'NNS', u',', u'VBP', u'RB', u'JJ', u'CC', u'VBP', u'RB', u'VBN', u'IN', u'NN', u'CD', u'NN', u'NN', u'-LRB-', u'NN', u'-RRB-', u'CC', u'JJ', u'JJ', u'NNS', u'.']\n",
      "[u'type', u'2', u'diabetes']\n",
      "-1\n",
      "set([u'adiponectin levels'])\n",
      "1 0 0 0 0 0 0 0 0 0 0 0 0 0 0 \n",
      "\n",
      "Circulating levels of adiponectin , a hormone produced predominantly by adipocytes , are highly heritable and are inversely associated with type 2 diabetes mellitus -LRB- T2D -RRB- and other metabolic traits .\n",
      "<Entity: [u'metabolic', u'traits'][29, 30]>\n",
      "Words: [u'Circulating', u'levels', u'of', u'adiponectin', u',', u'a', u'hormone', u'produced', u'predominantly', u'by', u'adipocytes', u',', u'are', u'highly', u'heritable', u'and', u'are', u'inversely', u'associated', u'with', u'type', u'2', u'diabetes', u'mellitus', u'-LRB-', u'T2D', u'-RRB-', u'and', u'other', u'metabolic', u'traits', u'.']\n",
      "Lemmas: [u'circulate', u'level', u'of', u'adiponectin', u',', u'a', u'hormone', u'produce', u'predominantly', u'by', u'adipocyte', u',', u'be', u'highly', u'heritable', u'and', u'be', u'inversely', u'associate', u'with', u'type', u'2', u'diabetes', u'mellitus', u'-lrb-', u't2d', u'-rrb-', u'and', u'other', u'metabolic', u'trait', u'.']\n",
      "POSES: [u'VBG', u'NNS', u'IN', u'NN', u',', u'DT', u'NN', u'VBD', u'RB', u'IN', u'NNS', u',', u'VBP', u'RB', u'JJ', u'CC', u'VBP', u'RB', u'VBN', u'IN', u'NN', u'CD', u'NN', u'NN', u'-LRB-', u'NN', u'-RRB-', u'CC', u'JJ', u'JJ', u'NNS', u'.']\n",
      "[u'metabolic', u'traits']\n",
      "-1\n",
      "set([u'adiponectin levels'])\n",
      "0 0 0 0 0 0 0 0 0 -1 0 0 0 0 0 \n",
      "\n",
      "We next developed a multi-SNP genotypic risk score to test the association of adiponectin decreasing risk alleles on metabolic traits and diseases using consortia-level meta-analytic data .\n",
      "<Entity: [u'metabolic', u'traits'][18, 19]>\n",
      "Words: [u'We', u'next', u'developed', u'a', u'multi-SNP', u'genotypic', u'risk', u'score', u'to', u'test', u'the', u'association', u'of', u'adiponectin', u'decreasing', u'risk', u'alleles', u'on', u'metabolic', u'traits', u'and', u'diseases', u'using', u'consortia-level', u'meta-analytic', u'data', u'.']\n",
      "Lemmas: [u'we', u'next', u'develop', u'a', u'multi-snp', u'genotypic', u'risk', u'score', u'to', u'test', u'the', u'association', u'of', u'adiponectin', u'decrease', u'risk', u'allele', u'on', u'metabolic', u'trait', u'and', u'disease', u'use', u'consortia-level', u'meta-analytic', u'datum', u'.']\n",
      "POSES: [u'PRP', u'RB', u'VBD', u'DT', u'JJ', u'JJ', u'NN', u'NN', u'TO', u'VB', u'DT', u'NN', u'IN', u'NN', u'VBG', u'NN', u'NNS', u'IN', u'JJ', u'NNS', u'CC', u'NNS', u'VBG', u'JJ', u'JJ', u'NNS', u'.']\n",
      "[u'metabolic', u'traits']\n",
      "-1\n",
      "set([u'adiponectin levels'])\n",
      "0 0 0 0 0 0 0 0 0 -1 0 0 0 0 0 \n",
      "\n",
      "This risk score was associated with increased risk of T2D -LRB- p = 4.3 × 10 − 3 , n = 22,044 -RRB- , increased triglycerides -LRB- p = 2.6 × 10 − 14 , n = 93,440 -RRB- , increased waist-to-hip ratio -LRB- p = 1.8 × 10 − 5 , n = 77,167 -RRB- , increased glucose two hours post oral glucose tolerance testing -LRB- p = 4.4 × 10 − 3 , n = 15,234 -RRB- , increased fasting insulin -LRB- p = 0.015 , n = 48,238 -RRB- , but with lower in HDL-cholesterol concentrations -LRB- p = 4.5 × 10 − 13 , n = 96,748 -RRB- and decreased BMI -LRB- p = 1.4 × 10 − 4 , n = 121,335 -RRB- .\n",
      "<Entity: [u'triglycerides'][25]>\n",
      "Words: [u'This', u'risk', u'score', u'was', u'associated', u'with', u'increased', u'risk', u'of', u'T2D', u'-LRB-', u'p', u'=', u'4.3', u'\\xd7', u'10', u'\\u2212', u'3', u',', u'n', u'=', u'22,044', u'-RRB-', u',', u'increased', u'triglycerides', u'-LRB-', u'p', u'=', u'2.6', u'\\xd7', u'10', u'\\u2212', u'14', u',', u'n', u'=', u'93,440', u'-RRB-', u',', u'increased', u'waist-to-hip', u'ratio', u'-LRB-', u'p', u'=', u'1.8', u'\\xd7', u'10', u'\\u2212', u'5', u',', u'n', u'=', u'77,167', u'-RRB-', u',', u'increased', u'glucose', u'two', u'hours', u'post', u'oral', u'glucose', u'tolerance', u'testing', u'-LRB-', u'p', u'=', u'4.4', u'\\xd7', u'10', u'\\u2212', u'3', u',', u'n', u'=', u'15,234', u'-RRB-', u',', u'increased', u'fasting', u'insulin', u'-LRB-', u'p', u'=', u'0.015', u',', u'n', u'=', u'48,238', u'-RRB-', u',', u'but', u'with', u'lower', u'in', u'HDL-cholesterol', u'concentrations', u'-LRB-', u'p', u'=', u'4.5', u'\\xd7', u'10', u'\\u2212', u'13', u',', u'n', u'=', u'96,748', u'-RRB-', u'and', u'decreased', u'BMI', u'-LRB-', u'p', u'=', u'1.4', u'\\xd7', u'10', u'\\u2212', u'4', u',', u'n', u'=', u'121,335', u'-RRB-', u'.']\n",
      "Lemmas: [u'this', u'risk', u'score', u'be', u'associate', u'with', u'increase', u'risk', u'of', u't2d', u'-lrb-', u'p', u'=', u'4.3', u'\\xd7', u'10', u'\\u2212', u'3', u',', u'n', u'=', u'22,044', u'-rrb-', u',', u'increase', u'triglyceride', u'-lrb-', u'p', u'=', u'2.6', u'\\xd7', u'10', u'\\u2212', u'14', u',', u'n', u'=', u'93,440', u'-rrb-', u',', u'increase', u'waist-to-hip', u'ratio', u'-lrb-', u'p', u'=', u'1.8', u'\\xd7', u'10', u'\\u2212', u'5', u',', u'n', u'=', u'77,167', u'-rrb-', u',', u'increase', u'glucose', u'two', u'hour', u'post', u'oral', u'glucose', u'tolerance', u'testing', u'-lrb-', u'p', u'=', u'4.4', u'\\xd7', u'10', u'\\u2212', u'3', u',', u'n', u'=', u'15,234', u'-rrb-', u',', u'increase', u'fasting', u'insulin', u'-lrb-', u'p', u'=', u'0.015', u',', u'n', u'=', u'48,238', u'-rrb-', u',', u'but', u'with', u'lower', u'in', u'hdl-cholesterol', u'concentration', u'-lrb-', u'p', u'=', u'4.5', u'\\xd7', u'10', u'\\u2212', u'13', u',', u'n', u'=', u'96,748', u'-rrb-', u'and', u'decrease', u'bmi', u'-lrb-', u'p', u'=', u'1.4', u'\\xd7', u'10', u'\\u2212', u'4', u',', u'n', u'=', u'121,335', u'-rrb-', u'.']\n",
      "POSES: [u'DT', u'NN', u'NN', u'VBD', u'VBN', u'IN', u'VBN', u'NN', u'IN', u'NN', u'-LRB-', u'NN', u'JJ', u'CD', u'CD', u'CD', u'NN', u'CD', u',', u'NN', u'JJ', u'CD', u'-RRB-', u',', u'VBD', u'NNS', u'-LRB-', u'NN', u'JJ', u'CD', u'CD', u'CD', u'NN', u'CD', u',', u'NN', u'JJ', u'CD', u'-RRB-', u',', u'VBD', u'NN', u'NN', u'-LRB-', u'NN', u'JJ', u'CD', u'CD', u'CD', u'CD', u'CD', u',', u'NN', u'JJ', u'CD', u'-RRB-', u',', u'VBD', u'NN', u'CD', u'NNS', u'NN', u'JJ', u'NN', u'NN', u'NN', u'-LRB-', u'NN', u'JJ', u'CD', u'CD', u'CD', u'NN', u'CD', u',', u'NN', u'JJ', u'CD', u'-RRB-', u',', u'VBD', u'NN', u'NN', u'-LRB-', u'NN', u'JJ', u'CD', u',', u'NN', u'JJ', u'CD', u'-RRB-', u',', u'CC', u'IN', u'JJR', u'IN', u'NN', u'NNS', u'-LRB-', u'NN', u'JJ', u'CD', u'CD', u'CD', u'CD', u'CD', u',', u'NN', u'JJ', u'CD', u'-RRB-', u'CC', u'VBD', u'NN', u'-LRB-', u'NN', u'JJ', u'CD', u'CD', u'CD', u'NN', u'CD', u',', u'NN', u'JJ', u'CD', u'-RRB-', u'.']\n",
      "[u'triglycerides']\n",
      "-1\n",
      "set([u'adiponectin levels'])\n",
      "0 0 0 0 0 0 0 0 0 0 0 0 0 0 0 \n",
      "\n",
      "To identify common genetic variants associated with adiponectin levels and risk of T2D and metabolic traits , we conducted a meta-analysis of genome-wide association studies of 45,891 multi-ethnic individuals .\n",
      "<Entity: [u'metabolic', u'traits'][14, 15]>\n",
      "Words: [u'To', u'identify', u'common', u'genetic', u'variants', u'associated', u'with', u'adiponectin', u'levels', u'and', u'risk', u'of', u'T2D', u'and', u'metabolic', u'traits', u',', u'we', u'conducted', u'a', u'meta-analysis', u'of', u'genome-wide', u'association', u'studies', u'of', u'45,891', u'multi-ethnic', u'individuals', u'.']\n",
      "Lemmas: [u'to', u'identify', u'common', u'genetic', u'variant', u'associate', u'with', u'adiponectin', u'level', u'and', u'risk', u'of', u't2d', u'and', u'metabolic', u'trait', u',', u'we', u'conduct', u'a', u'meta-analysis', u'of', u'genome-wide', u'association', u'study', u'of', u'45,891', u'multi-ethnic', u'individual', u'.']\n",
      "POSES: [u'TO', u'VB', u'JJ', u'JJ', u'NNS', u'VBN', u'IN', u'NN', u'NNS', u'CC', u'NN', u'IN', u'NN', u'CC', u'JJ', u'NNS', u',', u'PRP', u'VBD', u'DT', u'NN', u'IN', u'JJ', u'NN', u'NNS', u'IN', u'CD', u'JJ', u'NNS', u'.']\n",
      "[u'metabolic', u'traits']\n",
      "-1\n",
      "set([u'adiponectin levels'])\n",
      "0 0 0 0 0 0 0 0 0 -1 0 0 0 0 0 \n",
      "\n",
      "Serum adiponectin levels are highly heritable and are inversely correlated with the risk of type 2 diabetes -LRB- T2D -RRB- , coronary artery disease , stroke , and several metabolic traits .\n",
      "<Entity: [u'type', u'2', u'diabetes'][14, 15, 16]>\n",
      "Words: [u'Serum', u'adiponectin', u'levels', u'are', u'highly', u'heritable', u'and', u'are', u'inversely', u'correlated', u'with', u'the', u'risk', u'of', u'type', u'2', u'diabetes', u'-LRB-', u'T2D', u'-RRB-', u',', u'coronary', u'artery', u'disease', u',', u'stroke', u',', u'and', u'several', u'metabolic', u'traits', u'.']\n",
      "Lemmas: [u'serum', u'adiponectin', u'level', u'be', u'highly', u'heritable', u'and', u'be', u'inversely', u'correlate', u'with', u'the', u'risk', u'of', u'type', u'2', u'diabetes', u'-lrb-', u't2d', u'-rrb-', u',', u'coronary', u'artery', u'disease', u',', u'stroke', u',', u'and', u'several', u'metabolic', u'trait', u'.']\n",
      "POSES: [u'NN', u'NN', u'NNS', u'VBP', u'RB', u'JJ', u'CC', u'VBP', u'RB', u'VBN', u'IN', u'DT', u'NN', u'IN', u'NN', u'CD', u'NN', u'-LRB-', u'NN', u'-RRB-', u',', u'JJ', u'NN', u'NN', u',', u'NN', u',', u'CC', u'JJ', u'JJ', u'NNS', u'.']\n",
      "[u'type', u'2', u'diabetes']\n",
      "-1\n",
      "set([u'adiponectin levels'])\n",
      "0 0 0 0 0 0 0 0 0 0 0 0 0 0 0 \n",
      "\n",
      "Serum adiponectin levels are highly heritable and are inversely correlated with the risk of type 2 diabetes -LRB- T2D -RRB- , coronary artery disease , stroke , and several metabolic traits .\n",
      "<Entity: [u'coronary', u'artery', u'disease'][21, 22, 23]>\n",
      "Words: [u'Serum', u'adiponectin', u'levels', u'are', u'highly', u'heritable', u'and', u'are', u'inversely', u'correlated', u'with', u'the', u'risk', u'of', u'type', u'2', u'diabetes', u'-LRB-', u'T2D', u'-RRB-', u',', u'coronary', u'artery', u'disease', u',', u'stroke', u',', u'and', u'several', u'metabolic', u'traits', u'.']\n",
      "Lemmas: [u'serum', u'adiponectin', u'level', u'be', u'highly', u'heritable', u'and', u'be', u'inversely', u'correlate', u'with', u'the', u'risk', u'of', u'type', u'2', u'diabetes', u'-lrb-', u't2d', u'-rrb-', u',', u'coronary', u'artery', u'disease', u',', u'stroke', u',', u'and', u'several', u'metabolic', u'trait', u'.']\n",
      "POSES: [u'NN', u'NN', u'NNS', u'VBP', u'RB', u'JJ', u'CC', u'VBP', u'RB', u'VBN', u'IN', u'DT', u'NN', u'IN', u'NN', u'CD', u'NN', u'-LRB-', u'NN', u'-RRB-', u',', u'JJ', u'NN', u'NN', u',', u'NN', u',', u'CC', u'JJ', u'JJ', u'NNS', u'.']\n",
      "[u'coronary', u'artery', u'disease']\n",
      "-1\n",
      "set([u'adiponectin levels'])\n",
      "0 0 0 0 0 0 0 0 0 0 0 0 0 0 0 \n",
      "\n",
      "Serum adiponectin levels are highly heritable and are inversely correlated with the risk of type 2 diabetes -LRB- T2D -RRB- , coronary artery disease , stroke , and several metabolic traits .\n",
      "<Entity: [u'metabolic', u'traits'][29, 30]>\n",
      "Words: [u'Serum', u'adiponectin', u'levels', u'are', u'highly', u'heritable', u'and', u'are', u'inversely', u'correlated', u'with', u'the', u'risk', u'of', u'type', u'2', u'diabetes', u'-LRB-', u'T2D', u'-RRB-', u',', u'coronary', u'artery', u'disease', u',', u'stroke', u',', u'and', u'several', u'metabolic', u'traits', u'.']\n",
      "Lemmas: [u'serum', u'adiponectin', u'level', u'be', u'highly', u'heritable', u'and', u'be', u'inversely', u'correlate', u'with', u'the', u'risk', u'of', u'type', u'2', u'diabetes', u'-lrb-', u't2d', u'-rrb-', u',', u'coronary', u'artery', u'disease', u',', u'stroke', u',', u'and', u'several', u'metabolic', u'trait', u'.']\n",
      "POSES: [u'NN', u'NN', u'NNS', u'VBP', u'RB', u'JJ', u'CC', u'VBP', u'RB', u'VBN', u'IN', u'DT', u'NN', u'IN', u'NN', u'CD', u'NN', u'-LRB-', u'NN', u'-RRB-', u',', u'JJ', u'NN', u'NN', u',', u'NN', u',', u'CC', u'JJ', u'JJ', u'NNS', u'.']\n",
      "[u'metabolic', u'traits']\n",
      "-1\n",
      "set([u'adiponectin levels'])\n",
      "0 0 0 0 0 0 0 0 0 -1 0 0 0 0 0 \n",
      "\n",
      "Serum adiponectin levels are highly heritable and are inversely correlated with the risk of type 2 diabetes -LRB- T2D -RRB- , coronary artery disease , stroke , and several metabolic traits .\n",
      "<Entity: [u'stroke'][25]>\n",
      "Words: [u'Serum', u'adiponectin', u'levels', u'are', u'highly', u'heritable', u'and', u'are', u'inversely', u'correlated', u'with', u'the', u'risk', u'of', u'type', u'2', u'diabetes', u'-LRB-', u'T2D', u'-RRB-', u',', u'coronary', u'artery', u'disease', u',', u'stroke', u',', u'and', u'several', u'metabolic', u'traits', u'.']\n",
      "Lemmas: [u'serum', u'adiponectin', u'level', u'be', u'highly', u'heritable', u'and', u'be', u'inversely', u'correlate', u'with', u'the', u'risk', u'of', u'type', u'2', u'diabetes', u'-lrb-', u't2d', u'-rrb-', u',', u'coronary', u'artery', u'disease', u',', u'stroke', u',', u'and', u'several', u'metabolic', u'trait', u'.']\n",
      "POSES: [u'NN', u'NN', u'NNS', u'VBP', u'RB', u'JJ', u'CC', u'VBP', u'RB', u'VBN', u'IN', u'DT', u'NN', u'IN', u'NN', u'CD', u'NN', u'-LRB-', u'NN', u'-RRB-', u',', u'JJ', u'NN', u'NN', u',', u'NN', u',', u'CC', u'JJ', u'JJ', u'NNS', u'.']\n",
      "[u'stroke']\n",
      "-1\n",
      "set([u'adiponectin levels'])\n",
      "0 0 0 0 0 0 0 0 0 0 0 0 0 0 0 \n",
      "\n",
      "We performed a meta-analysis of 5 major mood disorder case-control samples , including over 13,600 unique individuals genotyped with approximately 500,000 to 1 million single nucleotide polymorphism -LRB- SNP -RRB- markers on high-density arrays .\n",
      "<Entity: [u'major', u'mood', u'disorder'][6, 7, 8]>\n",
      "Words: [u'We', u'performed', u'a', u'meta-analysis', u'of', u'5', u'major', u'mood', u'disorder', u'case-control', u'samples', u',', u'including', u'over', u'13,600', u'unique', u'individuals', u'genotyped', u'with', u'approximately', u'500,000', u'to', u'1', u'million', u'single', u'nucleotide', u'polymorphism', u'-LRB-', u'SNP', u'-RRB-', u'markers', u'on', u'high-density', u'arrays', u'.']\n",
      "Lemmas: [u'we', u'perform', u'a', u'meta-analysis', u'of', u'5', u'major', u'mood', u'disorder', u'case-control', u'sample', u',', u'include', u'over', u'13,600', u'unique', u'individual', u'genotype', u'with', u'approximately', u'500,000', u'to', u'1', u'million', u'single', u'nucleotide', u'polymorphism', u'-lrb-', u'snp', u'-rrb-', u'marker', u'on', u'high-density', u'array', u'.']\n",
      "POSES: [u'PRP', u'VBD', u'DT', u'NN', u'IN', u'CD', u'JJ', u'NN', u'NN', u'JJ', u'NNS', u',', u'VBG', u'IN', u'CD', u'JJ', u'NNS', u'VBN', u'IN', u'RB', u'CD', u'TO', u'CD', u'CD', u'JJ', u'NN', u'NN', u'-LRB-', u'NN', u'-RRB-', u'NNS', u'IN', u'JJ', u'NNS', u'.']\n",
      "[u'major', u'mood', u'disorder']\n",
      "-1\n",
      "set([u'major mood disorders'])\n",
      "0 0 0 0 0 0 0 0 0 0 0 0 0 0 0 \n",
      "\n",
      "The major mood disorders , which include bipolar disorder -LRB- BD -RRB- and major depressive disorder -LRB- MDD -RRB- , are substantially heritable , but few risk loci have been identified .\n",
      "<Entity: [u'major', u'depressive', u'disorder'][13, 14, 15]>\n",
      "Words: [u'The', u'major', u'mood', u'disorders', u',', u'which', u'include', u'bipolar', u'disorder', u'-LRB-', u'BD', u'-RRB-', u'and', u'major', u'depressive', u'disorder', u'-LRB-', u'MDD', u'-RRB-', u',', u'are', u'substantially', u'heritable', u',', u'but', u'few', u'risk', u'loci', u'have', u'been', u'identified', u'.']\n",
      "Lemmas: [u'the', u'major', u'mood', u'disorder', u',', u'which', u'include', u'bipolar', u'disorder', u'-lrb-', u'bd', u'-rrb-', u'and', u'major', u'depressive', u'disorder', u'-lrb-', u'mdd', u'-rrb-', u',', u'be', u'substantially', u'heritable', u',', u'but', u'few', u'risk', u'locus', u'have', u'be', u'identify', u'.']\n",
      "POSES: [u'DT', u'JJ', u'NN', u'NNS', u',', u'WDT', u'VBP', u'JJ', u'NN', u'-LRB-', u'NN', u'-RRB-', u'CC', u'JJ', u'JJ', u'NN', u'-LRB-', u'NN', u'-RRB-', u',', u'VBP', u'RB', u'JJ', u',', u'CC', u'JJ', u'NN', u'NNS', u'VBP', u'VBN', u'VBN', u'.']\n",
      "[u'major', u'depressive', u'disorder']\n",
      "-1\n",
      "set([u'major mood disorders'])\n",
      "0 0 0 0 0 0 0 0 0 0 0 0 0 0 0 \n",
      "\n"
     ]
    }
   ],
   "source": [
    "# a bit of debugging\n",
    "for i in range(80, 120):\n",
    "    if gt[i] == -1:\n",
    "        print ' '.join(phenotypes[i].words)\n",
    "        print phenotypes[i]\n",
    "        print [phenotypes[i].words[j] for j in phenotypes[i].idxs]\n",
    "        print gt[i]\n",
    "        print gold_phen_dict[doc_ids[i]]\n",
    "    #     print phenotypes[i].pre_window('lemmas')\n",
    "        for LF in LFs:\n",
    "            print LF(phenotypes[i]),\n",
    "        print '\\n'"
   ]
  },
  {
   "cell_type": "markdown",
   "metadata": {},
   "source": [
    "#### Results"
   ]
  },
  {
   "cell_type": "code",
   "execution_count": null,
   "metadata": {
    "collapsed": false
   },
   "outputs": [],
   "source": []
  },
  {
   "cell_type": "code",
   "execution_count": 309,
   "metadata": {
    "collapsed": false
   },
   "outputs": [
    {
     "name": "stdout",
     "output_type": "stream",
     "text": [
      "LF stats on training set\n",
      "Coverage:\t31.301%\n",
      "Overlap:\t5.931%\n",
      "Conflict:\t3.460%\n"
     ]
    },
    {
     "data": {
      "image/png": "[encoded data removed]",
      "text/plain": [
       "<matplotlib.figure.Figure at 0x1404ab950>"
      ]
     },
     "metadata": {},
     "output_type": "display_data"
    }
   ],
   "source": [
    "DDL.print_lf_stats()\n",
    "DDL.plot_lf_stats()\n"
   ]
  },
  {
   "cell_type": "code",
   "execution_count": 311,
   "metadata": {
    "collapsed": false
   },
   "outputs": [
    {
     "name": "stdout",
     "output_type": "stream",
     "text": [
      "Begin training for rate=0.01, mu=1e-07\n",
      "\tLearning epoch = 0\tGradient mag. = 0.100648\n",
      "\tLearning epoch = 250\tGradient mag. = 0.101439\n",
      "Final gradient magnitude for rate=0.01, mu=1e-07: 0.100\n",
      "Running in False mode...\n",
      "Begin training for rate=0.01, mu=1e-09\n",
      "\tLearning epoch = 0\tGradient mag. = 0.017936\n",
      "\tLearning epoch = 250\tGradient mag. = 0.018712\n",
      "\tLearning epoch = 500\tGradient mag. = 0.018548\n",
      "\tLearning epoch = 750\tGradient mag. = 0.018388\n",
      "\tLearning epoch = 1000\tGradient mag. = 0.018231\n",
      "\tLearning epoch = 1250\tGradient mag. = 0.018078\n",
      "\tLearning epoch = 1500\tGradient mag. = 0.017929\n",
      "\tLearning epoch = 1750\tGradient mag. = 0.017783\n",
      "\tLearning epoch = 2000\tGradient mag. = 0.017640\n",
      "\tLearning epoch = 2250\tGradient mag. = 0.017500\n",
      "\tLearning epoch = 2500\tGradient mag. = 0.017364\n",
      "\tLearning epoch = 2750\tGradient mag. = 0.017231\n",
      "Final gradient magnitude for rate=0.01, mu=1e-09: 0.017\n",
      "Begin training for rate=0.01, mu=1e-05\n",
      "\tLearning epoch = 0\tGradient mag. = 0.017936\n",
      "\tLearning epoch = 250\tGradient mag. = 0.018713\n",
      "\tLearning epoch = 500\tGradient mag. = 0.018549\n",
      "\tLearning epoch = 750\tGradient mag. = 0.018389\n",
      "\tLearning epoch = 1000\tGradient mag. = 0.018233\n",
      "\tLearning epoch = 1250\tGradient mag. = 0.018080\n",
      "\tLearning epoch = 1500\tGradient mag. = 0.017931\n",
      "\tLearning epoch = 1750\tGradient mag. = 0.017785\n",
      "\tLearning epoch = 2000\tGradient mag. = 0.017642\n",
      "\tLearning epoch = 2250\tGradient mag. = 0.017503\n",
      "\tLearning epoch = 2500\tGradient mag. = 0.017367\n",
      "\tLearning epoch = 2750\tGradient mag. = 0.017234\n",
      "Final gradient magnitude for rate=0.01, mu=1e-05: 0.017\n",
      "Begin training for rate=0.01, mu=0.001\n",
      "\tLearning epoch = 0\tGradient mag. = 0.017936\n",
      "\tLearning epoch = 250\tGradient mag. = 0.018741\n",
      "\tLearning epoch = 500\tGradient mag. = 0.018606\n",
      "\tLearning epoch = 750\tGradient mag. = 0.018474\n",
      "\tLearning epoch = 1000\tGradient mag. = 0.018346\n",
      "\tLearning epoch = 1250\tGradient mag. = 0.018220\n",
      "\tLearning epoch = 1500\tGradient mag. = 0.018098\n",
      "\tLearning epoch = 1750\tGradient mag. = 0.017979\n",
      "\tLearning epoch = 2000\tGradient mag. = 0.017864\n",
      "\tLearning epoch = 2250\tGradient mag. = 0.017751\n",
      "\tLearning epoch = 2500\tGradient mag. = 0.017641\n",
      "\tLearning epoch = 2750\tGradient mag. = 0.017534\n",
      "Final gradient magnitude for rate=0.01, mu=0.001: 0.017\n",
      "Begin training for rate=0.01, mu=0.1\n",
      "\tLearning epoch = 0\tGradient mag. = 0.017936\n",
      "SGD converged for mu=0.1 after 10 steps\n"
     ]
    },
    {
     "data": {
      "image/png": "[encoded data removed]",
      "text/plain": [
       "<matplotlib.figure.Figure at 0x14af33650>"
      ]
     },
     "metadata": {},
     "output_type": "display_data"
    },
    {
     "name": "stdout",
     "output_type": "stream",
     "text": [
      "CPU times: user 28.4 s, sys: 417 ms, total: 28.8 s\n",
      "Wall time: 29.1 s\n"
     ]
    },
    {
     "data": {
      "text/html": [
       "<table><tr><td><b>ID</b></td><td><b># LFs</b></td><td><b>Test set size</b></td><td><b>Model</b></td><td><b>Precision</b></td><td><b>Recall</b></td><td><b>F1</b></td></tr><tr><td>6</td><td>15</td><td>608</td><td>Logistic regression</td><td>0.000</td><td>0.000</td><td>0.000</td></tr></table><table><tr><td><b>LF</b></td></tr><tr><td>LF_associated</td></tr><tr><td>LF_influencing</td></tr><tr><td>LF_related</td></tr><tr><td>LF_previously</td></tr><tr><td>LF_phenotype</td></tr><tr><td>LF_obese</td></tr><tr><td>LF_further</td></tr><tr><td>LF_also</td></tr><tr><td>LF_age</td></tr><tr><td>LF_trait</td></tr><tr><td>LF_weight</td></tr><tr><td>LF_recently</td></tr><tr><td>LF_addit</td></tr><tr><td>LF_may</td></tr><tr><td>LF_short</td></tr></table>"
      ],
      "text/plain": [
       "<snorkel.snorkel.ModelLog instance at 0x14953cc68>"
      ]
     },
     "execution_count": 311,
     "metadata": {},
     "output_type": "execute_result"
    }
   ],
   "source": [
    "import matplotlib\n",
    "import numpy as np\n",
    "%matplotlib inline\n",
    "\n",
    "matplotlib.rcParams['figure.figsize'] = (12,4)\n",
    "mu_seq = np.ravel([1e-9, 1e-5, 1e-3, 1e-1])\n",
    "lf_opts = {'sample': False, 'verbose': True}\n",
    "model_opts = {'sample': False, 'n_iter': 3000, 'alpha': 0.5, 'mu': mu_seq, 'bias': False, 'verbose': True}\n",
    "%time DDL.train_model(method='lr', lf_opts=lf_opts, model_opts=model_opts)"
   ]
  },
  {
   "cell_type": "markdown",
   "metadata": {},
   "source": [
    "## Let's extract some relations!"
   ]
  },
  {
   "cell_type": "code",
   "execution_count": 324,
   "metadata": {
    "collapsed": false
   },
   "outputs": [],
   "source": [
    "from snorkel.matchers import CandidateExtractor\n",
    "from snorkel.snorkel import Relations\n",
    "\n",
    "ngrams = Ngrams(n_max=5)\n",
    "rsid_extractor = CandidateExtractor(ngrams, rsid_matcher)\n",
    "pval_extractor = CandidateExtractor(ngrams, pval_matcher)\n",
    "\n",
    "pval_relations = Relations(corpus.get_contexts(), rsid_extractor, pval_extractor)"
   ]
  },
  {
   "cell_type": "markdown",
   "metadata": {},
   "source": [
    "Again, extract features."
   ]
  },
  {
   "cell_type": "code",
   "execution_count": 329,
   "metadata": {
    "collapsed": false
   },
   "outputs": [
    {
     "name": "stdout",
     "output_type": "stream",
     "text": [
      "CPU times: user 12min 25s, sys: 1.7 s, total: 12min 27s\n",
      "Wall time: 12min 35s\n"
     ]
    }
   ],
   "source": [
    "%time pval_relations.extract_features()\n",
    "feats = pval_relations.feats\n",
    "with open(pkl_f, 'w+') as f:\n",
    "    cPickle.dump(feats, f)"
   ]
  },
  {
   "cell_type": "code",
   "execution_count": 328,
   "metadata": {
    "collapsed": false
   },
   "outputs": [],
   "source": [
    "import cPickle\n",
    "feats = None\n",
    "\n",
    "pkl_f = 'pval_rel_feats.pkl'\n",
    "try:\n",
    "    with open(pkl_f, 'rb') as f:\n",
    "        feats = cPickle.load(f)\n",
    "except:\n",
    "    %time pval_relations.extract_features()\n",
    "    feats = pval_relations.feats\n",
    "    with open(pkl_f, 'w+') as f:\n",
    "        cPickle.dump(feats, f)"
   ]
  },
  {
   "cell_type": "code",
   "execution_count": 375,
   "metadata": {
    "collapsed": false
   },
   "outputs": [
    {
     "name": "stdout",
     "output_type": "stream",
     "text": [
      "Extracted 36500 features for each of 1723 mentions\n"
     ]
    }
   ],
   "source": [
    "# create the model\n",
    "from snorkel.snorkel import DDLiteModel\n",
    "\n",
    "DDL = DDLiteModel(pval_relations, feats)\n",
    "print \"Extracted {} features for each of {} mentions\".format(DDL.num_feats(), DDL.num_candidates())"
   ]
  },
  {
   "cell_type": "markdown",
   "metadata": {},
   "source": [
    "Now we create the gold truth set."
   ]
  },
  {
   "cell_type": "code",
   "execution_count": 345,
   "metadata": {
    "collapsed": false
   },
   "outputs": [],
   "source": [
    "# load true phenotype mentions\n",
    "from math import floor, log10\n",
    "from db.kb import KnowledgeBase\n",
    "kb = KnowledgeBase()\n",
    "\n",
    "doc_ids = [get_doc_id(rel) for rel in pval_relations]\n",
    "# we only get the magnitude of the p-value:\n",
    "gold_pval_dict = { \n",
    "    doc_id : set([ \n",
    "                (assoc.snp.rs_id, floor(log10(assoc.pvalue))) for assoc in kb.assoc_by_pmid(doc_id) if assoc.pvalue \n",
    "            ])\n",
    "    for doc_id in doc_ids\n",
    "}"
   ]
  },
  {
   "cell_type": "code",
   "execution_count": 346,
   "metadata": {
    "collapsed": false
   },
   "outputs": [
    {
     "name": "stdout",
     "output_type": "stream",
     "text": [
      "(u'rs823128', 7.29e-08)\n"
     ]
    }
   ],
   "source": [
    "# small helper functions:\n",
    "from extractor.util import pvalue_to_float\n",
    "def get_rsid_pval(rel, stem=False):\n",
    "    # pvalue\n",
    "    pval_txt = ' '.join(rel.mention2())\n",
    "    pval = pvalue_to_float(pval_txt)\n",
    "    # rsid\n",
    "    rsid = ' '.join(rel.mention1())    \n",
    "    return rsid, pval\n",
    "    \n",
    "# print pval_relations[0].mention2()\n",
    "print get_rsid_pval(pval_relations[0])"
   ]
  },
  {
   "cell_type": "code",
   "execution_count": 380,
   "metadata": {
    "collapsed": false
   },
   "outputs": [],
   "source": [
    "# classify candidates as correct or not\n",
    "from math import floor, log10\n",
    "uids = list()\n",
    "gt = list()\n",
    "\n",
    "for doc_id, rel in zip(doc_ids, pval_relations):\n",
    "    rsid, pval = get_rsid_pval(rel)\n",
    "    \n",
    "    # we say that its correct if we get the right order of magnitude\n",
    "    if pval:\n",
    "        uids.append(rel.uid)\n",
    "        pval_mag = floor(log10(pval))\n",
    "        if (rsid, pval_mag) in gold_pval_dict[doc_id]:\n",
    "            gt.append(+1)\n",
    "        else:\n",
    "            gt.append(-1)"
   ]
  },
  {
   "cell_type": "markdown",
   "metadata": {},
   "source": [
    "#### Labeling functions"
   ]
  },
  {
   "cell_type": "markdown",
   "metadata": {},
   "source": [
    "Print a few examples, for debugging."
   ]
  },
  {
   "cell_type": "code",
   "execution_count": 429,
   "metadata": {
    "collapsed": false
   },
   "outputs": [
    {
     "name": "stdout",
     "output_type": "stream",
     "text": [
      "----\n",
      "SNP rs6855911 showed the strongest association -LRB- p = 1.84 × 10 − 16 -RRB- , along with eight others -LRB- p = 7.75 × 10 − 16 to 6.05 × 10 − 11 -RRB- .\n",
      "<bound method Relation.mention1 of <Relation: [u'rs6855911'][1] - [u'7.75', u'\\xd7', u'10', u'\\u2212', u'16'][23, 24, 25, 26, 27]>\n",
      "Words: <Relation: [u'rs6855911'][1] - [u'7.75', u'\\xd7', u'10', u'\\u2212', u'16'][23, 24, 25, 26, 27]>\n",
      "Lemmas: <Relation: [u'rs6855911'][1] - [u'7.75', u'\\xd7', u'10', u'\\u2212', u'16'][23, 24, 25, 26, 27]>\n",
      "POSES: <Relation: [u'rs6855911'][1] - [u'7.75', u'\\xd7', u'10', u'\\u2212', u'16'][23, 24, 25, 26, 27]>>\n",
      "<bound method Relation.mention2 of <Relation: [u'rs6855911'][1] - [u'7.75', u'\\xd7', u'10', u'\\u2212', u'16'][23, 24, 25, 26, 27]>\n",
      "Words: <Relation: [u'rs6855911'][1] - [u'7.75', u'\\xd7', u'10', u'\\u2212', u'16'][23, 24, 25, 26, 27]>\n",
      "Lemmas: <Relation: [u'rs6855911'][1] - [u'7.75', u'\\xd7', u'10', u'\\u2212', u'16'][23, 24, 25, 26, 27]>\n",
      "POSES: <Relation: [u'rs6855911'][1] - [u'7.75', u'\\xd7', u'10', u'\\u2212', u'16'][23, 24, 25, 26, 27]>>\n",
      "\n",
      "[0, 0, 0, 0, 0, 1]\n",
      "[-1, 0, 0, 0]\n",
      "[u'show', u'the', u'strongest', u'association', u'-lrb-', u'p', u'=', u'1.84', u'\\xd7', u'10', u'\\u2212', u'16', u'-rrb-', u',', u'along', u'with', u'eight', u'other', u'-lrb-', u'p', u'=']\n",
      "\n",
      "----\n",
      "SNP rs6855911 showed the strongest association -LRB- p = 1.84 × 10 − 16 -RRB- , along with eight others -LRB- p = 7.75 × 10 − 16 to 6.05 × 10 − 11 -RRB- .\n",
      "<bound method Relation.mention1 of <Relation: [u'rs6855911'][1] - [u'6.05', u'\\xd7', u'10', u'\\u2212', u'11'][29, 30, 31, 32, 33]>\n",
      "Words: <Relation: [u'rs6855911'][1] - [u'6.05', u'\\xd7', u'10', u'\\u2212', u'11'][29, 30, 31, 32, 33]>\n",
      "Lemmas: <Relation: [u'rs6855911'][1] - [u'6.05', u'\\xd7', u'10', u'\\u2212', u'11'][29, 30, 31, 32, 33]>\n",
      "POSES: <Relation: [u'rs6855911'][1] - [u'6.05', u'\\xd7', u'10', u'\\u2212', u'11'][29, 30, 31, 32, 33]>>\n",
      "<bound method Relation.mention2 of <Relation: [u'rs6855911'][1] - [u'6.05', u'\\xd7', u'10', u'\\u2212', u'11'][29, 30, 31, 32, 33]>\n",
      "Words: <Relation: [u'rs6855911'][1] - [u'6.05', u'\\xd7', u'10', u'\\u2212', u'11'][29, 30, 31, 32, 33]>\n",
      "Lemmas: <Relation: [u'rs6855911'][1] - [u'6.05', u'\\xd7', u'10', u'\\u2212', u'11'][29, 30, 31, 32, 33]>\n",
      "POSES: <Relation: [u'rs6855911'][1] - [u'6.05', u'\\xd7', u'10', u'\\u2212', u'11'][29, 30, 31, 32, 33]>>\n",
      "\n",
      "[0, 0, 0, 0, 0, 1]\n",
      "[-1, -1, 0, 0]\n",
      "[u'show', u'the', u'strongest', u'association', u'-lrb-', u'p', u'=', u'1.84', u'\\xd7', u'10', u'\\u2212', u'16', u'-rrb-', u',', u'along', u'with', u'eight', u'other', u'-lrb-', u'p', u'=', u'7.75', u'\\xd7', u'10', u'\\u2212', u'16', u'to']\n",
      "\n",
      "----\n",
      "The CERS4 variant at rs2100944 was associated with higher levels of 20:0 -LRB- P = 2.65 × 10 − 40 -RRB- and in analyses that adjusted for 20:0 , with lower levels of behenic acid -LRB- P = 4.22 × 10 − 26 -RRB- and lignoceric acid -LRB- P = 3.20 × 10 − 21 -RRB- .\n",
      "<bound method Relation.mention1 of <Relation: [u'rs2100944'][4] - [u'4.22', u'\\xd7', u'10', u'\\u2212', u'26'][38, 39, 40, 41, 42]>\n",
      "Words: <Relation: [u'rs2100944'][4] - [u'4.22', u'\\xd7', u'10', u'\\u2212', u'26'][38, 39, 40, 41, 42]>\n",
      "Lemmas: <Relation: [u'rs2100944'][4] - [u'4.22', u'\\xd7', u'10', u'\\u2212', u'26'][38, 39, 40, 41, 42]>\n",
      "POSES: <Relation: [u'rs2100944'][4] - [u'4.22', u'\\xd7', u'10', u'\\u2212', u'26'][38, 39, 40, 41, 42]>>\n",
      "<bound method Relation.mention2 of <Relation: [u'rs2100944'][4] - [u'4.22', u'\\xd7', u'10', u'\\u2212', u'26'][38, 39, 40, 41, 42]>\n",
      "Words: <Relation: [u'rs2100944'][4] - [u'4.22', u'\\xd7', u'10', u'\\u2212', u'26'][38, 39, 40, 41, 42]>\n",
      "Lemmas: <Relation: [u'rs2100944'][4] - [u'4.22', u'\\xd7', u'10', u'\\u2212', u'26'][38, 39, 40, 41, 42]>\n",
      "POSES: <Relation: [u'rs2100944'][4] - [u'4.22', u'\\xd7', u'10', u'\\u2212', u'26'][38, 39, 40, 41, 42]>>\n",
      "\n",
      "[0, 0, 0, 0, 0, 1]\n",
      "[-1, 0, 0, -1]\n",
      "[u'be', u'associate', u'with', u'higher', u'level', u'of', u'20:0', u'-lrb-', u'p', u'=', u'2.65', u'\\xd7', u'10', u'\\u2212', u'40', u'-rrb-', u'and', u'in', u'analysis', u'that', u'adjust', u'for', u'20:0', u',', u'with', u'lower', u'level', u'of', u'behenic', u'acid', u'-lrb-', u'p', u'=']\n",
      "\n",
      "----\n",
      "The CERS4 variant at rs2100944 was associated with higher levels of 20:0 -LRB- P = 2.65 × 10 − 40 -RRB- and in analyses that adjusted for 20:0 , with lower levels of behenic acid -LRB- P = 4.22 × 10 − 26 -RRB- and lignoceric acid -LRB- P = 3.20 × 10 − 21 -RRB- .\n",
      "<bound method Relation.mention1 of <Relation: [u'rs2100944'][4] - [u'3.20', u'\\xd7', u'10', u'\\u2212', u'21'][50, 51, 52, 53, 54]>\n",
      "Words: <Relation: [u'rs2100944'][4] - [u'3.20', u'\\xd7', u'10', u'\\u2212', u'21'][50, 51, 52, 53, 54]>\n",
      "Lemmas: <Relation: [u'rs2100944'][4] - [u'3.20', u'\\xd7', u'10', u'\\u2212', u'21'][50, 51, 52, 53, 54]>\n",
      "POSES: <Relation: [u'rs2100944'][4] - [u'3.20', u'\\xd7', u'10', u'\\u2212', u'21'][50, 51, 52, 53, 54]>>\n",
      "<bound method Relation.mention2 of <Relation: [u'rs2100944'][4] - [u'3.20', u'\\xd7', u'10', u'\\u2212', u'21'][50, 51, 52, 53, 54]>\n",
      "Words: <Relation: [u'rs2100944'][4] - [u'3.20', u'\\xd7', u'10', u'\\u2212', u'21'][50, 51, 52, 53, 54]>\n",
      "Lemmas: <Relation: [u'rs2100944'][4] - [u'3.20', u'\\xd7', u'10', u'\\u2212', u'21'][50, 51, 52, 53, 54]>\n",
      "POSES: <Relation: [u'rs2100944'][4] - [u'3.20', u'\\xd7', u'10', u'\\u2212', u'21'][50, 51, 52, 53, 54]>>\n",
      "\n",
      "[0, 0, 0, 0, 0, 1]\n",
      "[-1, 0, 0, -1]\n",
      "[u'be', u'associate', u'with', u'higher', u'level', u'of', u'20:0', u'-lrb-', u'p', u'=', u'2.65', u'\\xd7', u'10', u'\\u2212', u'40', u'-rrb-', u'and', u'in', u'analysis', u'that', u'adjust', u'for', u'20:0', u',', u'with', u'lower', u'level', u'of', u'behenic', u'acid', u'-lrb-', u'p', u'=', u'4.22', u'\\xd7', u'10', u'\\u2212', u'26', u'-rrb-', u'and', u'lignoceric', u'acid', u'-lrb-', u'p', u'=']\n",
      "\n",
      "----\n",
      "Within the FTO gene , rs9930506 showed the strongest association with BMI -LRB- p = 8.6 × 10 − 7 -RRB- , hip circumference -LRB- p = 3.4 × 10 − 8 -RRB- , and weight -LRB- p = 9.1 × 10 − 7 -RRB- .\n",
      "<bound method Relation.mention1 of <Relation: [u'rs9930506'][5] - [u'3.4', u'\\xd7', u'10', u'\\u2212', u'8'][27, 28, 29, 30, 31]>\n",
      "Words: <Relation: [u'rs9930506'][5] - [u'3.4', u'\\xd7', u'10', u'\\u2212', u'8'][27, 28, 29, 30, 31]>\n",
      "Lemmas: <Relation: [u'rs9930506'][5] - [u'3.4', u'\\xd7', u'10', u'\\u2212', u'8'][27, 28, 29, 30, 31]>\n",
      "POSES: <Relation: [u'rs9930506'][5] - [u'3.4', u'\\xd7', u'10', u'\\u2212', u'8'][27, 28, 29, 30, 31]>>\n",
      "<bound method Relation.mention2 of <Relation: [u'rs9930506'][5] - [u'3.4', u'\\xd7', u'10', u'\\u2212', u'8'][27, 28, 29, 30, 31]>\n",
      "Words: <Relation: [u'rs9930506'][5] - [u'3.4', u'\\xd7', u'10', u'\\u2212', u'8'][27, 28, 29, 30, 31]>\n",
      "Lemmas: <Relation: [u'rs9930506'][5] - [u'3.4', u'\\xd7', u'10', u'\\u2212', u'8'][27, 28, 29, 30, 31]>\n",
      "POSES: <Relation: [u'rs9930506'][5] - [u'3.4', u'\\xd7', u'10', u'\\u2212', u'8'][27, 28, 29, 30, 31]>>\n",
      "\n",
      "[0, 0, 0, 0, 0, 1]\n",
      "[-1, 0, 0, 0]\n",
      "[u'show', u'the', u'strongest', u'association', u'with', u'bmi', u'-lrb-', u'p', u'=', u'8.6', u'\\xd7', u'10', u'\\u2212', u'7', u'-rrb-', u',', u'hip', u'circumference', u'-lrb-', u'p', u'=']\n",
      "\n",
      "----\n",
      "Within the FTO gene , rs9930506 showed the strongest association with BMI -LRB- p = 8.6 × 10 − 7 -RRB- , hip circumference -LRB- p = 3.4 × 10 − 8 -RRB- , and weight -LRB- p = 9.1 × 10 − 7 -RRB- .\n",
      "<bound method Relation.mention1 of <Relation: [u'rs9930506'][5] - [u'9.1', u'\\xd7', u'10', u'\\u2212', u'7'][39, 40, 41, 42, 43]>\n",
      "Words: <Relation: [u'rs9930506'][5] - [u'9.1', u'\\xd7', u'10', u'\\u2212', u'7'][39, 40, 41, 42, 43]>\n",
      "Lemmas: <Relation: [u'rs9930506'][5] - [u'9.1', u'\\xd7', u'10', u'\\u2212', u'7'][39, 40, 41, 42, 43]>\n",
      "POSES: <Relation: [u'rs9930506'][5] - [u'9.1', u'\\xd7', u'10', u'\\u2212', u'7'][39, 40, 41, 42, 43]>>\n",
      "<bound method Relation.mention2 of <Relation: [u'rs9930506'][5] - [u'9.1', u'\\xd7', u'10', u'\\u2212', u'7'][39, 40, 41, 42, 43]>\n",
      "Words: <Relation: [u'rs9930506'][5] - [u'9.1', u'\\xd7', u'10', u'\\u2212', u'7'][39, 40, 41, 42, 43]>\n",
      "Lemmas: <Relation: [u'rs9930506'][5] - [u'9.1', u'\\xd7', u'10', u'\\u2212', u'7'][39, 40, 41, 42, 43]>\n",
      "POSES: <Relation: [u'rs9930506'][5] - [u'9.1', u'\\xd7', u'10', u'\\u2212', u'7'][39, 40, 41, 42, 43]>>\n",
      "\n",
      "[0, 0, 0, 0, 0, 1]\n",
      "[-1, 0, 0, -1]\n",
      "[u'show', u'the', u'strongest', u'association', u'with', u'bmi', u'-lrb-', u'p', u'=', u'8.6', u'\\xd7', u'10', u'\\u2212', u'7', u'-rrb-', u',', u'hip', u'circumference', u'-lrb-', u'p', u'=', u'3.4', u'\\xd7', u'10', u'\\u2212', u'8', u'-rrb-', u',', u'and', u'weight', u'-lrb-', u'p', u'=']\n",
      "\n",
      "----\n",
      "An independent signal was identified in exon 2 of TERT at the established region 5p15 .33 -LRB- rs2736098 ; OR = 0.80 ; 95 % CI = 0.76 -- 0.85 ; P = 9.8 × 10 − 14 -RRB- .\n",
      "<bound method Relation.mention1 of <Relation: [u'rs2736098'][17] - [u'9.8', u'\\xd7', u'10', u'\\u2212', u'14'][33, 34, 35, 36, 37]>\n",
      "Words: <Relation: [u'rs2736098'][17] - [u'9.8', u'\\xd7', u'10', u'\\u2212', u'14'][33, 34, 35, 36, 37]>\n",
      "Lemmas: <Relation: [u'rs2736098'][17] - [u'9.8', u'\\xd7', u'10', u'\\u2212', u'14'][33, 34, 35, 36, 37]>\n",
      "POSES: <Relation: [u'rs2736098'][17] - [u'9.8', u'\\xd7', u'10', u'\\u2212', u'14'][33, 34, 35, 36, 37]>>\n",
      "<bound method Relation.mention2 of <Relation: [u'rs2736098'][17] - [u'9.8', u'\\xd7', u'10', u'\\u2212', u'14'][33, 34, 35, 36, 37]>\n",
      "Words: <Relation: [u'rs2736098'][17] - [u'9.8', u'\\xd7', u'10', u'\\u2212', u'14'][33, 34, 35, 36, 37]>\n",
      "Lemmas: <Relation: [u'rs2736098'][17] - [u'9.8', u'\\xd7', u'10', u'\\u2212', u'14'][33, 34, 35, 36, 37]>\n",
      "POSES: <Relation: [u'rs2736098'][17] - [u'9.8', u'\\xd7', u'10', u'\\u2212', u'14'][33, 34, 35, 36, 37]>>\n",
      "\n",
      "[0, 1, 0, 0, 0, 0]\n",
      "[0, 0, -1, 0]\n",
      "[u';', u'or', u'=', u'0.80', u';', u'95', u'%', u'ci', u'=', u'0.76', u'--', u'0.85', u';', u'p', u'=']\n",
      "\n",
      "----\n",
      "rs12356193 within SLC16A9 was associated with DL-carnitine -LRB- p = 4.0 × 10 − 26 -RRB- and propionyl-L-carnitine -LRB- p = 5.0 × 10 − 8 -RRB- concentrations , which in turn were associated with serum UA levels -LRB- p = 1.4 × 10 − 57 and p = 8.1 × 10 − 54 , respectively -RRB- , forming a triangle between SNP , metabolites , and UA levels .\n",
      "<bound method Relation.mention1 of <Relation: [u'rs12356193'][0] - [u'5.0', u'\\xd7', u'10', u'\\u2212', u'8'][21, 22, 23, 24, 25]>\n",
      "Words: <Relation: [u'rs12356193'][0] - [u'5.0', u'\\xd7', u'10', u'\\u2212', u'8'][21, 22, 23, 24, 25]>\n",
      "Lemmas: <Relation: [u'rs12356193'][0] - [u'5.0', u'\\xd7', u'10', u'\\u2212', u'8'][21, 22, 23, 24, 25]>\n",
      "POSES: <Relation: [u'rs12356193'][0] - [u'5.0', u'\\xd7', u'10', u'\\u2212', u'8'][21, 22, 23, 24, 25]>>\n",
      "<bound method Relation.mention2 of <Relation: [u'rs12356193'][0] - [u'5.0', u'\\xd7', u'10', u'\\u2212', u'8'][21, 22, 23, 24, 25]>\n",
      "Words: <Relation: [u'rs12356193'][0] - [u'5.0', u'\\xd7', u'10', u'\\u2212', u'8'][21, 22, 23, 24, 25]>\n",
      "Lemmas: <Relation: [u'rs12356193'][0] - [u'5.0', u'\\xd7', u'10', u'\\u2212', u'8'][21, 22, 23, 24, 25]>\n",
      "POSES: <Relation: [u'rs12356193'][0] - [u'5.0', u'\\xd7', u'10', u'\\u2212', u'8'][21, 22, 23, 24, 25]>>\n",
      "\n",
      "[0, 0, 0, 0, 0, 1]\n",
      "[-1, 0, 0, -1]\n",
      "[u'within', u'slc16a9', u'be', u'associate', u'with', u'dl-carnitine', u'-lrb-', u'p', u'=', u'4.0', u'\\xd7', u'10', u'\\u2212', u'26', u'-rrb-', u'and', u'propionyl-l-carnitine', u'-lrb-', u'p', u'=']\n",
      "\n",
      "----\n",
      "rs12356193 within SLC16A9 was associated with DL-carnitine -LRB- p = 4.0 × 10 − 26 -RRB- and propionyl-L-carnitine -LRB- p = 5.0 × 10 − 8 -RRB- concentrations , which in turn were associated with serum UA levels -LRB- p = 1.4 × 10 − 57 and p = 8.1 × 10 − 54 , respectively -RRB- , forming a triangle between SNP , metabolites , and UA levels .\n",
      "<bound method Relation.mention1 of <Relation: [u'rs12356193'][0] - [u'1.4', u'\\xd7', u'10', u'\\u2212', u'57'][41, 42, 43, 44, 45]>\n",
      "Words: <Relation: [u'rs12356193'][0] - [u'1.4', u'\\xd7', u'10', u'\\u2212', u'57'][41, 42, 43, 44, 45]>\n",
      "Lemmas: <Relation: [u'rs12356193'][0] - [u'1.4', u'\\xd7', u'10', u'\\u2212', u'57'][41, 42, 43, 44, 45]>\n",
      "POSES: <Relation: [u'rs12356193'][0] - [u'1.4', u'\\xd7', u'10', u'\\u2212', u'57'][41, 42, 43, 44, 45]>>\n",
      "<bound method Relation.mention2 of <Relation: [u'rs12356193'][0] - [u'1.4', u'\\xd7', u'10', u'\\u2212', u'57'][41, 42, 43, 44, 45]>\n",
      "Words: <Relation: [u'rs12356193'][0] - [u'1.4', u'\\xd7', u'10', u'\\u2212', u'57'][41, 42, 43, 44, 45]>\n",
      "Lemmas: <Relation: [u'rs12356193'][0] - [u'1.4', u'\\xd7', u'10', u'\\u2212', u'57'][41, 42, 43, 44, 45]>\n",
      "POSES: <Relation: [u'rs12356193'][0] - [u'1.4', u'\\xd7', u'10', u'\\u2212', u'57'][41, 42, 43, 44, 45]>>\n",
      "\n",
      "[0, 0, 0, 0, 0, 1]\n",
      "[-1, 0, 0, -1]\n",
      "[u'within', u'slc16a9', u'be', u'associate', u'with', u'dl-carnitine', u'-lrb-', u'p', u'=', u'4.0', u'\\xd7', u'10', u'\\u2212', u'26', u'-rrb-', u'and', u'propionyl-l-carnitine', u'-lrb-', u'p', u'=', u'5.0', u'\\xd7', u'10', u'\\u2212', u'8', u'-rrb-', u'concentration', u',', u'which', u'in', u'turn', u'be', u'associate', u'with', u'serum', u'ua', u'level', u'-lrb-', u'p', u'=']\n",
      "\n",
      "----\n",
      "rs12356193 within SLC16A9 was associated with DL-carnitine -LRB- p = 4.0 × 10 − 26 -RRB- and propionyl-L-carnitine -LRB- p = 5.0 × 10 − 8 -RRB- concentrations , which in turn were associated with serum UA levels -LRB- p = 1.4 × 10 − 57 and p = 8.1 × 10 − 54 , respectively -RRB- , forming a triangle between SNP , metabolites , and UA levels .\n",
      "<bound method Relation.mention1 of <Relation: [u'rs12356193'][0] - [u'8.1', u'\\xd7', u'10', u'\\u2212', u'54'][49, 50, 51, 52, 53]>\n",
      "Words: <Relation: [u'rs12356193'][0] - [u'8.1', u'\\xd7', u'10', u'\\u2212', u'54'][49, 50, 51, 52, 53]>\n",
      "Lemmas: <Relation: [u'rs12356193'][0] - [u'8.1', u'\\xd7', u'10', u'\\u2212', u'54'][49, 50, 51, 52, 53]>\n",
      "POSES: <Relation: [u'rs12356193'][0] - [u'8.1', u'\\xd7', u'10', u'\\u2212', u'54'][49, 50, 51, 52, 53]>>\n",
      "<bound method Relation.mention2 of <Relation: [u'rs12356193'][0] - [u'8.1', u'\\xd7', u'10', u'\\u2212', u'54'][49, 50, 51, 52, 53]>\n",
      "Words: <Relation: [u'rs12356193'][0] - [u'8.1', u'\\xd7', u'10', u'\\u2212', u'54'][49, 50, 51, 52, 53]>\n",
      "Lemmas: <Relation: [u'rs12356193'][0] - [u'8.1', u'\\xd7', u'10', u'\\u2212', u'54'][49, 50, 51, 52, 53]>\n",
      "POSES: <Relation: [u'rs12356193'][0] - [u'8.1', u'\\xd7', u'10', u'\\u2212', u'54'][49, 50, 51, 52, 53]>>\n",
      "\n",
      "[0, 0, 0, 0, 0, 1]\n",
      "[-1, 0, 0, -1]\n",
      "[u'within', u'slc16a9', u'be', u'associate', u'with', u'dl-carnitine', u'-lrb-', u'p', u'=', u'4.0', u'\\xd7', u'10', u'\\u2212', u'26', u'-rrb-', u'and', u'propionyl-l-carnitine', u'-lrb-', u'p', u'=', u'5.0', u'\\xd7', u'10', u'\\u2212', u'8', u'-rrb-', u'concentration', u',', u'which', u'in', u'turn', u'be', u'associate', u'with', u'serum', u'ua', u'level', u'-lrb-', u'p', u'=', u'1.4', u'\\xd7', u'10', u'\\u2212', u'57', u'and', u'p', u'=']\n",
      "\n",
      "----\n",
      "The associations between rs11646213 and three BP traits were replicated in combined analyses -LRB- dominant model : DBP , P = 5.55 × 10 -- 5 , effect -- 1.40 mmHg ; SBP , P = 0.007 , effect -- 1.56 mmHg ; HYP , P = 5.30 × 10 − 8 , OR = 0.67 -RRB- .\n",
      "<bound method Relation.mention1 of <Relation: [u'rs11646213'][3] - [u'5.30', u'\\xd7', u'10', u'\\u2212', u'8'][47, 48, 49, 50, 51]>\n",
      "Words: <Relation: [u'rs11646213'][3] - [u'5.30', u'\\xd7', u'10', u'\\u2212', u'8'][47, 48, 49, 50, 51]>\n",
      "Lemmas: <Relation: [u'rs11646213'][3] - [u'5.30', u'\\xd7', u'10', u'\\u2212', u'8'][47, 48, 49, 50, 51]>\n",
      "POSES: <Relation: [u'rs11646213'][3] - [u'5.30', u'\\xd7', u'10', u'\\u2212', u'8'][47, 48, 49, 50, 51]>>\n",
      "<bound method Relation.mention2 of <Relation: [u'rs11646213'][3] - [u'5.30', u'\\xd7', u'10', u'\\u2212', u'8'][47, 48, 49, 50, 51]>\n",
      "Words: <Relation: [u'rs11646213'][3] - [u'5.30', u'\\xd7', u'10', u'\\u2212', u'8'][47, 48, 49, 50, 51]>\n",
      "Lemmas: <Relation: [u'rs11646213'][3] - [u'5.30', u'\\xd7', u'10', u'\\u2212', u'8'][47, 48, 49, 50, 51]>\n",
      "POSES: <Relation: [u'rs11646213'][3] - [u'5.30', u'\\xd7', u'10', u'\\u2212', u'8'][47, 48, 49, 50, 51]>>\n",
      "\n",
      "[1, 0, 0, 0, 0, 1]\n",
      "[0, 0, 0, -1]\n",
      "[u'and', u'three', u'bp', u'trait', u'be', u'replicate', u'in', u'combined', u'analysis', u'-lrb-', u'dominant', u'model', u':', u'DBP', u',', u'p', u'=', u'5.55', u'\\xd7', u'10', u'--', u'5', u',', u'effect', u'--', u'1.40', u'mmhg', u';', u'SBP', u',', u'p', u'=', u'0.007', u',', u'effect', u'--', u'1.56', u'mmhg', u';', u'HYP', u',', u'p', u'=']\n",
      "\n",
      "----\n",
      "Meta-analyses of all data provide compelling evidence that ABCA7 -LRB- meta - P 4.5 × 10 − 17 ; including ADGC meta - P = 5.0 × 10 − 21 -RRB- and the MS4A gene cluster -LRB- rs610932 , meta - P = 1.8 × 10 − 14 ; including ADGC meta - P = 1.2 × 10 − 16 ; rs670139 , meta - P = 1.4 × 10 − 9 ; including ADGC meta - P = 1.1 × 10 − 10 -RRB- are novel susceptibility loci for AD .\n",
      "<bound method Relation.mention1 of <Relation: [u'rs610932'][37] - [u'1.2', u'\\xd7', u'10', u'\\u2212', u'16'][55, 56, 57, 58, 59]>\n",
      "Words: <Relation: [u'rs610932'][37] - [u'1.2', u'\\xd7', u'10', u'\\u2212', u'16'][55, 56, 57, 58, 59]>\n",
      "Lemmas: <Relation: [u'rs610932'][37] - [u'1.2', u'\\xd7', u'10', u'\\u2212', u'16'][55, 56, 57, 58, 59]>\n",
      "POSES: <Relation: [u'rs610932'][37] - [u'1.2', u'\\xd7', u'10', u'\\u2212', u'16'][55, 56, 57, 58, 59]>>\n",
      "<bound method Relation.mention2 of <Relation: [u'rs610932'][37] - [u'1.2', u'\\xd7', u'10', u'\\u2212', u'16'][55, 56, 57, 58, 59]>\n",
      "Words: <Relation: [u'rs610932'][37] - [u'1.2', u'\\xd7', u'10', u'\\u2212', u'16'][55, 56, 57, 58, 59]>\n",
      "Lemmas: <Relation: [u'rs610932'][37] - [u'1.2', u'\\xd7', u'10', u'\\u2212', u'16'][55, 56, 57, 58, 59]>\n",
      "POSES: <Relation: [u'rs610932'][37] - [u'1.2', u'\\xd7', u'10', u'\\u2212', u'16'][55, 56, 57, 58, 59]>>\n",
      "\n",
      "[0, 0, 0, 0, 0, 1]\n",
      "[0, 0, -1, 0]\n",
      "[u',', u'meta', u'-', u'p', u'=', u'1.8', u'\\xd7', u'10', u'\\u2212', u'14', u';', u'include', u'ADGC', u'meta', u'-', u'p', u'=']\n",
      "\n",
      "----\n",
      "Meta-analyses of all data provide compelling evidence that ABCA7 -LRB- meta - P 4.5 × 10 − 17 ; including ADGC meta - P = 5.0 × 10 − 21 -RRB- and the MS4A gene cluster -LRB- rs610932 , meta - P = 1.8 × 10 − 14 ; including ADGC meta - P = 1.2 × 10 − 16 ; rs670139 , meta - P = 1.4 × 10 − 9 ; including ADGC meta - P = 1.1 × 10 − 10 -RRB- are novel susceptibility loci for AD .\n",
      "<bound method Relation.mention1 of <Relation: [u'rs670139'][61] - [u'1.1', u'\\xd7', u'10', u'\\u2212', u'10'][79, 80, 81, 82, 83]>\n",
      "Words: <Relation: [u'rs670139'][61] - [u'1.1', u'\\xd7', u'10', u'\\u2212', u'10'][79, 80, 81, 82, 83]>\n",
      "Lemmas: <Relation: [u'rs670139'][61] - [u'1.1', u'\\xd7', u'10', u'\\u2212', u'10'][79, 80, 81, 82, 83]>\n",
      "POSES: <Relation: [u'rs670139'][61] - [u'1.1', u'\\xd7', u'10', u'\\u2212', u'10'][79, 80, 81, 82, 83]>>\n",
      "<bound method Relation.mention2 of <Relation: [u'rs670139'][61] - [u'1.1', u'\\xd7', u'10', u'\\u2212', u'10'][79, 80, 81, 82, 83]>\n",
      "Words: <Relation: [u'rs670139'][61] - [u'1.1', u'\\xd7', u'10', u'\\u2212', u'10'][79, 80, 81, 82, 83]>\n",
      "Lemmas: <Relation: [u'rs670139'][61] - [u'1.1', u'\\xd7', u'10', u'\\u2212', u'10'][79, 80, 81, 82, 83]>\n",
      "POSES: <Relation: [u'rs670139'][61] - [u'1.1', u'\\xd7', u'10', u'\\u2212', u'10'][79, 80, 81, 82, 83]>>\n",
      "\n",
      "[0, 0, 0, 0, 0, 1]\n",
      "[0, 0, -1, 0]\n",
      "[u',', u'meta', u'-', u'p', u'=', u'1.4', u'\\xd7', u'10', u'\\u2212', u'9', u';', u'include', u'ADGC', u'meta', u'-', u'p', u'=']\n",
      "\n",
      "----\n",
      "A notable signal was rs2274223 , a nonsynonymous SNP located in PLCE1 , for GC -LRB- P = 8.40 × 10 − 9 ; per allele odds ratio -LRB- OR -RRB- = 1.31 -RRB- and ESCC -LRB- P = 3.85 × 10 − 9 ; OR = 1.34 -RRB- .\n",
      "<bound method Relation.mention1 of <Relation: [u'rs2274223'][4] - [u'3.85', u'\\xd7', u'10', u'\\u2212', u'9'][39, 40, 41, 42, 43]>\n",
      "Words: <Relation: [u'rs2274223'][4] - [u'3.85', u'\\xd7', u'10', u'\\u2212', u'9'][39, 40, 41, 42, 43]>\n",
      "Lemmas: <Relation: [u'rs2274223'][4] - [u'3.85', u'\\xd7', u'10', u'\\u2212', u'9'][39, 40, 41, 42, 43]>\n",
      "POSES: <Relation: [u'rs2274223'][4] - [u'3.85', u'\\xd7', u'10', u'\\u2212', u'9'][39, 40, 41, 42, 43]>>\n",
      "<bound method Relation.mention2 of <Relation: [u'rs2274223'][4] - [u'3.85', u'\\xd7', u'10', u'\\u2212', u'9'][39, 40, 41, 42, 43]>\n",
      "Words: <Relation: [u'rs2274223'][4] - [u'3.85', u'\\xd7', u'10', u'\\u2212', u'9'][39, 40, 41, 42, 43]>\n",
      "Lemmas: <Relation: [u'rs2274223'][4] - [u'3.85', u'\\xd7', u'10', u'\\u2212', u'9'][39, 40, 41, 42, 43]>\n",
      "POSES: <Relation: [u'rs2274223'][4] - [u'3.85', u'\\xd7', u'10', u'\\u2212', u'9'][39, 40, 41, 42, 43]>>\n",
      "\n",
      "[0, 0, 0, 0, 0, 1]\n",
      "[-1, 0, 0, -1]\n",
      "[u',', u'a', u'nonsynonymous', u'snp', u'located', u'in', u'plce1', u',', u'for', u'gc', u'-lrb-', u'p', u'=', u'8.40', u'\\xd7', u'10', u'\\u2212', u'9', u';', u'per', u'allele', u'odds', u'ratio', u'-lrb-', u'or', u'-rrb-', u'=', u'1.31', u'-rrb-', u'and', u'escc', u'-lrb-', u'p', u'=']\n",
      "\n",
      "----\n",
      "Initial association testing identified the SNP rs4418214 , the C allele of which is known to tag the HLA-B * 57:01 and B * 27:05 alleles , as genome-wide significant -LRB- p = 3.6 × 10 − 11 -RRB- .\n",
      "<bound method Relation.mention1 of <Relation: [u'rs4418214'][6] - [u'3.6', u'\\xd7', u'10', u'\\u2212', u'11'][33, 34, 35, 36, 37]>\n",
      "Words: <Relation: [u'rs4418214'][6] - [u'3.6', u'\\xd7', u'10', u'\\u2212', u'11'][33, 34, 35, 36, 37]>\n",
      "Lemmas: <Relation: [u'rs4418214'][6] - [u'3.6', u'\\xd7', u'10', u'\\u2212', u'11'][33, 34, 35, 36, 37]>\n",
      "POSES: <Relation: [u'rs4418214'][6] - [u'3.6', u'\\xd7', u'10', u'\\u2212', u'11'][33, 34, 35, 36, 37]>>\n",
      "<bound method Relation.mention2 of <Relation: [u'rs4418214'][6] - [u'3.6', u'\\xd7', u'10', u'\\u2212', u'11'][33, 34, 35, 36, 37]>\n",
      "Words: <Relation: [u'rs4418214'][6] - [u'3.6', u'\\xd7', u'10', u'\\u2212', u'11'][33, 34, 35, 36, 37]>\n",
      "Lemmas: <Relation: [u'rs4418214'][6] - [u'3.6', u'\\xd7', u'10', u'\\u2212', u'11'][33, 34, 35, 36, 37]>\n",
      "POSES: <Relation: [u'rs4418214'][6] - [u'3.6', u'\\xd7', u'10', u'\\u2212', u'11'][33, 34, 35, 36, 37]>>\n",
      "\n",
      "[1, 0, 0, 0, 0, 0]\n",
      "[0, 0, 0, -1]\n",
      "[u',', u'the', u'c', u'allele', u'of', u'which', u'be', u'know', u'to', u'tag', u'the', u'hla-b', u'*', u'57:01', u'and', u'b', u'*', u'27:05', u'allele', u',', u'as', u'genome-wide', u'significant', u'-lrb-', u'p', u'=']\n",
      "\n",
      "----\n",
      "The two SNPs rs2470893 and rs2472297 -LRB- P - values = 1.6 × 10 − 11 and 2.7 × 10 − 11 -RRB- , which were also in strong linkage disequilibrium -LRB- r 2 = 0.7 -RRB- with each other , lie in the 23-kb long commonly shared 5 ′ flanking region between CYP1A1 and CYP1A2 genes .\n",
      "<bound method Relation.mention1 of <Relation: [u'rs2470893'][3] - [u'1.6', u'\\xd7', u'10', u'\\u2212', u'11'][11, 12, 13, 14, 15]>\n",
      "Words: <Relation: [u'rs2470893'][3] - [u'1.6', u'\\xd7', u'10', u'\\u2212', u'11'][11, 12, 13, 14, 15]>\n",
      "Lemmas: <Relation: [u'rs2470893'][3] - [u'1.6', u'\\xd7', u'10', u'\\u2212', u'11'][11, 12, 13, 14, 15]>\n",
      "POSES: <Relation: [u'rs2470893'][3] - [u'1.6', u'\\xd7', u'10', u'\\u2212', u'11'][11, 12, 13, 14, 15]>>\n",
      "<bound method Relation.mention2 of <Relation: [u'rs2470893'][3] - [u'1.6', u'\\xd7', u'10', u'\\u2212', u'11'][11, 12, 13, 14, 15]>\n",
      "Words: <Relation: [u'rs2470893'][3] - [u'1.6', u'\\xd7', u'10', u'\\u2212', u'11'][11, 12, 13, 14, 15]>\n",
      "Lemmas: <Relation: [u'rs2470893'][3] - [u'1.6', u'\\xd7', u'10', u'\\u2212', u'11'][11, 12, 13, 14, 15]>\n",
      "POSES: <Relation: [u'rs2470893'][3] - [u'1.6', u'\\xd7', u'10', u'\\u2212', u'11'][11, 12, 13, 14, 15]>>\n",
      "\n",
      "[1, 0, 0, 0, 0, 0]\n",
      "[0, 0, 0, -1]\n",
      "[u'and', u'rs2472297', u'-lrb-', u'p', u'-', u'value', u'=']\n",
      "\n",
      "----\n",
      "The two SNPs rs2470893 and rs2472297 -LRB- P - values = 1.6 × 10 − 11 and 2.7 × 10 − 11 -RRB- , which were also in strong linkage disequilibrium -LRB- r 2 = 0.7 -RRB- with each other , lie in the 23-kb long commonly shared 5 ′ flanking region between CYP1A1 and CYP1A2 genes .\n",
      "<bound method Relation.mention1 of <Relation: [u'rs2470893'][3] - [u'2.7', u'\\xd7', u'10', u'\\u2212', u'11'][17, 18, 19, 20, 21]>\n",
      "Words: <Relation: [u'rs2470893'][3] - [u'2.7', u'\\xd7', u'10', u'\\u2212', u'11'][17, 18, 19, 20, 21]>\n",
      "Lemmas: <Relation: [u'rs2470893'][3] - [u'2.7', u'\\xd7', u'10', u'\\u2212', u'11'][17, 18, 19, 20, 21]>\n",
      "POSES: <Relation: [u'rs2470893'][3] - [u'2.7', u'\\xd7', u'10', u'\\u2212', u'11'][17, 18, 19, 20, 21]>>\n",
      "<bound method Relation.mention2 of <Relation: [u'rs2470893'][3] - [u'2.7', u'\\xd7', u'10', u'\\u2212', u'11'][17, 18, 19, 20, 21]>\n",
      "Words: <Relation: [u'rs2470893'][3] - [u'2.7', u'\\xd7', u'10', u'\\u2212', u'11'][17, 18, 19, 20, 21]>\n",
      "Lemmas: <Relation: [u'rs2470893'][3] - [u'2.7', u'\\xd7', u'10', u'\\u2212', u'11'][17, 18, 19, 20, 21]>\n",
      "POSES: <Relation: [u'rs2470893'][3] - [u'2.7', u'\\xd7', u'10', u'\\u2212', u'11'][17, 18, 19, 20, 21]>>\n",
      "\n",
      "[1, 0, 0, 0, 0, 0]\n",
      "[0, -1, 0, -1]\n",
      "[u'and', u'rs2472297', u'-lrb-', u'p', u'-', u'value', u'=', u'1.6', u'\\xd7', u'10', u'\\u2212', u'11', u'and']\n",
      "\n",
      "----\n",
      "The two SNPs rs2470893 and rs2472297 -LRB- P - values = 1.6 × 10 − 11 and 2.7 × 10 − 11 -RRB- , which were also in strong linkage disequilibrium -LRB- r 2 = 0.7 -RRB- with each other , lie in the 23-kb long commonly shared 5 ′ flanking region between CYP1A1 and CYP1A2 genes .\n",
      "<bound method Relation.mention1 of <Relation: [u'rs2472297'][5] - [u'2.7', u'\\xd7', u'10', u'\\u2212', u'11'][17, 18, 19, 20, 21]>\n",
      "Words: <Relation: [u'rs2472297'][5] - [u'2.7', u'\\xd7', u'10', u'\\u2212', u'11'][17, 18, 19, 20, 21]>\n",
      "Lemmas: <Relation: [u'rs2472297'][5] - [u'2.7', u'\\xd7', u'10', u'\\u2212', u'11'][17, 18, 19, 20, 21]>\n",
      "POSES: <Relation: [u'rs2472297'][5] - [u'2.7', u'\\xd7', u'10', u'\\u2212', u'11'][17, 18, 19, 20, 21]>>\n",
      "<bound method Relation.mention2 of <Relation: [u'rs2472297'][5] - [u'2.7', u'\\xd7', u'10', u'\\u2212', u'11'][17, 18, 19, 20, 21]>\n",
      "Words: <Relation: [u'rs2472297'][5] - [u'2.7', u'\\xd7', u'10', u'\\u2212', u'11'][17, 18, 19, 20, 21]>\n",
      "Lemmas: <Relation: [u'rs2472297'][5] - [u'2.7', u'\\xd7', u'10', u'\\u2212', u'11'][17, 18, 19, 20, 21]>\n",
      "POSES: <Relation: [u'rs2472297'][5] - [u'2.7', u'\\xd7', u'10', u'\\u2212', u'11'][17, 18, 19, 20, 21]>>\n",
      "\n",
      "[1, 0, 0, 0, 0, 0]\n",
      "[0, -1, 0, -1]\n",
      "[u'-lrb-', u'p', u'-', u'value', u'=', u'1.6', u'\\xd7', u'10', u'\\u2212', u'11', u'and']\n",
      "\n",
      "----\n",
      "The chromosome 9q21 .31 SNP rs2378383 -LRB- p = 7.10 × 10 − 6 in the GWAS -RRB- , located upstream of transducin-like enhancer of split 4 -LRB- TLE4 -RRB- , gave a p-value of 0.03 and the same direction and magnitude of association in the replication study -LRB- combined p = 6.79 × 10 − 7 -RRB- .\n",
      "<bound method Relation.mention1 of <Relation: [u'rs2378383'][5] - [u'6.79', u'\\xd7', u'10', u'\\u2212', u'7'][52, 53, 54, 55, 56]>\n",
      "Words: <Relation: [u'rs2378383'][5] - [u'6.79', u'\\xd7', u'10', u'\\u2212', u'7'][52, 53, 54, 55, 56]>\n",
      "Lemmas: <Relation: [u'rs2378383'][5] - [u'6.79', u'\\xd7', u'10', u'\\u2212', u'7'][52, 53, 54, 55, 56]>\n",
      "POSES: <Relation: [u'rs2378383'][5] - [u'6.79', u'\\xd7', u'10', u'\\u2212', u'7'][52, 53, 54, 55, 56]>>\n",
      "<bound method Relation.mention2 of <Relation: [u'rs2378383'][5] - [u'6.79', u'\\xd7', u'10', u'\\u2212', u'7'][52, 53, 54, 55, 56]>\n",
      "Words: <Relation: [u'rs2378383'][5] - [u'6.79', u'\\xd7', u'10', u'\\u2212', u'7'][52, 53, 54, 55, 56]>\n",
      "Lemmas: <Relation: [u'rs2378383'][5] - [u'6.79', u'\\xd7', u'10', u'\\u2212', u'7'][52, 53, 54, 55, 56]>\n",
      "POSES: <Relation: [u'rs2378383'][5] - [u'6.79', u'\\xd7', u'10', u'\\u2212', u'7'][52, 53, 54, 55, 56]>>\n",
      "\n",
      "[0, 0, 0, 0, 0, 1]\n",
      "[-1, 0, 0, -1]\n",
      "[u'-lrb-', u'p', u'=', u'7.10', u'\\xd7', u'10', u'\\u2212', u'6', u'in', u'the', u'gwas', u'-rrb-', u',', u'located', u'upstream', u'of', u'transducin-like', u'enhancer', u'of', u'split', u'4', u'-lrb-', u'tle4', u'-rrb-', u',', u'give', u'a', u'p-value', u'of', u'0.03', u'and', u'the', u'same', u'direction', u'and', u'magnitude', u'of', u'association', u'in', u'the', u'replication', u'study', u'-lrb-', u'combined', u'p', u'=']\n",
      "\n",
      "----\n",
      "Furthermore , three SNPs , rs4985726 , rs3803800 , and rs11552708 in TNFRSF13B and TNFSF13 , were indicated to be associated with serum levels of IgG -LRB- P < 2.3 × 10 − 3 -RRB- and IgM -LRB- P < 0.018 -RRB- , while rs3803800 and rs11552708 were associated with IgA -LRB- P < 0.013 -RRB- .\n",
      "<bound method Relation.mention1 of <Relation: [u'rs4985726'][5] - [u'2.3', u'\\xd7', u'10', u'\\u2212', u'3'][29, 30, 31, 32, 33]>\n",
      "Words: <Relation: [u'rs4985726'][5] - [u'2.3', u'\\xd7', u'10', u'\\u2212', u'3'][29, 30, 31, 32, 33]>\n",
      "Lemmas: <Relation: [u'rs4985726'][5] - [u'2.3', u'\\xd7', u'10', u'\\u2212', u'3'][29, 30, 31, 32, 33]>\n",
      "POSES: <Relation: [u'rs4985726'][5] - [u'2.3', u'\\xd7', u'10', u'\\u2212', u'3'][29, 30, 31, 32, 33]>>\n",
      "<bound method Relation.mention2 of <Relation: [u'rs4985726'][5] - [u'2.3', u'\\xd7', u'10', u'\\u2212', u'3'][29, 30, 31, 32, 33]>\n",
      "Words: <Relation: [u'rs4985726'][5] - [u'2.3', u'\\xd7', u'10', u'\\u2212', u'3'][29, 30, 31, 32, 33]>\n",
      "Lemmas: <Relation: [u'rs4985726'][5] - [u'2.3', u'\\xd7', u'10', u'\\u2212', u'3'][29, 30, 31, 32, 33]>\n",
      "POSES: <Relation: [u'rs4985726'][5] - [u'2.3', u'\\xd7', u'10', u'\\u2212', u'3'][29, 30, 31, 32, 33]>>\n",
      "\n",
      "[1, 0, 0, 0, 0, 0]\n",
      "[0, 0, 0, -1]\n",
      "[u',', u'rs3803800', u',', u'and', u'rs11552708', u'in', u'tnfrsf13b', u'and', u'tnfsf13', u',', u'be', u'indicate', u'to', u'be', u'associate', u'with', u'serum', u'level', u'of', u'igg', u'-lrb-', u'p', u'<']\n",
      "\n",
      "----\n",
      "Furthermore , three SNPs , rs4985726 , rs3803800 , and rs11552708 in TNFRSF13B and TNFSF13 , were indicated to be associated with serum levels of IgG -LRB- P < 2.3 × 10 − 3 -RRB- and IgM -LRB- P < 0.018 -RRB- , while rs3803800 and rs11552708 were associated with IgA -LRB- P < 0.013 -RRB- .\n",
      "<bound method Relation.mention1 of <Relation: [u'rs3803800'][7] - [u'2.3', u'\\xd7', u'10', u'\\u2212', u'3'][29, 30, 31, 32, 33]>\n",
      "Words: <Relation: [u'rs3803800'][7] - [u'2.3', u'\\xd7', u'10', u'\\u2212', u'3'][29, 30, 31, 32, 33]>\n",
      "Lemmas: <Relation: [u'rs3803800'][7] - [u'2.3', u'\\xd7', u'10', u'\\u2212', u'3'][29, 30, 31, 32, 33]>\n",
      "POSES: <Relation: [u'rs3803800'][7] - [u'2.3', u'\\xd7', u'10', u'\\u2212', u'3'][29, 30, 31, 32, 33]>>\n",
      "<bound method Relation.mention2 of <Relation: [u'rs3803800'][7] - [u'2.3', u'\\xd7', u'10', u'\\u2212', u'3'][29, 30, 31, 32, 33]>\n",
      "Words: <Relation: [u'rs3803800'][7] - [u'2.3', u'\\xd7', u'10', u'\\u2212', u'3'][29, 30, 31, 32, 33]>\n",
      "Lemmas: <Relation: [u'rs3803800'][7] - [u'2.3', u'\\xd7', u'10', u'\\u2212', u'3'][29, 30, 31, 32, 33]>\n",
      "POSES: <Relation: [u'rs3803800'][7] - [u'2.3', u'\\xd7', u'10', u'\\u2212', u'3'][29, 30, 31, 32, 33]>>\n",
      "\n",
      "[1, 0, 0, 0, 0, 0]\n",
      "[0, 0, 0, -1]\n",
      "[u',', u'and', u'rs11552708', u'in', u'tnfrsf13b', u'and', u'tnfsf13', u',', u'be', u'indicate', u'to', u'be', u'associate', u'with', u'serum', u'level', u'of', u'igg', u'-lrb-', u'p', u'<']\n",
      "\n",
      "----\n",
      "Furthermore , three SNPs , rs4985726 , rs3803800 , and rs11552708 in TNFRSF13B and TNFSF13 , were indicated to be associated with serum levels of IgG -LRB- P < 2.3 × 10 − 3 -RRB- and IgM -LRB- P < 0.018 -RRB- , while rs3803800 and rs11552708 were associated with IgA -LRB- P < 0.013 -RRB- .\n",
      "<bound method Relation.mention1 of <Relation: [u'rs11552708'][10] - [u'2.3', u'\\xd7', u'10', u'\\u2212', u'3'][29, 30, 31, 32, 33]>\n",
      "Words: <Relation: [u'rs11552708'][10] - [u'2.3', u'\\xd7', u'10', u'\\u2212', u'3'][29, 30, 31, 32, 33]>\n",
      "Lemmas: <Relation: [u'rs11552708'][10] - [u'2.3', u'\\xd7', u'10', u'\\u2212', u'3'][29, 30, 31, 32, 33]>\n",
      "POSES: <Relation: [u'rs11552708'][10] - [u'2.3', u'\\xd7', u'10', u'\\u2212', u'3'][29, 30, 31, 32, 33]>>\n",
      "<bound method Relation.mention2 of <Relation: [u'rs11552708'][10] - [u'2.3', u'\\xd7', u'10', u'\\u2212', u'3'][29, 30, 31, 32, 33]>\n",
      "Words: <Relation: [u'rs11552708'][10] - [u'2.3', u'\\xd7', u'10', u'\\u2212', u'3'][29, 30, 31, 32, 33]>\n",
      "Lemmas: <Relation: [u'rs11552708'][10] - [u'2.3', u'\\xd7', u'10', u'\\u2212', u'3'][29, 30, 31, 32, 33]>\n",
      "POSES: <Relation: [u'rs11552708'][10] - [u'2.3', u'\\xd7', u'10', u'\\u2212', u'3'][29, 30, 31, 32, 33]>>\n",
      "\n",
      "[1, 0, 0, 0, 0, 0]\n",
      "[0, 0, 0, -1]\n",
      "[u'in', u'tnfrsf13b', u'and', u'tnfsf13', u',', u'be', u'indicate', u'to', u'be', u'associate', u'with', u'serum', u'level', u'of', u'igg', u'-lrb-', u'p', u'<']\n",
      "\n",
      "----\n",
      "Rs10007186 in 4q21 .2 was associated with serum levels of IgA -LRB- P = 0.036 -RRB- , IgM -LRB- P = 0.019 -RRB- , and IgE -LRB- P = 4.9 × 10 − 4 -RRB- .\n",
      "<bound method Relation.mention1 of <Relation: [u'Rs10007186'][0] - [u'4.9', u'\\xd7', u'10', u'\\u2212', u'4'][29, 30, 31, 32, 33]>\n",
      "Words: <Relation: [u'Rs10007186'][0] - [u'4.9', u'\\xd7', u'10', u'\\u2212', u'4'][29, 30, 31, 32, 33]>\n",
      "Lemmas: <Relation: [u'Rs10007186'][0] - [u'4.9', u'\\xd7', u'10', u'\\u2212', u'4'][29, 30, 31, 32, 33]>\n",
      "POSES: <Relation: [u'Rs10007186'][0] - [u'4.9', u'\\xd7', u'10', u'\\u2212', u'4'][29, 30, 31, 32, 33]>>\n",
      "<bound method Relation.mention2 of <Relation: [u'Rs10007186'][0] - [u'4.9', u'\\xd7', u'10', u'\\u2212', u'4'][29, 30, 31, 32, 33]>\n",
      "Words: <Relation: [u'Rs10007186'][0] - [u'4.9', u'\\xd7', u'10', u'\\u2212', u'4'][29, 30, 31, 32, 33]>\n",
      "Lemmas: <Relation: [u'Rs10007186'][0] - [u'4.9', u'\\xd7', u'10', u'\\u2212', u'4'][29, 30, 31, 32, 33]>\n",
      "POSES: <Relation: [u'Rs10007186'][0] - [u'4.9', u'\\xd7', u'10', u'\\u2212', u'4'][29, 30, 31, 32, 33]>>\n",
      "\n",
      "[0, 0, 0, 0, 0, 1]\n",
      "[-1, 0, 0, -1]\n",
      "[u'in', u'4q21', u'.2', u'be', u'associate', u'with', u'serum', u'level', u'of', u'iga', u'-lrb-', u'p', u'=', u'0.036', u'-rrb-', u',', u'igm', u'-lrb-', u'p', u'=', u'0.019', u'-rrb-', u',', u'and', u'ige', u'-lrb-', u'p', u'=']\n",
      "\n",
      "----\n",
      "We confirmed the previously - reported association of GCKR on chromosome 2p23 .3 with serum ALB -LRB- rs1260326 , P meta = 3.1 × 10 − 9 -RRB- , and additionally identified the significant genome-wide association of rs4985726 in TNFRSF13B on 17p11 .2 with both TP and NAP -LRB- P meta = 1.2 × 10 − 14 and 7.1 × 10 − 24 , respectively -RRB- .\n",
      "<bound method Relation.mention1 of <Relation: [u'rs4985726'][37] - [u'1.2', u'\\xd7', u'10', u'\\u2212', u'14'][52, 53, 54, 55, 56]>\n",
      "Words: <Relation: [u'rs4985726'][37] - [u'1.2', u'\\xd7', u'10', u'\\u2212', u'14'][52, 53, 54, 55, 56]>\n",
      "Lemmas: <Relation: [u'rs4985726'][37] - [u'1.2', u'\\xd7', u'10', u'\\u2212', u'14'][52, 53, 54, 55, 56]>\n",
      "POSES: <Relation: [u'rs4985726'][37] - [u'1.2', u'\\xd7', u'10', u'\\u2212', u'14'][52, 53, 54, 55, 56]>>\n",
      "<bound method Relation.mention2 of <Relation: [u'rs4985726'][37] - [u'1.2', u'\\xd7', u'10', u'\\u2212', u'14'][52, 53, 54, 55, 56]>\n",
      "Words: <Relation: [u'rs4985726'][37] - [u'1.2', u'\\xd7', u'10', u'\\u2212', u'14'][52, 53, 54, 55, 56]>\n",
      "Lemmas: <Relation: [u'rs4985726'][37] - [u'1.2', u'\\xd7', u'10', u'\\u2212', u'14'][52, 53, 54, 55, 56]>\n",
      "POSES: <Relation: [u'rs4985726'][37] - [u'1.2', u'\\xd7', u'10', u'\\u2212', u'14'][52, 53, 54, 55, 56]>>\n",
      "\n",
      "[1, 0, 0, 0, 0, 0]\n",
      "[0, 0, 0, -1]\n",
      "[u'in', u'tnfrsf13b', u'on', u'17p11', u'.2', u'with', u'both', u'tp', u'and', u'nap', u'-lrb-', u'p', u'meta', u'=']\n",
      "\n",
      "----\n",
      "We confirmed the previously - reported association of GCKR on chromosome 2p23 .3 with serum ALB -LRB- rs1260326 , P meta = 3.1 × 10 − 9 -RRB- , and additionally identified the significant genome-wide association of rs4985726 in TNFRSF13B on 17p11 .2 with both TP and NAP -LRB- P meta = 1.2 × 10 − 14 and 7.1 × 10 − 24 , respectively -RRB- .\n",
      "<bound method Relation.mention1 of <Relation: [u'rs4985726'][37] - [u'7.1', u'\\xd7', u'10', u'\\u2212', u'24'][58, 59, 60, 61, 62]>\n",
      "Words: <Relation: [u'rs4985726'][37] - [u'7.1', u'\\xd7', u'10', u'\\u2212', u'24'][58, 59, 60, 61, 62]>\n",
      "Lemmas: <Relation: [u'rs4985726'][37] - [u'7.1', u'\\xd7', u'10', u'\\u2212', u'24'][58, 59, 60, 61, 62]>\n",
      "POSES: <Relation: [u'rs4985726'][37] - [u'7.1', u'\\xd7', u'10', u'\\u2212', u'24'][58, 59, 60, 61, 62]>>\n",
      "<bound method Relation.mention2 of <Relation: [u'rs4985726'][37] - [u'7.1', u'\\xd7', u'10', u'\\u2212', u'24'][58, 59, 60, 61, 62]>\n",
      "Words: <Relation: [u'rs4985726'][37] - [u'7.1', u'\\xd7', u'10', u'\\u2212', u'24'][58, 59, 60, 61, 62]>\n",
      "Lemmas: <Relation: [u'rs4985726'][37] - [u'7.1', u'\\xd7', u'10', u'\\u2212', u'24'][58, 59, 60, 61, 62]>\n",
      "POSES: <Relation: [u'rs4985726'][37] - [u'7.1', u'\\xd7', u'10', u'\\u2212', u'24'][58, 59, 60, 61, 62]>>\n",
      "\n",
      "[1, 0, 0, 0, 0, 0]\n",
      "[0, -1, 0, -1]\n",
      "[u'in', u'tnfrsf13b', u'on', u'17p11', u'.2', u'with', u'both', u'tp', u'and', u'nap', u'-lrb-', u'p', u'meta', u'=', u'1.2', u'\\xd7', u'10', u'\\u2212', u'14', u'and']\n",
      "\n",
      "----\n",
      "For NAP , rs3803800 and rs11552708 in TNFSF13 on 17p13 .1 -LRB- P meta = 7.2 × 10 − 15 and 7.5 × 10 − 10 , respectively -RRB- as well as rs10007186 on 4q21 .2 near ANXA3 -LRB- P meta = 1.3 × 10 − 9 -RRB- also indicated significant associations .\n",
      "<bound method Relation.mention1 of <Relation: [u'rs3803800'][3] - [u'7.2', u'\\xd7', u'10', u'\\u2212', u'15'][15, 16, 17, 18, 19]>\n",
      "Words: <Relation: [u'rs3803800'][3] - [u'7.2', u'\\xd7', u'10', u'\\u2212', u'15'][15, 16, 17, 18, 19]>\n",
      "Lemmas: <Relation: [u'rs3803800'][3] - [u'7.2', u'\\xd7', u'10', u'\\u2212', u'15'][15, 16, 17, 18, 19]>\n",
      "POSES: <Relation: [u'rs3803800'][3] - [u'7.2', u'\\xd7', u'10', u'\\u2212', u'15'][15, 16, 17, 18, 19]>>\n",
      "<bound method Relation.mention2 of <Relation: [u'rs3803800'][3] - [u'7.2', u'\\xd7', u'10', u'\\u2212', u'15'][15, 16, 17, 18, 19]>\n",
      "Words: <Relation: [u'rs3803800'][3] - [u'7.2', u'\\xd7', u'10', u'\\u2212', u'15'][15, 16, 17, 18, 19]>\n",
      "Lemmas: <Relation: [u'rs3803800'][3] - [u'7.2', u'\\xd7', u'10', u'\\u2212', u'15'][15, 16, 17, 18, 19]>\n",
      "POSES: <Relation: [u'rs3803800'][3] - [u'7.2', u'\\xd7', u'10', u'\\u2212', u'15'][15, 16, 17, 18, 19]>>\n",
      "\n",
      "[1, 0, 0, 0, 0, 0]\n",
      "[0, 0, 0, -1]\n",
      "[u'and', u'rs11552708', u'in', u'tnfsf13', u'on', u'17p13', u'.1', u'-lrb-', u'p', u'meta', u'=']\n",
      "\n",
      "----\n",
      "For NAP , rs3803800 and rs11552708 in TNFSF13 on 17p13 .1 -LRB- P meta = 7.2 × 10 − 15 and 7.5 × 10 − 10 , respectively -RRB- as well as rs10007186 on 4q21 .2 near ANXA3 -LRB- P meta = 1.3 × 10 − 9 -RRB- also indicated significant associations .\n",
      "<bound method Relation.mention1 of <Relation: [u'rs3803800'][3] - [u'7.5', u'\\xd7', u'10', u'\\u2212', u'10'][21, 22, 23, 24, 25]>\n",
      "Words: <Relation: [u'rs3803800'][3] - [u'7.5', u'\\xd7', u'10', u'\\u2212', u'10'][21, 22, 23, 24, 25]>\n",
      "Lemmas: <Relation: [u'rs3803800'][3] - [u'7.5', u'\\xd7', u'10', u'\\u2212', u'10'][21, 22, 23, 24, 25]>\n",
      "POSES: <Relation: [u'rs3803800'][3] - [u'7.5', u'\\xd7', u'10', u'\\u2212', u'10'][21, 22, 23, 24, 25]>>\n",
      "<bound method Relation.mention2 of <Relation: [u'rs3803800'][3] - [u'7.5', u'\\xd7', u'10', u'\\u2212', u'10'][21, 22, 23, 24, 25]>\n",
      "Words: <Relation: [u'rs3803800'][3] - [u'7.5', u'\\xd7', u'10', u'\\u2212', u'10'][21, 22, 23, 24, 25]>\n",
      "Lemmas: <Relation: [u'rs3803800'][3] - [u'7.5', u'\\xd7', u'10', u'\\u2212', u'10'][21, 22, 23, 24, 25]>\n",
      "POSES: <Relation: [u'rs3803800'][3] - [u'7.5', u'\\xd7', u'10', u'\\u2212', u'10'][21, 22, 23, 24, 25]>>\n",
      "\n",
      "[1, 0, 0, 0, 0, 0]\n",
      "[0, 0, 0, -1]\n",
      "[u'and', u'rs11552708', u'in', u'tnfsf13', u'on', u'17p13', u'.1', u'-lrb-', u'p', u'meta', u'=', u'7.2', u'\\xd7', u'10', u'\\u2212', u'15', u'and']\n",
      "\n",
      "----\n",
      "For NAP , rs3803800 and rs11552708 in TNFSF13 on 17p13 .1 -LRB- P meta = 7.2 × 10 − 15 and 7.5 × 10 − 10 , respectively -RRB- as well as rs10007186 on 4q21 .2 near ANXA3 -LRB- P meta = 1.3 × 10 − 9 -RRB- also indicated significant associations .\n",
      "<bound method Relation.mention1 of <Relation: [u'rs11552708'][5] - [u'7.5', u'\\xd7', u'10', u'\\u2212', u'10'][21, 22, 23, 24, 25]>\n",
      "Words: <Relation: [u'rs11552708'][5] - [u'7.5', u'\\xd7', u'10', u'\\u2212', u'10'][21, 22, 23, 24, 25]>\n",
      "Lemmas: <Relation: [u'rs11552708'][5] - [u'7.5', u'\\xd7', u'10', u'\\u2212', u'10'][21, 22, 23, 24, 25]>\n",
      "POSES: <Relation: [u'rs11552708'][5] - [u'7.5', u'\\xd7', u'10', u'\\u2212', u'10'][21, 22, 23, 24, 25]>>\n",
      "<bound method Relation.mention2 of <Relation: [u'rs11552708'][5] - [u'7.5', u'\\xd7', u'10', u'\\u2212', u'10'][21, 22, 23, 24, 25]>\n",
      "Words: <Relation: [u'rs11552708'][5] - [u'7.5', u'\\xd7', u'10', u'\\u2212', u'10'][21, 22, 23, 24, 25]>\n",
      "Lemmas: <Relation: [u'rs11552708'][5] - [u'7.5', u'\\xd7', u'10', u'\\u2212', u'10'][21, 22, 23, 24, 25]>\n",
      "POSES: <Relation: [u'rs11552708'][5] - [u'7.5', u'\\xd7', u'10', u'\\u2212', u'10'][21, 22, 23, 24, 25]>>\n",
      "\n",
      "[1, 0, 0, 0, 0, 0]\n",
      "[0, -1, 0, -1]\n",
      "[u'in', u'tnfsf13', u'on', u'17p13', u'.1', u'-lrb-', u'p', u'meta', u'=', u'7.2', u'\\xd7', u'10', u'\\u2212', u'15', u'and']\n",
      "\n",
      "----\n",
      "Aside from the APOE locus , the strongest evidence for association was observed in an intergenic region on chromosome 4 -LRB- rs753129 ; ` AD+P vAD − P ' P = 2.85 × 10 − 7 ; ` AD+P vControls ' P = 1.11 × 10 − 4 -RRB- .\n",
      "<bound method Relation.mention1 of <Relation: [u'rs753129'][21] - [u'1.11', u'\\xd7', u'10', u'\\u2212', u'4'][43, 44, 45, 46, 47]>\n",
      "Words: <Relation: [u'rs753129'][21] - [u'1.11', u'\\xd7', u'10', u'\\u2212', u'4'][43, 44, 45, 46, 47]>\n",
      "Lemmas: <Relation: [u'rs753129'][21] - [u'1.11', u'\\xd7', u'10', u'\\u2212', u'4'][43, 44, 45, 46, 47]>\n",
      "POSES: <Relation: [u'rs753129'][21] - [u'1.11', u'\\xd7', u'10', u'\\u2212', u'4'][43, 44, 45, 46, 47]>>\n",
      "<bound method Relation.mention2 of <Relation: [u'rs753129'][21] - [u'1.11', u'\\xd7', u'10', u'\\u2212', u'4'][43, 44, 45, 46, 47]>\n",
      "Words: <Relation: [u'rs753129'][21] - [u'1.11', u'\\xd7', u'10', u'\\u2212', u'4'][43, 44, 45, 46, 47]>\n",
      "Lemmas: <Relation: [u'rs753129'][21] - [u'1.11', u'\\xd7', u'10', u'\\u2212', u'4'][43, 44, 45, 46, 47]>\n",
      "POSES: <Relation: [u'rs753129'][21] - [u'1.11', u'\\xd7', u'10', u'\\u2212', u'4'][43, 44, 45, 46, 47]>>\n",
      "\n",
      "[0, 1, 0, 0, 0, 1]\n",
      "[0, 0, -1, 0]\n",
      "[u';', u'`', u'ad+p', u'vad', u'\\u2212', u'p', u\"'\", u'p', u'=', u'2.85', u'\\xd7', u'10', u'\\u2212', u'7', u';', u'`', u'ad+p', u'vcontrol', u\"'\", u'p', u'=']\n",
      "\n",
      "----\n",
      "Conditional analyses on this signal revealed a secondary signal for total body BMD -LRB- P = 1.42 × 10 − 10 -RRB- for rs4609139 and mapping to C7orf58 .\n",
      "<bound method Relation.mention1 of <Relation: [u'rs4609139'][23] - [u'1.42', u'\\xd7', u'10', u'\\u2212', u'10'][16, 17, 18, 19, 20]>\n",
      "Words: <Relation: [u'rs4609139'][23] - [u'1.42', u'\\xd7', u'10', u'\\u2212', u'10'][16, 17, 18, 19, 20]>\n",
      "Lemmas: <Relation: [u'rs4609139'][23] - [u'1.42', u'\\xd7', u'10', u'\\u2212', u'10'][16, 17, 18, 19, 20]>\n",
      "POSES: <Relation: [u'rs4609139'][23] - [u'1.42', u'\\xd7', u'10', u'\\u2212', u'10'][16, 17, 18, 19, 20]>>\n",
      "<bound method Relation.mention2 of <Relation: [u'rs4609139'][23] - [u'1.42', u'\\xd7', u'10', u'\\u2212', u'10'][16, 17, 18, 19, 20]>\n",
      "Words: <Relation: [u'rs4609139'][23] - [u'1.42', u'\\xd7', u'10', u'\\u2212', u'10'][16, 17, 18, 19, 20]>\n",
      "Lemmas: <Relation: [u'rs4609139'][23] - [u'1.42', u'\\xd7', u'10', u'\\u2212', u'10'][16, 17, 18, 19, 20]>\n",
      "POSES: <Relation: [u'rs4609139'][23] - [u'1.42', u'\\xd7', u'10', u'\\u2212', u'10'][16, 17, 18, 19, 20]>>\n",
      "\n",
      "[0, 0, 0, 1, 0, 0]\n",
      "[-1, 0, 0, 0]\n",
      "[u'-rrb-', u'for']\n",
      "\n",
      "----\n",
      "We confirmed that CR1 -LRB- rs6701713 ; P M = 4.6 × 10 − 10 , P J = 5.2 × 10 − 11 -RRB- , CLU -LRB- rs1532278 ; P M = 8.3 × 10 − 8 , P J = 1.9 × 10 − 8 -RRB- , BIN1 -LRB- rs7561528 ; P M = 4.0 × 10 − 14 ; P J = 5.2 × 10 − 14 -RRB- , and PICALM -LRB- rs561655 ; P M = 7.0 × 10 − 11 , P J = 1.0 × 10 − 10 -RRB- but not EXOC3L2 are LOAD risk loci 1 -- 3 .\n",
      "<bound method Relation.mention1 of <Relation: [u'rs6701713'][5] - [u'5.2', u'\\xd7', u'10', u'\\u2212', u'11'][19, 20, 21, 22, 23]>\n",
      "Words: <Relation: [u'rs6701713'][5] - [u'5.2', u'\\xd7', u'10', u'\\u2212', u'11'][19, 20, 21, 22, 23]>\n",
      "Lemmas: <Relation: [u'rs6701713'][5] - [u'5.2', u'\\xd7', u'10', u'\\u2212', u'11'][19, 20, 21, 22, 23]>\n",
      "POSES: <Relation: [u'rs6701713'][5] - [u'5.2', u'\\xd7', u'10', u'\\u2212', u'11'][19, 20, 21, 22, 23]>>\n",
      "<bound method Relation.mention2 of <Relation: [u'rs6701713'][5] - [u'5.2', u'\\xd7', u'10', u'\\u2212', u'11'][19, 20, 21, 22, 23]>\n",
      "Words: <Relation: [u'rs6701713'][5] - [u'5.2', u'\\xd7', u'10', u'\\u2212', u'11'][19, 20, 21, 22, 23]>\n",
      "Lemmas: <Relation: [u'rs6701713'][5] - [u'5.2', u'\\xd7', u'10', u'\\u2212', u'11'][19, 20, 21, 22, 23]>\n",
      "POSES: <Relation: [u'rs6701713'][5] - [u'5.2', u'\\xd7', u'10', u'\\u2212', u'11'][19, 20, 21, 22, 23]>>\n",
      "\n",
      "[0, 1, 0, 0, 0, 0]\n",
      "[0, 0, -1, 0]\n",
      "[u';', u'p', u'm', u'=', u'4.6', u'\\xd7', u'10', u'\\u2212', u'10', u',', u'p', u'j', u'=']\n",
      "\n",
      "----\n",
      "We confirmed that CR1 -LRB- rs6701713 ; P M = 4.6 × 10 − 10 , P J = 5.2 × 10 − 11 -RRB- , CLU -LRB- rs1532278 ; P M = 8.3 × 10 − 8 , P J = 1.9 × 10 − 8 -RRB- , BIN1 -LRB- rs7561528 ; P M = 4.0 × 10 − 14 ; P J = 5.2 × 10 − 14 -RRB- , and PICALM -LRB- rs561655 ; P M = 7.0 × 10 − 11 , P J = 1.0 × 10 − 10 -RRB- but not EXOC3L2 are LOAD risk loci 1 -- 3 .\n",
      "<bound method Relation.mention1 of <Relation: [u'rs1532278'][28] - [u'1.9', u'\\xd7', u'10', u'\\u2212', u'8'][42, 43, 44, 45, 46]>\n",
      "Words: <Relation: [u'rs1532278'][28] - [u'1.9', u'\\xd7', u'10', u'\\u2212', u'8'][42, 43, 44, 45, 46]>\n",
      "Lemmas: <Relation: [u'rs1532278'][28] - [u'1.9', u'\\xd7', u'10', u'\\u2212', u'8'][42, 43, 44, 45, 46]>\n",
      "POSES: <Relation: [u'rs1532278'][28] - [u'1.9', u'\\xd7', u'10', u'\\u2212', u'8'][42, 43, 44, 45, 46]>>\n",
      "<bound method Relation.mention2 of <Relation: [u'rs1532278'][28] - [u'1.9', u'\\xd7', u'10', u'\\u2212', u'8'][42, 43, 44, 45, 46]>\n",
      "Words: <Relation: [u'rs1532278'][28] - [u'1.9', u'\\xd7', u'10', u'\\u2212', u'8'][42, 43, 44, 45, 46]>\n",
      "Lemmas: <Relation: [u'rs1532278'][28] - [u'1.9', u'\\xd7', u'10', u'\\u2212', u'8'][42, 43, 44, 45, 46]>\n",
      "POSES: <Relation: [u'rs1532278'][28] - [u'1.9', u'\\xd7', u'10', u'\\u2212', u'8'][42, 43, 44, 45, 46]>>\n",
      "\n",
      "[0, 1, 0, 0, 0, 0]\n",
      "[0, 0, -1, 0]\n",
      "[u';', u'p', u'm', u'=', u'8.3', u'\\xd7', u'10', u'\\u2212', u'8', u',', u'p', u'j', u'=']\n",
      "\n",
      "----\n",
      "We confirmed that CR1 -LRB- rs6701713 ; P M = 4.6 × 10 − 10 , P J = 5.2 × 10 − 11 -RRB- , CLU -LRB- rs1532278 ; P M = 8.3 × 10 − 8 , P J = 1.9 × 10 − 8 -RRB- , BIN1 -LRB- rs7561528 ; P M = 4.0 × 10 − 14 ; P J = 5.2 × 10 − 14 -RRB- , and PICALM -LRB- rs561655 ; P M = 7.0 × 10 − 11 , P J = 1.0 × 10 − 10 -RRB- but not EXOC3L2 are LOAD risk loci 1 -- 3 .\n",
      "<bound method Relation.mention1 of <Relation: [u'rs7561528'][51] - [u'5.2', u'\\xd7', u'10', u'\\u2212', u'14'][65, 66, 67, 68, 69]>\n",
      "Words: <Relation: [u'rs7561528'][51] - [u'5.2', u'\\xd7', u'10', u'\\u2212', u'14'][65, 66, 67, 68, 69]>\n",
      "Lemmas: <Relation: [u'rs7561528'][51] - [u'5.2', u'\\xd7', u'10', u'\\u2212', u'14'][65, 66, 67, 68, 69]>\n",
      "POSES: <Relation: [u'rs7561528'][51] - [u'5.2', u'\\xd7', u'10', u'\\u2212', u'14'][65, 66, 67, 68, 69]>>\n",
      "<bound method Relation.mention2 of <Relation: [u'rs7561528'][51] - [u'5.2', u'\\xd7', u'10', u'\\u2212', u'14'][65, 66, 67, 68, 69]>\n",
      "Words: <Relation: [u'rs7561528'][51] - [u'5.2', u'\\xd7', u'10', u'\\u2212', u'14'][65, 66, 67, 68, 69]>\n",
      "Lemmas: <Relation: [u'rs7561528'][51] - [u'5.2', u'\\xd7', u'10', u'\\u2212', u'14'][65, 66, 67, 68, 69]>\n",
      "POSES: <Relation: [u'rs7561528'][51] - [u'5.2', u'\\xd7', u'10', u'\\u2212', u'14'][65, 66, 67, 68, 69]>>\n",
      "\n",
      "[0, 1, 0, 0, 0, 0]\n",
      "[0, 0, -1, 0]\n",
      "[u';', u'p', u'm', u'=', u'4.0', u'\\xd7', u'10', u'\\u2212', u'14', u';', u'p', u'j', u'=']\n",
      "\n",
      "----\n",
      "We confirmed that CR1 -LRB- rs6701713 ; P M = 4.6 × 10 − 10 , P J = 5.2 × 10 − 11 -RRB- , CLU -LRB- rs1532278 ; P M = 8.3 × 10 − 8 , P J = 1.9 × 10 − 8 -RRB- , BIN1 -LRB- rs7561528 ; P M = 4.0 × 10 − 14 ; P J = 5.2 × 10 − 14 -RRB- , and PICALM -LRB- rs561655 ; P M = 7.0 × 10 − 11 , P J = 1.0 × 10 − 10 -RRB- but not EXOC3L2 are LOAD risk loci 1 -- 3 .\n",
      "<bound method Relation.mention1 of <Relation: [u'rs561655'][75] - [u'1.0', u'\\xd7', u'10', u'\\u2212', u'10'][89, 90, 91, 92, 93]>\n",
      "Words: <Relation: [u'rs561655'][75] - [u'1.0', u'\\xd7', u'10', u'\\u2212', u'10'][89, 90, 91, 92, 93]>\n",
      "Lemmas: <Relation: [u'rs561655'][75] - [u'1.0', u'\\xd7', u'10', u'\\u2212', u'10'][89, 90, 91, 92, 93]>\n",
      "POSES: <Relation: [u'rs561655'][75] - [u'1.0', u'\\xd7', u'10', u'\\u2212', u'10'][89, 90, 91, 92, 93]>>\n",
      "<bound method Relation.mention2 of <Relation: [u'rs561655'][75] - [u'1.0', u'\\xd7', u'10', u'\\u2212', u'10'][89, 90, 91, 92, 93]>\n",
      "Words: <Relation: [u'rs561655'][75] - [u'1.0', u'\\xd7', u'10', u'\\u2212', u'10'][89, 90, 91, 92, 93]>\n",
      "Lemmas: <Relation: [u'rs561655'][75] - [u'1.0', u'\\xd7', u'10', u'\\u2212', u'10'][89, 90, 91, 92, 93]>\n",
      "POSES: <Relation: [u'rs561655'][75] - [u'1.0', u'\\xd7', u'10', u'\\u2212', u'10'][89, 90, 91, 92, 93]>>\n",
      "\n",
      "[0, 1, 0, 0, 0, 0]\n",
      "[0, 0, -1, 0]\n",
      "[u';', u'p', u'm', u'=', u'7.0', u'\\xd7', u'10', u'\\u2212', u'11', u',', u'p', u'j', u'=']\n",
      "\n",
      "----\n",
      "We obtained genome-wide significant results at MS4A4A -LSB- rs4938933 ; Stages 1 +2 , meta - analysis -LRB- P M -RRB- = 1.7 × 10 − 9 , joint analysis -LRB- P J -RRB- = 1.7 × 10 − 9 ; Stages 1 -- 3 , P M = 8.2 × 10 − 12 -RSB- , CD2AP -LRB- rs9349407 ; Stages 1 -- 3 , P M = 8.6 × 10 − 9 -RRB- , EPHA1 -LRB- rs11767557 ; Stages 1 -- 3 P M = 6.0 × 10 − 10 -RRB- , and CD33 -LRB- rs3865444 ; Stages 1 -- 3 , P M = 1.6 × 10 − 9 -RRB- .\n",
      "<bound method Relation.mention1 of <Relation: [u'rs9349407'][58] - [u'8.6', u'\\xd7', u'10', u'\\u2212', u'9'][68, 69, 70, 71, 72]>\n",
      "Words: <Relation: [u'rs9349407'][58] - [u'8.6', u'\\xd7', u'10', u'\\u2212', u'9'][68, 69, 70, 71, 72]>\n",
      "Lemmas: <Relation: [u'rs9349407'][58] - [u'8.6', u'\\xd7', u'10', u'\\u2212', u'9'][68, 69, 70, 71, 72]>\n",
      "POSES: <Relation: [u'rs9349407'][58] - [u'8.6', u'\\xd7', u'10', u'\\u2212', u'9'][68, 69, 70, 71, 72]>>\n",
      "<bound method Relation.mention2 of <Relation: [u'rs9349407'][58] - [u'8.6', u'\\xd7', u'10', u'\\u2212', u'9'][68, 69, 70, 71, 72]>\n",
      "Words: <Relation: [u'rs9349407'][58] - [u'8.6', u'\\xd7', u'10', u'\\u2212', u'9'][68, 69, 70, 71, 72]>\n",
      "Lemmas: <Relation: [u'rs9349407'][58] - [u'8.6', u'\\xd7', u'10', u'\\u2212', u'9'][68, 69, 70, 71, 72]>\n",
      "POSES: <Relation: [u'rs9349407'][58] - [u'8.6', u'\\xd7', u'10', u'\\u2212', u'9'][68, 69, 70, 71, 72]>>\n",
      "\n",
      "[0, 1, 0, 0, 0, 0]\n",
      "[0, 0, -1, 0]\n",
      "[u';', u'stage', u'1', u'--', u'3', u',', u'p', u'm', u'=']\n",
      "\n",
      "----\n",
      "We obtained genome-wide significant results at MS4A4A -LSB- rs4938933 ; Stages 1 +2 , meta - analysis -LRB- P M -RRB- = 1.7 × 10 − 9 , joint analysis -LRB- P J -RRB- = 1.7 × 10 − 9 ; Stages 1 -- 3 , P M = 8.2 × 10 − 12 -RSB- , CD2AP -LRB- rs9349407 ; Stages 1 -- 3 , P M = 8.6 × 10 − 9 -RRB- , EPHA1 -LRB- rs11767557 ; Stages 1 -- 3 P M = 6.0 × 10 − 10 -RRB- , and CD33 -LRB- rs3865444 ; Stages 1 -- 3 , P M = 1.6 × 10 − 9 -RRB- .\n",
      "<bound method Relation.mention1 of <Relation: [u'rs11767557'][77] - [u'6.0', u'\\xd7', u'10', u'\\u2212', u'10'][86, 87, 88, 89, 90]>\n",
      "Words: <Relation: [u'rs11767557'][77] - [u'6.0', u'\\xd7', u'10', u'\\u2212', u'10'][86, 87, 88, 89, 90]>\n",
      "Lemmas: <Relation: [u'rs11767557'][77] - [u'6.0', u'\\xd7', u'10', u'\\u2212', u'10'][86, 87, 88, 89, 90]>\n",
      "POSES: <Relation: [u'rs11767557'][77] - [u'6.0', u'\\xd7', u'10', u'\\u2212', u'10'][86, 87, 88, 89, 90]>>\n",
      "<bound method Relation.mention2 of <Relation: [u'rs11767557'][77] - [u'6.0', u'\\xd7', u'10', u'\\u2212', u'10'][86, 87, 88, 89, 90]>\n",
      "Words: <Relation: [u'rs11767557'][77] - [u'6.0', u'\\xd7', u'10', u'\\u2212', u'10'][86, 87, 88, 89, 90]>\n",
      "Lemmas: <Relation: [u'rs11767557'][77] - [u'6.0', u'\\xd7', u'10', u'\\u2212', u'10'][86, 87, 88, 89, 90]>\n",
      "POSES: <Relation: [u'rs11767557'][77] - [u'6.0', u'\\xd7', u'10', u'\\u2212', u'10'][86, 87, 88, 89, 90]>>\n",
      "\n",
      "[0, 1, 0, 0, 0, 0]\n",
      "[0, 0, -1, 0]\n",
      "[u';', u'stage', u'1', u'--', u'3', u'p', u'm', u'=']\n",
      "\n",
      "----\n",
      "We obtained genome-wide significant results at MS4A4A -LSB- rs4938933 ; Stages 1 +2 , meta - analysis -LRB- P M -RRB- = 1.7 × 10 − 9 , joint analysis -LRB- P J -RRB- = 1.7 × 10 − 9 ; Stages 1 -- 3 , P M = 8.2 × 10 − 12 -RSB- , CD2AP -LRB- rs9349407 ; Stages 1 -- 3 , P M = 8.6 × 10 − 9 -RRB- , EPHA1 -LRB- rs11767557 ; Stages 1 -- 3 P M = 6.0 × 10 − 10 -RRB- , and CD33 -LRB- rs3865444 ; Stages 1 -- 3 , P M = 1.6 × 10 − 9 -RRB- .\n",
      "<bound method Relation.mention1 of <Relation: [u'rs3865444'][96] - [u'1.6', u'\\xd7', u'10', u'\\u2212', u'9'][106, 107, 108, 109, 110]>\n",
      "Words: <Relation: [u'rs3865444'][96] - [u'1.6', u'\\xd7', u'10', u'\\u2212', u'9'][106, 107, 108, 109, 110]>\n",
      "Lemmas: <Relation: [u'rs3865444'][96] - [u'1.6', u'\\xd7', u'10', u'\\u2212', u'9'][106, 107, 108, 109, 110]>\n",
      "POSES: <Relation: [u'rs3865444'][96] - [u'1.6', u'\\xd7', u'10', u'\\u2212', u'9'][106, 107, 108, 109, 110]>>\n",
      "<bound method Relation.mention2 of <Relation: [u'rs3865444'][96] - [u'1.6', u'\\xd7', u'10', u'\\u2212', u'9'][106, 107, 108, 109, 110]>\n",
      "Words: <Relation: [u'rs3865444'][96] - [u'1.6', u'\\xd7', u'10', u'\\u2212', u'9'][106, 107, 108, 109, 110]>\n",
      "Lemmas: <Relation: [u'rs3865444'][96] - [u'1.6', u'\\xd7', u'10', u'\\u2212', u'9'][106, 107, 108, 109, 110]>\n",
      "POSES: <Relation: [u'rs3865444'][96] - [u'1.6', u'\\xd7', u'10', u'\\u2212', u'9'][106, 107, 108, 109, 110]>>\n",
      "\n",
      "[0, 1, 0, 0, 0, 0]\n",
      "[0, 0, -1, 0]\n",
      "[u';', u'stage', u'1', u'--', u'3', u',', u'p', u'm', u'=']\n",
      "\n",
      "----\n",
      "Rs900400 near LEKR1 and CCNL1 -LRB- P = 2 × 10 − 35 -RRB- , and rs9883204 in ADCY5 -LRB- P = 7 × 10 − 15 -RRB- were robustly associated with birth weight .\n",
      "<bound method Relation.mention1 of <Relation: [u'Rs900400'][0] - [u'2', u'\\xd7', u'10', u'\\u2212', u'35'][8, 9, 10, 11, 12]>\n",
      "Words: <Relation: [u'Rs900400'][0] - [u'2', u'\\xd7', u'10', u'\\u2212', u'35'][8, 9, 10, 11, 12]>\n",
      "Lemmas: <Relation: [u'Rs900400'][0] - [u'2', u'\\xd7', u'10', u'\\u2212', u'35'][8, 9, 10, 11, 12]>\n",
      "POSES: <Relation: [u'Rs900400'][0] - [u'2', u'\\xd7', u'10', u'\\u2212', u'35'][8, 9, 10, 11, 12]>>\n",
      "<bound method Relation.mention2 of <Relation: [u'Rs900400'][0] - [u'2', u'\\xd7', u'10', u'\\u2212', u'35'][8, 9, 10, 11, 12]>\n",
      "Words: <Relation: [u'Rs900400'][0] - [u'2', u'\\xd7', u'10', u'\\u2212', u'35'][8, 9, 10, 11, 12]>\n",
      "Lemmas: <Relation: [u'Rs900400'][0] - [u'2', u'\\xd7', u'10', u'\\u2212', u'35'][8, 9, 10, 11, 12]>\n",
      "POSES: <Relation: [u'Rs900400'][0] - [u'2', u'\\xd7', u'10', u'\\u2212', u'35'][8, 9, 10, 11, 12]>>\n",
      "\n",
      "[1, 0, 0, 0, 0, 0]\n",
      "[0, 0, 0, -1]\n",
      "[u'near', u'lekr1', u'and', u'ccnl1', u'-lrb-', u'p', u'=']\n",
      "\n",
      "----\n",
      "SNPs at the adiponectin-encoding ADIPOQ locus demonstrated the strongest associations with adiponectin levels -LRB- P-combined = 9.2 × 10 − 19 for lead SNP , rs266717 , n = 14,733 -RRB- .\n",
      "<bound method Relation.mention1 of <Relation: [u'rs266717'][25] - [u'9.2', u'\\xd7', u'10', u'\\u2212', u'19'][16, 17, 18, 19, 20]>\n",
      "Words: <Relation: [u'rs266717'][25] - [u'9.2', u'\\xd7', u'10', u'\\u2212', u'19'][16, 17, 18, 19, 20]>\n",
      "Lemmas: <Relation: [u'rs266717'][25] - [u'9.2', u'\\xd7', u'10', u'\\u2212', u'19'][16, 17, 18, 19, 20]>\n",
      "POSES: <Relation: [u'rs266717'][25] - [u'9.2', u'\\xd7', u'10', u'\\u2212', u'19'][16, 17, 18, 19, 20]>>\n",
      "<bound method Relation.mention2 of <Relation: [u'rs266717'][25] - [u'9.2', u'\\xd7', u'10', u'\\u2212', u'19'][16, 17, 18, 19, 20]>\n",
      "Words: <Relation: [u'rs266717'][25] - [u'9.2', u'\\xd7', u'10', u'\\u2212', u'19'][16, 17, 18, 19, 20]>\n",
      "Lemmas: <Relation: [u'rs266717'][25] - [u'9.2', u'\\xd7', u'10', u'\\u2212', u'19'][16, 17, 18, 19, 20]>\n",
      "POSES: <Relation: [u'rs266717'][25] - [u'9.2', u'\\xd7', u'10', u'\\u2212', u'19'][16, 17, 18, 19, 20]>>\n",
      "\n",
      "[0, 0, 0, 1, 0, 0]\n",
      "[0, -1, 0, 0]\n",
      "[u'for', u'lead', u'snp', u',']\n",
      "\n",
      "----\n",
      "Through a GWAS using a total of 5,892 cases and 17,809 controls , we identified three novel nephrolithiasis loci : rs11746443 , rs1000597 , and rs4142110 -LRB- P < 1 × 10 − 8 -RRB- .\n",
      "<bound method Relation.mention1 of <Relation: [u'rs11746443'][20] - [u'1', u'\\xd7', u'10', u'\\u2212', u'8'][29, 30, 31, 32, 33]>\n",
      "Words: <Relation: [u'rs11746443'][20] - [u'1', u'\\xd7', u'10', u'\\u2212', u'8'][29, 30, 31, 32, 33]>\n",
      "Lemmas: <Relation: [u'rs11746443'][20] - [u'1', u'\\xd7', u'10', u'\\u2212', u'8'][29, 30, 31, 32, 33]>\n",
      "POSES: <Relation: [u'rs11746443'][20] - [u'1', u'\\xd7', u'10', u'\\u2212', u'8'][29, 30, 31, 32, 33]>>\n",
      "<bound method Relation.mention2 of <Relation: [u'rs11746443'][20] - [u'1', u'\\xd7', u'10', u'\\u2212', u'8'][29, 30, 31, 32, 33]>\n",
      "Words: <Relation: [u'rs11746443'][20] - [u'1', u'\\xd7', u'10', u'\\u2212', u'8'][29, 30, 31, 32, 33]>\n",
      "Lemmas: <Relation: [u'rs11746443'][20] - [u'1', u'\\xd7', u'10', u'\\u2212', u'8'][29, 30, 31, 32, 33]>\n",
      "POSES: <Relation: [u'rs11746443'][20] - [u'1', u'\\xd7', u'10', u'\\u2212', u'8'][29, 30, 31, 32, 33]>>\n",
      "\n",
      "[1, 0, 0, 0, 0, 0]\n",
      "[0, 0, 0, -1]\n",
      "[u',', u'rs1000597', u',', u'and', u'rs4142110', u'-lrb-', u'p', u'<']\n",
      "\n",
      "----\n",
      "Through a GWAS using a total of 5,892 cases and 17,809 controls , we identified three novel nephrolithiasis loci : rs11746443 , rs1000597 , and rs4142110 -LRB- P < 1 × 10 − 8 -RRB- .\n",
      "<bound method Relation.mention1 of <Relation: [u'rs1000597'][22] - [u'1', u'\\xd7', u'10', u'\\u2212', u'8'][29, 30, 31, 32, 33]>\n",
      "Words: <Relation: [u'rs1000597'][22] - [u'1', u'\\xd7', u'10', u'\\u2212', u'8'][29, 30, 31, 32, 33]>\n",
      "Lemmas: <Relation: [u'rs1000597'][22] - [u'1', u'\\xd7', u'10', u'\\u2212', u'8'][29, 30, 31, 32, 33]>\n",
      "POSES: <Relation: [u'rs1000597'][22] - [u'1', u'\\xd7', u'10', u'\\u2212', u'8'][29, 30, 31, 32, 33]>>\n",
      "<bound method Relation.mention2 of <Relation: [u'rs1000597'][22] - [u'1', u'\\xd7', u'10', u'\\u2212', u'8'][29, 30, 31, 32, 33]>\n",
      "Words: <Relation: [u'rs1000597'][22] - [u'1', u'\\xd7', u'10', u'\\u2212', u'8'][29, 30, 31, 32, 33]>\n",
      "Lemmas: <Relation: [u'rs1000597'][22] - [u'1', u'\\xd7', u'10', u'\\u2212', u'8'][29, 30, 31, 32, 33]>\n",
      "POSES: <Relation: [u'rs1000597'][22] - [u'1', u'\\xd7', u'10', u'\\u2212', u'8'][29, 30, 31, 32, 33]>>\n",
      "\n",
      "[1, 0, 0, 0, 0, 0]\n",
      "[0, 0, 0, -1]\n",
      "[u',', u'and', u'rs4142110', u'-lrb-', u'p', u'<']\n",
      "\n",
      "----\n",
      "Functional variants in the gene encoding the alpha chain of the high affinity receptor for IgE -LRB- FCER1A -RRB- on chromosome 1q23 -LRB- rs2251746 and rs2427837 -RRB- were strongly associated with total IgE levels in all cohorts with P values of 1.85 × 10 − 20 and 7.08 × 10 − 19 in a combined analysis , and in a post-hoc analysis showed additional associations with allergic sensitization -LRB- P = 7.78 × 10 − 4 and P = 1.95 × 10 − 3 -RRB- .\n",
      "<bound method Relation.mention1 of <Relation: [u'rs2427837'][25] - [u'1.95', u'\\xd7', u'10', u'\\u2212', u'3'][79, 80, 81, 82, 83]>\n",
      "Words: <Relation: [u'rs2427837'][25] - [u'1.95', u'\\xd7', u'10', u'\\u2212', u'3'][79, 80, 81, 82, 83]>\n",
      "Lemmas: <Relation: [u'rs2427837'][25] - [u'1.95', u'\\xd7', u'10', u'\\u2212', u'3'][79, 80, 81, 82, 83]>\n",
      "POSES: <Relation: [u'rs2427837'][25] - [u'1.95', u'\\xd7', u'10', u'\\u2212', u'3'][79, 80, 81, 82, 83]>>\n",
      "<bound method Relation.mention2 of <Relation: [u'rs2427837'][25] - [u'1.95', u'\\xd7', u'10', u'\\u2212', u'3'][79, 80, 81, 82, 83]>\n",
      "Words: <Relation: [u'rs2427837'][25] - [u'1.95', u'\\xd7', u'10', u'\\u2212', u'3'][79, 80, 81, 82, 83]>\n",
      "Lemmas: <Relation: [u'rs2427837'][25] - [u'1.95', u'\\xd7', u'10', u'\\u2212', u'3'][79, 80, 81, 82, 83]>\n",
      "POSES: <Relation: [u'rs2427837'][25] - [u'1.95', u'\\xd7', u'10', u'\\u2212', u'3'][79, 80, 81, 82, 83]>>\n",
      "\n",
      "[0, 0, 0, 0, 0, 1]\n",
      "[-1, 0, 0, -1]\n",
      "[u'-rrb-', u'be', u'strongly', u'associate', u'with', u'total', u'ige', u'level', u'in', u'all', u'cohort', u'with', u'p', u'value', u'of', u'1.85', u'\\xd7', u'10', u'\\u2212', u'20', u'and', u'7.08', u'\\xd7', u'10', u'\\u2212', u'19', u'in', u'a', u'combined', u'analysis', u',', u'and', u'in', u'a', u'post-hoc', u'analysis', u'show', u'additional', u'association', u'with', u'allergic', u'sensitization', u'-lrb-', u'p', u'=', u'7.78', u'\\xd7', u'10', u'\\u2212', u'4', u'and', u'p', u'=']\n",
      "\n",
      "----\n",
      "We identify an association of SNPs in TPMRSS6 to serum iron -LRB- rs855791 , combined P = 1.5 × 10 − 20 -RRB- , transferrin saturation -LRB- combined P = 2.2 × 10 − 23 -RRB- , and erythrocyte mean cell volume -LRB- MCV , combined P = 1.1 × 10 − 10 -RRB- .\n",
      "<bound method Relation.mention1 of <Relation: [u'rs855791'][12] - [u'2.2', u'\\xd7', u'10', u'\\u2212', u'23'][30, 31, 32, 33, 34]>\n",
      "Words: <Relation: [u'rs855791'][12] - [u'2.2', u'\\xd7', u'10', u'\\u2212', u'23'][30, 31, 32, 33, 34]>\n",
      "Lemmas: <Relation: [u'rs855791'][12] - [u'2.2', u'\\xd7', u'10', u'\\u2212', u'23'][30, 31, 32, 33, 34]>\n",
      "POSES: <Relation: [u'rs855791'][12] - [u'2.2', u'\\xd7', u'10', u'\\u2212', u'23'][30, 31, 32, 33, 34]>>\n",
      "<bound method Relation.mention2 of <Relation: [u'rs855791'][12] - [u'2.2', u'\\xd7', u'10', u'\\u2212', u'23'][30, 31, 32, 33, 34]>\n",
      "Words: <Relation: [u'rs855791'][12] - [u'2.2', u'\\xd7', u'10', u'\\u2212', u'23'][30, 31, 32, 33, 34]>\n",
      "Lemmas: <Relation: [u'rs855791'][12] - [u'2.2', u'\\xd7', u'10', u'\\u2212', u'23'][30, 31, 32, 33, 34]>\n",
      "POSES: <Relation: [u'rs855791'][12] - [u'2.2', u'\\xd7', u'10', u'\\u2212', u'23'][30, 31, 32, 33, 34]>>\n",
      "\n",
      "[0, 0, 0, 0, 0, 1]\n",
      "[-1, 0, 0, 0]\n",
      "[u',', u'combine', u'p', u'=', u'1.5', u'\\xd7', u'10', u'\\u2212', u'20', u'-rrb-', u',', u'transferrin', u'saturation', u'-lrb-', u'combined', u'p', u'=']\n",
      "\n",
      "----\n",
      "We identify an association of SNPs in TPMRSS6 to serum iron -LRB- rs855791 , combined P = 1.5 × 10 − 20 -RRB- , transferrin saturation -LRB- combined P = 2.2 × 10 − 23 -RRB- , and erythrocyte mean cell volume -LRB- MCV , combined P = 1.1 × 10 − 10 -RRB- .\n",
      "<bound method Relation.mention1 of <Relation: [u'rs855791'][12] - [u'1.1', u'\\xd7', u'10', u'\\u2212', u'10'][48, 49, 50, 51, 52]>\n",
      "Words: <Relation: [u'rs855791'][12] - [u'1.1', u'\\xd7', u'10', u'\\u2212', u'10'][48, 49, 50, 51, 52]>\n",
      "Lemmas: <Relation: [u'rs855791'][12] - [u'1.1', u'\\xd7', u'10', u'\\u2212', u'10'][48, 49, 50, 51, 52]>\n",
      "POSES: <Relation: [u'rs855791'][12] - [u'1.1', u'\\xd7', u'10', u'\\u2212', u'10'][48, 49, 50, 51, 52]>>\n",
      "<bound method Relation.mention2 of <Relation: [u'rs855791'][12] - [u'1.1', u'\\xd7', u'10', u'\\u2212', u'10'][48, 49, 50, 51, 52]>\n",
      "Words: <Relation: [u'rs855791'][12] - [u'1.1', u'\\xd7', u'10', u'\\u2212', u'10'][48, 49, 50, 51, 52]>\n",
      "Lemmas: <Relation: [u'rs855791'][12] - [u'1.1', u'\\xd7', u'10', u'\\u2212', u'10'][48, 49, 50, 51, 52]>\n",
      "POSES: <Relation: [u'rs855791'][12] - [u'1.1', u'\\xd7', u'10', u'\\u2212', u'10'][48, 49, 50, 51, 52]>>\n",
      "\n",
      "[0, 0, 0, 0, 0, 1]\n",
      "[-1, 0, 0, -1]\n",
      "[u',', u'combine', u'p', u'=', u'1.5', u'\\xd7', u'10', u'\\u2212', u'20', u'-rrb-', u',', u'transferrin', u'saturation', u'-lrb-', u'combined', u'p', u'=', u'2.2', u'\\xd7', u'10', u'\\u2212', u'23', u'-rrb-', u',', u'and', u'erythrocyte', u'mean', u'cell', u'volume', u'-lrb-', u'mcv', u',', u'combine', u'p', u'=']\n",
      "\n",
      "----\n",
      "Furthermore , we confirmed the role of the MHC in disease etiology by revealing a strong HLA association -LRB- rs6903608 ; OR = 1.70 , P combined = 2.84 × 10 − 50 -RRB- .\n",
      "<bound method Relation.mention1 of <Relation: [u'rs6903608'][19] - [u'2.84', u'\\xd7', u'10', u'\\u2212', u'50'][28, 29, 30, 31, 32]>\n",
      "Words: <Relation: [u'rs6903608'][19] - [u'2.84', u'\\xd7', u'10', u'\\u2212', u'50'][28, 29, 30, 31, 32]>\n",
      "Lemmas: <Relation: [u'rs6903608'][19] - [u'2.84', u'\\xd7', u'10', u'\\u2212', u'50'][28, 29, 30, 31, 32]>\n",
      "POSES: <Relation: [u'rs6903608'][19] - [u'2.84', u'\\xd7', u'10', u'\\u2212', u'50'][28, 29, 30, 31, 32]>>\n",
      "<bound method Relation.mention2 of <Relation: [u'rs6903608'][19] - [u'2.84', u'\\xd7', u'10', u'\\u2212', u'50'][28, 29, 30, 31, 32]>\n",
      "Words: <Relation: [u'rs6903608'][19] - [u'2.84', u'\\xd7', u'10', u'\\u2212', u'50'][28, 29, 30, 31, 32]>\n",
      "Lemmas: <Relation: [u'rs6903608'][19] - [u'2.84', u'\\xd7', u'10', u'\\u2212', u'50'][28, 29, 30, 31, 32]>\n",
      "POSES: <Relation: [u'rs6903608'][19] - [u'2.84', u'\\xd7', u'10', u'\\u2212', u'50'][28, 29, 30, 31, 32]>>\n",
      "\n",
      "[0, 1, 0, 0, 0, 0]\n",
      "[0, 0, -1, 0]\n",
      "[u';', u'or', u'=', u'1.70', u',', u'p', u'combine', u'=']\n",
      "\n",
      "----\n",
      "We identified three new susceptibility loci at 2p16 .1 -LRB- rs1432295 , REL ; odds ratio -LSB- OR -RSB- = 1.22 , P combined = 1.91 × 10 − 8 -RRB- , 8q24 .21 -LRB- rs2019960 , PVT1 ; OR = 1.33 , P combined = 1.26 × 10 − 13 -RRB- and 10p14 -LRB- rs501764 , GATA3 ; OR = 1.25 , P combined = 7.05 × 10 − 8 -RRB- .\n",
      "<bound method Relation.mention1 of <Relation: [u'rs1432295'][10] - [u'1.91', u'\\xd7', u'10', u'\\u2212', u'8'][25, 26, 27, 28, 29]>\n",
      "Words: <Relation: [u'rs1432295'][10] - [u'1.91', u'\\xd7', u'10', u'\\u2212', u'8'][25, 26, 27, 28, 29]>\n",
      "Lemmas: <Relation: [u'rs1432295'][10] - [u'1.91', u'\\xd7', u'10', u'\\u2212', u'8'][25, 26, 27, 28, 29]>\n",
      "POSES: <Relation: [u'rs1432295'][10] - [u'1.91', u'\\xd7', u'10', u'\\u2212', u'8'][25, 26, 27, 28, 29]>>\n",
      "<bound method Relation.mention2 of <Relation: [u'rs1432295'][10] - [u'1.91', u'\\xd7', u'10', u'\\u2212', u'8'][25, 26, 27, 28, 29]>\n",
      "Words: <Relation: [u'rs1432295'][10] - [u'1.91', u'\\xd7', u'10', u'\\u2212', u'8'][25, 26, 27, 28, 29]>\n",
      "Lemmas: <Relation: [u'rs1432295'][10] - [u'1.91', u'\\xd7', u'10', u'\\u2212', u'8'][25, 26, 27, 28, 29]>\n",
      "POSES: <Relation: [u'rs1432295'][10] - [u'1.91', u'\\xd7', u'10', u'\\u2212', u'8'][25, 26, 27, 28, 29]>>\n",
      "\n",
      "[0, 1, 0, 0, 0, 0]\n",
      "[0, 0, -1, 0]\n",
      "[u',', u'rel', u';', u'odds', u'ratio', u'-lsb-', u'or', u'-rsb-', u'=', u'1.22', u',', u'p', u'combine', u'=']\n",
      "\n",
      "----\n",
      "We identified three new susceptibility loci at 2p16 .1 -LRB- rs1432295 , REL ; odds ratio -LSB- OR -RSB- = 1.22 , P combined = 1.91 × 10 − 8 -RRB- , 8q24 .21 -LRB- rs2019960 , PVT1 ; OR = 1.33 , P combined = 1.26 × 10 − 13 -RRB- and 10p14 -LRB- rs501764 , GATA3 ; OR = 1.25 , P combined = 7.05 × 10 − 8 -RRB- .\n",
      "<bound method Relation.mention1 of <Relation: [u'rs2019960'][35] - [u'1.26', u'\\xd7', u'10', u'\\u2212', u'13'][46, 47, 48, 49, 50]>\n",
      "Words: <Relation: [u'rs2019960'][35] - [u'1.26', u'\\xd7', u'10', u'\\u2212', u'13'][46, 47, 48, 49, 50]>\n",
      "Lemmas: <Relation: [u'rs2019960'][35] - [u'1.26', u'\\xd7', u'10', u'\\u2212', u'13'][46, 47, 48, 49, 50]>\n",
      "POSES: <Relation: [u'rs2019960'][35] - [u'1.26', u'\\xd7', u'10', u'\\u2212', u'13'][46, 47, 48, 49, 50]>>\n",
      "<bound method Relation.mention2 of <Relation: [u'rs2019960'][35] - [u'1.26', u'\\xd7', u'10', u'\\u2212', u'13'][46, 47, 48, 49, 50]>\n",
      "Words: <Relation: [u'rs2019960'][35] - [u'1.26', u'\\xd7', u'10', u'\\u2212', u'13'][46, 47, 48, 49, 50]>\n",
      "Lemmas: <Relation: [u'rs2019960'][35] - [u'1.26', u'\\xd7', u'10', u'\\u2212', u'13'][46, 47, 48, 49, 50]>\n",
      "POSES: <Relation: [u'rs2019960'][35] - [u'1.26', u'\\xd7', u'10', u'\\u2212', u'13'][46, 47, 48, 49, 50]>>\n",
      "\n",
      "[0, 1, 0, 0, 0, 0]\n",
      "[0, 0, -1, 0]\n",
      "[u',', u'pvt1', u';', u'or', u'=', u'1.33', u',', u'p', u'combine', u'=']\n",
      "\n",
      "----\n",
      "We identified three new susceptibility loci at 2p16 .1 -LRB- rs1432295 , REL ; odds ratio -LSB- OR -RSB- = 1.22 , P combined = 1.91 × 10 − 8 -RRB- , 8q24 .21 -LRB- rs2019960 , PVT1 ; OR = 1.33 , P combined = 1.26 × 10 − 13 -RRB- and 10p14 -LRB- rs501764 , GATA3 ; OR = 1.25 , P combined = 7.05 × 10 − 8 -RRB- .\n",
      "<bound method Relation.mention1 of <Relation: [u'rs501764'][55] - [u'7.05', u'\\xd7', u'10', u'\\u2212', u'8'][66, 67, 68, 69, 70]>\n",
      "Words: <Relation: [u'rs501764'][55] - [u'7.05', u'\\xd7', u'10', u'\\u2212', u'8'][66, 67, 68, 69, 70]>\n",
      "Lemmas: <Relation: [u'rs501764'][55] - [u'7.05', u'\\xd7', u'10', u'\\u2212', u'8'][66, 67, 68, 69, 70]>\n",
      "POSES: <Relation: [u'rs501764'][55] - [u'7.05', u'\\xd7', u'10', u'\\u2212', u'8'][66, 67, 68, 69, 70]>>\n",
      "<bound method Relation.mention2 of <Relation: [u'rs501764'][55] - [u'7.05', u'\\xd7', u'10', u'\\u2212', u'8'][66, 67, 68, 69, 70]>\n",
      "Words: <Relation: [u'rs501764'][55] - [u'7.05', u'\\xd7', u'10', u'\\u2212', u'8'][66, 67, 68, 69, 70]>\n",
      "Lemmas: <Relation: [u'rs501764'][55] - [u'7.05', u'\\xd7', u'10', u'\\u2212', u'8'][66, 67, 68, 69, 70]>\n",
      "POSES: <Relation: [u'rs501764'][55] - [u'7.05', u'\\xd7', u'10', u'\\u2212', u'8'][66, 67, 68, 69, 70]>>\n",
      "\n",
      "[0, 1, 0, 0, 0, 0]\n",
      "[0, 0, -1, 0]\n",
      "[u',', u'gata3', u';', u'or', u'=', u'1.25', u',', u'p', u'combine', u'=']\n",
      "\n"
     ]
    }
   ],
   "source": [
    "for i in range(1000):\n",
    "    r = pval_relations[i]\n",
    "    pos_labels = [LF(r) for LF in pos_LFs]\n",
    "    neg_labels = [LF(r) for LF in neg_LFs]\n",
    "    labels = pos_labels + neg_labels\n",
    "#     if 1 not in labels and -1 not in labels:\n",
    "    if 1 in labels and -1 in labels:        \n",
    "        print '----'\n",
    "        print ' '.join(r.words)\n",
    "        print r.mention1\n",
    "        print r.mention2\n",
    "        print\n",
    "        print pos_labels\n",
    "        print neg_labels\n",
    "        print internal_words(r, lemmas=True)\n",
    "    #     print r.pre_window1('words')\n",
    "    #     print r.post_window2('words')    \n",
    "        print"
   ]
  },
  {
   "cell_type": "markdown",
   "metadata": {},
   "source": [
    "Now, define a few labeling functions"
   ]
  },
  {
   "cell_type": "code",
   "execution_count": 425,
   "metadata": {
    "collapsed": false
   },
   "outputs": [],
   "source": [
    "import re\n",
    "def internal_words(r, lemmas=False):\n",
    "    # last index of first mention, first index of second mention:\n",
    "    first_idx1 = min(r.e1_idxs)\n",
    "    first_idx2 = min(r.e2_idxs)\n",
    "    if first_idx1 < first_idx2:\n",
    "        idx1 = max(r.e1_idxs)\n",
    "        idx2 = min(r.e2_idxs)\n",
    "    else:\n",
    "        idx1 = max(r.e2_idxs)\n",
    "        idx2 = min(r.e1_idxs)\n",
    "    # internal words\n",
    "    if lemmas:\n",
    "        return r.lemmas[idx1+1:idx2]\n",
    "    else:\n",
    "        return r.words[idx1+1:idx2]\n",
    "        \n",
    "\n",
    "def internal_range(r):\n",
    "    # last index of first mention, first index of second mention:\n",
    "    idx1 = min(r.mention1.idxs + r.mention2.idxs)\n",
    "    idx2 = max(r.mention1.idxs + r.mention2.idxs)\n",
    "    # internal words\n",
    "    return idx1, idx2\n",
    "\n",
    "# positive LFs\n",
    "def LF_one_lrb(m):\n",
    "    iw = internal_words(m)\n",
    "    return +1 if '-LRB-' in iw and '-RRB-' not in iw else 0\n",
    "def LF_in_pars(m):\n",
    "    iw = internal_words(m)\n",
    "    iwj = ' '.join([w.lower() for w in iw])\n",
    "    n_rs = len(re.findall('rs\\d+', iwj))\n",
    "    return +1 \\\n",
    "        if '-LRB-' not in iw and '-RRB-' not in iw \\\n",
    "        and '-LRB-' in m.pre_window1('words', 5) \\\n",
    "        and '-RRB-' in m.post_window2('words', 5) \\\n",
    "        and n_rs == 0 \\\n",
    "        else 0\n",
    "def LF_associate(m):\n",
    "    iw = internal_words(m, lemmas=True)\n",
    "    return +1 if 'associate' in iw and len(iw) <= 7 else 0\n",
    "def LF_for(m):\n",
    "    iw = internal_words(m, lemmas=True)\n",
    "    return +1 if 'for' in iw and len(iw) <= 5 else 0\n",
    "def LF_col(m):\n",
    "    iw = internal_words(m, lemmas=True)\n",
    "    return +1 if ':' in iw and len(iw) <= 5 else 0\n",
    "def LF_two_p(m):\n",
    "    iw = internal_words(m)\n",
    "    iwj = ' '.join([w.lower() for w in iw])\n",
    "    n_p = len(re.findall('p =', iwj))\n",
    "    n_rs = len(re.findall('rs\\d+', iwj))\n",
    "    return 1 if n_p >= 2 and n_rs == 0 else 0\n",
    "\n",
    "# negative LFs\n",
    "def LF_rrb(m):\n",
    "    iw = internal_words(m)\n",
    "    return -1 if '-RRB-' in iw else 0\n",
    "def LF_no_p(m):\n",
    "    iw = internal_words(m)\n",
    "    return -1 if 'p' not in [w.lower() for w in m.pre_window2('words', 5)] \\\n",
    "              and 'for' not in [w.lower() for w in m.pre_window1('words')] \\\n",
    "              and len(iw) >= 3 \\\n",
    "              else 0\n",
    "# def LF_mid_p(m):\n",
    "#     iw = internal_words(m)\n",
    "#     return -1 if 'p' in [w.lower() for w in iw] else 0\n",
    "def LF_semicol(m):\n",
    "    iw = internal_words(m)\n",
    "    return -1 if ';' in iw and '-LRB-' not in iw and len(iw) >= 5 else 0\n",
    "def LF_and(m):\n",
    "    iw = internal_words(m)\n",
    "    return -1 if 'and' in iw else 0\n",
    "\n",
    "pos_LFs = [LF_one_lrb, LF_in_pars, LF_associate, LF_for, LF_col, LF_two_p]\n",
    "neg_LFs = [LF_rrb, LF_no_p, LF_semicol, LF_and]\n",
    "LFs = pos_LFs + neg_LFs"
   ]
  },
  {
   "cell_type": "code",
   "execution_count": 426,
   "metadata": {
    "collapsed": false
   },
   "outputs": [],
   "source": [
    "DDL.update_gt(gt, uids=uids)\n",
    "n_data = DDL.num_candidates()\n",
    "idxs = np.arange(start=n_data/2, stop=n_data)\n",
    "DDL.set_holdout(idxs)\n",
    "\n",
    "DDL.apply_lfs(LFs, clear=True)"
   ]
  },
  {
   "cell_type": "code",
   "execution_count": 427,
   "metadata": {
    "collapsed": false
   },
   "outputs": [
    {
     "name": "stdout",
     "output_type": "stream",
     "text": [
      "LF stats on training set\n",
      "Coverage:\t96.051%\n",
      "Overlap:\t45.877%\n",
      "Conflict:\t4.878%\n"
     ]
    },
    {
     "data": {
      "image/png": "[encoded data removed]",
      "text/plain": [
       "<matplotlib.figure.Figure at 0x152e18550>"
      ]
     },
     "metadata": {},
     "output_type": "display_data"
    }
   ],
   "source": [
    "DDL.print_lf_stats()\n",
    "DDL.plot_lf_stats()\n"
   ]
  },
  {
   "cell_type": "code",
   "execution_count": 428,
   "metadata": {
    "collapsed": false
   },
   "outputs": [
    {
     "name": "stdout",
     "output_type": "stream",
     "text": [
      "Begin training for rate=0.01, mu=1e-07\n",
      "\tLearning epoch = 0\tGradient mag. = 0.316057\n",
      "\tLearning epoch = 250\tGradient mag. = 0.481987\n",
      "Final gradient magnitude for rate=0.01, mu=1e-07: 0.597\n",
      "Running in False mode...\n",
      "Begin training for rate=0.01, mu=1e-09\n",
      "\tLearning epoch = 0\tGradient mag. = 0.055793\n",
      "\tLearning epoch = 250\tGradient mag. = 0.058497\n",
      "\tLearning epoch = 500\tGradient mag. = 0.058266\n",
      "\tLearning epoch = 750\tGradient mag. = 0.058038\n",
      "\tLearning epoch = 1000\tGradient mag. = 0.057811\n",
      "\tLearning epoch = 1250\tGradient mag. = 0.057587\n",
      "\tLearning epoch = 1500\tGradient mag. = 0.057364\n",
      "\tLearning epoch = 1750\tGradient mag. = 0.057144\n",
      "\tLearning epoch = 2000\tGradient mag. = 0.056925\n",
      "\tLearning epoch = 2250\tGradient mag. = 0.056708\n",
      "\tLearning epoch = 2500\tGradient mag. = 0.056493\n",
      "\tLearning epoch = 2750\tGradient mag. = 0.056280\n",
      "Final gradient magnitude for rate=0.01, mu=1e-09: 0.056\n",
      "Begin training for rate=0.01, mu=1e-05\n",
      "\tLearning epoch = 0\tGradient mag. = 0.055793\n",
      "\tLearning epoch = 250\tGradient mag. = 0.058497\n",
      "\tLearning epoch = 500\tGradient mag. = 0.058267\n",
      "\tLearning epoch = 750\tGradient mag. = 0.058038\n",
      "\tLearning epoch = 1000\tGradient mag. = 0.057812\n",
      "\tLearning epoch = 1250\tGradient mag. = 0.057588\n",
      "\tLearning epoch = 1500\tGradient mag. = 0.057366\n",
      "\tLearning epoch = 1750\tGradient mag. = 0.057145\n",
      "\tLearning epoch = 2000\tGradient mag. = 0.056927\n",
      "\tLearning epoch = 2250\tGradient mag. = 0.056711\n",
      "\tLearning epoch = 2500\tGradient mag. = 0.056496\n",
      "\tLearning epoch = 2750\tGradient mag. = 0.056284\n",
      "Final gradient magnitude for rate=0.01, mu=1e-05: 0.056\n",
      "Begin training for rate=0.01, mu=0.001\n",
      "\tLearning epoch = 0\tGradient mag. = 0.055793\n",
      "\tLearning epoch = 250\tGradient mag. = 0.058523\n",
      "\tLearning epoch = 500\tGradient mag. = 0.058319\n",
      "\tLearning epoch = 750\tGradient mag. = 0.058118\n",
      "\tLearning epoch = 1000\tGradient mag. = 0.057918\n",
      "\tLearning epoch = 1250\tGradient mag. = 0.057720\n",
      "\tLearning epoch = 1500\tGradient mag. = 0.057525\n",
      "\tLearning epoch = 1750\tGradient mag. = 0.057331\n",
      "\tLearning epoch = 2000\tGradient mag. = 0.057140\n",
      "\tLearning epoch = 2250\tGradient mag. = 0.056950\n",
      "\tLearning epoch = 2500\tGradient mag. = 0.056762\n",
      "\tLearning epoch = 2750\tGradient mag. = 0.056577\n",
      "Final gradient magnitude for rate=0.01, mu=0.001: 0.056\n",
      "Begin training for rate=0.01, mu=0.1\n",
      "\tLearning epoch = 0\tGradient mag. = 0.055793\n",
      "SGD converged for mu=0.1 after 10 steps\n"
     ]
    },
    {
     "data": {
      "image/png": "[encoded data removed]",
      "text/plain": [
       "<matplotlib.figure.Figure at 0x1455a7f90>"
      ]
     },
     "metadata": {},
     "output_type": "display_data"
    },
    {
     "name": "stdout",
     "output_type": "stream",
     "text": [
      "CPU times: user 29.1 s, sys: 417 ms, total: 29.5 s\n",
      "Wall time: 29.8 s\n"
     ]
    },
    {
     "data": {
      "text/html": [
       "<table><tr><td><b>ID</b></td><td><b># LFs</b></td><td><b>Test set size</b></td><td><b>Model</b></td><td><b>Precision</b></td><td><b>Recall</b></td><td><b>F1</b></td></tr><tr><td>5</td><td>10</td><td>423</td><td>Logistic regression</td><td>0.000</td><td>0.000</td><td>0.000</td></tr></table><table><tr><td><b>LF</b></td></tr><tr><td>LF_one_lrb</td></tr><tr><td>LF_in_pars</td></tr><tr><td>LF_associate</td></tr><tr><td>LF_for</td></tr><tr><td>LF_col</td></tr><tr><td>LF_two_p</td></tr><tr><td>LF_rrb</td></tr><tr><td>LF_no_p</td></tr><tr><td>LF_semicol</td></tr><tr><td>LF_and</td></tr></table>"
      ],
      "text/plain": [
       "<snorkel.snorkel.ModelLog instance at 0x14586fcb0>"
      ]
     },
     "execution_count": 428,
     "metadata": {},
     "output_type": "execute_result"
    }
   ],
   "source": [
    "import matplotlib\n",
    "import numpy as np\n",
    "%matplotlib inline\n",
    "\n",
    "matplotlib.rcParams['figure.figsize'] = (12,4)\n",
    "mu_seq = np.ravel([1e-9, 1e-5, 1e-3, 1e-1])\n",
    "lf_opts = {'sample': False, 'verbose': True}\n",
    "model_opts = {'sample': False, 'n_iter': 3000, 'alpha': 0.5, 'mu': mu_seq, 'bias': False, 'verbose': True}\n",
    "%time DDL.train_model(method='lr', lf_opts=lf_opts, model_opts=model_opts)"
   ]
  },
  {
   "cell_type": "code",
   "execution_count": null,
   "metadata": {
    "collapsed": true
   },
   "outputs": [],
   "source": []
  }
 ],
 "metadata": {
  "kernelspec": {
   "display_name": "Python 2",
   "language": "python",
   "name": "python2"
  },
  "language_info": {
   "codemirror_mode": {
    "name": "ipython",
    "version": 2
   },
   "file_extension": ".py",
   "mimetype": "text/x-python",
   "name": "python",
   "nbconvert_exporter": "python",
   "pygments_lexer": "ipython2",
   "version": "2.7.11"
  }
 },
 "nbformat": 4,
 "nbformat_minor": 0
}
