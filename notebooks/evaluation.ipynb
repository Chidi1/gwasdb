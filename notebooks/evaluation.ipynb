{
 "cells": [
  {
   "cell_type": "markdown",
   "metadata": {},
   "source": [
    "# Evaluation notebook"
   ]
  },
  {
   "cell_type": "markdown",
   "metadata": {},
   "source": [
    "Here, we will evaluate the relations extracted in all the other notebooks"
   ]
  },
  {
   "cell_type": "code",
   "execution_count": 1,
   "metadata": {
    "collapsed": false
   },
   "outputs": [],
   "source": [
    "%load_ext autoreload\n",
    "%autoreload 2\n",
    "\n",
    "import sys\n",
    "import cPickle\n",
    "import numpy as np\n",
    "\n",
    "# import snorkel and gwasdb\n",
    "sys.path.append('../snorkel')\n",
    "sys.path.append('../src')\n",
    "sys.path.append('../src/crawler')\n",
    "\n",
    "# set up paths\n",
    "abstract_dir = '../data/db/papers'"
   ]
  },
  {
   "cell_type": "code",
   "execution_count": 2,
   "metadata": {
    "collapsed": false
   },
   "outputs": [
    {
     "name": "stdout",
     "output_type": "stream",
     "text": [
      "CPU times: user 16min 26s, sys: 49.8 s, total: 17min 16s\n",
      "Wall time: 24min 13s\n"
     ]
    }
   ],
   "source": [
    "from snorkel.parser import XMLDocParser, HTMLParser, CorpusParser\n",
    "from extractor.parser import UnicodeXMLTableDocParser, UnicodeTableParser\n",
    "\n",
    "xml_parser = UnicodeXMLTableDocParser(\n",
    "    path=abstract_dir,\n",
    "    doc='./*',\n",
    "    text='.//table',\n",
    "    id='.//article-id[@pub-id-type=\"pmid\"]/text()',\n",
    "    keep_xml_tree=True)\n",
    "\n",
    "table_parser = UnicodeTableParser()\n",
    "html_parser = HTMLParser(path='../data/db/papers/')\n",
    "cp = CorpusParser(xml_parser, table_parser)\n",
    "%time corpus = cp.parse_corpus(name='GWAS Corpus')"
   ]
  },
  {
   "cell_type": "markdown",
   "metadata": {},
   "source": [
    "## Loading results from other notebooks"
   ]
  },
  {
   "cell_type": "markdown",
   "metadata": {},
   "source": [
    "#### Phenotype/rsid relations from tables"
   ]
  },
  {
   "cell_type": "code",
   "execution_count": 44,
   "metadata": {
    "collapsed": false
   },
   "outputs": [
    {
     "name": "stdout",
     "output_type": "stream",
     "text": [
      "2130 loaded, e.g.:\n",
      "[(('21738491', 1, 3, 2), ('rs12143842', 'QT')), (('20585627', 2, 8, 1), ('rs12931267', 'Red hair')), (('17903306', 4, 31, 1), ('rs2195926', 'SDNN')), (('17903301', 2, 9, 1), ('rs10514431', 'left ventricular diastolic dimension')), (('24376456', 3, 36, 2), ('rs2410182', 'Coronary heart disease'))]\n"
     ]
    }
   ],
   "source": [
    "phen_table_associations = dict()\n",
    "with open('phen-rsid.table.rel.all.tsv') as f:\n",
    "    for line in f:\n",
    "        fields = line.strip().split('\\t')\n",
    "        pmid, rsid, phen, pval, _, table_id, row_id, col_id = fields\n",
    "        pval, table_id, row_id, col_id = float(pval), int(table_id), int(row_id), int(col_id)\n",
    "        # note that we assume that an rsid at a givel location will correspond to 1 phenotype\n",
    "        phen_table_associations[pmid, table_id, row_id, col_id] = (rsid, phen)\n",
    "        \n",
    "print len(phen_table_associations), 'loaded, e.g.:'\n",
    "print phen_table_associations.items()[:5]"
   ]
  },
  {
   "cell_type": "markdown",
   "metadata": {},
   "source": [
    "#### PMID/Phenotype relations extracted from titles/abstracts"
   ]
  },
  {
   "cell_type": "code",
   "execution_count": 57,
   "metadata": {
    "collapsed": false
   },
   "outputs": [
    {
     "name": "stdout",
     "output_type": "stream",
     "text": [
      "589 phenotypes loaded, e.g.:\n",
      "[('23738518', 'reading|language'), ('19056611', 'Type 2 Diabetes'), ('21298047', 'European-Origin|Substance Dependence'), ('23104006', 'endometriosis'), ('20072603', 'Osteoporosis')]\n",
      "322 table ids loaded, e.g.:\n",
      "[('23936387', 5), ('20935630', 0), ('24778558', 0), ('22589738', 1), ('22479202', 3)]\n"
     ]
    }
   ],
   "source": [
    "phen_text_associations = dict()\n",
    "with open('phenotypes.extracted.tsv') as f:\n",
    "    for line in f:\n",
    "        pmid, phen = line.strip().split('\\t')\n",
    "        phen_text_associations[pmid] = phen\n",
    "        \n",
    "print len(phen_text_associations), 'phenotypes loaded, e.g.:'\n",
    "print phen_text_associations.items()[:5]                           "
   ]
  },
  {
   "cell_type": "markdown",
   "metadata": {},
   "source": [
    "#### RSID/Pvalue relations extracted from tables"
   ]
  },
  {
   "cell_type": "code",
   "execution_count": 95,
   "metadata": {
    "collapsed": false
   },
   "outputs": [
    {
     "name": "stdout",
     "output_type": "stream",
     "text": [
      "11057 relations loaded, e.g.:\n",
      "[(('22504420', 0, 33, 0, 'rs4790881'), set([0.0, 0.0006, 2e-06])), (('22396660', 1, 6, 1, 'rs11746443'), set([0.98])), (('24094242', 1, 19, 0, 'rs7267979'), set([0.0])), (('17903302', 1, 21, 2, 'rs1408263'), set([2.4e-05])), (('17903294', 2, 20, 1, 'rs727979'), set([2.6e-05, 7e-06]))]\n"
     ]
    }
   ],
   "source": [
    "pval_table_associations = dict()\n",
    "with open('pval-rsid.raw.cols.tsv') as f:\n",
    "    for line in f:\n",
    "        pmid, rsid, table_id, row_id, col_id, pval = line.strip().split('\\t')\n",
    "        pval, table_id, row_id, col_id = float(pval), int(table_id), int(row_id), int(col_id)\n",
    "        \n",
    "        key = pmid, table_id, row_id, col_id, rsid\n",
    "        if key not in pval_table_associations: pval_table_associations[key] = set()\n",
    "        pval_table_associations[key].add(pval)\n",
    "\n",
    "print len(pval_table_associations), 'relations loaded, e.g.:'\n",
    "print pval_table_associations.items()[:5]      "
   ]
  },
  {
   "cell_type": "markdown",
   "metadata": {},
   "source": [
    "#### Table annotations"
   ]
  },
  {
   "cell_type": "code",
   "execution_count": 103,
   "metadata": {
    "collapsed": false
   },
   "outputs": [
    {
     "name": "stdout",
     "output_type": "stream",
     "text": [
      "671 suspcious table ids loaded, e.g.:\n",
      "[('21273288', 1), ('19343178', 1), ('23028341', 2), ('23844046', 3), ('24143190', 1)]\n"
     ]
    }
   ],
   "source": [
    "non_gwas_tables = set()\n",
    "with open('table-annotations.tsv') as f:\n",
    "    for line in f:\n",
    "        pmid, table_id, pval_found, lod_found = line.strip().split('\\t')\n",
    "        if int(pval_found) or int(lod_found):\n",
    "            non_gwas_tables.add((pmid, int(table_id)))\n",
    "                                  \n",
    "print len(non_gwas_tables), 'suspcious table ids loaded, e.g.:'\n",
    "print list(non_gwas_tables)[:5]   "
   ]
  },
  {
   "cell_type": "markdown",
   "metadata": {
    "collapsed": true
   },
   "source": [
    "#### Singleton RSids"
   ]
  },
  {
   "cell_type": "code",
   "execution_count": 79,
   "metadata": {
    "collapsed": false
   },
   "outputs": [
    {
     "name": "stdout",
     "output_type": "stream",
     "text": [
      "12309 loaded, e.g.:\n",
      "[(('23128233', 0, 17, 2), 'rs9264942'), (('25129146', 0, 8, 0), 'rs1642764'), (('23754948', 1, 6, 0), 'rs10478424'), (('17903301', 2, 9, 1), 'rs10514431'), (('17903307', 1, 66, 1), 'rs1393593')]\n"
     ]
    }
   ],
   "source": [
    "singleton_associations = dict()\n",
    "with open('rsids.singletons.all.tsv') as f:\n",
    "    for line in f:\n",
    "        pmid, table_id, row_id, col_id, rsid = line.strip().split()\n",
    "        table_id, row_id, col_id = int(table_id), int(row_id), int(col_id)\n",
    "        singleton_associations[pmid, table_id, row_id, col_id] = rsid\n",
    "\n",
    "print len(singleton_associations), 'loaded, e.g.:'\n",
    "print singleton_associations.items()[:5]\n",
    "\n",
    "n_singletons_by_table = dict()\n",
    "for (pmid, table_id, row_id, col_id), rsid in singleton_associations.items():\n",
    "    key = pmid, table_id\n",
    "    if key not in n_singletons_by_table: n_singletons_by_table[key] = 0\n",
    "    n_singletons_by_table[key] += 1"
   ]
  },
  {
   "cell_type": "markdown",
   "metadata": {},
   "source": [
    "## Construct a list valid relations"
   ]
  },
  {
   "cell_type": "code",
   "execution_count": 7,
   "metadata": {
    "collapsed": true
   },
   "outputs": [],
   "source": [
    "# TODO: load pvalues properly, use them to filter stuff downstream, do acroynm resolution here"
   ]
  },
  {
   "cell_type": "code",
   "execution_count": 104,
   "metadata": {
    "collapsed": false
   },
   "outputs": [
    {
     "name": "stdout",
     "output_type": "stream",
     "text": [
      "7838 associations, e.g.:\n",
      "[('21738491', 'rs12143842', ('Sudden Cardiac Death', 'QT')), ('20585627', 'rs12931267', ('Common Traits', 'Red hair')), ('24376456', 'rs2410182', ('blood pressure', 'Coronary heart disease')), ('17903295', 'rs2543600', ('longevity|age-related phenotypes', 'Age at death')), ('20838585', 'rs726914', ('Cardiovascular Disease', 'systolic BP'))]\n",
      "There were 357 singletons\n"
     ]
    }
   ],
   "source": [
    "import re\n",
    "\n",
    "def clean(phen):\n",
    "    phen = re.sub('[)():.]+', '', phen)\n",
    "    phen = re.sub('^or ', '', phen)\n",
    "    phen = phen.strip()\n",
    "    return phen\n",
    "\n",
    "associations = []\n",
    "\n",
    "tables_found = {(pmid, table_id) for pmid, table_id, _, _, _ in pval_table_associations} # with pvalues\n",
    "tables_found.update(non_gwas_tables)\n",
    "\n",
    "# record table associations wth pval < 1e-5 or no pval reported\n",
    "chosen_rsids = set()\n",
    "for (pmid, table_id, row_id, col_id), (rsid, loc_phen) in phen_table_associations.items():\n",
    "    pvals = pval_table_associations.get((pmid, table_id, row_id, col_id, rsid), [])\n",
    "    glob_phen = clean(phen_text_associations[pmid])\n",
    "    if (pvals and min(pvals) < 1e-5) or (not pvals and (pmid, table_id) not in tables_found):\n",
    "        associations.append((pmid, rsid, (glob_phen, loc_phen)))\n",
    "        chosen_rsids.add((pmid, table_id, row_id, col_id, rsid))\n",
    "\n",
    "\n",
    "# record associations with no local phenotype\n",
    "for (pmid, table_id, row_id, col_id, rsid), pvals in pval_table_associations.items():\n",
    "    # skip low-pvalue snps and snps that we already added\n",
    "    if pvals and min(pvals) > 1e-5: continue\n",
    "    if (pmid, table_id, row_id, col_id, rsid) in chosen_rsids: continue\n",
    "    \n",
    "    # append with global phenotype\n",
    "    phen = clean(phen_text_associations[pmid])\n",
    "    associations.append((pmid, rsid, (phen, '')))    \n",
    "    chosen_rsids.add((pmid, table_id, row_id, col_id, rsid))\n",
    "\n",
    "# record singletons\n",
    "n_singletons_added = 0\n",
    "for (pmid, table_id, row_id, col_id), rsid in singleton_associations.items():\n",
    "    if (pmid, table_id, row_id, col_id, rsid) in chosen_rsids: continue\n",
    "    if (pmid, table_id) in tables_found: continue\n",
    "    if n_singletons_by_table[(pmid, table_id)] < 30: continue\n",
    "    phen = clean(phen_text_associations[pmid])\n",
    "    associations.append((pmid, rsid, (phen, ''))) \n",
    "    n_singletons_added += 1\n",
    "\n",
    "print len(associations), 'associations, e.g.:'\n",
    "print associations[:5]    \n",
    "print 'There were %d singletons' % n_singletons_added"
   ]
  },
  {
   "cell_type": "markdown",
   "metadata": {},
   "source": [
    "## Comparing to GWAS central"
   ]
  },
  {
   "cell_type": "code",
   "execution_count": 43,
   "metadata": {
    "collapsed": false
   },
   "outputs": [
    {
     "name": "stdout",
     "output_type": "stream",
     "text": [
      "False\n"
     ]
    }
   ],
   "source": [
    "print ('17903296', 1) not in tables_found"
   ]
  },
  {
   "cell_type": "code",
   "execution_count": 16,
   "metadata": {
    "collapsed": false
   },
   "outputs": [
    {
     "name": "stdout",
     "output_type": "stream",
     "text": [
      "589 documents, 7583 associations\n"
     ]
    }
   ],
   "source": [
    "from db.kb import KnowledgeBase\n",
    "\n",
    "kb = KnowledgeBase()\n",
    "assocs = [assoc for doc in corpus.documents for assoc in kb.assoc_by_pmid(doc.name) if assoc.source == 'gwas_central' and assoc.pvalue < 1e-5]\n",
    "\n",
    "print '%d documents, %d associations' % (len(corpus.documents), len(assocs))"
   ]
  },
  {
   "cell_type": "markdown",
   "metadata": {},
   "source": [
    "### Set up map of GWC to GWASDB phenotypes"
   ]
  },
  {
   "cell_type": "code",
   "execution_count": 105,
   "metadata": {
    "collapsed": false
   },
   "outputs": [],
   "source": [
    "rel_dict = { (pmid, rsid) : set() for (pmid, rsid, phen) in associations }\n",
    "for (pmid, rsid, phen) in associations:\n",
    "    rel_dict[(pmid, rsid)].add(phen)\n",
    "\n",
    "gold_rel_dict = { (a.paper.pubmed_id, a.snp.rs_id) : set() for a in assocs }\n",
    "for a in assocs:\n",
    "    gold_rel_dict[(a.paper.pubmed_id, a.snp.rs_id)].add(a.phenotype.name)"
   ]
  },
  {
   "cell_type": "code",
   "execution_count": 199,
   "metadata": {
    "collapsed": false
   },
   "outputs": [],
   "source": [
    "out_set = set()\n",
    "for a in assocs:\n",
    "    s1 = gold_rel_dict[(a.paper.pubmed_id, a.snp.rs_id)]\n",
    "    s2 = rel_dict.get((str(a.paper.pubmed_id), a.snp.rs_id), None)\n",
    "    if s1 and s2:\n",
    "        for name1 in s1:\n",
    "            for name2a, name2b in s2:\n",
    "                name1 = str(name1)\n",
    "                score = phen_scores.get((name1.lower(), name2a.lower(), name2b.lower()), '')\n",
    "                out_set.add('%s\\t%s\\t%s\\t%s\\n' % (name1, name2a, name2b, score))\n",
    "\n",
    "with open('phenotype.mapping.tsv', 'w') as f:                    \n",
    "    for out_str in out_set:\n",
    "        f.write(out_str)"
   ]
  },
  {
   "cell_type": "markdown",
   "metadata": {},
   "source": [
    "Dictionary legend in 0: wrong, 1: acronym, 2: imprecise, 3: correct"
   ]
  },
  {
   "cell_type": "code",
   "execution_count": 11,
   "metadata": {
    "collapsed": false
   },
   "outputs": [],
   "source": [
    "phen_map = dict()\n",
    "phen_scores = dict()\n",
    "with open('phenotype.mapping.annotated.txt') as f:                    \n",
    "    lines = f.read().split('\\r')\n",
    "    for line in lines:\n",
    "        fields = line.strip().split('\\t')\n",
    "        fields = [re.sub('\"', '', f) for f in fields]\n",
    "        try:\n",
    "            orig_name, glob_name, loc_name, score = fields\n",
    "        except ValueError:\n",
    "            if len(fields) == 2:\n",
    "                orig_name, glob_name = fields\n",
    "                loc_name = ''\n",
    "            else:\n",
    "                orig_name, glob_name, loc_name = fields\n",
    "            score = 3\n",
    "        phen_scores[(orig_name.lower(), glob_name.lower(), loc_name.lower())] = score\n",
    "        if score in ('2', '3'):\n",
    "            key = (glob_name, loc_name)\n",
    "            if key not in phen_map: phen_map[key] = set()\n",
    "            phen_map[key].add(orig_name)"
   ]
  },
  {
   "cell_type": "markdown",
   "metadata": {},
   "source": [
    "### Look at recall relative to GWAS Central"
   ]
  },
  {
   "cell_type": "code",
   "execution_count": 13,
   "metadata": {
    "collapsed": true
   },
   "outputs": [],
   "source": [
    "import re\n",
    "\n",
    "def paper_contains(pmid, quote):\n",
    "    with open('../data/db/papers/%d.xml' % pmid) as f:\n",
    "        txt = f.read()\n",
    "        return True if re.search(quote, txt) else False"
   ]
  },
  {
   "cell_type": "code",
   "execution_count": 112,
   "metadata": {
    "collapsed": false
   },
   "outputs": [
    {
     "name": "stdout",
     "output_type": "stream",
     "text": [
      "2574 42 482 3087\n",
      "Biggest omissions: [(19197348, 16), (18159244, 15), (23400010, 14), (21810271, 11), (24121790, 10), (24058526, 10), (22747683, 9), (22675492, 8), (21533175, 8), (23202124, 7), (22493691, 7), (22504420, 7), (21738487, 7), (23903356, 7), (23583978, 7)]\n"
     ]
    }
   ],
   "source": [
    "# display directly the results we found\n",
    "n_correct = 0\n",
    "n_imprecise = 0\n",
    "n_missing = 0\n",
    "n_wrong = 0\n",
    "n_total = 0\n",
    "n_new = 0\n",
    "invalid_per_paper = { a.paper.pubmed_id : 0 for a in assocs }\n",
    "seen = set()\n",
    "for a in assocs:\n",
    "    if (a.paper.pubmed_id, a.snp.rs_id, a.phenotype.name) in seen: continue\n",
    "    seen.add((a.paper.pubmed_id, a.snp.rs_id, a.phenotype.name))\n",
    "    \n",
    "    gold_phen_set = {a.phenotype.name}\n",
    "    pred_phen_set = rel_dict.get((str(a.paper.pubmed_id), a.snp.rs_id), {})\n",
    "    tmp = list(pred_phen_set)\n",
    "    if tmp and tmp[0][1].startswith('Age at'):\n",
    "        n_correct += 1\n",
    "        continue\n",
    "    pred_phen_set2 = {m for p in pred_phen_set for m in phen_map.get(p, {})}\n",
    "    if gold_phen_set & pred_phen_set2: \n",
    "        n_correct += 1\n",
    "        n_total += 1\n",
    "    else:\n",
    "        if paper_contains(a.paper.pubmed_id, a.snp.rs_id):\n",
    "            if a.paper.pubmed_id == 23509613:\n",
    "                print a.snp.rs_id, gold_phen_set, pred_phen_set, pred_phen_set2\n",
    "            if pred_phen_set2:\n",
    "                n_wrong += 1\n",
    "            else:\n",
    "                n_missing += 1\n",
    "            n_total += 1\n",
    "            invalid_per_paper[a.paper.pubmed_id] += 1\n",
    "\n",
    "print n_correct, n_wrong, n_missing, n_total\n",
    "\n",
    "print 'Biggest omissions:', sorted(invalid_per_paper.items(), key=lambda x: x[1], reverse=True)[:15]\n"
   ]
  },
  {
   "cell_type": "markdown",
   "metadata": {},
   "source": [
    "#### Notes:\n",
    "\n",
    "19197348: (Korsae islanders) No global phenotype, need to handle phenotype headers. Some not parsed because exact match not in dict, need to search for n-grams\n",
    "23400010: All the SNPs are in text!!\n",
    "19305408: Phenotype incorrect? QT Interval vs sudden cardian death. But QT interval is in abstract\n",
    "22760553: citalopram in dict but connected to a dash in title. Add \"side effects\" to matched keywords?\n",
    "22747683: They're in text\n",
    "22675492: Estradiol gets pushed our because \"testosterone,\" and \"testostreone\" both present\n",
    "21533175: can't parse 'Serum dehydroepiandrosterone sulphate levels' (acronym in text)\n",
    "23202124: It's all in text\n",
    "22493691: pvalue/rel not parsed in table (WTF!)\n",
    "23903356: all in text (not abstract)\n",
    "23583978: in the text (some in abstract)\n",
    "23563607: Phenotype headers not fully matched (e.g. Obesity type-2) and \"trails\" instead of traits\n",
    "\n",
    "\n",
    "\n",
    "Idea: Match spans if they contain the same words, but potentially in a different order"
   ]
  },
  {
   "cell_type": "markdown",
   "metadata": {},
   "source": [
    "### Look at precision"
   ]
  },
  {
   "cell_type": "code",
   "execution_count": 134,
   "metadata": {
    "collapsed": false
   },
   "outputs": [],
   "source": [
    "for a in assocs:\n",
    "    if a.paper.pubmed_id != 22452962: continue\n",
    "    print a.paper.pubmed_id, a.snp.rs_id, paper_contains(a.paper.pubmed_id, a.snp.rs_id)"
   ]
  },
  {
   "cell_type": "code",
   "execution_count": 115,
   "metadata": {
    "collapsed": false
   },
   "outputs": [
    {
     "name": "stdout",
     "output_type": "stream",
     "text": [
      "17903305 rs7329659 ('prostate cancer|breast', '')\n",
      "18483556 rs164741 ('Hair Color|Skin Pigmentation', '')\n",
      "19197348 rs2849176 ('complex disease', '')\n",
      "19197348 rs328 ('complex disease', '')\n",
      "19247474 rs1400363 ('Smoking Behaviors|Cigarette Smoking', '')\n",
      "19300500 rs1877252 ('Chronic Obstructive Pulmonary Disease COPD|Pulmonary Function', '')\n",
      "19343178 rs6817306 ('Stature', '')\n",
      "19412175 rs17487792 ('neuroblastoma', '')\n",
      "19448621 rs402511 ('age menarche|menopause', '')\n",
      "19503597 rs780093 ('Uric Acid', '')\n",
      "19503597 rs942379 ('Uric Acid', '')\n",
      "19557197 rs6714750 ('Distribution|Adiposity|Waist Circumference', '')\n",
      "19798445 rs12889954 ('Sphingolipid', '')\n",
      "19874204 rs2036417 ('Bone Mineral Density|Femoral Neck Bone', '')\n",
      "20169177 rs9271366 ('Systemic Lupus Erythematosus', '')\n",
      "20395239 rs4517412 ('optic disc size', 'Disc')\n",
      "20686608 rs11242674 ('Pancreatic Cancer', '')\n",
      "20838585 rs11258628 ('Cardiovascular Disease', 'LDL')\n",
      "20838585 rs12069004 ('Cardiovascular Disease', 'glucose')\n",
      "20838585 rs6726786 ('Cardiovascular Disease', 'triglycerides')\n",
      "20838585 rs781718 ('Cardiovascular Disease', 'glucose')\n",
      "20861866 rs3750848 ('age-related macular degeneration', '')\n",
      "20881960 rs2280470 ('height', '')\n",
      "20953186 rs13190932 ('psoriasis|psoriatic arthritis', '')\n",
      "20953186 rs13210247 ('psoriasis|psoriatic arthritis', '')\n",
      "20972438 rs798766 ('bladder cancer|bladder', '')\n",
      "21297633 rs6556412 ('ulcerative colitis', '')\n",
      "21297633 rs7554511 ('ulcerative colitis', '')\n",
      "21390209 rs624225 (\"Late-Onset Alzheimer's Disease\", '')\n",
      "21502949 rs4752194 ('brain', '')\n",
      "21738487 rs1079597 (\"Parkinson's Disease\", '')\n",
      "21829393 rs478582 ('Type 1 Diabetes|Autoantibody', '')\n",
      "21931564 rs2014355 ('nuclear magnetic resonance', 'C3/C4')\n",
      "21935397 rs2798311 ('body mass index', '')\n",
      "21935397 rs4771122 ('body mass index', '')\n",
      "22087292 rs13299777 ('Appendicular Lean Mass|Femoral Neck Bone Geometry', '')\n",
      "22087292 rs1368998 ('Appendicular Lean Mass|Femoral Neck Bone Geometry', '')\n",
      "22087292 rs3849874 ('Appendicular Lean Mass|Femoral Neck Bone Geometry', '')\n",
      "22291609 rs11829037 ('Inflammation', 'ESR')\n",
      "22291609 rs12034598 ('Inflammation', 'ESR')\n",
      "22368281 rs1985096 ('LDL-c response|Lpa', '')\n",
      "22412388 rs2076756 (\"Crohn's Disease\", '')\n",
      "22430674 rs744373 (\"Alzheimer's disease\", '')\n",
      "22430674 rs744373 (\"Alzheimer's disease\", '')\n",
      "22452962 rs10995190 ('breast cancer|Breast Cancer', '')\n",
      "22479419 rs4699030 ('Treatment Refractory Schizophrenia', '')\n",
      "22509378 rs4821536 ('Sexual Dysfunction', 'Overall FSD')\n",
      "22719876 rs738407 ('Non-Alcoholic Fatty Liver Disease|Liver Disease', '')\n",
      "22792070 rs2536182 ('Bone Mineral Density,|Bone|Osteoporotic Fracture', '')\n",
      "22832964 rs1245577 ('smoking behaviors', 'AOI')\n",
      "22843504 rs6653872 ('autism spectrum', '')\n",
      "22843504 rs9302952 ('autism spectrum', '')\n",
      "23028483 rs1564606 ('Asthma', '')\n",
      "23251661 rs2266788 ('Childhood Obesity|Childhood', 'Triglycerides(mg/dL)')\n",
      "23259602 rs505982 ('dental caries', '')\n",
      "23300701 rs7136702 ('Colorectal Cancer', '')\n",
      "23326239 rs3115663 ('Antibodies|Epstein-Barr Virus Nuclear Antigen', '')\n",
      "23326239 rs7754768 ('Antibodies|Epstein-Barr Virus Nuclear Antigen', '')\n",
      "23382691 rs10276619 ('Human Immunoglobulin|Cancers|-Glycosylation', '')\n",
      "23509613 rs2857597 ('Antiphospholipid Antibodies', '')\n",
      "23509613 rs2894254 ('Antiphospholipid Antibodies', '')\n",
      "23509613 rs3129934 ('Antiphospholipid Antibodies', '')\n",
      "23509962 rs12880735 ('venous thrombosis', '')\n",
      "23509962 rs3780293 ('venous thrombosis', '')\n",
      "23667675 rs6438424 ('Age Menarche', '')\n",
      "23703922 rs6832439 ('uric acid levels', '')\n",
      "23738518 rs11666805 ('reading|language', '')\n",
      "23844046 rs11265260 ('C-Reactive Protein', '')\n",
      "23979607 rs6888413 ('borderline personality', '')\n",
      "23979607 rs6894288 ('borderline personality', '')\n",
      "23984888 rs11683662 ('airway responsiveness', '')\n",
      "24025145 rs7318267 ('chemotherapy-induced alopecia|breast cancer', '')\n",
      "24086445 rs10770359 ('Schizophrenia|Matter Volume', '')\n",
      "24133439 rs10778511 ('Autistic-Like Traits', '')\n",
      "24166486 rs34706883 ('Schizophrenia', '')\n",
      "24376456 rs13008299 ('blood pressure', 'DBP')\n",
      "24376456 rs3852160 ('blood pressure', 'QT interval')\n",
      "24376456 rs9874923 ('blood pressure', 'MAP')\n",
      "24386095 rs1160985 ('Lipid Levels', 'LDL')\n",
      "24390342 rs678347 ('rheumatoid arthritis|biology', '')\n",
      "24483146 rs11636687 ('biomarkers', '')\n",
      "24483146 rs13171512 ('biomarkers', '')\n",
      "24513273 rs1394125 ('serum uric acid', '')\n",
      "24513273 rs3114018 ('serum uric acid', '')\n",
      "24586186 rs37370 ('Metabolic Traits', '3-Aminoisobutyrate')\n",
      "24586186 rs4921914 ('Metabolic Traits', 'Unknown')\n",
      "24709693 rs66861122 ('Methotrexate Response|Juvenile Idiopathic Arthritis', '')\n",
      "24714607 rs4760851 ('Chronic Mucus Hypersecretion,', '')\n",
      "24892410 rs17338512 ('Hypertension|Pulse Pressure', 'Nighttime PP')\n",
      "24945404 rs10835187 ('Bone Mineral Density|Bone', '')\n",
      "24945404 rs2908004 ('Bone Mineral Density|Bone', '')\n",
      "25060954 rs6472312 ('kinase|hearing', '')\n",
      "25064009 rs11158026 ('Parkinson\\xe2\\x80\\x99s disease', '')\n",
      "25064009 rs11724635 ('Parkinson\\xe2\\x80\\x99s disease', '')\n",
      "25147783 rs1801222 ('Stroke|Vitamin|Folate Levels', '')\n",
      "25162662 rs4666783 ('Serum Ferritin', '')\n",
      "25340798 rs7926920 (\"Proteins Involved|Inflammation|Alzheimer's Disease\", 'MMP3')\n",
      "25364816 rs9362054 ('Diabetic Retinopathy', '')\n",
      "25378659 rs2100944 ('long-chain saturated fatty acids', '')\n",
      "25436638 rs12138950 ('Serum Thyroid Stimulating Hormone', '')\n"
     ]
    }
   ],
   "source": [
    "# # write relations that are not in our dataset\n",
    "# import random\n",
    "\n",
    "# new_assocs = []\n",
    "# for doc in corpus.documents:\n",
    "#     rsids_seen = set()\n",
    "#     for a in assocs:\n",
    "#         if str(a.paper.pubmed_id) != doc.name: continue\n",
    "#         rsids_seen.add(a.snp.rs_id)\n",
    "    \n",
    "#     # print new snps\n",
    "#     for pmid, rsid, phen in associations:\n",
    "#         if pmid != doc.name: continue\n",
    "#         if rsid in rsids_seen: continue\n",
    "#         new_assocs.append((pmid, rsid, phen))\n",
    "# #         print pmid, rsid, phens\n",
    "# #     print '---'\n",
    "\n",
    "random.shuffle(new_assocs)\n",
    "random_subset = list(new_assocs[:100])\n",
    "random_subset = sorted(random_subset)\n",
    "with open('rels.discovered.tsv', 'w') as f:\n",
    "    for pmid, rsid, (glob_phen, loc_phen) in random_subset:\n",
    "        print pmid, rsid, (glob_phen, loc_phen)\n",
    "        f.write('%s\\t%s\\t%s\\t%s\\n' % (pmid, rsid, glob_phen, loc_phen) )\n",
    "    "
   ]
  },
  {
   "cell_type": "markdown",
   "metadata": {},
   "source": [
    "### Save all results"
   ]
  },
  {
   "cell_type": "code",
   "execution_count": 89,
   "metadata": {
    "collapsed": false
   },
   "outputs": [],
   "source": [
    "with open('associations.tsv', 'w') as f:\n",
    "    for (pmid, rsid, (glob_phen, loc_phen)) in associations:\n",
    "        pvals = pval_dict.get(pmid, None)\n",
    "        pval = min(pvals.get(rsid, [-1])) if pvals else -1\n",
    "        loc_phen = '-' if not loc_phen else loc_phen\n",
    "\n",
    "        f.write('%s\\t%s\\t%s\\t%s\\t%f\\n' % (pmid, rsid, glob_phen, loc_phen, pval))"
   ]
  },
  {
   "cell_type": "code",
   "execution_count": null,
   "metadata": {
    "collapsed": true
   },
   "outputs": [],
   "source": []
  }
 ],
 "metadata": {
  "kernelspec": {
   "display_name": "Python 2",
   "language": "python",
   "name": "python2"
  },
  "language_info": {
   "codemirror_mode": {
    "name": "ipython",
    "version": 2
   },
   "file_extension": ".py",
   "mimetype": "text/x-python",
   "name": "python",
   "nbconvert_exporter": "python",
   "pygments_lexer": "ipython2",
   "version": "2.7.2"
  }
 },
 "nbformat": 4,
 "nbformat_minor": 0
}
