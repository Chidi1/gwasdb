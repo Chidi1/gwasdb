{
 "cells": [
  {
   "cell_type": "markdown",
   "metadata": {},
   "source": [
    "# Evaluation notebook"
   ]
  },
  {
   "cell_type": "markdown",
   "metadata": {},
   "source": [
    "Here, we will evaluate the relations extracted in all the other notebooks"
   ]
  },
  {
   "cell_type": "code",
   "execution_count": 1,
   "metadata": {
    "collapsed": false
   },
   "outputs": [],
   "source": [
    "%load_ext autoreload\n",
    "%autoreload 2\n",
    "\n",
    "import sys\n",
    "import cPickle\n",
    "import numpy as np\n",
    "\n",
    "# import snorkel and gwasdb\n",
    "sys.path.append('../snorkel')\n",
    "sys.path.append('../src')\n",
    "sys.path.append('../src/crawler')\n",
    "\n",
    "# set up paths\n",
    "abstract_dir = '../data/db/papers'"
   ]
  },
  {
   "cell_type": "code",
   "execution_count": 2,
   "metadata": {
    "collapsed": false
   },
   "outputs": [
    {
     "name": "stdout",
     "output_type": "stream",
     "text": [
      "CPU times: user 16min 26s, sys: 49.8 s, total: 17min 16s\n",
      "Wall time: 24min 13s\n"
     ]
    }
   ],
   "source": [
    "from snorkel.parser import XMLDocParser, HTMLParser, CorpusParser\n",
    "from extractor.parser import UnicodeXMLTableDocParser, UnicodeTableParser\n",
    "\n",
    "xml_parser = UnicodeXMLTableDocParser(\n",
    "    path=abstract_dir,\n",
    "    doc='./*',\n",
    "    text='.//table',\n",
    "    id='.//article-id[@pub-id-type=\"pmid\"]/text()',\n",
    "    keep_xml_tree=True)\n",
    "\n",
    "table_parser = UnicodeTableParser()\n",
    "html_parser = HTMLParser(path='../data/db/papers/')\n",
    "cp = CorpusParser(xml_parser, table_parser)\n",
    "%time corpus = cp.parse_corpus(name='GWAS Corpus')"
   ]
  },
  {
   "cell_type": "markdown",
   "metadata": {},
   "source": [
    "## Loading results from other notebooks"
   ]
  },
  {
   "cell_type": "markdown",
   "metadata": {},
   "source": [
    "#### Phenotype/rsid relations from tables"
   ]
  },
  {
   "cell_type": "code",
   "execution_count": 44,
   "metadata": {
    "collapsed": false
   },
   "outputs": [
    {
     "name": "stdout",
     "output_type": "stream",
     "text": [
      "2130 loaded, e.g.:\n",
      "[(('21738491', 1, 3, 2), ('rs12143842', 'QT')), (('20585627', 2, 8, 1), ('rs12931267', 'Red hair')), (('17903306', 4, 31, 1), ('rs2195926', 'SDNN')), (('17903301', 2, 9, 1), ('rs10514431', 'left ventricular diastolic dimension')), (('24376456', 3, 36, 2), ('rs2410182', 'Coronary heart disease'))]\n"
     ]
    }
   ],
   "source": [
    "phen_table_associations = dict()\n",
    "with open('phen-rsid.table.rel.all.tsv') as f:\n",
    "    for line in f:\n",
    "        fields = line.strip().split('\\t')\n",
    "        pmid, rsid, phen, pval, _, table_id, row_id, col_id = fields\n",
    "        pval, table_id, row_id, col_id = float(pval), int(table_id), int(row_id), int(col_id)\n",
    "        # note that we assume that an rsid at a givel location will correspond to 1 phenotype\n",
    "        phen_table_associations[pmid, table_id, row_id, col_id] = (rsid, phen)\n",
    "        \n",
    "print len(phen_table_associations), 'loaded, e.g.:'\n",
    "print phen_table_associations.items()[:5]"
   ]
  },
  {
   "cell_type": "markdown",
   "metadata": {},
   "source": [
    "#### PMID/Phenotype relations extracted from titles/abstracts"
   ]
  },
  {
   "cell_type": "code",
   "execution_count": 57,
   "metadata": {
    "collapsed": false
   },
   "outputs": [
    {
     "name": "stdout",
     "output_type": "stream",
     "text": [
      "589 phenotypes loaded, e.g.:\n",
      "[('23738518', 'reading|language'), ('19056611', 'Type 2 Diabetes'), ('21298047', 'European-Origin|Substance Dependence'), ('23104006', 'endometriosis'), ('20072603', 'Osteoporosis')]\n",
      "322 table ids loaded, e.g.:\n",
      "[('23936387', 5), ('20935630', 0), ('24778558', 0), ('22589738', 1), ('22479202', 3)]\n"
     ]
    }
   ],
   "source": [
    "phen_text_associations = dict()\n",
    "with open('phenotypes.extracted.tsv') as f:\n",
    "    for line in f:\n",
    "        pmid, phen = line.strip().split('\\t')\n",
    "        phen_text_associations[pmid] = phen\n",
    "        \n",
    "print len(phen_text_associations), 'phenotypes loaded, e.g.:'\n",
    "print phen_text_associations.items()[:5]                           "
   ]
  },
  {
   "cell_type": "markdown",
   "metadata": {},
   "source": [
    "#### RSID/Pvalue relations extracted from tables"
   ]
  },
  {
   "cell_type": "code",
   "execution_count": 95,
   "metadata": {
    "collapsed": false
   },
   "outputs": [
    {
     "name": "stdout",
     "output_type": "stream",
     "text": [
      "11057 relations loaded, e.g.:\n",
      "[(('22504420', 0, 33, 0, 'rs4790881'), set([0.0, 0.0006, 2e-06])), (('22396660', 1, 6, 1, 'rs11746443'), set([0.98])), (('24094242', 1, 19, 0, 'rs7267979'), set([0.0])), (('17903302', 1, 21, 2, 'rs1408263'), set([2.4e-05])), (('17903294', 2, 20, 1, 'rs727979'), set([2.6e-05, 7e-06]))]\n"
     ]
    }
   ],
   "source": [
    "pval_table_associations = dict()\n",
    "with open('pval-rsid.raw.cols.tsv') as f:\n",
    "    for line in f:\n",
    "        pmid, rsid, table_id, row_id, col_id, pval = line.strip().split('\\t')\n",
    "        pval, table_id, row_id, col_id = float(pval), int(table_id), int(row_id), int(col_id)\n",
    "        \n",
    "        key = pmid, table_id, row_id, col_id, rsid\n",
    "        if key not in pval_table_associations: pval_table_associations[key] = set()\n",
    "        pval_table_associations[key].add(pval)\n",
    "\n",
    "print len(pval_table_associations), 'relations loaded, e.g.:'\n",
    "print pval_table_associations.items()[:5]      "
   ]
  },
  {
   "cell_type": "markdown",
   "metadata": {},
   "source": [
    "#### Table annotations"
   ]
  },
  {
   "cell_type": "code",
   "execution_count": 103,
   "metadata": {
    "collapsed": false
   },
   "outputs": [
    {
     "name": "stdout",
     "output_type": "stream",
     "text": [
      "671 suspcious table ids loaded, e.g.:\n",
      "[('21273288', 1), ('19343178', 1), ('23028341', 2), ('23844046', 3), ('24143190', 1)]\n"
     ]
    }
   ],
   "source": [
    "non_gwas_tables = set()\n",
    "with open('table-annotations.tsv') as f:\n",
    "    for line in f:\n",
    "        pmid, table_id, pval_found, lod_found = line.strip().split('\\t')\n",
    "        if int(pval_found) or int(lod_found):\n",
    "            non_gwas_tables.add((pmid, int(table_id)))\n",
    "                                  \n",
    "print len(non_gwas_tables), 'suspcious table ids loaded, e.g.:'\n",
    "print list(non_gwas_tables)[:5]   "
   ]
  },
  {
   "cell_type": "markdown",
   "metadata": {
    "collapsed": true
   },
   "source": [
    "#### Singleton RSids"
   ]
  },
  {
   "cell_type": "code",
   "execution_count": 79,
   "metadata": {
    "collapsed": false
   },
   "outputs": [
    {
     "name": "stdout",
     "output_type": "stream",
     "text": [
      "12309 loaded, e.g.:\n",
      "[(('23128233', 0, 17, 2), 'rs9264942'), (('25129146', 0, 8, 0), 'rs1642764'), (('23754948', 1, 6, 0), 'rs10478424'), (('17903301', 2, 9, 1), 'rs10514431'), (('17903307', 1, 66, 1), 'rs1393593')]\n"
     ]
    }
   ],
   "source": [
    "singleton_associations = dict()\n",
    "with open('rsids.singletons.all.tsv') as f:\n",
    "    for line in f:\n",
    "        pmid, table_id, row_id, col_id, rsid = line.strip().split()\n",
    "        table_id, row_id, col_id = int(table_id), int(row_id), int(col_id)\n",
    "        singleton_associations[pmid, table_id, row_id, col_id] = rsid\n",
    "\n",
    "print len(singleton_associations), 'loaded, e.g.:'\n",
    "print singleton_associations.items()[:5]\n",
    "\n",
    "n_singletons_by_table = dict()\n",
    "for (pmid, table_id, row_id, col_id), rsid in singleton_associations.items():\n",
    "    key = pmid, table_id\n",
    "    if key not in n_singletons_by_table: n_singletons_by_table[key] = 0\n",
    "    n_singletons_by_table[key] += 1"
   ]
  },
  {
   "cell_type": "markdown",
   "metadata": {},
   "source": [
    "## Construct a list valid relations"
   ]
  },
  {
   "cell_type": "code",
   "execution_count": 7,
   "metadata": {
    "collapsed": true
   },
   "outputs": [],
   "source": [
    "# TODO: load pvalues properly, use them to filter stuff downstream, do acroynm resolution here"
   ]
  },
  {
   "cell_type": "code",
   "execution_count": 104,
   "metadata": {
    "collapsed": false
   },
   "outputs": [
    {
     "name": "stdout",
     "output_type": "stream",
     "text": [
      "7838 associations, e.g.:\n",
      "[('21738491', 'rs12143842', ('Sudden Cardiac Death', 'QT')), ('20585627', 'rs12931267', ('Common Traits', 'Red hair')), ('24376456', 'rs2410182', ('blood pressure', 'Coronary heart disease')), ('17903295', 'rs2543600', ('longevity|age-related phenotypes', 'Age at death')), ('20838585', 'rs726914', ('Cardiovascular Disease', 'systolic BP'))]\n",
      "There were 357 singletons\n"
     ]
    }
   ],
   "source": [
    "import re\n",
    "\n",
    "def clean(phen):\n",
    "    phen = re.sub('[)():.]+', '', phen)\n",
    "    phen = re.sub('^or ', '', phen)\n",
    "    phen = phen.strip()\n",
    "    return phen\n",
    "\n",
    "associations = []\n",
    "\n",
    "tables_found = {(pmid, table_id) for pmid, table_id, _, _, _ in pval_table_associations} # with pvalues\n",
    "tables_found.update(non_gwas_tables)\n",
    "\n",
    "# record table associations wth pval < 1e-5 or no pval reported\n",
    "chosen_rsids = set()\n",
    "for (pmid, table_id, row_id, col_id), (rsid, loc_phen) in phen_table_associations.items():\n",
    "    pvals = pval_table_associations.get((pmid, table_id, row_id, col_id, rsid), [])\n",
    "    glob_phen = clean(phen_text_associations[pmid])\n",
    "    if (pvals and min(pvals) < 1e-5) or (not pvals and (pmid, table_id) not in tables_found):\n",
    "        associations.append((pmid, rsid, (glob_phen, loc_phen)))\n",
    "        chosen_rsids.add((pmid, table_id, row_id, col_id, rsid))\n",
    "\n",
    "\n",
    "# record associations with no local phenotype\n",
    "for (pmid, table_id, row_id, col_id, rsid), pvals in pval_table_associations.items():\n",
    "    # skip low-pvalue snps and snps that we already added\n",
    "    if pvals and min(pvals) > 1e-5: continue\n",
    "    if (pmid, table_id, row_id, col_id, rsid) in chosen_rsids: continue\n",
    "    \n",
    "    # append with global phenotype\n",
    "    phen = clean(phen_text_associations[pmid])\n",
    "    associations.append((pmid, rsid, (phen, '')))    \n",
    "    chosen_rsids.add((pmid, table_id, row_id, col_id, rsid))\n",
    "\n",
    "# record singletons\n",
    "n_singletons_added = 0\n",
    "for (pmid, table_id, row_id, col_id), rsid in singleton_associations.items():\n",
    "    if (pmid, table_id, row_id, col_id, rsid) in chosen_rsids: continue\n",
    "    if (pmid, table_id) in tables_found: continue\n",
    "    if n_singletons_by_table[(pmid, table_id)] < 30: continue\n",
    "    phen = clean(phen_text_associations[pmid])\n",
    "    associations.append((pmid, rsid, (phen, ''))) \n",
    "    n_singletons_added += 1\n",
    "\n",
    "print len(associations), 'associations, e.g.:'\n",
    "print associations[:5]    \n",
    "print 'There were %d singletons' % n_singletons_added"
   ]
  },
  {
   "cell_type": "markdown",
   "metadata": {},
   "source": [
    "## Comparing to GWAS central"
   ]
  },
  {
   "cell_type": "code",
   "execution_count": 43,
   "metadata": {
    "collapsed": false
   },
   "outputs": [
    {
     "name": "stdout",
     "output_type": "stream",
     "text": [
      "False\n"
     ]
    }
   ],
   "source": [
    "print ('17903296', 1) not in tables_found"
   ]
  },
  {
   "cell_type": "code",
   "execution_count": 16,
   "metadata": {
    "collapsed": false
   },
   "outputs": [
    {
     "name": "stdout",
     "output_type": "stream",
     "text": [
      "589 documents, 7583 associations\n"
     ]
    }
   ],
   "source": [
    "from db.kb import KnowledgeBase\n",
    "\n",
    "kb = KnowledgeBase()\n",
    "assocs = [assoc for doc in corpus.documents for assoc in kb.assoc_by_pmid(doc.name) if assoc.source == 'gwas_central' and assoc.pvalue < 1e-5]\n",
    "\n",
    "print '%d documents, %d associations' % (len(corpus.documents), len(assocs))"
   ]
  },
  {
   "cell_type": "markdown",
   "metadata": {},
   "source": [
    "### Set up map of GWC to GWASDB phenotypes"
   ]
  },
  {
   "cell_type": "code",
   "execution_count": 105,
   "metadata": {
    "collapsed": false
   },
   "outputs": [],
   "source": [
    "rel_dict = { (pmid, rsid) : set() for (pmid, rsid, phen) in associations }\n",
    "for (pmid, rsid, phen) in associations:\n",
    "    rel_dict[(pmid, rsid)].add(phen)\n",
    "\n",
    "gold_rel_dict = { (a.paper.pubmed_id, a.snp.rs_id) : set() for a in assocs }\n",
    "for a in assocs:\n",
    "    gold_rel_dict[(a.paper.pubmed_id, a.snp.rs_id)].add(a.phenotype.name)"
   ]
  },
  {
   "cell_type": "code",
   "execution_count": 199,
   "metadata": {
    "collapsed": false
   },
   "outputs": [],
   "source": [
    "out_set = set()\n",
    "for a in assocs:\n",
    "    s1 = gold_rel_dict[(a.paper.pubmed_id, a.snp.rs_id)]\n",
    "    s2 = rel_dict.get((str(a.paper.pubmed_id), a.snp.rs_id), None)\n",
    "    if s1 and s2:\n",
    "        for name1 in s1:\n",
    "            for name2a, name2b in s2:\n",
    "                name1 = str(name1)\n",
    "                score = phen_scores.get((name1.lower(), name2a.lower(), name2b.lower()), '')\n",
    "                out_set.add('%s\\t%s\\t%s\\t%s\\n' % (name1, name2a, name2b, score))\n",
    "\n",
    "with open('phenotype.mapping.tsv', 'w') as f:                    \n",
    "    for out_str in out_set:\n",
    "        f.write(out_str)"
   ]
  },
  {
   "cell_type": "markdown",
   "metadata": {},
   "source": [
    "Dictionary legend in 0: wrong, 1: acronym, 2: imprecise, 3: correct"
   ]
  },
  {
   "cell_type": "code",
   "execution_count": 11,
   "metadata": {
    "collapsed": false
   },
   "outputs": [],
   "source": [
    "phen_map = dict()\n",
    "phen_scores = dict()\n",
    "with open('phenotype.mapping.annotated.txt') as f:                    \n",
    "    lines = f.read().split('\\r')\n",
    "    for line in lines:\n",
    "        fields = line.strip().split('\\t')\n",
    "        fields = [re.sub('\"', '', f) for f in fields]\n",
    "        try:\n",
    "            orig_name, glob_name, loc_name, score = fields\n",
    "        except ValueError:\n",
    "            if len(fields) == 2:\n",
    "                orig_name, glob_name = fields\n",
    "                loc_name = ''\n",
    "            else:\n",
    "                orig_name, glob_name, loc_name = fields\n",
    "            score = 3\n",
    "        phen_scores[(orig_name.lower(), glob_name.lower(), loc_name.lower())] = score\n",
    "        if score in ('2', '3'):\n",
    "            key = (glob_name, loc_name)\n",
    "            if key not in phen_map: phen_map[key] = set()\n",
    "            phen_map[key].add(orig_name)"
   ]
  },
  {
   "cell_type": "markdown",
   "metadata": {},
   "source": [
    "### Look at recall relative to GWAS Central"
   ]
  },
  {
   "cell_type": "code",
   "execution_count": 13,
   "metadata": {
    "collapsed": true
   },
   "outputs": [],
   "source": [
    "import re\n",
    "\n",
    "def paper_contains(pmid, quote):\n",
    "    with open('../data/db/papers/%d.xml' % pmid) as f:\n",
    "        txt = f.read()\n",
    "        return True if re.search(quote, txt) else False"
   ]
  },
  {
   "cell_type": "code",
   "execution_count": 112,
   "metadata": {
    "collapsed": false
   },
   "outputs": [
    {
     "name": "stdout",
     "output_type": "stream",
     "text": [
      "2574 42 482 3087\n",
      "Biggest omissions: [(19197348, 16), (18159244, 15), (23400010, 14), (21810271, 11), (24121790, 10), (24058526, 10), (22747683, 9), (22675492, 8), (21533175, 8), (23202124, 7), (22493691, 7), (22504420, 7), (21738487, 7), (23903356, 7), (23583978, 7)]\n"
     ]
    }
   ],
   "source": [
    "# display directly the results we found\n",
    "n_correct = 0\n",
    "n_imprecise = 0\n",
    "n_missing = 0\n",
    "n_wrong = 0\n",
    "n_total = 0\n",
    "n_new = 0\n",
    "invalid_per_paper = { a.paper.pubmed_id : 0 for a in assocs }\n",
    "seen = set()\n",
    "for a in assocs:\n",
    "    if (a.paper.pubmed_id, a.snp.rs_id, a.phenotype.name) in seen: continue\n",
    "    seen.add((a.paper.pubmed_id, a.snp.rs_id, a.phenotype.name))\n",
    "    \n",
    "    gold_phen_set = {a.phenotype.name}\n",
    "    pred_phen_set = rel_dict.get((str(a.paper.pubmed_id), a.snp.rs_id), {})\n",
    "    tmp = list(pred_phen_set)\n",
    "    if tmp and tmp[0][1].startswith('Age at'):\n",
    "        n_correct += 1\n",
    "        continue\n",
    "    pred_phen_set2 = {m for p in pred_phen_set for m in phen_map.get(p, {})}\n",
    "    if gold_phen_set & pred_phen_set2: \n",
    "        n_correct += 1\n",
    "        n_total += 1\n",
    "    else:\n",
    "        if paper_contains(a.paper.pubmed_id, a.snp.rs_id):\n",
    "            if a.paper.pubmed_id == 23509613:\n",
    "                print a.snp.rs_id, gold_phen_set, pred_phen_set, pred_phen_set2\n",
    "            if pred_phen_set2:\n",
    "                n_wrong += 1\n",
    "            else:\n",
    "                n_missing += 1\n",
    "            n_total += 1\n",
    "            invalid_per_paper[a.paper.pubmed_id] += 1\n",
    "\n",
    "print n_correct, n_wrong, n_missing, n_total\n",
    "\n",
    "print 'Biggest omissions:', sorted(invalid_per_paper.items(), key=lambda x: x[1], reverse=True)[:15]\n"
   ]
  },
  {
   "cell_type": "markdown",
   "metadata": {},
   "source": [
    "#### Notes from all papers:\n",
    "\n",
    "19197348: (Korsae islanders) No global phenotype, need to handle phenotype headers. Some not parsed because exact match not in dict, need to search for n-grams\n",
    "23400010: All the SNPs are in text!!\n",
    "19305408: Phenotype incorrect? QT Interval vs sudden cardian death. But QT interval is in abstract\n",
    "22760553: citalopram in dict but connected to a dash in title. Add \"side effects\" to matched keywords?\n",
    "22747683: They're in text\n",
    "22675492: Estradiol gets pushed our because \"testosterone,\" and \"testostreone\" both present\n",
    "21533175: can't parse 'Serum dehydroepiandrosterone sulphate levels' (acronym in text)\n",
    "23202124: It's all in text\n",
    "22493691: pvalue/rel not parsed in table (WTF!)\n",
    "23903356: all in text (not abstract)\n",
    "23583978: in the text (some in abstract)\n",
    "23563607: Phenotype headers not fully matched (e.g. Obesity type-2) and \"trails\" instead of traits\n",
    "\n",
    "\n",
    "\n",
    "Idea: Match spans if they contain the same words, but potentially in a different order"
   ]
  },
  {
   "cell_type": "markdown",
   "metadata": {},
   "source": [
    "#### Notes from first 100:\n",
    "\n",
    "470 fully correct\n",
    "\n",
    "19197348: Phenotype headers\n",
    "18159244: Completely messed-up way of writing down p-values\n",
    "17903302: Acronyms\n",
    "17903305: Phenotype headers, errors (prostate vs breast cancer)\n",
    "19043545: Mentions in text\n",
    "17447842: Mentions in text (also: Messed-up way of writing table (induced cells should help)\n",
    "17658951: Extraction from text\n",
    "17903296: e.g. Neck phenotype acronym has an undocumented male/female suffix\n",
    "19557161: In text, and one table entry strangely doesn't seem have been found"
   ]
  },
  {
   "cell_type": "markdown",
   "metadata": {},
   "source": [
    "### Look at precision"
   ]
  },
  {
   "cell_type": "code",
   "execution_count": 111,
   "metadata": {
    "collapsed": false
   },
   "outputs": [
    {
     "name": "stdout",
     "output_type": "stream",
     "text": [
      "('17903305', 'rs208354', set([('prostate cancer|breast', '')]))\n",
      "('18483556', 'rs9392056', set([('Hair Color|Skin Pigmentation', '')]))\n",
      "('19812673', 'rs4742409', set([('AUTISM', '')]))\n",
      "('20418485', 'rs1993116', set([('vitamin D levels', '')]))\n",
      "('20585627', 'rs154659', set([('Common Traits', 'Freckling')]))\n",
      "('20661308', 'rs10119', set([('Serum Calcium', '')]))\n",
      "('20927387', 'rs5756506', set([('Cell Traits|Red Blood Cell', 'MCH')]))\n",
      "('20932310', 'rs11069178', set([('\\xcf\\x84 protein levels', '')]))\n",
      "('21273288', 'rs1004565', set([('NT-proBNP', '')]))\n",
      "('21297633', 'rs1893217', set([('ulcerative colitis', '')]))\n",
      "('21408207', 'rs2248932', set([('Systemic Lupus Erythematosus|Autoantibody', '')]))\n",
      "('21437268', 'rs1573496', set([('Cancers|Conducted|Upper Aerodigestive Tract', '')]))\n",
      "('21448238', 'rs10275320', set([('migraine', '')]))\n",
      "('21552555', 'rs9930333', set([('Obesity|Obesity-Related Traits', '')]))\n",
      "('21738491', 'rs174230', set([('Sudden Cardiac Death', '')]))\n",
      "('21931564', 'rs2216405', set([('nuclear magnetic resonance', 'Gly\\xe2\\x80\\x93PTC/PC ae C38:2'), ('nuclear magnetic resonance', 'Gly-PTC/PC ae C38:2')]))\n",
      "('21935397', 'rs10508503', set([('body mass index', '')]))\n",
      "('21935397', 'rs2287019', set([('body mass index', '')]))\n",
      "('21980299', 'rs3741208', set([('Type 1 Diabetes', '')]))\n",
      "('22238593', 'rs7560163', set([('Type 2 Diabetes', '')]))\n",
      "('22291609', 'rs4910742', set([('Inflammation', 'ESR')]))\n",
      "('22359512', 'rs197770', set([('sphingolipids', '')]))\n",
      "('22368281', 'rs721843', set([('LDL-c response|Lpa', '')]))\n",
      "('22570697', 'rs757262', set([('Multiple Sclerosis', '')]))\n",
      "('22829776', 'rs9303218', set([('Globulin|Hormone|Steroid Hormone', '')]))\n",
      "('23259602', 'rs788919', set([('dental caries', '')]))\n",
      "('23326239', 'rs10947262', set([('Antibodies|Epstein-Barr Virus Nuclear Antigen', '')]))\n",
      "('23386860', 'rs12378245', set([('iron intake|type 2 diabetes', '')]))\n",
      "('23401653', 'rs6850748', set([('size|corneal|platelet-derived growth factor', '')]))\n",
      "('23408906', 'rs10420008', set([('Thyroid|Differences|Thyroid Function', 'TSH')]))\n",
      "('23509962', 'rs467650', set([('venous thrombosis', '')]))\n",
      "('23636237', 'rs11725988', set([('body mass index', '')]))\n",
      "('23900074', 'rs6772228', set([('telomere length|cancer', '')]))\n",
      "('23966204', 'rs7297949', set([('bitter taste perception|bitter taste', '')]))\n",
      "('24097068', 'rs17173637', set([('Lipid Levels', '')]))\n",
      "('24097068', 'rs1832007', set([('Lipid Levels', '')]))\n",
      "('24324551', 'rs182503338', set([('Chagas Cardiomyopathy|Trypanosoma cruzi Seropositive', 'QRS')]))\n",
      "('24379826', 'rs938553', set([('serum uric acid levels', 'Body weight')]))\n",
      "('24489884', 'rs670292', set([('aggression', '')]))\n",
      "('24513273', 'rs11722228', set([('serum uric acid', '')]))\n",
      "('24586183', 'rs11675434', set([('Thyroid Peroxidase Antibodies|Thyroid Disease', '')]))\n",
      "('24625756', 'rs887829', set([('chronic kidney disease,', '')]))\n",
      "('24709693', 'rs10956445', set([('Methotrexate Response|Juvenile Idiopathic Arthritis', '')]))\n",
      "('24709693', 'rs6506122', set([('Methotrexate Response|Juvenile Idiopathic Arthritis', '')]))\n",
      "('24740154', 'rs11839053', set([('Prostate Cancer|Early-Onset', '')]))\n",
      "('24800985', 'rs2267386', set([('birth', '')]))\n",
      "('24886709', 'rs5880', set([('lipid', '')]))\n",
      "('24999842', 'rs212402', set([('Celiac Disease|Celiac', '')]))\n",
      "('25064009', 'rs115185635', set([('Parkinson\\xe2\\x80\\x99s disease', '')]))\n",
      "('25241909', 'rs1964516', set([('chronic obstructive pulmonary disease|chronic bronchitis', '')]))\n"
     ]
    }
   ],
   "source": [
    "# # write relations that are not in our dataset\n",
    "# import random\n",
    "\n",
    "# new_assocs = []\n",
    "# for doc in corpus.documents:\n",
    "#     rsids_seen = set()\n",
    "#     for a in assocs:\n",
    "#         if str(a.paper.pubmed_id) != doc.name: continue\n",
    "#         rsids_seen.add(a.snp.rs_id)\n",
    "    \n",
    "#     # print new snps\n",
    "#     for (pmid, rsid), phens in rel_dict.items():\n",
    "#         if pmid != doc.name: continue\n",
    "#         if rsid in rsids_seen: continue\n",
    "#         new_assocs.append((pmid, rsid, phens))\n",
    "# #         print pmid, rsid, phens\n",
    "# #     print '---'\n",
    "\n",
    "random.shuffle(new_assocs)\n",
    "random_subset = list(new_assocs[:50])\n",
    "random_subset = sorted(random_subset)\n",
    "with open('rels.discovered.tsv', 'w') as f:\n",
    "    for new_a in random_subset:\n",
    "        print new_a\n",
    "    "
   ]
  },
  {
   "cell_type": "code",
   "execution_count": 89,
   "metadata": {
    "collapsed": false
   },
   "outputs": [],
   "source": [
    "with open('associations.tsv', 'w') as f:\n",
    "    for (pmid, rsid, (glob_phen, loc_phen)) in associations:\n",
    "        pvals = pval_dict.get(pmid, None)\n",
    "        pval = min(pvals.get(rsid, [-1])) if pvals else -1\n",
    "        loc_phen = '-' if not loc_phen else loc_phen\n",
    "\n",
    "        f.write('%s\\t%s\\t%s\\t%s\\t%f\\n' % (pmid, rsid, glob_phen, loc_phen, pval))"
   ]
  },
  {
   "cell_type": "code",
   "execution_count": null,
   "metadata": {
    "collapsed": true
   },
   "outputs": [],
   "source": []
  }
 ],
 "metadata": {
  "kernelspec": {
   "display_name": "Python 2",
   "language": "python",
   "name": "python2"
  },
  "language_info": {
   "codemirror_mode": {
    "name": "ipython",
    "version": 2
   },
   "file_extension": ".py",
   "mimetype": "text/x-python",
   "name": "python",
   "nbconvert_exporter": "python",
   "pygments_lexer": "ipython2",
   "version": "2.7.2"
  }
 },
 "nbformat": 4,
 "nbformat_minor": 0
}
