{
 "cells": [
  {
   "cell_type": "markdown",
   "metadata": {},
   "source": [
    "# Phenotype acronym extraction"
   ]
  },
  {
   "cell_type": "code",
   "execution_count": 26,
   "metadata": {
    "collapsed": false
   },
   "outputs": [
    {
     "name": "stdout",
     "output_type": "stream",
     "text": [
      "The autoreload extension is already loaded. To reload it, use:\n",
      "  %reload_ext autoreload\n"
     ]
    }
   ],
   "source": [
    "%load_ext autoreload\n",
    "%autoreload 2\n",
    "\n",
    "import sys\n",
    "import cPickle\n",
    "import numpy as np\n",
    "\n",
    "# import snorkel and gwasdb\n",
    "sys.path.append('../snorkel')\n",
    "sys.path.append('../src')\n",
    "sys.path.append('../src/crawler')\n",
    "\n",
    "# set up paths\n",
    "abstract_dir = '../data/db/papers'\n",
    "\n",
    "# set up matplotlib\n",
    "import matplotlib\n",
    "%matplotlib inline\n",
    "matplotlib.rcParams['figure.figsize'] = (12,4)"
   ]
  },
  {
   "cell_type": "markdown",
   "metadata": {},
   "source": [
    "## Load corpus"
   ]
  },
  {
   "cell_type": "code",
   "execution_count": 27,
   "metadata": {
    "collapsed": false
   },
   "outputs": [],
   "source": [
    "from snorkel.parser import XMLDocParser\n",
    "from extractor.parser import UnicodeXMLTableDocParser\n",
    "\n",
    "xml_parser = UnicodeXMLTableDocParser(\n",
    "    path=abstract_dir,\n",
    "    doc='./*',\n",
    "    text='.//table',\n",
    "    id='.//article-id[@pub-id-type=\"pmid\"]/text()',\n",
    "    keep_xml_tree=True)"
   ]
  },
  {
   "cell_type": "code",
   "execution_count": 28,
   "metadata": {
    "collapsed": false
   },
   "outputs": [
    {
     "name": "stdout",
     "output_type": "stream",
     "text": [
      "CPU times: user 54.7 s, sys: 2.99 s, total: 57.7 s\n",
      "Wall time: 1min 24s\n"
     ]
    }
   ],
   "source": [
    "from snorkel.parser import CorpusParser, OmniParser\n",
    "import cPickle\n",
    "\n",
    "table_parser = OmniParser()\n",
    "\n",
    "corpus_name = 'gwas-table-corpus.pkl'\n",
    "try:\n",
    "    with open(corpus_name,\"r\") as pkl:\n",
    "        corpus = cPickle.load(pkl)\n",
    "except:\n",
    "    cp = CorpusParser(xml_parser, table_parser, max_docs=15)\n",
    "    %time corpus = cp.parse_corpus(name='GWAS Corpus')\n",
    "    # pickling currently doesn't work...\n",
    "#     with open(corpus_name,\"w\") as pkl:\n",
    "#         corpus = cPickle.dump(corpus, pkl)"
   ]
  },
  {
   "cell_type": "markdown",
   "metadata": {},
   "source": [
    "## Candidate extraction"
   ]
  },
  {
   "cell_type": "markdown",
   "metadata": {
    "collapsed": true
   },
   "source": [
    "### From tables"
   ]
  },
  {
   "cell_type": "code",
   "execution_count": 29,
   "metadata": {
    "collapsed": false
   },
   "outputs": [],
   "source": [
    "from snorkel.matchers import DictionaryMatch, Union, CellNameMatcher, CellDictNameMatcher\n",
    "from snorkel.candidates import EntityExtractor\n",
    "from snorkel.candidates import TableNgrams, CellSpace\n",
    "\n",
    "# Define a candidate space\n",
    "cells = CellSpace()\n",
    "\n",
    "# Create a list of possible words that could denote phenotypes\n",
    "acro_words = ['abbreviation', 'acronym']\n",
    "phen_words = ['trait', 'phenotype']\n",
    "\n",
    "# Define matchers\n",
    "phen_matcher = CellDictNameMatcher(axis='col', d=phen_words, n_max=3, ignore_case=True)\n",
    "acro_matcher = CellDictNameMatcher(axis='col', d=acro_words, n_max=3, ignore_case=True)\n",
    "\n",
    "phen_extractor = EntityExtractor(cells, phen_matcher)\n",
    "acro_extractor = EntityExtractor(cells, acro_matcher)"
   ]
  },
  {
   "cell_type": "code",
   "execution_count": 30,
   "metadata": {
    "collapsed": false
   },
   "outputs": [],
   "source": [
    "from snorkel.candidates import AlignedTableRelationExtractor\n",
    "relation_extractor = AlignedTableRelationExtractor(phen_extractor, acro_extractor, axis='row', induced=False)\n",
    "tables = corpus.get_tables()"
   ]
  },
  {
   "cell_type": "code",
   "execution_count": 31,
   "metadata": {
    "collapsed": false
   },
   "outputs": [
    {
     "name": "stdout",
     "output_type": "stream",
     "text": [
      "CPU times: user 23min 2s, sys: 11.2 s, total: 23min 13s\n",
      "Wall time: 23min 20s\n",
      "58 relations extracted, e.g.\n",
      "SpanPair(Span(\"CD40 Ligand, serum & plasma\", context=None, chars=[0,26], words=[0,5]), Span(\"CD40L\", context=None, chars=[0,4], words=[0,0]))\n",
      "SpanPair(Span(\"2\", context=None, chars=[0,0], words=[0,0]), Span(\"CD40L\", context=None, chars=[0,4], words=[0,0]))\n",
      "SpanPair(Span(\"C-reactive protein\", context=None, chars=[0,17], words=[0,1]), Span(\"CRP\", context=None, chars=[0,2], words=[0,0]))\n",
      "SpanPair(Span(\"5\", context=None, chars=[0,0], words=[0,0]), Span(\"CRP\", context=None, chars=[0,2], words=[0,0]))\n",
      "SpanPair(Span(\"Intercellular adhesion molecule-1\", context=None, chars=[0,32], words=[0,2]), Span(\"ICAM1\", context=None, chars=[0,4], words=[0,0]))\n"
     ]
    }
   ],
   "source": [
    "%time candidates = relation_extractor.extract(tables, name='all')\n",
    "table_c = candidates\n",
    "print \"%s relations extracted, e.g.\" % len(table_c)\n",
    "for cand in table_c[:5]: \n",
    "    print cand"
   ]
  },
  {
   "cell_type": "code",
   "execution_count": 349,
   "metadata": {
    "collapsed": false
   },
   "outputs": [
    {
     "name": "stdout",
     "output_type": "stream",
     "text": [
      "Table('17903293', 0) SpanPair(Span(\"CD40 Ligand, serum & plasma\", context=None, chars=[0,26], words=[0,5]), Span(\"CD40L\", context=None, chars=[0,4], words=[0,0]))\n",
      "Table('17903293', 0) SpanPair(Span(\"2\", context=None, chars=[0,0], words=[0,0]), Span(\"CD40L\", context=None, chars=[0,4], words=[0,0]))\n",
      "Table('17903293', 0) SpanPair(Span(\"C-reactive protein\", context=None, chars=[0,17], words=[0,1]), Span(\"CRP\", context=None, chars=[0,2], words=[0,0]))\n",
      "Table('17903293', 0) SpanPair(Span(\"5\", context=None, chars=[0,0], words=[0,0]), Span(\"CRP\", context=None, chars=[0,2], words=[0,0]))\n",
      "Table('17903293', 0) SpanPair(Span(\"Intercellular adhesion molecule-1\", context=None, chars=[0,32], words=[0,2]), Span(\"ICAM1\", context=None, chars=[0,4], words=[0,0]))\n"
     ]
    }
   ],
   "source": [
    "for cand in table_c[:5]: \n",
    "    print cand.span0.context.table, cand"
   ]
  },
  {
   "cell_type": "markdown",
   "metadata": {},
   "source": [
    "### From text"
   ]
  },
  {
   "cell_type": "code",
   "execution_count": 350,
   "metadata": {
    "collapsed": false
   },
   "outputs": [
    {
     "name": "stdout",
     "output_type": "stream",
     "text": [
      "CPU times: user 882 ms, sys: 128 ms, total: 1.01 s\n",
      "Wall time: 6.58 s\n"
     ]
    }
   ],
   "source": [
    "from snorkel.parser import SentenceParser, CorpusParser\n",
    "from extractor.parser import UnicodeXMLDocParser, GWASXMLDocParser\n",
    "\n",
    "xml_parser = GWASXMLDocParser(\n",
    "    path=abstract_dir,\n",
    "    doc='./*',\n",
    "    title='.//front//article-title//text()',\n",
    "    abstract='.//abstract//p//text()',\n",
    "    n_par=5,\n",
    "    id='.//article-id[@pub-id-type=\"pmid\"]/text()',\n",
    "    keep_xml_tree=True)\n",
    "\n",
    "sent_parser = SentenceParser()\n",
    "cp = CorpusParser(xml_parser, sent_parser, max_docs=15)\n",
    "%time text_corpus = cp.parse_corpus(name='GWAS Text Corpus')"
   ]
  },
  {
   "cell_type": "code",
   "execution_count": 351,
   "metadata": {
    "collapsed": false
   },
   "outputs": [],
   "source": [
    "from snorkel.candidates import Ngrams, CellSpace, TableNgrams\n",
    "from snorkel.matchers import RegexMatchSpan\n",
    "from snorkel.candidates import EntityExtractor, RelationExtractor, UnionExtractor\n",
    "\n",
    "# Define a candidate space\n",
    "ngrams6 = Ngrams(n_max=6)\n",
    "ngrams3 = Ngrams(n_max=3)\n",
    "cells = CellSpace()\n",
    "table_ngrams3 = TableNgrams(n_max=3)\n",
    "\n",
    "# Define matchers\n",
    "phen_matcher = RegexMatchSpan(rgx=r'.+ \\([a-zA-Z-]{1,5}[0-9]{0,2}[\\);]')\n",
    "acro_matcher = RegexMatchSpan(rgx=r'\\([a-zA-Z-]{1,5}[0-9]{0,2}[\\);]')\n",
    "\n",
    "# Extractors\n",
    "phen_txt_ngram_extractor = EntityExtractor(ngrams6, phen_matcher)\n",
    "phen_txt_cells_extractor = EntityExtractor(cells, phen_matcher)\n",
    "acro_txt_ngram_extractor = EntityExtractor(ngrams3, acro_matcher)\n",
    "acro_txt_cells_extractor = EntityExtractor(table_ngrams3, acro_matcher)\n",
    "\n",
    "# Filtering functions\n",
    "def overlap_filter_fn(span0, span1):\n",
    "    if hasattr(span0.context, 'cell') and hasattr(span1.context, 'cell'):\n",
    "        if span0.context.cell != span1.context.cell: return False\n",
    "    if len(span0.get_span().split()) >= 15: return False\n",
    "    start0, end0 = span0.char_start, span0.char_end\n",
    "    start1, end1 = span1.char_start, span1.char_end\n",
    "    return True if start0 <= start1 <= end1 <= end0 else False\n",
    "\n",
    "# Relation extractor\n",
    "txt_tab_ngram_extractor = RelationExtractor(phen_txt_ngram_extractor, acro_txt_ngram_extractor, filter_fn=overlap_filter_fn)\n",
    "txt_tab_cells_extractor = RelationExtractor(phen_txt_cells_extractor, acro_txt_cells_extractor, filter_fn=overlap_filter_fn)"
   ]
  },
  {
   "cell_type": "markdown",
   "metadata": {},
   "source": [
    "Extract acroynms from tables"
   ]
  },
  {
   "cell_type": "code",
   "execution_count": 352,
   "metadata": {
    "collapsed": false
   },
   "outputs": [
    {
     "name": "stdout",
     "output_type": "stream",
     "text": [
      "CPU times: user 997 ms, sys: 49.1 ms, total: 1.05 s\n",
      "Wall time: 1.09 s\n",
      "380 candidates extracted from text in tables\n"
     ]
    }
   ],
   "source": [
    "%time txt_tab_c = txt_tab_ngram_extractor.extract(corpus.get_phrases(), name='all')\n",
    "print len(txt_tab_c), 'candidates extracted from text in tables'"
   ]
  },
  {
   "cell_type": "markdown",
   "metadata": {},
   "source": [
    "Extract acronyms from full table cells"
   ]
  },
  {
   "cell_type": "code",
   "execution_count": 353,
   "metadata": {
    "collapsed": false
   },
   "outputs": [
    {
     "name": "stdout",
     "output_type": "stream",
     "text": [
      "CPU times: user 980 ms, sys: 22.9 ms, total: 1 s\n",
      "Wall time: 1.01 s\n",
      "91 candidates extracted from text in full table cells\n"
     ]
    }
   ],
   "source": [
    "%time txt_cel_c = txt_tab_cells_extractor.extract(corpus.get_tables(), name='all')\n",
    "print len(txt_cel_c), 'candidates extracted from text in full table cells'"
   ]
  },
  {
   "cell_type": "markdown",
   "metadata": {},
   "source": [
    "Extract acroynms from abstracts"
   ]
  },
  {
   "cell_type": "code",
   "execution_count": 354,
   "metadata": {
    "collapsed": false
   },
   "outputs": [
    {
     "name": "stdout",
     "output_type": "stream",
     "text": [
      "CPU times: user 2.55 s, sys: 39.3 ms, total: 2.59 s\n",
      "Wall time: 2.74 s\n",
      "438 candidates extracted from text in abstracts\n"
     ]
    }
   ],
   "source": [
    "%time txt_txt_c = txt_tab_ngram_extractor.extract(text_corpus.get_sentences(), name='all')\n",
    "print len(txt_txt_c), 'candidates extracted from text in abstracts'"
   ]
  },
  {
   "cell_type": "markdown",
   "metadata": {
    "collapsed": true
   },
   "source": [
    "## Learning the correctness of relations"
   ]
  },
  {
   "cell_type": "code",
   "execution_count": 264,
   "metadata": {
    "collapsed": false
   },
   "outputs": [
    {
     "name": "stdout",
     "output_type": "stream",
     "text": [
      "640\n"
     ]
    }
   ],
   "source": [
    "from snorkel.candidates import UnionExtractor\n",
    "\n",
    "contexts = [corpus.get_tables(), corpus.get_phrases(), text_corpus.get_sentences()]\n",
    "extractors = [txt_tab_cells_extractor, txt_tab_ngram_extractor, txt_tab_ngram_extractor]\n",
    "joint_extractor = UnionExtractor(extractor_list=extractors, context_list=contexts)\n",
    "all_c = joint_extractor.union()\n",
    "print len(all_c)"
   ]
  },
  {
   "cell_type": "markdown",
   "metadata": {},
   "source": [
    "### Creating a gold set"
   ]
  },
  {
   "cell_type": "markdown",
   "metadata": {},
   "source": [
    "To create a gold set, we save all extracted relations into a csv file. We annotate it manually, and save the result to a second file. It contains pairs of phenotype and rsid strings; if that file exists, we take these as gold truth."
   ]
  },
  {
   "cell_type": "code",
   "execution_count": 355,
   "metadata": {
    "collapsed": false
   },
   "outputs": [
    {
     "name": "stdout",
     "output_type": "stream",
     "text": [
      "Physical Position (bp)†\n",
      "Physical Position (bp)\n",
      "('17903294', u'Physical Position (bp)', u'(bp)') 0\n",
      "\n",
      "Physical Position (bp)†\n",
      "Physical Position (bp)\n",
      "('17903294', u'Physical Position (bp)', u'(bp)') 0\n",
      "\n",
      "GEE p-val (Rank)††\n",
      "GEE p-val (Rank)\n",
      "('17903294', u'GEE p-val (Rank)', u'(Rank)') 0\n",
      "\n",
      "Physical Position (bp)†\n",
      "Physical Position (bp)\n",
      "('17903294', u'Physical Position (bp)', u'(bp)') 0\n",
      "\n",
      "Physical Position (bp)†\n",
      "Physical Position (bp)\n",
      "('17903294', u'Physical Position (bp)', u'(bp)') 0\n",
      "\n",
      "GEE Pval (Rank)††\n",
      "GEE Pval (Rank)\n",
      "('17903294', u'GEE Pval (Rank)', u'(Rank)') 0\n",
      "\n",
      "Physical Position (bp)†\n",
      "Physical Position (bp)\n",
      "('17903294', u'Physical Position (bp)', u'(bp)') 0\n",
      "\n",
      "Physical Position (bp)†\n",
      "Physical Position (bp)\n",
      "('17903294', u'Physical Position (bp)', u'(bp)') 0\n",
      "\n",
      "Total Cerebral Brain Volume (ATCBV)\n",
      "Total Cerebral Brain Volume (ATCBV)\n",
      "('17903297', u'Total Cerebral Brain Volume (ATCBV)', u'(ATCBV)') 1\n",
      "\n",
      "Factor 1:Verbal Memory (F1)\n",
      "Factor 1:Verbal Memory (F1)\n",
      "('17903297', u'Factor 1:Verbal Memory (F1)', u'(F1)') 1\n",
      "\n",
      "Factor 1:Verbal Memory (F1)\n",
      "Factor 1:Verbal Memory (F1)\n",
      "('17903297', u'Factor 1:Verbal Memory (F1)', u'(F1)') 1\n",
      "\n",
      "Factor 2:Visual Memory and Organization (F2)\n",
      "Factor 2:Visual Memory and Organization (F2)\n",
      "('17903297', u'Factor 2:Visual Memory and Organization (F2)', u'(F2)') 1\n",
      "\n",
      "Factor 2:Visual Memory and Organization (F2)\n",
      "Factor 2:Visual Memory and Organization (F2)\n",
      "('17903297', u'Factor 2:Visual Memory and Organization (F2)', u'(F2)') 1\n",
      "\n",
      "Factor 3: Measure of attention and executive function-Trails A and B (F3)\n",
      "Factor 3: Measure of attention and executive function-Trails A and B (F3)\n",
      "('17903297', u'Factor 3: Measure of attention and executive function-Trails A and B (F3)', u'(F3)') 1\n",
      "\n",
      "Factor 3: Measure of attention and executive function-Trails A and B (F3)\n",
      "Factor 3: Measure of attention and executive function-Trails A and B (F3)\n",
      "('17903297', u'Factor 3: Measure of attention and executive function-Trails A and B (F3)', u'(F3)') 1\n",
      "\n",
      "28 yr time averaged FPG (tFPG)\n",
      "28 yr time averaged FPG (tFPG)\n",
      "('17903298', u'28 yr time averaged FPG (tFPG)', u'(tFPG)') 1\n",
      "\n",
      "Stage 2 Exercise systolic blood pressure (SBP)\n",
      "Stage 2 Exercise systolic blood pressure (SBP)\n",
      "('17903301', u'Stage 2 Exercise systolic blood pressure (SBP)', u'(SBP)') 1\n",
      "\n",
      "Stage 2 Exercise systolic blood pressure (SBP)\n",
      "Stage 2 Exercise systolic blood pressure (SBP)\n",
      "('17903301', u'Stage 2 Exercise systolic blood pressure (SBP)', u'(SBP)') 1\n",
      "\n",
      "Stage 2 Exercise diastolic blood pressure (DBP)\n",
      "Stage 2 Exercise diastolic blood pressure (DBP)\n",
      "('17903301', u'Stage 2 Exercise diastolic blood pressure (DBP)', u'(DBP)') 1\n",
      "\n",
      "Stage 2 Exercise diastolic blood pressure (DBP)\n",
      "Stage 2 Exercise diastolic blood pressure (DBP)\n",
      "('17903301', u'Stage 2 Exercise diastolic blood pressure (DBP)', u'(DBP)') 1\n",
      "\n",
      "2a.Top 25 SNPs for association with GFR (examination 7), UAE (examination 6), cysC (examination 7), and mean TSH (examinations 3 and 4) based on the lowest p value of the GEE test. Corresponding phenotype names on the web are GFRMV7 (GFR), UAELNMV6 (UAE), CYSCMV7 (CysC), and TSHMEAN34MV (TSH)\n",
      "(GFR), UAELNMV6 (UAE)\n",
      "('17903292', u'(GFR), UAELNMV6 (UAE)', u'(GFR)') 0\n",
      "\n",
      "2a.Top 25 SNPs for association with GFR (examination 7), UAE (examination 6), cysC (examination 7), and mean TSH (examinations 3 and 4) based on the lowest p value of the GEE test. Corresponding phenotype names on the web are GFRMV7 (GFR), UAELNMV6 (UAE), CYSCMV7 (CysC), and TSHMEAN34MV (TSH)\n",
      "(GFR), UAELNMV6 (UAE)\n",
      "('17903292', u'(GFR), UAELNMV6 (UAE)', u'(UAE)') 0\n",
      "\n",
      "2a.Top 25 SNPs for association with GFR (examination 7), UAE (examination 6), cysC (examination 7), and mean TSH (examinations 3 and 4) based on the lowest p value of the GEE test. Corresponding phenotype names on the web are GFRMV7 (GFR), UAELNMV6 (UAE), CYSCMV7 (CysC), and TSHMEAN34MV (TSH)\n",
      "CysC), and TSHMEAN34MV (TSH)\n",
      "('17903292', u'CysC), and TSHMEAN34MV (TSH)', u'(TSH)') 0\n",
      "\n",
      "2a.Top 25 SNPs for association with GFR (examination 7), UAE (examination 6), cysC (examination 7), and mean TSH (examinations 3 and 4) based on the lowest p value of the GEE test. Corresponding phenotype names on the web are GFRMV7 (GFR), UAELNMV6 (UAE), CYSCMV7 (CysC), and TSHMEAN34MV (TSH)\n",
      ", and TSHMEAN34MV (TSH)\n",
      "('17903292', u', and TSHMEAN34MV (TSH)', u'(TSH)') 0\n",
      "\n",
      "2a.Top 25 SNPs for association with GFR (examination 7), UAE (examination 6), cysC (examination 7), and mean TSH (examinations 3 and 4) based on the lowest p value of the GEE test. Corresponding phenotype names on the web are GFRMV7 (GFR), UAELNMV6 (UAE), CYSCMV7 (CysC), and TSHMEAN34MV (TSH)\n",
      ", and TSHMEAN34MV (TSH)\n",
      "('17903292', u', and TSHMEAN34MV (TSH)', u'(TSH)') 0\n",
      "\n",
      "2a.Top 25 SNPs for association with GFR (examination 7), UAE (examination 6), cysC (examination 7), and mean TSH (examinations 3 and 4) based on the lowest p value of the GEE test. Corresponding phenotype names on the web are GFRMV7 (GFR), UAELNMV6 (UAE), CYSCMV7 (CysC), and TSHMEAN34MV (TSH)\n",
      "GFR), UAELNMV6 (UAE)\n",
      "('17903292', u'GFR), UAELNMV6 (UAE)', u'(UAE)') 0\n",
      "\n",
      "2a.Top 25 SNPs for association with GFR (examination 7), UAE (examination 6), cysC (examination 7), and mean TSH (examinations 3 and 4) based on the lowest p value of the GEE test. Corresponding phenotype names on the web are GFRMV7 (GFR), UAELNMV6 (UAE), CYSCMV7 (CysC), and TSHMEAN34MV (TSH)\n",
      "), and TSHMEAN34MV (TSH)\n",
      "('17903292', u'), and TSHMEAN34MV (TSH)', u'(TSH)') 0\n",
      "\n",
      "2a.Top 25 SNPs for association with GFR (examination 7), UAE (examination 6), cysC (examination 7), and mean TSH (examinations 3 and 4) based on the lowest p value of the GEE test. Corresponding phenotype names on the web are GFRMV7 (GFR), UAELNMV6 (UAE), CYSCMV7 (CysC), and TSHMEAN34MV (TSH)\n",
      "), UAELNMV6 (UAE)\n",
      "('17903292', u'), UAELNMV6 (UAE)', u'(UAE)') 0\n",
      "\n",
      "2a.Top 25 SNPs for association with GFR (examination 7), UAE (examination 6), cysC (examination 7), and mean TSH (examinations 3 and 4) based on the lowest p value of the GEE test. Corresponding phenotype names on the web are GFRMV7 (GFR), UAELNMV6 (UAE), CYSCMV7 (CysC), and TSHMEAN34MV (TSH)\n",
      ", and TSHMEAN34MV (TSH)\n",
      "('17903292', u', and TSHMEAN34MV (TSH)', u'(TSH)') 0\n",
      "\n",
      "2a.Top 25 SNPs for association with GFR (examination 7), UAE (examination 6), cysC (examination 7), and mean TSH (examinations 3 and 4) based on the lowest p value of the GEE test. Corresponding phenotype names on the web are GFRMV7 (GFR), UAELNMV6 (UAE), CYSCMV7 (CysC), and TSHMEAN34MV (TSH)\n",
      ", UAELNMV6 (UAE)\n",
      "('17903292', u', UAELNMV6 (UAE)', u'(UAE)') 0\n",
      "\n",
      "2b.Top 25 SNPs for association with GFR (examination 7), UAE (examination 6), cysC (examination 7), and mean TSH (examinations 3 and 4) based on the lowest p-value of the FBAT test. Corresponding phenotype names on the web are GFRMV7 (GFR), UAELNMV6 (UAE), CYSCMV7 (CysC), and TSHMEAN34MV (TSH)\n",
      "(GFR), UAELNMV6 (UAE)\n",
      "('17903292', u'(GFR), UAELNMV6 (UAE)', u'(GFR)') 0\n",
      "\n",
      "2b.Top 25 SNPs for association with GFR (examination 7), UAE (examination 6), cysC (examination 7), and mean TSH (examinations 3 and 4) based on the lowest p-value of the FBAT test. Corresponding phenotype names on the web are GFRMV7 (GFR), UAELNMV6 (UAE), CYSCMV7 (CysC), and TSHMEAN34MV (TSH)\n",
      "(GFR), UAELNMV6 (UAE)\n",
      "('17903292', u'(GFR), UAELNMV6 (UAE)', u'(UAE)') 0\n",
      "\n",
      "2b.Top 25 SNPs for association with GFR (examination 7), UAE (examination 6), cysC (examination 7), and mean TSH (examinations 3 and 4) based on the lowest p-value of the FBAT test. Corresponding phenotype names on the web are GFRMV7 (GFR), UAELNMV6 (UAE), CYSCMV7 (CysC), and TSHMEAN34MV (TSH)\n",
      "CysC), and TSHMEAN34MV (TSH)\n",
      "('17903292', u'CysC), and TSHMEAN34MV (TSH)', u'(TSH)') 0\n",
      "\n",
      "2b.Top 25 SNPs for association with GFR (examination 7), UAE (examination 6), cysC (examination 7), and mean TSH (examinations 3 and 4) based on the lowest p-value of the FBAT test. Corresponding phenotype names on the web are GFRMV7 (GFR), UAELNMV6 (UAE), CYSCMV7 (CysC), and TSHMEAN34MV (TSH)\n",
      ", and TSHMEAN34MV (TSH)\n",
      "('17903292', u', and TSHMEAN34MV (TSH)', u'(TSH)') 0\n",
      "\n",
      "2b.Top 25 SNPs for association with GFR (examination 7), UAE (examination 6), cysC (examination 7), and mean TSH (examinations 3 and 4) based on the lowest p-value of the FBAT test. Corresponding phenotype names on the web are GFRMV7 (GFR), UAELNMV6 (UAE), CYSCMV7 (CysC), and TSHMEAN34MV (TSH)\n",
      ", and TSHMEAN34MV (TSH)\n",
      "('17903292', u', and TSHMEAN34MV (TSH)', u'(TSH)') 0\n",
      "\n",
      "2b.Top 25 SNPs for association with GFR (examination 7), UAE (examination 6), cysC (examination 7), and mean TSH (examinations 3 and 4) based on the lowest p-value of the FBAT test. Corresponding phenotype names on the web are GFRMV7 (GFR), UAELNMV6 (UAE), CYSCMV7 (CysC), and TSHMEAN34MV (TSH)\n",
      "GFR), UAELNMV6 (UAE)\n",
      "('17903292', u'GFR), UAELNMV6 (UAE)', u'(UAE)') 0\n",
      "\n",
      "2b.Top 25 SNPs for association with GFR (examination 7), UAE (examination 6), cysC (examination 7), and mean TSH (examinations 3 and 4) based on the lowest p-value of the FBAT test. Corresponding phenotype names on the web are GFRMV7 (GFR), UAELNMV6 (UAE), CYSCMV7 (CysC), and TSHMEAN34MV (TSH)\n",
      "), and TSHMEAN34MV (TSH)\n",
      "('17903292', u'), and TSHMEAN34MV (TSH)', u'(TSH)') 0\n",
      "\n",
      "2b.Top 25 SNPs for association with GFR (examination 7), UAE (examination 6), cysC (examination 7), and mean TSH (examinations 3 and 4) based on the lowest p-value of the FBAT test. Corresponding phenotype names on the web are GFRMV7 (GFR), UAELNMV6 (UAE), CYSCMV7 (CysC), and TSHMEAN34MV (TSH)\n",
      "), UAELNMV6 (UAE)\n",
      "('17903292', u'), UAELNMV6 (UAE)', u'(UAE)') 0\n",
      "\n",
      "2b.Top 25 SNPs for association with GFR (examination 7), UAE (examination 6), cysC (examination 7), and mean TSH (examinations 3 and 4) based on the lowest p-value of the FBAT test. Corresponding phenotype names on the web are GFRMV7 (GFR), UAELNMV6 (UAE), CYSCMV7 (CysC), and TSHMEAN34MV (TSH)\n",
      ", and TSHMEAN34MV (TSH)\n",
      "('17903292', u', and TSHMEAN34MV (TSH)', u'(TSH)') 0\n",
      "\n",
      "2b.Top 25 SNPs for association with GFR (examination 7), UAE (examination 6), cysC (examination 7), and mean TSH (examinations 3 and 4) based on the lowest p-value of the FBAT test. Corresponding phenotype names on the web are GFRMV7 (GFR), UAELNMV6 (UAE), CYSCMV7 (CysC), and TSHMEAN34MV (TSH)\n",
      ", UAELNMV6 (UAE)\n",
      "('17903292', u', UAELNMV6 (UAE)', u'(UAE)') 0\n",
      "\n",
      "Physical Position (bp)†\n",
      "Physical Position (bp)\n",
      "('17903294', u'Physical Position (bp)', u'(bp)') 0\n",
      "\n",
      "Physical Position (bp)†\n",
      "Physical Position (bp)\n",
      "('17903294', u'Physical Position (bp)', u'(bp)') 0\n",
      "\n",
      "Physical Position (bp)†\n",
      "Position (bp)\n",
      "('17903294', u'Position (bp)', u'(bp)') 0\n",
      "\n",
      "Physical Position (bp)†\n",
      "Position (bp)\n",
      "('17903294', u'Position (bp)', u'(bp)') 0\n",
      "\n",
      "Physical Position (bp)†\n",
      "Physical Position (bp)\n",
      "('17903294', u'Physical Position (bp)', u'(bp)') 0\n",
      "\n",
      "Physical Position (bp)†\n",
      "Position (bp)\n",
      "('17903294', u'Position (bp)', u'(bp)') 0\n",
      "\n",
      "GEE p-val (Rank)††\n",
      "GEE p-val (Rank)\n",
      "('17903294', u'GEE p-val (Rank)', u'(Rank)') 0\n",
      "\n",
      "GEE p-val (Rank)††\n",
      "p-val (Rank)\n",
      "('17903294', u'p-val (Rank)', u'(Rank)') 0\n",
      "\n",
      "Physical Position (bp)†\n",
      "Physical Position (bp)\n",
      "('17903294', u'Physical Position (bp)', u'(bp)') 0\n",
      "\n",
      "Physical Position (bp)†\n",
      "Physical Position (bp)\n",
      "('17903294', u'Physical Position (bp)', u'(bp)') 0\n",
      "\n",
      "Physical Position (bp)†\n",
      "Position (bp)\n",
      "('17903294', u'Position (bp)', u'(bp)') 0\n",
      "\n",
      "Physical Position (bp)†\n",
      "Position (bp)\n",
      "('17903294', u'Position (bp)', u'(bp)') 0\n",
      "\n",
      "Physical Position (bp)†\n",
      "Physical Position (bp)\n",
      "('17903294', u'Physical Position (bp)', u'(bp)') 0\n",
      "\n",
      "Physical Position (bp)†\n",
      "Position (bp)\n",
      "('17903294', u'Position (bp)', u'(bp)') 0\n",
      "\n",
      "GEE Pval (Rank)††\n",
      "GEE Pval (Rank)\n",
      "('17903294', u'GEE Pval (Rank)', u'(Rank)') 0\n",
      "\n",
      "GEE Pval (Rank)††\n",
      "Pval (Rank)\n",
      "('17903294', u'Pval (Rank)', u'(Rank)') 0\n",
      "\n",
      "Physical Position (bp)†\n",
      "Physical Position (bp)\n",
      "('17903294', u'Physical Position (bp)', u'(bp)') 0\n",
      "\n",
      "Physical Position (bp)†\n",
      "Physical Position (bp)\n",
      "('17903294', u'Physical Position (bp)', u'(bp)') 0\n",
      "\n",
      "Physical Position (bp)†\n",
      "Position (bp)\n",
      "('17903294', u'Position (bp)', u'(bp)') 0\n",
      "\n",
      "Physical Position (bp)†\n",
      "Position (bp)\n",
      "('17903294', u'Position (bp)', u'(bp)') 0\n",
      "\n",
      "Physical Position (bp)†\n",
      "Physical Position (bp)\n",
      "('17903294', u'Physical Position (bp)', u'(bp)') 0\n",
      "\n",
      "Physical Position (bp)†\n",
      "Position (bp)\n",
      "('17903294', u'Position (bp)', u'(bp)') 0\n",
      "\n",
      "Factor 1:Verbal Memory (F1)\n",
      "Factor 1:Verbal Memory (F1)\n",
      "('17903297', u'Factor 1:Verbal Memory (F1)', u'(F1)') 1\n",
      "\n",
      "Factor 1:Verbal Memory (F1)\n",
      ":Verbal Memory (F1)\n",
      "('17903297', u':Verbal Memory (F1)', u'(F1)') 0\n",
      "\n",
      "Factor 1:Verbal Memory (F1)\n",
      ":Verbal Memory (F1)\n",
      "('17903297', u':Verbal Memory (F1)', u'(F1)') 0\n",
      "\n",
      "Factor 1:Verbal Memory (F1)\n",
      "1:Verbal Memory (F1)\n",
      "('17903297', u'1:Verbal Memory (F1)', u'(F1)') 0\n",
      "\n",
      "Factor 1:Verbal Memory (F1)\n",
      "Verbal Memory (F1)\n",
      "('17903297', u'Verbal Memory (F1)', u'(F1)') 0\n",
      "\n",
      "Factor 1:Verbal Memory (F1)\n",
      "Verbal Memory (F1)\n",
      "('17903297', u'Verbal Memory (F1)', u'(F1)') 0\n",
      "\n",
      "Factor 1:Verbal Memory (F1)\n",
      ":Verbal Memory (F1)\n",
      "('17903297', u':Verbal Memory (F1)', u'(F1)') 0\n",
      "\n",
      "Factor 1:Verbal Memory (F1)\n",
      "Memory (F1)\n",
      "('17903297', u'Memory (F1)', u'(F1)') 0\n",
      "\n",
      "Factor 1:Verbal Memory (F1)\n",
      "Memory (F1)\n",
      "('17903297', u'Memory (F1)', u'(F1)') 0\n",
      "\n",
      "Factor 1:Verbal Memory (F1)\n",
      "Verbal Memory (F1)\n",
      "('17903297', u'Verbal Memory (F1)', u'(F1)') 0\n",
      "\n",
      "Factor 1:Verbal Memory (F1)\n",
      "Memory (F1)\n",
      "('17903297', u'Memory (F1)', u'(F1)') 0\n",
      "\n",
      "Factor 2:Visual Memory and Organization (F2)\n",
      ":Visual Memory and Organization (F2)\n",
      "('17903297', u':Visual Memory and Organization (F2)', u'(F2)') 0\n",
      "\n",
      "Factor 2:Visual Memory and Organization (F2)\n",
      "Memory and Organization (F2)\n",
      "('17903297', u'Memory and Organization (F2)', u'(F2)') 0\n",
      "\n",
      "Factor 2:Visual Memory and Organization (F2)\n",
      "Memory and Organization (F2)\n",
      "('17903297', u'Memory and Organization (F2)', u'(F2)') 0\n",
      "\n",
      "Factor 2:Visual Memory and Organization (F2)\n",
      "Visual Memory and Organization (F2)\n",
      "('17903297', u'Visual Memory and Organization (F2)', u'(F2)') 0\n",
      "\n",
      "Factor 2:Visual Memory and Organization (F2)\n",
      "and Organization (F2)\n",
      "('17903297', u'and Organization (F2)', u'(F2)') 0\n",
      "\n",
      "Factor 2:Visual Memory and Organization (F2)\n",
      "and Organization (F2)\n",
      "('17903297', u'and Organization (F2)', u'(F2)') 0\n",
      "\n",
      "Factor 2:Visual Memory and Organization (F2)\n",
      "Memory and Organization (F2)\n",
      "('17903297', u'Memory and Organization (F2)', u'(F2)') 0\n",
      "\n",
      "Factor 2:Visual Memory and Organization (F2)\n",
      "Organization (F2)\n",
      "('17903297', u'Organization (F2)', u'(F2)') 0\n",
      "\n",
      "Factor 2:Visual Memory and Organization (F2)\n",
      "Organization (F2)\n",
      "('17903297', u'Organization (F2)', u'(F2)') 0\n",
      "\n",
      "Factor 2:Visual Memory and Organization (F2)\n",
      "and Organization (F2)\n",
      "('17903297', u'and Organization (F2)', u'(F2)') 0\n",
      "\n",
      "Factor 2:Visual Memory and Organization (F2)\n",
      "Organization (F2)\n",
      "('17903297', u'Organization (F2)', u'(F2)') 0\n",
      "\n",
      "Factor 3: Measure of attention and executive function-Trails A and B (F3)\n",
      "executive function-Trails A and B (F3)\n",
      "('17903297', u'executive function-Trails A and B (F3)', u'(F3)') 0\n",
      "\n",
      "Factor 3: Measure of attention and executive function-Trails A and B (F3)\n",
      "A and B (F3)\n",
      "('17903297', u'A and B (F3)', u'(F3)') 0\n",
      "\n",
      "Factor 3: Measure of attention and executive function-Trails A and B (F3)\n",
      "A and B (F3)\n",
      "('17903297', u'A and B (F3)', u'(F3)') 0\n",
      "\n",
      "Factor 3: Measure of attention and executive function-Trails A and B (F3)\n",
      "function-Trails A and B (F3)\n",
      "('17903297', u'function-Trails A and B (F3)', u'(F3)') 0\n",
      "\n",
      "Factor 3: Measure of attention and executive function-Trails A and B (F3)\n",
      "and B (F3)\n",
      "('17903297', u'and B (F3)', u'(F3)') 0\n",
      "\n",
      "Factor 3: Measure of attention and executive function-Trails A and B (F3)\n",
      "and B (F3)\n",
      "('17903297', u'and B (F3)', u'(F3)') 0\n",
      "\n",
      "Factor 3: Measure of attention and executive function-Trails A and B (F3)\n",
      "A and B (F3)\n",
      "('17903297', u'A and B (F3)', u'(F3)') 0\n",
      "\n",
      "Factor 3: Measure of attention and executive function-Trails A and B (F3)\n",
      "B (F3)\n",
      "('17903297', u'B (F3)', u'(F3)') 0\n",
      "\n",
      "Factor 3: Measure of attention and executive function-Trails A and B (F3)\n",
      "B (F3)\n",
      "('17903297', u'B (F3)', u'(F3)') 0\n",
      "\n",
      "Factor 3: Measure of attention and executive function-Trails A and B (F3)\n",
      "and B (F3)\n",
      "('17903297', u'and B (F3)', u'(F3)') 0\n",
      "\n",
      "Factor 3: Measure of attention and executive function-Trails A and B (F3)\n",
      "B (F3)\n",
      "('17903297', u'B (F3)', u'(F3)') 0\n",
      "\n"
     ]
    }
   ],
   "source": [
    "# store relations to annotate\n",
    "with open('acronyms.unannotated.tsv', 'w') as f:\n",
    "    for span_pair in all_c:\n",
    "        doc_id = span_pair.span0.context.document.name\n",
    "        str1 = span_pair.span0.get_span()\n",
    "        str2 = span_pair.span1.get_span()\n",
    "        if (doc_id, str1, str2) not in K: \n",
    "            if hasattr(span_pair.span1.context, 'cell'):\n",
    "                print span_pair.span0.context.cell.text\n",
    "                print span_pair.span0.get_span()\n",
    "                print (doc_id, str1, str2), LF_full_cell(span_pair)\n",
    "                print \n",
    "        try:\n",
    "            f.write('%s\\t%s\\t%s\\n' % (doc_id, str1, str2))\n",
    "        except:\n",
    "            continue"
   ]
  },
  {
   "cell_type": "markdown",
   "metadata": {
    "collapsed": true
   },
   "source": [
    "We now load the results of our annotation"
   ]
  },
  {
   "cell_type": "code",
   "execution_count": 42,
   "metadata": {
    "collapsed": false
   },
   "outputs": [],
   "source": [
    "annotations = dict()\n",
    "with open('acronyms.anotated.txt') as f:\n",
    "    text = f.read()\n",
    "    for line in text.split('\\r'):\n",
    "        doc_id, str1, str2, res = line.strip().split('\\t')\n",
    "        res = 1 if int(res) == 1 else -1\n",
    "        annotations[(doc_id, str1, str2)] = res"
   ]
  },
  {
   "cell_type": "markdown",
   "metadata": {},
   "source": [
    "### Classifying table acronyms"
   ]
  },
  {
   "cell_type": "code",
   "execution_count": 359,
   "metadata": {
    "collapsed": false
   },
   "outputs": [
    {
     "name": "stdout",
     "output_type": "stream",
     "text": [
      "Building feature index...\n",
      "Extracting features...\n",
      "0/2579\n"
     ]
    }
   ],
   "source": [
    "from snorkel.features import TableNgramPairFeaturizer\n",
    "\n",
    "pkl_f = 'acro_table_feats.pkl'\n",
    "try:\n",
    "    with open(pkl_f, 'rb') as f:\n",
    "        featurizer = cPickle.load(f)\n",
    "except:\n",
    "    featurizer = TableNgramPairFeaturizer()\n",
    "    featurizer.fit_transform(candidates)"
   ]
  },
  {
   "cell_type": "code",
   "execution_count": 360,
   "metadata": {
    "collapsed": false
   },
   "outputs": [
    {
     "name": "stdout",
     "output_type": "stream",
     "text": [
      "Training set size: 30\n",
      "Gold set size: 28\n",
      "Positive labels in training set: 22\n",
      "Negative labels in training set: 7\n",
      "Positive labels in gold set: 14\n",
      "Negative labels in gold set: 14\n"
     ]
    }
   ],
   "source": [
    "def spair2uid(span_pair):\n",
    "    doc_id = span_pair.span0.context.document.name\n",
    "    str1 = span_pair.span0.get_span()\n",
    "    str2 = span_pair.span1.get_span()\n",
    "    return (doc_id, str1, str2)\n",
    "\n",
    "# Split into train and test set\n",
    "training_candidates = []\n",
    "gold_candidates     = []\n",
    "gold_labels         = []\n",
    "n_half = len(candidates)/2\n",
    "for c in candidates[:n_half]:\n",
    "    uid = spair2uid(c)\n",
    "    if uid in annotations:\n",
    "        gold_candidates.append(c)\n",
    "        gold_labels.append(annotations[uid])\n",
    "    else:\n",
    "        training_candidates.append(c)\n",
    "training_candidates.extend(candidates[n_half:])\n",
    "gold_labels = np.array(gold_labels)\n",
    "print \"Training set size: %s\" % len(training_candidates)\n",
    "print \"Gold set size: %s\" % len(gold_candidates)\n",
    "print \"Positive labels in training set: %s\" % len([c for c in training_candidates if annotations.get(spair2uid(c),0)==1])\n",
    "print \"Negative labels in training set: %s\" % len([c for c in training_candidates if annotations.get(spair2uid(c),0)==-1])\n",
    "print \"Positive labels in gold set: %s\" % len([c for c in gold_candidates if annotations[spair2uid(c)]==1])\n",
    "print \"Negative labels in gold set: %s\" % len([c for c in gold_candidates if annotations[spair2uid(c)]==-1])"
   ]
  },
  {
   "cell_type": "code",
   "execution_count": 361,
   "metadata": {
    "collapsed": true
   },
   "outputs": [],
   "source": [
    "def LF1_digits(m):\n",
    "    txt = m.span0.get_span()\n",
    "    frac_num = len([ch for ch in txt if ch.isdigit()]) / float(len(txt))\n",
    "    return -1 if frac_num > 0.5 else +1\n",
    "def LF1_short(m):\n",
    "    txt = m.span0.get_span()\n",
    "    return -1 if len(txt) < 5 else 0\n",
    "\n",
    "LF_tables = [LF1_digits, LF1_short]"
   ]
  },
  {
   "cell_type": "code",
   "execution_count": 362,
   "metadata": {
    "collapsed": false
   },
   "outputs": [
    {
     "name": "stdout",
     "output_type": "stream",
     "text": [
      "Applying LFs...\n",
      "Featurizing...\n",
      "Building feature index...\n",
      "Extracting features...\n",
      "0/1926\n",
      "============================================================\n",
      "LF Summary Statistics: 2 LFs applied to 30 candidates\n",
      "------------------------------------------------------------\n",
      "Coverage (candidates w/ > 0 labels):\t\t100.00%\n",
      "Overlap (candidates w/ > 1 labels):\t\t23.33%\n",
      "Conflict (candidates w/ conflicting labels):\t0.00%\n",
      "============================================================\n"
     ]
    }
   ],
   "source": [
    "from snorkel.snorkel import TrainingSet\n",
    "from snorkel.features import NgramFeaturizer\n",
    "\n",
    "training_set = TrainingSet(training_candidates, LF_tables, featurizer=TableNgramPairFeaturizer())"
   ]
  },
  {
   "cell_type": "code",
   "execution_count": 363,
   "metadata": {
    "collapsed": false
   },
   "outputs": [
    {
     "data": {
      "text/plain": [
       "array([[<matplotlib.axes.AxesSubplot object at 0x128baff90>]], dtype=object)"
      ]
     },
     "execution_count": 363,
     "metadata": {},
     "output_type": "execute_result"
    },
    {
     "data": {
      "image/png": "[encoded data removed]",
      "text/plain": [
       "<matplotlib.figure.Figure at 0x12bb24210>"
      ]
     },
     "metadata": {},
     "output_type": "display_data"
    }
   ],
   "source": [
    "lf_stats = training_set.lf_stats()\n",
    "lf_stats[:5]\n",
    "lf_stats.hist(\"coverage\")"
   ]
  },
  {
   "cell_type": "code",
   "execution_count": 364,
   "metadata": {
    "collapsed": false
   },
   "outputs": [
    {
     "name": "stdout",
     "output_type": "stream",
     "text": [
      "============================================================\n",
      "Testing mu = 1.00e-05, lf_w0 = 1.00e+00\n",
      "============================================================\n",
      "Begin training for rate=0.01, mu=1e-05\n",
      "\tLearning epoch = 0\tGradient mag. = 0.030888\n",
      "\tLearning epoch = 250\tGradient mag. = 0.084110\n",
      "\tLearning epoch = 500\tGradient mag. = 0.211097\n",
      "\tLearning epoch = 750\tGradient mag. = 0.275662\n",
      "Final gradient magnitude for rate=0.01, mu=1e-05: 0.282\n",
      "Applying LFs...\n",
      "Featurizing...\n",
      "============================================================\n",
      "Testing mu = 1.00e-05, lf_w0 = 2.00e+00\n",
      "============================================================\n",
      "Begin training for rate=0.01, mu=1e-05\n",
      "\tLearning epoch = 0\tGradient mag. = 0.061684\n",
      "\tLearning epoch = 250\tGradient mag. = 0.158546\n",
      "\tLearning epoch = 500\tGradient mag. = 0.277430\n",
      "\tLearning epoch = 750\tGradient mag. = 0.284230\n",
      "Final gradient magnitude for rate=0.01, mu=1e-05: 0.294\n",
      "============================================================\n",
      "Testing mu = 1.00e-07, lf_w0 = 1.00e+00\n",
      "============================================================\n",
      "Begin training for rate=0.01, mu=1e-07\n",
      "\tLearning epoch = 0\tGradient mag. = 0.030888\n",
      "\tLearning epoch = 250\tGradient mag. = 0.084282\n",
      "\tLearning epoch = 500\tGradient mag. = 0.211653\n",
      "\tLearning epoch = 750\tGradient mag. = 0.275691\n",
      "Final gradient magnitude for rate=0.01, mu=1e-07: 0.282\n",
      "============================================================\n",
      "Testing mu = 1.00e-07, lf_w0 = 2.00e+00\n",
      "============================================================\n",
      "Begin training for rate=0.01, mu=1e-07\n",
      "\tLearning epoch = 0\tGradient mag. = 0.061684\n",
      "\tLearning epoch = 250\tGradient mag. = 0.158704\n",
      "\tLearning epoch = 500\tGradient mag. = 0.277446\n",
      "\tLearning epoch = 750\tGradient mag. = 0.284270\n",
      "Final gradient magnitude for rate=0.01, mu=1e-07: 0.294\n"
     ]
    }
   ],
   "source": [
    "from snorkel.snorkel import Learner\n",
    "import snorkel.learning\n",
    "from snorkel.learning import LogReg\n",
    "\n",
    "learner = Learner(training_set, model=LogReg())\n",
    "\n",
    "# Splitting into CV and test set\n",
    "n_half = len(gold_candidates)/2\n",
    "test_candidates = gold_candidates[:n_half]\n",
    "test_labels     = gold_labels[:n_half]\n",
    "cv_candidates   = gold_candidates[n_half:]\n",
    "cv_labels       = gold_labels[n_half:]\n",
    "\n",
    "from snorkel.learning_utils import GridSearch\n",
    "gs       = GridSearch(learner, ['mu', 'lf_w0'], [[1e-5, 1e-7],[1.0,2.0]])\n",
    "gs_stats = gs.fit(cv_candidates, cv_labels)"
   ]
  },
  {
   "cell_type": "code",
   "execution_count": 365,
   "metadata": {
    "collapsed": false
   },
   "outputs": [
    {
     "data": {
      "text/html": [
       "<div style=\"max-height:1000px;max-width:1500px;overflow:auto;\">\n",
       "<table border=\"1\" class=\"dataframe\">\n",
       "  <thead>\n",
       "    <tr style=\"text-align: right;\">\n",
       "      <th></th>\n",
       "      <th>mu</th>\n",
       "      <th>lf_w0</th>\n",
       "      <th>Prec.</th>\n",
       "      <th>Rec.</th>\n",
       "      <th>F1</th>\n",
       "    </tr>\n",
       "  </thead>\n",
       "  <tbody>\n",
       "    <tr>\n",
       "      <th>0</th>\n",
       "      <td> 0.00001</td>\n",
       "      <td> 1</td>\n",
       "      <td> 1</td>\n",
       "      <td> 1</td>\n",
       "      <td> 1</td>\n",
       "    </tr>\n",
       "    <tr>\n",
       "      <th>1</th>\n",
       "      <td> 0.00001</td>\n",
       "      <td> 2</td>\n",
       "      <td> 1</td>\n",
       "      <td> 1</td>\n",
       "      <td> 1</td>\n",
       "    </tr>\n",
       "    <tr>\n",
       "      <th>2</th>\n",
       "      <td> 0.00000</td>\n",
       "      <td> 1</td>\n",
       "      <td> 1</td>\n",
       "      <td> 1</td>\n",
       "      <td> 1</td>\n",
       "    </tr>\n",
       "    <tr>\n",
       "      <th>3</th>\n",
       "      <td> 0.00000</td>\n",
       "      <td> 2</td>\n",
       "      <td> 1</td>\n",
       "      <td> 1</td>\n",
       "      <td> 1</td>\n",
       "    </tr>\n",
       "  </tbody>\n",
       "</table>\n",
       "<p>4 rows × 5 columns</p>\n",
       "</div>"
      ],
      "text/plain": [
       "        mu  lf_w0  Prec.  Rec.  F1\n",
       "0  0.00001      1      1     1   1\n",
       "1  0.00001      2      1     1   1\n",
       "2  0.00000      1      1     1   1\n",
       "3  0.00000      2      1     1   1\n",
       "\n",
       "[4 rows x 5 columns]"
      ]
     },
     "execution_count": 365,
     "metadata": {},
     "output_type": "execute_result"
    }
   ],
   "source": [
    "gs_stats"
   ]
  },
  {
   "cell_type": "code",
   "execution_count": 366,
   "metadata": {
    "collapsed": false
   },
   "outputs": [
    {
     "name": "stdout",
     "output_type": "stream",
     "text": [
      "Applying LFs...\n",
      "Featurizing...\n",
      "========================================\n",
      "Test set size:\t14\n",
      "----------------------------------------\n",
      "Precision:\t1.0\n",
      "Recall:\t\t1.0\n",
      "F1 Score:\t1.0\n",
      "----------------------------------------\n",
      "TP: 7 | FP: 0 | TN: 7 | FN: 0\n",
      "========================================\n"
     ]
    }
   ],
   "source": [
    "learner.test_wmv(test_candidates, test_labels)"
   ]
  },
  {
   "cell_type": "code",
   "execution_count": 367,
   "metadata": {
    "collapsed": false
   },
   "outputs": [
    {
     "name": "stdout",
     "output_type": "stream",
     "text": [
      "Applying LFs...\n",
      "Featurizing...\n",
      "[('17903293', u'CD40 Ligand, serum & plasma', u'CD40L'), ('17903293', u'C-reactive protein', u'CRP'), ('17903293', u'Intercellular adhesion molecule-1', u'ICAM1'), ('17903293', u'Interleukin-6', u'IL6'), ('17903293', u'Urinary isoprostanes/creatinine', u'IsoCrUrine'), ('17903293', u'Monocyte chemoattractant protein-1', u'MCP1'), ('17903293', u'Myeloperoxidase', u'MPO'), ('17903293', u'Osteoprotegerin', u'OPG'), ('17903293', u'P-selectin', u'Pselectin'), ('17903293', u'Tumor necrosis factor alpha', u'TNFA')]\n"
     ]
    }
   ],
   "source": [
    "preds = learner.predict_wmv(candidates)\n",
    "resolved_acronyms = [spair2uid(c) for (c, p) in zip(candidates, preds) if p == 1]\n",
    "print resolved_acronyms[:10]"
   ]
  },
  {
   "cell_type": "code",
   "execution_count": 368,
   "metadata": {
    "collapsed": false
   },
   "outputs": [],
   "source": [
    "# mislabeled_cand = learner.mislabeled_test_candidates(test_candidates, test_labels)\n",
    "# for (c,p,g) in mislabeled_cand[:10]:\n",
    "#     print c.span0.context.document.name\n",
    "#     print c.span0.context    \n",
    "#     print c.span1.context\n",
    "#     print"
   ]
  },
  {
   "cell_type": "markdown",
   "metadata": {},
   "source": [
    "### Classifying sentence acronyms"
   ]
  },
  {
   "cell_type": "code",
   "execution_count": 435,
   "metadata": {
    "collapsed": false
   },
   "outputs": [
    {
     "name": "stdout",
     "output_type": "stream",
     "text": [
      "909\n"
     ]
    }
   ],
   "source": [
    "from snorkel.candidates import UnionExtractor\n",
    "contexts = [corpus.get_tables(), corpus.get_phrases(), text_corpus.get_sentences()]\n",
    "extractors = [txt_tab_cells_extractor, txt_tab_ngram_extractor, txt_tab_ngram_extractor]\n",
    "joint_extractor = UnionExtractor(extractor_list=extractors, context_list=contexts)\n",
    "\n",
    "text_c = joint_extractor.union()\n",
    "print len(text_c)"
   ]
  },
  {
   "cell_type": "code",
   "execution_count": 436,
   "metadata": {
    "collapsed": true
   },
   "outputs": [],
   "source": [
    "# helpers\n",
    "def spairtxt2uid(span_pair):\n",
    "    doc_id = span_pair.span0.context.document.name\n",
    "    str1 = span_pair.span0.get_span()\n",
    "    str2 = span_pair.span1.get_span()\n",
    "    acro = str2[1:-1]\n",
    "    phen = str1.split(' (')[0]\n",
    "    return (doc_id, phen, acro)"
   ]
  },
  {
   "cell_type": "markdown",
   "metadata": {},
   "source": [
    "We really trust the first stage, so if an acronym has been resolved there, remove it from this stage"
   ]
  },
  {
   "cell_type": "code",
   "execution_count": 437,
   "metadata": {
    "collapsed": false
   },
   "outputs": [
    {
     "name": "stdout",
     "output_type": "stream",
     "text": [
      "909 899\n"
     ]
    }
   ],
   "source": [
    "new_text_c = list()\n",
    "resolved = {(doc_id, acro) for doc_id, _, acro in resolved_acronyms}\n",
    "for c in text_c:\n",
    "    doc_id, phen, acro = spairtxt2uid(c)\n",
    "#     print doc_id, phen, acro\n",
    "    if (doc_id, acro) not in resolved:\n",
    "        new_text_c.append(c)\n",
    "\n",
    "print len(text_c), len(new_text_c)"
   ]
  },
  {
   "cell_type": "code",
   "execution_count": 438,
   "metadata": {
    "collapsed": false
   },
   "outputs": [
    {
     "name": "stdout",
     "output_type": "stream",
     "text": [
      "Building feature index...\n",
      "Extracting features...\n",
      "0/12132\n",
      "5000/12132\n",
      "10000/12132\n"
     ]
    }
   ],
   "source": [
    "from snorkel.features import NgramPairFeaturizer\n",
    "\n",
    "pkl_f = 'acro_text_feats.pkl'\n",
    "try:\n",
    "    with open(pkl_f, 'rb') as f:\n",
    "        featurizer = cPickle.load(f)\n",
    "except:\n",
    "    featurizer = NgramPairFeaturizer()\n",
    "    featurizer.fit_transform(text_c)"
   ]
  },
  {
   "cell_type": "code",
   "execution_count": 439,
   "metadata": {
    "collapsed": false
   },
   "outputs": [
    {
     "name": "stdout",
     "output_type": "stream",
     "text": [
      "Training set size: 550\n",
      "Gold set size: 359\n",
      "Positive labels in training set: 45\n",
      "Negative labels in training set: 172\n",
      "Positive labels in gold set: 74\n",
      "Negative labels in gold set: 285\n"
     ]
    }
   ],
   "source": [
    "# Split into train and test set\n",
    "training_candidates = []\n",
    "gold_candidates     = []\n",
    "gold_labels         = []\n",
    "n_half = len(text_c)/2\n",
    "for c in text_c[:n_half]:\n",
    "    uid = spair2uid(c)\n",
    "    if uid in annotations:\n",
    "        gold_candidates.append(c)\n",
    "        gold_labels.append(annotations[uid])\n",
    "    else:\n",
    "        training_candidates.append(c)\n",
    "training_candidates.extend(text_c[n_half:])\n",
    "gold_labels = np.array(gold_labels)\n",
    "print \"Training set size: %s\" % len(training_candidates)\n",
    "print \"Gold set size: %s\" % len(gold_candidates)\n",
    "print \"Positive labels in training set: %s\" % len([c for c in training_candidates if annotations.get(spair2uid(c),0)==1])\n",
    "print \"Negative labels in training set: %s\" % len([c for c in training_candidates if annotations.get(spair2uid(c),0)==-1])\n",
    "print \"Positive labels in gold set: %s\" % len([c for c in gold_candidates if annotations[spair2uid(c)]==1])\n",
    "print \"Negative labels in gold set: %s\" % len([c for c in gold_candidates if annotations[spair2uid(c)]==-1])"
   ]
  },
  {
   "cell_type": "code",
   "execution_count": 440,
   "metadata": {
    "collapsed": false
   },
   "outputs": [],
   "source": [
    "import re\n",
    "\n",
    "# positive LFs\n",
    "def LF_acro_matches(m):\n",
    "    _, phen, acro = spairtxt2uid(m)\n",
    "    words = phen.strip().split()\n",
    "    if len(acro) == len(words):\n",
    "        w_acro = ''.join([w[0] for w in words])\n",
    "        if w_acro.lower() == acro.lower():\n",
    "            return +1\n",
    "    return 0\n",
    "\n",
    "def LF_acro_matches_with_dashes(m):\n",
    "    _, phen, acro = spairtxt2uid(m)\n",
    "    words = re.split(' |-', phen)\n",
    "    if len(acro) == len(words):\n",
    "        w_acro = ''.join([w[0] for w in words])\n",
    "        if w_acro.lower() == acro.lower():\n",
    "            return +1\n",
    "    return 0\n",
    "\n",
    "def LF_acro_first_letter(m):\n",
    "    _, phen, acro = spairtxt2uid(m)\n",
    "    if not any(l.islower() for l in phen): return 0\n",
    "    words = phen.strip().split()\n",
    "    if len(acro) <= len(words):\n",
    "        if words[0].lower() == acro[0].lower():\n",
    "            return +1\n",
    "    return 0\n",
    "\n",
    "def LF_acro_prefix(m):\n",
    "    _, phen, acro = spairtxt2uid(m)\n",
    "    phen = phen.replace('-', '')\n",
    "    if phen[:2].lower() == acro[:2].lower():\n",
    "        return +1\n",
    "    return 0\n",
    "\n",
    "def LF_acro_matches_last_letters(m):\n",
    "    _, phen, acro = spairtxt2uid(m)\n",
    "    words = phen.strip().split()\n",
    "    for r in (1,2):\n",
    "        new_acro = acro[r:]\n",
    "        if len(new_acro) < 3: continue\n",
    "        if len(new_acro) == len(words):\n",
    "            w_acro = ''.join([w[0] for w in words])\n",
    "            if w_acro.lower() == new_acro.lower():\n",
    "                return +1\n",
    "    return 0\n",
    "\n",
    "def LF_full_cell(m):\n",
    "    \"\"\"If only phrase in cell is A B C (XYZ), then it's correct\"\"\"\n",
    "    if not hasattr(m.span0.context, 'cell'): return 0\n",
    "    return 1 if m.span0.context.cell.text == m.span0.get_span() else 0\n",
    "\n",
    "def LF_start(m):\n",
    "    punc = ',.;!?()\\'\"'\n",
    "    if m.span0.get_word_start() == 0 or any(c in punc for c in m.span0.pre_window(d=1)):\n",
    "        _, phen, acro = spairtxt2uid(m)\n",
    "        if phen[0].lower() == acro[0].lower(): \n",
    "            return +1\n",
    "    return 0\n",
    "\n",
    "LF_txt_pos = [LF_acro_matches, LF_acro_matches_with_dashes, LF_acro_first_letter, LF_acro_prefix, LF_acro_matches_last_letters, LF_full_cell, LF_start]\n",
    "\n",
    "# negative LFs\n",
    "def LF_no_pos(m):\n",
    "    return -1 if not any(LF(m) for LF in LF_txt_pos) else 0\n",
    "\n",
    "def LF_short(m):\n",
    "    _, phen, acro = spairtxt2uid(m)\n",
    "    return -1 if len(acro) == 1 else 0\n",
    "\n",
    "def LF_lc(m):\n",
    "    _, phen, acro = spairtxt2uid(m)\n",
    "    return -1 if all(l.islower() for l in acro) else 0\n",
    "\n",
    "def LF_uc(m):\n",
    "    _, phen, acro = spairtxt2uid(m)\n",
    "    return -1 if not any(l.islower() for l in phen) else 0\n",
    "\n",
    "def LF_punc(m):\n",
    "    _, phen, acro = spairtxt2uid(m)\n",
    "    punc = ',.;!?()'\n",
    "    return -1 if any(c in punc for c in phen) else 0\n",
    "    \n",
    "\n",
    "LF_txt_neg = [LF_no_pos, LF_short, LF_lc, LF_uc, LF_punc]\n",
    "\n",
    "LF_txt = LF_txt_pos + LF_txt_neg"
   ]
  },
  {
   "cell_type": "code",
   "execution_count": 441,
   "metadata": {
    "collapsed": false
   },
   "outputs": [
    {
     "name": "stdout",
     "output_type": "stream",
     "text": [
      "Applying LFs...\n",
      "Featurizing...\n",
      "Building feature index...\n",
      "Extracting features...\n",
      "0/11281\n",
      "5000/11281\n",
      "10000/11281\n",
      "============================================================\n",
      "LF Summary Statistics: 12 LFs applied to 550 candidates\n",
      "------------------------------------------------------------\n",
      "Coverage (candidates w/ > 0 labels):\t\t99.45%\n",
      "Overlap (candidates w/ > 1 labels):\t\t35.27%\n",
      "Conflict (candidates w/ conflicting labels):\t0.55%\n",
      "============================================================\n"
     ]
    }
   ],
   "source": [
    "from snorkel.snorkel import TrainingSet\n",
    "from snorkel.features import NgramFeaturizer\n",
    "\n",
    "training_set = TrainingSet(training_candidates, LF_txt, featurizer=NgramPairFeaturizer())"
   ]
  },
  {
   "cell_type": "code",
   "execution_count": 442,
   "metadata": {
    "collapsed": false
   },
   "outputs": [
    {
     "data": {
      "text/plain": [
       "array([[<matplotlib.axes.AxesSubplot object at 0x12ddd9710>]], dtype=object)"
      ]
     },
     "execution_count": 442,
     "metadata": {},
     "output_type": "execute_result"
    },
    {
     "data": {
      "image/png": "[encoded data removed]",
      "text/plain": [
       "<matplotlib.figure.Figure at 0x12dc404d0>"
      ]
     },
     "metadata": {},
     "output_type": "display_data"
    }
   ],
   "source": [
    "lf_stats = training_set.lf_stats()\n",
    "lf_stats[:5]\n",
    "lf_stats.hist(\"coverage\")"
   ]
  },
  {
   "cell_type": "code",
   "execution_count": 443,
   "metadata": {
    "collapsed": false
   },
   "outputs": [
    {
     "name": "stdout",
     "output_type": "stream",
     "text": [
      "============================================================\n",
      "Testing mu = 1.00e-05, lf_w0 = 1.00e+00\n",
      "============================================================\n",
      "Begin training for rate=0.01, mu=1e-05\n",
      "\tLearning epoch = 0\tGradient mag. = 0.026016\n",
      "\tLearning epoch = 250\tGradient mag. = 0.031044\n",
      "\tLearning epoch = 500\tGradient mag. = 0.035296\n",
      "\tLearning epoch = 750\tGradient mag. = 0.040148\n",
      "Final gradient magnitude for rate=0.01, mu=1e-05: 0.046\n",
      "Applying LFs...\n",
      "Featurizing...\n",
      "============================================================\n",
      "Testing mu = 1.00e-05, lf_w0 = 2.00e+00\n",
      "============================================================\n",
      "Begin training for rate=0.01, mu=1e-05\n",
      "\tLearning epoch = 0\tGradient mag. = 0.044448\n",
      "\tLearning epoch = 250\tGradient mag. = 0.050086\n",
      "\tLearning epoch = 500\tGradient mag. = 0.053524\n",
      "\tLearning epoch = 750\tGradient mag. = 0.057059\n",
      "Final gradient magnitude for rate=0.01, mu=1e-05: 0.061\n",
      "============================================================\n",
      "Testing mu = 1.00e-07, lf_w0 = 1.00e+00\n",
      "============================================================\n",
      "Begin training for rate=0.01, mu=1e-07\n",
      "\tLearning epoch = 0\tGradient mag. = 0.026016\n",
      "\tLearning epoch = 250\tGradient mag. = 0.031063\n",
      "\tLearning epoch = 500\tGradient mag. = 0.035338\n",
      "\tLearning epoch = 750\tGradient mag. = 0.040213\n",
      "Final gradient magnitude for rate=0.01, mu=1e-07: 0.046\n",
      "============================================================\n",
      "Testing mu = 1.00e-07, lf_w0 = 2.00e+00\n",
      "============================================================\n",
      "Begin training for rate=0.01, mu=1e-07\n",
      "\tLearning epoch = 0\tGradient mag. = 0.044448\n",
      "\tLearning epoch = 250\tGradient mag. = 0.050098\n",
      "\tLearning epoch = 500\tGradient mag. = 0.053548\n",
      "\tLearning epoch = 750\tGradient mag. = 0.057093\n",
      "Final gradient magnitude for rate=0.01, mu=1e-07: 0.061\n"
     ]
    }
   ],
   "source": [
    "from snorkel.snorkel import Learner\n",
    "import snorkel.learning\n",
    "from snorkel.learning import LogReg\n",
    "\n",
    "text_learner = Learner(training_set, model=LogReg())\n",
    "\n",
    "# Splitting into CV and test set\n",
    "n_half = len(gold_candidates)/2\n",
    "test_candidates = gold_candidates[:n_half]\n",
    "test_labels     = gold_labels[:n_half]\n",
    "cv_candidates   = gold_candidates[n_half:]\n",
    "cv_labels       = gold_labels[n_half:]\n",
    "\n",
    "from snorkel.learning_utils import GridSearch\n",
    "gs       = GridSearch(text_learner, ['mu', 'lf_w0'], [[1e-5, 1e-7],[1.0,2.0]])\n",
    "gs_stats = gs.fit(cv_candidates, cv_labels)"
   ]
  },
  {
   "cell_type": "code",
   "execution_count": 444,
   "metadata": {
    "collapsed": false
   },
   "outputs": [
    {
     "data": {
      "text/html": [
       "<div style=\"max-height:1000px;max-width:1500px;overflow:auto;\">\n",
       "<table border=\"1\" class=\"dataframe\">\n",
       "  <thead>\n",
       "    <tr style=\"text-align: right;\">\n",
       "      <th></th>\n",
       "      <th>mu</th>\n",
       "      <th>lf_w0</th>\n",
       "      <th>Prec.</th>\n",
       "      <th>Rec.</th>\n",
       "      <th>F1</th>\n",
       "    </tr>\n",
       "  </thead>\n",
       "  <tbody>\n",
       "    <tr>\n",
       "      <th>0</th>\n",
       "      <td> 0.00001</td>\n",
       "      <td> 1</td>\n",
       "      <td> 0.75</td>\n",
       "      <td> 0.972973</td>\n",
       "      <td> 0.847059</td>\n",
       "    </tr>\n",
       "    <tr>\n",
       "      <th>1</th>\n",
       "      <td> 0.00001</td>\n",
       "      <td> 2</td>\n",
       "      <td> 0.75</td>\n",
       "      <td> 0.972973</td>\n",
       "      <td> 0.847059</td>\n",
       "    </tr>\n",
       "    <tr>\n",
       "      <th>2</th>\n",
       "      <td> 0.00000</td>\n",
       "      <td> 1</td>\n",
       "      <td> 0.75</td>\n",
       "      <td> 0.972973</td>\n",
       "      <td> 0.847059</td>\n",
       "    </tr>\n",
       "    <tr>\n",
       "      <th>3</th>\n",
       "      <td> 0.00000</td>\n",
       "      <td> 2</td>\n",
       "      <td> 0.75</td>\n",
       "      <td> 0.972973</td>\n",
       "      <td> 0.847059</td>\n",
       "    </tr>\n",
       "  </tbody>\n",
       "</table>\n",
       "<p>4 rows × 5 columns</p>\n",
       "</div>"
      ],
      "text/plain": [
       "        mu  lf_w0  Prec.      Rec.        F1\n",
       "0  0.00001      1   0.75  0.972973  0.847059\n",
       "1  0.00001      2   0.75  0.972973  0.847059\n",
       "2  0.00000      1   0.75  0.972973  0.847059\n",
       "3  0.00000      2   0.75  0.972973  0.847059\n",
       "\n",
       "[4 rows x 5 columns]"
      ]
     },
     "execution_count": 444,
     "metadata": {},
     "output_type": "execute_result"
    }
   ],
   "source": [
    "gs_stats"
   ]
  },
  {
   "cell_type": "code",
   "execution_count": 445,
   "metadata": {
    "collapsed": false
   },
   "outputs": [
    {
     "name": "stdout",
     "output_type": "stream",
     "text": [
      "Applying LFs...\n",
      "Featurizing...\n",
      "========================================\n",
      "Test set size:\t179\n",
      "----------------------------------------\n",
      "Precision:\t0.5\n",
      "Recall:\t\t1.0\n",
      "F1 Score:\t0.666666666667\n",
      "----------------------------------------\n",
      "TP: 37 | FP: 37 | TN: 105 | FN: 0\n",
      "========================================\n"
     ]
    }
   ],
   "source": [
    "text_learner.test_wmv(test_candidates, test_labels)"
   ]
  },
  {
   "cell_type": "code",
   "execution_count": 446,
   "metadata": {
    "collapsed": false
   },
   "outputs": [
    {
     "name": "stdout",
     "output_type": "stream",
     "text": [
      "Applying LFs...\n",
      "Featurizing...\n",
      "[('17903292', u'Glomerular Filtration Rate', u'GFR'), ('17903292', u'Glomerular Filtration Rate', u'GFR'), ('17903292', u'Thyroid stimulation hormone', u'TSH'), ('17903292', u'Thyroid stimulation hormone', u'TSH'), ('17903292', u'Dehydroepiandrosterone sulfate', u'DHEAS'), ('17903292', u'Physical Location', u'Mb'), ('17903292', u'Physical Location', u'Mb'), ('17903292', u'Physical Location', u'Mb'), ('17903292', u'Physical Location', u'Mb'), ('17903292', u'Physical location', u'Mb')]\n",
      "17903292 1.0 -1\n",
      "Phrase('17903292', 1, 3, 0, u'Physical Location (Mb)')\n",
      "Physical Location (Mb) (Mb)\n",
      "[0, 0, 0, 0, 0, 1, 0, 0, 0, 0, 0, 0]\n",
      "\n",
      "17903292 1.0 -1\n",
      "Phrase('17903292', 1, 3, 0, u'Physical Location (Mb)')\n",
      "Physical Location (Mb) (Mb)\n",
      "[0, 0, 0, 0, 0, 1, 0, 0, 0, 0, 0, 0]\n",
      "\n",
      "17903292 1.0 -1\n",
      "Phrase('17903292', 1, 189, 0, u'Physical Location (Mb)')\n",
      "Physical Location (Mb) (Mb)\n",
      "[0, 0, 0, 0, 0, 1, 0, 0, 0, 0, 0, 0]\n",
      "\n",
      "17903292 1.0 -1\n",
      "Phrase('17903292', 1, 189, 0, u'Physical Location (Mb)')\n",
      "Physical Location (Mb) (Mb)\n",
      "[0, 0, 0, 0, 0, 1, 0, 0, 0, 0, 0, 0]\n",
      "\n",
      "17903292 1.0 -1\n",
      "Phrase('17903292', 1, 383, 0, u'Physical location (Mb)')\n",
      "Physical location (Mb) (Mb)\n",
      "[0, 0, 0, 0, 0, 1, 0, 0, 0, 0, 0, 0]\n",
      "\n",
      "17903292 1.0 -1\n",
      "Phrase('17903292', 1, 383, 0, u'Physical location (Mb)')\n",
      "Physical location (Mb) (Mb)\n",
      "[0, 0, 0, 0, 0, 1, 0, 0, 0, 0, 0, 0]\n",
      "\n",
      "17903292 1.0 -1\n",
      "Phrase('17903292', 2, 5, 0, u'Mean p-value (GEE)')\n",
      "Mean p-value (GEE) (GEE)\n",
      "[0, 0, 0, 0, 0, 1, 0, 0, 0, 0, 0, 0]\n",
      "\n",
      "17903292 1.0 -1\n",
      "Phrase('17903292', 2, 5, 0, u'Mean p-value (GEE)')\n",
      "Mean p-value (GEE) (GEE)\n",
      "[0, 0, 0, 0, 0, 1, 0, 0, 0, 0, 0, 0]\n",
      "\n",
      "17903292 1.0 -1\n",
      "Phrase('17903292', 2, 6, 0, u'Mean p-value (FBAT)')\n",
      "Mean p-value (FBAT) (FBAT)\n",
      "[0, 0, 0, 0, 0, 1, 0, 0, 0, 0, 0, 0]\n",
      "\n",
      "17903292 1.0 -1\n",
      "Phrase('17903292', 3, 7, 0, u'P_value (GEE)')\n",
      "P_value (GEE) (GEE)\n",
      "[0, 0, 0, 0, 0, 1, 0, 0, 0, 0, 0, 0]\n",
      "\n",
      "17903292 1.0 -1\n",
      "Phrase('17903292', 3, 7, 0, u'P_value (GEE)')\n",
      "P_value (GEE) (GEE)\n",
      "[0, 0, 0, 0, 0, 1, 0, 0, 0, 0, 0, 0]\n",
      "\n",
      "17903296 1.0 -1\n",
      "Phrase('17903296', 0, 2, 0, u'Gender (N)')\n",
      "Gender (N) (N)\n",
      "[0, 0, 0, 0, 0, 1, 0, 0, -1, 0, 0, 0]\n",
      "\n",
      "17903296 1.0 -1\n",
      "Phrase('17903296', 0, 2, 0, u'Gender (N)')\n",
      "Gender (N) (N)\n",
      "[0, 0, 0, 0, 0, 1, 0, 0, -1, 0, 0, 0]\n",
      "\n",
      "17903297 1.0 -1\n",
      "Phrase('17903297', 0, 93, 0, u'Similarities (Sim)')\n",
      "Similarities (Sim) (Sim)\n",
      "[0, 0, 0, 1, 0, 1, 1, 0, 0, 0, 0, 0]\n",
      "\n",
      "17903297 1.0 -1\n",
      "Phrase('17903297', 0, 93, 0, u'Similarities (Sim)')\n",
      "Similarities (Sim) (Sim)\n",
      "[0, 0, 0, 1, 0, 1, 1, 0, 0, 0, 0, 0]\n",
      "\n",
      "17903300 1.0 -1\n",
      "Phrase('17903300', 1, 3, 0, u'Physical Position (Mb)')\n",
      "Physical Position (Mb) (Mb)\n",
      "[0, 0, 0, 0, 0, 1, 0, 0, 0, 0, 0, 0]\n",
      "\n",
      "17903300 1.0 -1\n",
      "Phrase('17903300', 1, 3, 0, u'Physical Position (Mb)')\n",
      "Physical Position (Mb) (Mb)\n",
      "[0, 0, 0, 0, 0, 1, 0, 0, 0, 0, 0, 0]\n",
      "\n",
      "17903300 1.0 -1\n",
      "Phrase('17903300', 1, 190, 0, u'Physical Location (Mb)')\n",
      "Physical Location (Mb) (Mb)\n",
      "[0, 0, 0, 0, 0, 1, 0, 0, 0, 0, 0, 0]\n",
      "\n",
      "17903300 1.0 -1\n",
      "Phrase('17903300', 1, 190, 0, u'Physical Location (Mb)')\n",
      "Physical Location (Mb) (Mb)\n",
      "[0, 0, 0, 0, 0, 1, 0, 0, 0, 0, 0, 0]\n",
      "\n",
      "17903292 1.0 -1\n",
      "Phrase('17903292', 1, 0, 1, u'Corresponding phenotype names on the web are GFRMV7 (GFR), UAELNMV6 (UAE), CYSCMV7 (CysC), and TSHMEAN34MV (TSH)')\n",
      "UAELNMV6 (UAE) (UAE)\n",
      "[0, 0, 0, 1, 0, 0, 1, 0, 0, 0, -1, 0]\n",
      "\n",
      "17903292 1.0 -1\n",
      "Phrase('17903292', 1, 3, 0, u'Physical Location (Mb)')\n",
      "Physical Location (Mb) (Mb)\n",
      "[0, 0, 0, 0, 0, 1, 0, 0, 0, 0, 0, 0]\n",
      "\n",
      "17903292 1.0 -1\n",
      "Phrase('17903292', 1, 3, 0, u'Physical Location (Mb)')\n",
      "Physical Location (Mb) (Mb)\n",
      "[0, 0, 0, 0, 0, 1, 0, 0, 0, 0, 0, 0]\n",
      "\n",
      "17903292 1.0 -1\n",
      "Phrase('17903292', 1, 3, 0, u'Physical Location (Mb)')\n",
      "Physical Location (Mb) (Mb)\n",
      "[0, 0, 0, 0, 0, 1, 0, 0, 0, 0, 0, 0]\n",
      "\n",
      "17903292 1.0 -1\n",
      "Phrase('17903292', 1, 185, 1, u'Corresponding phenotype names on the web are GFRMV7 (GFR), UAELNMV6 (UAE), CYSCMV7 (CysC), and TSHMEAN34MV (TSH)')\n",
      "UAELNMV6 (UAE) (UAE)\n",
      "[0, 0, 0, 1, 0, 0, 1, 0, 0, 0, -1, 0]\n",
      "\n",
      "17903292 1.0 -1\n",
      "Phrase('17903292', 1, 189, 0, u'Physical Location (Mb)')\n",
      "Physical Location (Mb) (Mb)\n",
      "[0, 0, 0, 0, 0, 1, 0, 0, 0, 0, 0, 0]\n",
      "\n",
      "17903292 1.0 -1\n",
      "Phrase('17903292', 1, 189, 0, u'Physical Location (Mb)')\n",
      "Physical Location (Mb) (Mb)\n",
      "[0, 0, 0, 0, 0, 1, 0, 0, 0, 0, 0, 0]\n",
      "\n",
      "17903292 1.0 -1\n",
      "Phrase('17903292', 1, 189, 0, u'Physical Location (Mb)')\n",
      "Physical Location (Mb) (Mb)\n",
      "[0, 0, 0, 0, 0, 1, 0, 0, 0, 0, 0, 0]\n",
      "\n",
      "17903292 1.0 -1\n",
      "Phrase('17903292', 1, 383, 0, u'Physical location (Mb)')\n",
      "Physical location (Mb) (Mb)\n",
      "[0, 0, 0, 0, 0, 1, 0, 0, 0, 0, 0, 0]\n",
      "\n",
      "17903292 1.0 -1\n",
      "Phrase('17903292', 1, 383, 0, u'Physical location (Mb)')\n",
      "Physical location (Mb) (Mb)\n",
      "[0, 0, 0, 0, 0, 1, 0, 0, 0, 0, 0, 0]\n",
      "\n",
      "17903292 1.0 -1\n",
      "Phrase('17903292', 1, 383, 0, u'Physical location (Mb)')\n",
      "Physical location (Mb) (Mb)\n",
      "[0, 0, 0, 0, 0, 1, 0, 0, 0, 0, 0, 0]\n",
      "\n",
      "17903292 1.0 -1\n",
      "Phrase('17903292', 2, 5, 0, u'Mean p-value (GEE)')\n",
      "Mean p-value (GEE) (GEE)\n",
      "[0, 0, 0, 0, 0, 1, 0, 0, 0, 0, 0, 0]\n",
      "\n",
      "17903292 1.0 -1\n",
      "Phrase('17903292', 2, 5, 0, u'Mean p-value (GEE)')\n",
      "Mean p-value (GEE) (GEE)\n",
      "[0, 0, 0, 0, 0, 1, 0, 0, 0, 0, 0, 0]\n",
      "\n",
      "17903292 1.0 -1\n",
      "Phrase('17903292', 2, 5, 0, u'Mean p-value (GEE)')\n",
      "Mean p-value (GEE) (GEE)\n",
      "[0, 0, 0, 0, 0, 1, 0, 0, 0, 0, 0, 0]\n",
      "\n",
      "17903292 1.0 -1\n",
      "Phrase('17903292', 2, 6, 0, u'Mean p-value (FBAT)')\n",
      "Mean p-value (FBAT) (FBAT)\n",
      "[0, 0, 0, 0, 0, 1, 0, 0, 0, 0, 0, 0]\n",
      "\n",
      "17903292 1.0 -1\n",
      "Phrase('17903292', 3, 7, 0, u'P_value (GEE)')\n",
      "P_value (GEE) (GEE)\n",
      "[0, 0, 0, 0, 0, 1, 0, 0, 0, 0, 0, 0]\n",
      "\n",
      "17903292 1.0 -1\n",
      "Phrase('17903292', 3, 7, 0, u'P_value (GEE)')\n",
      "P_value (GEE) (GEE)\n",
      "[0, 0, 0, 0, 0, 1, 0, 0, 0, 0, 0, 0]\n",
      "\n",
      "17903292 1.0 -1\n",
      "Phrase('17903292', 3, 7, 0, u'P_value (GEE)')\n",
      "P_value (GEE) (GEE)\n",
      "[0, 0, 0, 0, 0, 1, 0, 0, 0, 0, 0, 0]\n",
      "\n",
      "17903296 1.0 -1\n",
      "Phrase('17903296', 0, 2, 0, u'Gender (N)')\n",
      "Gender (N) (N)\n",
      "[0, 0, 0, 0, 0, 1, 0, 0, -1, 0, 0, 0]\n",
      "\n",
      "17903296 1.0 -1\n",
      "Phrase('17903296', 0, 2, 0, u'Gender (N)')\n",
      "Gender (N) (N)\n",
      "[0, 0, 0, 0, 0, 1, 0, 0, -1, 0, 0, 0]\n",
      "\n",
      "17903296 1.0 -1\n",
      "Phrase('17903296', 0, 2, 0, u'Gender (N)')\n",
      "Gender (N) (N)\n",
      "[0, 0, 0, 0, 0, 1, 0, 0, -1, 0, 0, 0]\n",
      "\n",
      "17903297 1.0 -1\n",
      "Phrase('17903297', 0, 87, 0, u'Boston Naming Test (Nam)')\n",
      "Naming Test (Nam) (Nam)\n",
      "[0, 0, 0, 1, 0, 0, 0, 0, 0, 0, 0, 0]\n",
      "\n",
      "17903297 1.0 -1\n",
      "Phrase('17903297', 0, 87, 0, u'Boston Naming Test (Nam)')\n",
      "Naming Test (Nam) (Nam)\n",
      "[0, 0, 0, 1, 0, 0, 0, 0, 0, 0, 0, 0]\n",
      "\n",
      "17903297 1.0 -1\n",
      "Phrase('17903297', 0, 87, 0, u'Boston Naming Test (Nam)')\n",
      "Naming Test (Nam) (Nam)\n",
      "[0, 0, 0, 1, 0, 0, 0, 0, 0, 0, 0, 0]\n",
      "\n",
      "17903297 1.0 -1\n",
      "Phrase('17903297', 0, 93, 0, u'Similarities (Sim)')\n",
      "Similarities (Sim) (Sim)\n",
      "[0, 0, 0, 1, 0, 1, 1, 0, 0, 0, 0, 0]\n",
      "\n",
      "17903297 1.0 -1\n",
      "Phrase('17903297', 0, 93, 0, u'Similarities (Sim)')\n",
      "Similarities (Sim) (Sim)\n",
      "[0, 0, 0, 1, 0, 1, 1, 0, 0, 0, 0, 0]\n",
      "\n",
      "17903297 1.0 -1\n",
      "Phrase('17903297', 0, 93, 0, u'Similarities (Sim)')\n",
      "Similarities (Sim) (Sim)\n",
      "[0, 0, 0, 1, 0, 1, 1, 0, 0, 0, 0, 0]\n",
      "\n",
      "17903298 -1.0 1\n",
      "Phrase('17903298', 0, 18, 0, u'28 yr time averaged FPG (tFPG)')\n",
      "time averaged FPG (tFPG) (tFPG)\n",
      "[0, 0, 0, 0, 0, 0, 0, -1, 0, 0, 0, 0]\n",
      "\n",
      "17903300 1.0 -1\n",
      "Phrase('17903300', 1, 3, 0, u'Physical Position (Mb)')\n",
      "Physical Position (Mb) (Mb)\n",
      "[0, 0, 0, 0, 0, 1, 0, 0, 0, 0, 0, 0]\n",
      "\n",
      "17903300 1.0 -1\n",
      "Phrase('17903300', 1, 3, 0, u'Physical Position (Mb)')\n",
      "Physical Position (Mb) (Mb)\n",
      "[0, 0, 0, 0, 0, 1, 0, 0, 0, 0, 0, 0]\n",
      "\n",
      "17903300 1.0 -1\n",
      "Phrase('17903300', 1, 3, 0, u'Physical Position (Mb)')\n",
      "Physical Position (Mb) (Mb)\n",
      "[0, 0, 0, 0, 0, 1, 0, 0, 0, 0, 0, 0]\n",
      "\n"
     ]
    }
   ],
   "source": [
    "text_preds = text_learner.predict_wmv(text_c)\n",
    "text_acronyms = [spairtxt2uid(c) for (c, p) in zip(text_c, text_preds) if p == 1]\n",
    "print text_acronyms[:10]\n",
    "mislabeled_cand = [(c,p, annotations.get(spair2uid(c), None)) for c, p in zip(text_c, text_preds) if p != annotations.get(spair2uid(c), p)]\n",
    "for (c,p,g) in mislabeled_cand[:50]:\n",
    "    _, phen, acro = spairtxt2uid(c)\n",
    "    print c.span0.context.document.name, p, g\n",
    "    print c.span0.context    \n",
    "    print c.span0.get_span(), c.span1.get_span()\n",
    "    print [LF(c) for LF in LF_txt]\n",
    "    print"
   ]
  },
  {
   "cell_type": "code",
   "execution_count": 452,
   "metadata": {
    "collapsed": false
   },
   "outputs": [
    {
     "name": "stdout",
     "output_type": "stream",
     "text": [
      "17903293\n",
      "Phrase('17903293', 0, 8, 0, u'CD40 Ligand, serum & plasma')\n",
      "CD40 Ligand, serum & plasma CD40L\n",
      "[0, 0, 0, 0, 0, 1, 0, 0, 0, 0, 0, -1]\n",
      "\n",
      "17903293\n",
      "Phrase('17903293', 0, 10, 0, u'2')\n",
      "2 CD40L\n",
      "[0, 0, 0, 0, 0, 1, 0, 0, 0, 0, -1, 0]\n",
      "\n",
      "17903293\n",
      "Phrase('17903293', 0, 14, 0, u'C-reactive protein')\n",
      "C-reactive protein CRP\n",
      "[0, 0, 0, 0, 0, 1, 0, 0, -1, 0, 0, 0]\n",
      "\n",
      "17903293\n",
      "Phrase('17903293', 0, 16, 0, u'5')\n",
      "5 CRP\n",
      "[0, 0, 0, 0, 0, 1, 0, 0, -1, 0, -1, 0]\n",
      "\n",
      "17903293\n",
      "Phrase('17903293', 0, 20, 0, u'Intercellular adhesion molecule-1')\n",
      "Intercellular adhesion molecule-1 ICAM1\n",
      "[0, 0, 0, 0, 0, 1, 0, 0, 0, 0, 0, 0]\n",
      "\n",
      "17903293\n",
      "Phrase('17903293', 0, 22, 0, u'1')\n",
      "1 ICAM1\n",
      "[0, 0, 0, 0, 0, 1, 0, 0, 0, 0, -1, 0]\n",
      "\n",
      "17903293\n",
      "Phrase('17903293', 0, 26, 0, u'Interleukin-6')\n",
      "Interleukin-6 IL6\n",
      "[0, 0, 0, 0, 0, 1, 0, 0, -1, 0, 0, 0]\n",
      "\n",
      "17903293\n",
      "Phrase('17903293', 0, 28, 0, u'1')\n",
      "1 IL6\n",
      "[0, 0, 0, 0, 0, 1, 0, 0, -1, 0, -1, 0]\n",
      "\n",
      "17903293\n",
      "Phrase('17903293', 0, 32, 0, u'Urinary isoprostanes/creatinine')\n",
      "Urinary isoprostanes/creatinine IsoCrUrine\n",
      "[0, 0, 0, 0, 0, 1, 0, 0, 0, 0, 0, 0]\n",
      "\n",
      "17903293\n",
      "Phrase('17903293', 0, 34, 0, u'1')\n",
      "1 IsoCrUrine\n",
      "[0, 0, 0, 0, 0, 1, 0, 0, 0, 0, -1, 0]\n",
      "\n",
      "17903293\n",
      "Phrase('17903293', 0, 38, 0, u'Monocyte chemoattractant protein-1')\n",
      "Monocyte chemoattractant protein-1 MCP1\n",
      "[0, 0, 0, 0, 0, 1, 0, 0, 0, 0, 0, 0]\n",
      "\n",
      "17903293\n",
      "Phrase('17903293', 0, 40, 0, u'1')\n",
      "1 MCP1\n",
      "[0, 0, 0, 0, 0, 1, 0, 0, 0, 0, -1, 0]\n",
      "\n",
      "17903293\n",
      "Phrase('17903293', 0, 44, 0, u'Myeloperoxidase')\n",
      "Myeloperoxidase MPO\n",
      "[0, 0, 0, 0, 0, 1, 0, 0, -1, 0, 0, 0]\n",
      "\n",
      "17903293\n",
      "Phrase('17903293', 0, 46, 0, u'1')\n",
      "1 MPO\n",
      "[0, 0, 0, 0, 0, 1, 0, 0, -1, 0, -1, 0]\n",
      "\n",
      "17903293\n",
      "Phrase('17903293', 0, 50, 0, u'Osteoprotegerin')\n",
      "Osteoprotegerin OPG\n",
      "[0, 0, 0, 0, 0, 1, 0, 0, -1, 0, 0, 0]\n",
      "\n",
      "17903293\n",
      "Phrase('17903293', 0, 52, 0, u'1')\n",
      "1 OPG\n",
      "[0, 0, 0, 0, 0, 1, 0, 0, -1, 0, -1, 0]\n",
      "\n",
      "17903293\n",
      "Phrase('17903293', 0, 56, 0, u'P-selectin')\n",
      "P-selectin Pselectin\n",
      "[0, 0, 0, 0, 0, 1, 0, 0, 0, -1, 0, 0]\n",
      "\n",
      "17903293\n",
      "Phrase('17903293', 0, 58, 0, u'1')\n",
      "1 Pselectin\n",
      "[0, 0, 0, 0, 0, 1, 0, 0, 0, -1, -1, 0]\n",
      "\n",
      "17903293\n",
      "Phrase('17903293', 0, 62, 0, u'Tumor necrosis factor alpha')\n",
      "Tumor necrosis factor alpha TNFA\n",
      "[0, 0, 0, 0, 0, 1, 0, 0, 0, 0, 0, 0]\n",
      "\n",
      "17903293\n",
      "Phrase('17903293', 0, 64, 0, u'1')\n",
      "1 TNFA\n",
      "[0, 0, 0, 0, 0, 1, 0, 0, 0, 0, -1, 0]\n",
      "\n",
      "17903293\n",
      "Phrase('17903293', 0, 68, 0, u'Tumor necrosis factor receptor-2')\n",
      "Tumor necrosis factor receptor-2 TNFRII\n",
      "[0, 0, 0, 0, 0, 1, 0, 0, 0, 0, 0, 0]\n",
      "\n",
      "17903293\n",
      "Phrase('17903293', 0, 70, 0, u'1')\n",
      "1 TNFRII\n",
      "[0, 0, 0, 0, 0, 1, 0, 0, 0, 0, -1, 0]\n",
      "\n",
      "17903293\n",
      "Phrase('17903293', 0, 77, 0, u'N-terminal pro-atrial natriuretic peptide')\n",
      "N-terminal pro-atrial natriuretic peptide ANP\n",
      "[0, 0, 0, 0, 0, 1, 1, 0, -1, 0, 0, 0]\n",
      "\n",
      "17903293\n",
      "Phrase('17903293', 0, 79, 0, u'1')\n",
      "1 ANP\n",
      "[0, 0, 0, 0, 0, 1, 0, 0, -1, 0, -1, 0]\n",
      "\n",
      "17903293\n",
      "Phrase('17903293', 0, 83, 0, u'B-type natriuretic peptide')\n",
      "B-type natriuretic peptide BNP\n",
      "[0, 0, 0, 0, 0, 1, 0, 0, -1, 0, 0, 0]\n",
      "\n",
      "17903293\n",
      "Phrase('17903293', 0, 85, 0, u'1')\n",
      "1 BNP\n",
      "[0, 0, 0, 0, 0, 1, 0, 0, -1, 0, -1, 0]\n",
      "\n",
      "17903293\n",
      "Phrase('17903293', 0, 92, 0, u'Bilirubin')\n",
      "Bilirubin Bili\n",
      "[0, 0, 0, 0, 0, 1, 0, 0, 0, -1, 0, 0]\n",
      "\n",
      "17903293\n",
      "Phrase('17903293', 0, 94, 0, u'1')\n",
      "1 Bili\n",
      "[0, 0, 0, 0, 0, 1, 0, 0, 0, -1, -1, 0]\n",
      "\n",
      "17903293\n",
      "Phrase('17903293', 0, 98, 0, u'Aspartate aminotransferase **')\n",
      "Aspartate aminotransferase ** AST\n",
      "[0, 0, 0, 0, 0, 1, 0, 0, -1, 0, 0, 0]\n",
      "\n",
      "17903293\n",
      "Phrase('17903293', 0, 100, 0, u'1')\n",
      "1 AST\n",
      "[0, 0, 0, 0, 0, 1, 0, 0, -1, 0, -1, 0]\n",
      "\n",
      "17903293\n",
      "Phrase('17903293', 0, 104, 0, u'Alanine aminotransferase')\n",
      "Alanine aminotransferase ALT\n",
      "[0, 0, 0, 0, 0, 1, 0, 0, -1, 0, 0, 0]\n",
      "\n",
      "17903293\n",
      "Phrase('17903293', 0, 106, 0, u'1')\n",
      "1 ALT\n",
      "[0, 0, 0, 0, 0, 1, 0, 0, -1, 0, -1, 0]\n",
      "\n",
      "17903293\n",
      "Phrase('17903293', 0, 110, 0, u'Alkaline phosphatase')\n",
      "Alkaline phosphatase AlkPhos\n",
      "[0, 0, 0, 0, 0, 1, 0, 0, 0, 0, 0, 0]\n",
      "\n",
      "17903293\n",
      "Phrase('17903293', 0, 112, 0, u'1')\n",
      "1 AlkPhos\n",
      "[0, 0, 0, 0, 0, 1, 0, 0, 0, 0, -1, 0]\n",
      "\n",
      "17903293\n",
      "Phrase('17903293', 0, 116, 0, u'Gamma-glutamyl transferase')\n",
      "Gamma-glutamyl transferase GGT\n",
      "[0, 0, 0, 0, 0, 1, 1, 0, -1, 0, 0, 0]\n",
      "\n",
      "17903293\n",
      "Phrase('17903293', 0, 118, 0, u'1')\n",
      "1 GGT\n",
      "[0, 0, 0, 0, 0, 1, 0, 0, -1, 0, -1, 0]\n",
      "\n",
      "17903293\n",
      "Phrase('17903293', 0, 125, 0, u'Vitamin K plasma phylloquinone')\n",
      "Vitamin K plasma phylloquinone VitKPhylloq\n",
      "[0, 0, 0, 0, 0, 1, 0, 0, 0, 0, 0, 0]\n",
      "\n",
      "17903293\n",
      "Phrase('17903293', 0, 127, 0, u'1')\n",
      "1 VitKPhylloq\n",
      "[0, 0, 0, 0, 0, 1, 0, 0, 0, 0, -1, 0]\n",
      "\n",
      "17903293\n",
      "Phrase('17903293', 0, 131, 0, u'Vitamin K percentage of undercarboxylated osteocalcin')\n",
      "Vitamin K percentage of undercarboxylated osteocalcin VitKPucOC\n",
      "[0, 0, 0, 0, 0, 1, 0, 0, 0, 0, 0, 0]\n",
      "\n",
      "17903293\n",
      "Phrase('17903293', 0, 133, 0, u'1')\n",
      "1 VitKPucOC\n",
      "[0, 0, 0, 0, 0, 1, 0, 0, 0, 0, -1, 0]\n",
      "\n",
      "17903293\n",
      "Phrase('17903293', 0, 137, 0, u'Vitamin D plasma 25(OH)-D')\n",
      "Vitamin D plasma 25(OH)-D VitD25OH\n",
      "[0, 0, 0, 0, 0, 1, 0, 0, 0, 0, 0, -1]\n",
      "\n",
      "17903293\n",
      "Phrase('17903293', 0, 139, 0, u'1')\n",
      "1 VitD25OH\n",
      "[0, 0, 0, 0, 0, 1, 0, 0, 0, 0, -1, 0]\n",
      "\n",
      "17903296\n",
      "Phrase('17903296', 0, 10, 0, u'Femoral BMD**')\n",
      "Femoral BMD** FNBMD\n",
      "[0, 0, 0, 0, 0, 1, 0, 0, 0, 0, 0, 0]\n",
      "\n",
      "17903296\n",
      "Phrase('17903296', 0, 25, 0, u'Trochanter BMD**')\n",
      "Trochanter BMD** TRBMD\n",
      "[0, 0, 0, 0, 0, 1, 0, 0, 0, 0, 0, 0]\n",
      "\n",
      "17903296\n",
      "Phrase('17903296', 0, 40, 0, u'Lumbar spine BMD**')\n",
      "Lumbar spine BMD** LSBMD\n",
      "[0, 0, 0, 0, 0, 1, 0, 0, 0, 0, 0, 0]\n",
      "\n",
      "17903296\n",
      "Phrase('17903296', 0, 60, 0, u'Broadband ultrasound attenuation**')\n",
      "Broadband ultrasound attenuation** BUA\n",
      "[0, 0, 0, 0, 0, 1, 0, 0, -1, 0, 0, 0]\n",
      "\n",
      "17903296\n",
      "Phrase('17903296', 0, 65, 0, u'Speed of Sound')\n",
      "Speed of Sound SOS\n",
      "[0, 0, 0, 0, 0, 1, 0, 0, -1, 0, 0, 0]\n",
      "\n",
      "17903296\n",
      "Phrase('17903296', 0, 75, 0, u'Neck-shaft angle**')\n",
      "Neck-shaft angle** NSA1\n",
      "[0, 0, 0, 0, 0, 1, 0, 0, 0, 0, 0, 0]\n",
      "\n",
      "17903296\n",
      "Phrase('17903296', 0, 90, 0, u'Femoral neck length**')\n",
      "Femoral neck length** NeckLeng1\n",
      "[0, 0, 0, 0, 0, 1, 0, 0, 0, 0, 0, 0]\n",
      "\n",
      "17903296\n",
      "Phrase('17903296', 0, 105, 0, u'Neck width**')\n",
      "Neck width** NeckW1r\n",
      "[0, 0, 0, 0, 0, 1, 0, 0, 0, 0, 0, 0]\n",
      "\n",
      "17903296\n",
      "Phrase('17903296', 0, 120, 0, u'Neck section modulus**')\n",
      "Neck section modulus** NeckZ1r\n",
      "[0, 0, 0, 0, 0, 1, 0, 0, 0, 0, 0, 0]\n",
      "\n",
      "17903296\n",
      "Phrase('17903296', 0, 135, 0, u'Neck Cross-Sectional Moment of Inertia')\n",
      "Neck Cross-Sectional Moment of Inertia NeckCSMI1r\n",
      "[0, 0, 0, 0, 0, 1, 0, 0, 0, 0, 0, 0]\n",
      "\n",
      "17903296\n",
      "Phrase('17903296', 0, 150, 0, u'Neck Average Buckling Ratio')\n",
      "Neck Average Buckling Ratio NeckAvgBR1r\n",
      "[0, 0, 0, 0, 0, 1, 0, 0, 0, 0, 0, 0]\n",
      "\n",
      "17903296\n",
      "Phrase('17903296', 0, 165, 0, u'Shaft width**')\n",
      "Shaft width** ShaftW1\n",
      "[0, 0, 0, 0, 0, 1, 0, 0, 0, 0, 0, 0]\n",
      "\n",
      "17903296\n",
      "Phrase('17903296', 0, 180, 0, u'Shaft Section modulus**')\n",
      "Shaft Section modulus** ShaftZ1r\n",
      "[0, 0, 0, 0, 0, 1, 0, 0, 0, 0, 0, 0]\n",
      "\n",
      "17903296\n",
      "Phrase('17903296', 0, 195, 0, u'Shaft Cross-Sectional Moment of Inertia')\n",
      "Shaft Cross-Sectional Moment of Inertia ShaftCSMIr\n",
      "[0, 0, 0, 0, 0, 1, 0, 0, 0, 0, 0, 0]\n",
      "\n",
      "17903296\n",
      "Phrase('17903296', 0, 210, 0, u'Shaft Average Buckling Ratio')\n",
      "Shaft Average Buckling Ratio ShaftAvgBR1r\n",
      "[0, 0, 0, 0, 0, 1, 0, 0, 0, 0, 0, 0]\n",
      "\n",
      "17903296\n",
      "Phrase('17903296', 0, 225, 0, u'Inter-Trochanteric Average Buckling Ratio')\n",
      "Inter-Trochanteric Average Buckling Ratio ITAvgBR1r\n",
      "[0, 0, 0, 0, 0, 1, 0, 0, 0, 0, 0, 0]\n",
      "\n"
     ]
    }
   ],
   "source": [
    "for (c) in (candidates):\n",
    "#     if c.span0.context.document.name != '17903294': continue\n",
    "    _, phen, acro = spairtxt2uid(c)\n",
    "    print c.span0.context.document.name\n",
    "    print c.span0.context    \n",
    "    print c.span0.get_span(), c.span1.get_span()\n",
    "    print [LF(c) for LF in LF_txt]\n",
    "    print"
   ]
  },
  {
   "cell_type": "markdown",
   "metadata": {
    "collapsed": true
   },
   "source": [
    "### Collect all the candidates"
   ]
  },
  {
   "cell_type": "code",
   "execution_count": 448,
   "metadata": {
    "collapsed": false
   },
   "outputs": [
    {
     "name": "stdout",
     "output_type": "stream",
     "text": [
      "Applying LFs...\n",
      "Featurizing...\n",
      "[('17903293', u'CD40 Ligand, serum & plasma', u'CD40L'), ('17903293', u'C-reactive protein', u'CRP'), ('17903293', u'Intercellular adhesion molecule-1', u'ICAM1'), ('17903293', u'Interleukin-6', u'IL6'), ('17903293', u'Urinary isoprostanes/creatinine', u'IsoCrUrine'), ('17903293', u'Monocyte chemoattractant protein-1', u'MCP1'), ('17903293', u'Myeloperoxidase', u'MPO'), ('17903293', u'Osteoprotegerin', u'OPG'), ('17903293', u'P-selectin', u'Pselectin'), ('17903293', u'Tumor necrosis factor alpha', u'TNFA')]\n",
      "Applying LFs...\n",
      "Featurizing...\n",
      "[('17903292', u'Glomerular Filtration Rate', u'GFR'), ('17903292', u'Glomerular Filtration Rate', u'GFR'), ('17903292', u'Thyroid stimulation hormone', u'TSH'), ('17903292', u'Thyroid stimulation hormone', u'TSH'), ('17903292', u'Dehydroepiandrosterone sulfate', u'DHEAS'), ('17903292', u'Physical Location', u'Mb'), ('17903292', u'Physical Location', u'Mb'), ('17903292', u'Physical Location', u'Mb'), ('17903292', u'Physical Location', u'Mb'), ('17903292', u'Physical location', u'Mb')]\n"
     ]
    }
   ],
   "source": [
    "table_preds = learner.predict_wmv(candidates)\n",
    "table_acronyms = [spair2uid(c) for (c, p) in zip(candidates, preds) if p == 1]\n",
    "print table_acronyms[:10]\n",
    "\n",
    "text_preds = text_learner.predict_wmv(text_c)\n",
    "text_acronyms = [spairtxt2uid(c) for (c, p) in zip(text_c, text_preds) if p == 1]\n",
    "print text_acronyms[:10]\n",
    "\n",
    "acronyms = table_acronyms + text_acronyms"
   ]
  },
  {
   "cell_type": "code",
   "execution_count": 449,
   "metadata": {
    "collapsed": false
   },
   "outputs": [],
   "source": [
    "# store relations to annotate\n",
    "with open('acronyms.extracted.tsv', 'w') as f:\n",
    "    for doc_id, str1, str2 in acronyms:\n",
    "        try:\n",
    "            out = u'{}\\t{}\\t{}\\n'.format(doc_id, unicode(str1), str2)\n",
    "            f.write(out.encode(\"UTF-8\"))\n",
    "        except:\n",
    "            print 'ERROR:', str1, str2"
   ]
  },
  {
   "cell_type": "code",
   "execution_count": null,
   "metadata": {
    "collapsed": true
   },
   "outputs": [],
   "source": []
  }
 ],
 "metadata": {
  "kernelspec": {
   "display_name": "Python 2",
   "language": "python",
   "name": "python2"
  },
  "language_info": {
   "codemirror_mode": {
    "name": "ipython",
    "version": 2
   },
   "file_extension": ".py",
   "mimetype": "text/x-python",
   "name": "python",
   "nbconvert_exporter": "python",
   "pygments_lexer": "ipython2",
   "version": "2.7.2"
  }
 },
 "nbformat": 4,
 "nbformat_minor": 0
}
