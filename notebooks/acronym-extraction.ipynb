{
 "cells": [
  {
   "cell_type": "markdown",
   "metadata": {},
   "source": [
    "# Phenotype acronym extraction"
   ]
  },
  {
   "cell_type": "code",
   "execution_count": 10,
   "metadata": {
    "collapsed": false
   },
   "outputs": [
    {
     "name": "stdout",
     "output_type": "stream",
     "text": [
      "The autoreload extension is already loaded. To reload it, use:\n",
      "  %reload_ext autoreload\n"
     ]
    }
   ],
   "source": [
    "%load_ext autoreload\n",
    "%autoreload 2\n",
    "\n",
    "import sys\n",
    "import cPickle\n",
    "import numpy as np\n",
    "\n",
    "# import snorkel and gwasdb\n",
    "sys.path.append('../snorkel')\n",
    "sys.path.append('../src')\n",
    "sys.path.append('../src/crawler')\n",
    "\n",
    "# set up paths\n",
    "abstract_dir = '../data/db/papers'\n",
    "\n",
    "# set up matplotlib\n",
    "import matplotlib\n",
    "%matplotlib inline\n",
    "matplotlib.rcParams['figure.figsize'] = (12,4)"
   ]
  },
  {
   "cell_type": "markdown",
   "metadata": {},
   "source": [
    "## Load corpus"
   ]
  },
  {
   "cell_type": "code",
   "execution_count": 11,
   "metadata": {
    "collapsed": false
   },
   "outputs": [],
   "source": [
    "from snorkel.parser import XMLDocParser\n",
    "from extractor.parser import UnicodeXMLTableDocParser\n",
    "\n",
    "xml_parser = UnicodeXMLTableDocParser(\n",
    "    path=abstract_dir,\n",
    "    doc='./*',\n",
    "    text='.//table',\n",
    "    id='.//article-id[@pub-id-type=\"pmid\"]/text()',\n",
    "    keep_xml_tree=True)"
   ]
  },
  {
   "cell_type": "code",
   "execution_count": 12,
   "metadata": {
    "collapsed": false
   },
   "outputs": [
    {
     "name": "stdout",
     "output_type": "stream",
     "text": [
      "CPU times: user 54.8 s, sys: 3.22 s, total: 58 s\n",
      "Wall time: 1min 23s\n"
     ]
    }
   ],
   "source": [
    "from snorkel.parser import CorpusParser, OmniParser\n",
    "import cPickle\n",
    "\n",
    "table_parser = OmniParser()\n",
    "\n",
    "corpus_name = 'gwas-table-corpus.pkl'\n",
    "try:\n",
    "    with open(corpus_name,\"r\") as pkl:\n",
    "        corpus = cPickle.load(pkl)\n",
    "except:\n",
    "    cp = CorpusParser(xml_parser, table_parser, max_docs=15)\n",
    "    %time corpus = cp.parse_corpus(name='GWAS Corpus')\n",
    "    # pickling currently doesn't work...\n",
    "#     with open(corpus_name,\"w\") as pkl:\n",
    "#         corpus = cPickle.dump(corpus, pkl)"
   ]
  },
  {
   "cell_type": "markdown",
   "metadata": {},
   "source": [
    "## Candidate extraction"
   ]
  },
  {
   "cell_type": "markdown",
   "metadata": {
    "collapsed": true
   },
   "source": [
    "### From tables"
   ]
  },
  {
   "cell_type": "code",
   "execution_count": 13,
   "metadata": {
    "collapsed": false
   },
   "outputs": [],
   "source": [
    "from snorkel.matchers import DictionaryMatch, Union, CellNameMatcher, CellDictNameMatcher\n",
    "from snorkel.candidates import EntityExtractor\n",
    "from snorkel.candidates import TableNgrams, CellSpace\n",
    "\n",
    "# Define a candidate space\n",
    "cells = CellSpace()\n",
    "\n",
    "# Create a list of possible words that could denote phenotypes\n",
    "acro_words = ['abbreviation', 'acronym']\n",
    "phen_words = ['trait', 'phenotype']\n",
    "\n",
    "# Define matchers\n",
    "phen_matcher = CellDictNameMatcher(axis='col', d=phen_words, n_max=3, ignore_case=True)\n",
    "acro_matcher = CellDictNameMatcher(axis='col', d=acro_words, n_max=3, ignore_case=True)\n",
    "\n",
    "phen_extractor = EntityExtractor(cells, phen_matcher)\n",
    "acro_extractor = EntityExtractor(cells, acro_matcher)"
   ]
  },
  {
   "cell_type": "code",
   "execution_count": 14,
   "metadata": {
    "collapsed": false
   },
   "outputs": [],
   "source": [
    "from snorkel.candidates import AlignedTableRelationExtractor\n",
    "relation_extractor = AlignedTableRelationExtractor(acro_extractor, phen_extractor, axis='row', induced=True)\n",
    "tables = corpus.get_tables()"
   ]
  },
  {
   "cell_type": "code",
   "execution_count": 15,
   "metadata": {
    "collapsed": false
   },
   "outputs": [
    {
     "name": "stdout",
     "output_type": "stream",
     "text": [
      "CPU times: user 34.1 s, sys: 357 ms, total: 34.5 s\n",
      "Wall time: 34.6 s\n",
      "86 relations extracted, e.g.\n",
      "SpanPair(Span(\"CD40L\", context=None, chars=[0,4], words=[0,0]), Span(\"CD40 Ligand, serum & plasma\", context=None, chars=[0,26], words=[0,5]))\n",
      "SpanPair(Span(\"CD40L\", context=None, chars=[0,4], words=[0,0]), Span(\"2\", context=None, chars=[0,0], words=[0,0]))\n",
      "SpanPair(Span(\"CRP\", context=None, chars=[0,2], words=[0,0]), Span(\"C-reactive protein\", context=None, chars=[0,17], words=[0,1]))\n",
      "SpanPair(Span(\"CRP\", context=None, chars=[0,2], words=[0,0]), Span(\"5\", context=None, chars=[0,0], words=[0,0]))\n",
      "SpanPair(Span(\"ICAM1\", context=None, chars=[0,4], words=[0,0]), Span(\"Intercellular adhesion molecule-1\", context=None, chars=[0,32], words=[0,2]))\n"
     ]
    }
   ],
   "source": [
    "%time candidates = relation_extractor.extract(tables, name='all')\n",
    "table_c = candidates\n",
    "print \"%s relations extracted, e.g.\" % len(table_c)\n",
    "for cand in table_c[:5]: \n",
    "    print cand"
   ]
  },
  {
   "cell_type": "markdown",
   "metadata": {},
   "source": [
    "### From text"
   ]
  },
  {
   "cell_type": "code",
   "execution_count": 92,
   "metadata": {
    "collapsed": false
   },
   "outputs": [
    {
     "name": "stdout",
     "output_type": "stream",
     "text": [
      "CPU times: user 864 ms, sys: 91.5 ms, total: 956 ms\n",
      "Wall time: 5.99 s\n"
     ]
    }
   ],
   "source": [
    "from snorkel.parser import SentenceParser, CorpusParser\n",
    "from extractor.parser import UnicodeXMLDocParser, GWASXMLDocParser\n",
    "\n",
    "xml_parser = GWASXMLDocParser(\n",
    "    path=abstract_dir,\n",
    "    doc='./*',\n",
    "    title='.//front//article-title//text()',\n",
    "    abstract='.//abstract//p//text()',\n",
    "    n_par=5,\n",
    "    id='.//article-id[@pub-id-type=\"pmid\"]/text()',\n",
    "    keep_xml_tree=True)\n",
    "\n",
    "sent_parser = SentenceParser()\n",
    "cp = CorpusParser(xml_parser, sent_parser, max_docs=15)\n",
    "%time text_corpus = cp.parse_corpus(name='GWAS Text Corpus')"
   ]
  },
  {
   "cell_type": "code",
   "execution_count": 180,
   "metadata": {
    "collapsed": false
   },
   "outputs": [],
   "source": [
    "from snorkel.candidates import Ngrams, CellSpace, TableNgrams\n",
    "from snorkel.matchers import RegexMatchSpan\n",
    "from snorkel.candidates import EntityExtractor, RelationExtractor, UnionExtractor\n",
    "\n",
    "# Define a candidate space\n",
    "ngrams8 = Ngrams(n_max=8)\n",
    "ngrams3 = Ngrams(n_max=3)\n",
    "cells = CellSpace()\n",
    "table_ngrams3 = TableNgrams(n_max=3)\n",
    "\n",
    "# Define matchers\n",
    "phen_matcher = RegexMatchSpan(rgx=r'.+ \\([a-zA-Z0-9_-]{1,10}[\\);]')\n",
    "acro_matcher = RegexMatchSpan(rgx=r'\\([a-zA-Z0-9_-]{1,10}[\\);]')\n",
    "\n",
    "# Extractors\n",
    "phen_txt_ngram_extractor = EntityExtractor(ngrams8, phen_matcher)\n",
    "phen_txt_cells_extractor = EntityExtractor(cells, phen_matcher)\n",
    "acro_txt_ngram_extractor = EntityExtractor(ngrams3, acro_matcher)\n",
    "acro_txt_cells_extractor = EntityExtractor(table_ngrams3, acro_matcher)\n",
    "\n",
    "# Filtering functions\n",
    "def overlap_filter_fn(span0, span1):\n",
    "    if hasattr(span0.context, 'cell') and hasattr(span1.context, 'cell'):\n",
    "        if span0.context.cell != span1.context.cell: return False\n",
    "    if len(span1.get_span().split()) >= 15: return False\n",
    "    start0, end0 = span0.char_start, span0.char_end\n",
    "    start1, end1 = span1.char_start, span1.char_end\n",
    "    return True if start1 <= start0 <= end0 <= end1 else False\n",
    "\n",
    "# Relation extractor\n",
    "txt_tab_ngram_extractor = RelationExtractor(acro_txt_ngram_extractor, phen_txt_ngram_extractor, filter_fn=overlap_filter_fn)\n",
    "txt_tab_cells_extractor = RelationExtractor(acro_txt_cells_extractor, phen_txt_cells_extractor, filter_fn=overlap_filter_fn)"
   ]
  },
  {
   "cell_type": "markdown",
   "metadata": {},
   "source": [
    "Extract acroynms from tables"
   ]
  },
  {
   "cell_type": "code",
   "execution_count": 181,
   "metadata": {
    "collapsed": false
   },
   "outputs": [
    {
     "name": "stdout",
     "output_type": "stream",
     "text": [
      "CPU times: user 753 ms, sys: 61.2 ms, total: 814 ms\n",
      "Wall time: 781 ms\n",
      "299 candidates extracted from text in tables\n"
     ]
    }
   ],
   "source": [
    "%time txt_tab_c = txt_tab_ngram_extractor.extract(corpus.get_phrases(), name='all')\n",
    "print len(txt_tab_c), 'candidates extracted from text in tables'"
   ]
  },
  {
   "cell_type": "markdown",
   "metadata": {},
   "source": [
    "Extract acronyms from full table cells"
   ]
  },
  {
   "cell_type": "code",
   "execution_count": 182,
   "metadata": {
    "collapsed": false
   },
   "outputs": [
    {
     "name": "stdout",
     "output_type": "stream",
     "text": [
      "CPU times: user 1.1 s, sys: 24.6 ms, total: 1.12 s\n",
      "Wall time: 1.12 s\n",
      "105 candidates extracted from text in full table cells\n"
     ]
    }
   ],
   "source": [
    "%time txt_cel_c = txt_tab_cells_extractor.extract(corpus.get_tables(), name='all')\n",
    "print len(txt_cel_c), 'candidates extracted from text in full table cells'"
   ]
  },
  {
   "cell_type": "markdown",
   "metadata": {},
   "source": [
    "Extract acroynms from abstracts"
   ]
  },
  {
   "cell_type": "code",
   "execution_count": 183,
   "metadata": {
    "collapsed": false
   },
   "outputs": [
    {
     "name": "stdout",
     "output_type": "stream",
     "text": [
      "CPU times: user 1.64 s, sys: 59.7 ms, total: 1.7 s\n",
      "Wall time: 1.71 s\n",
      "884 candidates extracted from text in abstracts\n"
     ]
    }
   ],
   "source": [
    "%time txt_txt_c = txt_tab_ngram_extractor.extract(text_corpus.get_sentences(), name='all')\n",
    "print len(txt_txt_c), 'candidates extracted from text in abstracts'"
   ]
  },
  {
   "cell_type": "markdown",
   "metadata": {
    "collapsed": true
   },
   "source": [
    "## Learning the correctness of relations"
   ]
  },
  {
   "cell_type": "code",
   "execution_count": 184,
   "metadata": {
    "collapsed": false
   },
   "outputs": [
    {
     "name": "stdout",
     "output_type": "stream",
     "text": [
      "1288\n"
     ]
    }
   ],
   "source": [
    "from snorkel.candidates import UnionExtractor\n",
    "\n",
    "contexts = [corpus.get_tables(), corpus.get_phrases(), text_corpus.get_sentences()]\n",
    "extractors = [txt_tab_cells_extractor, txt_tab_ngram_extractor, txt_tab_ngram_extractor]\n",
    "joint_extractor = UnionExtractor(extractor_list=extractors, context_list=contexts)\n",
    "all_c = joint_extractor.union()\n",
    "print len(all_c)"
   ]
  },
  {
   "cell_type": "markdown",
   "metadata": {},
   "source": [
    "### Creating a gold set"
   ]
  },
  {
   "cell_type": "markdown",
   "metadata": {},
   "source": [
    "To create a gold set, we save all extracted relations into a csv file. We annotate it manually, and save the result to a second file. It contains pairs of phenotype and rsid strings; if that file exists, we take these as gold truth."
   ]
  },
  {
   "cell_type": "code",
   "execution_count": 456,
   "metadata": {
    "collapsed": false
   },
   "outputs": [
    {
     "name": "stdout",
     "output_type": "stream",
     "text": [
      "Physical Position (bp)†\n",
      "Physical Position (bp)\n",
      "('17903294', u'Physical Position (bp)', u'(bp)') 0\n",
      "\n",
      "Physical Position (bp)†\n",
      "Physical Position (bp)\n",
      "('17903294', u'Physical Position (bp)', u'(bp)') 0\n",
      "\n",
      "GEE p-val (Rank)††\n",
      "GEE p-val (Rank)\n",
      "('17903294', u'GEE p-val (Rank)', u'(Rank)') 0\n",
      "\n",
      "Physical Position (bp)†\n",
      "Physical Position (bp)\n",
      "('17903294', u'Physical Position (bp)', u'(bp)') 0\n",
      "\n",
      "Physical Position (bp)†\n",
      "Physical Position (bp)\n",
      "('17903294', u'Physical Position (bp)', u'(bp)') 0\n",
      "\n",
      "GEE Pval (Rank)††\n",
      "GEE Pval (Rank)\n",
      "('17903294', u'GEE Pval (Rank)', u'(Rank)') 0\n",
      "\n",
      "Physical Position (bp)†\n",
      "Physical Position (bp)\n",
      "('17903294', u'Physical Position (bp)', u'(bp)') 0\n",
      "\n",
      "Physical Position (bp)†\n",
      "Physical Position (bp)\n",
      "('17903294', u'Physical Position (bp)', u'(bp)') 0\n",
      "\n",
      "Total Cerebral Brain Volume (ATCBV)\n",
      "Total Cerebral Brain Volume (ATCBV)\n",
      "('17903297', u'Total Cerebral Brain Volume (ATCBV)', u'(ATCBV)') 1\n",
      "\n",
      "Factor 1:Verbal Memory (F1)\n",
      "Factor 1:Verbal Memory (F1)\n",
      "('17903297', u'Factor 1:Verbal Memory (F1)', u'(F1)') 1\n",
      "\n",
      "Factor 1:Verbal Memory (F1)\n",
      "Factor 1:Verbal Memory (F1)\n",
      "('17903297', u'Factor 1:Verbal Memory (F1)', u'(F1)') 1\n",
      "\n",
      "Factor 2:Visual Memory and Organization (F2)\n",
      "Factor 2:Visual Memory and Organization (F2)\n",
      "('17903297', u'Factor 2:Visual Memory and Organization (F2)', u'(F2)') 1\n",
      "\n",
      "Factor 2:Visual Memory and Organization (F2)\n",
      "Factor 2:Visual Memory and Organization (F2)\n",
      "('17903297', u'Factor 2:Visual Memory and Organization (F2)', u'(F2)') 1\n",
      "\n",
      "Factor 3: Measure of attention and executive function-Trails A and B (F3)\n",
      "Factor 3: Measure of attention and executive function-Trails A and B (F3)\n",
      "('17903297', u'Factor 3: Measure of attention and executive function-Trails A and B (F3)', u'(F3)') 1\n",
      "\n",
      "Factor 3: Measure of attention and executive function-Trails A and B (F3)\n",
      "Factor 3: Measure of attention and executive function-Trails A and B (F3)\n",
      "('17903297', u'Factor 3: Measure of attention and executive function-Trails A and B (F3)', u'(F3)') 1\n",
      "\n",
      "28 yr time averaged FPG (tFPG)\n",
      "28 yr time averaged FPG (tFPG)\n",
      "('17903298', u'28 yr time averaged FPG (tFPG)', u'(tFPG)') 1\n",
      "\n",
      "Stage 2 Exercise systolic blood pressure (SBP)\n",
      "Stage 2 Exercise systolic blood pressure (SBP)\n",
      "('17903301', u'Stage 2 Exercise systolic blood pressure (SBP)', u'(SBP)') 1\n",
      "\n",
      "Stage 2 Exercise systolic blood pressure (SBP)\n",
      "Stage 2 Exercise systolic blood pressure (SBP)\n",
      "('17903301', u'Stage 2 Exercise systolic blood pressure (SBP)', u'(SBP)') 1\n",
      "\n",
      "Stage 2 Exercise diastolic blood pressure (DBP)\n",
      "Stage 2 Exercise diastolic blood pressure (DBP)\n",
      "('17903301', u'Stage 2 Exercise diastolic blood pressure (DBP)', u'(DBP)') 1\n",
      "\n",
      "Stage 2 Exercise diastolic blood pressure (DBP)\n",
      "Stage 2 Exercise diastolic blood pressure (DBP)\n",
      "('17903301', u'Stage 2 Exercise diastolic blood pressure (DBP)', u'(DBP)') 1\n",
      "\n",
      "2a.Top 25 SNPs for association with GFR (examination 7), UAE (examination 6), cysC (examination 7), and mean TSH (examinations 3 and 4) based on the lowest p value of the GEE test. Corresponding phenotype names on the web are GFRMV7 (GFR), UAELNMV6 (UAE), CYSCMV7 (CysC), and TSHMEAN34MV (TSH)\n",
      "(GFR), UAELNMV6 (UAE)\n",
      "('17903292', u'(GFR), UAELNMV6 (UAE)', u'(GFR)') 0\n",
      "\n",
      "2a.Top 25 SNPs for association with GFR (examination 7), UAE (examination 6), cysC (examination 7), and mean TSH (examinations 3 and 4) based on the lowest p value of the GEE test. Corresponding phenotype names on the web are GFRMV7 (GFR), UAELNMV6 (UAE), CYSCMV7 (CysC), and TSHMEAN34MV (TSH)\n",
      "(GFR), UAELNMV6 (UAE)\n",
      "('17903292', u'(GFR), UAELNMV6 (UAE)', u'(UAE)') 0\n",
      "\n",
      "2a.Top 25 SNPs for association with GFR (examination 7), UAE (examination 6), cysC (examination 7), and mean TSH (examinations 3 and 4) based on the lowest p value of the GEE test. Corresponding phenotype names on the web are GFRMV7 (GFR), UAELNMV6 (UAE), CYSCMV7 (CysC), and TSHMEAN34MV (TSH)\n",
      "CysC), and TSHMEAN34MV (TSH)\n",
      "('17903292', u'CysC), and TSHMEAN34MV (TSH)', u'(TSH)') 0\n",
      "\n",
      "2a.Top 25 SNPs for association with GFR (examination 7), UAE (examination 6), cysC (examination 7), and mean TSH (examinations 3 and 4) based on the lowest p value of the GEE test. Corresponding phenotype names on the web are GFRMV7 (GFR), UAELNMV6 (UAE), CYSCMV7 (CysC), and TSHMEAN34MV (TSH)\n",
      ", and TSHMEAN34MV (TSH)\n",
      "('17903292', u', and TSHMEAN34MV (TSH)', u'(TSH)') 0\n",
      "\n",
      "2a.Top 25 SNPs for association with GFR (examination 7), UAE (examination 6), cysC (examination 7), and mean TSH (examinations 3 and 4) based on the lowest p value of the GEE test. Corresponding phenotype names on the web are GFRMV7 (GFR), UAELNMV6 (UAE), CYSCMV7 (CysC), and TSHMEAN34MV (TSH)\n",
      ", and TSHMEAN34MV (TSH)\n",
      "('17903292', u', and TSHMEAN34MV (TSH)', u'(TSH)') 0\n",
      "\n",
      "2a.Top 25 SNPs for association with GFR (examination 7), UAE (examination 6), cysC (examination 7), and mean TSH (examinations 3 and 4) based on the lowest p value of the GEE test. Corresponding phenotype names on the web are GFRMV7 (GFR), UAELNMV6 (UAE), CYSCMV7 (CysC), and TSHMEAN34MV (TSH)\n",
      "GFR), UAELNMV6 (UAE)\n",
      "('17903292', u'GFR), UAELNMV6 (UAE)', u'(UAE)') 0\n",
      "\n",
      "2a.Top 25 SNPs for association with GFR (examination 7), UAE (examination 6), cysC (examination 7), and mean TSH (examinations 3 and 4) based on the lowest p value of the GEE test. Corresponding phenotype names on the web are GFRMV7 (GFR), UAELNMV6 (UAE), CYSCMV7 (CysC), and TSHMEAN34MV (TSH)\n",
      "), and TSHMEAN34MV (TSH)\n",
      "('17903292', u'), and TSHMEAN34MV (TSH)', u'(TSH)') 0\n",
      "\n",
      "2a.Top 25 SNPs for association with GFR (examination 7), UAE (examination 6), cysC (examination 7), and mean TSH (examinations 3 and 4) based on the lowest p value of the GEE test. Corresponding phenotype names on the web are GFRMV7 (GFR), UAELNMV6 (UAE), CYSCMV7 (CysC), and TSHMEAN34MV (TSH)\n",
      "), UAELNMV6 (UAE)\n",
      "('17903292', u'), UAELNMV6 (UAE)', u'(UAE)') 0\n",
      "\n",
      "2a.Top 25 SNPs for association with GFR (examination 7), UAE (examination 6), cysC (examination 7), and mean TSH (examinations 3 and 4) based on the lowest p value of the GEE test. Corresponding phenotype names on the web are GFRMV7 (GFR), UAELNMV6 (UAE), CYSCMV7 (CysC), and TSHMEAN34MV (TSH)\n",
      ", and TSHMEAN34MV (TSH)\n",
      "('17903292', u', and TSHMEAN34MV (TSH)', u'(TSH)') 0\n",
      "\n",
      "2a.Top 25 SNPs for association with GFR (examination 7), UAE (examination 6), cysC (examination 7), and mean TSH (examinations 3 and 4) based on the lowest p value of the GEE test. Corresponding phenotype names on the web are GFRMV7 (GFR), UAELNMV6 (UAE), CYSCMV7 (CysC), and TSHMEAN34MV (TSH)\n",
      ", UAELNMV6 (UAE)\n",
      "('17903292', u', UAELNMV6 (UAE)', u'(UAE)') 0\n",
      "\n",
      "2b.Top 25 SNPs for association with GFR (examination 7), UAE (examination 6), cysC (examination 7), and mean TSH (examinations 3 and 4) based on the lowest p-value of the FBAT test. Corresponding phenotype names on the web are GFRMV7 (GFR), UAELNMV6 (UAE), CYSCMV7 (CysC), and TSHMEAN34MV (TSH)\n",
      "(GFR), UAELNMV6 (UAE)\n",
      "('17903292', u'(GFR), UAELNMV6 (UAE)', u'(GFR)') 0\n",
      "\n",
      "2b.Top 25 SNPs for association with GFR (examination 7), UAE (examination 6), cysC (examination 7), and mean TSH (examinations 3 and 4) based on the lowest p-value of the FBAT test. Corresponding phenotype names on the web are GFRMV7 (GFR), UAELNMV6 (UAE), CYSCMV7 (CysC), and TSHMEAN34MV (TSH)\n",
      "(GFR), UAELNMV6 (UAE)\n",
      "('17903292', u'(GFR), UAELNMV6 (UAE)', u'(UAE)') 0\n",
      "\n",
      "2b.Top 25 SNPs for association with GFR (examination 7), UAE (examination 6), cysC (examination 7), and mean TSH (examinations 3 and 4) based on the lowest p-value of the FBAT test. Corresponding phenotype names on the web are GFRMV7 (GFR), UAELNMV6 (UAE), CYSCMV7 (CysC), and TSHMEAN34MV (TSH)\n",
      "CysC), and TSHMEAN34MV (TSH)\n",
      "('17903292', u'CysC), and TSHMEAN34MV (TSH)', u'(TSH)') 0\n",
      "\n",
      "2b.Top 25 SNPs for association with GFR (examination 7), UAE (examination 6), cysC (examination 7), and mean TSH (examinations 3 and 4) based on the lowest p-value of the FBAT test. Corresponding phenotype names on the web are GFRMV7 (GFR), UAELNMV6 (UAE), CYSCMV7 (CysC), and TSHMEAN34MV (TSH)\n",
      ", and TSHMEAN34MV (TSH)\n",
      "('17903292', u', and TSHMEAN34MV (TSH)', u'(TSH)') 0\n",
      "\n",
      "2b.Top 25 SNPs for association with GFR (examination 7), UAE (examination 6), cysC (examination 7), and mean TSH (examinations 3 and 4) based on the lowest p-value of the FBAT test. Corresponding phenotype names on the web are GFRMV7 (GFR), UAELNMV6 (UAE), CYSCMV7 (CysC), and TSHMEAN34MV (TSH)\n",
      ", and TSHMEAN34MV (TSH)\n",
      "('17903292', u', and TSHMEAN34MV (TSH)', u'(TSH)') 0\n",
      "\n",
      "2b.Top 25 SNPs for association with GFR (examination 7), UAE (examination 6), cysC (examination 7), and mean TSH (examinations 3 and 4) based on the lowest p-value of the FBAT test. Corresponding phenotype names on the web are GFRMV7 (GFR), UAELNMV6 (UAE), CYSCMV7 (CysC), and TSHMEAN34MV (TSH)\n",
      "GFR), UAELNMV6 (UAE)\n",
      "('17903292', u'GFR), UAELNMV6 (UAE)', u'(UAE)') 0\n",
      "\n",
      "2b.Top 25 SNPs for association with GFR (examination 7), UAE (examination 6), cysC (examination 7), and mean TSH (examinations 3 and 4) based on the lowest p-value of the FBAT test. Corresponding phenotype names on the web are GFRMV7 (GFR), UAELNMV6 (UAE), CYSCMV7 (CysC), and TSHMEAN34MV (TSH)\n",
      "), and TSHMEAN34MV (TSH)\n",
      "('17903292', u'), and TSHMEAN34MV (TSH)', u'(TSH)') 0\n",
      "\n",
      "2b.Top 25 SNPs for association with GFR (examination 7), UAE (examination 6), cysC (examination 7), and mean TSH (examinations 3 and 4) based on the lowest p-value of the FBAT test. Corresponding phenotype names on the web are GFRMV7 (GFR), UAELNMV6 (UAE), CYSCMV7 (CysC), and TSHMEAN34MV (TSH)\n",
      "), UAELNMV6 (UAE)\n",
      "('17903292', u'), UAELNMV6 (UAE)', u'(UAE)') 0\n",
      "\n",
      "2b.Top 25 SNPs for association with GFR (examination 7), UAE (examination 6), cysC (examination 7), and mean TSH (examinations 3 and 4) based on the lowest p-value of the FBAT test. Corresponding phenotype names on the web are GFRMV7 (GFR), UAELNMV6 (UAE), CYSCMV7 (CysC), and TSHMEAN34MV (TSH)\n",
      ", and TSHMEAN34MV (TSH)\n",
      "('17903292', u', and TSHMEAN34MV (TSH)', u'(TSH)') 0\n",
      "\n",
      "2b.Top 25 SNPs for association with GFR (examination 7), UAE (examination 6), cysC (examination 7), and mean TSH (examinations 3 and 4) based on the lowest p-value of the FBAT test. Corresponding phenotype names on the web are GFRMV7 (GFR), UAELNMV6 (UAE), CYSCMV7 (CysC), and TSHMEAN34MV (TSH)\n",
      ", UAELNMV6 (UAE)\n",
      "('17903292', u', UAELNMV6 (UAE)', u'(UAE)') 0\n",
      "\n",
      "Physical Position (bp)†\n",
      "Physical Position (bp)\n",
      "('17903294', u'Physical Position (bp)', u'(bp)') 0\n",
      "\n",
      "Physical Position (bp)†\n",
      "Physical Position (bp)\n",
      "('17903294', u'Physical Position (bp)', u'(bp)') 0\n",
      "\n",
      "Physical Position (bp)†\n",
      "Position (bp)\n",
      "('17903294', u'Position (bp)', u'(bp)') 0\n",
      "\n",
      "Physical Position (bp)†\n",
      "Position (bp)\n",
      "('17903294', u'Position (bp)', u'(bp)') 0\n",
      "\n",
      "Physical Position (bp)†\n",
      "Physical Position (bp)\n",
      "('17903294', u'Physical Position (bp)', u'(bp)') 0\n",
      "\n",
      "Physical Position (bp)†\n",
      "Position (bp)\n",
      "('17903294', u'Position (bp)', u'(bp)') 0\n",
      "\n",
      "GEE p-val (Rank)††\n",
      "GEE p-val (Rank)\n",
      "('17903294', u'GEE p-val (Rank)', u'(Rank)') 0\n",
      "\n",
      "GEE p-val (Rank)††\n",
      "p-val (Rank)\n",
      "('17903294', u'p-val (Rank)', u'(Rank)') 0\n",
      "\n",
      "Physical Position (bp)†\n",
      "Physical Position (bp)\n",
      "('17903294', u'Physical Position (bp)', u'(bp)') 0\n",
      "\n",
      "Physical Position (bp)†\n",
      "Physical Position (bp)\n",
      "('17903294', u'Physical Position (bp)', u'(bp)') 0\n",
      "\n",
      "Physical Position (bp)†\n",
      "Position (bp)\n",
      "('17903294', u'Position (bp)', u'(bp)') 0\n",
      "\n",
      "Physical Position (bp)†\n",
      "Position (bp)\n",
      "('17903294', u'Position (bp)', u'(bp)') 0\n",
      "\n",
      "Physical Position (bp)†\n",
      "Physical Position (bp)\n",
      "('17903294', u'Physical Position (bp)', u'(bp)') 0\n",
      "\n",
      "Physical Position (bp)†\n",
      "Position (bp)\n",
      "('17903294', u'Position (bp)', u'(bp)') 0\n",
      "\n",
      "GEE Pval (Rank)††\n",
      "GEE Pval (Rank)\n",
      "('17903294', u'GEE Pval (Rank)', u'(Rank)') 0\n",
      "\n",
      "GEE Pval (Rank)††\n",
      "Pval (Rank)\n",
      "('17903294', u'Pval (Rank)', u'(Rank)') 0\n",
      "\n",
      "Physical Position (bp)†\n",
      "Physical Position (bp)\n",
      "('17903294', u'Physical Position (bp)', u'(bp)') 0\n",
      "\n",
      "Physical Position (bp)†\n",
      "Physical Position (bp)\n",
      "('17903294', u'Physical Position (bp)', u'(bp)') 0\n",
      "\n",
      "Physical Position (bp)†\n",
      "Position (bp)\n",
      "('17903294', u'Position (bp)', u'(bp)') 0\n",
      "\n",
      "Physical Position (bp)†\n",
      "Position (bp)\n",
      "('17903294', u'Position (bp)', u'(bp)') 0\n",
      "\n",
      "Physical Position (bp)†\n",
      "Physical Position (bp)\n",
      "('17903294', u'Physical Position (bp)', u'(bp)') 0\n",
      "\n",
      "Physical Position (bp)†\n",
      "Position (bp)\n",
      "('17903294', u'Position (bp)', u'(bp)') 0\n",
      "\n",
      "Factor 1:Verbal Memory (F1)\n",
      "Factor 1:Verbal Memory (F1)\n",
      "('17903297', u'Factor 1:Verbal Memory (F1)', u'(F1)') 1\n",
      "\n",
      "Factor 1:Verbal Memory (F1)\n",
      ":Verbal Memory (F1)\n",
      "('17903297', u':Verbal Memory (F1)', u'(F1)') 0\n",
      "\n",
      "Factor 1:Verbal Memory (F1)\n",
      ":Verbal Memory (F1)\n",
      "('17903297', u':Verbal Memory (F1)', u'(F1)') 0\n",
      "\n",
      "Factor 1:Verbal Memory (F1)\n",
      "1:Verbal Memory (F1)\n",
      "('17903297', u'1:Verbal Memory (F1)', u'(F1)') 0\n",
      "\n",
      "Factor 1:Verbal Memory (F1)\n",
      "Verbal Memory (F1)\n",
      "('17903297', u'Verbal Memory (F1)', u'(F1)') 0\n",
      "\n",
      "Factor 1:Verbal Memory (F1)\n",
      "Verbal Memory (F1)\n",
      "('17903297', u'Verbal Memory (F1)', u'(F1)') 0\n",
      "\n",
      "Factor 1:Verbal Memory (F1)\n",
      ":Verbal Memory (F1)\n",
      "('17903297', u':Verbal Memory (F1)', u'(F1)') 0\n",
      "\n",
      "Factor 1:Verbal Memory (F1)\n",
      "Memory (F1)\n",
      "('17903297', u'Memory (F1)', u'(F1)') 0\n",
      "\n",
      "Factor 1:Verbal Memory (F1)\n",
      "Memory (F1)\n",
      "('17903297', u'Memory (F1)', u'(F1)') 0\n",
      "\n",
      "Factor 1:Verbal Memory (F1)\n",
      "Verbal Memory (F1)\n",
      "('17903297', u'Verbal Memory (F1)', u'(F1)') 0\n",
      "\n",
      "Factor 1:Verbal Memory (F1)\n",
      "Memory (F1)\n",
      "('17903297', u'Memory (F1)', u'(F1)') 0\n",
      "\n",
      "Factor 2:Visual Memory and Organization (F2)\n",
      ":Visual Memory and Organization (F2)\n",
      "('17903297', u':Visual Memory and Organization (F2)', u'(F2)') 0\n",
      "\n",
      "Factor 2:Visual Memory and Organization (F2)\n",
      "Memory and Organization (F2)\n",
      "('17903297', u'Memory and Organization (F2)', u'(F2)') 0\n",
      "\n",
      "Factor 2:Visual Memory and Organization (F2)\n",
      "Memory and Organization (F2)\n",
      "('17903297', u'Memory and Organization (F2)', u'(F2)') 0\n",
      "\n",
      "Factor 2:Visual Memory and Organization (F2)\n",
      "Visual Memory and Organization (F2)\n",
      "('17903297', u'Visual Memory and Organization (F2)', u'(F2)') 0\n",
      "\n",
      "Factor 2:Visual Memory and Organization (F2)\n",
      "and Organization (F2)\n",
      "('17903297', u'and Organization (F2)', u'(F2)') 0\n",
      "\n",
      "Factor 2:Visual Memory and Organization (F2)\n",
      "and Organization (F2)\n",
      "('17903297', u'and Organization (F2)', u'(F2)') 0\n",
      "\n",
      "Factor 2:Visual Memory and Organization (F2)\n",
      "Memory and Organization (F2)\n",
      "('17903297', u'Memory and Organization (F2)', u'(F2)') 0\n",
      "\n",
      "Factor 2:Visual Memory and Organization (F2)\n",
      "Organization (F2)\n",
      "('17903297', u'Organization (F2)', u'(F2)') 0\n",
      "\n",
      "Factor 2:Visual Memory and Organization (F2)\n",
      "Organization (F2)\n",
      "('17903297', u'Organization (F2)', u'(F2)') 0\n",
      "\n",
      "Factor 2:Visual Memory and Organization (F2)\n",
      "and Organization (F2)\n",
      "('17903297', u'and Organization (F2)', u'(F2)') 0\n",
      "\n",
      "Factor 2:Visual Memory and Organization (F2)\n",
      "Organization (F2)\n",
      "('17903297', u'Organization (F2)', u'(F2)') 0\n",
      "\n",
      "Factor 3: Measure of attention and executive function-Trails A and B (F3)\n",
      "executive function-Trails A and B (F3)\n",
      "('17903297', u'executive function-Trails A and B (F3)', u'(F3)') 0\n",
      "\n",
      "Factor 3: Measure of attention and executive function-Trails A and B (F3)\n",
      "A and B (F3)\n",
      "('17903297', u'A and B (F3)', u'(F3)') 0\n",
      "\n",
      "Factor 3: Measure of attention and executive function-Trails A and B (F3)\n",
      "A and B (F3)\n",
      "('17903297', u'A and B (F3)', u'(F3)') 0\n",
      "\n",
      "Factor 3: Measure of attention and executive function-Trails A and B (F3)\n",
      "function-Trails A and B (F3)\n",
      "('17903297', u'function-Trails A and B (F3)', u'(F3)') 0\n",
      "\n",
      "Factor 3: Measure of attention and executive function-Trails A and B (F3)\n",
      "and B (F3)\n",
      "('17903297', u'and B (F3)', u'(F3)') 0\n",
      "\n",
      "Factor 3: Measure of attention and executive function-Trails A and B (F3)\n",
      "and B (F3)\n",
      "('17903297', u'and B (F3)', u'(F3)') 0\n",
      "\n",
      "Factor 3: Measure of attention and executive function-Trails A and B (F3)\n",
      "A and B (F3)\n",
      "('17903297', u'A and B (F3)', u'(F3)') 0\n",
      "\n",
      "Factor 3: Measure of attention and executive function-Trails A and B (F3)\n",
      "B (F3)\n",
      "('17903297', u'B (F3)', u'(F3)') 0\n",
      "\n",
      "Factor 3: Measure of attention and executive function-Trails A and B (F3)\n",
      "B (F3)\n",
      "('17903297', u'B (F3)', u'(F3)') 0\n",
      "\n",
      "Factor 3: Measure of attention and executive function-Trails A and B (F3)\n",
      "and B (F3)\n",
      "('17903297', u'and B (F3)', u'(F3)') 0\n",
      "\n",
      "Factor 3: Measure of attention and executive function-Trails A and B (F3)\n",
      "B (F3)\n",
      "('17903297', u'B (F3)', u'(F3)') 0\n",
      "\n"
     ]
    }
   ],
   "source": [
    "# store relations to annotate\n",
    "with open('acronyms.unannotated.tsv', 'w') as f:\n",
    "    for span_pair in all_c:\n",
    "        doc_id = span_pair.span0.context.document.name\n",
    "        str1 = span_pair.span0.get_span()\n",
    "        str2 = span_pair.span1.get_span()\n",
    "        if (doc_id, str1, str2) not in K: \n",
    "            if hasattr(span_pair.span1.context, 'cell'):\n",
    "                print span_pair.span0.context.cell.text\n",
    "                print span_pair.span0.get_span()\n",
    "                print (doc_id, str1, str2), LF_full_cell(span_pair)\n",
    "                print \n",
    "        try:\n",
    "            f.write('%s\\t%s\\t%s\\n' % (doc_id, str2, str1))\n",
    "        except:\n",
    "            continue"
   ]
  },
  {
   "cell_type": "markdown",
   "metadata": {
    "collapsed": true
   },
   "source": [
    "We now load the results of our annotation"
   ]
  },
  {
   "cell_type": "code",
   "execution_count": 44,
   "metadata": {
    "collapsed": false
   },
   "outputs": [],
   "source": [
    "annotations = dict()\n",
    "with open('acronyms.anotated.txt') as f:\n",
    "    text = f.read()\n",
    "    for line in text.split('\\r'):\n",
    "        doc_id, str1, str2, res = line.strip().split('\\t')\n",
    "        res = 1 if int(res) == 1 else -1\n",
    "        annotations[(doc_id, str2, str1)] = res"
   ]
  },
  {
   "cell_type": "markdown",
   "metadata": {},
   "source": [
    "### Classifying table acronyms"
   ]
  },
  {
   "cell_type": "code",
   "execution_count": 185,
   "metadata": {
    "collapsed": false
   },
   "outputs": [
    {
     "name": "stdout",
     "output_type": "stream",
     "text": [
      "Building feature index...\n",
      "Extracting features...\n",
      "0/2914\n"
     ]
    }
   ],
   "source": [
    "from snorkel.features import TableNgramPairFeaturizer\n",
    "\n",
    "pkl_f = 'acro_table_feats.pkl'\n",
    "try:\n",
    "    with open(pkl_f, 'rb') as f:\n",
    "        featurizer = cPickle.load(f)\n",
    "except:\n",
    "    featurizer = TableNgramPairFeaturizer()\n",
    "    featurizer.fit_transform(candidates)"
   ]
  },
  {
   "cell_type": "code",
   "execution_count": 186,
   "metadata": {
    "collapsed": false
   },
   "outputs": [
    {
     "name": "stdout",
     "output_type": "stream",
     "text": [
      "Training set size: 44\n",
      "Gold set size: 42\n",
      "Positive labels in training set: 15\n",
      "Negative labels in training set: 0\n",
      "Positive labels in gold set: 21\n",
      "Negative labels in gold set: 21\n"
     ]
    }
   ],
   "source": [
    "def spair2uid(span_pair):\n",
    "    doc_id = span_pair.span0.context.document.name\n",
    "    str1 = span_pair.span0.get_span()\n",
    "    str2 = span_pair.span1.get_span()\n",
    "    return (doc_id, str1, str2)\n",
    "\n",
    "# Split into train and test set\n",
    "training_candidates = []\n",
    "gold_candidates     = []\n",
    "gold_labels         = []\n",
    "n_half = len(candidates)/2\n",
    "for c in candidates[:n_half]:\n",
    "    uid = spair2uid(c)\n",
    "    if uid in annotations:\n",
    "        gold_candidates.append(c)\n",
    "        gold_labels.append(annotations[uid])\n",
    "    else:\n",
    "        training_candidates.append(c)\n",
    "training_candidates.extend(candidates[n_half:])\n",
    "gold_labels = np.array(gold_labels)\n",
    "print \"Training set size: %s\" % len(training_candidates)\n",
    "print \"Gold set size: %s\" % len(gold_candidates)\n",
    "print \"Positive labels in training set: %s\" % len([c for c in training_candidates if annotations.get(spair2uid(c),0)==1])\n",
    "print \"Negative labels in training set: %s\" % len([c for c in training_candidates if annotations.get(spair2uid(c),0)==-1])\n",
    "print \"Positive labels in gold set: %s\" % len([c for c in gold_candidates if annotations[spair2uid(c)]==1])\n",
    "print \"Negative labels in gold set: %s\" % len([c for c in gold_candidates if annotations[spair2uid(c)]==-1])"
   ]
  },
  {
   "cell_type": "code",
   "execution_count": 187,
   "metadata": {
    "collapsed": true
   },
   "outputs": [],
   "source": [
    "def LF1_digits(m):\n",
    "    txt = m.span1.get_span()\n",
    "    frac_num = len([ch for ch in txt if ch.isdigit()]) / float(len(txt))\n",
    "    return -1 if frac_num > 0.5 else +1\n",
    "def LF1_short(m):\n",
    "    txt = m.span1.get_span()\n",
    "    return -1 if len(txt) < 5 else 0\n",
    "\n",
    "LF_tables = [LF1_digits, LF1_short]"
   ]
  },
  {
   "cell_type": "code",
   "execution_count": 188,
   "metadata": {
    "collapsed": false
   },
   "outputs": [
    {
     "name": "stdout",
     "output_type": "stream",
     "text": [
      "Applying LFs...\n",
      "Featurizing...\n",
      "Building feature index...\n",
      "Extracting features...\n",
      "0/1734\n",
      "============================================================\n",
      "LF Summary Statistics: 2 LFs applied to 44 candidates\n",
      "------------------------------------------------------------\n",
      "Coverage (candidates w/ > 0 labels):\t\t100.00%\n",
      "Overlap (candidates w/ > 1 labels):\t\t0.00%\n",
      "Conflict (candidates w/ conflicting labels):\t0.00%\n",
      "============================================================\n"
     ]
    }
   ],
   "source": [
    "from snorkel.snorkel import TrainingSet\n",
    "from snorkel.features import NgramFeaturizer\n",
    "\n",
    "training_set = TrainingSet(training_candidates, LF_tables, featurizer=TableNgramPairFeaturizer())"
   ]
  },
  {
   "cell_type": "code",
   "execution_count": 189,
   "metadata": {
    "collapsed": false
   },
   "outputs": [
    {
     "data": {
      "text/plain": [
       "array([[<matplotlib.axes.AxesSubplot object at 0x110251510>]], dtype=object)"
      ]
     },
     "execution_count": 189,
     "metadata": {},
     "output_type": "execute_result"
    },
    {
     "data": {
      "image/png": "[encoded data removed]",
      "text/plain": [
       "<matplotlib.figure.Figure at 0x10f59ecd0>"
      ]
     },
     "metadata": {},
     "output_type": "display_data"
    }
   ],
   "source": [
    "lf_stats = training_set.lf_stats()\n",
    "lf_stats[:5]\n",
    "lf_stats.hist(\"coverage\")"
   ]
  },
  {
   "cell_type": "code",
   "execution_count": 190,
   "metadata": {
    "collapsed": false
   },
   "outputs": [
    {
     "name": "stdout",
     "output_type": "stream",
     "text": [
      "============================================================\n",
      "Testing mu = 1.00e-05, lf_w0 = 1.00e+00\n",
      "============================================================\n",
      "Begin training for rate=0.01, mu=1e-05\n",
      "\tLearning epoch = 0\tGradient mag. = 0.050056\n",
      "\tLearning epoch = 250\tGradient mag. = 0.318965\n",
      "\tLearning epoch = 500\tGradient mag. = 0.511175\n",
      "\tLearning epoch = 750\tGradient mag. = 0.517915\n",
      "Final gradient magnitude for rate=0.01, mu=1e-05: 0.513\n",
      "Applying LFs...\n",
      "Featurizing...\n",
      "============================================================\n",
      "Testing mu = 1.00e-05, lf_w0 = 2.00e+00\n",
      "============================================================\n",
      "Begin training for rate=0.01, mu=1e-05\n",
      "\tLearning epoch = 0\tGradient mag. = 0.100112\n",
      "\tLearning epoch = 250\tGradient mag. = 0.504622\n",
      "\tLearning epoch = 500\tGradient mag. = 0.520585\n",
      "\tLearning epoch = 750\tGradient mag. = 0.516119\n",
      "Final gradient magnitude for rate=0.01, mu=1e-05: 0.512\n",
      "============================================================\n",
      "Testing mu = 1.00e-07, lf_w0 = 1.00e+00\n",
      "============================================================\n",
      "Begin training for rate=0.01, mu=1e-07\n",
      "\tLearning epoch = 0\tGradient mag. = 0.050056\n",
      "\tLearning epoch = 250\tGradient mag. = 0.319430\n",
      "\tLearning epoch = 500\tGradient mag. = 0.511343\n",
      "\tLearning epoch = 750\tGradient mag. = 0.517910\n",
      "Final gradient magnitude for rate=0.01, mu=1e-07: 0.513\n",
      "============================================================\n",
      "Testing mu = 1.00e-07, lf_w0 = 2.00e+00\n",
      "============================================================\n",
      "Begin training for rate=0.01, mu=1e-07\n",
      "\tLearning epoch = 0\tGradient mag. = 0.100112\n",
      "\tLearning epoch = 250\tGradient mag. = 0.504679\n",
      "\tLearning epoch = 500\tGradient mag. = 0.520583\n",
      "\tLearning epoch = 750\tGradient mag. = 0.516115\n",
      "Final gradient magnitude for rate=0.01, mu=1e-07: 0.512\n"
     ]
    }
   ],
   "source": [
    "from snorkel.snorkel import Learner\n",
    "import snorkel.learning\n",
    "from snorkel.learning import LogReg\n",
    "\n",
    "learner = Learner(training_set, model=LogReg())\n",
    "\n",
    "# Splitting into CV and test set\n",
    "n_half = len(gold_candidates)/2\n",
    "test_candidates = gold_candidates[:n_half]\n",
    "test_labels     = gold_labels[:n_half]\n",
    "cv_candidates   = gold_candidates[n_half:]\n",
    "cv_labels       = gold_labels[n_half:]\n",
    "\n",
    "from snorkel.learning_utils import GridSearch\n",
    "gs       = GridSearch(learner, ['mu', 'lf_w0'], [[1e-5, 1e-7],[1.0,2.0]])\n",
    "gs_stats = gs.fit(cv_candidates, cv_labels)"
   ]
  },
  {
   "cell_type": "code",
   "execution_count": 191,
   "metadata": {
    "collapsed": false
   },
   "outputs": [
    {
     "data": {
      "text/html": [
       "<div style=\"max-height:1000px;max-width:1500px;overflow:auto;\">\n",
       "<table border=\"1\" class=\"dataframe\">\n",
       "  <thead>\n",
       "    <tr style=\"text-align: right;\">\n",
       "      <th></th>\n",
       "      <th>mu</th>\n",
       "      <th>lf_w0</th>\n",
       "      <th>Prec.</th>\n",
       "      <th>Rec.</th>\n",
       "      <th>F1</th>\n",
       "    </tr>\n",
       "  </thead>\n",
       "  <tbody>\n",
       "    <tr>\n",
       "      <th>0</th>\n",
       "      <td> 0.00001</td>\n",
       "      <td> 1</td>\n",
       "      <td> 0.52381</td>\n",
       "      <td> 1</td>\n",
       "      <td> 0.6875</td>\n",
       "    </tr>\n",
       "    <tr>\n",
       "      <th>1</th>\n",
       "      <td> 0.00001</td>\n",
       "      <td> 2</td>\n",
       "      <td> 0.52381</td>\n",
       "      <td> 1</td>\n",
       "      <td> 0.6875</td>\n",
       "    </tr>\n",
       "    <tr>\n",
       "      <th>2</th>\n",
       "      <td> 0.00000</td>\n",
       "      <td> 1</td>\n",
       "      <td> 0.52381</td>\n",
       "      <td> 1</td>\n",
       "      <td> 0.6875</td>\n",
       "    </tr>\n",
       "    <tr>\n",
       "      <th>3</th>\n",
       "      <td> 0.00000</td>\n",
       "      <td> 2</td>\n",
       "      <td> 0.52381</td>\n",
       "      <td> 1</td>\n",
       "      <td> 0.6875</td>\n",
       "    </tr>\n",
       "  </tbody>\n",
       "</table>\n",
       "<p>4 rows × 5 columns</p>\n",
       "</div>"
      ],
      "text/plain": [
       "        mu  lf_w0    Prec.  Rec.      F1\n",
       "0  0.00001      1  0.52381     1  0.6875\n",
       "1  0.00001      2  0.52381     1  0.6875\n",
       "2  0.00000      1  0.52381     1  0.6875\n",
       "3  0.00000      2  0.52381     1  0.6875\n",
       "\n",
       "[4 rows x 5 columns]"
      ]
     },
     "execution_count": 191,
     "metadata": {},
     "output_type": "execute_result"
    }
   ],
   "source": [
    "gs_stats"
   ]
  },
  {
   "cell_type": "code",
   "execution_count": 192,
   "metadata": {
    "collapsed": false
   },
   "outputs": [
    {
     "name": "stdout",
     "output_type": "stream",
     "text": [
      "Applying LFs...\n",
      "Featurizing...\n",
      "========================================\n",
      "Test set size:\t21\n",
      "----------------------------------------\n",
      "Precision:\t1.0\n",
      "Recall:\t\t1.0\n",
      "F1 Score:\t1.0\n",
      "----------------------------------------\n",
      "TP: 10 | FP: 0 | TN: 11 | FN: 0\n",
      "========================================\n"
     ]
    }
   ],
   "source": [
    "learner.test_wmv(test_candidates, test_labels)"
   ]
  },
  {
   "cell_type": "code",
   "execution_count": 193,
   "metadata": {
    "collapsed": false
   },
   "outputs": [
    {
     "name": "stdout",
     "output_type": "stream",
     "text": [
      "Applying LFs...\n",
      "Featurizing...\n",
      "[('17903293', u'CD40L', u'CD40 Ligand, serum & plasma'), ('17903293', u'CRP', u'C-reactive protein'), ('17903293', u'ICAM1', u'Intercellular adhesion molecule-1'), ('17903293', u'IL6', u'Interleukin-6'), ('17903293', u'IsoCrUrine', u'Urinary isoprostanes/creatinine'), ('17903293', u'MCP1', u'Monocyte chemoattractant protein-1'), ('17903293', u'MPO', u'Myeloperoxidase'), ('17903293', u'OPG', u'Osteoprotegerin'), ('17903293', u'Pselectin', u'P-selectin'), ('17903293', u'TNFA', u'Tumor necrosis factor alpha')]\n"
     ]
    }
   ],
   "source": [
    "preds = learner.predict_wmv(candidates)\n",
    "resolved_acronyms = [spair2uid(c) for (c, p) in zip(candidates, preds) if p == 1]\n",
    "print resolved_acronyms[:10]"
   ]
  },
  {
   "cell_type": "code",
   "execution_count": 194,
   "metadata": {
    "collapsed": false
   },
   "outputs": [],
   "source": [
    "# mislabeled_cand = learner.mislabeled_test_candidates(test_candidates, test_labels)\n",
    "# for (c,p,g) in mislabeled_cand[:10]:\n",
    "#     print c.span0.context.document.name\n",
    "#     print c.span0.context    \n",
    "#     print c.span1.context\n",
    "#     print"
   ]
  },
  {
   "cell_type": "markdown",
   "metadata": {},
   "source": [
    "### Classifying sentence acronyms"
   ]
  },
  {
   "cell_type": "code",
   "execution_count": 195,
   "metadata": {
    "collapsed": false
   },
   "outputs": [
    {
     "name": "stdout",
     "output_type": "stream",
     "text": [
      "1288\n"
     ]
    }
   ],
   "source": [
    "from snorkel.candidates import UnionExtractor\n",
    "contexts = [corpus.get_tables(), corpus.get_phrases(), text_corpus.get_sentences()]\n",
    "extractors = [txt_tab_cells_extractor, txt_tab_ngram_extractor, txt_tab_ngram_extractor]\n",
    "joint_extractor = UnionExtractor(extractor_list=extractors, context_list=contexts)\n",
    "\n",
    "text_c = joint_extractor.union()\n",
    "print len(text_c)"
   ]
  },
  {
   "cell_type": "code",
   "execution_count": 196,
   "metadata": {
    "collapsed": false
   },
   "outputs": [
    {
     "name": "stdout",
     "output_type": "stream",
     "text": [
      "SpanPair(Span(\"(min-max)\", context=None, chars=[12,20], words=[2,4]), Span(\"Sample size (min-max)\", context=None, chars=[0,20], words=[0,4]))\n",
      "SpanPair(Span(\"(bp)\", context=None, chars=[18,21], words=[2,4]), Span(\"Physical Position (bp)\", context=None, chars=[0,21], words=[0,4]))\n",
      "SpanPair(Span(\"(Rank)\", context=None, chars=[10,15], words=[2,4]), Span(\"GEE p-val (Rank)\", context=None, chars=[0,15], words=[0,4]))\n",
      "SpanPair(Span(\"(bp)\", context=None, chars=[18,21], words=[2,4]), Span(\"Physical Position (bp)\", context=None, chars=[0,21], words=[0,4]))\n",
      "SpanPair(Span(\"(Rank)\", context=None, chars=[9,14], words=[2,4]), Span(\"GEE Pval (Rank)\", context=None, chars=[0,14], words=[0,4]))\n",
      "SpanPair(Span(\"(bp)\", context=None, chars=[18,21], words=[2,4]), Span(\"Physical Position (bp)\", context=None, chars=[0,21], words=[0,4]))\n",
      "SpanPair(Span(\"(min-max)\", context=None, chars=[12,20], words=[2,4]), Span(\"Sample size (min-max)\", context=None, chars=[0,20], words=[0,4]))\n",
      "SpanPair(Span(\"(min-max)\", context=None, chars=[12,20], words=[2,4]), Span(\"size (min-max)\", context=None, chars=[7,20], words=[1,4]))\n",
      "SpanPair(Span(\"(bp)\", context=None, chars=[18,21], words=[2,4]), Span(\"Physical Position (bp)\", context=None, chars=[0,21], words=[0,4]))\n",
      "SpanPair(Span(\"(bp)\", context=None, chars=[18,21], words=[2,4]), Span(\"Position (bp)\", context=None, chars=[9,21], words=[1,4]))\n",
      "SpanPair(Span(\"(Rank)\", context=None, chars=[10,15], words=[2,4]), Span(\"GEE p-val (Rank)\", context=None, chars=[0,15], words=[0,4]))\n",
      "SpanPair(Span(\"(Rank)\", context=None, chars=[10,15], words=[2,4]), Span(\"p-val (Rank)\", context=None, chars=[4,15], words=[1,4]))\n",
      "SpanPair(Span(\"(bp)\", context=None, chars=[18,21], words=[2,4]), Span(\"Physical Position (bp)\", context=None, chars=[0,21], words=[0,4]))\n",
      "SpanPair(Span(\"(bp)\", context=None, chars=[18,21], words=[2,4]), Span(\"Position (bp)\", context=None, chars=[9,21], words=[1,4]))\n",
      "SpanPair(Span(\"(Rank)\", context=None, chars=[9,14], words=[2,4]), Span(\"GEE Pval (Rank)\", context=None, chars=[0,14], words=[0,4]))\n",
      "SpanPair(Span(\"(Rank)\", context=None, chars=[9,14], words=[2,4]), Span(\"Pval (Rank)\", context=None, chars=[4,14], words=[1,4]))\n",
      "SpanPair(Span(\"(bp)\", context=None, chars=[18,21], words=[2,4]), Span(\"Physical Position (bp)\", context=None, chars=[0,21], words=[0,4]))\n",
      "SpanPair(Span(\"(bp)\", context=None, chars=[18,21], words=[2,4]), Span(\"Position (bp)\", context=None, chars=[9,21], words=[1,4]))\n",
      "SpanPair(Span(\"(bp)\", context=None, chars=[18,21], words=[2,4]), Span(\"Physical Position (bp)\", context=None, chars=[0,21], words=[0,4]))\n",
      "SpanPair(Span(\"(bp)\", context=None, chars=[18,21], words=[2,4]), Span(\"Position (bp)\", context=None, chars=[9,21], words=[1,4]))\n",
      "SpanPair(Span(\"(bp)\", context=None, chars=[18,21], words=[2,4]), Span(\"Physical Position (bp)\", context=None, chars=[0,21], words=[0,4]))\n",
      "SpanPair(Span(\"(bp)\", context=None, chars=[18,21], words=[2,4]), Span(\"Position (bp)\", context=None, chars=[9,21], words=[1,4]))\n",
      "SpanPair(Span(\"(bp)\", context=None, chars=[18,21], words=[2,4]), Span(\"Physical Position (bp)\", context=None, chars=[0,21], words=[0,4]))\n",
      "SpanPair(Span(\"(bp)\", context=None, chars=[18,21], words=[2,4]), Span(\"Position (bp)\", context=None, chars=[9,21], words=[1,4]))\n",
      "SpanPair(Span(\"(bp)\", context=None, chars=[18,21], words=[2,4]), Span(\"Physical Position (bp)\", context=None, chars=[0,21], words=[0,4]))\n",
      "SpanPair(Span(\"(bp)\", context=None, chars=[18,21], words=[2,4]), Span(\"Position (bp)\", context=None, chars=[9,21], words=[1,4]))\n",
      "SpanPair(Span(\"(CVD)\", context=None, chars=[136,140], words=[19,21]), Span(\"increased risk of cardiovascular disease (CVD)\", context=None, chars=[95,140], words=[14,21]))\n",
      "SpanPair(Span(\"(CVD)\", context=None, chars=[136,140], words=[19,21]), Span(\"risk of cardiovascular disease (CVD)\", context=None, chars=[105,140], words=[15,21]))\n",
      "SpanPair(Span(\"(CVD)\", context=None, chars=[136,140], words=[19,21]), Span(\"of cardiovascular disease (CVD)\", context=None, chars=[110,140], words=[16,21]))\n",
      "SpanPair(Span(\"(CVD)\", context=None, chars=[136,140], words=[19,21]), Span(\"cardiovascular disease (CVD)\", context=None, chars=[113,140], words=[17,21]))\n",
      "SpanPair(Span(\"(CVD)\", context=None, chars=[136,140], words=[19,21]), Span(\"disease (CVD)\", context=None, chars=[128,140], words=[18,21]))\n",
      "SpanPair(Span(\"(SNP)\", context=None, chars=[211,215], words=[30,32]), Span(\"GeneChip 100K single nucleotide polymorphism (SNP)\", context=None, chars=[166,215], words=[25,32]))\n",
      "SpanPair(Span(\"(SNP)\", context=None, chars=[211,215], words=[30,32]), Span(\"100K single nucleotide polymorphism (SNP)\", context=None, chars=[175,215], words=[26,32]))\n",
      "SpanPair(Span(\"(SNP)\", context=None, chars=[211,215], words=[30,32]), Span(\"single nucleotide polymorphism (SNP)\", context=None, chars=[180,215], words=[27,32]))\n",
      "SpanPair(Span(\"(SNP)\", context=None, chars=[211,215], words=[30,32]), Span(\"nucleotide polymorphism (SNP)\", context=None, chars=[187,215], words=[28,32]))\n",
      "SpanPair(Span(\"(SNP)\", context=None, chars=[211,215], words=[30,32]), Span(\"polymorphism (SNP)\", context=None, chars=[198,215], words=[29,32]))\n",
      "SpanPair(Span(\"(FHS)\", context=None, chars=[394,398], words=[59,61]), Span(\"approximately 1000 Framingham Heart Study (FHS)\", context=None, chars=[352,398], words=[54,61]))\n",
      "SpanPair(Span(\"(FHS)\", context=None, chars=[394,398], words=[59,61]), Span(\"1000 Framingham Heart Study (FHS)\", context=None, chars=[366,398], words=[55,61]))\n",
      "SpanPair(Span(\"(FHS)\", context=None, chars=[394,398], words=[59,61]), Span(\"Framingham Heart Study (FHS)\", context=None, chars=[371,398], words=[56,61]))\n",
      "SpanPair(Span(\"(FHS)\", context=None, chars=[394,398], words=[59,61]), Span(\"Heart Study (FHS)\", context=None, chars=[382,398], words=[57,61]))\n",
      "SpanPair(Span(\"(FHS)\", context=None, chars=[394,398], words=[59,61]), Span(\"Study (FHS)\", context=None, chars=[388,398], words=[58,61]))\n",
      "SpanPair(Span(\"(GEE)\", context=None, chars=[81,85], words=[8,10]), Span(\"using the generalized estimating equations (GEE)\", context=None, chars=[38,85], words=[3,10]))\n",
      "SpanPair(Span(\"(GEE)\", context=None, chars=[81,85], words=[8,10]), Span(\"the generalized estimating equations (GEE)\", context=None, chars=[44,85], words=[4,10]))\n",
      "SpanPair(Span(\"(GEE)\", context=None, chars=[81,85], words=[8,10]), Span(\"generalized estimating equations (GEE)\", context=None, chars=[48,85], words=[5,10]))\n",
      "SpanPair(Span(\"(GEE)\", context=None, chars=[81,85], words=[8,10]), Span(\"estimating equations (GEE)\", context=None, chars=[60,85], words=[6,10]))\n",
      "SpanPair(Span(\"(GEE)\", context=None, chars=[81,85], words=[8,10]), Span(\"equations (GEE)\", context=None, chars=[71,85], words=[7,10]))\n",
      "SpanPair(Span(\"(FBAT)\", context=None, chars=[118,123], words=[15,17]), Span(\"), family-based association test (FBAT)\", context=None, chars=[85,123], words=[10,17]))\n",
      "SpanPair(Span(\"(FBAT)\", context=None, chars=[118,123], words=[15,17]), Span(\", family-based association test (FBAT)\", context=None, chars=[86,123], words=[11,17]))\n",
      "SpanPair(Span(\"(FBAT)\", context=None, chars=[118,123], words=[15,17]), Span(\"family-based association test (FBAT)\", context=None, chars=[88,123], words=[12,17]))\n",
      "SpanPair(Span(\"(FBAT)\", context=None, chars=[118,123], words=[15,17]), Span(\"association test (FBAT)\", context=None, chars=[101,123], words=[13,17]))\n",
      "SpanPair(Span(\"(FBAT)\", context=None, chars=[118,123], words=[15,17]), Span(\"test (FBAT)\", context=None, chars=[113,123], words=[14,17]))\n",
      "SpanPair(Span(\"(LD)\", context=None, chars=[199,202], words=[37,39]), Span(\"and in complete linkage disequilibrium (LD)\", context=None, chars=[160,202], words=[32,39]))\n",
      "SpanPair(Span(\"(LD)\", context=None, chars=[199,202], words=[37,39]), Span(\"in complete linkage disequilibrium (LD)\", context=None, chars=[164,202], words=[33,39]))\n",
      "SpanPair(Span(\"(LD)\", context=None, chars=[199,202], words=[37,39]), Span(\"complete linkage disequilibrium (LD)\", context=None, chars=[167,202], words=[34,39]))\n",
      "SpanPair(Span(\"(LD)\", context=None, chars=[199,202], words=[37,39]), Span(\"linkage disequilibrium (LD)\", context=None, chars=[176,202], words=[35,39]))\n",
      "SpanPair(Span(\"(LD)\", context=None, chars=[199,202], words=[37,39]), Span(\"disequilibrium (LD)\", context=None, chars=[184,202], words=[36,39]))\n",
      "SpanPair(Span(\"(PAI-1)\", context=None, chars=[109,115], words=[17,19]), Span(\"], plasminogen activator inhibitor (PAI-1)\", context=None, chars=[74,115], words=[12,19]))\n",
      "SpanPair(Span(\"(PAI-1)\", context=None, chars=[109,115], words=[17,19]), Span(\", plasminogen activator inhibitor (PAI-1)\", context=None, chars=[75,115], words=[13,19]))\n",
      "SpanPair(Span(\"(PAI-1)\", context=None, chars=[109,115], words=[17,19]), Span(\"plasminogen activator inhibitor (PAI-1)\", context=None, chars=[77,115], words=[14,19]))\n",
      "SpanPair(Span(\"(PAI-1)\", context=None, chars=[109,115], words=[17,19]), Span(\"activator inhibitor (PAI-1)\", context=None, chars=[89,115], words=[15,19]))\n",
      "SpanPair(Span(\"(PAI-1)\", context=None, chars=[109,115], words=[17,19]), Span(\"inhibitor (PAI-1)\", context=None, chars=[99,115], words=[16,19]))\n",
      "SpanPair(Span(\"(vWF)\", context=None, chars=[146,150], words=[27,29]), Span(\"], von Willebrand factor (vWF)\", context=None, chars=[121,150], words=[22,29]))\n",
      "SpanPair(Span(\"(vWF)\", context=None, chars=[146,150], words=[27,29]), Span(\", von Willebrand factor (vWF)\", context=None, chars=[122,150], words=[23,29]))\n",
      "SpanPair(Span(\"(vWF)\", context=None, chars=[146,150], words=[27,29]), Span(\"von Willebrand factor (vWF)\", context=None, chars=[124,150], words=[24,29]))\n",
      "SpanPair(Span(\"(vWF)\", context=None, chars=[146,150], words=[27,29]), Span(\"Willebrand factor (vWF)\", context=None, chars=[128,150], words=[25,29]))\n",
      "SpanPair(Span(\"(vWF)\", context=None, chars=[146,150], words=[27,29]), Span(\"factor (vWF)\", context=None, chars=[139,150], words=[26,29]))\n",
      "SpanPair(Span(\"(tPA)\", context=None, chars=[186,190], words=[37,39]), Span(\"], tissue plasminogen activator (tPA)\", context=None, chars=[154,190], words=[32,39]))\n",
      "SpanPair(Span(\"(tPA)\", context=None, chars=[186,190], words=[37,39]), Span(\", tissue plasminogen activator (tPA)\", context=None, chars=[155,190], words=[33,39]))\n",
      "SpanPair(Span(\"(tPA)\", context=None, chars=[186,190], words=[37,39]), Span(\"tissue plasminogen activator (tPA)\", context=None, chars=[157,190], words=[34,39]))\n",
      "SpanPair(Span(\"(tPA)\", context=None, chars=[186,190], words=[37,39]), Span(\"plasminogen activator (tPA)\", context=None, chars=[164,190], words=[35,39]))\n",
      "SpanPair(Span(\"(tPA)\", context=None, chars=[186,190], words=[37,39]), Span(\"activator (tPA)\", context=None, chars=[176,190], words=[36,39]))\n",
      "SpanPair(Span(\"(FVII)\", context=None, chars=[212,217], words=[46,48]), Span(\"4,5,7], factor VII (FVII)\", context=None, chars=[193,217], words=[41,48]))\n",
      "SpanPair(Span(\"(FVII)\", context=None, chars=[212,217], words=[46,48]), Span(\"], factor VII (FVII)\", context=None, chars=[198,217], words=[42,48]))\n",
      "SpanPair(Span(\"(FVII)\", context=None, chars=[212,217], words=[46,48]), Span(\", factor VII (FVII)\", context=None, chars=[199,217], words=[43,48]))\n",
      "SpanPair(Span(\"(FVII)\", context=None, chars=[212,217], words=[46,48]), Span(\"factor VII (FVII)\", context=None, chars=[201,217], words=[44,48]))\n",
      "SpanPair(Span(\"(FVII)\", context=None, chars=[212,217], words=[46,48]), Span(\"VII (FVII)\", context=None, chars=[208,217], words=[45,48]))\n",
      "SpanPair(Span(\"(CHD)\", context=None, chars=[341,345], words=[73,75]), Span(\"markers for coronary heart disease (CHD)\", context=None, chars=[306,345], words=[68,75]))\n",
      "SpanPair(Span(\"(CHD)\", context=None, chars=[341,345], words=[73,75]), Span(\"for coronary heart disease (CHD)\", context=None, chars=[314,345], words=[69,75]))\n",
      "SpanPair(Span(\"(CHD)\", context=None, chars=[341,345], words=[73,75]), Span(\"coronary heart disease (CHD)\", context=None, chars=[318,345], words=[70,75]))\n",
      "SpanPair(Span(\"(CHD)\", context=None, chars=[341,345], words=[73,75]), Span(\"heart disease (CHD)\", context=None, chars=[327,345], words=[71,75]))\n",
      "SpanPair(Span(\"(CHD)\", context=None, chars=[341,345], words=[73,75]), Span(\"disease (CHD)\", context=None, chars=[333,345], words=[72,75]))\n",
      "SpanPair(Span(\"(CVD)\", context=None, chars=[388,392], words=[82,84]), Span(\"stroke and other cardiovascular disease (CVD)\", context=None, chars=[348,392], words=[77,84]))\n",
      "SpanPair(Span(\"(CVD)\", context=None, chars=[388,392], words=[82,84]), Span(\"and other cardiovascular disease (CVD)\", context=None, chars=[355,392], words=[78,84]))\n",
      "SpanPair(Span(\"(CVD)\", context=None, chars=[388,392], words=[82,84]), Span(\"other cardiovascular disease (CVD)\", context=None, chars=[359,392], words=[79,84]))\n",
      "SpanPair(Span(\"(CVD)\", context=None, chars=[388,392], words=[82,84]), Span(\"cardiovascular disease (CVD)\", context=None, chars=[365,392], words=[80,84]))\n",
      "SpanPair(Span(\"(CVD)\", context=None, chars=[388,392], words=[82,84]), Span(\"disease (CVD)\", context=None, chars=[380,392], words=[81,84]))\n",
      "SpanPair(Span(\"(HCT)\", context=None, chars=[221,225], words=[32,34]), Span(\"hematological phenotypes such as hematocrit (HCT)\", context=None, chars=[177,225], words=[27,34]))\n",
      "SpanPair(Span(\"(HCT)\", context=None, chars=[221,225], words=[32,34]), Span(\"(HCT), hemoglobin (Hgb)\", context=None, chars=[221,243], words=[32,39]))\n",
      "SpanPair(Span(\"(HCT)\", context=None, chars=[221,225], words=[32,34]), Span(\"phenotypes such as hematocrit (HCT)\", context=None, chars=[191,225], words=[28,34]))\n",
      "SpanPair(Span(\"(HCT)\", context=None, chars=[221,225], words=[32,34]), Span(\"such as hematocrit (HCT)\", context=None, chars=[202,225], words=[29,34]))\n",
      "SpanPair(Span(\"(HCT)\", context=None, chars=[221,225], words=[32,34]), Span(\"as hematocrit (HCT)\", context=None, chars=[207,225], words=[30,34]))\n",
      "SpanPair(Span(\"(HCT)\", context=None, chars=[221,225], words=[32,34]), Span(\"hematocrit (HCT)\", context=None, chars=[210,225], words=[31,34]))\n",
      "SpanPair(Span(\"(Hgb)\", context=None, chars=[239,243], words=[37,39]), Span(\"(HCT), hemoglobin (Hgb)\", context=None, chars=[221,243], words=[32,39]))\n",
      "SpanPair(Span(\"(Hgb)\", context=None, chars=[239,243], words=[37,39]), Span(\"HCT), hemoglobin (Hgb)\", context=None, chars=[222,243], words=[33,39]))\n",
      "SpanPair(Span(\"(Hgb)\", context=None, chars=[239,243], words=[37,39]), Span(\"), hemoglobin (Hgb)\", context=None, chars=[225,243], words=[34,39]))\n",
      "SpanPair(Span(\"(Hgb)\", context=None, chars=[239,243], words=[37,39]), Span(\", hemoglobin (Hgb)\", context=None, chars=[226,243], words=[35,39]))\n",
      "SpanPair(Span(\"(Hgb)\", context=None, chars=[239,243], words=[37,39]), Span(\"hemoglobin (Hgb)\", context=None, chars=[228,243], words=[36,39]))\n",
      "SpanPair(Span(\"(RBCC)\", context=None, chars=[267,272], words=[45,47]), Span(\", red blood cell count (RBCC)\", context=None, chars=[244,272], words=[40,47]))\n",
      "SpanPair(Span(\"(RBCC)\", context=None, chars=[267,272], words=[45,47]), Span(\"red blood cell count (RBCC)\", context=None, chars=[246,272], words=[41,47]))\n",
      "SpanPair(Span(\"(RBCC)\", context=None, chars=[267,272], words=[45,47]), Span(\"blood cell count (RBCC)\", context=None, chars=[250,272], words=[42,47]))\n",
      "SpanPair(Span(\"(RBCC)\", context=None, chars=[267,272], words=[45,47]), Span(\"cell count (RBCC)\", context=None, chars=[256,272], words=[43,47]))\n",
      "SpanPair(Span(\"(RBCC)\", context=None, chars=[267,272], words=[45,47]), Span(\"count (RBCC)\", context=None, chars=[261,272], words=[44,47]))\n",
      "SpanPair(Span(\"(MCV)\", context=None, chars=[308,312], words=[54,56]), Span(\"size, mean corpuscular volume (MCV)\", context=None, chars=[278,312], words=[49,56]))\n",
      "SpanPair(Span(\"(MCV)\", context=None, chars=[308,312], words=[54,56]), Span(\", mean corpuscular volume (MCV)\", context=None, chars=[282,312], words=[50,56]))\n",
      "SpanPair(Span(\"(MCV)\", context=None, chars=[308,312], words=[54,56]), Span(\"mean corpuscular volume (MCV)\", context=None, chars=[284,312], words=[51,56]))\n",
      "SpanPair(Span(\"(MCV)\", context=None, chars=[308,312], words=[54,56]), Span(\"corpuscular volume (MCV)\", context=None, chars=[289,312], words=[52,56]))\n",
      "SpanPair(Span(\"(MCV)\", context=None, chars=[308,312], words=[54,56]), Span(\"volume (MCV)\", context=None, chars=[301,312], words=[53,56]))\n",
      "SpanPair(Span(\"(MCH)\", context=None, chars=[346,350], words=[61,63]), Span(\") and mean corpuscular hemoglobin (MCH)\", context=None, chars=[312,350], words=[56,63]))\n",
      "SpanPair(Span(\"(MCH)\", context=None, chars=[346,350], words=[61,63]), Span(\"and mean corpuscular hemoglobin (MCH)\", context=None, chars=[314,350], words=[57,63]))\n",
      "SpanPair(Span(\"(MCH)\", context=None, chars=[346,350], words=[61,63]), Span(\"mean corpuscular hemoglobin (MCH)\", context=None, chars=[318,350], words=[58,63]))\n",
      "SpanPair(Span(\"(MCH)\", context=None, chars=[346,350], words=[61,63]), Span(\"corpuscular hemoglobin (MCH)\", context=None, chars=[323,350], words=[59,63]))\n",
      "SpanPair(Span(\"(MCH)\", context=None, chars=[346,350], words=[61,63]), Span(\"hemoglobin (MCH)\", context=None, chars=[335,350], words=[60,63]))\n",
      "SpanPair(Span(\"(ADP)\", context=None, chars=[442,446], words=[83,85]), Span(\"adenosine 5'-diphosphate (ADP)\", context=None, chars=[417,446], words=[78,85]))\n",
      "SpanPair(Span(\"(ADP)\", context=None, chars=[442,446], words=[83,85]), Span(\"(ADP), epinephrine (Epi)\", context=None, chars=[442,465], words=[83,90]))\n",
      "SpanPair(Span(\"(ADP)\", context=None, chars=[442,446], words=[83,85]), Span(\"5'-diphosphate (ADP)\", context=None, chars=[427,446], words=[79,85]))\n",
      "SpanPair(Span(\"(ADP)\", context=None, chars=[442,446], words=[83,85]), Span(\"'-diphosphate (ADP)\", context=None, chars=[428,446], words=[80,85]))\n",
      "SpanPair(Span(\"(ADP)\", context=None, chars=[442,446], words=[83,85]), Span(\"-diphosphate (ADP)\", context=None, chars=[429,446], words=[81,85]))\n",
      "SpanPair(Span(\"(ADP)\", context=None, chars=[442,446], words=[83,85]), Span(\"diphosphate (ADP)\", context=None, chars=[430,446], words=[82,85]))\n",
      "SpanPair(Span(\"(Epi)\", context=None, chars=[461,465], words=[88,90]), Span(\"(ADP), epinephrine (Epi)\", context=None, chars=[442,465], words=[83,90]))\n",
      "SpanPair(Span(\"(Epi)\", context=None, chars=[461,465], words=[88,90]), Span(\"ADP), epinephrine (Epi)\", context=None, chars=[443,465], words=[84,90]))\n",
      "SpanPair(Span(\"(Epi)\", context=None, chars=[461,465], words=[88,90]), Span(\"), epinephrine (Epi)\", context=None, chars=[446,465], words=[85,90]))\n",
      "SpanPair(Span(\"(Epi)\", context=None, chars=[461,465], words=[88,90]), Span(\", epinephrine (Epi)\", context=None, chars=[447,465], words=[86,90]))\n",
      "SpanPair(Span(\"(Epi)\", context=None, chars=[461,465], words=[88,90]), Span(\"epinephrine (Epi)\", context=None, chars=[449,465], words=[87,90]))\n",
      "SpanPair(Span(\"(FGB)\", context=None, chars=[67,71], words=[9,11]), Span(\"the following genes – fibrinogen-β (FGB)\", context=None, chars=[32,71], words=[4,11]))\n",
      "SpanPair(Span(\"(FGB)\", context=None, chars=[67,71], words=[9,11]), Span(\"(FGB), fibrinogen-α (FGA)\", context=None, chars=[67,91], words=[9,16]))\n",
      "SpanPair(Span(\"(FGB)\", context=None, chars=[67,71], words=[9,11]), Span(\"following genes – fibrinogen-β (FGB)\", context=None, chars=[36,71], words=[5,11]))\n",
      "SpanPair(Span(\"(FGB)\", context=None, chars=[67,71], words=[9,11]), Span(\"genes – fibrinogen-β (FGB)\", context=None, chars=[46,71], words=[6,11]))\n",
      "SpanPair(Span(\"(FGB)\", context=None, chars=[67,71], words=[9,11]), Span(\"– fibrinogen-β (FGB)\", context=None, chars=[52,71], words=[7,11]))\n",
      "SpanPair(Span(\"(FGB)\", context=None, chars=[67,71], words=[9,11]), Span(\"fibrinogen-β (FGB)\", context=None, chars=[54,71], words=[8,11]))\n",
      "SpanPair(Span(\"(FGA)\", context=None, chars=[87,91], words=[14,16]), Span(\"(FGB), fibrinogen-α (FGA)\", context=None, chars=[67,91], words=[9,16]))\n",
      "SpanPair(Span(\"(FGA)\", context=None, chars=[87,91], words=[14,16]), Span(\"(FGA), fibrinogen-γ (FGG)\", context=None, chars=[87,111], words=[14,21]))\n",
      "SpanPair(Span(\"(FGA)\", context=None, chars=[87,91], words=[14,16]), Span(\"FGB), fibrinogen-α (FGA)\", context=None, chars=[68,91], words=[10,16]))\n",
      "SpanPair(Span(\"(FGA)\", context=None, chars=[87,91], words=[14,16]), Span(\"), fibrinogen-α (FGA)\", context=None, chars=[71,91], words=[11,16]))\n",
      "SpanPair(Span(\"(FGA)\", context=None, chars=[87,91], words=[14,16]), Span(\", fibrinogen-α (FGA)\", context=None, chars=[72,91], words=[12,16]))\n",
      "SpanPair(Span(\"(FGA)\", context=None, chars=[87,91], words=[14,16]), Span(\"fibrinogen-α (FGA)\", context=None, chars=[74,91], words=[13,16]))\n",
      "SpanPair(Span(\"(FGG)\", context=None, chars=[107,111], words=[19,21]), Span(\"(FGA), fibrinogen-γ (FGG)\", context=None, chars=[87,111], words=[14,21]))\n",
      "SpanPair(Span(\"(FGG)\", context=None, chars=[107,111], words=[19,21]), Span(\"(FGG), FVII (F7)\", context=None, chars=[107,122], words=[19,26]))\n",
      "SpanPair(Span(\"(FGG)\", context=None, chars=[107,111], words=[19,21]), Span(\"FGA), fibrinogen-γ (FGG)\", context=None, chars=[88,111], words=[15,21]))\n",
      "SpanPair(Span(\"(FGG)\", context=None, chars=[107,111], words=[19,21]), Span(\"), fibrinogen-γ (FGG)\", context=None, chars=[91,111], words=[16,21]))\n",
      "SpanPair(Span(\"(FGG)\", context=None, chars=[107,111], words=[19,21]), Span(\", fibrinogen-γ (FGG)\", context=None, chars=[92,111], words=[17,21]))\n",
      "SpanPair(Span(\"(FGG)\", context=None, chars=[107,111], words=[19,21]), Span(\"fibrinogen-γ (FGG)\", context=None, chars=[94,111], words=[18,21]))\n",
      "SpanPair(Span(\"(F7)\", context=None, chars=[119,122], words=[24,26]), Span(\"(FGG), FVII (F7)\", context=None, chars=[107,122], words=[19,26]))\n",
      "SpanPair(Span(\"(F7)\", context=None, chars=[119,122], words=[24,26]), Span(\"FGG), FVII (F7)\", context=None, chars=[108,122], words=[20,26]))\n",
      "SpanPair(Span(\"(F7)\", context=None, chars=[119,122], words=[24,26]), Span(\"), FVII (F7)\", context=None, chars=[111,122], words=[21,26]))\n",
      "SpanPair(Span(\"(F7)\", context=None, chars=[119,122], words=[24,26]), Span(\", FVII (F7)\", context=None, chars=[112,122], words=[22,26]))\n",
      "SpanPair(Span(\"(F7)\", context=None, chars=[119,122], words=[24,26]), Span(\"FVII (F7)\", context=None, chars=[114,122], words=[23,26]))\n",
      "SpanPair(Span(\"(SERPINE1)\", context=None, chars=[135,144], words=[30,32]), Span(\"F7), and PAI-1 (SERPINE1)\", context=None, chars=[120,144], words=[25,32]))\n",
      "SpanPair(Span(\"(SERPINE1)\", context=None, chars=[135,144], words=[30,32]), Span(\"), and PAI-1 (SERPINE1)\", context=None, chars=[122,144], words=[26,32]))\n",
      "SpanPair(Span(\"(SERPINE1)\", context=None, chars=[135,144], words=[30,32]), Span(\", and PAI-1 (SERPINE1)\", context=None, chars=[123,144], words=[27,32]))\n",
      "SpanPair(Span(\"(SERPINE1)\", context=None, chars=[135,144], words=[30,32]), Span(\"and PAI-1 (SERPINE1)\", context=None, chars=[125,144], words=[28,32]))\n",
      "SpanPair(Span(\"(SERPINE1)\", context=None, chars=[135,144], words=[30,32]), Span(\"PAI-1 (SERPINE1)\", context=None, chars=[129,144], words=[29,32]))\n",
      "SpanPair(Span(\"(SNP)\", context=None, chars=[124,128], words=[17,19]), Span(\"Mapping 100K single nucleotide polymorphism (SNP)\", context=None, chars=[80,128], words=[12,19]))\n",
      "SpanPair(Span(\"(SNP)\", context=None, chars=[124,128], words=[17,19]), Span(\"100K single nucleotide polymorphism (SNP)\", context=None, chars=[88,128], words=[13,19]))\n",
      "SpanPair(Span(\"(SNP)\", context=None, chars=[124,128], words=[17,19]), Span(\"single nucleotide polymorphism (SNP)\", context=None, chars=[93,128], words=[14,19]))\n",
      "SpanPair(Span(\"(SNP)\", context=None, chars=[124,128], words=[17,19]), Span(\"nucleotide polymorphism (SNP)\", context=None, chars=[100,128], words=[15,19]))\n",
      "SpanPair(Span(\"(SNP)\", context=None, chars=[124,128], words=[17,19]), Span(\"polymorphism (SNP)\", context=None, chars=[111,128], words=[16,19]))\n",
      "SpanPair(Span(\"(GWAS)\", context=None, chars=[247,252], words=[37,39]), Span(\"conduct a genome-wide association study (GWAS)\", context=None, chars=[207,252], words=[32,39]))\n",
      "SpanPair(Span(\"(GWAS)\", context=None, chars=[247,252], words=[37,39]), Span(\"a genome-wide association study (GWAS)\", context=None, chars=[215,252], words=[33,39]))\n",
      "SpanPair(Span(\"(GWAS)\", context=None, chars=[247,252], words=[37,39]), Span(\"genome-wide association study (GWAS)\", context=None, chars=[217,252], words=[34,39]))\n",
      "SpanPair(Span(\"(GWAS)\", context=None, chars=[247,252], words=[37,39]), Span(\"association study (GWAS)\", context=None, chars=[229,252], words=[35,39]))\n",
      "SpanPair(Span(\"(GWAS)\", context=None, chars=[247,252], words=[37,39]), Span(\"study (GWAS)\", context=None, chars=[241,252], words=[36,39]))\n"
     ]
    }
   ],
   "source": [
    "for c in text_c:\n",
    "    if c.span0.context.document.name == '17903294':\n",
    "        print unicode(c)"
   ]
  },
  {
   "cell_type": "code",
   "execution_count": 197,
   "metadata": {
    "collapsed": true
   },
   "outputs": [],
   "source": [
    "# helpers\n",
    "def spairtxt2uid(span_pair):\n",
    "    doc_id = span_pair.span0.context.document.name\n",
    "    str1 = span_pair.span1.get_span()\n",
    "    str2 = span_pair.span0.get_span()\n",
    "    acro = str2[1:-1]\n",
    "    phen = str1.split(' (')[0]\n",
    "    return (doc_id, acro, phen)"
   ]
  },
  {
   "cell_type": "markdown",
   "metadata": {},
   "source": [
    "We really trust the first stage, so if an acronym has been resolved there, remove it from this stage"
   ]
  },
  {
   "cell_type": "code",
   "execution_count": 198,
   "metadata": {
    "collapsed": false
   },
   "outputs": [
    {
     "name": "stdout",
     "output_type": "stream",
     "text": [
      "1288 1286\n"
     ]
    }
   ],
   "source": [
    "new_text_c = list()\n",
    "resolved = {(doc_id, acro) for doc_id, _, acro in resolved_acronyms}\n",
    "for c in text_c:\n",
    "    doc_id, phen, acro = spairtxt2uid(c)\n",
    "#     print doc_id, phen, acro\n",
    "    if (doc_id, acro) not in resolved:\n",
    "        new_text_c.append(c)\n",
    "\n",
    "print len(text_c), len(new_text_c)"
   ]
  },
  {
   "cell_type": "code",
   "execution_count": 199,
   "metadata": {
    "collapsed": false
   },
   "outputs": [
    {
     "name": "stdout",
     "output_type": "stream",
     "text": [
      "Building feature index...\n",
      "Extracting features...\n",
      "0/22510\n",
      "5000/22510\n",
      "10000/22510\n",
      "15000/22510\n",
      "20000/22510\n"
     ]
    }
   ],
   "source": [
    "from snorkel.features import NgramPairFeaturizer\n",
    "\n",
    "pkl_f = 'acro_text_feats.pkl'\n",
    "try:\n",
    "    with open(pkl_f, 'rb') as f:\n",
    "        featurizer = cPickle.load(f)\n",
    "except:\n",
    "    featurizer = NgramPairFeaturizer()\n",
    "    featurizer.fit_transform(text_c)"
   ]
  },
  {
   "cell_type": "code",
   "execution_count": 200,
   "metadata": {
    "collapsed": false
   },
   "outputs": [
    {
     "name": "stdout",
     "output_type": "stream",
     "text": [
      "Training set size: 1028\n",
      "Gold set size: 260\n",
      "Positive labels in training set: 27\n",
      "Negative labels in training set: 112\n",
      "Positive labels in gold set: 60\n",
      "Negative labels in gold set: 200\n"
     ]
    }
   ],
   "source": [
    "# Split into train and test set\n",
    "training_candidates = []\n",
    "gold_candidates     = []\n",
    "gold_labels         = []\n",
    "n_half = len(text_c)/2\n",
    "for c in text_c[:n_half]:\n",
    "    uid = spair2uid(c)\n",
    "    if uid in annotations:\n",
    "        gold_candidates.append(c)\n",
    "        gold_labels.append(annotations[uid])\n",
    "    else:\n",
    "        training_candidates.append(c)\n",
    "training_candidates.extend(text_c[n_half:])\n",
    "gold_labels = np.array(gold_labels)\n",
    "print \"Training set size: %s\" % len(training_candidates)\n",
    "print \"Gold set size: %s\" % len(gold_candidates)\n",
    "print \"Positive labels in training set: %s\" % len([c for c in training_candidates if annotations.get(spair2uid(c),0)==1])\n",
    "print \"Negative labels in training set: %s\" % len([c for c in training_candidates if annotations.get(spair2uid(c),0)==-1])\n",
    "print \"Positive labels in gold set: %s\" % len([c for c in gold_candidates if annotations[spair2uid(c)]==1])\n",
    "print \"Negative labels in gold set: %s\" % len([c for c in gold_candidates if annotations[spair2uid(c)]==-1])"
   ]
  },
  {
   "cell_type": "code",
   "execution_count": 201,
   "metadata": {
    "collapsed": false
   },
   "outputs": [],
   "source": [
    "import re\n",
    "\n",
    "# positive LFs\n",
    "def LF_acro_matches(m):\n",
    "    _, acro, phen = spairtxt2uid(m)\n",
    "    words = phen.strip().split()\n",
    "    if len(acro) == len(words):\n",
    "        w_acro = ''.join([w[0] for w in words])\n",
    "        if w_acro.lower() == acro.lower():\n",
    "            return +1\n",
    "    return 0\n",
    "\n",
    "def LF_acro_matches_with_dashes(m):\n",
    "    _, acro, phen = spairtxt2uid(m)\n",
    "    words = re.split(' |-', phen)\n",
    "    if len(acro) == len(words):\n",
    "        w_acro = ''.join([w[0] for w in words])\n",
    "        if w_acro.lower() == acro.lower():\n",
    "            return +1\n",
    "    return 0\n",
    "\n",
    "def LF_acro_first_letter(m):\n",
    "    _, acro, phen = spairtxt2uid(m)\n",
    "    if not any(l.islower() for l in phen): return 0\n",
    "    words = phen.strip().split()\n",
    "    if len(acro) <= len(words):\n",
    "        if words[0].lower() == acro[0].lower():\n",
    "            return +1\n",
    "    return 0\n",
    "\n",
    "def LF_acro_prefix(m):\n",
    "    _, acro, phen = spairtxt2uid(m)\n",
    "    phen = phen.replace('-', '')\n",
    "    if phen[:2].lower() == acro[:2].lower():\n",
    "        return +1\n",
    "    return 0\n",
    "\n",
    "def LF_acro_matches_last_letters(m):\n",
    "    _, acro, phen = spairtxt2uid(m)\n",
    "    words = phen.strip().split()\n",
    "    prev_words = m.span1.pre_window(d=1) + words\n",
    "    w_prev_acro = ''.join([w[0] for w in prev_words])\n",
    "    if w_prev_acro.lower() == acro.lower(): return 0\n",
    "    for r in (1,2):\n",
    "        new_acro = acro[r:]\n",
    "        if len(new_acro) < 3: continue\n",
    "        if len(new_acro) == len(words):\n",
    "            w_acro = ''.join([w[0] for w in words])\n",
    "            if w_acro.lower() == new_acro.lower():\n",
    "                return +1\n",
    "    return 0\n",
    "\n",
    "def LF_full_cell(m):\n",
    "    \"\"\"If only phrase in cell is A B C (XYZ), then it's correct\"\"\"\n",
    "    if not hasattr(m.span1.context, 'cell'): return 0\n",
    "    return 1 if m.span1.context.cell.text == m.span1.get_span() else 0\n",
    "\n",
    "def LF_start(m):\n",
    "    punc = ',.;!?()\\'\"'\n",
    "    if m.span1.get_word_start() == 0 or any(c in punc for c in m.span1.pre_window(d=1)):\n",
    "        _, acro, phen = spairtxt2uid(m)\n",
    "        if phen[0].lower() == acro[0].lower(): \n",
    "            return +1\n",
    "    return 0\n",
    "\n",
    "LF_txt_pos = [LF_acro_matches, LF_acro_matches_with_dashes, LF_acro_first_letter, LF_acro_prefix, LF_acro_matches_last_letters, LF_full_cell, LF_start]\n",
    "\n",
    "# negative LFs\n",
    "def LF_no_pos(m):\n",
    "    return -1 if not any(LF(m) for LF in LF_txt_pos) else 0\n",
    "\n",
    "def LF_short(m):\n",
    "    _, acro, phen = spairtxt2uid(m)\n",
    "    return -1 if len(acro) == 1 else 0\n",
    "\n",
    "def LF_lc(m):\n",
    "    _, acro, phen = spairtxt2uid(m)\n",
    "    return -1 if all(l.islower() for l in acro) else 0\n",
    "\n",
    "def LF_uc(m):\n",
    "    _, acro, phen = spairtxt2uid(m)\n",
    "    return -2 if not any(l.islower() for l in phen) else 0\n",
    "\n",
    "def LF_punc(m):\n",
    "    _, acro, phen = spairtxt2uid(m)\n",
    "    punc = ',.;!?()'\n",
    "    return -1 if any(c in punc for c in phen) else 0\n",
    "    \n",
    "\n",
    "LF_txt_neg = [LF_no_pos, LF_short, LF_lc, LF_uc, LF_punc]\n",
    "\n",
    "LF_txt = LF_txt_pos + LF_txt_neg"
   ]
  },
  {
   "cell_type": "code",
   "execution_count": 202,
   "metadata": {
    "collapsed": false
   },
   "outputs": [
    {
     "name": "stdout",
     "output_type": "stream",
     "text": [
      "Applying LFs...\n",
      "Featurizing...\n",
      "Building feature index...\n",
      "Extracting features...\n",
      "0/20475\n",
      "5000/20475\n",
      "10000/20475\n",
      "15000/20475\n",
      "20000/20475\n",
      "============================================================\n",
      "LF Summary Statistics: 12 LFs applied to 1028 candidates\n",
      "------------------------------------------------------------\n",
      "Coverage (candidates w/ > 0 labels):\t\t99.12%\n",
      "Overlap (candidates w/ > 1 labels):\t\t37.55%\n",
      "Conflict (candidates w/ conflicting labels):\t2.63%\n",
      "============================================================\n"
     ]
    }
   ],
   "source": [
    "from snorkel.snorkel import TrainingSet\n",
    "from snorkel.features import NgramFeaturizer\n",
    "\n",
    "training_set = TrainingSet(training_candidates, LF_txt, featurizer=NgramPairFeaturizer())"
   ]
  },
  {
   "cell_type": "code",
   "execution_count": 203,
   "metadata": {
    "collapsed": false
   },
   "outputs": [
    {
     "data": {
      "text/plain": [
       "array([[<matplotlib.axes.AxesSubplot object at 0x119f26690>]], dtype=object)"
      ]
     },
     "execution_count": 203,
     "metadata": {},
     "output_type": "execute_result"
    },
    {
     "data": {
      "image/png": "[encoded data removed]",
      "text/plain": [
       "<matplotlib.figure.Figure at 0x110591f50>"
      ]
     },
     "metadata": {},
     "output_type": "display_data"
    }
   ],
   "source": [
    "lf_stats = training_set.lf_stats()\n",
    "lf_stats[:5]\n",
    "lf_stats.hist(\"coverage\")"
   ]
  },
  {
   "cell_type": "code",
   "execution_count": 204,
   "metadata": {
    "collapsed": false
   },
   "outputs": [
    {
     "name": "stdout",
     "output_type": "stream",
     "text": [
      "============================================================\n",
      "Testing mu = 1.00e-05, lf_w0 = 1.00e+00\n",
      "============================================================\n",
      "Begin training for rate=0.01, mu=1e-05\n",
      "\tLearning epoch = 0\tGradient mag. = 0.026680\n",
      "\tLearning epoch = 250\tGradient mag. = 0.031178\n",
      "\tLearning epoch = 500\tGradient mag. = 0.034658\n",
      "\tLearning epoch = 750\tGradient mag. = 0.038522\n",
      "Final gradient magnitude for rate=0.01, mu=1e-05: 0.043\n",
      "Applying LFs...\n",
      "Featurizing...\n",
      "============================================================\n",
      "Testing mu = 1.00e-05, lf_w0 = 2.00e+00\n",
      "============================================================\n",
      "Begin training for rate=0.01, mu=1e-05\n",
      "\tLearning epoch = 0\tGradient mag. = 0.041584\n",
      "\tLearning epoch = 250\tGradient mag. = 0.046255\n",
      "\tLearning epoch = 500\tGradient mag. = 0.048822\n",
      "\tLearning epoch = 750\tGradient mag. = 0.051456\n",
      "Final gradient magnitude for rate=0.01, mu=1e-05: 0.054\n",
      "============================================================\n",
      "Testing mu = 1.00e-07, lf_w0 = 1.00e+00\n",
      "============================================================\n",
      "Begin training for rate=0.01, mu=1e-07\n",
      "\tLearning epoch = 0\tGradient mag. = 0.026680\n",
      "\tLearning epoch = 250\tGradient mag. = 0.031196\n",
      "\tLearning epoch = 500\tGradient mag. = 0.034695\n",
      "\tLearning epoch = 750\tGradient mag. = 0.038579\n",
      "Final gradient magnitude for rate=0.01, mu=1e-07: 0.043\n",
      "============================================================\n",
      "Testing mu = 1.00e-07, lf_w0 = 2.00e+00\n",
      "============================================================\n",
      "Begin training for rate=0.01, mu=1e-07\n",
      "\tLearning epoch = 0\tGradient mag. = 0.041584\n",
      "\tLearning epoch = 250\tGradient mag. = 0.046266\n",
      "\tLearning epoch = 500\tGradient mag. = 0.048843\n",
      "\tLearning epoch = 750\tGradient mag. = 0.051487\n",
      "Final gradient magnitude for rate=0.01, mu=1e-07: 0.054\n"
     ]
    }
   ],
   "source": [
    "from snorkel.snorkel import Learner\n",
    "import snorkel.learning\n",
    "from snorkel.learning import LogReg\n",
    "\n",
    "text_learner = Learner(training_set, model=LogReg())\n",
    "\n",
    "# Splitting into CV and test set\n",
    "n_half = len(gold_candidates)/2\n",
    "test_candidates = gold_candidates[:n_half]\n",
    "test_labels     = gold_labels[:n_half]\n",
    "cv_candidates   = gold_candidates[n_half:]\n",
    "cv_labels       = gold_labels[n_half:]\n",
    "\n",
    "from snorkel.learning_utils import GridSearch\n",
    "gs       = GridSearch(text_learner, ['mu', 'lf_w0'], [[1e-5, 1e-7],[1.0,2.0]])\n",
    "gs_stats = gs.fit(cv_candidates, cv_labels)"
   ]
  },
  {
   "cell_type": "code",
   "execution_count": 205,
   "metadata": {
    "collapsed": false
   },
   "outputs": [
    {
     "data": {
      "text/html": [
       "<div style=\"max-height:1000px;max-width:1500px;overflow:auto;\">\n",
       "<table border=\"1\" class=\"dataframe\">\n",
       "  <thead>\n",
       "    <tr style=\"text-align: right;\">\n",
       "      <th></th>\n",
       "      <th>mu</th>\n",
       "      <th>lf_w0</th>\n",
       "      <th>Prec.</th>\n",
       "      <th>Rec.</th>\n",
       "      <th>F1</th>\n",
       "    </tr>\n",
       "  </thead>\n",
       "  <tbody>\n",
       "    <tr>\n",
       "      <th>0</th>\n",
       "      <td> 0.00001</td>\n",
       "      <td> 1</td>\n",
       "      <td> 0.846154</td>\n",
       "      <td> 0.88</td>\n",
       "      <td> 0.862745</td>\n",
       "    </tr>\n",
       "    <tr>\n",
       "      <th>1</th>\n",
       "      <td> 0.00001</td>\n",
       "      <td> 2</td>\n",
       "      <td> 0.846154</td>\n",
       "      <td> 0.88</td>\n",
       "      <td> 0.862745</td>\n",
       "    </tr>\n",
       "    <tr>\n",
       "      <th>2</th>\n",
       "      <td> 0.00000</td>\n",
       "      <td> 1</td>\n",
       "      <td> 0.846154</td>\n",
       "      <td> 0.88</td>\n",
       "      <td> 0.862745</td>\n",
       "    </tr>\n",
       "    <tr>\n",
       "      <th>3</th>\n",
       "      <td> 0.00000</td>\n",
       "      <td> 2</td>\n",
       "      <td> 0.846154</td>\n",
       "      <td> 0.88</td>\n",
       "      <td> 0.862745</td>\n",
       "    </tr>\n",
       "  </tbody>\n",
       "</table>\n",
       "<p>4 rows × 5 columns</p>\n",
       "</div>"
      ],
      "text/plain": [
       "        mu  lf_w0     Prec.  Rec.        F1\n",
       "0  0.00001      1  0.846154  0.88  0.862745\n",
       "1  0.00001      2  0.846154  0.88  0.862745\n",
       "2  0.00000      1  0.846154  0.88  0.862745\n",
       "3  0.00000      2  0.846154  0.88  0.862745\n",
       "\n",
       "[4 rows x 5 columns]"
      ]
     },
     "execution_count": 205,
     "metadata": {},
     "output_type": "execute_result"
    }
   ],
   "source": [
    "gs_stats"
   ]
  },
  {
   "cell_type": "code",
   "execution_count": 206,
   "metadata": {
    "collapsed": false
   },
   "outputs": [
    {
     "name": "stdout",
     "output_type": "stream",
     "text": [
      "Applying LFs...\n",
      "Featurizing...\n",
      "========================================\n",
      "Test set size:\t130\n",
      "----------------------------------------\n",
      "Precision:\t0.673076923077\n",
      "Recall:\t\t1.0\n",
      "F1 Score:\t0.804597701149\n",
      "----------------------------------------\n",
      "TP: 35 | FP: 17 | TN: 78 | FN: 0\n",
      "========================================\n"
     ]
    }
   ],
   "source": [
    "text_learner.test_wmv(test_candidates, test_labels)"
   ]
  },
  {
   "cell_type": "code",
   "execution_count": 207,
   "metadata": {
    "collapsed": false
   },
   "outputs": [
    {
     "name": "stdout",
     "output_type": "stream",
     "text": [
      "Applying LFs...\n",
      "Featurizing...\n",
      "[('17903292', u'GFR', u'Glomerular Filtration Rate'), ('17903292', u'TSH', u'Thyroid stimulation hormone'), ('17903292', u'DHEAS', u'Dehydroepiandrosterone sulfate'), ('17903292', u'Mb', u'Physical Location'), ('17903292', u'Mb', u'Physical Location'), ('17903292', u'Mb', u'Physical location'), ('17903292', u'GEE', u'Mean p-value'), ('17903292', u'FBAT', u'Mean p-value'), ('17903292', u'GEE', u'P_value'), ('17903294', u'min-max', u'Sample size')]\n",
      "17903292 1.0 -1\n",
      "Phrase('17903292', 1, 3, 0, u'Physical Location (Mb)')\n",
      "(Mb) Physical Location (Mb)\n",
      "[0, 0, 0, 0, 0, 1, 0, 0, 0, 0, 0, 0]\n",
      "\n",
      "17903292 1.0 -1\n",
      "Phrase('17903292', 1, 189, 0, u'Physical Location (Mb)')\n",
      "(Mb) Physical Location (Mb)\n",
      "[0, 0, 0, 0, 0, 1, 0, 0, 0, 0, 0, 0]\n",
      "\n",
      "17903292 1.0 -1\n",
      "Phrase('17903292', 1, 383, 0, u'Physical location (Mb)')\n",
      "(Mb) Physical location (Mb)\n",
      "[0, 0, 0, 0, 0, 1, 0, 0, 0, 0, 0, 0]\n",
      "\n",
      "17903292 1.0 -1\n",
      "Phrase('17903292', 2, 5, 0, u'Mean p-value (GEE)')\n",
      "(GEE) Mean p-value (GEE)\n",
      "[0, 0, 0, 0, 0, 1, 0, 0, 0, 0, 0, 0]\n",
      "\n",
      "17903292 1.0 -1\n",
      "Phrase('17903292', 2, 6, 0, u'Mean p-value (FBAT)')\n",
      "(FBAT) Mean p-value (FBAT)\n",
      "[0, 0, 0, 0, 0, 1, 0, 0, 0, 0, 0, 0]\n",
      "\n",
      "17903292 1.0 -1\n",
      "Phrase('17903292', 3, 7, 0, u'P_value (GEE)')\n",
      "(GEE) P_value (GEE)\n",
      "[0, 0, 0, 0, 0, 1, 0, 0, 0, 0, 0, 0]\n",
      "\n",
      "17903297 1.0 -1\n",
      "Phrase('17903297', 0, 93, 0, u'Similarities (Sim)')\n",
      "(Sim) Similarities (Sim)\n",
      "[0, 0, 0, 1, 0, 1, 1, 0, 0, 0, 0, 0]\n",
      "\n",
      "17903300 1.0 -1\n",
      "Phrase('17903300', 1, 3, 0, u'Physical Position (Mb)')\n",
      "(Mb) Physical Position (Mb)\n",
      "[0, 0, 0, 0, 0, 1, 0, 0, 0, 0, 0, 0]\n",
      "\n",
      "17903300 1.0 -1\n",
      "Phrase('17903300', 1, 190, 0, u'Physical Location (Mb)')\n",
      "(Mb) Physical Location (Mb)\n",
      "[0, 0, 0, 0, 0, 1, 0, 0, 0, 0, 0, 0]\n",
      "\n",
      "17903292 1.0 -1\n",
      "Phrase('17903292', 1, 3, 0, u'Physical Location (Mb)')\n",
      "(Mb) Physical Location (Mb)\n",
      "[0, 0, 0, 0, 0, 1, 0, 0, 0, 0, 0, 0]\n",
      "\n",
      "17903292 1.0 -1\n",
      "Phrase('17903292', 1, 189, 0, u'Physical Location (Mb)')\n",
      "(Mb) Physical Location (Mb)\n",
      "[0, 0, 0, 0, 0, 1, 0, 0, 0, 0, 0, 0]\n",
      "\n",
      "17903292 1.0 -1\n",
      "Phrase('17903292', 1, 383, 0, u'Physical location (Mb)')\n",
      "(Mb) Physical location (Mb)\n",
      "[0, 0, 0, 0, 0, 1, 0, 0, 0, 0, 0, 0]\n",
      "\n",
      "17903292 1.0 -1\n",
      "Phrase('17903292', 2, 5, 0, u'Mean p-value (GEE)')\n",
      "(GEE) Mean p-value (GEE)\n",
      "[0, 0, 0, 0, 0, 1, 0, 0, 0, 0, 0, 0]\n",
      "\n",
      "17903292 1.0 -1\n",
      "Phrase('17903292', 2, 6, 0, u'Mean p-value (FBAT)')\n",
      "(FBAT) Mean p-value (FBAT)\n",
      "[0, 0, 0, 0, 0, 1, 0, 0, 0, 0, 0, 0]\n",
      "\n",
      "17903292 1.0 -1\n",
      "Phrase('17903292', 3, 7, 0, u'P_value (GEE)')\n",
      "(GEE) P_value (GEE)\n",
      "[0, 0, 0, 0, 0, 1, 0, 0, 0, 0, 0, 0]\n",
      "\n",
      "17903297 1.0 -1\n",
      "Phrase('17903297', 0, 87, 0, u'Boston Naming Test (Nam)')\n",
      "(Nam) Naming Test (Nam)\n",
      "[0, 0, 0, 1, 0, 0, 0, 0, 0, 0, 0, 0]\n",
      "\n",
      "17903297 1.0 -1\n",
      "Phrase('17903297', 0, 93, 0, u'Similarities (Sim)')\n",
      "(Sim) Similarities (Sim)\n",
      "[0, 0, 0, 1, 0, 1, 1, 0, 0, 0, 0, 0]\n",
      "\n",
      "17903298 -1.0 1\n",
      "Phrase('17903298', 0, 18, 0, u'28 yr time averaged FPG (tFPG)')\n",
      "(tFPG) time averaged FPG (tFPG)\n",
      "[0, 0, 0, 0, 0, 0, 0, -1, 0, 0, 0, 0]\n",
      "\n",
      "17903300 1.0 -1\n",
      "Phrase('17903300', 1, 3, 0, u'Physical Position (Mb)')\n",
      "(Mb) Physical Position (Mb)\n",
      "[0, 0, 0, 0, 0, 1, 0, 0, 0, 0, 0, 0]\n",
      "\n",
      "17903300 1.0 -1\n",
      "Phrase('17903300', 1, 190, 0, u'Physical Location (Mb)')\n",
      "(Mb) Physical Location (Mb)\n",
      "[0, 0, 0, 0, 0, 1, 0, 0, 0, 0, 0, 0]\n",
      "\n",
      "17903301 -1.0 1\n",
      "Phrase('17903301', 0, 50, 0, u'Stage 2 Exercise diastolic blood pressure (DBP)')\n",
      "(DBP) blood pressure (DBP)\n",
      "[0, 0, 0, 0, 0, 0, 0, -1, 0, 0, 0, 0]\n",
      "\n",
      "17903292 1.0 -1\n",
      "Sentence(Document('17903292', Corpus (GWAS Text Corpus)), 3, u'We tested for association between the Affymetrix GeneChip Human Mapping 100K single nucleotide polymorphism (SNP) set and measures of kidney function and endocrine traits.')\n",
      "(SNP) single nucleotide polymorphism (SNP)\n",
      "[1, 1, 0, 0, 0, 0, 0, 0, 0, 0, 0, 0]\n",
      "\n",
      "17903294 -1.0 1\n",
      "Sentence(Document('17903294', Corpus (GWAS Text Corpus)), 1, u'Increased circulating levels of hemostatic factors as well as anemia have been associated with increased risk of cardiovascular disease (CVD).')\n",
      "(CVD) cardiovascular disease (CVD)\n",
      "[0, 0, 0, 0, 0, 0, 0, -1, 0, 0, 0, 0]\n",
      "\n",
      "17903294 1.0 -1\n",
      "Sentence(Document('17903294', Corpus (GWAS Text Corpus)), 3, u'We sought to confirm known putative loci and identify novel loci that may influence either trait in genome-wide association and linkage analyses using the Affymetrix GeneChip 100K single nucleotide polymorphism (SNP) set.')\n",
      "(SNP) single nucleotide polymorphism (SNP)\n",
      "[1, 1, 0, 0, 0, 0, 0, 0, 0, 0, 0, 0]\n",
      "\n",
      "17903294 -1.0 1\n",
      "Sentence(Document('17903294', Corpus (GWAS Text Corpus)), 14, u'Elevated circulating levels of hemostatic factors, such as fibrinogen [1-3], plasminogen activator inhibitor (PAI-1) [4,5], von Willebrand factor (vWF) [6], tissue plasminogen activator (tPA) [4,5,7], factor VII (FVII) [8], and D-dimer [9,10] are linked to the development of atherothrombosis and are risk markers for coronary heart disease (CHD), stroke and other cardiovascular disease (CVD) events.')\n",
      "(CVD) cardiovascular disease (CVD)\n",
      "[0, 0, 0, 0, 0, 0, 0, -1, 0, 0, 0, 0]\n",
      "\n",
      "17903294 1.0 -1\n",
      "Sentence(Document('17903294', Corpus (GWAS Text Corpus)), 21, u'The recent completion of a genome-wide scan using the Affymetrix GeneChip Human Mapping 100K single nucleotide polymorphism (SNP) set on participants in the Framingham Heart Study offered the opportunity to conduct a genome-wide association study (GWAS) and linkage scan for variants that influence hemostatic factors and hematological phenotypes.')\n",
      "(SNP) single nucleotide polymorphism (SNP)\n",
      "[1, 1, 0, 0, 0, 0, 0, 0, 0, 0, 0, 0]\n",
      "\n",
      "17903300 -1.0 1\n",
      "Sentence(Document('17903300', Corpus (GWAS Text Corpus)), 1, u'Obesity is related to multiple cardiovascular disease (CVD) risk factors as well as CVD and has a strong familial component.')\n",
      "(CVD) cardiovascular disease (CVD)\n",
      "[0, 0, 0, 0, 0, 0, 0, -1, 0, 0, 0, 0]\n",
      "\n",
      "17903301 1.0 -1\n",
      "Sentence(Document('17903301', Corpus (GWAS Text Corpus)), 7, u'Generalized estimating equations (GEE), family-based association tests (FBAT) and variance-components linkage were used to relate multivariable-adjusted trait residuals to 70,987 SNPs (Human 100K GeneChip, Affymetrix) restricted to autosomal SNPs with minor allele frequency \\u22650.10, genotype call rate \\u22650.80, and Hardy-Weinberg equilibrium p \\u2265 0.001.')\n",
      "(GEE) Generalized estimating equations (GEE)\n",
      "[1, 1, 0, 1, 0, 0, 1, 0, 0, 0, 0, 0]\n",
      "\n",
      "17903304 1.0 -1\n",
      "Sentence(Document('17903304', Corpus (GWAS Text Corpus)), 2, u'In many industrialized countries, cardiovascular disease (CVD) claims more lives each year than any other disease.')\n",
      "(CVD) cardiovascular disease (CVD)\n",
      "[0, 0, 0, 0, 0, 0, 1, 0, 0, 0, 0, 0]\n",
      "\n"
     ]
    }
   ],
   "source": [
    "text_preds = text_learner.predict_wmv(text_c)\n",
    "text_acronyms = [spairtxt2uid(c) for (c, p) in zip(text_c, text_preds) if p == 1]\n",
    "print text_acronyms[:10]\n",
    "mislabeled_cand = [(c,p, annotations.get(spair2uid(c), None)) for c, p in zip(text_c, text_preds) if p != annotations.get(spair2uid(c), p)]\n",
    "for (c,p,g) in mislabeled_cand[:50]:\n",
    "    _, phen, acro = spairtxt2uid(c)\n",
    "    print c.span0.context.document.name, p, g\n",
    "    print c.span0.context    \n",
    "    print c.span0.get_span(), c.span1.get_span()\n",
    "    print [LF(c) for LF in LF_txt]\n",
    "    print"
   ]
  },
  {
   "cell_type": "code",
   "execution_count": 211,
   "metadata": {
    "collapsed": false
   },
   "outputs": [],
   "source": [
    "# punc=','\n",
    "# for (c) in (text_c):\n",
    "#     if c.span0.context.document.name != '17903294': continue\n",
    "#     _, phen, acro = spairtxt2uid(c)\n",
    "#     print c.span0.context.document.name\n",
    "#     print c.span0.context    \n",
    "#     print c.span0.get_span(), c.span1.get_span()\n",
    "#     print [LF(c) for LF in LF_txt]\n",
    "#     print"
   ]
  },
  {
   "cell_type": "markdown",
   "metadata": {
    "collapsed": true
   },
   "source": [
    "### Collect all the candidates"
   ]
  },
  {
   "cell_type": "code",
   "execution_count": 209,
   "metadata": {
    "collapsed": false
   },
   "outputs": [
    {
     "name": "stdout",
     "output_type": "stream",
     "text": [
      "Applying LFs...\n",
      "Featurizing...\n",
      "[('17903293', u'CD40L', u'CD40 Ligand, serum & plasma'), ('17903293', u'CRP', u'C-reactive protein'), ('17903293', u'ICAM1', u'Intercellular adhesion molecule-1'), ('17903293', u'IL6', u'Interleukin-6'), ('17903293', u'IsoCrUrine', u'Urinary isoprostanes/creatinine'), ('17903293', u'MCP1', u'Monocyte chemoattractant protein-1'), ('17903293', u'MPO', u'Myeloperoxidase'), ('17903293', u'OPG', u'Osteoprotegerin'), ('17903293', u'Pselectin', u'P-selectin'), ('17903293', u'TNFA', u'Tumor necrosis factor alpha')]\n",
      "Applying LFs...\n",
      "Featurizing...\n",
      "[('17903292', u'GFR', u'Glomerular Filtration Rate'), ('17903292', u'TSH', u'Thyroid stimulation hormone'), ('17903292', u'DHEAS', u'Dehydroepiandrosterone sulfate'), ('17903292', u'Mb', u'Physical Location'), ('17903292', u'Mb', u'Physical Location'), ('17903292', u'Mb', u'Physical location'), ('17903292', u'GEE', u'Mean p-value'), ('17903292', u'FBAT', u'Mean p-value'), ('17903292', u'GEE', u'P_value'), ('17903294', u'min-max', u'Sample size')]\n"
     ]
    }
   ],
   "source": [
    "table_preds = learner.predict_wmv(candidates)\n",
    "table_acronyms = [spair2uid(c) for (c, p) in zip(candidates, preds) if p == 1]\n",
    "print table_acronyms[:10]\n",
    "\n",
    "text_preds = text_learner.predict_wmv(text_c)\n",
    "text_acronyms = [spairtxt2uid(c) for (c, p) in zip(text_c, text_preds) if p == 1]\n",
    "print text_acronyms[:10]\n",
    "\n",
    "acronyms = table_acronyms + text_acronyms"
   ]
  },
  {
   "cell_type": "code",
   "execution_count": 210,
   "metadata": {
    "collapsed": false
   },
   "outputs": [],
   "source": [
    "# store relations to annotate\n",
    "with open('acronyms.extracted.tsv', 'w') as f:\n",
    "    for doc_id, str1, str2 in acronyms:\n",
    "        try:\n",
    "            out = u'{}\\t{}\\t{}\\n'.format(doc_id, unicode(str2), str1)\n",
    "            f.write(out.encode(\"UTF-8\"))\n",
    "        except:\n",
    "            print 'ERROR:', str1, str2"
   ]
  },
  {
   "cell_type": "code",
   "execution_count": null,
   "metadata": {
    "collapsed": true
   },
   "outputs": [],
   "source": []
  },
  {
   "cell_type": "code",
   "execution_count": null,
   "metadata": {
    "collapsed": true
   },
   "outputs": [],
   "source": []
  }
 ],
 "metadata": {
  "kernelspec": {
   "display_name": "Python 2",
   "language": "python",
   "name": "python2"
  },
  "language_info": {
   "codemirror_mode": {
    "name": "ipython",
    "version": 2
   },
   "file_extension": ".py",
   "mimetype": "text/x-python",
   "name": "python",
   "nbconvert_exporter": "python",
   "pygments_lexer": "ipython2",
   "version": "2.7.2"
  }
 },
 "nbformat": 4,
 "nbformat_minor": 0
}
