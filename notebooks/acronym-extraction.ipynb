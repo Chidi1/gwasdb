{
 "cells": [
  {
   "cell_type": "markdown",
   "metadata": {},
   "source": [
    "# Phenotype acronym extraction"
   ]
  },
  {
   "cell_type": "code",
   "execution_count": 26,
   "metadata": {
    "collapsed": false
   },
   "outputs": [
    {
     "name": "stdout",
     "output_type": "stream",
     "text": [
      "The autoreload extension is already loaded. To reload it, use:\n",
      "  %reload_ext autoreload\n"
     ]
    }
   ],
   "source": [
    "%load_ext autoreload\n",
    "%autoreload 2\n",
    "\n",
    "import sys\n",
    "import cPickle\n",
    "import numpy as np\n",
    "\n",
    "# import snorkel and gwasdb\n",
    "sys.path.append('../snorkel')\n",
    "sys.path.append('../src')\n",
    "sys.path.append('../src/crawler')\n",
    "\n",
    "# set up paths\n",
    "abstract_dir = '../data/db/papers'\n",
    "\n",
    "# set up matplotlib\n",
    "import matplotlib\n",
    "%matplotlib inline\n",
    "matplotlib.rcParams['figure.figsize'] = (12,4)"
   ]
  },
  {
   "cell_type": "markdown",
   "metadata": {},
   "source": [
    "## Load corpus"
   ]
  },
  {
   "cell_type": "code",
   "execution_count": 27,
   "metadata": {
    "collapsed": false
   },
   "outputs": [],
   "source": [
    "from snorkel.parser import XMLDocParser\n",
    "from extractor.parser import UnicodeXMLTableDocParser\n",
    "\n",
    "xml_parser = UnicodeXMLTableDocParser(\n",
    "    path=abstract_dir,\n",
    "    doc='./*',\n",
    "    text='.//table',\n",
    "    id='.//article-id[@pub-id-type=\"pmid\"]/text()',\n",
    "    keep_xml_tree=True)"
   ]
  },
  {
   "cell_type": "code",
   "execution_count": 28,
   "metadata": {
    "collapsed": false
   },
   "outputs": [
    {
     "name": "stdout",
     "output_type": "stream",
     "text": [
      "CPU times: user 54.7 s, sys: 2.99 s, total: 57.7 s\n",
      "Wall time: 1min 24s\n"
     ]
    }
   ],
   "source": [
    "from snorkel.parser import CorpusParser, OmniParser\n",
    "import cPickle\n",
    "\n",
    "table_parser = OmniParser()\n",
    "\n",
    "corpus_name = 'gwas-table-corpus.pkl'\n",
    "try:\n",
    "    with open(corpus_name,\"r\") as pkl:\n",
    "        corpus = cPickle.load(pkl)\n",
    "except:\n",
    "    cp = CorpusParser(xml_parser, table_parser, max_docs=15)\n",
    "    %time corpus = cp.parse_corpus(name='GWAS Corpus')\n",
    "    # pickling currently doesn't work...\n",
    "#     with open(corpus_name,\"w\") as pkl:\n",
    "#         corpus = cPickle.dump(corpus, pkl)"
   ]
  },
  {
   "cell_type": "markdown",
   "metadata": {},
   "source": [
    "## Candidate extraction"
   ]
  },
  {
   "cell_type": "markdown",
   "metadata": {
    "collapsed": true
   },
   "source": [
    "### From tables"
   ]
  },
  {
   "cell_type": "code",
   "execution_count": 29,
   "metadata": {
    "collapsed": false
   },
   "outputs": [],
   "source": [
    "from snorkel.matchers import DictionaryMatch, Union, CellNameMatcher, CellDictNameMatcher\n",
    "from snorkel.candidates import EntityExtractor\n",
    "from snorkel.candidates import TableNgrams, CellSpace\n",
    "\n",
    "# Define a candidate space\n",
    "cells = CellSpace()\n",
    "\n",
    "# Create a list of possible words that could denote phenotypes\n",
    "acro_words = ['abbreviation', 'acronym']\n",
    "phen_words = ['trait', 'phenotype']\n",
    "\n",
    "# Define matchers\n",
    "phen_matcher = CellDictNameMatcher(axis='col', d=phen_words, n_max=3, ignore_case=True)\n",
    "acro_matcher = CellDictNameMatcher(axis='col', d=acro_words, n_max=3, ignore_case=True)\n",
    "\n",
    "phen_extractor = EntityExtractor(cells, phen_matcher)\n",
    "acro_extractor = EntityExtractor(cells, acro_matcher)"
   ]
  },
  {
   "cell_type": "code",
   "execution_count": 30,
   "metadata": {
    "collapsed": false
   },
   "outputs": [],
   "source": [
    "from snorkel.candidates import AlignedTableRelationExtractor\n",
    "relation_extractor = AlignedTableRelationExtractor(phen_extractor, acro_extractor, axis='row', induced=False)\n",
    "tables = corpus.get_tables()"
   ]
  },
  {
   "cell_type": "code",
   "execution_count": 31,
   "metadata": {
    "collapsed": false
   },
   "outputs": [
    {
     "name": "stdout",
     "output_type": "stream",
     "text": [
      "CPU times: user 23min 2s, sys: 11.2 s, total: 23min 13s\n",
      "Wall time: 23min 20s\n",
      "58 relations extracted, e.g.\n",
      "SpanPair(Span(\"CD40 Ligand, serum & plasma\", context=None, chars=[0,26], words=[0,5]), Span(\"CD40L\", context=None, chars=[0,4], words=[0,0]))\n",
      "SpanPair(Span(\"2\", context=None, chars=[0,0], words=[0,0]), Span(\"CD40L\", context=None, chars=[0,4], words=[0,0]))\n",
      "SpanPair(Span(\"C-reactive protein\", context=None, chars=[0,17], words=[0,1]), Span(\"CRP\", context=None, chars=[0,2], words=[0,0]))\n",
      "SpanPair(Span(\"5\", context=None, chars=[0,0], words=[0,0]), Span(\"CRP\", context=None, chars=[0,2], words=[0,0]))\n",
      "SpanPair(Span(\"Intercellular adhesion molecule-1\", context=None, chars=[0,32], words=[0,2]), Span(\"ICAM1\", context=None, chars=[0,4], words=[0,0]))\n"
     ]
    }
   ],
   "source": [
    "%time candidates = relation_extractor.extract(tables, name='all')\n",
    "print \"%s relations extracted, e.g.\" % len(candidates)\n",
    "for cand in candidates[:5]: \n",
    "    print cand"
   ]
  },
  {
   "cell_type": "code",
   "execution_count": 32,
   "metadata": {
    "collapsed": false
   },
   "outputs": [
    {
     "name": "stdout",
     "output_type": "stream",
     "text": [
      "Table('17903293', 0) SpanPair(Span(\"CD40 Ligand, serum & plasma\", context=None, chars=[0,26], words=[0,5]), Span(\"CD40L\", context=None, chars=[0,4], words=[0,0]))\n",
      "Table('17903293', 0) SpanPair(Span(\"2\", context=None, chars=[0,0], words=[0,0]), Span(\"CD40L\", context=None, chars=[0,4], words=[0,0]))\n",
      "Table('17903293', 0) SpanPair(Span(\"C-reactive protein\", context=None, chars=[0,17], words=[0,1]), Span(\"CRP\", context=None, chars=[0,2], words=[0,0]))\n",
      "Table('17903293', 0) SpanPair(Span(\"5\", context=None, chars=[0,0], words=[0,0]), Span(\"CRP\", context=None, chars=[0,2], words=[0,0]))\n",
      "Table('17903293', 0) SpanPair(Span(\"Intercellular adhesion molecule-1\", context=None, chars=[0,32], words=[0,2]), Span(\"ICAM1\", context=None, chars=[0,4], words=[0,0]))\n"
     ]
    }
   ],
   "source": [
    "for cand in candidates[:5]: \n",
    "    print cand.span0.context.table, cand"
   ]
  },
  {
   "cell_type": "markdown",
   "metadata": {},
   "source": [
    "### From text"
   ]
  },
  {
   "cell_type": "code",
   "execution_count": 33,
   "metadata": {
    "collapsed": false
   },
   "outputs": [
    {
     "name": "stdout",
     "output_type": "stream",
     "text": [
      "CPU times: user 524 ms, sys: 145 ms, total: 668 ms\n",
      "Wall time: 8.12 s\n"
     ]
    }
   ],
   "source": [
    "from snorkel.parser import SentenceParser, CorpusParser\n",
    "from extractor.parser import UnicodeXMLDocParser, GWASXMLDocParser\n",
    "\n",
    "xml_parser = GWASXMLDocParser(\n",
    "    path=abstract_dir,\n",
    "    doc='./*',\n",
    "    title='.//front//article-title//text()',\n",
    "    abstract='.//abstract//p//text()',\n",
    "    par1='.//body/p[1]//text()',\n",
    "    id='.//article-id[@pub-id-type=\"pmid\"]/text()',\n",
    "    keep_xml_tree=True)\n",
    "\n",
    "sent_parser = SentenceParser()\n",
    "cp = CorpusParser(xml_parser, sent_parser, max_docs=15)\n",
    "%time text_corpus = cp.parse_corpus(name='GWAS Text Corpus')"
   ]
  },
  {
   "cell_type": "code",
   "execution_count": 34,
   "metadata": {
    "collapsed": false
   },
   "outputs": [],
   "source": [
    "from snorkel.candidates import Ngrams\n",
    "from snorkel.matchers import RegexMatchSpan\n",
    "from snorkel.candidates import EntityExtractor, RelationExtractor\n",
    "\n",
    "# Define a candidate space\n",
    "ngrams6 = Ngrams(n_max=6)\n",
    "ngrams3 = Ngrams(n_max=3)\n",
    "\n",
    "# Define matchers\n",
    "phen_matcher = RegexMatchSpan(rgx=r'.+ \\([a-zA-Z]{0,5}[\\);]')\n",
    "acro_matcher = RegexMatchSpan(rgx=r'\\([a-zA-Z]{0,5}[\\);]')\n",
    "\n",
    "# Extractors\n",
    "phen_txt_extractor = EntityExtractor(ngrams6, phen_matcher)\n",
    "acro_txt_extractor = EntityExtractor(ngrams3, acro_matcher)\n",
    "\n",
    "# Filtering function\n",
    "def overlap_filter_fn(span0, span1):\n",
    "    start0, end0 = span0.char_start, span0.char_end\n",
    "    start1, end1 = span1.char_start, span1.char_end\n",
    "    return True if start0 <= start1 <= end1 <= end0 else False\n",
    "\n",
    "# Relation extractor\n",
    "txt_tab_extractor = RelationExtractor(phen_txt_extractor, acro_txt_extractor, filter_fn=overlap_filter_fn)"
   ]
  },
  {
   "cell_type": "markdown",
   "metadata": {},
   "source": [
    "Extract acroynms from tables"
   ]
  },
  {
   "cell_type": "code",
   "execution_count": 35,
   "metadata": {
    "collapsed": false
   },
   "outputs": [
    {
     "name": "stdout",
     "output_type": "stream",
     "text": [
      "15369\n"
     ]
    },
    {
     "ename": "IndexError",
     "evalue": "list index out of range",
     "output_type": "error",
     "traceback": [
      "\u001b[0;31m---------------------------------------------------------------------------\u001b[0m",
      "\u001b[0;31mIndexError\u001b[0m                                Traceback (most recent call last)",
      "\u001b[0;32m<ipython-input-35-d22060ddb5bf>\u001b[0m in \u001b[0;36m<module>\u001b[0;34m()\u001b[0m\n\u001b[1;32m      2\u001b[0m \u001b[0;32mprint\u001b[0m \u001b[0mlen\u001b[0m\u001b[0;34m(\u001b[0m\u001b[0mS\u001b[0m\u001b[0;34m)\u001b[0m\u001b[0;34m\u001b[0m\u001b[0m\n\u001b[1;32m      3\u001b[0m \u001b[0mlong_S\u001b[0m \u001b[0;34m=\u001b[0m \u001b[0;34m[\u001b[0m\u001b[0ms\u001b[0m \u001b[0;32mfor\u001b[0m \u001b[0ms\u001b[0m \u001b[0;32min\u001b[0m \u001b[0mS\u001b[0m \u001b[0;32mif\u001b[0m \u001b[0;32mnot\u001b[0m \u001b[0ms\u001b[0m\u001b[0;34m.\u001b[0m\u001b[0mcell\u001b[0m\u001b[0;34m]\u001b[0m\u001b[0;34m\u001b[0m\u001b[0m\n\u001b[0;32m----> 4\u001b[0;31m \u001b[0;32mprint\u001b[0m \u001b[0mlong_S\u001b[0m\u001b[0;34m[\u001b[0m\u001b[0;36m0\u001b[0m\u001b[0;34m]\u001b[0m\u001b[0;34m\u001b[0m\u001b[0m\n\u001b[0m",
      "\u001b[0;31mIndexError\u001b[0m: list index out of range"
     ]
    }
   ],
   "source": [
    "S=corpus.get_phrases()\n",
    "print len(S)\n",
    "long_S = [s for s in S if not s.cell]\n",
    "print long_S[0]"
   ]
  },
  {
   "cell_type": "code",
   "execution_count": 39,
   "metadata": {
    "collapsed": false
   },
   "outputs": [
    {
     "name": "stdout",
     "output_type": "stream",
     "text": [
      "CPU times: user 1.1 s, sys: 260 ms, total: 1.36 s\n",
      "Wall time: 2 s\n",
      "347 candidates extracted from text in tables\n"
     ]
    }
   ],
   "source": [
    "# %time txt_tab_c = acro_txt_extractor.extract(corpus.get_sentences(), name='all')\n",
    "%time txt_tab_c = txt_tab_extractor.extract(corpus.get_phrases(), name='all')\n",
    "print len(txt_tab_c), 'candidates extracted from text in tables'"
   ]
  },
  {
   "cell_type": "markdown",
   "metadata": {},
   "source": [
    "Extract acroynms from abstracts"
   ]
  },
  {
   "cell_type": "code",
   "execution_count": 41,
   "metadata": {
    "collapsed": false
   },
   "outputs": [
    {
     "name": "stdout",
     "output_type": "stream",
     "text": [
      "CPU times: user 753 ms, sys: 16.2 ms, total: 770 ms\n",
      "Wall time: 781 ms\n",
      "169 candidates extracted from text in abstracts\n"
     ]
    }
   ],
   "source": [
    "%time txt_txt_c = txt_tab_extractor.extract(text_corpus.get_sentences(), name='all')\n",
    "print len(txt_txt_c), 'candidates extracted from text in abstracts'"
   ]
  },
  {
   "cell_type": "code",
   "execution_count": 38,
   "metadata": {
    "collapsed": false
   },
   "outputs": [],
   "source": [
    "for cand in txt_tab_c[:100]:\n",
    "    print cand.span0.context.document.name, cand"
   ]
  },
  {
   "cell_type": "markdown",
   "metadata": {
    "collapsed": true
   },
   "source": [
    "## Learning the correctness of relations"
   ]
  },
  {
   "cell_type": "code",
   "execution_count": 61,
   "metadata": {
    "collapsed": false
   },
   "outputs": [],
   "source": [
    "from snorkel.candidates import UnionExtractor\n",
    "\n",
    "contexts = [corpus.get_tables(), corpus.get_sentences(), text_corpus.get_sentences()]\n",
    "extractors = [relation_extractor, txt_tab_extractor, txt_tab_extractor]\n",
    "joint_extractor = UnionExtractor(extractor_list=extractors, context_list=contexts)\n",
    "all_c = joint_extractor.union()\n",
    "print len(all_c)"
   ]
  },
  {
   "cell_type": "markdown",
   "metadata": {},
   "source": [
    "### Creating a gold set"
   ]
  },
  {
   "cell_type": "markdown",
   "metadata": {},
   "source": [
    "To create a gold set, we save all extracted relations into a csv file. We annotate it manually, and save the result to a second file. It contains pairs of phenotype and rsid strings; if that file exists, we take these as gold truth."
   ]
  },
  {
   "cell_type": "code",
   "execution_count": 21,
   "metadata": {
    "collapsed": false
   },
   "outputs": [
    {
     "ename": "NameError",
     "evalue": "name 'all_c' is not defined",
     "output_type": "error",
     "traceback": [
      "\u001b[0;31m---------------------------------------------------------------------------\u001b[0m",
      "\u001b[0;31mNameError\u001b[0m                                 Traceback (most recent call last)",
      "\u001b[0;32m<ipython-input-21-d1ba58fb1031>\u001b[0m in \u001b[0;36m<module>\u001b[0;34m()\u001b[0m\n\u001b[1;32m      1\u001b[0m \u001b[0;31m# store relations to annotate\u001b[0m\u001b[0;34m\u001b[0m\u001b[0;34m\u001b[0m\u001b[0m\n\u001b[1;32m      2\u001b[0m \u001b[0;32mwith\u001b[0m \u001b[0mopen\u001b[0m\u001b[0;34m(\u001b[0m\u001b[0;34m'acronyms.unannotated.tsv'\u001b[0m\u001b[0;34m,\u001b[0m \u001b[0;34m'w'\u001b[0m\u001b[0;34m)\u001b[0m \u001b[0;32mas\u001b[0m \u001b[0mf\u001b[0m\u001b[0;34m:\u001b[0m\u001b[0;34m\u001b[0m\u001b[0m\n\u001b[0;32m----> 3\u001b[0;31m     \u001b[0;32mfor\u001b[0m \u001b[0mspan_pair\u001b[0m \u001b[0;32min\u001b[0m \u001b[0mall_c\u001b[0m\u001b[0;34m:\u001b[0m\u001b[0;34m\u001b[0m\u001b[0m\n\u001b[0m\u001b[1;32m      4\u001b[0m         \u001b[0mdoc_id\u001b[0m \u001b[0;34m=\u001b[0m \u001b[0mspan_pair\u001b[0m\u001b[0;34m.\u001b[0m\u001b[0mspan0\u001b[0m\u001b[0;34m.\u001b[0m\u001b[0mcontext\u001b[0m\u001b[0;34m.\u001b[0m\u001b[0mdocument\u001b[0m\u001b[0;34m.\u001b[0m\u001b[0mname\u001b[0m\u001b[0;34m\u001b[0m\u001b[0m\n\u001b[1;32m      5\u001b[0m         \u001b[0mstr1\u001b[0m \u001b[0;34m=\u001b[0m \u001b[0mspan_pair\u001b[0m\u001b[0;34m.\u001b[0m\u001b[0mspan0\u001b[0m\u001b[0;34m.\u001b[0m\u001b[0mget_span\u001b[0m\u001b[0;34m(\u001b[0m\u001b[0;34m)\u001b[0m\u001b[0;34m\u001b[0m\u001b[0m\n",
      "\u001b[0;31mNameError\u001b[0m: name 'all_c' is not defined"
     ]
    }
   ],
   "source": [
    "# store relations to annotate\n",
    "with open('acronyms.unannotated.tsv', 'w') as f:\n",
    "    for span_pair in all_c:\n",
    "        doc_id = span_pair.span0.context.document.name\n",
    "        str1 = span_pair.span0.get_span()\n",
    "        str2 = span_pair.span1.get_span()\n",
    "        try:\n",
    "            f.write('%s\\t%s\\t%s\\n' % (doc_id, str1, str2))\n",
    "        except:\n",
    "            continue"
   ]
  },
  {
   "cell_type": "markdown",
   "metadata": {
    "collapsed": true
   },
   "source": [
    "We now load the results of our annotation"
   ]
  },
  {
   "cell_type": "code",
   "execution_count": 42,
   "metadata": {
    "collapsed": false
   },
   "outputs": [],
   "source": [
    "annotations = dict()\n",
    "with open('acronyms.anotated.txt') as f:\n",
    "    text = f.read()\n",
    "    for line in text.split('\\r'):\n",
    "        doc_id, str1, str2, res = line.strip().split('\\t')\n",
    "        res = 1 if int(res) == 1 else -1\n",
    "        annotations[(doc_id, str1, str2)] = res"
   ]
  },
  {
   "cell_type": "markdown",
   "metadata": {},
   "source": [
    "### Classifying table acronyms"
   ]
  },
  {
   "cell_type": "code",
   "execution_count": 43,
   "metadata": {
    "collapsed": false
   },
   "outputs": [
    {
     "name": "stdout",
     "output_type": "stream",
     "text": [
      "Building feature index...\n",
      "Extracting features...\n",
      "0/2579\n"
     ]
    }
   ],
   "source": [
    "from snorkel.features import TableNgramPairFeaturizer\n",
    "\n",
    "pkl_f = 'acro_table_feats.pkl'\n",
    "try:\n",
    "    with open(pkl_f, 'rb') as f:\n",
    "        featurizer = cPickle.load(f)\n",
    "except:\n",
    "    featurizer = TableNgramPairFeaturizer()\n",
    "    featurizer.fit_transform(candidates)"
   ]
  },
  {
   "cell_type": "code",
   "execution_count": 44,
   "metadata": {
    "collapsed": false
   },
   "outputs": [
    {
     "name": "stdout",
     "output_type": "stream",
     "text": [
      "Training set size: 30\n",
      "Gold set size: 28\n",
      "Positive labels in training set: 22\n",
      "Negative labels in training set: 7\n",
      "Positive labels in gold set: 14\n",
      "Negative labels in gold set: 14\n"
     ]
    }
   ],
   "source": [
    "def spair2uid(span_pair):\n",
    "    doc_id = span_pair.span0.context.document.name\n",
    "    str1 = span_pair.span0.get_span()\n",
    "    str2 = span_pair.span1.get_span()\n",
    "    return (doc_id, str1, str2)\n",
    "\n",
    "# Split into train and test set\n",
    "training_candidates = []\n",
    "gold_candidates     = []\n",
    "gold_labels         = []\n",
    "n_half = len(candidates)/2\n",
    "for c in candidates[:n_half]:\n",
    "    uid = spair2uid(c)\n",
    "    if uid in annotations:\n",
    "        gold_candidates.append(c)\n",
    "        gold_labels.append(annotations[uid])\n",
    "    else:\n",
    "        training_candidates.append(c)\n",
    "training_candidates.extend(candidates[n_half:])\n",
    "gold_labels = np.array(gold_labels)\n",
    "print \"Training set size: %s\" % len(training_candidates)\n",
    "print \"Gold set size: %s\" % len(gold_candidates)\n",
    "print \"Positive labels in training set: %s\" % len([c for c in training_candidates if annotations.get(spair2uid(c),0)==1])\n",
    "print \"Negative labels in training set: %s\" % len([c for c in training_candidates if annotations.get(spair2uid(c),0)==-1])\n",
    "print \"Positive labels in gold set: %s\" % len([c for c in gold_candidates if annotations[spair2uid(c)]==1])\n",
    "print \"Negative labels in gold set: %s\" % len([c for c in gold_candidates if annotations[spair2uid(c)]==-1])"
   ]
  },
  {
   "cell_type": "code",
   "execution_count": 45,
   "metadata": {
    "collapsed": true
   },
   "outputs": [],
   "source": [
    "def LF1_digits(m):\n",
    "    txt = m.span0.get_span()\n",
    "    frac_num = len([ch for ch in txt if ch.isdigit()]) / float(len(txt))\n",
    "    return -1 if frac_num > 0.5 else +1\n",
    "def LF1_short(m):\n",
    "    txt = m.span0.get_span()\n",
    "    return -1 if len(txt) < 5 else 0\n",
    "\n",
    "LF_tables = [LF1_digits, LF1_short]"
   ]
  },
  {
   "cell_type": "code",
   "execution_count": 46,
   "metadata": {
    "collapsed": false
   },
   "outputs": [
    {
     "name": "stderr",
     "output_type": "stream",
     "text": [
      "/Library/Python/2.7/site-packages/matplotlib/__init__.py:1155: UserWarning:  This call to matplotlib.use() has no effect\n",
      "because the backend has already been chosen;\n",
      "matplotlib.use() must be called *before* pylab, matplotlib.pyplot,\n",
      "or matplotlib.backends is imported for the first time.\n",
      "\n",
      "  warnings.warn(_use_error_msg)\n"
     ]
    },
    {
     "name": "stdout",
     "output_type": "stream",
     "text": [
      "Applying LFs...\n",
      "Featurizing...\n",
      "Building feature index...\n",
      "Extracting features...\n",
      "0/1926\n",
      "============================================================\n",
      "LF Summary Statistics: 2 LFs applied to 30 candidates\n",
      "------------------------------------------------------------\n",
      "Coverage (candidates w/ > 0 labels):\t\t100.00%\n",
      "Overlap (candidates w/ > 1 labels):\t\t23.33%\n",
      "Conflict (candidates w/ conflicting labels):\t0.00%\n",
      "============================================================\n"
     ]
    }
   ],
   "source": [
    "from snorkel.snorkel import TrainingSet\n",
    "from snorkel.features import NgramFeaturizer\n",
    "\n",
    "training_set = TrainingSet(training_candidates, LF_tables, featurizer=TableNgramPairFeaturizer())"
   ]
  },
  {
   "cell_type": "code",
   "execution_count": 47,
   "metadata": {
    "collapsed": false
   },
   "outputs": [
    {
     "data": {
      "text/plain": [
       "array([[<matplotlib.axes.AxesSubplot object at 0x12885efd0>]], dtype=object)"
      ]
     },
     "execution_count": 47,
     "metadata": {},
     "output_type": "execute_result"
    },
    {
     "data": {
      "image/png": "[encoded data removed]",
      "text/plain": [
       "<matplotlib.figure.Figure at 0x1273c9f50>"
      ]
     },
     "metadata": {},
     "output_type": "display_data"
    }
   ],
   "source": [
    "lf_stats = training_set.lf_stats()\n",
    "lf_stats[:5]\n",
    "lf_stats.hist(\"coverage\")"
   ]
  },
  {
   "cell_type": "code",
   "execution_count": 48,
   "metadata": {
    "collapsed": false
   },
   "outputs": [
    {
     "name": "stdout",
     "output_type": "stream",
     "text": [
      "============================================================\n",
      "Testing mu = 1.00e-05, lf_w0 = 1.00e+00\n",
      "============================================================\n",
      "Begin training for rate=0.01, mu=1e-05\n",
      "\tLearning epoch = 0\tGradient mag. = 0.030888\n",
      "\tLearning epoch = 250\tGradient mag. = 0.084110\n",
      "\tLearning epoch = 500\tGradient mag. = 0.211097\n",
      "\tLearning epoch = 750\tGradient mag. = 0.275662\n",
      "Final gradient magnitude for rate=0.01, mu=1e-05: 0.282\n",
      "Applying LFs...\n",
      "Featurizing...\n",
      "============================================================\n",
      "Testing mu = 1.00e-05, lf_w0 = 2.00e+00\n",
      "============================================================\n",
      "Begin training for rate=0.01, mu=1e-05\n",
      "\tLearning epoch = 0\tGradient mag. = 0.061684\n",
      "\tLearning epoch = 250\tGradient mag. = 0.158546\n",
      "\tLearning epoch = 500\tGradient mag. = 0.277430\n",
      "\tLearning epoch = 750\tGradient mag. = 0.284230\n",
      "Final gradient magnitude for rate=0.01, mu=1e-05: 0.294\n",
      "============================================================\n",
      "Testing mu = 1.00e-07, lf_w0 = 1.00e+00\n",
      "============================================================\n",
      "Begin training for rate=0.01, mu=1e-07\n",
      "\tLearning epoch = 0\tGradient mag. = 0.030888\n",
      "\tLearning epoch = 250\tGradient mag. = 0.084282\n",
      "\tLearning epoch = 500\tGradient mag. = 0.211653\n",
      "\tLearning epoch = 750\tGradient mag. = 0.275691\n",
      "Final gradient magnitude for rate=0.01, mu=1e-07: 0.282\n",
      "============================================================\n",
      "Testing mu = 1.00e-07, lf_w0 = 2.00e+00\n",
      "============================================================\n",
      "Begin training for rate=0.01, mu=1e-07\n",
      "\tLearning epoch = 0\tGradient mag. = 0.061684\n",
      "\tLearning epoch = 250\tGradient mag. = 0.158704\n",
      "\tLearning epoch = 500\tGradient mag. = 0.277446\n",
      "\tLearning epoch = 750\tGradient mag. = 0.284270\n",
      "Final gradient magnitude for rate=0.01, mu=1e-07: 0.294\n"
     ]
    }
   ],
   "source": [
    "from snorkel.snorkel import Learner\n",
    "import snorkel.learning\n",
    "from snorkel.learning import LogReg\n",
    "\n",
    "learner = Learner(training_set, model=LogReg())\n",
    "\n",
    "# Splitting into CV and test set\n",
    "n_half = len(gold_candidates)/2\n",
    "test_candidates = gold_candidates[:n_half]\n",
    "test_labels     = gold_labels[:n_half]\n",
    "cv_candidates   = gold_candidates[n_half:]\n",
    "cv_labels       = gold_labels[n_half:]\n",
    "\n",
    "from snorkel.learning_utils import GridSearch\n",
    "gs       = GridSearch(learner, ['mu', 'lf_w0'], [[1e-5, 1e-7],[1.0,2.0]])\n",
    "gs_stats = gs.fit(cv_candidates, cv_labels)"
   ]
  },
  {
   "cell_type": "code",
   "execution_count": 49,
   "metadata": {
    "collapsed": false
   },
   "outputs": [
    {
     "data": {
      "text/html": [
       "<div style=\"max-height:1000px;max-width:1500px;overflow:auto;\">\n",
       "<table border=\"1\" class=\"dataframe\">\n",
       "  <thead>\n",
       "    <tr style=\"text-align: right;\">\n",
       "      <th></th>\n",
       "      <th>mu</th>\n",
       "      <th>lf_w0</th>\n",
       "      <th>Prec.</th>\n",
       "      <th>Rec.</th>\n",
       "      <th>F1</th>\n",
       "    </tr>\n",
       "  </thead>\n",
       "  <tbody>\n",
       "    <tr>\n",
       "      <th>0</th>\n",
       "      <td> 0.00001</td>\n",
       "      <td> 1</td>\n",
       "      <td> 1</td>\n",
       "      <td> 1</td>\n",
       "      <td> 1</td>\n",
       "    </tr>\n",
       "    <tr>\n",
       "      <th>1</th>\n",
       "      <td> 0.00001</td>\n",
       "      <td> 2</td>\n",
       "      <td> 1</td>\n",
       "      <td> 1</td>\n",
       "      <td> 1</td>\n",
       "    </tr>\n",
       "    <tr>\n",
       "      <th>2</th>\n",
       "      <td> 0.00000</td>\n",
       "      <td> 1</td>\n",
       "      <td> 1</td>\n",
       "      <td> 1</td>\n",
       "      <td> 1</td>\n",
       "    </tr>\n",
       "    <tr>\n",
       "      <th>3</th>\n",
       "      <td> 0.00000</td>\n",
       "      <td> 2</td>\n",
       "      <td> 1</td>\n",
       "      <td> 1</td>\n",
       "      <td> 1</td>\n",
       "    </tr>\n",
       "  </tbody>\n",
       "</table>\n",
       "<p>4 rows × 5 columns</p>\n",
       "</div>"
      ],
      "text/plain": [
       "        mu  lf_w0  Prec.  Rec.  F1\n",
       "0  0.00001      1      1     1   1\n",
       "1  0.00001      2      1     1   1\n",
       "2  0.00000      1      1     1   1\n",
       "3  0.00000      2      1     1   1\n",
       "\n",
       "[4 rows x 5 columns]"
      ]
     },
     "execution_count": 49,
     "metadata": {},
     "output_type": "execute_result"
    }
   ],
   "source": [
    "gs_stats"
   ]
  },
  {
   "cell_type": "code",
   "execution_count": 50,
   "metadata": {
    "collapsed": false
   },
   "outputs": [
    {
     "name": "stdout",
     "output_type": "stream",
     "text": [
      "Applying LFs...\n",
      "Featurizing...\n",
      "========================================\n",
      "Test set size:\t14\n",
      "----------------------------------------\n",
      "Precision:\t1.0\n",
      "Recall:\t\t1.0\n",
      "F1 Score:\t1.0\n",
      "----------------------------------------\n",
      "TP: 7 | FP: 0 | TN: 7 | FN: 0\n",
      "========================================\n"
     ]
    }
   ],
   "source": [
    "learner.test_wmv(test_candidates, test_labels)"
   ]
  },
  {
   "cell_type": "code",
   "execution_count": 51,
   "metadata": {
    "collapsed": false
   },
   "outputs": [
    {
     "name": "stdout",
     "output_type": "stream",
     "text": [
      "Applying LFs...\n",
      "Featurizing...\n",
      "[('17903293', u'CD40 Ligand, serum & plasma', u'CD40L'), ('17903293', u'C-reactive protein', u'CRP'), ('17903293', u'Intercellular adhesion molecule-1', u'ICAM1'), ('17903293', u'Interleukin-6', u'IL6'), ('17903293', u'Urinary isoprostanes/creatinine', u'IsoCrUrine'), ('17903293', u'Monocyte chemoattractant protein-1', u'MCP1'), ('17903293', u'Myeloperoxidase', u'MPO'), ('17903293', u'Osteoprotegerin', u'OPG'), ('17903293', u'P-selectin', u'Pselectin'), ('17903293', u'Tumor necrosis factor alpha', u'TNFA')]\n"
     ]
    }
   ],
   "source": [
    "preds = learner.predict_wmv(candidates)\n",
    "resolved_acronyms = [spair2uid(c) for (c, p) in zip(candidates, preds) if p == 1]\n",
    "print resolved_acronyms[:10]"
   ]
  },
  {
   "cell_type": "code",
   "execution_count": 52,
   "metadata": {
    "collapsed": false
   },
   "outputs": [],
   "source": [
    "# mislabeled_cand = learner.mislabeled_test_candidates(test_candidates, test_labels)\n",
    "# for (c,p,g) in mislabeled_cand[:10]:\n",
    "#     print c.span0.context.document.name\n",
    "#     print c.span0.context    \n",
    "#     print c.span1.context\n",
    "#     print"
   ]
  },
  {
   "cell_type": "markdown",
   "metadata": {},
   "source": [
    "### Classifying sentence acronyms"
   ]
  },
  {
   "cell_type": "code",
   "execution_count": 70,
   "metadata": {
    "collapsed": false
   },
   "outputs": [
    {
     "name": "stdout",
     "output_type": "stream",
     "text": [
      "516\n"
     ]
    }
   ],
   "source": [
    "from snorkel.candidates import UnionExtractor\n",
    "\n",
    "contexts = [corpus.get_phrases(), text_corpus.get_sentences()]\n",
    "extractors = [txt_tab_extractor, txt_tab_extractor]\n",
    "joint_extractor = UnionExtractor(extractor_list=extractors, context_list=contexts)\n",
    "text_c = joint_extractor.union()\n",
    "print len(text_c)"
   ]
  },
  {
   "cell_type": "code",
   "execution_count": 71,
   "metadata": {
    "collapsed": true
   },
   "outputs": [],
   "source": [
    "# helpers\n",
    "def spairtxt2uid(span_pair):\n",
    "    doc_id = span_pair.span0.context.document.name\n",
    "    str1 = span_pair.span0.get_span()\n",
    "    str2 = span_pair.span1.get_span()\n",
    "    acro = str2[1:-1]\n",
    "    phen = str1.split(' (')[0]\n",
    "    return (doc_id, phen, acro)"
   ]
  },
  {
   "cell_type": "markdown",
   "metadata": {},
   "source": [
    "We really trust the first stage, so if an acronym has been resolved there, remove it from this stage"
   ]
  },
  {
   "cell_type": "code",
   "execution_count": 72,
   "metadata": {
    "collapsed": false
   },
   "outputs": [
    {
     "name": "stdout",
     "output_type": "stream",
     "text": [
      "17903292 Glomerular Filtration Rate GFR\n",
      "17903292 Glomerular Filtration Rate GFR\n",
      "17903292 Filtration Rate GFR\n",
      "17903292 Filtration Rate GFR\n",
      "17903292 Glomerular Filtration Rate GFR\n",
      "17903292 Rate GFR\n",
      "17903292 Rate GFR\n",
      "17903292 Filtration Rate GFR\n",
      "17903292 Rate GFR\n",
      "17903292 Thyroid stimulation hormone TSH\n",
      "17903292 Thyroid stimulation hormone TSH\n",
      "17903292 stimulation hormone TSH\n",
      "17903292 stimulation hormone TSH\n",
      "17903292 Thyroid stimulation hormone TSH\n",
      "17903292 hormone TSH\n",
      "17903292 hormone TSH\n",
      "17903292 stimulation hormone TSH\n",
      "17903292 hormone TSH\n",
      "17903292 Follicle stimulating hormone FSH\n",
      "17903292 stimulating hormone FSH\n",
      "17903292 hormone FSH\n",
      "17903292 Dehydroepiandrosterone sulfate DHEAS\n",
      "17903292 sulfate DHEAS\n",
      "17903292 on the web are GFRMV7 GFR\n",
      "17903292 (GFR), UAELNMV6 GFR\n",
      "17903292 (GFR), UAELNMV6 UAE\n",
      "17903292 CysC), and TSHMEAN34MV TSH\n",
      "17903292 , and TSHMEAN34MV TSH\n",
      "17903292 , and TSHMEAN34MV TSH\n",
      "17903292 the web are GFRMV7 GFR\n",
      "17903292 GFR), UAELNMV6 UAE\n",
      "17903292 ), and TSHMEAN34MV TSH\n",
      "17903292 and TSHMEAN34MV TSH\n",
      "17903292 and TSHMEAN34MV TSH\n",
      "17903292 web are GFRMV7 GFR\n",
      "17903292 ), UAELNMV6 UAE\n",
      "17903292 , and TSHMEAN34MV TSH\n",
      "17903292 TSHMEAN34MV TSH\n",
      "17903292 TSHMEAN34MV TSH\n",
      "17903292 are GFRMV7 GFR\n",
      "17903292 , UAELNMV6 UAE\n",
      "17903292 and TSHMEAN34MV TSH\n",
      "17903292 GFRMV7 GFR\n",
      "17903292 UAELNMV6 UAE\n",
      "17903292 TSHMEAN34MV TSH\n",
      "17903292 Physical Location Mb\n",
      "17903292 Physical Location Mb\n",
      "17903292 Location Mb\n",
      "17903292 Location Mb\n",
      "17903292 Physical Location Mb\n",
      "17903292 Location Mb\n",
      "17903292 on the web are GFRMV7 GFR\n",
      "17903292 (GFR), UAELNMV6 GFR\n",
      "17903292 (GFR), UAELNMV6 UAE\n",
      "17903292 CysC), and TSHMEAN34MV TSH\n",
      "17903292 , and TSHMEAN34MV TSH\n",
      "17903292 , and TSHMEAN34MV TSH\n",
      "17903292 the web are GFRMV7 GFR\n",
      "17903292 GFR), UAELNMV6 UAE\n",
      "17903292 ), and TSHMEAN34MV TSH\n",
      "17903292 and TSHMEAN34MV TSH\n",
      "17903292 and TSHMEAN34MV TSH\n",
      "17903292 web are GFRMV7 GFR\n",
      "17903292 ), UAELNMV6 UAE\n",
      "17903292 , and TSHMEAN34MV TSH\n",
      "17903292 TSHMEAN34MV TSH\n",
      "17903292 TSHMEAN34MV TSH\n",
      "17903292 are GFRMV7 GFR\n",
      "17903292 , UAELNMV6 UAE\n",
      "17903292 and TSHMEAN34MV TSH\n",
      "17903292 GFRMV7 GFR\n",
      "17903292 UAELNMV6 UAE\n",
      "17903292 TSHMEAN34MV TSH\n",
      "17903292 Physical Location Mb\n",
      "17903292 Physical Location Mb\n",
      "17903292 Location Mb\n",
      "17903292 Location Mb\n",
      "17903292 Physical Location Mb\n",
      "17903292 Location Mb\n",
      "17903292 Physical location Mb\n",
      "17903292 Physical location Mb\n",
      "17903292 location Mb\n",
      "17903292 location Mb\n",
      "17903292 Physical location Mb\n",
      "17903292 location Mb\n",
      "17903292 LOD 1.5 Lower\n",
      "17903292 1.5 Lower\n",
      "17903292 LOD 1.5 Upper\n",
      "17903292 1.5 Upper\n",
      "17903292 SNP rsID\n",
      "17903292 Mean p-value GEE\n",
      "17903292 Mean p-value GEE\n",
      "17903292 p-value GEE\n",
      "17903292 p-value GEE\n",
      "17903292 Mean p-value GEE\n",
      "17903292 p-value GEE\n",
      "17903292 Mean p-value FBAT\n",
      "17903292 p-value FBAT\n",
      "17903292 (CysC) and CKDMV7 CKD\n",
      "17903292 CysC) and CKDMV7 CKD\n",
      "17903292 ) and CKDMV7 CKD\n",
      "17903292 and CKDMV7 CKD\n",
      "17903292 CKDMV7 CKD\n",
      "17903292 P_value GEE\n",
      "17903292 P_value GEE\n",
      "17903292 P_value GEE\n",
      "17903293 Physical location bp\n",
      "17903293 Physical location bp\n",
      "17903293 location bp\n",
      "17903293 location bp\n",
      "17903293 Physical location bp\n",
      "17903293 location bp\n",
      "17903293 Physical location bp\n",
      "17903293 Physical location bp\n",
      "17903293 location bp\n",
      "17903293 location bp\n",
      "17903293 Physical location bp\n",
      "17903293 location bp\n",
      "17903293 Physical location bp\n",
      "17903293 Physical location bp\n",
      "17903293 location bp\n",
      "17903293 location bp\n",
      "17903293 Physical location bp\n",
      "17903293 location bp\n",
      "17903293 Physical location bp\n",
      "17903293 Physical location bp\n",
      "17903293 location bp\n",
      "17903293 location bp\n",
      "17903293 Physical location bp\n",
      "17903293 location bp\n",
      "17903294 Physical Position bp\n",
      "17903294 Physical Position bp\n",
      "17903294 Position bp\n",
      "17903294 Position bp\n",
      "17903294 Physical Position bp\n",
      "17903294 Position bp\n",
      "17903294 GEE p-val Rank\n",
      "17903294 p-val Rank\n",
      "17903294 Physical Position bp\n",
      "17903294 Physical Position bp\n",
      "17903294 Position bp\n",
      "17903294 Position bp\n",
      "17903294 Physical Position bp\n",
      "17903294 Position bp\n",
      "17903294 GEE Pval Rank\n",
      "17903294 Pval Rank\n",
      "17903294 Physical Position bp\n",
      "17903294 Physical Position bp\n",
      "17903294 Position bp\n",
      "17903294 Position bp\n",
      "17903294 Physical Position bp\n",
      "17903294 Position bp\n",
      "17903296 Gender N\n",
      "17903296 Gender N\n",
      "17903296 Gender N\n",
      "17903296 Bone mineral density BMD\n",
      "17903296 Bone mineral density BMD\n",
      "17903296 mineral density BMD\n",
      "17903296 mineral density BMD\n",
      "17903296 Bone mineral density BMD\n",
      "17903296 density BMD\n",
      "17903296 density BMD\n",
      "17903296 mineral density BMD\n",
      "17903296 density BMD\n",
      "17903296 Quantitative ultrasound QUS\n",
      "17903296 Quantitative ultrasound QUS\n",
      "17903296 ultrasound QUS\n",
      "17903296 ultrasound QUS\n",
      "17903296 Quantitative ultrasound QUS\n",
      "17903296 ultrasound QUS\n",
      "17903297 Cerebral Brain Volume ATCBV\n",
      "17903297 Brain Volume ATCBV\n",
      "17903297 Volume ATCBV\n",
      "17903297 Frontal Brain volume AFBV\n",
      "17903297 Brain volume AFBV\n",
      "17903297 volume AFBV\n",
      "17903297 Parietal Brain Volume APBV\n",
      "17903297 Brain Volume APBV\n",
      "17903297 Volume APBV\n",
      "17903297 Occipital Brain Volume AOBV\n",
      "17903297 Brain Volume AOBV\n",
      "17903297 Volume AOBV\n",
      "17903297 Temporal Brain volume ATBV\n",
      "17903297 Brain volume ATBV\n",
      "17903297 volume ATBV\n",
      "17903297 Hippocampal Volume AHPV\n",
      "17903297 Volume AHPV\n",
      "17903297 Boston Naming Test Nam\n",
      "17903297 Boston Naming Test Nam\n",
      "17903297 Naming Test Nam\n",
      "17903297 Naming Test Nam\n",
      "17903297 Boston Naming Test Nam\n",
      "17903297 Test Nam\n",
      "17903297 Test Nam\n",
      "17903297 Naming Test Nam\n",
      "17903297 Test Nam\n",
      "17903297 Similarities Sim\n",
      "17903297 Similarities Sim\n",
      "17903297 Similarities Sim\n",
      "17903297 Wide-Range Achievement Test WRAT\n",
      "17903297 Achievement Test WRAT\n",
      "17903297 Test WRAT\n",
      "17903298 Fasting plasma glucose FPG\n",
      "17903298 Fasting plasma glucose FPG\n",
      "17903298 plasma glucose FPG\n",
      "17903298 plasma glucose FPG\n",
      "17903298 Fasting plasma glucose FPG\n",
      "17903298 glucose FPG\n",
      "17903298 glucose FPG\n",
      "17903298 plasma glucose FPG\n",
      "17903298 glucose FPG\n",
      "17903298 time averaged FPG tFPG\n",
      "17903298 averaged FPG tFPG\n",
      "17903298 FPG tFPG\n",
      "17903300 Physical Position Mb\n",
      "17903300 Physical Position Mb\n",
      "17903300 Position Mb\n",
      "17903300 Position Mb\n",
      "17903300 Physical Position Mb\n",
      "17903300 Position Mb\n",
      "17903300 Physical Location Mb\n",
      "17903300 Physical Location Mb\n",
      "17903300 Location Mb\n",
      "17903300 Location Mb\n",
      "17903300 Physical Location Mb\n",
      "17903300 Location Mb\n",
      "17903300 Physical Position bp\n",
      "17903300 Physical Position bp\n",
      "17903300 Position bp\n",
      "17903300 Position bp\n",
      "17903300 Physical Position bp\n",
      "17903300 Position bp\n",
      "17903300 .5 Lower Bound bp\n",
      "17903300 .5 Lower Bound bp\n",
      "17903300 LOD1.5 Lower Bound bp\n",
      "17903300 Lower Bound bp\n",
      "17903300 Lower Bound bp\n",
      "17903300 .5 Lower Bound bp\n",
      "17903300 Bound bp\n",
      "17903300 Bound bp\n",
      "17903300 Lower Bound bp\n",
      "17903300 Bound bp\n",
      "17903300 .5 Upper Bound bp\n",
      "17903300 .5 Upper Bound bp\n",
      "17903300 LOD1.5 Upper Bound bp\n",
      "17903300 Upper Bound bp\n",
      "17903300 Upper Bound bp\n",
      "17903300 .5 Upper Bound bp\n",
      "17903300 Bound bp\n",
      "17903300 Bound bp\n",
      "17903300 Upper Bound bp\n",
      "17903300 Bound bp\n",
      "17903300 Physical Position bp\n",
      "17903300 Physical Position bp\n",
      "17903300 Position bp\n",
      "17903300 Position bp\n",
      "17903300 Physical Position bp\n",
      "17903300 Position bp\n",
      "17903300 Location Candidate SNP bp\n",
      "17903300 Location Candidate SNP bp\n",
      "17903300 Candidate SNP bp\n",
      "17903300 Candidate SNP bp\n",
      "17903300 Location Candidate SNP bp\n",
      "17903300 SNP bp\n",
      "17903300 SNP bp\n",
      "17903300 Candidate SNP bp\n",
      "17903300 SNP bp\n",
      "17903300 Location 100K SNP bp\n",
      "17903300 Location 100K SNP bp\n",
      "17903300 100K SNP bp\n",
      "17903300 100K SNP bp\n",
      "17903300 Location 100K SNP bp\n",
      "17903300 SNP bp\n",
      "17903300 SNP bp\n",
      "17903300 100K SNP bp\n",
      "17903300 SNP bp\n",
      "17903300 Physical Position bp\n",
      "17903300 Physical Position bp\n",
      "17903300 Position bp\n",
      "17903300 Position bp\n",
      "17903300 Physical Position bp\n",
      "17903300 Position bp\n",
      "17903301 LV mass LVM\n",
      "17903301 LV mass LVM\n",
      "17903301 mass LVM\n",
      "17903301 mass LVM\n",
      "17903301 LV mass LVM\n",
      "17903301 mass LVM\n",
      "17903301 LV diastolic dimension LVDD\n",
      "17903301 diastolic dimension LVDD\n",
      "17903301 dimension LVDD\n",
      "17903301 LV systolic dimension LVDS\n",
      "17903301 systolic dimension LVDS\n",
      "17903301 dimension LVDS\n",
      "17903301 LV wall thickness LVWT\n",
      "17903301 wall thickness LVWT\n",
      "17903301 thickness LVWT\n",
      "17903301 LV fractional shortening LVFS\n",
      "17903301 fractional shortening LVFS\n",
      "17903301 shortening LVFS\n",
      "17903301 Left atrial diameter LAD\n",
      "17903301 Left atrial diameter LAD\n",
      "17903301 atrial diameter LAD\n",
      "17903301 atrial diameter LAD\n",
      "17903301 Left atrial diameter LAD\n",
      "17903301 diameter LAD\n",
      "17903301 diameter LAD\n",
      "17903301 atrial diameter LAD\n",
      "17903301 diameter LAD\n",
      "17903301 Aortic root diameter AOR\n",
      "17903301 Aortic root diameter AOR\n",
      "17903301 root diameter AOR\n",
      "17903301 root diameter AOR\n",
      "17903301 Aortic root diameter AOR\n",
      "17903301 diameter AOR\n",
      "17903301 diameter AOR\n",
      "17903301 root diameter AOR\n",
      "17903301 diameter AOR\n",
      "17903301 B. Exercise Treadmill Test ETT\n",
      "17903301 Exercise Treadmill Test ETT\n",
      "17903301 Treadmill Test ETT\n",
      "17903301 Test ETT\n",
      "17903301 2 Exercise systolic blood pressure SBP\n",
      "17903301 systolic blood pressure SBP\n",
      "17903301 systolic blood pressure SBP\n",
      "17903301 Exercise systolic blood pressure SBP\n",
      "17903301 blood pressure SBP\n",
      "17903301 blood pressure SBP\n",
      "17903301 systolic blood pressure SBP\n",
      "17903301 pressure SBP\n",
      "17903301 pressure SBP\n",
      "17903301 blood pressure SBP\n",
      "17903301 pressure SBP\n",
      "17903301 2 Exercise diastolic blood pressure DBP\n",
      "17903301 diastolic blood pressure DBP\n",
      "17903301 diastolic blood pressure DBP\n",
      "17903301 Exercise diastolic blood pressure DBP\n",
      "17903301 blood pressure DBP\n",
      "17903301 blood pressure DBP\n",
      "17903301 diastolic blood pressure DBP\n",
      "17903301 pressure DBP\n",
      "17903301 pressure DBP\n",
      "17903301 blood pressure DBP\n",
      "17903301 pressure DBP\n",
      "17903301 BA flow-mediated dilation FMD\n",
      "17903301 flow-mediated dilation FMD\n",
      "17903301 dilation FMD\n",
      "17684544 sub-entity of inflammatory bowel disease IBD\n",
      "17684544 of inflammatory bowel disease IBD\n",
      "17684544 inflammatory bowel disease IBD\n",
      "17684544 bowel disease IBD\n",
      "17684544 disease IBD\n",
      "17903292 ) and urinary albumin excretion UAE\n",
      "17903292 and urinary albumin excretion UAE\n",
      "17903292 Glomerular filtration rate GFR\n",
      "17903292 urinary albumin excretion UAE\n",
      "17903292 filtration rate GFR\n",
      "17903292 albumin excretion UAE\n",
      "17903292 rate GFR\n",
      "17903292 excretion UAE\n",
      "17903292 Mapping 100K single nucleotide polymorphism SNP\n",
      "17903292 100K single nucleotide polymorphism SNP\n",
      "17903292 single nucleotide polymorphism SNP\n",
      "17903292 nucleotide polymorphism SNP\n",
      "17903292 polymorphism SNP\n",
      "17903292 creatinine and cystatin-C cysC\n",
      "17903292 and cystatin-C cysC\n",
      "17903292 cystatin-C cysC\n",
      "17903292 Thyroid stimulating hormone TSH\n",
      "17903292 stimulating hormone TSH\n",
      "17903292 hormone TSH\n",
      "17903292 data using generalized estimating equations GEE\n",
      "17903292 using generalized estimating equations GEE\n",
      "17903292 generalized estimating equations GEE\n",
      "17903292 estimating equations GEE\n",
      "17903292 equations GEE\n",
      "17903293 We used Generalized Estimating Equations GEE\n",
      "17903293 used Generalized Estimating Equations GEE\n",
      "17903293 Generalized Estimating Equations GEE\n",
      "17903293 Estimating Equations GEE\n",
      "17903293 Equations GEE\n",
      "17903293 -8 ) for C-reactive protein CRP\n",
      "17903293 ) for C-reactive protein CRP\n",
      "17903293 for C-reactive protein CRP\n",
      "17903293 C-reactive protein CRP\n",
      "17903293 protein CRP\n",
      "17903294 increased risk of cardiovascular disease CVD\n",
      "17903294 risk of cardiovascular disease CVD\n",
      "17903294 of cardiovascular disease CVD\n",
      "17903294 cardiovascular disease CVD\n",
      "17903294 disease CVD\n",
      "17903294 GeneChip 100K single nucleotide polymorphism SNP\n",
      "17903294 100K single nucleotide polymorphism SNP\n",
      "17903294 single nucleotide polymorphism SNP\n",
      "17903294 nucleotide polymorphism SNP\n",
      "17903294 polymorphism SNP\n",
      "17903294 approximately 1000 Framingham Heart Study FHS\n",
      "17903294 1000 Framingham Heart Study FHS\n",
      "17903294 Framingham Heart Study FHS\n",
      "17903294 Heart Study FHS\n",
      "17903294 Study FHS\n",
      "17903294 using the generalized estimating equations GEE\n",
      "17903294 the generalized estimating equations GEE\n",
      "17903294 generalized estimating equations GEE\n",
      "17903294 estimating equations GEE\n",
      "17903294 equations GEE\n",
      "17903295 SNPs for generalized estimating equation GEE\n",
      "17903295 for generalized estimating equation GEE\n",
      "17903295 generalized estimating equation GEE\n",
      "17903295 estimating equation GEE\n",
      "17903295 equation GEE\n",
      "17903296 in the Framingham Heart Study FHS\n",
      "17903296 traits: bone mineral density BMD\n",
      "17903296 the Framingham Heart Study FHS\n",
      "17903296 : bone mineral density BMD\n",
      "17903296 Framingham Heart Study FHS\n",
      "17903296 bone mineral density BMD\n",
      "17903296 Heart Study FHS\n",
      "17903296 mineral density BMD\n",
      "17903296 Study FHS\n",
      "17903296 density BMD\n",
      "17903296 used additive generalized estimating equation GEE\n",
      "17903296 additive generalized estimating equation GEE\n",
      "17903296 generalized estimating equation GEE\n",
      "17903296 estimating equation GEE\n",
      "17903296 equation GEE\n",
      "17903297 Brain magnetic resonance imaging MRI\n",
      "17903297 magnetic resonance imaging MRI\n",
      "17903297 resonance imaging MRI\n",
      "17903297 imaging MRI\n",
      "17903297 We conducted a genome-wide association GWA\n",
      "17903297 conducted a genome-wide association GWA\n",
      "17903297 a genome-wide association GWA\n",
      "17903297 genome-wide association GWA\n",
      "17903297 association GWA\n",
      "17903297 relationships via generalized estimating equations GEE\n",
      "17903297 ventricular and white matter hyperintensity WMH\n",
      "17903297 via generalized estimating equations GEE\n",
      "17903297 and white matter hyperintensity WMH\n",
      "17903297 generalized estimating equations GEE\n",
      "17903297 white matter hyperintensity WMH\n",
      "17903297 estimating equations GEE\n",
      "17903297 matter hyperintensity WMH\n",
      "17903297 equations GEE\n",
      "17903297 hyperintensity WMH\n",
      "17903298 traits FPG\n",
      "17903298 (fasting plasma glucose FPG\n",
      "17903298 fasting plasma glucose FPG\n",
      "17903298 plasma glucose FPG\n",
      "17903298 glucose FPG\n",
      "17903298 used additive generalized estimating equations GEE\n",
      "17903298 additive generalized estimating equations GEE\n",
      "17903298 generalized estimating equations GEE\n",
      "17903298 estimating equations GEE\n",
      "17903298 equations GEE\n",
      "17903300 related to multiple cardiovascular disease CVD\n",
      "17903300 to multiple cardiovascular disease CVD\n",
      "17903300 multiple cardiovascular disease CVD\n",
      "17903300 cardiovascular disease CVD\n",
      "17903300 disease CVD\n",
      "17903300 Body mass index BMI\n",
      "17903300 mass index BMI\n",
      "17903300 index BMI\n",
      "17903300 using additive Generalized Estimating Equations GEE\n",
      "17903300 additive Generalized Estimating Equations GEE\n",
      "17903300 Generalized Estimating Equations GEE\n",
      "17903300 Estimating Equations GEE\n",
      "17903300 Equations GEE\n",
      "17903301 responses to standardized treadmill test ETT\n",
      "17903301 to standardized treadmill test ETT\n",
      "17903301 standardized treadmill test ETT\n",
      "17903301 treadmill test ETT\n",
      "17903301 test ETT\n",
      "17903301 vessel diameter, flow-mediated dilation FMD\n",
      "17903301 diameter, flow-mediated dilation FMD\n",
      "17903301 , flow-mediated dilation FMD\n",
      "17903301 flow-mediated dilation FMD\n",
      "17903301 dilation FMD\n",
      "17903301 Generalized estimating equations GEE\n",
      "17903301 estimating equations GEE\n",
      "17903301 equations GEE\n",
      "17903302 GeneChip) associations with systolic SBP\n",
      "17903302 (SBP) and diastolic SBP\n",
      "17903302 (SBP) and diastolic DBP\n",
      "17903302 ) associations with systolic SBP\n",
      "17903302 SBP) and diastolic DBP\n",
      "17903302 associations with systolic SBP\n",
      "17903302 ) and diastolic DBP\n",
      "17903302 with systolic SBP\n",
      "17903302 and diastolic DBP\n",
      "17903302 systolic SBP\n",
      "17903302 diastolic DBP\n",
      "17903303 Subclinical atherosclerosis SCA\n",
      "17903303 atherosclerosis SCA\n",
      "17903303 and carotid intimal medial thickness IMT\n",
      "17903303 carotid intimal medial thickness IMT\n",
      "17903303 intimal medial thickness IMT\n",
      "17903303 medial thickness IMT\n",
      "17903303 thickness IMT\n",
      "17903303 regression with generalized estimating equations GEE\n",
      "17903303 with generalized estimating equations GEE\n",
      "17903303 generalized estimating equations GEE\n",
      "17903303 estimating equations GEE\n",
      "17903303 equations GEE\n",
      "17903304 – including coronary heart disease CHD\n",
      "17903304 including coronary heart disease CHD\n",
      "17903304 coronary heart disease CHD\n",
      "17903304 Cardiovascular disease CVD\n",
      "17903304 heart disease CHD\n",
      "17903304 disease CVD\n",
      "17903304 disease CHD\n",
      "17903304 industrialized countries, cardiovascular disease CVD\n",
      "17903304 countries, cardiovascular disease CVD\n",
      "17903304 , cardiovascular disease CVD\n",
      "17903304 cardiovascular disease CVD\n",
      "17903304 disease CVD\n",
      "511\n"
     ]
    }
   ],
   "source": [
    "new_text_c = list()\n",
    "resolved = {(doc_id, acro) for doc_id, _, acro in resolved_acronyms}\n",
    "for c in text_c:\n",
    "    doc_id, phen, acro = spairtxt2uid(c)\n",
    "    print doc_id, phen, acro\n",
    "    if (doc_id, acro) not in resolved:\n",
    "        new_text_c.append(c)\n",
    "\n",
    "print len(new_text_c)"
   ]
  },
  {
   "cell_type": "code",
   "execution_count": 73,
   "metadata": {
    "collapsed": false
   },
   "outputs": [
    {
     "name": "stdout",
     "output_type": "stream",
     "text": [
      "Building feature index...\n",
      "Extracting features...\n",
      "0/5970\n",
      "5000/5970\n"
     ]
    }
   ],
   "source": [
    "from snorkel.features import NgramPairFeaturizer\n",
    "\n",
    "pkl_f = 'acro_text_feats.pkl'\n",
    "try:\n",
    "    with open(pkl_f, 'rb') as f:\n",
    "        featurizer = cPickle.load(f)\n",
    "except:\n",
    "    featurizer = NgramPairFeaturizer()\n",
    "    featurizer.fit_transform(text_c)"
   ]
  },
  {
   "cell_type": "code",
   "execution_count": 74,
   "metadata": {
    "collapsed": false
   },
   "outputs": [
    {
     "name": "stdout",
     "output_type": "stream",
     "text": [
      "Training set size: 300\n",
      "Gold set size: 216\n",
      "Positive labels in training set: 54\n",
      "Negative labels in training set: 197\n",
      "Positive labels in gold set: 28\n",
      "Negative labels in gold set: 188\n"
     ]
    }
   ],
   "source": [
    "# Split into train and test set\n",
    "training_candidates = []\n",
    "gold_candidates     = []\n",
    "gold_labels         = []\n",
    "n_half = len(text_c)/2\n",
    "for c in text_c[:n_half]:\n",
    "    uid = spair2uid(c)\n",
    "    if uid in annotations:\n",
    "        gold_candidates.append(c)\n",
    "        gold_labels.append(annotations[uid])\n",
    "    else:\n",
    "        training_candidates.append(c)\n",
    "training_candidates.extend(text_c[n_half:])\n",
    "gold_labels = np.array(gold_labels)\n",
    "print \"Training set size: %s\" % len(training_candidates)\n",
    "print \"Gold set size: %s\" % len(gold_candidates)\n",
    "print \"Positive labels in training set: %s\" % len([c for c in training_candidates if annotations.get(spair2uid(c),0)==1])\n",
    "print \"Negative labels in training set: %s\" % len([c for c in training_candidates if annotations.get(spair2uid(c),0)==-1])\n",
    "print \"Positive labels in gold set: %s\" % len([c for c in gold_candidates if annotations[spair2uid(c)]==1])\n",
    "print \"Negative labels in gold set: %s\" % len([c for c in gold_candidates if annotations[spair2uid(c)]==-1])"
   ]
  },
  {
   "cell_type": "code",
   "execution_count": 98,
   "metadata": {
    "collapsed": false
   },
   "outputs": [],
   "source": [
    "import re\n",
    "\n",
    "# positive LFs\n",
    "def LF_acro_matches(m):\n",
    "    _, phen, acro = spairtxt2uid(m)\n",
    "    words = phen.strip().split()\n",
    "    if len(acro) == len(words):\n",
    "        w_acro = ''.join([w[0] for w in words])\n",
    "        if w_acro.lower() == acro.lower():\n",
    "            return +1\n",
    "    return 0\n",
    "\n",
    "def LF_acro_matches_with_dashes(m):\n",
    "    _, phen, acro = spairtxt2uid(m)\n",
    "    words = re.split(' |-', phen.split())\n",
    "    if len(acro) == len(words):\n",
    "        w_acro = ''.join([w[0] for w in words])\n",
    "        if w_acro.lower() == acro.lower():\n",
    "            return +1\n",
    "    return 0\n",
    "\n",
    "def LF_acro_first_letter(m):\n",
    "    _, phen, acro = spairtxt2uid(m)\n",
    "    if not any(l.islower() for l in phen): return 0\n",
    "    words = phen.strip().split()\n",
    "    if len(acro) <= len(words):\n",
    "        if words[0].lower() == acro[0].lower():\n",
    "            return +1\n",
    "    return 0\n",
    "\n",
    "def LF_acro_second_letter(m):\n",
    "    _, phen, acro = spairtxt2uid(m)\n",
    "    if not any(l.islower() for l in phen): return 0\n",
    "    if len(acro) < 4: return 0\n",
    "    acro = acro[1:]\n",
    "    words = phen.strip().split()\n",
    "    if len(acro) <= len(words):\n",
    "        if words[0].lower() == acro[0].lower():\n",
    "            return +1\n",
    "    return 0\n",
    "\n",
    "# NOTE: not used\n",
    "def LF_acro_second_letter(m):\n",
    "    _, phen, acro = spairtxt2uid(m)\n",
    "    if not any(l.islower() for l in phen): return 0\n",
    "    if len(acro) < 4: return 0\n",
    "    acro = acro[1:]\n",
    "    words = phen.strip().split()\n",
    "    if len(acro) <= len(words):\n",
    "        if words[0].lower() == acro[0].lower():\n",
    "            return +1\n",
    "    return 0\n",
    "\n",
    "def LF_acro_prefix(m):\n",
    "    _, phen, acro = spairtxt2uid(m)\n",
    "    phen = phen.replace('-', '')\n",
    "    if phen[:2].lower() == acro[:2].lower():\n",
    "        return +1\n",
    "    return 0\n",
    "\n",
    "def LF_acro_matches_last_letters(m):\n",
    "    _, phen, acro = spairtxt2uid(m)\n",
    "    words = phen.strip().split()\n",
    "    for r in (1,2):\n",
    "        new_acro = acro[r:]\n",
    "        if len(new_acro) < 3: continue\n",
    "        if len(new_acro) == len(words):\n",
    "            w_acro = ''.join([w[0] for w in words])\n",
    "            if w_acro.lower() == new_acro.lower():\n",
    "                return +1\n",
    "    return 0\n",
    "\n",
    "LF_txt_pos = [LF_acro_matches, LF_acro_first_letter, LF_acro_prefix, LF_acro_matches_last_letters]\n",
    "\n",
    "# negative LFs\n",
    "def LF_no_pos(m):\n",
    "    return -1 if not any(LF(m) for LF in LF_txt_pos) else 0\n",
    "\n",
    "def LF_short(m):\n",
    "    _, phen, acro = spairtxt2uid(m)\n",
    "    return -1 if len(acro) == 1 else 0\n",
    "\n",
    "def LF_lc(m):\n",
    "    _, phen, acro = spairtxt2uid(m)\n",
    "    return -1 if all(l.islower() for l in acro) else 0\n",
    "\n",
    "def LF_uc(m):\n",
    "    _, phen, acro = spairtxt2uid(m)\n",
    "    return -1 if not any(l.islower() for l in phen) else 0\n",
    "\n",
    "LF_txt_neg = [LF_no_pos, LF_short, LF_lc, LF_uc]\n",
    "\n",
    "LF_txt = LF_txt_pos + LF_txt_neg"
   ]
  },
  {
   "cell_type": "code",
   "execution_count": 99,
   "metadata": {
    "collapsed": false
   },
   "outputs": [
    {
     "name": "stdout",
     "output_type": "stream",
     "text": [
      "Applying LFs...\n",
      "Featurizing...\n",
      "Building feature index...\n",
      "Extracting features...\n",
      "0/5260\n",
      "5000/5260\n",
      "============================================================\n",
      "LF Summary Statistics: 8 LFs applied to 300 candidates\n",
      "------------------------------------------------------------\n",
      "Coverage (candidates w/ > 0 labels):\t\t100.00%\n",
      "Overlap (candidates w/ > 1 labels):\t\t20.67%\n",
      "Conflict (candidates w/ conflicting labels):\t0.00%\n",
      "============================================================\n"
     ]
    }
   ],
   "source": [
    "from snorkel.snorkel import TrainingSet\n",
    "from snorkel.features import NgramFeaturizer\n",
    "\n",
    "training_set = TrainingSet(training_candidates, LF_txt, featurizer=NgramPairFeaturizer())"
   ]
  },
  {
   "cell_type": "code",
   "execution_count": 100,
   "metadata": {
    "collapsed": false
   },
   "outputs": [
    {
     "data": {
      "text/plain": [
       "array([[<matplotlib.axes.AxesSubplot object at 0x128f4f190>]], dtype=object)"
      ]
     },
     "execution_count": 100,
     "metadata": {},
     "output_type": "execute_result"
    },
    {
     "data": {
      "image/png": "[encoded data removed]",
      "text/plain": [
       "<matplotlib.figure.Figure at 0x128ebdfd0>"
      ]
     },
     "metadata": {},
     "output_type": "display_data"
    }
   ],
   "source": [
    "lf_stats = training_set.lf_stats()\n",
    "lf_stats[:5]\n",
    "lf_stats.hist(\"coverage\")"
   ]
  },
  {
   "cell_type": "code",
   "execution_count": 101,
   "metadata": {
    "collapsed": false
   },
   "outputs": [
    {
     "name": "stdout",
     "output_type": "stream",
     "text": [
      "============================================================\n",
      "Testing mu = 1.00e-05, lf_w0 = 1.00e+00\n",
      "============================================================\n",
      "Begin training for rate=0.01, mu=1e-05\n",
      "\tLearning epoch = 0\tGradient mag. = 0.035677\n",
      "\tLearning epoch = 250\tGradient mag. = 0.044917\n",
      "\tLearning epoch = 500\tGradient mag. = 0.054043\n",
      "\tLearning epoch = 750\tGradient mag. = 0.065129\n",
      "Final gradient magnitude for rate=0.01, mu=1e-05: 0.078\n",
      "Applying LFs...\n",
      "Featurizing...\n",
      "============================================================\n",
      "Testing mu = 1.00e-05, lf_w0 = 2.00e+00\n",
      "============================================================\n",
      "Begin training for rate=0.01, mu=1e-05\n",
      "\tLearning epoch = 0\tGradient mag. = 0.061755\n",
      "\tLearning epoch = 250\tGradient mag. = 0.072695\n",
      "\tLearning epoch = 500\tGradient mag. = 0.081157\n",
      "\tLearning epoch = 750\tGradient mag. = 0.090401\n",
      "Final gradient magnitude for rate=0.01, mu=1e-05: 0.101\n",
      "============================================================\n",
      "Testing mu = 1.00e-07, lf_w0 = 1.00e+00\n",
      "============================================================\n",
      "Begin training for rate=0.01, mu=1e-07\n",
      "\tLearning epoch = 0\tGradient mag. = 0.035677\n",
      "\tLearning epoch = 250\tGradient mag. = 0.044941\n",
      "\tLearning epoch = 500\tGradient mag. = 0.054095\n",
      "\tLearning epoch = 750\tGradient mag. = 0.065213\n",
      "Final gradient magnitude for rate=0.01, mu=1e-07: 0.078\n",
      "============================================================\n",
      "Testing mu = 1.00e-07, lf_w0 = 2.00e+00\n",
      "============================================================\n",
      "Begin training for rate=0.01, mu=1e-07\n",
      "\tLearning epoch = 0\tGradient mag. = 0.061755\n",
      "\tLearning epoch = 250\tGradient mag. = 0.072710\n",
      "\tLearning epoch = 500\tGradient mag. = 0.081187\n",
      "\tLearning epoch = 750\tGradient mag. = 0.090445\n",
      "Final gradient magnitude for rate=0.01, mu=1e-07: 0.101\n"
     ]
    }
   ],
   "source": [
    "from snorkel.snorkel import Learner\n",
    "import snorkel.learning\n",
    "from snorkel.learning import LogReg\n",
    "\n",
    "text_learner = Learner(training_set, model=LogReg())\n",
    "\n",
    "# Splitting into CV and test set\n",
    "n_half = len(gold_candidates)/2\n",
    "test_candidates = gold_candidates[:n_half]\n",
    "test_labels     = gold_labels[:n_half]\n",
    "cv_candidates   = gold_candidates[n_half:]\n",
    "cv_labels       = gold_labels[n_half:]\n",
    "\n",
    "from snorkel.learning_utils import GridSearch\n",
    "gs       = GridSearch(text_learner, ['mu', 'lf_w0'], [[1e-5, 1e-7],[1.0,2.0]])\n",
    "gs_stats = gs.fit(cv_candidates, cv_labels)"
   ]
  },
  {
   "cell_type": "code",
   "execution_count": 102,
   "metadata": {
    "collapsed": false
   },
   "outputs": [
    {
     "data": {
      "text/html": [
       "<div style=\"max-height:1000px;max-width:1500px;overflow:auto;\">\n",
       "<table border=\"1\" class=\"dataframe\">\n",
       "  <thead>\n",
       "    <tr style=\"text-align: right;\">\n",
       "      <th></th>\n",
       "      <th>mu</th>\n",
       "      <th>lf_w0</th>\n",
       "      <th>Prec.</th>\n",
       "      <th>Rec.</th>\n",
       "      <th>F1</th>\n",
       "    </tr>\n",
       "  </thead>\n",
       "  <tbody>\n",
       "    <tr>\n",
       "      <th>0</th>\n",
       "      <td> 0.00001</td>\n",
       "      <td> 1</td>\n",
       "      <td> 0.647059</td>\n",
       "      <td> 0.55</td>\n",
       "      <td> 0.594595</td>\n",
       "    </tr>\n",
       "    <tr>\n",
       "      <th>1</th>\n",
       "      <td> 0.00001</td>\n",
       "      <td> 2</td>\n",
       "      <td> 0.700000</td>\n",
       "      <td> 0.70</td>\n",
       "      <td> 0.700000</td>\n",
       "    </tr>\n",
       "    <tr>\n",
       "      <th>2</th>\n",
       "      <td> 0.00000</td>\n",
       "      <td> 1</td>\n",
       "      <td> 0.647059</td>\n",
       "      <td> 0.55</td>\n",
       "      <td> 0.594595</td>\n",
       "    </tr>\n",
       "    <tr>\n",
       "      <th>3</th>\n",
       "      <td> 0.00000</td>\n",
       "      <td> 2</td>\n",
       "      <td> 0.700000</td>\n",
       "      <td> 0.70</td>\n",
       "      <td> 0.700000</td>\n",
       "    </tr>\n",
       "  </tbody>\n",
       "</table>\n",
       "<p>4 rows × 5 columns</p>\n",
       "</div>"
      ],
      "text/plain": [
       "        mu  lf_w0     Prec.  Rec.        F1\n",
       "0  0.00001      1  0.647059  0.55  0.594595\n",
       "1  0.00001      2  0.700000  0.70  0.700000\n",
       "2  0.00000      1  0.647059  0.55  0.594595\n",
       "3  0.00000      2  0.700000  0.70  0.700000\n",
       "\n",
       "[4 rows x 5 columns]"
      ]
     },
     "execution_count": 102,
     "metadata": {},
     "output_type": "execute_result"
    }
   ],
   "source": [
    "gs_stats"
   ]
  },
  {
   "cell_type": "code",
   "execution_count": 103,
   "metadata": {
    "collapsed": false
   },
   "outputs": [
    {
     "name": "stdout",
     "output_type": "stream",
     "text": [
      "Applying LFs...\n",
      "Featurizing...\n",
      "========================================\n",
      "Test set size:\t108\n",
      "----------------------------------------\n",
      "Precision:\t1.0\n",
      "Recall:\t\t0.875\n",
      "F1 Score:\t0.933333333333\n",
      "----------------------------------------\n",
      "TP: 7 | FP: 0 | TN: 100 | FN: 1\n",
      "========================================\n"
     ]
    }
   ],
   "source": [
    "text_learner.test_wmv(test_candidates, test_labels)"
   ]
  },
  {
   "cell_type": "code",
   "execution_count": 104,
   "metadata": {
    "collapsed": false
   },
   "outputs": [
    {
     "name": "stdout",
     "output_type": "stream",
     "text": [
      "Applying LFs...\n",
      "Featurizing...\n",
      "[('17903292', u'Glomerular Filtration Rate', u'GFR'), ('17903292', u'Glomerular Filtration Rate', u'GFR'), ('17903292', u'Glomerular Filtration Rate', u'GFR'), ('17903292', u'Thyroid stimulation hormone', u'TSH'), ('17903292', u'Thyroid stimulation hormone', u'TSH'), ('17903292', u'Thyroid stimulation hormone', u'TSH'), ('17903292', u'Follicle stimulating hormone', u'FSH'), ('17903296', u'Bone mineral density', u'BMD'), ('17903296', u'Bone mineral density', u'BMD'), ('17903296', u'Bone mineral density', u'BMD')]\n",
      "17903292 -1.0 1\n",
      "Phrase('17903292', 0, 80, 0, u'Dehydroepiandrosterone sulfate (DHEAS)')\n",
      "Dehydroepiandrosterone sulfate (DHEAS) (DHEAS)\n",
      "[0, 0, 0, 0, -1, 0, 0, 0]\n",
      "\n",
      "17903297 -1.0 1\n",
      "Phrase('17903297', 0, 43, 0, u'Hippocampal Volume (AHPV)')\n",
      "Hippocampal Volume (AHPV) (AHPV)\n",
      "[0, 0, 0, 0, -1, 0, 0, 0]\n",
      "\n",
      "17903297 -1.0 1\n",
      "Phrase('17903297', 0, 87, 0, u'Boston Naming Test (Nam)')\n",
      "Boston Naming Test (Nam) (Nam)\n",
      "[0, 0, 0, 0, -1, 0, 0, 0]\n",
      "\n",
      "17903297 -1.0 1\n",
      "Phrase('17903297', 0, 87, 0, u'Boston Naming Test (Nam)')\n",
      "Boston Naming Test (Nam) (Nam)\n",
      "[0, 0, 0, 0, -1, 0, 0, 0]\n",
      "\n",
      "17903297 1.0 -1\n",
      "Phrase('17903297', 0, 87, 0, u'Boston Naming Test (Nam)')\n",
      "Naming Test (Nam) (Nam)\n",
      "[0, 0, 1, 0, 0, 0, 0, 0]\n",
      "\n",
      "17903297 1.0 -1\n",
      "Phrase('17903297', 0, 87, 0, u'Boston Naming Test (Nam)')\n",
      "Naming Test (Nam) (Nam)\n",
      "[0, 0, 1, 0, 0, 0, 0, 0]\n",
      "\n",
      "17903297 -1.0 1\n",
      "Phrase('17903297', 0, 87, 0, u'Boston Naming Test (Nam)')\n",
      "Boston Naming Test (Nam) (Nam)\n",
      "[0, 0, 0, 0, -1, 0, 0, 0]\n",
      "\n",
      "17903297 1.0 -1\n",
      "Phrase('17903297', 0, 87, 0, u'Boston Naming Test (Nam)')\n",
      "Naming Test (Nam) (Nam)\n",
      "[0, 0, 1, 0, 0, 0, 0, 0]\n",
      "\n",
      "17903297 1.0 -1\n",
      "Phrase('17903297', 0, 93, 0, u'Similarities (Sim)')\n",
      "Similarities (Sim) (Sim)\n",
      "[0, 0, 1, 0, 0, 0, 0, 0]\n",
      "\n",
      "17903297 1.0 -1\n",
      "Phrase('17903297', 0, 93, 0, u'Similarities (Sim)')\n",
      "Similarities (Sim) (Sim)\n",
      "[0, 0, 1, 0, 0, 0, 0, 0]\n",
      "\n",
      "17903297 1.0 -1\n",
      "Phrase('17903297', 0, 93, 0, u'Similarities (Sim)')\n",
      "Similarities (Sim) (Sim)\n",
      "[0, 0, 1, 0, 0, 0, 0, 0]\n",
      "\n",
      "17903297 -1.0 1\n",
      "Phrase('17903297', 0, 99, 0, u'Wide-Range Achievement Test (WRAT)')\n",
      "Wide-Range Achievement Test (WRAT) (WRAT)\n",
      "[0, 0, 0, 0, -1, 0, 0, 0]\n",
      "\n",
      "17903298 -1.0 1\n",
      "Phrase('17903298', 0, 18, 0, u'28 yr time averaged FPG (tFPG)')\n",
      "time averaged FPG (tFPG) (tFPG)\n",
      "[0, 0, 0, 0, -1, 0, 0, 0]\n",
      "\n",
      "17903301 -1.0 1\n",
      "Phrase('17903301', 0, 50, 0, u'Stage 2 Exercise diastolic blood pressure (DBP)')\n",
      "blood pressure (DBP) (DBP)\n",
      "[0, 0, 0, 0, -1, 0, 0, 0]\n",
      "\n",
      "17903301 -1.0 1\n",
      "Phrase('17903301', 0, 50, 0, u'Stage 2 Exercise diastolic blood pressure (DBP)')\n",
      "blood pressure (DBP) (DBP)\n",
      "[0, 0, 0, 0, -1, 0, 0, 0]\n",
      "\n",
      "17903301 -1.0 1\n",
      "Phrase('17903301', 0, 50, 0, u'Stage 2 Exercise diastolic blood pressure (DBP)')\n",
      "blood pressure (DBP) (DBP)\n",
      "[0, 0, 0, 0, -1, 0, 0, 0]\n",
      "\n",
      "17903301 -1.0 1\n",
      "Phrase('17903301', 0, 88, 0, u'BA flow-mediated dilation (FMD) percent')\n",
      "flow-mediated dilation (FMD) (FMD)\n",
      "[0, 0, 0, 0, -1, 0, 0, 0]\n",
      "\n",
      "17903292 1.0 -1\n",
      "Sentence(Document('17903292', Corpus (GWAS Text Corpus)), 3, u'We tested for association between the Affymetrix GeneChip Human Mapping 100K single nucleotide polymorphism (SNP) set and measures of kidney function and endocrine traits.')\n",
      "single nucleotide polymorphism (SNP) (SNP)\n",
      "[1, 0, 0, 0, 0, 0, 0, 0]\n",
      "\n",
      "17903294 -1.0 1\n",
      "Sentence(Document('17903294', Corpus (GWAS Text Corpus)), 1, u'Increased circulating levels of hemostatic factors as well as anemia have been associated with increased risk of cardiovascular disease (CVD).')\n",
      "cardiovascular disease (CVD) (CVD)\n",
      "[0, 0, 0, 0, -1, 0, 0, 0]\n",
      "\n",
      "17903294 1.0 -1\n",
      "Sentence(Document('17903294', Corpus (GWAS Text Corpus)), 3, u'We sought to confirm known putative loci and identify novel loci that may influence either trait in genome-wide association and linkage analyses using the Affymetrix GeneChip 100K single nucleotide polymorphism (SNP) set.')\n",
      "single nucleotide polymorphism (SNP) (SNP)\n",
      "[1, 0, 0, 0, 0, 0, 0, 0]\n",
      "\n",
      "17903297 -1.0 1\n",
      "Sentence(Document('17903297', Corpus (GWAS Text Corpus)), 2, u'We conducted a genome-wide association (GWA) and linkage analysis exploring the genetic basis of these endophenotypes in a community-based sample.')\n",
      "genome-wide association (GWA) (GWA)\n",
      "[0, 0, 0, 0, -1, 0, 0, 0]\n",
      "\n",
      "17903300 -1.0 1\n",
      "Sentence(Document('17903300', Corpus (GWAS Text Corpus)), 1, u'Obesity is related to multiple cardiovascular disease (CVD) risk factors as well as CVD and has a strong familial component.')\n",
      "cardiovascular disease (CVD) (CVD)\n",
      "[0, 0, 0, 0, -1, 0, 0, 0]\n",
      "\n",
      "17903301 -1.0 1\n",
      "Sentence(Document('17903301', Corpus (GWAS Text Corpus)), 6, u'BA measures (single exam) included vessel diameter, flow-mediated dilation (FMD), and baseline and hyperemic flow responses.')\n",
      "flow-mediated dilation (FMD) (FMD)\n",
      "[0, 0, 0, 0, -1, 0, 0, 0]\n",
      "\n",
      "17903301 1.0 -1\n",
      "Sentence(Document('17903301', Corpus (GWAS Text Corpus)), 7, u'Generalized estimating equations (GEE), family-based association tests (FBAT) and variance-components linkage were used to relate multivariable-adjusted trait residuals to 70,987 SNPs (Human 100K GeneChip, Affymetrix) restricted to autosomal SNPs with minor allele frequency \\u22650.10, genotype call rate \\u22650.80, and Hardy-Weinberg equilibrium p \\u2265 0.001.')\n",
      "Generalized estimating equations (GEE) (GEE)\n",
      "[1, 0, 1, 0, 0, 0, 0, 0]\n",
      "\n",
      "17903303 -1.0 1\n",
      "Sentence(Document('17903303', Corpus (GWAS Text Corpus)), 1, u'Subclinical atherosclerosis (SCA) measures in multiple arterial beds are heritable phenotypes that are associated with increased incidence of cardiovascular disease.')\n",
      "Subclinical atherosclerosis (SCA) (SCA)\n",
      "[0, 0, 0, 0, -1, 0, 0, 0]\n",
      "\n",
      "17903304 -1.0 1\n",
      "Sentence(Document('17903304', Corpus (GWAS Text Corpus)), 1, u'Cardiovascular disease (CVD) and its most common manifestations \\u2013 including coronary heart disease (CHD), stroke, heart failure (HF), and atrial fibrillation (AF) \\u2013 are major causes of morbidity and mortality.')\n",
      "Cardiovascular disease (CVD) (CVD)\n",
      "[0, 0, 0, 0, -1, 0, 0, 0]\n",
      "\n"
     ]
    }
   ],
   "source": [
    "text_preds = text_learner.predict_wmv(text_c)\n",
    "text_acronyms = [spairtxt2uid(c) for (c, p) in zip(text_c, text_preds) if p == 1]\n",
    "print text_acronyms[:10]\n",
    "mislabeled_cand = [(c,p, annotations.get(spair2uid(c), None)) for c, p in zip(text_c, text_preds) if p != annotations.get(spair2uid(c), p)]\n",
    "for (c,p,g) in mislabeled_cand[:50]:\n",
    "    print c.span0.context.document.name, p, g\n",
    "    print c.span0.context    \n",
    "    print c.span0.get_span(), c.span1.get_span()\n",
    "    print [LF(c) for LF in LF_txt]\n",
    "    print"
   ]
  },
  {
   "cell_type": "markdown",
   "metadata": {
    "collapsed": true
   },
   "source": [
    "### Collect all the candidates"
   ]
  },
  {
   "cell_type": "code",
   "execution_count": 107,
   "metadata": {
    "collapsed": false
   },
   "outputs": [
    {
     "name": "stdout",
     "output_type": "stream",
     "text": [
      "Applying LFs...\n",
      "Featurizing...\n",
      "[('17903293', u'CD40 Ligand, serum & plasma', u'CD40L'), ('17903293', u'C-reactive protein', u'CRP'), ('17903293', u'Intercellular adhesion molecule-1', u'ICAM1'), ('17903293', u'Interleukin-6', u'IL6'), ('17903293', u'Urinary isoprostanes/creatinine', u'IsoCrUrine'), ('17903293', u'Monocyte chemoattractant protein-1', u'MCP1'), ('17903293', u'Myeloperoxidase', u'MPO'), ('17903293', u'Osteoprotegerin', u'OPG'), ('17903293', u'P-selectin', u'Pselectin'), ('17903293', u'Tumor necrosis factor alpha', u'TNFA')]\n",
      "Applying LFs...\n",
      "Featurizing...\n",
      "[('17903292', u'Glomerular Filtration Rate', u'GFR'), ('17903292', u'Glomerular Filtration Rate', u'GFR'), ('17903292', u'Glomerular Filtration Rate', u'GFR'), ('17903292', u'Thyroid stimulation hormone', u'TSH'), ('17903292', u'Thyroid stimulation hormone', u'TSH'), ('17903292', u'Thyroid stimulation hormone', u'TSH'), ('17903292', u'Follicle stimulating hormone', u'FSH'), ('17903296', u'Bone mineral density', u'BMD'), ('17903296', u'Bone mineral density', u'BMD'), ('17903296', u'Bone mineral density', u'BMD')]\n"
     ]
    }
   ],
   "source": [
    "table_preds = learner.predict_wmv(candidates)\n",
    "table_acronyms = [spair2uid(c) for (c, p) in zip(candidates, preds) if p == 1]\n",
    "print table_acronyms[:10]\n",
    "\n",
    "text_preds = text_learner.predict_wmv(text_c)\n",
    "text_acronyms = [spairtxt2uid(c) for (c, p) in zip(text_c, text_preds) if p == 1]\n",
    "print text_acronyms[:10]\n",
    "\n",
    "acronyms = table_acronyms + text_acronyms"
   ]
  },
  {
   "cell_type": "code",
   "execution_count": 108,
   "metadata": {
    "collapsed": true
   },
   "outputs": [],
   "source": [
    "# store relations to annotate\n",
    "with open('acronyms.extracted.tsv', 'w') as f:\n",
    "    for doc_id, str1, str2 in acronyms:\n",
    "        f.write('%s\\t%s\\t%s\\n' % (doc_id, str1, str2))"
   ]
  },
  {
   "cell_type": "code",
   "execution_count": null,
   "metadata": {
    "collapsed": true
   },
   "outputs": [],
   "source": []
  }
 ],
 "metadata": {
  "kernelspec": {
   "display_name": "Python 2",
   "language": "python",
   "name": "python2"
  },
  "language_info": {
   "codemirror_mode": {
    "name": "ipython",
    "version": 2
   },
   "file_extension": ".py",
   "mimetype": "text/x-python",
   "name": "python",
   "nbconvert_exporter": "python",
   "pygments_lexer": "ipython2",
   "version": "2.7.2"
  }
 },
 "nbformat": 4,
 "nbformat_minor": 0
}
