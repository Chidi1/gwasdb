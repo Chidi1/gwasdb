{
 "cells": [
  {
   "cell_type": "markdown",
   "metadata": {},
   "source": [
    "# Phenotype acronym extraction"
   ]
  },
  {
   "cell_type": "code",
   "execution_count": 27,
   "metadata": {
    "collapsed": false
   },
   "outputs": [
    {
     "name": "stdout",
     "output_type": "stream",
     "text": [
      "The autoreload extension is already loaded. To reload it, use:\n",
      "  %reload_ext autoreload\n"
     ]
    }
   ],
   "source": [
    "%load_ext autoreload\n",
    "%autoreload 2\n",
    "\n",
    "import sys\n",
    "import cPickle\n",
    "import numpy as np\n",
    "\n",
    "# import snorkel and gwasdb\n",
    "sys.path.append('../snorkel')\n",
    "sys.path.append('../src')\n",
    "sys.path.append('../src/crawler')\n",
    "\n",
    "# set up paths\n",
    "abstract_dir = '../data/db/papers'\n",
    "\n",
    "# set up matplotlib\n",
    "import matplotlib\n",
    "%matplotlib inline\n",
    "matplotlib.rcParams['figure.figsize'] = (12,4)"
   ]
  },
  {
   "cell_type": "markdown",
   "metadata": {},
   "source": [
    "## Load corpus"
   ]
  },
  {
   "cell_type": "code",
   "execution_count": 8,
   "metadata": {
    "collapsed": false
   },
   "outputs": [],
   "source": [
    "from snorkel.parser import XMLDocParser\n",
    "from extractor.parser import UnicodeXMLTableDocParser\n",
    "\n",
    "xml_parser = UnicodeXMLTableDocParser(\n",
    "    path=abstract_dir,\n",
    "    doc='./*',\n",
    "    text='.//table',\n",
    "    id='.//article-id[@pub-id-type=\"pmid\"]/text()',\n",
    "    keep_xml_tree=True)"
   ]
  },
  {
   "cell_type": "code",
   "execution_count": 9,
   "metadata": {
    "collapsed": false
   },
   "outputs": [
    {
     "name": "stdout",
     "output_type": "stream",
     "text": [
      "CPU times: user 53.2 s, sys: 3 s, total: 56.2 s\n",
      "Wall time: 1min 21s\n"
     ]
    }
   ],
   "source": [
    "from snorkel.parser import HTMLParser\n",
    "from extractor.parser import UnicodeTableParser\n",
    "from snorkel.parser import CorpusParser\n",
    "import cPickle\n",
    "\n",
    "table_parser = UnicodeTableParser()\n",
    "html_parser = HTMLParser(path='../data/db/papers/')\n",
    "\n",
    "corpus_name = 'gwas-table-corpus.pkl'\n",
    "\n",
    "try:\n",
    "    with open(corpus_name,\"r\") as pkl:\n",
    "        corpus = cPickle.load(pkl)\n",
    "except:\n",
    "    cp = CorpusParser(xml_parser, table_parser, max_docs=15)\n",
    "    %time corpus = cp.parse_corpus(name='GWAS Corpus')\n",
    "    # pickling currently doesn't work...\n",
    "#     with open(corpus_name,\"w\") as pkl:\n",
    "#         corpus = cPickle.dump(corpus, pkl)"
   ]
  },
  {
   "cell_type": "markdown",
   "metadata": {},
   "source": [
    "## Candidate extraction"
   ]
  },
  {
   "cell_type": "markdown",
   "metadata": {
    "collapsed": true
   },
   "source": [
    "### From tables"
   ]
  },
  {
   "cell_type": "code",
   "execution_count": 10,
   "metadata": {
    "collapsed": false
   },
   "outputs": [],
   "source": [
    "from snorkel.matchers import DictionaryMatch, Union, CellNameMatcher, CellDictNameMatcher\n",
    "from snorkel.candidates import EntityExtractor\n",
    "from snorkel.candidates import TableNgrams, CellSpace\n",
    "\n",
    "# Define a candidate space\n",
    "cells = CellSpace()\n",
    "\n",
    "# Create a list of possible words that could denote phenotypes\n",
    "acro_words = ['abbreviation', 'acronym']\n",
    "phen_words = ['trait', 'phenotype']\n",
    "\n",
    "# Define matchers\n",
    "phen_matcher = CellDictNameMatcher(axis='col', d=phen_words, n_max=3, ignore_case=True)\n",
    "acro_matcher = CellDictNameMatcher(axis='col', d=acro_words, n_max=3, ignore_case=True)\n",
    "\n",
    "phen_extractor = EntityExtractor(cells, phen_matcher)\n",
    "acro_extractor = EntityExtractor(cells, acro_matcher)"
   ]
  },
  {
   "cell_type": "code",
   "execution_count": 11,
   "metadata": {
    "collapsed": false
   },
   "outputs": [],
   "source": [
    "from snorkel.candidates import AlignedTableRelationExtractor\n",
    "relation_extractor = AlignedTableRelationExtractor(phen_extractor, acro_extractor, axis='row', induced=False)\n",
    "tables = corpus.get_tables()\n",
    "\n",
    "# create smaller subsets for evaluation/debugging\n",
    "easy_tables = [tables[8]]\n",
    "# hard_tables = [t for t in tables if t.document.name=='17658951']\n",
    "hard_doc = [d for d in corpus.documents if d.name == '17903293'][0]\n",
    "hard_tables = [hard_doc.tables[2]]"
   ]
  },
  {
   "cell_type": "code",
   "execution_count": 13,
   "metadata": {
    "collapsed": false
   },
   "outputs": [
    {
     "name": "stdout",
     "output_type": "stream",
     "text": [
      "CPU times: user 21min 42s, sys: 10.5 s, total: 21min 52s\n",
      "Wall time: 22min 9s\n",
      "58 relations extracted, e.g.\n",
      "SpanPair(Span(\"CD40 Ligand, serum & plasma\", context=None, chars=[0,26], words=[0,5]), Span(\"CD40L\", context=None, chars=[0,4], words=[0,0]))\n",
      "SpanPair(Span(\"2\", context=None, chars=[0,0], words=[0,0]), Span(\"CD40L\", context=None, chars=[0,4], words=[0,0]))\n",
      "SpanPair(Span(\"C-reactive protein\", context=None, chars=[0,17], words=[0,1]), Span(\"CRP\", context=None, chars=[0,2], words=[0,0]))\n",
      "SpanPair(Span(\"5\", context=None, chars=[0,0], words=[0,0]), Span(\"CRP\", context=None, chars=[0,2], words=[0,0]))\n",
      "SpanPair(Span(\"Intercellular adhesion molecule-1\", context=None, chars=[0,32], words=[0,2]), Span(\"ICAM1\", context=None, chars=[0,4], words=[0,0]))\n"
     ]
    }
   ],
   "source": [
    "%time candidates = relation_extractor.extract(tables, name='all')\n",
    "print \"%s relations extracted, e.g.\" % len(candidates)\n",
    "for cand in candidates[:5]: \n",
    "    print cand"
   ]
  },
  {
   "cell_type": "code",
   "execution_count": 14,
   "metadata": {
    "collapsed": false
   },
   "outputs": [
    {
     "name": "stdout",
     "output_type": "stream",
     "text": [
      "Table('17903293', 0) SpanPair(Span(\"CD40 Ligand, serum & plasma\", context=None, chars=[0,26], words=[0,5]), Span(\"CD40L\", context=None, chars=[0,4], words=[0,0]))\n",
      "Table('17903293', 0) SpanPair(Span(\"2\", context=None, chars=[0,0], words=[0,0]), Span(\"CD40L\", context=None, chars=[0,4], words=[0,0]))\n",
      "Table('17903293', 0) SpanPair(Span(\"C-reactive protein\", context=None, chars=[0,17], words=[0,1]), Span(\"CRP\", context=None, chars=[0,2], words=[0,0]))\n",
      "Table('17903293', 0) SpanPair(Span(\"5\", context=None, chars=[0,0], words=[0,0]), Span(\"CRP\", context=None, chars=[0,2], words=[0,0]))\n",
      "Table('17903293', 0) SpanPair(Span(\"Intercellular adhesion molecule-1\", context=None, chars=[0,32], words=[0,2]), Span(\"ICAM1\", context=None, chars=[0,4], words=[0,0]))\n"
     ]
    }
   ],
   "source": [
    "for cand in candidates[:5]: \n",
    "    print cand.span0.context.table, cand"
   ]
  },
  {
   "cell_type": "markdown",
   "metadata": {},
   "source": [
    "### From text"
   ]
  },
  {
   "cell_type": "code",
   "execution_count": 15,
   "metadata": {
    "collapsed": false
   },
   "outputs": [
    {
     "name": "stdout",
     "output_type": "stream",
     "text": [
      "CPU times: user 519 ms, sys: 139 ms, total: 658 ms\n",
      "Wall time: 5.08 s\n"
     ]
    }
   ],
   "source": [
    "from snorkel.parser import SentenceParser, CorpusParser\n",
    "from extractor.parser import UnicodeXMLDocParser, GWASXMLDocParser\n",
    "\n",
    "xml_parser = GWASXMLDocParser(\n",
    "    path=abstract_dir,\n",
    "    doc='./*',\n",
    "    title='.//front//article-title//text()',\n",
    "    abstract='.//abstract//p//text()',\n",
    "    par1='.//body/p[1]//text()',\n",
    "    id='.//article-id[@pub-id-type=\"pmid\"]/text()',\n",
    "    keep_xml_tree=True)\n",
    "\n",
    "sent_parser = SentenceParser()\n",
    "cp = CorpusParser(xml_parser, sent_parser, max_docs=15)\n",
    "%time text_corpus = cp.parse_corpus(name='GWAS Text Corpus')"
   ]
  },
  {
   "cell_type": "code",
   "execution_count": 64,
   "metadata": {
    "collapsed": false
   },
   "outputs": [],
   "source": [
    "from snorkel.candidates import Ngrams\n",
    "from snorkel.matchers import RegexMatchSpan\n",
    "from snorkel.candidates import EntityExtractor, RelationExtractor\n",
    "\n",
    "# Define a candidate space\n",
    "ngrams6 = Ngrams(n_max=6)\n",
    "ngrams3 = Ngrams(n_max=3)\n",
    "\n",
    "# Define matchers\n",
    "phen_matcher = RegexMatchSpan(rgx=r'.+ \\([a-zA-Z]{0,5}[\\);]')\n",
    "acro_matcher = RegexMatchSpan(rgx=r'\\([a-zA-Z]{0,5}[\\);]')\n",
    "\n",
    "# Extractors\n",
    "phen_txt_extractor = EntityExtractor(ngrams6, phen_matcher)\n",
    "acro_txt_extractor = EntityExtractor(ngrams3, acro_matcher)\n",
    "\n",
    "# Filtering function\n",
    "def overlap_filter_fn(span0, span1):\n",
    "    start0, end0 = span0.char_start, span0.char_end\n",
    "    start1, end1 = span1.char_start, span1.char_end\n",
    "    return True if start0 <= start1 <= end1 <= end0 else False\n",
    "\n",
    "# Relation extractor\n",
    "txt_tab_extractor = RelationExtractor(phen_txt_extractor, acro_txt_extractor, filter_fn=overlap_filter_fn)"
   ]
  },
  {
   "cell_type": "markdown",
   "metadata": {},
   "source": [
    "Extract acroynms from tables"
   ]
  },
  {
   "cell_type": "code",
   "execution_count": 65,
   "metadata": {
    "collapsed": false
   },
   "outputs": [
    {
     "name": "stdout",
     "output_type": "stream",
     "text": [
      "CPU times: user 252 µs, sys: 15 µs, total: 267 µs\n",
      "Wall time: 267 µs\n",
      "0 candidates extracted from text in tables\n"
     ]
    }
   ],
   "source": [
    "# %time txt_tab_c = acro_txt_extractor.extract(corpus.get_sentences(), name='all')\n",
    "%time txt_tab_c = txt_tab_extractor.extract(corpus.get_sentences(), name='all')\n",
    "print len(txt_tab_c), 'candidates extracted from text in tables'"
   ]
  },
  {
   "cell_type": "markdown",
   "metadata": {},
   "source": [
    "Extract acroynms from abstracts"
   ]
  },
  {
   "cell_type": "code",
   "execution_count": 66,
   "metadata": {
    "collapsed": false
   },
   "outputs": [
    {
     "name": "stdout",
     "output_type": "stream",
     "text": [
      "CPU times: user 758 ms, sys: 44.1 ms, total: 802 ms\n",
      "Wall time: 821 ms\n",
      "169 candidates extracted from text in abstracts\n"
     ]
    }
   ],
   "source": [
    "%time txt_txt_c = txt_tab_extractor.extract(text_corpus.get_sentences(), name='all')\n",
    "print len(txt_txt_c), 'candidates extracted from text in abstracts'"
   ]
  },
  {
   "cell_type": "code",
   "execution_count": 19,
   "metadata": {
    "collapsed": false
   },
   "outputs": [],
   "source": [
    "for cand in txt_tab_c[:100]:\n",
    "    print cand.span0.context.document.name, cand"
   ]
  },
  {
   "cell_type": "markdown",
   "metadata": {
    "collapsed": true
   },
   "source": [
    "## Learning the correctness of relations"
   ]
  },
  {
   "cell_type": "code",
   "execution_count": 61,
   "metadata": {
    "collapsed": false
   },
   "outputs": [],
   "source": [
    "from snorkel.candidates import UnionExtractor\n",
    "\n",
    "contexts = [corpus.get_tables(), corpus.get_sentences(), text_corpus.get_sentences()]\n",
    "extractors = [relation_extractor, txt_tab_extractor, txt_tab_extractor]\n",
    "joint_extractor = UnionExtractor(extractor_list=extractors, context_list=contexts)\n",
    "all_c = joint_extractor.union()\n",
    "print len(all_c)"
   ]
  },
  {
   "cell_type": "markdown",
   "metadata": {},
   "source": [
    "### Creating a gold set"
   ]
  },
  {
   "cell_type": "markdown",
   "metadata": {},
   "source": [
    "To create a gold set, we save all extracted relations into a csv file. We annotate it manually, and save the result to a second file. It contains pairs of phenotype and rsid strings; if that file exists, we take these as gold truth."
   ]
  },
  {
   "cell_type": "code",
   "execution_count": 21,
   "metadata": {
    "collapsed": false
   },
   "outputs": [
    {
     "ename": "NameError",
     "evalue": "name 'all_c' is not defined",
     "output_type": "error",
     "traceback": [
      "\u001b[0;31m---------------------------------------------------------------------------\u001b[0m",
      "\u001b[0;31mNameError\u001b[0m                                 Traceback (most recent call last)",
      "\u001b[0;32m<ipython-input-21-d1ba58fb1031>\u001b[0m in \u001b[0;36m<module>\u001b[0;34m()\u001b[0m\n\u001b[1;32m      1\u001b[0m \u001b[0;31m# store relations to annotate\u001b[0m\u001b[0;34m\u001b[0m\u001b[0;34m\u001b[0m\u001b[0m\n\u001b[1;32m      2\u001b[0m \u001b[0;32mwith\u001b[0m \u001b[0mopen\u001b[0m\u001b[0;34m(\u001b[0m\u001b[0;34m'acronyms.unannotated.tsv'\u001b[0m\u001b[0;34m,\u001b[0m \u001b[0;34m'w'\u001b[0m\u001b[0;34m)\u001b[0m \u001b[0;32mas\u001b[0m \u001b[0mf\u001b[0m\u001b[0;34m:\u001b[0m\u001b[0;34m\u001b[0m\u001b[0m\n\u001b[0;32m----> 3\u001b[0;31m     \u001b[0;32mfor\u001b[0m \u001b[0mspan_pair\u001b[0m \u001b[0;32min\u001b[0m \u001b[0mall_c\u001b[0m\u001b[0;34m:\u001b[0m\u001b[0;34m\u001b[0m\u001b[0m\n\u001b[0m\u001b[1;32m      4\u001b[0m         \u001b[0mdoc_id\u001b[0m \u001b[0;34m=\u001b[0m \u001b[0mspan_pair\u001b[0m\u001b[0;34m.\u001b[0m\u001b[0mspan0\u001b[0m\u001b[0;34m.\u001b[0m\u001b[0mcontext\u001b[0m\u001b[0;34m.\u001b[0m\u001b[0mdocument\u001b[0m\u001b[0;34m.\u001b[0m\u001b[0mname\u001b[0m\u001b[0;34m\u001b[0m\u001b[0m\n\u001b[1;32m      5\u001b[0m         \u001b[0mstr1\u001b[0m \u001b[0;34m=\u001b[0m \u001b[0mspan_pair\u001b[0m\u001b[0;34m.\u001b[0m\u001b[0mspan0\u001b[0m\u001b[0;34m.\u001b[0m\u001b[0mget_span\u001b[0m\u001b[0;34m(\u001b[0m\u001b[0;34m)\u001b[0m\u001b[0;34m\u001b[0m\u001b[0m\n",
      "\u001b[0;31mNameError\u001b[0m: name 'all_c' is not defined"
     ]
    }
   ],
   "source": [
    "# store relations to annotate\n",
    "with open('acronyms.unannotated.tsv', 'w') as f:\n",
    "    for span_pair in all_c:\n",
    "        doc_id = span_pair.span0.context.document.name\n",
    "        str1 = span_pair.span0.get_span()\n",
    "        str2 = span_pair.span1.get_span()\n",
    "        try:\n",
    "            f.write('%s\\t%s\\t%s\\n' % (doc_id, str1, str2))\n",
    "        except:\n",
    "            continue"
   ]
  },
  {
   "cell_type": "markdown",
   "metadata": {
    "collapsed": true
   },
   "source": [
    "We now load the results of our annotation"
   ]
  },
  {
   "cell_type": "code",
   "execution_count": 32,
   "metadata": {
    "collapsed": false
   },
   "outputs": [],
   "source": [
    "annotations = dict()\n",
    "with open('acronyms.anotated.txt') as f:\n",
    "    text = f.read()\n",
    "    for line in text.split('\\r'):\n",
    "        doc_id, str1, str2, res = line.strip().split('\\t')\n",
    "        res = 1 if int(res) == 1 else -1\n",
    "        annotations[(doc_id, str1, str2)] = res"
   ]
  },
  {
   "cell_type": "markdown",
   "metadata": {},
   "source": [
    "### Classifying table acronyms"
   ]
  },
  {
   "cell_type": "code",
   "execution_count": 23,
   "metadata": {
    "collapsed": false
   },
   "outputs": [
    {
     "name": "stdout",
     "output_type": "stream",
     "text": [
      "Building feature index...\n",
      "Extracting features...\n",
      "0/2590\n"
     ]
    }
   ],
   "source": [
    "from snorkel.features import TableNgramPairFeaturizer\n",
    "\n",
    "pkl_f = 'acro_table_feats.pkl'\n",
    "try:\n",
    "    with open(pkl_f, 'rb') as f:\n",
    "        featurizer = cPickle.load(f)\n",
    "except:\n",
    "    featurizer = TableNgramPairFeaturizer()\n",
    "    featurizer.fit_transform(candidates)"
   ]
  },
  {
   "cell_type": "code",
   "execution_count": 34,
   "metadata": {
    "collapsed": false
   },
   "outputs": [
    {
     "name": "stdout",
     "output_type": "stream",
     "text": [
      "Training set size: 30\n",
      "Gold set size: 28\n",
      "Positive labels in training set: 22\n",
      "Negative labels in training set: 7\n",
      "Positive labels in gold set: 14\n",
      "Negative labels in gold set: 14\n"
     ]
    }
   ],
   "source": [
    "def spair2uid(span_pair):\n",
    "    doc_id = span_pair.span0.context.document.name\n",
    "    str1 = span_pair.span0.get_span()\n",
    "    str2 = span_pair.span1.get_span()\n",
    "    return (doc_id, str1, str2)\n",
    "\n",
    "# Split into train and test set\n",
    "training_candidates = []\n",
    "gold_candidates     = []\n",
    "gold_labels         = []\n",
    "n_half = len(candidates)/2\n",
    "for c in candidates[:n_half]:\n",
    "    uid = spair2uid(c)\n",
    "    if uid in annotations:\n",
    "        gold_candidates.append(c)\n",
    "        gold_labels.append(annotations[uid])\n",
    "    else:\n",
    "        training_candidates.append(c)\n",
    "training_candidates.extend(candidates[n_half:])\n",
    "gold_labels = np.array(gold_labels)\n",
    "print \"Training set size: %s\" % len(training_candidates)\n",
    "print \"Gold set size: %s\" % len(gold_candidates)\n",
    "print \"Positive labels in training set: %s\" % len([c for c in training_candidates if annotations.get(spair2uid(c),0)==1])\n",
    "print \"Negative labels in training set: %s\" % len([c for c in training_candidates if annotations.get(spair2uid(c),0)==-1])\n",
    "print \"Positive labels in gold set: %s\" % len([c for c in gold_candidates if annotations[spair2uid(c)]==1])\n",
    "print \"Negative labels in gold set: %s\" % len([c for c in gold_candidates if annotations[spair2uid(c)]==-1])"
   ]
  },
  {
   "cell_type": "code",
   "execution_count": 35,
   "metadata": {
    "collapsed": true
   },
   "outputs": [],
   "source": [
    "def LF1_digits(m):\n",
    "    txt = m.span0.get_span()\n",
    "    frac_num = len([ch for ch in txt if ch.isdigit()]) / float(len(txt))\n",
    "    return -1 if frac_num > 0.5 else +1\n",
    "def LF1_short(m):\n",
    "    txt = m.span0.get_span()\n",
    "    return -1 if len(txt) < 5 else 0\n",
    "\n",
    "LF_tables = [LF1_digits, LF1_short]"
   ]
  },
  {
   "cell_type": "code",
   "execution_count": 37,
   "metadata": {
    "collapsed": false
   },
   "outputs": [
    {
     "name": "stdout",
     "output_type": "stream",
     "text": [
      "Applying LFs...\n",
      "Featurizing...\n",
      "Building feature index...\n",
      "Extracting features...\n",
      "0/1939\n",
      "============================================================\n",
      "LF Summary Statistics: 2 LFs applied to 30 candidates\n",
      "------------------------------------------------------------\n",
      "Coverage (candidates w/ > 0 labels):\t\t100.00%\n",
      "Overlap (candidates w/ > 1 labels):\t\t23.33%\n",
      "Conflict (candidates w/ conflicting labels):\t0.00%\n",
      "============================================================\n"
     ]
    }
   ],
   "source": [
    "from snorkel.snorkel import TrainingSet\n",
    "from snorkel.features import NgramFeaturizer\n",
    "\n",
    "training_set = TrainingSet(training_candidates, LF_tables, featurizer=TableNgramPairFeaturizer())"
   ]
  },
  {
   "cell_type": "code",
   "execution_count": 38,
   "metadata": {
    "collapsed": false
   },
   "outputs": [
    {
     "data": {
      "text/plain": [
       "array([[<matplotlib.axes.AxesSubplot object at 0x12268ed90>]], dtype=object)"
      ]
     },
     "execution_count": 38,
     "metadata": {},
     "output_type": "execute_result"
    },
    {
     "data": {
      "image/png": "[encoded data removed]",
      "text/plain": [
       "<matplotlib.figure.Figure at 0x121686190>"
      ]
     },
     "metadata": {},
     "output_type": "display_data"
    }
   ],
   "source": [
    "lf_stats = training_set.lf_stats()\n",
    "lf_stats[:5]\n",
    "lf_stats.hist(\"coverage\")"
   ]
  },
  {
   "cell_type": "code",
   "execution_count": 56,
   "metadata": {
    "collapsed": false
   },
   "outputs": [
    {
     "name": "stdout",
     "output_type": "stream",
     "text": [
      "============================================================\n",
      "Testing mu = 1.00e-05, lf_w0 = 1.00e+00\n",
      "============================================================\n",
      "Begin training for rate=0.01, mu=1e-05\n",
      "\tLearning epoch = 0\tGradient mag. = 0.031467\n",
      "\tLearning epoch = 250\tGradient mag. = 0.085465\n",
      "\tLearning epoch = 500\tGradient mag. = 0.216229\n",
      "\tLearning epoch = 750\tGradient mag. = 0.280481\n",
      "Final gradient magnitude for rate=0.01, mu=1e-05: 0.287\n",
      "Applying LFs...\n",
      "Featurizing...\n",
      "============================================================\n",
      "Testing mu = 1.00e-05, lf_w0 = 2.00e+00\n",
      "============================================================\n",
      "Begin training for rate=0.01, mu=1e-05\n",
      "\tLearning epoch = 0\tGradient mag. = 0.062797\n",
      "\tLearning epoch = 250\tGradient mag. = 0.162584\n",
      "\tLearning epoch = 500\tGradient mag. = 0.283069\n",
      "\tLearning epoch = 750\tGradient mag. = 0.290400\n",
      "Final gradient magnitude for rate=0.01, mu=1e-05: 0.301\n",
      "============================================================\n",
      "Testing mu = 1.00e-07, lf_w0 = 1.00e+00\n",
      "============================================================\n",
      "Begin training for rate=0.01, mu=1e-07\n",
      "\tLearning epoch = 0\tGradient mag. = 0.031467\n",
      "\tLearning epoch = 250\tGradient mag. = 0.085637\n",
      "\tLearning epoch = 500\tGradient mag. = 0.216796\n",
      "\tLearning epoch = 750\tGradient mag. = 0.280510\n",
      "Final gradient magnitude for rate=0.01, mu=1e-07: 0.287\n",
      "============================================================\n",
      "Testing mu = 1.00e-07, lf_w0 = 2.00e+00\n",
      "============================================================\n",
      "Begin training for rate=0.01, mu=1e-07\n",
      "\tLearning epoch = 0\tGradient mag. = 0.062797\n",
      "\tLearning epoch = 250\tGradient mag. = 0.162744\n",
      "\tLearning epoch = 500\tGradient mag. = 0.283087\n",
      "\tLearning epoch = 750\tGradient mag. = 0.290442\n",
      "Final gradient magnitude for rate=0.01, mu=1e-07: 0.301\n"
     ]
    }
   ],
   "source": [
    "from snorkel.snorkel import Learner\n",
    "import snorkel.learning\n",
    "from snorkel.learning import LogReg\n",
    "\n",
    "learner = Learner(training_set, model=LogReg())\n",
    "\n",
    "# Splitting into CV and test set\n",
    "n_half = len(gold_candidates)/2\n",
    "test_candidates = gold_candidates[:n_half]\n",
    "test_labels     = gold_labels[:n_half]\n",
    "cv_candidates   = gold_candidates[n_half:]\n",
    "cv_labels       = gold_labels[n_half:]\n",
    "\n",
    "from snorkel.learning_utils import GridSearch\n",
    "gs       = GridSearch(learner, ['mu', 'lf_w0'], [[1e-5, 1e-7],[1.0,2.0]])\n",
    "gs_stats = gs.fit(cv_candidates, cv_labels)"
   ]
  },
  {
   "cell_type": "code",
   "execution_count": 57,
   "metadata": {
    "collapsed": false
   },
   "outputs": [
    {
     "data": {
      "text/html": [
       "<div style=\"max-height:1000px;max-width:1500px;overflow:auto;\">\n",
       "<table border=\"1\" class=\"dataframe\">\n",
       "  <thead>\n",
       "    <tr style=\"text-align: right;\">\n",
       "      <th></th>\n",
       "      <th>mu</th>\n",
       "      <th>lf_w0</th>\n",
       "      <th>Prec.</th>\n",
       "      <th>Rec.</th>\n",
       "      <th>F1</th>\n",
       "    </tr>\n",
       "  </thead>\n",
       "  <tbody>\n",
       "    <tr>\n",
       "      <th>0</th>\n",
       "      <td> 0.00001</td>\n",
       "      <td> 1</td>\n",
       "      <td> 1</td>\n",
       "      <td> 1</td>\n",
       "      <td> 1</td>\n",
       "    </tr>\n",
       "    <tr>\n",
       "      <th>1</th>\n",
       "      <td> 0.00001</td>\n",
       "      <td> 2</td>\n",
       "      <td> 1</td>\n",
       "      <td> 1</td>\n",
       "      <td> 1</td>\n",
       "    </tr>\n",
       "    <tr>\n",
       "      <th>2</th>\n",
       "      <td> 0.00000</td>\n",
       "      <td> 1</td>\n",
       "      <td> 1</td>\n",
       "      <td> 1</td>\n",
       "      <td> 1</td>\n",
       "    </tr>\n",
       "    <tr>\n",
       "      <th>3</th>\n",
       "      <td> 0.00000</td>\n",
       "      <td> 2</td>\n",
       "      <td> 1</td>\n",
       "      <td> 1</td>\n",
       "      <td> 1</td>\n",
       "    </tr>\n",
       "  </tbody>\n",
       "</table>\n",
       "<p>4 rows × 5 columns</p>\n",
       "</div>"
      ],
      "text/plain": [
       "        mu  lf_w0  Prec.  Rec.  F1\n",
       "0  0.00001      1      1     1   1\n",
       "1  0.00001      2      1     1   1\n",
       "2  0.00000      1      1     1   1\n",
       "3  0.00000      2      1     1   1\n",
       "\n",
       "[4 rows x 5 columns]"
      ]
     },
     "execution_count": 57,
     "metadata": {},
     "output_type": "execute_result"
    }
   ],
   "source": [
    "gs_stats"
   ]
  },
  {
   "cell_type": "code",
   "execution_count": 70,
   "metadata": {
    "collapsed": false
   },
   "outputs": [
    {
     "name": "stdout",
     "output_type": "stream",
     "text": [
      "========================================\n",
      "Test set size:\t14\n",
      "----------------------------------------\n",
      "Precision:\t1.0\n",
      "Recall:\t\t1.0\n",
      "F1 Score:\t1.0\n",
      "----------------------------------------\n",
      "TP: 7 | FP: 0 | TN: 7 | FN: 0\n",
      "========================================\n",
      "Applying LFs...\n",
      "Featurizing...\n"
     ]
    },
    {
     "data": {
      "text/plain": [
       "array([ 1., -1.,  1., -1.,  1., -1.,  1., -1.,  1., -1.,  1., -1.,  1.,\n",
       "       -1.,  1., -1.,  1., -1.,  1., -1.,  1., -1.,  1., -1.,  1., -1.,\n",
       "        1., -1.,  1., -1.,  1., -1.,  1., -1.,  1., -1.,  1., -1.,  1.,\n",
       "       -1.,  1., -1.,  1.,  1.,  1.,  1.,  1.,  1.,  1.,  1.,  1.,  1.,\n",
       "        1.,  1.,  1.,  1.,  1.,  1.])"
      ]
     },
     "execution_count": 70,
     "metadata": {},
     "output_type": "execute_result"
    }
   ],
   "source": [
    "learner.test_wmv(test_candidates, test_labels)"
   ]
  },
  {
   "cell_type": "code",
   "execution_count": 75,
   "metadata": {
    "collapsed": false
   },
   "outputs": [
    {
     "name": "stdout",
     "output_type": "stream",
     "text": [
      "Applying LFs...\n",
      "Featurizing...\n",
      "[('17903293', u'CD40 Ligand, serum & plasma', u'CD40L'), ('17903293', u'C-reactive protein', u'CRP'), ('17903293', u'Intercellular adhesion molecule-1', u'ICAM1'), ('17903293', u'Interleukin-6', u'IL6'), ('17903293', u'Urinary isoprostanes/creatinine', u'IsoCrUrine'), ('17903293', u'Monocyte chemoattractant protein-1', u'MCP1'), ('17903293', u'Myeloperoxidase', u'MPO'), ('17903293', u'Osteoprotegerin', u'OPG'), ('17903293', u'P-selectin', u'Pselectin'), ('17903293', u'Tumor necrosis factor alpha', u'TNFA')]\n"
     ]
    }
   ],
   "source": [
    "preds = learner.predict_wmv(candidates)\n",
    "resolved_acronyms = [spair2uid(c) for (c, p) in zip(candidates, preds) if p == 1]\n",
    "print resolved_acronyms[:10]"
   ]
  },
  {
   "cell_type": "code",
   "execution_count": 47,
   "metadata": {
    "collapsed": false
   },
   "outputs": [
    {
     "name": "stdout",
     "output_type": "stream",
     "text": [
      "17903293\n",
      "Phrase('17903293', 0, 10, 0, u'2')\n",
      "Phrase('17903293', 0, 9, 0, u'CD40L')\n",
      "\n"
     ]
    }
   ],
   "source": [
    "# mislabeled_cand = learner.mislabeled_test_candidates(test_candidates, test_labels)\n",
    "# for (c,p,g) in mislabeled_cand[:10]:\n",
    "#     print c.span0.context.document.name\n",
    "#     print c.span0.context    \n",
    "#     print c.span1.context\n",
    "#     print"
   ]
  },
  {
   "cell_type": "markdown",
   "metadata": {},
   "source": [
    "### Classifying sentence acronyms"
   ]
  },
  {
   "cell_type": "code",
   "execution_count": 63,
   "metadata": {
    "collapsed": false
   },
   "outputs": [
    {
     "name": "stdout",
     "output_type": "stream",
     "text": [
      "169\n"
     ]
    }
   ],
   "source": [
    "from snorkel.candidates import UnionExtractor\n",
    "\n",
    "contexts = [corpus.get_sentences(), text_corpus.get_sentences()]\n",
    "extractors = [txt_tab_extractor, txt_tab_extractor]\n",
    "joint_extractor = UnionExtractor(extractor_list=extractors, context_list=contexts)\n",
    "text_c = joint_extractor.union()\n",
    "print len(text_c)"
   ]
  },
  {
   "cell_type": "code",
   "execution_count": 82,
   "metadata": {
    "collapsed": true
   },
   "outputs": [],
   "source": [
    "# helpers\n",
    "def spairtxt2uid(span_pair):\n",
    "    doc_id = span_pair.span0.context.document.name\n",
    "    str1 = span_pair.span0.get_span()\n",
    "    str2 = span_pair.span1.get_span()\n",
    "    acro = str2[1:-1]\n",
    "    phen = str1.split(' (')[0]\n",
    "    return (doc_id, phen, acro)"
   ]
  },
  {
   "cell_type": "markdown",
   "metadata": {},
   "source": [
    "We really trust the first stage, so if an acronym has been resolved there, remove it from this stage"
   ]
  },
  {
   "cell_type": "code",
   "execution_count": 84,
   "metadata": {
    "collapsed": false
   },
   "outputs": [
    {
     "name": "stdout",
     "output_type": "stream",
     "text": [
      "17684544 sub-entity of inflammatory bowel disease IBD\n",
      "17684544 of inflammatory bowel disease IBD\n",
      "17684544 inflammatory bowel disease IBD\n",
      "17684544 bowel disease IBD\n",
      "17684544 disease IBD\n",
      "17903292 ) and urinary albumin excretion UAE\n",
      "17903292 and urinary albumin excretion UAE\n",
      "17903292 Glomerular filtration rate GFR\n",
      "17903292 urinary albumin excretion UAE\n",
      "17903292 filtration rate GFR\n",
      "17903292 albumin excretion UAE\n",
      "17903292 rate GFR\n",
      "17903292 excretion UAE\n",
      "17903292 Mapping 100K single nucleotide polymorphism SNP\n",
      "17903292 100K single nucleotide polymorphism SNP\n",
      "17903292 single nucleotide polymorphism SNP\n",
      "17903292 nucleotide polymorphism SNP\n",
      "17903292 polymorphism SNP\n",
      "17903292 creatinine and cystatin-C cysC\n",
      "17903292 and cystatin-C cysC\n",
      "17903292 cystatin-C cysC\n",
      "17903292 Thyroid stimulating hormone TSH\n",
      "17903292 stimulating hormone TSH\n",
      "17903292 hormone TSH\n",
      "17903292 data using generalized estimating equations GEE\n",
      "17903292 using generalized estimating equations GEE\n",
      "17903292 generalized estimating equations GEE\n",
      "17903292 estimating equations GEE\n",
      "17903292 equations GEE\n",
      "17903293 We used Generalized Estimating Equations GEE\n",
      "17903293 used Generalized Estimating Equations GEE\n",
      "17903293 Generalized Estimating Equations GEE\n",
      "17903293 Estimating Equations GEE\n",
      "17903293 Equations GEE\n",
      "17903293 -8 ) for C-reactive protein CRP\n",
      "17903293 ) for C-reactive protein CRP\n",
      "17903293 for C-reactive protein CRP\n",
      "17903293 C-reactive protein CRP\n",
      "17903293 protein CRP\n",
      "17903294 increased risk of cardiovascular disease CVD\n",
      "17903294 risk of cardiovascular disease CVD\n",
      "17903294 of cardiovascular disease CVD\n",
      "17903294 cardiovascular disease CVD\n",
      "17903294 disease CVD\n",
      "17903294 GeneChip 100K single nucleotide polymorphism SNP\n",
      "17903294 100K single nucleotide polymorphism SNP\n",
      "17903294 single nucleotide polymorphism SNP\n",
      "17903294 nucleotide polymorphism SNP\n",
      "17903294 polymorphism SNP\n",
      "17903294 approximately 1000 Framingham Heart Study FHS\n",
      "17903294 1000 Framingham Heart Study FHS\n",
      "17903294 Framingham Heart Study FHS\n",
      "17903294 Heart Study FHS\n",
      "17903294 Study FHS\n",
      "17903294 using the generalized estimating equations GEE\n",
      "17903294 the generalized estimating equations GEE\n",
      "17903294 generalized estimating equations GEE\n",
      "17903294 estimating equations GEE\n",
      "17903294 equations GEE\n",
      "17903295 SNPs for generalized estimating equation GEE\n",
      "17903295 for generalized estimating equation GEE\n",
      "17903295 generalized estimating equation GEE\n",
      "17903295 estimating equation GEE\n",
      "17903295 equation GEE\n",
      "17903296 in the Framingham Heart Study FHS\n",
      "17903296 traits: bone mineral density BMD\n",
      "17903296 the Framingham Heart Study FHS\n",
      "17903296 : bone mineral density BMD\n",
      "17903296 Framingham Heart Study FHS\n",
      "17903296 bone mineral density BMD\n",
      "17903296 Heart Study FHS\n",
      "17903296 mineral density BMD\n",
      "17903296 Study FHS\n",
      "17903296 density BMD\n",
      "17903296 used additive generalized estimating equation GEE\n",
      "17903296 additive generalized estimating equation GEE\n",
      "17903296 generalized estimating equation GEE\n",
      "17903296 estimating equation GEE\n",
      "17903296 equation GEE\n",
      "17903297 Brain magnetic resonance imaging MRI\n",
      "17903297 magnetic resonance imaging MRI\n",
      "17903297 resonance imaging MRI\n",
      "17903297 imaging MRI\n",
      "17903297 We conducted a genome-wide association GWA\n",
      "17903297 conducted a genome-wide association GWA\n",
      "17903297 a genome-wide association GWA\n",
      "17903297 genome-wide association GWA\n",
      "17903297 association GWA\n",
      "17903297 relationships via generalized estimating equations GEE\n",
      "17903297 ventricular and white matter hyperintensity WMH\n",
      "17903297 via generalized estimating equations GEE\n",
      "17903297 and white matter hyperintensity WMH\n",
      "17903297 generalized estimating equations GEE\n",
      "17903297 white matter hyperintensity WMH\n",
      "17903297 estimating equations GEE\n",
      "17903297 matter hyperintensity WMH\n",
      "17903297 equations GEE\n",
      "17903297 hyperintensity WMH\n",
      "17903298 traits FPG\n",
      "17903298 (fasting plasma glucose FPG\n",
      "17903298 fasting plasma glucose FPG\n",
      "17903298 plasma glucose FPG\n",
      "17903298 glucose FPG\n",
      "17903298 used additive generalized estimating equations GEE\n",
      "17903298 additive generalized estimating equations GEE\n",
      "17903298 generalized estimating equations GEE\n",
      "17903298 estimating equations GEE\n",
      "17903298 equations GEE\n",
      "17903300 related to multiple cardiovascular disease CVD\n",
      "17903300 to multiple cardiovascular disease CVD\n",
      "17903300 multiple cardiovascular disease CVD\n",
      "17903300 cardiovascular disease CVD\n",
      "17903300 disease CVD\n",
      "17903300 Body mass index BMI\n",
      "17903300 mass index BMI\n",
      "17903300 index BMI\n",
      "17903300 using additive Generalized Estimating Equations GEE\n",
      "17903300 additive Generalized Estimating Equations GEE\n",
      "17903300 Generalized Estimating Equations GEE\n",
      "17903300 Estimating Equations GEE\n",
      "17903300 Equations GEE\n",
      "17903301 responses to standardized treadmill test ETT\n",
      "17903301 to standardized treadmill test ETT\n",
      "17903301 standardized treadmill test ETT\n",
      "17903301 treadmill test ETT\n",
      "17903301 test ETT\n",
      "17903301 vessel diameter, flow-mediated dilation FMD\n",
      "17903301 diameter, flow-mediated dilation FMD\n",
      "17903301 , flow-mediated dilation FMD\n",
      "17903301 flow-mediated dilation FMD\n",
      "17903301 dilation FMD\n",
      "17903301 Generalized estimating equations GEE\n",
      "17903301 estimating equations GEE\n",
      "17903301 equations GEE\n",
      "17903302 GeneChip) associations with systolic SBP\n",
      "17903302 (SBP) and diastolic SBP\n",
      "17903302 (SBP) and diastolic DBP\n",
      "17903302 ) associations with systolic SBP\n",
      "17903302 SBP) and diastolic DBP\n",
      "17903302 associations with systolic SBP\n",
      "17903302 ) and diastolic DBP\n",
      "17903302 with systolic SBP\n",
      "17903302 and diastolic DBP\n",
      "17903302 systolic SBP\n",
      "17903302 diastolic DBP\n",
      "17903303 Subclinical atherosclerosis SCA\n",
      "17903303 atherosclerosis SCA\n",
      "17903303 and carotid intimal medial thickness IMT\n",
      "17903303 carotid intimal medial thickness IMT\n",
      "17903303 intimal medial thickness IMT\n",
      "17903303 medial thickness IMT\n",
      "17903303 thickness IMT\n",
      "17903303 regression with generalized estimating equations GEE\n",
      "17903303 with generalized estimating equations GEE\n",
      "17903303 generalized estimating equations GEE\n",
      "17903303 estimating equations GEE\n",
      "17903303 equations GEE\n",
      "17903304 – including coronary heart disease CHD\n",
      "17903304 including coronary heart disease CHD\n",
      "17903304 coronary heart disease CHD\n",
      "17903304 Cardiovascular disease CVD\n",
      "17903304 heart disease CHD\n",
      "17903304 disease CVD\n",
      "17903304 disease CHD\n",
      "17903304 industrialized countries, cardiovascular disease CVD\n",
      "17903304 countries, cardiovascular disease CVD\n",
      "17903304 , cardiovascular disease CVD\n",
      "17903304 cardiovascular disease CVD\n",
      "17903304 disease CVD\n",
      "164\n"
     ]
    }
   ],
   "source": [
    "new_text_c = list()\n",
    "resolved = {(doc_id, acro) for doc_id, _, acro in resolved_acronyms}\n",
    "for c in text_c:\n",
    "    doc_id, phen, acro = spairtxt2uid(c)\n",
    "    print doc_id, phen, acro\n",
    "    if (doc_id, acro) not in resolved:\n",
    "        new_text_c.append(c)\n",
    "\n",
    "print len(new_text_c)"
   ]
  },
  {
   "cell_type": "code",
   "execution_count": 77,
   "metadata": {
    "collapsed": false
   },
   "outputs": [
    {
     "name": "stdout",
     "output_type": "stream",
     "text": [
      "Building feature index...\n",
      "Extracting features...\n",
      "0/4741\n"
     ]
    }
   ],
   "source": [
    "from snorkel.features import NgramPairFeaturizer\n",
    "\n",
    "pkl_f = 'acro_text_feats.pkl'\n",
    "try:\n",
    "    with open(pkl_f, 'rb') as f:\n",
    "        featurizer = cPickle.load(f)\n",
    "except:\n",
    "    featurizer = NgramPairFeaturizer()\n",
    "    featurizer.fit_transform(text_c)"
   ]
  },
  {
   "cell_type": "code",
   "execution_count": 86,
   "metadata": {
    "collapsed": false
   },
   "outputs": [
    {
     "name": "stdout",
     "output_type": "stream",
     "text": [
      "Training set size: 85\n",
      "Gold set size: 84\n",
      "Positive labels in training set: 14\n",
      "Negative labels in training set: 64\n",
      "Positive labels in gold set: 16\n",
      "Negative labels in gold set: 68\n"
     ]
    }
   ],
   "source": [
    "# Split into train and test set\n",
    "training_candidates = []\n",
    "gold_candidates     = []\n",
    "gold_labels         = []\n",
    "n_half = len(text_c)/2\n",
    "for c in text_c[:n_half]:\n",
    "    uid = spair2uid(c)\n",
    "    if uid in annotations:\n",
    "        gold_candidates.append(c)\n",
    "        gold_labels.append(annotations[uid])\n",
    "    else:\n",
    "        training_candidates.append(c)\n",
    "training_candidates.extend(text_c[n_half:])\n",
    "gold_labels = np.array(gold_labels)\n",
    "print \"Training set size: %s\" % len(training_candidates)\n",
    "print \"Gold set size: %s\" % len(gold_candidates)\n",
    "print \"Positive labels in training set: %s\" % len([c for c in training_candidates if annotations.get(spair2uid(c),0)==1])\n",
    "print \"Negative labels in training set: %s\" % len([c for c in training_candidates if annotations.get(spair2uid(c),0)==-1])\n",
    "print \"Positive labels in gold set: %s\" % len([c for c in gold_candidates if annotations[spair2uid(c)]==1])\n",
    "print \"Negative labels in gold set: %s\" % len([c for c in gold_candidates if annotations[spair2uid(c)]==-1])"
   ]
  },
  {
   "cell_type": "code",
   "execution_count": 104,
   "metadata": {
    "collapsed": false
   },
   "outputs": [],
   "source": [
    "# positive LFs\n",
    "def LF_acro_matches(m):\n",
    "    _, phen, acro = spairtxt2uid(m)\n",
    "    words = phen.strip().split()\n",
    "    if len(acro) == len(words):\n",
    "        w_acro = ''.join([w[0] for w in words])\n",
    "        if w_acro.lower() == acro.lower():\n",
    "            return +1\n",
    "    return 0\n",
    "\n",
    "def LF_acro_first_letter(m):\n",
    "    _, phen, acro = spairtxt2uid(m)\n",
    "    if not any(l.islower() for l in phen): return 0\n",
    "    words = phen.strip().split()\n",
    "    if len(acro) <= len(words):\n",
    "        if words[0].lower() == acro[0].lower():\n",
    "            return +1\n",
    "    return 0\n",
    "\n",
    "def LF_acro_second_letter(m):\n",
    "    _, phen, acro = spairtxt2uid(m)\n",
    "    if not any(l.islower() for l in phen): return 0\n",
    "    if len(acro) < 4: return 0\n",
    "    acro = acro[1:]\n",
    "    words = phen.strip().split()\n",
    "    if len(acro) <= len(words):\n",
    "        if words[0].lower() == acro[0].lower():\n",
    "            return +1\n",
    "    return 0\n",
    "\n",
    "def LF_acro_matches_last_letters(m):\n",
    "    _, phen, acro = spairtxt2uid(m)\n",
    "    if len(acro) < 4: return 0\n",
    "    words = phen.strip().split()\n",
    "    for r in (1,2):\n",
    "        new_acro = acro[r:]\n",
    "        if len(new_acro) == len(words):\n",
    "            w_acro = ''.join([w[0] for w in words])\n",
    "            if w_acro.lower() == new_acro.lower():\n",
    "                return +1\n",
    "    return 0\n",
    "\n",
    "LF_txt_pos = [LF_acro_matches, LF_acro_first_letter, LF_acro_second_letter, LF_acro_matches_last_letters]\n",
    "\n",
    "# negative LFs\n",
    "def LF_no_pos(m):\n",
    "    return -1 if not any(LF(m) for LF in LF_txt_pos) else 0\n",
    "\n",
    "def LF_short(m):\n",
    "    _, phen, acro = spairtxt2uid(m)\n",
    "    return -1 if len(acro) == 1 else 0\n",
    "\n",
    "def LF_lc(m):\n",
    "    _, phen, acro = spairtxt2uid(m)\n",
    "    return -1 if all(l.islower() for l in acro) else 0\n",
    "\n",
    "def LF_uc(m):\n",
    "    _, phen, acro = spairtxt2uid(m)\n",
    "    return -1 if not any(l.islower() for l in phen) else 0\n",
    "\n",
    "LF_txt_neg = [LF_no_pos, LF_short, LF_lc, LF_uc]\n",
    "\n",
    "LF_txt = LF_txt_pos + LF_txt_neg"
   ]
  },
  {
   "cell_type": "code",
   "execution_count": 105,
   "metadata": {
    "collapsed": false
   },
   "outputs": [
    {
     "name": "stdout",
     "output_type": "stream",
     "text": [
      "Applying LFs...\n",
      "Featurizing...\n",
      "Building feature index...\n",
      "Extracting features...\n",
      "0/2639\n",
      "============================================================\n",
      "LF Summary Statistics: 8 LFs applied to 85 candidates\n",
      "------------------------------------------------------------\n",
      "Coverage (candidates w/ > 0 labels):\t\t100.00%\n",
      "Overlap (candidates w/ > 1 labels):\t\t0.00%\n",
      "Conflict (candidates w/ conflicting labels):\t0.00%\n",
      "============================================================\n"
     ]
    }
   ],
   "source": [
    "from snorkel.snorkel import TrainingSet\n",
    "from snorkel.features import NgramFeaturizer\n",
    "\n",
    "training_set = TrainingSet(training_candidates, LF_txt, featurizer=NgramPairFeaturizer())"
   ]
  },
  {
   "cell_type": "code",
   "execution_count": 106,
   "metadata": {
    "collapsed": false
   },
   "outputs": [
    {
     "data": {
      "text/plain": [
       "array([[<matplotlib.axes.AxesSubplot object at 0x122847890>]], dtype=object)"
      ]
     },
     "execution_count": 106,
     "metadata": {},
     "output_type": "execute_result"
    },
    {
     "data": {
      "image/png": "[encoded data removed]",
      "text/plain": [
       "<matplotlib.figure.Figure at 0x1226cbf90>"
      ]
     },
     "metadata": {},
     "output_type": "display_data"
    }
   ],
   "source": [
    "lf_stats = training_set.lf_stats()\n",
    "lf_stats[:5]\n",
    "lf_stats.hist(\"coverage\")"
   ]
  },
  {
   "cell_type": "code",
   "execution_count": 107,
   "metadata": {
    "collapsed": false
   },
   "outputs": [
    {
     "name": "stdout",
     "output_type": "stream",
     "text": [
      "============================================================\n",
      "Testing mu = 1.00e-05, lf_w0 = 1.00e+00\n",
      "============================================================\n",
      "Begin training for rate=0.01, mu=1e-05\n",
      "\tLearning epoch = 0\tGradient mag. = 0.028264\n",
      "\tLearning epoch = 250\tGradient mag. = 0.037159\n",
      "\tLearning epoch = 500\tGradient mag. = 0.046830\n",
      "\tLearning epoch = 750\tGradient mag. = 0.059227\n",
      "Final gradient magnitude for rate=0.01, mu=1e-05: 0.075\n",
      "Applying LFs...\n",
      "Featurizing...\n",
      "============================================================\n",
      "Testing mu = 1.00e-05, lf_w0 = 2.00e+00\n",
      "============================================================\n",
      "Begin training for rate=0.01, mu=1e-05\n",
      "\tLearning epoch = 0\tGradient mag. = 0.052861\n",
      "\tLearning epoch = 250\tGradient mag. = 0.065779\n",
      "\tLearning epoch = 500\tGradient mag. = 0.077591\n",
      "\tLearning epoch = 750\tGradient mag. = 0.091226\n",
      "Final gradient magnitude for rate=0.01, mu=1e-05: 0.107\n",
      "============================================================\n",
      "Testing mu = 1.00e-07, lf_w0 = 1.00e+00\n",
      "============================================================\n",
      "Begin training for rate=0.01, mu=1e-07\n",
      "\tLearning epoch = 0\tGradient mag. = 0.028264\n",
      "\tLearning epoch = 250\tGradient mag. = 0.037191\n",
      "\tLearning epoch = 500\tGradient mag. = 0.046902\n",
      "\tLearning epoch = 750\tGradient mag. = 0.059349\n",
      "Final gradient magnitude for rate=0.01, mu=1e-07: 0.075\n",
      "============================================================\n",
      "Testing mu = 1.00e-07, lf_w0 = 2.00e+00\n",
      "============================================================\n",
      "Begin training for rate=0.01, mu=1e-07\n",
      "\tLearning epoch = 0\tGradient mag. = 0.052861\n",
      "\tLearning epoch = 250\tGradient mag. = 0.065802\n",
      "\tLearning epoch = 500\tGradient mag. = 0.077639\n",
      "\tLearning epoch = 750\tGradient mag. = 0.091300\n",
      "Final gradient magnitude for rate=0.01, mu=1e-07: 0.107\n"
     ]
    }
   ],
   "source": [
    "from snorkel.snorkel import Learner\n",
    "import snorkel.learning\n",
    "from snorkel.learning import LogReg\n",
    "\n",
    "learner = Learner(training_set, model=LogReg())\n",
    "\n",
    "# Splitting into CV and test set\n",
    "n_half = len(gold_candidates)/2\n",
    "test_candidates = gold_candidates[:n_half]\n",
    "test_labels     = gold_labels[:n_half]\n",
    "cv_candidates   = gold_candidates[n_half:]\n",
    "cv_labels       = gold_labels[n_half:]\n",
    "\n",
    "from snorkel.learning_utils import GridSearch\n",
    "gs       = GridSearch(learner, ['mu', 'lf_w0'], [[1e-5, 1e-7],[1.0,2.0]])\n",
    "gs_stats = gs.fit(cv_candidates, cv_labels)"
   ]
  },
  {
   "cell_type": "code",
   "execution_count": 108,
   "metadata": {
    "collapsed": false
   },
   "outputs": [
    {
     "data": {
      "text/html": [
       "<div style=\"max-height:1000px;max-width:1500px;overflow:auto;\">\n",
       "<table border=\"1\" class=\"dataframe\">\n",
       "  <thead>\n",
       "    <tr style=\"text-align: right;\">\n",
       "      <th></th>\n",
       "      <th>mu</th>\n",
       "      <th>lf_w0</th>\n",
       "      <th>Prec.</th>\n",
       "      <th>Rec.</th>\n",
       "      <th>F1</th>\n",
       "    </tr>\n",
       "  </thead>\n",
       "  <tbody>\n",
       "    <tr>\n",
       "      <th>0</th>\n",
       "      <td> 0.00001</td>\n",
       "      <td> 1</td>\n",
       "      <td> 0.833333</td>\n",
       "      <td> 0.625</td>\n",
       "      <td> 0.714286</td>\n",
       "    </tr>\n",
       "    <tr>\n",
       "      <th>1</th>\n",
       "      <td> 0.00001</td>\n",
       "      <td> 2</td>\n",
       "      <td> 0.857143</td>\n",
       "      <td> 0.750</td>\n",
       "      <td> 0.800000</td>\n",
       "    </tr>\n",
       "    <tr>\n",
       "      <th>2</th>\n",
       "      <td> 0.00000</td>\n",
       "      <td> 1</td>\n",
       "      <td> 0.833333</td>\n",
       "      <td> 0.625</td>\n",
       "      <td> 0.714286</td>\n",
       "    </tr>\n",
       "    <tr>\n",
       "      <th>3</th>\n",
       "      <td> 0.00000</td>\n",
       "      <td> 2</td>\n",
       "      <td> 0.857143</td>\n",
       "      <td> 0.750</td>\n",
       "      <td> 0.800000</td>\n",
       "    </tr>\n",
       "  </tbody>\n",
       "</table>\n",
       "<p>4 rows × 5 columns</p>\n",
       "</div>"
      ],
      "text/plain": [
       "        mu  lf_w0     Prec.   Rec.        F1\n",
       "0  0.00001      1  0.833333  0.625  0.714286\n",
       "1  0.00001      2  0.857143  0.750  0.800000\n",
       "2  0.00000      1  0.833333  0.625  0.714286\n",
       "3  0.00000      2  0.857143  0.750  0.800000\n",
       "\n",
       "[4 rows x 5 columns]"
      ]
     },
     "execution_count": 108,
     "metadata": {},
     "output_type": "execute_result"
    }
   ],
   "source": [
    "gs_stats"
   ]
  },
  {
   "cell_type": "code",
   "execution_count": 109,
   "metadata": {
    "collapsed": false
   },
   "outputs": [
    {
     "name": "stdout",
     "output_type": "stream",
     "text": [
      "Applying LFs...\n",
      "Featurizing...\n"
     ]
    },
    {
     "data": {
      "image/png": "[encoded data removed]",
      "text/plain": [
       "<matplotlib.figure.Figure at 0x1226e7cd0>"
      ]
     },
     "metadata": {},
     "output_type": "display_data"
    },
    {
     "name": "stdout",
     "output_type": "stream",
     "text": [
      "========================================\n",
      "Test set size:\t42\n",
      "----------------------------------------\n",
      "Precision:\t0.857142857143\n",
      "Recall:\t\t0.75\n",
      "F1 Score:\t0.8\n",
      "----------------------------------------\n",
      "TP: 6 | FP: 1 | TN: 33 | FN: 2\n",
      "========================================\n"
     ]
    }
   ],
   "source": [
    "learner.test(test_candidates, test_labels)"
   ]
  },
  {
   "cell_type": "code",
   "execution_count": 110,
   "metadata": {
    "collapsed": false
   },
   "outputs": [
    {
     "name": "stdout",
     "output_type": "stream",
     "text": [
      "17903292 1 -1\n",
      "Sentence(Document('17903292', Corpus (GWAS Text Corpus)), 3, u'We tested for association between the Affymetrix GeneChip Human Mapping 100K single nucleotide polymorphism (SNP) set and measures of kidney function and endocrine traits.')\n",
      "single nucleotide polymorphism (SNP) (SNP)\n",
      "\n",
      "17903292 -1 1\n",
      "Sentence(Document('17903292', Corpus (GWAS Text Corpus)), 5, u'Serum creatinine and cystatin-C (cysC; n = 981) were measured at the seventh examination cycle (1998\\u20132001); GFR (n = 1010) was estimated via the Modification of Diet in Renal Disease (MDRD) equation; UAE was measured on spot urine samples during the sixth examination cycle (1995\\u20131998) and was indexed to urinary creatinine (n = 822).')\n",
      "cystatin-C (cysC; (cysC;\n",
      "\n",
      "17903293 -1 1\n",
      "Sentence(Document('17903293', Corpus (GWAS Text Corpus)), 8, u'With  GEE , 58 SNPs had p < 10 -6 : the top SNPs were rs2494250 (p = 1.00*10 -14 ) and rs4128725 (p = 3.68*10 -12 ) for monocyte chemoattractant protein-1 (MCP1), and rs2794520 (p = 2.83*10 -8 ) and rs2808629 (p = 3.19*10 -8 ) for C-reactive protein (CRP) averaged from 3 examinations (over about 20 years).')\n",
      "C-reactive protein (CRP) (CRP)\n",
      "\n"
     ]
    }
   ],
   "source": [
    "mislabeled_cand = learner.mislabeled_test_candidates(test_candidates, test_labels)\n",
    "for (c,p,g) in mislabeled_cand[:10]:\n",
    "    print c.span0.context.document.name, p, g\n",
    "    print c.span0.context    \n",
    "    print c.span0.get_span(), c.span1.get_span()\n",
    "    print"
   ]
  },
  {
   "cell_type": "code",
   "execution_count": null,
   "metadata": {
    "collapsed": true
   },
   "outputs": [],
   "source": []
  }
 ],
 "metadata": {
  "kernelspec": {
   "display_name": "Python 2",
   "language": "python",
   "name": "python2"
  }
 },
 "nbformat": 4,
 "nbformat_minor": 0
}
