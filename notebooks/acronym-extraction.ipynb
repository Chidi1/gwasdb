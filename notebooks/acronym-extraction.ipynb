{
 "cells": [
  {
   "cell_type": "markdown",
   "metadata": {},
   "source": [
    "# Phenotype acronym extraction"
   ]
  },
  {
   "cell_type": "code",
   "execution_count": 1,
   "metadata": {
    "collapsed": false
   },
   "outputs": [],
   "source": [
    "%load_ext autoreload\n",
    "%autoreload 2\n",
    "\n",
    "import sys\n",
    "import cPickle\n",
    "\n",
    "# import snorkel and gwasdb\n",
    "sys.path.append('../snorkel')\n",
    "sys.path.append('../src')\n",
    "sys.path.append('../src/crawler')\n",
    "\n",
    "# set up paths\n",
    "abstract_dir = '../data/db/papers'\n",
    "\n",
    "# set up matplotlib\n",
    "import matplotlib\n",
    "%matplotlib inline\n",
    "matplotlib.rcParams['figure.figsize'] = (12,4)"
   ]
  },
  {
   "cell_type": "markdown",
   "metadata": {},
   "source": [
    "## Load corpus"
   ]
  },
  {
   "cell_type": "code",
   "execution_count": 2,
   "metadata": {
    "collapsed": false
   },
   "outputs": [],
   "source": [
    "from snorkel.parser import XMLDocParser\n",
    "from extractor.parser import UnicodeXMLTableDocParser\n",
    "\n",
    "xml_parser = UnicodeXMLTableDocParser(\n",
    "    path=abstract_dir,\n",
    "    doc='./*',\n",
    "    text='.//table',\n",
    "    id='.//article-id[@pub-id-type=\"pmid\"]/text()',\n",
    "    keep_xml_tree=True)"
   ]
  },
  {
   "cell_type": "code",
   "execution_count": 3,
   "metadata": {
    "collapsed": false
   },
   "outputs": [
    {
     "name": "stdout",
     "output_type": "stream",
     "text": [
      "CPU times: user 52 s, sys: 2.78 s, total: 54.7 s\n",
      "Wall time: 1min 25s\n"
     ]
    }
   ],
   "source": [
    "from snorkel.parser import HTMLParser\n",
    "from extractor.parser import UnicodeTableParser\n",
    "from snorkel.parser import CorpusParser\n",
    "import cPickle\n",
    "\n",
    "table_parser = UnicodeTableParser()\n",
    "html_parser = HTMLParser(path='../data/db/papers/')\n",
    "\n",
    "corpus_name = 'gwas-table-corpus.pkl'\n",
    "\n",
    "try:\n",
    "    with open(corpus_name,\"r\") as pkl:\n",
    "        corpus = cPickle.load(pkl)\n",
    "except:\n",
    "    cp = CorpusParser(xml_parser, table_parser, max_docs=15)\n",
    "    %time corpus = cp.parse_corpus(name='GWAS Corpus')\n",
    "    # pickling currently doesn't work...\n",
    "#     with open(corpus_name,\"w\") as pkl:\n",
    "#         corpus = cPickle.dump(corpus, pkl)"
   ]
  },
  {
   "cell_type": "markdown",
   "metadata": {},
   "source": [
    "## Candidate extraction"
   ]
  },
  {
   "cell_type": "markdown",
   "metadata": {
    "collapsed": true
   },
   "source": [
    "### From tables"
   ]
  },
  {
   "cell_type": "code",
   "execution_count": 4,
   "metadata": {
    "collapsed": false
   },
   "outputs": [],
   "source": [
    "from snorkel.matchers import DictionaryMatch, Union, CellNameMatcher, CellDictNameMatcher\n",
    "from snorkel.candidates import EntityExtractor\n",
    "from snorkel.candidates import TableNgrams, CellSpace\n",
    "\n",
    "# Define a candidate space\n",
    "cells = CellSpace()\n",
    "\n",
    "# Create a list of possible words that could denote phenotypes\n",
    "acro_words = ['abbreviation', 'acronym']\n",
    "phen_words = ['trait', 'phenotype']\n",
    "\n",
    "# Define matchers\n",
    "phen_matcher = CellDictNameMatcher(axis='col', d=phen_words, n_max=3, ignore_case=True)\n",
    "acro_matcher = CellDictNameMatcher(axis='col', d=acro_words, n_max=3, ignore_case=True)\n",
    "\n",
    "phen_extractor = EntityExtractor(cells, phen_matcher)\n",
    "acro_extractor = EntityExtractor(cells, acro_matcher)"
   ]
  },
  {
   "cell_type": "code",
   "execution_count": 5,
   "metadata": {
    "collapsed": false
   },
   "outputs": [],
   "source": [
    "from snorkel.candidates import AlignedTableRelationExtractor\n",
    "relation_extractor = AlignedTableRelationExtractor(phen_extractor, acro_extractor, axis='row', induced=False)\n",
    "tables = corpus.get_tables()\n",
    "\n",
    "# create smaller subsets for evaluation/debugging\n",
    "easy_tables = [tables[8]]\n",
    "# hard_tables = [t for t in tables if t.document.name=='17658951']\n",
    "hard_doc = [d for d in corpus.documents if d.name == '17903293'][0]\n",
    "hard_tables = [hard_doc.tables[2]]"
   ]
  },
  {
   "cell_type": "code",
   "execution_count": 52,
   "metadata": {
    "collapsed": false
   },
   "outputs": [
    {
     "name": "stdout",
     "output_type": "stream",
     "text": [
      "228 relations extracted, e.g.\n",
      "SpanPair(Span(\"CD40 Ligand, serum & plasma\", context=None, chars=[0,26], words=[0,5]), Span(\"CD40L\", context=None, chars=[0,4], words=[0,0]))\n",
      "SpanPair(Span(\"2\", context=None, chars=[0,0], words=[0,0]), Span(\"CD40L\", context=None, chars=[0,4], words=[0,0]))\n",
      "SpanPair(Span(\"C-reactive protein\", context=None, chars=[0,17], words=[0,1]), Span(\"CRP\", context=None, chars=[0,2], words=[0,0]))\n",
      "SpanPair(Span(\"5\", context=None, chars=[0,0], words=[0,0]), Span(\"CRP\", context=None, chars=[0,2], words=[0,0]))\n",
      "SpanPair(Span(\"Intercellular adhesion molecule-1\", context=None, chars=[0,32], words=[0,2]), Span(\"ICAM1\", context=None, chars=[0,4], words=[0,0]))\n",
      "SpanPair(Span(\"1\", context=None, chars=[0,0], words=[0,0]), Span(\"ICAM1\", context=None, chars=[0,4], words=[0,0]))\n",
      "SpanPair(Span(\"Interleukin-6\", context=None, chars=[0,12], words=[0,0]), Span(\"IL6\", context=None, chars=[0,2], words=[0,0]))\n",
      "SpanPair(Span(\"1\", context=None, chars=[0,0], words=[0,0]), Span(\"IL6\", context=None, chars=[0,2], words=[0,0]))\n",
      "SpanPair(Span(\"Urinary isoprostanes/creatinine\", context=None, chars=[0,30], words=[0,1]), Span(\"IsoCrUrine\", context=None, chars=[0,9], words=[0,0]))\n",
      "SpanPair(Span(\"1\", context=None, chars=[0,0], words=[0,0]), Span(\"IsoCrUrine\", context=None, chars=[0,9], words=[0,0]))\n",
      "SpanPair(Span(\"Monocyte chemoattractant protein-1\", context=None, chars=[0,33], words=[0,2]), Span(\"MCP1\", context=None, chars=[0,3], words=[0,0]))\n",
      "SpanPair(Span(\"1\", context=None, chars=[0,0], words=[0,0]), Span(\"MCP1\", context=None, chars=[0,3], words=[0,0]))\n",
      "SpanPair(Span(\"Myeloperoxidase\", context=None, chars=[0,14], words=[0,0]), Span(\"MPO\", context=None, chars=[0,2], words=[0,0]))\n",
      "SpanPair(Span(\"1\", context=None, chars=[0,0], words=[0,0]), Span(\"MPO\", context=None, chars=[0,2], words=[0,0]))\n",
      "SpanPair(Span(\"Osteoprotegerin\", context=None, chars=[0,14], words=[0,0]), Span(\"OPG\", context=None, chars=[0,2], words=[0,0]))\n",
      "SpanPair(Span(\"1\", context=None, chars=[0,0], words=[0,0]), Span(\"OPG\", context=None, chars=[0,2], words=[0,0]))\n",
      "SpanPair(Span(\"P-selectin\", context=None, chars=[0,9], words=[0,0]), Span(\"Pselectin\", context=None, chars=[0,8], words=[0,0]))\n",
      "SpanPair(Span(\"1\", context=None, chars=[0,0], words=[0,0]), Span(\"Pselectin\", context=None, chars=[0,8], words=[0,0]))\n",
      "SpanPair(Span(\"Tumor necrosis factor alpha\", context=None, chars=[0,26], words=[0,3]), Span(\"TNFA\", context=None, chars=[0,3], words=[0,0]))\n",
      "SpanPair(Span(\"1\", context=None, chars=[0,0], words=[0,0]), Span(\"TNFA\", context=None, chars=[0,3], words=[0,0]))\n",
      "SpanPair(Span(\"Tumor necrosis factor receptor-2\", context=None, chars=[0,31], words=[0,3]), Span(\"TNFRII\", context=None, chars=[0,5], words=[0,0]))\n",
      "SpanPair(Span(\"1\", context=None, chars=[0,0], words=[0,0]), Span(\"TNFRII\", context=None, chars=[0,5], words=[0,0]))\n",
      "SpanPair(Span(\"N-terminal pro-atrial natriuretic peptide\", context=None, chars=[0,40], words=[0,3]), Span(\"ANP\", context=None, chars=[0,2], words=[0,0]))\n",
      "SpanPair(Span(\"1\", context=None, chars=[0,0], words=[0,0]), Span(\"ANP\", context=None, chars=[0,2], words=[0,0]))\n",
      "SpanPair(Span(\"B-type natriuretic peptide\", context=None, chars=[0,25], words=[0,2]), Span(\"BNP\", context=None, chars=[0,2], words=[0,0]))\n",
      "SpanPair(Span(\"1\", context=None, chars=[0,0], words=[0,0]), Span(\"BNP\", context=None, chars=[0,2], words=[0,0]))\n",
      "SpanPair(Span(\"Bilirubin\", context=None, chars=[0,8], words=[0,0]), Span(\"Bili\", context=None, chars=[0,3], words=[0,0]))\n",
      "SpanPair(Span(\"1\", context=None, chars=[0,0], words=[0,0]), Span(\"Bili\", context=None, chars=[0,3], words=[0,0]))\n",
      "SpanPair(Span(\"Aspartate aminotransferase **\", context=None, chars=[0,28], words=[0,2]), Span(\"AST\", context=None, chars=[0,2], words=[0,0]))\n",
      "SpanPair(Span(\"1\", context=None, chars=[0,0], words=[0,0]), Span(\"AST\", context=None, chars=[0,2], words=[0,0]))\n",
      "SpanPair(Span(\"Alanine aminotransferase\", context=None, chars=[0,23], words=[0,1]), Span(\"ALT\", context=None, chars=[0,2], words=[0,0]))\n",
      "SpanPair(Span(\"1\", context=None, chars=[0,0], words=[0,0]), Span(\"ALT\", context=None, chars=[0,2], words=[0,0]))\n",
      "SpanPair(Span(\"Alkaline phosphatase\", context=None, chars=[0,19], words=[0,1]), Span(\"AlkPhos\", context=None, chars=[0,6], words=[0,0]))\n",
      "SpanPair(Span(\"1\", context=None, chars=[0,0], words=[0,0]), Span(\"AlkPhos\", context=None, chars=[0,6], words=[0,0]))\n",
      "SpanPair(Span(\"Gamma-glutamyl transferase\", context=None, chars=[0,25], words=[0,1]), Span(\"GGT\", context=None, chars=[0,2], words=[0,0]))\n",
      "SpanPair(Span(\"1\", context=None, chars=[0,0], words=[0,0]), Span(\"GGT\", context=None, chars=[0,2], words=[0,0]))\n",
      "SpanPair(Span(\"Vitamin K plasma phylloquinone\", context=None, chars=[0,29], words=[0,3]), Span(\"VitKPhylloq\", context=None, chars=[0,10], words=[0,0]))\n",
      "SpanPair(Span(\"1\", context=None, chars=[0,0], words=[0,0]), Span(\"VitKPhylloq\", context=None, chars=[0,10], words=[0,0]))\n",
      "SpanPair(Span(\"Vitamin K percentage of undercarboxylated osteocalcin\", context=None, chars=[0,52], words=[0,5]), Span(\"VitKPucOC\", context=None, chars=[0,8], words=[0,0]))\n",
      "SpanPair(Span(\"1\", context=None, chars=[0,0], words=[0,0]), Span(\"VitKPucOC\", context=None, chars=[0,8], words=[0,0]))\n",
      "SpanPair(Span(\"Vitamin D plasma 25(OH)-D\", context=None, chars=[0,24], words=[0,8]), Span(\"VitD25OH\", context=None, chars=[0,7], words=[0,0]))\n",
      "SpanPair(Span(\"1\", context=None, chars=[0,0], words=[0,0]), Span(\"VitD25OH\", context=None, chars=[0,7], words=[0,0]))\n",
      "SpanPair(Span(\"Femoral BMD**\", context=None, chars=[0,12], words=[0,2]), Span(\"FNBMD\", context=None, chars=[0,4], words=[0,0]))\n",
      "SpanPair(Span(\"Trochanter BMD**\", context=None, chars=[0,15], words=[0,2]), Span(\"TRBMD\", context=None, chars=[0,4], words=[0,0]))\n",
      "SpanPair(Span(\"Lumbar spine BMD**\", context=None, chars=[0,17], words=[0,3]), Span(\"LSBMD\", context=None, chars=[0,4], words=[0,0]))\n",
      "SpanPair(Span(\"Broadband ultrasound attenuation**\", context=None, chars=[0,33], words=[0,3]), Span(\"BUA\", context=None, chars=[0,2], words=[0,0]))\n",
      "SpanPair(Span(\"Speed of Sound\", context=None, chars=[0,13], words=[0,2]), Span(\"SOS\", context=None, chars=[0,2], words=[0,0]))\n",
      "SpanPair(Span(\"Neck-shaft angle**\", context=None, chars=[0,17], words=[0,2]), Span(\"NSA1\", context=None, chars=[0,3], words=[0,0]))\n",
      "SpanPair(Span(\"Femoral neck length**\", context=None, chars=[0,20], words=[0,3]), Span(\"NeckLeng1\", context=None, chars=[0,8], words=[0,0]))\n",
      "SpanPair(Span(\"Neck width**\", context=None, chars=[0,11], words=[0,2]), Span(\"NeckW1r\", context=None, chars=[0,6], words=[0,0]))\n",
      "SpanPair(Span(\"Neck section modulus**\", context=None, chars=[0,21], words=[0,3]), Span(\"NeckZ1r\", context=None, chars=[0,6], words=[0,0]))\n",
      "SpanPair(Span(\"Neck Cross-Sectional Moment of Inertia\", context=None, chars=[0,37], words=[0,4]), Span(\"NeckCSMI1r\", context=None, chars=[0,9], words=[0,0]))\n",
      "SpanPair(Span(\"Neck Average Buckling Ratio\", context=None, chars=[0,26], words=[0,3]), Span(\"NeckAvgBR1r\", context=None, chars=[0,10], words=[0,0]))\n",
      "SpanPair(Span(\"Shaft width**\", context=None, chars=[0,12], words=[0,2]), Span(\"ShaftW1\", context=None, chars=[0,6], words=[0,0]))\n",
      "SpanPair(Span(\"Shaft Section modulus**\", context=None, chars=[0,22], words=[0,3]), Span(\"ShaftZ1r\", context=None, chars=[0,7], words=[0,0]))\n",
      "SpanPair(Span(\"Shaft Cross-Sectional Moment of Inertia\", context=None, chars=[0,38], words=[0,4]), Span(\"ShaftCSMIr\", context=None, chars=[0,9], words=[0,0]))\n",
      "SpanPair(Span(\"Shaft Average Buckling Ratio\", context=None, chars=[0,27], words=[0,3]), Span(\"ShaftAvgBR1r\", context=None, chars=[0,11], words=[0,0]))\n",
      "SpanPair(Span(\"Inter-Trochanteric Average Buckling Ratio\", context=None, chars=[0,40], words=[0,3]), Span(\"ITAvgBR1r\", context=None, chars=[0,8], words=[0,0]))\n",
      "SpanPair(Span(\"sub-entity of inflammatory bowel disease (IBD)\", context=None, chars=[22,67], words=[7,14]), Span(\"(IBD)\", context=None, chars=[63,67], words=[12,14]))\n",
      "SpanPair(Span(\"inflammatory bowel disease (IBD)\", context=None, chars=[36,67], words=[9,14]), Span(\"(IBD)\", context=None, chars=[63,67], words=[12,14]))\n",
      "SpanPair(Span(\"disease (IBD)\", context=None, chars=[55,67], words=[11,14]), Span(\"(IBD)\", context=None, chars=[63,67], words=[12,14]))\n",
      "SpanPair(Span(\"and urinary albumin excretion (UAE)\", context=None, chars=[33,67], words=[6,12]), Span(\"(UAE)\", context=None, chars=[63,67], words=[10,12]))\n",
      "SpanPair(Span(\"urinary albumin excretion (UAE)\", context=None, chars=[37,67], words=[7,12]), Span(\"(UAE)\", context=None, chars=[63,67], words=[10,12]))\n",
      "SpanPair(Span(\"albumin excretion (UAE)\", context=None, chars=[45,67], words=[8,12]), Span(\"(UAE)\", context=None, chars=[63,67], words=[10,12]))\n",
      "SpanPair(Span(\"excretion (UAE)\", context=None, chars=[53,67], words=[9,12]), Span(\"(UAE)\", context=None, chars=[63,67], words=[10,12]))\n",
      "SpanPair(Span(\"100K single nucleotide polymorphism (SNP)\", context=None, chars=[72,112], words=[10,16]), Span(\"(SNP)\", context=None, chars=[108,112], words=[14,16]))\n",
      "SpanPair(Span(\"nucleotide polymorphism (SNP)\", context=None, chars=[84,112], words=[12,16]), Span(\"(SNP)\", context=None, chars=[108,112], words=[14,16]))\n",
      "SpanPair(Span(\"creatinine and cystatin-C (cysC;\", context=None, chars=[6,37], words=[1,6]), Span(\"(cysC;\", context=None, chars=[32,37], words=[4,6]))\n",
      "SpanPair(Span(\"cystatin-C (cysC;\", context=None, chars=[21,37], words=[3,6]), Span(\"(cysC;\", context=None, chars=[32,37], words=[4,6]))\n",
      "SpanPair(Span(\"stimulating hormone (TSH)\", context=None, chars=[8,32], words=[1,5]), Span(\"(TSH)\", context=None, chars=[28,32], words=[3,5]))\n",
      "SpanPair(Span(\"data using generalized estimating equations (GEE)\", context=None, chars=[116,164], words=[13,20]), Span(\"(GEE)\", context=None, chars=[160,164], words=[18,20]))\n",
      "SpanPair(Span(\"generalized estimating equations (GEE)\", context=None, chars=[127,164], words=[15,20]), Span(\"(GEE)\", context=None, chars=[160,164], words=[18,20]))\n",
      "SpanPair(Span(\"equations (GEE)\", context=None, chars=[150,164], words=[17,20]), Span(\"(GEE)\", context=None, chars=[160,164], words=[18,20]))\n",
      "SpanPair(Span(\"used Generalized Estimating Equations (GEE)\", context=None, chars=[3,45], words=[1,7]), Span(\"(GEE)\", context=None, chars=[41,45], words=[5,7]))\n",
      "SpanPair(Span(\"Estimating Equations (GEE)\", context=None, chars=[20,45], words=[3,7]), Span(\"(GEE)\", context=None, chars=[41,45], words=[5,7]))\n",
      "SpanPair(Span(\"-8 ) for C-reactive protein (CRP)\", context=None, chars=[222,254], words=[60,67]), Span(\"(CRP)\", context=None, chars=[250,254], words=[65,67]))\n",
      "SpanPair(Span(\"for C-reactive protein (CRP)\", context=None, chars=[227,254], words=[62,67]), Span(\"(CRP)\", context=None, chars=[250,254], words=[65,67]))\n",
      "SpanPair(Span(\"protein (CRP)\", context=None, chars=[242,254], words=[64,67]), Span(\"(CRP)\", context=None, chars=[250,254], words=[65,67]))\n",
      "SpanPair(Span(\"risk of cardiovascular disease (CVD)\", context=None, chars=[105,140], words=[15,21]), Span(\"(CVD)\", context=None, chars=[136,140], words=[19,21]))\n",
      "SpanPair(Span(\"cardiovascular disease (CVD)\", context=None, chars=[113,140], words=[17,21]), Span(\"(CVD)\", context=None, chars=[136,140], words=[19,21]))\n",
      "SpanPair(Span(\"GeneChip 100K single nucleotide polymorphism (SNP)\", context=None, chars=[166,215], words=[25,32]), Span(\"(SNP)\", context=None, chars=[211,215], words=[30,32]))\n",
      "SpanPair(Span(\"single nucleotide polymorphism (SNP)\", context=None, chars=[180,215], words=[27,32]), Span(\"(SNP)\", context=None, chars=[211,215], words=[30,32]))\n",
      "SpanPair(Span(\"polymorphism (SNP)\", context=None, chars=[198,215], words=[29,32]), Span(\"(SNP)\", context=None, chars=[211,215], words=[30,32]))\n",
      "SpanPair(Span(\"1000 Framingham Heart Study (FHS)\", context=None, chars=[366,398], words=[55,61]), Span(\"(FHS)\", context=None, chars=[394,398], words=[59,61]))\n",
      "SpanPair(Span(\"Heart Study (FHS)\", context=None, chars=[382,398], words=[57,61]), Span(\"(FHS)\", context=None, chars=[394,398], words=[59,61]))\n",
      "SpanPair(Span(\"using the generalized estimating equations (GEE)\", context=None, chars=[38,85], words=[3,10]), Span(\"(GEE)\", context=None, chars=[81,85], words=[8,10]))\n",
      "SpanPair(Span(\"generalized estimating equations (GEE)\", context=None, chars=[48,85], words=[5,10]), Span(\"(GEE)\", context=None, chars=[81,85], words=[8,10]))\n",
      "SpanPair(Span(\"equations (GEE)\", context=None, chars=[71,85], words=[7,10]), Span(\"(GEE)\", context=None, chars=[81,85], words=[8,10]))\n",
      "SpanPair(Span(\"for generalized estimating equation (GEE)\", context=None, chars=[16,56], words=[4,10]), Span(\"(GEE)\", context=None, chars=[52,56], words=[8,10]))\n",
      "SpanPair(Span(\"estimating equation (GEE)\", context=None, chars=[32,56], words=[6,10]), Span(\"(GEE)\", context=None, chars=[52,56], words=[8,10]))\n",
      "SpanPair(Span(\"in the Framingham Heart Study (FHS)\", context=None, chars=[52,86], words=[9,16]), Span(\"(FHS)\", context=None, chars=[82,86], words=[14,16]))\n",
      "SpanPair(Span(\"the Framingham Heart Study (FHS)\", context=None, chars=[55,86], words=[10,16]), Span(\"(FHS)\", context=None, chars=[82,86], words=[14,16]))\n",
      "SpanPair(Span(\"Framingham Heart Study (FHS)\", context=None, chars=[59,86], words=[11,16]), Span(\"(FHS)\", context=None, chars=[82,86], words=[14,16]))\n",
      "SpanPair(Span(\"Heart Study (FHS)\", context=None, chars=[70,86], words=[12,16]), Span(\"(FHS)\", context=None, chars=[82,86], words=[14,16]))\n",
      "SpanPair(Span(\"Study (FHS)\", context=None, chars=[76,86], words=[13,16]), Span(\"(FHS)\", context=None, chars=[82,86], words=[14,16]))\n",
      "SpanPair(Span(\"used additive generalized estimating equation (GEE)\", context=None, chars=[75,125], words=[10,17]), Span(\"(GEE)\", context=None, chars=[121,125], words=[15,17]))\n",
      "SpanPair(Span(\"generalized estimating equation (GEE)\", context=None, chars=[89,125], words=[12,17]), Span(\"(GEE)\", context=None, chars=[121,125], words=[15,17]))\n",
      "SpanPair(Span(\"equation (GEE)\", context=None, chars=[112,125], words=[14,17]), Span(\"(GEE)\", context=None, chars=[121,125], words=[15,17]))\n",
      "SpanPair(Span(\"magnetic resonance imaging (MRI)\", context=None, chars=[6,37], words=[1,6]), Span(\"(MRI)\", context=None, chars=[33,37], words=[4,6]))\n",
      "SpanPair(Span(\"imaging (MRI)\", context=None, chars=[25,37], words=[3,6]), Span(\"(MRI)\", context=None, chars=[33,37], words=[4,6]))\n"
     ]
    }
   ],
   "source": [
    "# %time candidates = relation_extractor.extract(tables, name='all')\n",
    "print \"%s relations extracted, e.g.\" % len(candidates)\n",
    "for cand in candidates[:100]: \n",
    "    print cand"
   ]
  },
  {
   "cell_type": "code",
   "execution_count": 12,
   "metadata": {
    "collapsed": false
   },
   "outputs": [
    {
     "name": "stdout",
     "output_type": "stream",
     "text": [
      "Table('17903293', 0) SpanPair(Span(\"CD40 Ligand, serum & plasma\", context=None, chars=[0,26], words=[0,5]), Span(\"CD40L\", context=None, chars=[0,4], words=[0,0]))\n",
      "Table('17903293', 0) SpanPair(Span(\"2\", context=None, chars=[0,0], words=[0,0]), Span(\"CD40L\", context=None, chars=[0,4], words=[0,0]))\n",
      "Table('17903293', 0) SpanPair(Span(\"C-reactive protein\", context=None, chars=[0,17], words=[0,1]), Span(\"CRP\", context=None, chars=[0,2], words=[0,0]))\n",
      "Table('17903293', 0) SpanPair(Span(\"5\", context=None, chars=[0,0], words=[0,0]), Span(\"CRP\", context=None, chars=[0,2], words=[0,0]))\n",
      "Table('17903293', 0) SpanPair(Span(\"Intercellular adhesion molecule-1\", context=None, chars=[0,32], words=[0,2]), Span(\"ICAM1\", context=None, chars=[0,4], words=[0,0]))\n",
      "Table('17903293', 0) SpanPair(Span(\"1\", context=None, chars=[0,0], words=[0,0]), Span(\"ICAM1\", context=None, chars=[0,4], words=[0,0]))\n",
      "Table('17903293', 0) SpanPair(Span(\"Interleukin-6\", context=None, chars=[0,12], words=[0,0]), Span(\"IL6\", context=None, chars=[0,2], words=[0,0]))\n",
      "Table('17903293', 0) SpanPair(Span(\"1\", context=None, chars=[0,0], words=[0,0]), Span(\"IL6\", context=None, chars=[0,2], words=[0,0]))\n",
      "Table('17903293', 0) SpanPair(Span(\"Urinary isoprostanes/creatinine\", context=None, chars=[0,30], words=[0,1]), Span(\"IsoCrUrine\", context=None, chars=[0,9], words=[0,0]))\n",
      "Table('17903293', 0) SpanPair(Span(\"1\", context=None, chars=[0,0], words=[0,0]), Span(\"IsoCrUrine\", context=None, chars=[0,9], words=[0,0]))\n",
      "Table('17903293', 0) SpanPair(Span(\"Monocyte chemoattractant protein-1\", context=None, chars=[0,33], words=[0,2]), Span(\"MCP1\", context=None, chars=[0,3], words=[0,0]))\n",
      "Table('17903293', 0) SpanPair(Span(\"1\", context=None, chars=[0,0], words=[0,0]), Span(\"MCP1\", context=None, chars=[0,3], words=[0,0]))\n",
      "Table('17903293', 0) SpanPair(Span(\"Myeloperoxidase\", context=None, chars=[0,14], words=[0,0]), Span(\"MPO\", context=None, chars=[0,2], words=[0,0]))\n",
      "Table('17903293', 0) SpanPair(Span(\"1\", context=None, chars=[0,0], words=[0,0]), Span(\"MPO\", context=None, chars=[0,2], words=[0,0]))\n",
      "Table('17903293', 0) SpanPair(Span(\"Osteoprotegerin\", context=None, chars=[0,14], words=[0,0]), Span(\"OPG\", context=None, chars=[0,2], words=[0,0]))\n",
      "Table('17903293', 0) SpanPair(Span(\"1\", context=None, chars=[0,0], words=[0,0]), Span(\"OPG\", context=None, chars=[0,2], words=[0,0]))\n",
      "Table('17903293', 0) SpanPair(Span(\"P-selectin\", context=None, chars=[0,9], words=[0,0]), Span(\"Pselectin\", context=None, chars=[0,8], words=[0,0]))\n",
      "Table('17903293', 0) SpanPair(Span(\"1\", context=None, chars=[0,0], words=[0,0]), Span(\"Pselectin\", context=None, chars=[0,8], words=[0,0]))\n",
      "Table('17903293', 0) SpanPair(Span(\"Tumor necrosis factor alpha\", context=None, chars=[0,26], words=[0,3]), Span(\"TNFA\", context=None, chars=[0,3], words=[0,0]))\n",
      "Table('17903293', 0) SpanPair(Span(\"1\", context=None, chars=[0,0], words=[0,0]), Span(\"TNFA\", context=None, chars=[0,3], words=[0,0]))\n",
      "Table('17903293', 0) SpanPair(Span(\"Tumor necrosis factor receptor-2\", context=None, chars=[0,31], words=[0,3]), Span(\"TNFRII\", context=None, chars=[0,5], words=[0,0]))\n",
      "Table('17903293', 0) SpanPair(Span(\"1\", context=None, chars=[0,0], words=[0,0]), Span(\"TNFRII\", context=None, chars=[0,5], words=[0,0]))\n",
      "Table('17903293', 0) SpanPair(Span(\"N-terminal pro-atrial natriuretic peptide\", context=None, chars=[0,40], words=[0,3]), Span(\"ANP\", context=None, chars=[0,2], words=[0,0]))\n",
      "Table('17903293', 0) SpanPair(Span(\"1\", context=None, chars=[0,0], words=[0,0]), Span(\"ANP\", context=None, chars=[0,2], words=[0,0]))\n",
      "Table('17903293', 0) SpanPair(Span(\"B-type natriuretic peptide\", context=None, chars=[0,25], words=[0,2]), Span(\"BNP\", context=None, chars=[0,2], words=[0,0]))\n",
      "Table('17903293', 0) SpanPair(Span(\"1\", context=None, chars=[0,0], words=[0,0]), Span(\"BNP\", context=None, chars=[0,2], words=[0,0]))\n",
      "Table('17903293', 0) SpanPair(Span(\"Bilirubin\", context=None, chars=[0,8], words=[0,0]), Span(\"Bili\", context=None, chars=[0,3], words=[0,0]))\n",
      "Table('17903293', 0) SpanPair(Span(\"1\", context=None, chars=[0,0], words=[0,0]), Span(\"Bili\", context=None, chars=[0,3], words=[0,0]))\n",
      "Table('17903293', 0) SpanPair(Span(\"Aspartate aminotransferase **\", context=None, chars=[0,28], words=[0,2]), Span(\"AST\", context=None, chars=[0,2], words=[0,0]))\n",
      "Table('17903293', 0) SpanPair(Span(\"1\", context=None, chars=[0,0], words=[0,0]), Span(\"AST\", context=None, chars=[0,2], words=[0,0]))\n",
      "Table('17903293', 0) SpanPair(Span(\"Alanine aminotransferase\", context=None, chars=[0,23], words=[0,1]), Span(\"ALT\", context=None, chars=[0,2], words=[0,0]))\n",
      "Table('17903293', 0) SpanPair(Span(\"1\", context=None, chars=[0,0], words=[0,0]), Span(\"ALT\", context=None, chars=[0,2], words=[0,0]))\n",
      "Table('17903293', 0) SpanPair(Span(\"Alkaline phosphatase\", context=None, chars=[0,19], words=[0,1]), Span(\"AlkPhos\", context=None, chars=[0,6], words=[0,0]))\n",
      "Table('17903293', 0) SpanPair(Span(\"1\", context=None, chars=[0,0], words=[0,0]), Span(\"AlkPhos\", context=None, chars=[0,6], words=[0,0]))\n",
      "Table('17903293', 0) SpanPair(Span(\"Gamma-glutamyl transferase\", context=None, chars=[0,25], words=[0,1]), Span(\"GGT\", context=None, chars=[0,2], words=[0,0]))\n",
      "Table('17903293', 0) SpanPair(Span(\"1\", context=None, chars=[0,0], words=[0,0]), Span(\"GGT\", context=None, chars=[0,2], words=[0,0]))\n",
      "Table('17903293', 0) SpanPair(Span(\"Vitamin K plasma phylloquinone\", context=None, chars=[0,29], words=[0,3]), Span(\"VitKPhylloq\", context=None, chars=[0,10], words=[0,0]))\n",
      "Table('17903293', 0) SpanPair(Span(\"1\", context=None, chars=[0,0], words=[0,0]), Span(\"VitKPhylloq\", context=None, chars=[0,10], words=[0,0]))\n",
      "Table('17903293', 0) SpanPair(Span(\"Vitamin K percentage of undercarboxylated osteocalcin\", context=None, chars=[0,52], words=[0,5]), Span(\"VitKPucOC\", context=None, chars=[0,8], words=[0,0]))\n",
      "Table('17903293', 0) SpanPair(Span(\"1\", context=None, chars=[0,0], words=[0,0]), Span(\"VitKPucOC\", context=None, chars=[0,8], words=[0,0]))\n",
      "Table('17903293', 0) SpanPair(Span(\"Vitamin D plasma 25(OH)-D\", context=None, chars=[0,24], words=[0,8]), Span(\"VitD25OH\", context=None, chars=[0,7], words=[0,0]))\n",
      "Table('17903293', 0) SpanPair(Span(\"1\", context=None, chars=[0,0], words=[0,0]), Span(\"VitD25OH\", context=None, chars=[0,7], words=[0,0]))\n",
      "Table('17903296', 0) SpanPair(Span(\"Femoral BMD**\", context=None, chars=[0,12], words=[0,2]), Span(\"FNBMD\", context=None, chars=[0,4], words=[0,0]))\n",
      "Table('17903296', 0) SpanPair(Span(\"Trochanter BMD**\", context=None, chars=[0,15], words=[0,2]), Span(\"TRBMD\", context=None, chars=[0,4], words=[0,0]))\n",
      "Table('17903296', 0) SpanPair(Span(\"Lumbar spine BMD**\", context=None, chars=[0,17], words=[0,3]), Span(\"LSBMD\", context=None, chars=[0,4], words=[0,0]))\n",
      "Table('17903296', 0) SpanPair(Span(\"Broadband ultrasound attenuation**\", context=None, chars=[0,33], words=[0,3]), Span(\"BUA\", context=None, chars=[0,2], words=[0,0]))\n",
      "Table('17903296', 0) SpanPair(Span(\"Speed of Sound\", context=None, chars=[0,13], words=[0,2]), Span(\"SOS\", context=None, chars=[0,2], words=[0,0]))\n",
      "Table('17903296', 0) SpanPair(Span(\"Neck-shaft angle**\", context=None, chars=[0,17], words=[0,2]), Span(\"NSA1\", context=None, chars=[0,3], words=[0,0]))\n",
      "Table('17903296', 0) SpanPair(Span(\"Femoral neck length**\", context=None, chars=[0,20], words=[0,3]), Span(\"NeckLeng1\", context=None, chars=[0,8], words=[0,0]))\n",
      "Table('17903296', 0) SpanPair(Span(\"Neck width**\", context=None, chars=[0,11], words=[0,2]), Span(\"NeckW1r\", context=None, chars=[0,6], words=[0,0]))\n",
      "Table('17903296', 0) SpanPair(Span(\"Neck section modulus**\", context=None, chars=[0,21], words=[0,3]), Span(\"NeckZ1r\", context=None, chars=[0,6], words=[0,0]))\n",
      "Table('17903296', 0) SpanPair(Span(\"Neck Cross-Sectional Moment of Inertia\", context=None, chars=[0,37], words=[0,4]), Span(\"NeckCSMI1r\", context=None, chars=[0,9], words=[0,0]))\n",
      "Table('17903296', 0) SpanPair(Span(\"Neck Average Buckling Ratio\", context=None, chars=[0,26], words=[0,3]), Span(\"NeckAvgBR1r\", context=None, chars=[0,10], words=[0,0]))\n",
      "Table('17903296', 0) SpanPair(Span(\"Shaft width**\", context=None, chars=[0,12], words=[0,2]), Span(\"ShaftW1\", context=None, chars=[0,6], words=[0,0]))\n",
      "Table('17903296', 0) SpanPair(Span(\"Shaft Section modulus**\", context=None, chars=[0,22], words=[0,3]), Span(\"ShaftZ1r\", context=None, chars=[0,7], words=[0,0]))\n",
      "Table('17903296', 0) SpanPair(Span(\"Shaft Cross-Sectional Moment of Inertia\", context=None, chars=[0,38], words=[0,4]), Span(\"ShaftCSMIr\", context=None, chars=[0,9], words=[0,0]))\n",
      "Table('17903296', 0) SpanPair(Span(\"Shaft Average Buckling Ratio\", context=None, chars=[0,27], words=[0,3]), Span(\"ShaftAvgBR1r\", context=None, chars=[0,11], words=[0,0]))\n",
      "Table('17903296', 0) SpanPair(Span(\"Inter-Trochanteric Average Buckling Ratio\", context=None, chars=[0,40], words=[0,3]), Span(\"ITAvgBR1r\", context=None, chars=[0,8], words=[0,0]))\n"
     ]
    }
   ],
   "source": [
    "for cand in candidates[:100]: \n",
    "    print cand.span0.context.table, cand"
   ]
  },
  {
   "cell_type": "markdown",
   "metadata": {},
   "source": [
    "### From text"
   ]
  },
  {
   "cell_type": "code",
   "execution_count": 37,
   "metadata": {
    "collapsed": false
   },
   "outputs": [
    {
     "name": "stdout",
     "output_type": "stream",
     "text": [
      "CPU times: user 551 ms, sys: 587 ms, total: 1.14 s\n",
      "Wall time: 7.25 s\n"
     ]
    }
   ],
   "source": [
    "from snorkel.parser import SentenceParser, CorpusParser\n",
    "from extractor.parser import UnicodeXMLDocParser, GWASXMLDocParser\n",
    "\n",
    "xml_parser = GWASXMLDocParser(\n",
    "    path=abstract_dir,\n",
    "    doc='./*',\n",
    "    title='.//front//article-title//text()',\n",
    "    abstract='.//abstract//p//text()',\n",
    "    par1='.//body/p[1]//text()',\n",
    "    id='.//article-id[@pub-id-type=\"pmid\"]/text()',\n",
    "    keep_xml_tree=True)\n",
    "\n",
    "sent_parser = SentenceParser()\n",
    "cp = CorpusParser(xml_parser, sent_parser, max_docs=15)\n",
    "%time text_corpus = cp.parse_corpus(name='GWAS Text Corpus')"
   ]
  },
  {
   "cell_type": "code",
   "execution_count": 32,
   "metadata": {
    "collapsed": false
   },
   "outputs": [],
   "source": [
    "from snorkel.candidates import Ngrams\n",
    "from snorkel.matchers import RegexMatchSpan\n",
    "from snorkel.candidates import EntityExtractor, RelationExtractor\n",
    "\n",
    "# Define a candidate space\n",
    "ngrams6 = Ngrams(n_max=6)\n",
    "ngrams3 = Ngrams(n_max=3)\n",
    "\n",
    "# Define matchers\n",
    "phen_matcher = RegexMatchSpan(rgx=r'.+ \\([a-zA-Z]{0,5}[\\);]')\n",
    "acro_matcher = RegexMatchSpan(rgx=r'\\([a-zA-Z]{0,5}[\\);]')\n",
    "\n",
    "# Extractors\n",
    "phen_txt_extractor = EntityExtractor(ngrams6, phen_matcher)\n",
    "acro_txt_extractor = EntityExtractor(ngrams3, acro_matcher)\n",
    "\n",
    "# Filtering function\n",
    "def overlap_filter_fn(span0, span1):\n",
    "    start0, end0 = span0.char_start, span0.char_end\n",
    "    start1, end1 = span1.char_start, span1.char_end\n",
    "    return True if start0 <= start1 <= end1 <= end0 else False\n",
    "\n",
    "# Relation extractor\n",
    "txt_tab_extractor = RelationExtractor(phen_txt_extractor, acro_txt_extractor, filter_fn=overlap_filter_fn)"
   ]
  },
  {
   "cell_type": "markdown",
   "metadata": {},
   "source": [
    "Extract acroynms from tables"
   ]
  },
  {
   "cell_type": "code",
   "execution_count": 55,
   "metadata": {
    "collapsed": false
   },
   "outputs": [
    {
     "name": "stdout",
     "output_type": "stream",
     "text": [
      "CPU times: user 1.16 s, sys: 77.4 ms, total: 1.23 s\n",
      "Wall time: 1.2 s\n",
      "325 candidates extracted from text in tables\n"
     ]
    }
   ],
   "source": [
    "# %time txt_tab_c = acro_txt_extractor.extract(corpus.get_sentences(), name='all')\n",
    "%time txt_tab_c = txt_tab_extractor.extract(corpus.get_sentences(), name='all')\n",
    "print len(txt_tab_c), 'candidates extracted from text in tables'"
   ]
  },
  {
   "cell_type": "markdown",
   "metadata": {},
   "source": [
    "Extract acroynms from abstracts"
   ]
  },
  {
   "cell_type": "code",
   "execution_count": 56,
   "metadata": {
    "collapsed": false
   },
   "outputs": [
    {
     "name": "stdout",
     "output_type": "stream",
     "text": [
      "CPU times: user 938 ms, sys: 49.6 ms, total: 988 ms\n",
      "Wall time: 976 ms\n",
      "169 candidates extracted from text in abstracts\n"
     ]
    }
   ],
   "source": [
    "%time txt_txt_c = txt_tab_extractor.extract(text_corpus.get_sentences(), name='all')\n",
    "print len(txt_txt_c), 'candidates extracted from text in abstracts'"
   ]
  },
  {
   "cell_type": "code",
   "execution_count": 39,
   "metadata": {
    "collapsed": false
   },
   "outputs": [
    {
     "name": "stdout",
     "output_type": "stream",
     "text": [
      "17684544 SpanPair(Span(\"sub-entity of inflammatory bowel disease (IBD)\", context=None, chars=[22,67], words=[7,14]), Span(\"(IBD)\", context=None, chars=[63,67], words=[12,14]))\n",
      "17684544 SpanPair(Span(\"of inflammatory bowel disease (IBD)\", context=None, chars=[33,67], words=[8,14]), Span(\"(IBD)\", context=None, chars=[63,67], words=[12,14]))\n",
      "17684544 SpanPair(Span(\"inflammatory bowel disease (IBD)\", context=None, chars=[36,67], words=[9,14]), Span(\"(IBD)\", context=None, chars=[63,67], words=[12,14]))\n",
      "17684544 SpanPair(Span(\"bowel disease (IBD)\", context=None, chars=[49,67], words=[10,14]), Span(\"(IBD)\", context=None, chars=[63,67], words=[12,14]))\n",
      "17684544 SpanPair(Span(\"disease (IBD)\", context=None, chars=[55,67], words=[11,14]), Span(\"(IBD)\", context=None, chars=[63,67], words=[12,14]))\n",
      "17903292 SpanPair(Span(\") and urinary albumin excretion (UAE)\", context=None, chars=[31,67], words=[5,12]), Span(\"(UAE)\", context=None, chars=[63,67], words=[10,12]))\n",
      "17903292 SpanPair(Span(\"and urinary albumin excretion (UAE)\", context=None, chars=[33,67], words=[6,12]), Span(\"(UAE)\", context=None, chars=[63,67], words=[10,12]))\n",
      "17903292 SpanPair(Span(\"Glomerular filtration rate (GFR)\", context=None, chars=[0,31], words=[0,5]), Span(\"(GFR)\", context=None, chars=[27,31], words=[3,5]))\n",
      "17903292 SpanPair(Span(\"urinary albumin excretion (UAE)\", context=None, chars=[37,67], words=[7,12]), Span(\"(UAE)\", context=None, chars=[63,67], words=[10,12]))\n",
      "17903292 SpanPair(Span(\"filtration rate (GFR)\", context=None, chars=[11,31], words=[1,5]), Span(\"(GFR)\", context=None, chars=[27,31], words=[3,5]))\n",
      "17903292 SpanPair(Span(\"albumin excretion (UAE)\", context=None, chars=[45,67], words=[8,12]), Span(\"(UAE)\", context=None, chars=[63,67], words=[10,12]))\n",
      "17903292 SpanPair(Span(\"rate (GFR)\", context=None, chars=[22,31], words=[2,5]), Span(\"(GFR)\", context=None, chars=[27,31], words=[3,5]))\n",
      "17903292 SpanPair(Span(\"excretion (UAE)\", context=None, chars=[53,67], words=[9,12]), Span(\"(UAE)\", context=None, chars=[63,67], words=[10,12]))\n",
      "17903292 SpanPair(Span(\"Mapping 100K single nucleotide polymorphism (SNP)\", context=None, chars=[64,112], words=[9,16]), Span(\"(SNP)\", context=None, chars=[108,112], words=[14,16]))\n",
      "17903292 SpanPair(Span(\"100K single nucleotide polymorphism (SNP)\", context=None, chars=[72,112], words=[10,16]), Span(\"(SNP)\", context=None, chars=[108,112], words=[14,16]))\n",
      "17903292 SpanPair(Span(\"single nucleotide polymorphism (SNP)\", context=None, chars=[77,112], words=[11,16]), Span(\"(SNP)\", context=None, chars=[108,112], words=[14,16]))\n",
      "17903292 SpanPair(Span(\"nucleotide polymorphism (SNP)\", context=None, chars=[84,112], words=[12,16]), Span(\"(SNP)\", context=None, chars=[108,112], words=[14,16]))\n",
      "17903292 SpanPair(Span(\"polymorphism (SNP)\", context=None, chars=[95,112], words=[13,16]), Span(\"(SNP)\", context=None, chars=[108,112], words=[14,16]))\n",
      "17903292 SpanPair(Span(\"creatinine and cystatin-C (cysC;\", context=None, chars=[6,37], words=[1,6]), Span(\"(cysC;\", context=None, chars=[32,37], words=[4,6]))\n",
      "17903292 SpanPair(Span(\"and cystatin-C (cysC;\", context=None, chars=[17,37], words=[2,6]), Span(\"(cysC;\", context=None, chars=[32,37], words=[4,6]))\n",
      "17903292 SpanPair(Span(\"cystatin-C (cysC;\", context=None, chars=[21,37], words=[3,6]), Span(\"(cysC;\", context=None, chars=[32,37], words=[4,6]))\n",
      "17903292 SpanPair(Span(\"Thyroid stimulating hormone (TSH)\", context=None, chars=[0,32], words=[0,5]), Span(\"(TSH)\", context=None, chars=[28,32], words=[3,5]))\n",
      "17903292 SpanPair(Span(\"stimulating hormone (TSH)\", context=None, chars=[8,32], words=[1,5]), Span(\"(TSH)\", context=None, chars=[28,32], words=[3,5]))\n",
      "17903292 SpanPair(Span(\"hormone (TSH)\", context=None, chars=[20,32], words=[2,5]), Span(\"(TSH)\", context=None, chars=[28,32], words=[3,5]))\n",
      "17903292 SpanPair(Span(\"data using generalized estimating equations (GEE)\", context=None, chars=[116,164], words=[13,20]), Span(\"(GEE)\", context=None, chars=[160,164], words=[18,20]))\n",
      "17903292 SpanPair(Span(\"using generalized estimating equations (GEE)\", context=None, chars=[121,164], words=[14,20]), Span(\"(GEE)\", context=None, chars=[160,164], words=[18,20]))\n",
      "17903292 SpanPair(Span(\"generalized estimating equations (GEE)\", context=None, chars=[127,164], words=[15,20]), Span(\"(GEE)\", context=None, chars=[160,164], words=[18,20]))\n",
      "17903292 SpanPair(Span(\"estimating equations (GEE)\", context=None, chars=[139,164], words=[16,20]), Span(\"(GEE)\", context=None, chars=[160,164], words=[18,20]))\n",
      "17903292 SpanPair(Span(\"equations (GEE)\", context=None, chars=[150,164], words=[17,20]), Span(\"(GEE)\", context=None, chars=[160,164], words=[18,20]))\n",
      "17903293 SpanPair(Span(\"We used Generalized Estimating Equations (GEE)\", context=None, chars=[0,45], words=[0,7]), Span(\"(GEE)\", context=None, chars=[41,45], words=[5,7]))\n",
      "17903293 SpanPair(Span(\"used Generalized Estimating Equations (GEE)\", context=None, chars=[3,45], words=[1,7]), Span(\"(GEE)\", context=None, chars=[41,45], words=[5,7]))\n",
      "17903293 SpanPair(Span(\"Generalized Estimating Equations (GEE)\", context=None, chars=[8,45], words=[2,7]), Span(\"(GEE)\", context=None, chars=[41,45], words=[5,7]))\n",
      "17903293 SpanPair(Span(\"Estimating Equations (GEE)\", context=None, chars=[20,45], words=[3,7]), Span(\"(GEE)\", context=None, chars=[41,45], words=[5,7]))\n",
      "17903293 SpanPair(Span(\"Equations (GEE)\", context=None, chars=[31,45], words=[4,7]), Span(\"(GEE)\", context=None, chars=[41,45], words=[5,7]))\n",
      "17903293 SpanPair(Span(\"-8 ) for C-reactive protein (CRP)\", context=None, chars=[222,254], words=[60,67]), Span(\"(CRP)\", context=None, chars=[250,254], words=[65,67]))\n",
      "17903293 SpanPair(Span(\") for C-reactive protein (CRP)\", context=None, chars=[225,254], words=[61,67]), Span(\"(CRP)\", context=None, chars=[250,254], words=[65,67]))\n",
      "17903293 SpanPair(Span(\"for C-reactive protein (CRP)\", context=None, chars=[227,254], words=[62,67]), Span(\"(CRP)\", context=None, chars=[250,254], words=[65,67]))\n",
      "17903293 SpanPair(Span(\"C-reactive protein (CRP)\", context=None, chars=[231,254], words=[63,67]), Span(\"(CRP)\", context=None, chars=[250,254], words=[65,67]))\n",
      "17903293 SpanPair(Span(\"protein (CRP)\", context=None, chars=[242,254], words=[64,67]), Span(\"(CRP)\", context=None, chars=[250,254], words=[65,67]))\n",
      "17903294 SpanPair(Span(\"increased risk of cardiovascular disease (CVD)\", context=None, chars=[95,140], words=[14,21]), Span(\"(CVD)\", context=None, chars=[136,140], words=[19,21]))\n",
      "17903294 SpanPair(Span(\"risk of cardiovascular disease (CVD)\", context=None, chars=[105,140], words=[15,21]), Span(\"(CVD)\", context=None, chars=[136,140], words=[19,21]))\n",
      "17903294 SpanPair(Span(\"of cardiovascular disease (CVD)\", context=None, chars=[110,140], words=[16,21]), Span(\"(CVD)\", context=None, chars=[136,140], words=[19,21]))\n",
      "17903294 SpanPair(Span(\"cardiovascular disease (CVD)\", context=None, chars=[113,140], words=[17,21]), Span(\"(CVD)\", context=None, chars=[136,140], words=[19,21]))\n",
      "17903294 SpanPair(Span(\"disease (CVD)\", context=None, chars=[128,140], words=[18,21]), Span(\"(CVD)\", context=None, chars=[136,140], words=[19,21]))\n",
      "17903294 SpanPair(Span(\"GeneChip 100K single nucleotide polymorphism (SNP)\", context=None, chars=[166,215], words=[25,32]), Span(\"(SNP)\", context=None, chars=[211,215], words=[30,32]))\n",
      "17903294 SpanPair(Span(\"100K single nucleotide polymorphism (SNP)\", context=None, chars=[175,215], words=[26,32]), Span(\"(SNP)\", context=None, chars=[211,215], words=[30,32]))\n",
      "17903294 SpanPair(Span(\"single nucleotide polymorphism (SNP)\", context=None, chars=[180,215], words=[27,32]), Span(\"(SNP)\", context=None, chars=[211,215], words=[30,32]))\n",
      "17903294 SpanPair(Span(\"nucleotide polymorphism (SNP)\", context=None, chars=[187,215], words=[28,32]), Span(\"(SNP)\", context=None, chars=[211,215], words=[30,32]))\n",
      "17903294 SpanPair(Span(\"polymorphism (SNP)\", context=None, chars=[198,215], words=[29,32]), Span(\"(SNP)\", context=None, chars=[211,215], words=[30,32]))\n",
      "17903294 SpanPair(Span(\"approximately 1000 Framingham Heart Study (FHS)\", context=None, chars=[352,398], words=[54,61]), Span(\"(FHS)\", context=None, chars=[394,398], words=[59,61]))\n",
      "17903294 SpanPair(Span(\"1000 Framingham Heart Study (FHS)\", context=None, chars=[366,398], words=[55,61]), Span(\"(FHS)\", context=None, chars=[394,398], words=[59,61]))\n",
      "17903294 SpanPair(Span(\"Framingham Heart Study (FHS)\", context=None, chars=[371,398], words=[56,61]), Span(\"(FHS)\", context=None, chars=[394,398], words=[59,61]))\n",
      "17903294 SpanPair(Span(\"Heart Study (FHS)\", context=None, chars=[382,398], words=[57,61]), Span(\"(FHS)\", context=None, chars=[394,398], words=[59,61]))\n",
      "17903294 SpanPair(Span(\"Study (FHS)\", context=None, chars=[388,398], words=[58,61]), Span(\"(FHS)\", context=None, chars=[394,398], words=[59,61]))\n",
      "17903294 SpanPair(Span(\"using the generalized estimating equations (GEE)\", context=None, chars=[38,85], words=[3,10]), Span(\"(GEE)\", context=None, chars=[81,85], words=[8,10]))\n",
      "17903294 SpanPair(Span(\"the generalized estimating equations (GEE)\", context=None, chars=[44,85], words=[4,10]), Span(\"(GEE)\", context=None, chars=[81,85], words=[8,10]))\n",
      "17903294 SpanPair(Span(\"generalized estimating equations (GEE)\", context=None, chars=[48,85], words=[5,10]), Span(\"(GEE)\", context=None, chars=[81,85], words=[8,10]))\n",
      "17903294 SpanPair(Span(\"estimating equations (GEE)\", context=None, chars=[60,85], words=[6,10]), Span(\"(GEE)\", context=None, chars=[81,85], words=[8,10]))\n",
      "17903294 SpanPair(Span(\"equations (GEE)\", context=None, chars=[71,85], words=[7,10]), Span(\"(GEE)\", context=None, chars=[81,85], words=[8,10]))\n",
      "17903295 SpanPair(Span(\"SNPs for generalized estimating equation (GEE)\", context=None, chars=[11,56], words=[3,10]), Span(\"(GEE)\", context=None, chars=[52,56], words=[8,10]))\n",
      "17903295 SpanPair(Span(\"for generalized estimating equation (GEE)\", context=None, chars=[16,56], words=[4,10]), Span(\"(GEE)\", context=None, chars=[52,56], words=[8,10]))\n",
      "17903295 SpanPair(Span(\"generalized estimating equation (GEE)\", context=None, chars=[20,56], words=[5,10]), Span(\"(GEE)\", context=None, chars=[52,56], words=[8,10]))\n",
      "17903295 SpanPair(Span(\"estimating equation (GEE)\", context=None, chars=[32,56], words=[6,10]), Span(\"(GEE)\", context=None, chars=[52,56], words=[8,10]))\n",
      "17903295 SpanPair(Span(\"equation (GEE)\", context=None, chars=[43,56], words=[7,10]), Span(\"(GEE)\", context=None, chars=[52,56], words=[8,10]))\n",
      "17903296 SpanPair(Span(\"in the Framingham Heart Study (FHS)\", context=None, chars=[52,86], words=[9,16]), Span(\"(FHS)\", context=None, chars=[82,86], words=[14,16]))\n",
      "17903296 SpanPair(Span(\"traits: bone mineral density (BMD)\", context=None, chars=[150,183], words=[25,32]), Span(\"(BMD)\", context=None, chars=[179,183], words=[30,32]))\n",
      "17903296 SpanPair(Span(\"the Framingham Heart Study (FHS)\", context=None, chars=[55,86], words=[10,16]), Span(\"(FHS)\", context=None, chars=[82,86], words=[14,16]))\n",
      "17903296 SpanPair(Span(\": bone mineral density (BMD)\", context=None, chars=[156,183], words=[26,32]), Span(\"(BMD)\", context=None, chars=[179,183], words=[30,32]))\n",
      "17903296 SpanPair(Span(\"Framingham Heart Study (FHS)\", context=None, chars=[59,86], words=[11,16]), Span(\"(FHS)\", context=None, chars=[82,86], words=[14,16]))\n",
      "17903296 SpanPair(Span(\"bone mineral density (BMD)\", context=None, chars=[158,183], words=[27,32]), Span(\"(BMD)\", context=None, chars=[179,183], words=[30,32]))\n",
      "17903296 SpanPair(Span(\"Heart Study (FHS)\", context=None, chars=[70,86], words=[12,16]), Span(\"(FHS)\", context=None, chars=[82,86], words=[14,16]))\n",
      "17903296 SpanPair(Span(\"mineral density (BMD)\", context=None, chars=[163,183], words=[28,32]), Span(\"(BMD)\", context=None, chars=[179,183], words=[30,32]))\n",
      "17903296 SpanPair(Span(\"Study (FHS)\", context=None, chars=[76,86], words=[13,16]), Span(\"(FHS)\", context=None, chars=[82,86], words=[14,16]))\n",
      "17903296 SpanPair(Span(\"density (BMD)\", context=None, chars=[171,183], words=[29,32]), Span(\"(BMD)\", context=None, chars=[179,183], words=[30,32]))\n",
      "17903296 SpanPair(Span(\"used additive generalized estimating equation (GEE)\", context=None, chars=[75,125], words=[10,17]), Span(\"(GEE)\", context=None, chars=[121,125], words=[15,17]))\n",
      "17903296 SpanPair(Span(\"additive generalized estimating equation (GEE)\", context=None, chars=[80,125], words=[11,17]), Span(\"(GEE)\", context=None, chars=[121,125], words=[15,17]))\n",
      "17903296 SpanPair(Span(\"generalized estimating equation (GEE)\", context=None, chars=[89,125], words=[12,17]), Span(\"(GEE)\", context=None, chars=[121,125], words=[15,17]))\n",
      "17903296 SpanPair(Span(\"estimating equation (GEE)\", context=None, chars=[101,125], words=[13,17]), Span(\"(GEE)\", context=None, chars=[121,125], words=[15,17]))\n",
      "17903296 SpanPair(Span(\"equation (GEE)\", context=None, chars=[112,125], words=[14,17]), Span(\"(GEE)\", context=None, chars=[121,125], words=[15,17]))\n",
      "17903297 SpanPair(Span(\"Brain magnetic resonance imaging (MRI)\", context=None, chars=[0,37], words=[0,6]), Span(\"(MRI)\", context=None, chars=[33,37], words=[4,6]))\n",
      "17903297 SpanPair(Span(\"magnetic resonance imaging (MRI)\", context=None, chars=[6,37], words=[1,6]), Span(\"(MRI)\", context=None, chars=[33,37], words=[4,6]))\n",
      "17903297 SpanPair(Span(\"resonance imaging (MRI)\", context=None, chars=[15,37], words=[2,6]), Span(\"(MRI)\", context=None, chars=[33,37], words=[4,6]))\n",
      "17903297 SpanPair(Span(\"imaging (MRI)\", context=None, chars=[25,37], words=[3,6]), Span(\"(MRI)\", context=None, chars=[33,37], words=[4,6]))\n",
      "17903297 SpanPair(Span(\"We conducted a genome-wide association (GWA)\", context=None, chars=[0,43], words=[0,7]), Span(\"(GWA)\", context=None, chars=[39,43], words=[5,7]))\n",
      "17903297 SpanPair(Span(\"conducted a genome-wide association (GWA)\", context=None, chars=[3,43], words=[1,7]), Span(\"(GWA)\", context=None, chars=[39,43], words=[5,7]))\n",
      "17903297 SpanPair(Span(\"a genome-wide association (GWA)\", context=None, chars=[13,43], words=[2,7]), Span(\"(GWA)\", context=None, chars=[39,43], words=[5,7]))\n",
      "17903297 SpanPair(Span(\"genome-wide association (GWA)\", context=None, chars=[15,43], words=[3,7]), Span(\"(GWA)\", context=None, chars=[39,43], words=[5,7]))\n",
      "17903297 SpanPair(Span(\"association (GWA)\", context=None, chars=[27,43], words=[4,7]), Span(\"(GWA)\", context=None, chars=[39,43], words=[5,7]))\n",
      "17903297 SpanPair(Span(\"relationships via generalized estimating equations (GEE)\", context=None, chars=[49,104], words=[8,15]), Span(\"(GEE)\", context=None, chars=[100,104], words=[13,15]))\n",
      "17903297 SpanPair(Span(\"ventricular and white matter hyperintensity (WMH)\", context=None, chars=[491,539], words=[81,88]), Span(\"(WMH)\", context=None, chars=[535,539], words=[86,88]))\n",
      "17903297 SpanPair(Span(\"via generalized estimating equations (GEE)\", context=None, chars=[63,104], words=[9,15]), Span(\"(GEE)\", context=None, chars=[100,104], words=[13,15]))\n",
      "17903297 SpanPair(Span(\"and white matter hyperintensity (WMH)\", context=None, chars=[503,539], words=[82,88]), Span(\"(WMH)\", context=None, chars=[535,539], words=[86,88]))\n",
      "17903297 SpanPair(Span(\"generalized estimating equations (GEE)\", context=None, chars=[67,104], words=[10,15]), Span(\"(GEE)\", context=None, chars=[100,104], words=[13,15]))\n",
      "17903297 SpanPair(Span(\"white matter hyperintensity (WMH)\", context=None, chars=[507,539], words=[83,88]), Span(\"(WMH)\", context=None, chars=[535,539], words=[86,88]))\n",
      "17903297 SpanPair(Span(\"estimating equations (GEE)\", context=None, chars=[79,104], words=[11,15]), Span(\"(GEE)\", context=None, chars=[100,104], words=[13,15]))\n",
      "17903297 SpanPair(Span(\"matter hyperintensity (WMH)\", context=None, chars=[513,539], words=[84,88]), Span(\"(WMH)\", context=None, chars=[535,539], words=[86,88]))\n",
      "17903297 SpanPair(Span(\"equations (GEE)\", context=None, chars=[90,104], words=[12,15]), Span(\"(GEE)\", context=None, chars=[100,104], words=[13,15]))\n",
      "17903297 SpanPair(Span(\"hyperintensity (WMH)\", context=None, chars=[520,539], words=[85,88]), Span(\"(WMH)\", context=None, chars=[535,539], words=[86,88]))\n",
      "17903298 SpanPair(Span(\"traits (fasting plasma glucose (FPG)\", context=None, chars=[170,205], words=[23,30]), Span(\"(FPG)\", context=None, chars=[201,205], words=[28,30]))\n",
      "17903298 SpanPair(Span(\"(fasting plasma glucose (FPG)\", context=None, chars=[177,205], words=[24,30]), Span(\"(FPG)\", context=None, chars=[201,205], words=[28,30]))\n"
     ]
    }
   ],
   "source": [
    "for cand in txt_tab_c[:100]:\n",
    "    print cand.span0.context.document.name, cand"
   ]
  },
  {
   "cell_type": "markdown",
   "metadata": {
    "collapsed": true
   },
   "source": [
    "## Learning the correctness of relations"
   ]
  },
  {
   "cell_type": "code",
   "execution_count": 71,
   "metadata": {
    "collapsed": false
   },
   "outputs": [
    {
     "name": "stdout",
     "output_type": "stream",
     "text": [
      "552\n"
     ]
    }
   ],
   "source": [
    "from snorkel.candidates import UnionExtractor\n",
    "\n",
    "contexts = [corpus.get_tables(), corpus.get_sentences(), text_corpus.get_sentences()]\n",
    "extractors = [relation_extractor, txt_tab_extractor, txt_tab_extractor]\n",
    "joint_extractor = UnionExtractor(extractor_list=extractors, context_list=contexts)\n",
    "all_c = joint_extractor.union()\n",
    "print len(all_c)"
   ]
  },
  {
   "cell_type": "markdown",
   "metadata": {},
   "source": [
    "### Creating a gold set"
   ]
  },
  {
   "cell_type": "markdown",
   "metadata": {},
   "source": [
    "To create a gold set, we save all extracted relations into a csv file. We annotate it manually, and save the result to a second file. It contains pairs of phenotype and rsid strings; if that file exists, we take these as gold truth."
   ]
  },
  {
   "cell_type": "code",
   "execution_count": 72,
   "metadata": {
    "collapsed": false
   },
   "outputs": [],
   "source": [
    "# store relations to annotate\n",
    "with open('acronyms.unannotated.tsv', 'w') as f:\n",
    "    for span_pair in all_c:\n",
    "        doc_id = span_pair.span0.context.document.name\n",
    "        str1 = span_pair.span0.get_span()\n",
    "        str2 = span_pair.span1.get_span()\n",
    "        try:\n",
    "            f.write('%s\\t%s\\t%s\\n' % (doc_id, str1, str2))\n",
    "        except:\n",
    "            continue"
   ]
  },
  {
   "cell_type": "markdown",
   "metadata": {
    "collapsed": true
   },
   "source": [
    "We now load the results of our annotation"
   ]
  },
  {
   "cell_type": "code",
   "execution_count": 77,
   "metadata": {
    "collapsed": false
   },
   "outputs": [],
   "source": [
    "annotations = dict()\n",
    "with open('acronyms.anotated.txt') as f:\n",
    "    text = f.read()\n",
    "    for line in text.split('\\r'):\n",
    "        doc_id, str1, str2, res = line.strip().split('\\t')\n",
    "        res = 1 if res == 1 else -1\n",
    "        annotations[(doc_id, str1, str2)] = res"
   ]
  },
  {
   "cell_type": "code",
   "execution_count": null,
   "metadata": {
    "collapsed": true
   },
   "outputs": [],
   "source": []
  }
 ],
 "metadata": {
  "kernelspec": {
   "display_name": "Python 2",
   "language": "python",
   "name": "python2"
  },
  "language_info": {
   "codemirror_mode": {
    "name": "ipython",
    "version": 2
   },
   "file_extension": ".py",
   "mimetype": "text/x-python",
   "name": "python",
   "nbconvert_exporter": "python",
   "pygments_lexer": "ipython2",
   "version": "2.7.2"
  }
 },
 "nbformat": 4,
 "nbformat_minor": 0
}
