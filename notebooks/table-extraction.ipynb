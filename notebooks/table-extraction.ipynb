{
 "cells": [
  {
   "cell_type": "markdown",
   "metadata": {},
   "source": [
    "# SNP/Phenotype detection from raw text"
   ]
  },
  {
   "cell_type": "code",
   "execution_count": 1,
   "metadata": {
    "collapsed": false
   },
   "outputs": [],
   "source": [
    "%load_ext autoreload\n",
    "%autoreload 2\n",
    "\n",
    "import numpy as np\n",
    "import cPickle, os, sys\n",
    "np.random.seed(seed=1701)\n",
    "import matplotlib\n",
    "%matplotlib inline\n",
    "matplotlib.rcParams['figure.figsize'] = (18,6)"
   ]
  },
  {
   "cell_type": "code",
   "execution_count": 2,
   "metadata": {
    "collapsed": false
   },
   "outputs": [],
   "source": [
    "# import snorkel and gwasdb\n",
    "sys.path.append('../snorkel')\n",
    "sys.path.append('../src')\n",
    "\n",
    "# set up paths\n",
    "abstract_dir = '../data/db/papers'"
   ]
  },
  {
   "cell_type": "markdown",
   "metadata": {},
   "source": [
    "## Assemble a corpus"
   ]
  },
  {
   "cell_type": "markdown",
   "metadata": {},
   "source": [
    "Collect all the tables in our dataset"
   ]
  },
  {
   "cell_type": "code",
   "execution_count": 3,
   "metadata": {
    "collapsed": false
   },
   "outputs": [],
   "source": [
    "from snorkel.parser import XMLDocParser\n",
    "from extractor.parser import UnicodeXMLTableDocParser\n",
    "\n",
    "xml_parser = UnicodeXMLTableDocParser(\n",
    "    path=abstract_dir,\n",
    "    doc='./*',\n",
    "    text='.//table',\n",
    "    id='.//article-id[@pub-id-type=\"pmid\"]/text()',\n",
    "    keep_xml_tree=True)"
   ]
  },
  {
   "cell_type": "code",
   "execution_count": 4,
   "metadata": {
    "collapsed": false
   },
   "outputs": [
    {
     "name": "stdout",
     "output_type": "stream",
     "text": [
      "<Element article at 0x10bfbf280>\n"
     ]
    }
   ],
   "source": [
    "import lxml.etree as et\n",
    "with open('../data/db/papers/19305408.xml') as f:\n",
    "    for i,doc in enumerate(et.parse(f).xpath('./*')):\n",
    "        print doc\n",
    "#         print et.tostring(doc.xpath('.//table')[0])\n",
    "#         print doc.xpath('.//table')\n",
    "#         print '\\n'.join([et.tostring(elem) for elem in doc.xpath('.//table') if elem is not None])"
   ]
  },
  {
   "cell_type": "code",
   "execution_count": 5,
   "metadata": {
    "collapsed": false
   },
   "outputs": [
    {
     "name": "stdout",
     "output_type": "stream",
     "text": [
      "CPU times: user 2min 4s, sys: 6.6 s, total: 2min 10s\n",
      "Wall time: 3min 6s\n"
     ]
    }
   ],
   "source": [
    "from snorkel.parser import HTMLParser\n",
    "from extractor.parser import UnicodeTableParser\n",
    "from snorkel.parser import CorpusParser\n",
    "import cPickle\n",
    "\n",
    "table_parser = UnicodeTableParser()\n",
    "html_parser = HTMLParser(path='../data/db/papers/')\n",
    "\n",
    "corpus_name = 'gwas-table-corpus.pkl'\n",
    "\n",
    "try:\n",
    "    with open(corpus_name,\"r\") as pkl:\n",
    "        corpus = cPickle.load(pkl)\n",
    "except:\n",
    "    cp = CorpusParser(xml_parser, table_parser, max_docs=50)\n",
    "    %time corpus = cp.parse_corpus(name='GWAS Corpus')\n",
    "    # pickling currently doesn't work...\n",
    "#     with open(corpus_name,\"w\") as pkl:\n",
    "#         corpus = cPickle.dump(corpus, pkl)"
   ]
  },
  {
   "cell_type": "code",
   "execution_count": 6,
   "metadata": {
    "collapsed": false
   },
   "outputs": [],
   "source": [
    "# pickling currently doesn't work...\n",
    "# import cPickle\n",
    "# with open(corpus_name,\"w\") as pkl:\n",
    "#     corpus = cPickle.dump(corpus, pkl)"
   ]
  },
  {
   "cell_type": "code",
   "execution_count": 7,
   "metadata": {
    "collapsed": false
   },
   "outputs": [
    {
     "name": "stdout",
     "output_type": "stream",
     "text": [
      "Document('17447842', Corpus (GWAS Corpus))\n"
     ]
    }
   ],
   "source": [
    "print corpus.documents[0]"
   ]
  },
  {
   "cell_type": "code",
   "execution_count": 8,
   "metadata": {
    "collapsed": false
   },
   "outputs": [],
   "source": [
    "for cell in corpus.get_tables()[97].cells:\n",
    "#     print cell.row_num , cell.col_num, cell.text\n",
    "    pass"
   ]
  },
  {
   "cell_type": "code",
   "execution_count": 9,
   "metadata": {
    "collapsed": false
   },
   "outputs": [
    {
     "name": "stdout",
     "output_type": "stream",
     "text": [
      "Document('18604267', Corpus (GWAS Corpus))\n"
     ]
    }
   ],
   "source": [
    "print corpus.get_tables()[100].document"
   ]
  },
  {
   "cell_type": "code",
   "execution_count": 10,
   "metadata": {
    "collapsed": false
   },
   "outputs": [
    {
     "name": "stdout",
     "output_type": "stream",
     "text": [
      "None\n"
     ]
    }
   ],
   "source": [
    "from snorkel.models import Context\n",
    "context = Context()\n",
    "print context.id"
   ]
  },
  {
   "cell_type": "markdown",
   "metadata": {},
   "source": [
    "## Try extracting rs-ids first"
   ]
  },
  {
   "cell_type": "code",
   "execution_count": 11,
   "metadata": {
    "collapsed": false
   },
   "outputs": [],
   "source": [
    "# add new paths\n",
    "sys.path.append('../src/crawler')\n",
    "sys.path.append('../src/crawler/db')\n",
    "\n",
    "# import new libs\n",
    "from kb import KnowledgeBase\n",
    "from extractor.util import gold_rsid_stats, gold_rsid_precision\n",
    "\n",
    "from snorkel.candidates import Ngrams\n",
    "from snorkel.matchers import DictionaryMatch, RegexMatchSpan, Union\n",
    "from snorkel.candidates import EntityExtractor\n",
    "\n",
    "# from snorkel.candidates import Candidates"
   ]
  },
  {
   "cell_type": "markdown",
   "metadata": {},
   "source": [
    "### Create a gold set"
   ]
  },
  {
   "cell_type": "markdown",
   "metadata": {},
   "source": [
    "Get a list of all the rs-ids we know."
   ]
  },
  {
   "cell_type": "code",
   "execution_count": 12,
   "metadata": {
    "collapsed": true
   },
   "outputs": [],
   "source": [
    "kb = KnowledgeBase()"
   ]
  },
  {
   "cell_type": "code",
   "execution_count": 13,
   "metadata": {
    "collapsed": false
   },
   "outputs": [
    {
     "name": "stdout",
     "output_type": "stream",
     "text": [
      "rs4950928\n"
     ]
    }
   ],
   "source": [
    "rs_ids = kb.get_rsid_candidates()\n",
    "print rs_ids[0]"
   ]
  },
  {
   "cell_type": "markdown",
   "metadata": {},
   "source": [
    "Get a gold set:"
   ]
  },
  {
   "cell_type": "code",
   "execution_count": 14,
   "metadata": {
    "collapsed": false
   },
   "outputs": [],
   "source": [
    "gold_set = frozenset( [ (doc.name, rs_id) for doc in corpus.documents for rs_id in kb.rsids_by_pmid(int(doc.name)) ] )\n",
    "gold_set_rsids = [rs_id for doc_id, rs_id in gold_set]"
   ]
  },
  {
   "cell_type": "code",
   "execution_count": 15,
   "metadata": {
    "collapsed": false
   },
   "outputs": [],
   "source": [
    "gold_rsid_dict = {doc_id : set() for doc_id, rs_id in gold_set}\n",
    "for docid, rsid in gold_set:\n",
    "    gold_rsid_dict[docid].add(rsid)"
   ]
  },
  {
   "cell_type": "code",
   "execution_count": 16,
   "metadata": {
    "collapsed": false
   },
   "outputs": [
    {
     "name": "stdout",
     "output_type": "stream",
     "text": [
      "437\n"
     ]
    }
   ],
   "source": [
    "print len(gold_set)"
   ]
  },
  {
   "cell_type": "markdown",
   "metadata": {},
   "source": [
    "### Extract candidates:"
   ]
  },
  {
   "cell_type": "code",
   "execution_count": 17,
   "metadata": {
    "collapsed": false
   },
   "outputs": [
    {
     "name": "stdout",
     "output_type": "stream",
     "text": [
      "CPU times: user 2.45 s, sys: 42.6 ms, total: 2.49 s\n",
      "Wall time: 2.49 s\n"
     ]
    }
   ],
   "source": [
    "from snorkel.candidates import EntityExtractor\n",
    "from snorkel.candidates import TableNgrams\n",
    "\n",
    "# Define a candidate space\n",
    "ngrams = TableNgrams(n_max=1)\n",
    "\n",
    "# Define matchers\n",
    "dict_rsid_matcher = DictionaryMatch(d=rs_ids, longest_match_only=False)\n",
    "gold_rsid_matcher = DictionaryMatch(d=gold_set_rsids, longest_match_only=False)\n",
    "regx_rsid_matcher = RegexMatchSpan(rgx=r'rs\\d+')\n",
    "rsid_matcher = Union(dict_rsid_matcher, regx_rsid_matcher)\n",
    "\n",
    "rsid_extractor = EntityExtractor(ngrams, rsid_matcher)\n",
    "%time rs_candidates = rsid_extractor.extract(corpus.get_tables(), name='all')\n",
    "\n",
    "# # collect candidates\n",
    "# %time gold_dict_c = Candidates(ngrams, gold_rsid_matcher, corpus.get_contexts())\n",
    "# %time rsid_c = Candidates(ngrams, rsid_matcher, corpus.get_contexts())"
   ]
  },
  {
   "cell_type": "code",
   "execution_count": 18,
   "metadata": {
    "collapsed": false
   },
   "outputs": [
    {
     "name": "stdout",
     "output_type": "stream",
     "text": [
      "Span(\"rs2076756\", context=None, chars=[0,8], words=[0,0])\n",
      "Span(\"rs1992662\", context=None, chars=[0,8], words=[0,0])\n",
      "Span(\"rs1992660\", context=None, chars=[0,8], words=[0,0])\n",
      "Span(\"rs1793004\", context=None, chars=[0,8], words=[0,0])\n",
      "Span(\"rs10521209\", context=None, chars=[0,9], words=[0,0])\n",
      "Span(\"rs2631372\", context=None, chars=[0,8], words=[0,0])\n",
      "Span(\"rs2925757\", context=None, chars=[0,8], words=[0,0])\n",
      "Span(\"rs6947579\", context=None, chars=[0,8], words=[0,0])\n",
      "Span(\"rs1553575\", context=None, chars=[0,8], words=[0,0])\n",
      "Span(\"rs10484545\", context=None, chars=[0,9], words=[0,0])\n",
      "2933 candidates extracted\n",
      "Phrase('17684544', 1, 20, 0, u'rs2076756')\n",
      "Cell('17684544', 1, 20, u'rs2076756')\n"
     ]
    }
   ],
   "source": [
    "for cand in rs_candidates[:10]: \n",
    "    print cand\n",
    "print \"%s candidates extracted\" % len(rs_candidates)\n",
    "print rs_candidates[0].context\n",
    "print rs_candidates[0].context.cell"
   ]
  },
  {
   "cell_type": "markdown",
   "metadata": {},
   "source": [
    "### Statistics"
   ]
  },
  {
   "cell_type": "markdown",
   "metadata": {},
   "source": [
    "Statistics on all the rsid candidates:"
   ]
  },
  {
   "cell_type": "code",
   "execution_count": 19,
   "metadata": {
    "collapsed": false
   },
   "outputs": [
    {
     "name": "stdout",
     "output_type": "stream",
     "text": [
      "# of gold annotations\t= 437\n",
      "# of candidates\t\t= 2455\n",
      "Candidate recall\t= 0.854\n",
      "Candidate precision\t= 0.152\n"
     ]
    }
   ],
   "source": [
    "gold_rsid_stats(rs_candidates, gold_set)"
   ]
  },
  {
   "cell_type": "markdown",
   "metadata": {},
   "source": [
    "Interesting: some SNPs seem to be never mentioned (e.g. rs12122100) while others (rs727153) appear only in the text.\n",
    "\n",
    "Sometimes, it's not picked up for a different, strange reason: see rs13314993."
   ]
  },
  {
   "cell_type": "code",
   "execution_count": 20,
   "metadata": {
    "collapsed": false
   },
   "outputs": [
    {
     "name": "stdout",
     "output_type": "stream",
     "text": [
      "('19043545', 'rs6807064')\n",
      "('18823527', 'rs727153')\n",
      "('18464913', 'rs9461688')\n",
      "('17997608', 'rs6855911')\n",
      "('18464913', 'rs9635963')\n",
      "('19043545', 'rs9924951')\n",
      "('18464913', 'rs2729409')\n",
      "('18464913', 'rs4889294')\n",
      "('18464913', 'rs1285407')\n",
      "('18282107', 'rs7341475')\n"
     ]
    }
   ],
   "source": [
    "from extractor.util import gold_rsid_recall\n",
    "\n",
    "incorrect_rsids = list(gold_rsid_recall(rs_candidates, gold_set))\n",
    "for ngram in incorrect_rsids[:10]:\n",
    "    print ngram"
   ]
  },
  {
   "cell_type": "code",
   "execution_count": 21,
   "metadata": {
    "collapsed": false
   },
   "outputs": [
    {
     "name": "stdout",
     "output_type": "stream",
     "text": [
      "Phrase('17903292', 1, 371, 0, u'rs295136')\n",
      "Phrase('17903292', 1, 389, 0, u'rs754958')\n",
      "Phrase('17903292', 1, 396, 0, u'rs10495487')\n",
      "Phrase('17903292', 1, 403, 0, u'rs10489578')\n",
      "Phrase('17903292', 1, 410, 0, u'rs10515134')\n",
      "Phrase('17903292', 1, 417, 0, u'rs10489578')\n",
      "Phrase('17903292', 1, 424, 0, u'rs10484370')\n",
      "Phrase('17903292', 1, 431, 0, u'rs10511176')\n",
      "Phrase('17903292', 1, 438, 0, u'rs10502302')\n",
      "Phrase('17903292', 2, 9, 0, u'rs2839235')\n",
      "Phrase('17903292', 2, 16, 0, u'rs10512437')\n",
      "Phrase('17903292', 2, 23, 0, u'rs2480555')\n",
      "Phrase('17903292', 2, 30, 0, u'rs10486135')\n",
      "Phrase('17903292', 2, 37, 0, u'rs727087')\n",
      "Phrase('17903292', 2, 44, 0, u'rs1005066')\n",
      "Phrase('17903292', 2, 51, 0, u'rs2885618')\n",
      "Phrase('17903292', 2, 58, 0, u'rs10496887')\n",
      "Phrase('17903292', 2, 72, 0, u'rs10485409')\n",
      "Phrase('17903292', 2, 86, 0, u'rs10502192')\n",
      "Phrase('17903292', 2, 93, 0, u'rs2077678')\n",
      "Phrase('17903292', 2, 100, 0, u'rs723464')\n",
      "Phrase('17903292', 2, 107, 0, u'rs9305355')\n",
      "Phrase('17903292', 2, 114, 0, u'rs10484587')\n",
      "Phrase('17903292', 2, 128, 0, u'rs10493147')\n",
      "Phrase('17903292', 2, 149, 0, u'rs9308765')\n",
      "Phrase('17903292', 2, 156, 0, u'rs6942231')\n",
      "Phrase('17903292', 2, 163, 0, u'rs10486365')\n",
      "Phrase('17903292', 2, 170, 0, u'rs10486653')\n",
      "Phrase('17903292', 3, 20, 0, u'rs2145231')\n",
      "Phrase('17903292', 3, 28, 0, u'rs726217')\n"
     ]
    }
   ],
   "source": [
    "from extractor.util import gold_rsid_precision\n",
    "\n",
    "strange_ngrams = list(gold_rsid_precision(rs_candidates, gold_set))\n",
    "for ngram in strange_ngrams[70:100]:\n",
    "    print ngram.context"
   ]
  },
  {
   "cell_type": "code",
   "execution_count": 22,
   "metadata": {
    "collapsed": false
   },
   "outputs": [
    {
     "data": {
      "text/plain": [
       "{'rs10499559', 'rs1158167', 'rs1712790', 'rs6977660', 'rs9305354', 'rs9322817'}"
      ]
     },
     "execution_count": 22,
     "metadata": {},
     "output_type": "execute_result"
    }
   ],
   "source": [
    "gold_rsid_dict['17903292']"
   ]
  },
  {
   "cell_type": "markdown",
   "metadata": {
    "collapsed": true
   },
   "source": [
    "## Get candidate p-values"
   ]
  },
  {
   "cell_type": "markdown",
   "metadata": {},
   "source": [
    "Need to use regular expressions for this."
   ]
  },
  {
   "cell_type": "code",
   "execution_count": 23,
   "metadata": {
    "collapsed": false
   },
   "outputs": [
    {
     "name": "stdout",
     "output_type": "stream",
     "text": [
      "CPU times: user 5.05 s, sys: 73.4 ms, total: 5.13 s\n",
      "Wall time: 5.13 s\n"
     ]
    }
   ],
   "source": [
    "from extractor.matcher import PvalMatcher\n",
    "rgx1 = u'[1-9]\\d?[\\xb7\\.]?\\d*\\s*[\\xd7\\*]\\s*10\\s*[-\\u2212\\u2013]\\s*\\d+'\n",
    "pval_rgx_matcher1 = RegexMatchSpan(rgx=rgx1)\n",
    "rgx2 = u'[1-9]\\d?[\\xb7\\.]?\\d*\\s*[eE][-\\u2212\\u2013]\\d+'\n",
    "pval_rgx_matcher2 = RegexMatchSpan(rgx=rgx2)\n",
    "rgx3 = u'0\\.0000+\\d+'\n",
    "pval_rgx_matcher3 = RegexMatchSpan(rgx=rgx3)\n",
    "pval_matcher = Union(pval_rgx_matcher1, pval_rgx_matcher2, pval_rgx_matcher3)\n",
    "# pval_matcher = PvalMatcher()\n",
    "ngrams = TableNgrams(n_max=7)\n",
    "pval_extractor = EntityExtractor(ngrams, pval_matcher)\n",
    "%time pval_c = pval_extractor.extract(corpus.get_tables(), name='all')"
   ]
  },
  {
   "cell_type": "code",
   "execution_count": 24,
   "metadata": {
    "collapsed": false
   },
   "outputs": [
    {
     "name": "stdout",
     "output_type": "stream",
     "text": [
      "Got 3228 candidates, e.g.:\n",
      "Span(\"1.93E-13\", context=None, chars=[0,7], words=[0,0])\n",
      "Phrase('17684544', 1, 26, 0, u'1.93E-13')\n",
      "\n",
      "Span(\"2.04E-12\", context=None, chars=[0,7], words=[0,0])\n",
      "Phrase('17684544', 1, 27, 0, u'2.04E-12')\n",
      "\n",
      "Span(\"6.80E-20\", context=None, chars=[0,7], words=[0,0])\n",
      "Phrase('17684544', 1, 31, 0, u'6.80E-20')\n",
      "\n",
      "Span(\"1.39E-21\", context=None, chars=[0,7], words=[0,0])\n",
      "Phrase('17684544', 1, 32, 0, u'1.39E-21')\n",
      "\n",
      "Span(\"5.90E-08\", context=None, chars=[0,7], words=[0,0])\n",
      "Phrase('17684544', 1, 34, 0, u'5.90E-08')\n",
      "\n",
      "Span(\"7.59E-05\", context=None, chars=[0,7], words=[0,0])\n",
      "Phrase('17684544', 1, 47, 0, u'7.59E-05')\n",
      "\n",
      "Span(\"4.53E-05\", context=None, chars=[0,7], words=[0,0])\n",
      "Phrase('17684544', 1, 63, 0, u'4.53E-05')\n",
      "\n",
      "Span(\"8.65E-05\", context=None, chars=[0,7], words=[0,0])\n",
      "Phrase('17684544', 1, 95, 0, u'8.65E-05')\n",
      "\n",
      "Span(\"8.68E-05\", context=None, chars=[0,7], words=[0,0])\n",
      "Phrase('17684544', 1, 96, 0, u'8.68E-05')\n",
      "\n",
      "Span(\"1.68E-06\", context=None, chars=[0,7], words=[0,0])\n",
      "Phrase('17684544', 2, 63, 0, u'1.68E-06')\n",
      "\n"
     ]
    }
   ],
   "source": [
    "ngrams = TableNgrams(n_max=7)\n",
    "\n",
    "print 'Got %d candidates, e.g.:' % len(pval_c)\n",
    "for candidate in pval_c[:10]:\n",
    "    print unicode(candidate)\n",
    "    print candidate.context\n",
    "#     for t in ngrams.apply(candidate.context):\n",
    "#         print unicode(t.get_span())\n",
    "#         print re.match(rgx, t.get_span())\n",
    "#     print [unicode(t.get_span()) for t in ngrams.apply(candidate.context)]\n",
    "#     print\n",
    "#     print candidate.get_attrib_span('words')\n",
    "    print"
   ]
  },
  {
   "cell_type": "code",
   "execution_count": 25,
   "metadata": {
    "collapsed": false
   },
   "outputs": [
    {
     "name": "stdout",
     "output_type": "stream",
     "text": [
      "Cell('19096518', 0, 18, u'6.8E-10')\n",
      "Cell('19096518', 0, 19, u'7.8E-05')\n",
      "Cell('19096518', 0, 28, u'1.2E-08')\n",
      "Cell('19096518', 0, 29, u'8.1E-04')\n",
      "Cell('19096518', 0, 38, u'2.5E-07')\n",
      "Cell('19096518', 0, 39, u'7.8E-03')\n",
      "Cell('19096518', 0, 48, u'1.7E-07')\n",
      "Cell('19096518', 0, 49, u'5.8E-03')\n",
      "Cell('19096518', 0, 58, u'2.3E-08')\n",
      "Cell('19096518', 0, 59, u'1.3E-03')\n",
      "Cell('19096518', 0, 68, u'2.8E-12')\n",
      "Cell('19096518', 0, 69, u'9.6E-07')\n",
      "Cell('19096518', 0, 78, u'6.2E-12')\n",
      "Cell('19096518', 0, 79, u'1.1E-06')\n",
      "Cell('19096518', 0, 88, u'9.8E-08')\n",
      "Cell('19096518', 0, 89, u'3.8E-03')\n",
      "Cell('19096518', 0, 98, u'5.5E-08')\n",
      "Cell('19096518', 0, 99, u'2.7E-03')\n",
      "Cell('19096518', 0, 108, u'6.4E-09')\n",
      "Cell('19096518', 0, 109, u'5.5E-04')\n",
      "Cell('19096518', 1, 15, u'4.7E-10')\n",
      "Cell('19096518', 1, 23, u'5.7E-12')\n",
      "Cell('19096518', 1, 31, u'5.4E-08')\n",
      "Cell('19096518', 1, 39, u'1.8E-25')\n",
      "Cell('19096518', 1, 47, u'4.3E-19')\n",
      "Cell('19096518', 2, 23, u'2.2E-07')\n",
      "Cell('19096518', 2, 28, u'1.5E-26')\n",
      "Cell('19096518', 4, 54, u'1.4E-12')\n",
      "Cell('19096518', 4, 70, u'4.8E-03')\n",
      "Cell('19096518', 4, 118, u'4.9E-08')\n",
      "Cell('19096518', 4, 134, u'3.5E-03')\n"
     ]
    }
   ],
   "source": [
    "for ngram in pval_c:\n",
    "    if ngram.context.document.name == '19096518':\n",
    "        print str(ngram.context.cell)"
   ]
  },
  {
   "cell_type": "markdown",
   "metadata": {},
   "source": [
    "Filter nested p-value estimates e.g. 1.2\\*10^-7 and 2*10^-7"
   ]
  },
  {
   "cell_type": "code",
   "execution_count": 26,
   "metadata": {
    "collapsed": false
   },
   "outputs": [
    {
     "name": "stdout",
     "output_type": "stream",
     "text": [
      "3181 3228\n"
     ]
    }
   ],
   "source": [
    "# load existing candidates into a dict\n",
    "span_dict = { str(span.context.cell) : list() for span in pval_c }\n",
    "for span in pval_c:\n",
    "    span_dict[str(span.context.cell)].append( (span.char_start, span.char_end) )\n",
    "\n",
    "def nested(ivl1, ivl2):\n",
    "    if ivl1 != ivl2 and ivl2[0] <= ivl1[0] <= ivl1[1] <= ivl2[1]:\n",
    "        return True\n",
    "    else:\n",
    "        return False\n",
    "\n",
    "new_pval_c = list()\n",
    "for span in pval_c:\n",
    "    span_ivl = span.char_start, span.char_end\n",
    "    span_name = str(span.context.cell)\n",
    "    if all([not nested(span_ivl, other_ivl) for other_ivl in span_dict[span_name]]):\n",
    "        new_pval_c.append(span)\n",
    "#     else:\n",
    "#         print span_ivl, span_dict[span_name]\n",
    "#         print unicode(span)\n",
    "#         print unicode(span.context.cell.text)\n",
    "#         print span.uid\n",
    "#         print span.context.row_num, span.context.col_num\n",
    "#         print unicode(span)\n",
    "#         print\n",
    "#         print [(cell, cell.row_num, cell.col_num) for cell in span.context.table.cells]\n",
    "#         break\n",
    "\n",
    "print len(new_pval_c), len(pval_c)\n",
    "pval_c = new_pval_c"
   ]
  },
  {
   "cell_type": "markdown",
   "metadata": {},
   "source": [
    "### Statistics"
   ]
  },
  {
   "cell_type": "markdown",
   "metadata": {},
   "source": [
    "First, how many p-values that should be present do we extract?"
   ]
  },
  {
   "cell_type": "code",
   "execution_count": 41,
   "metadata": {
    "collapsed": false
   },
   "outputs": [
    {
     "name": "stdout",
     "output_type": "stream",
     "text": [
      "6.2e-05\n",
      "1.85e-20\n"
     ]
    }
   ],
   "source": [
    "# we need to define a p-value -> float converter\n",
    "from extractor.util import pvalue_to_float, gold_pval_stats, gold_pval_precision\n",
    "\n",
    "print pvalue_to_float(u\"6.2×10 −5\")\n",
    "print pvalue_to_float(u\"1.85×10 −20\")"
   ]
  },
  {
   "cell_type": "code",
   "execution_count": 42,
   "metadata": {
    "collapsed": false
   },
   "outputs": [],
   "source": [
    "from kb import KnowledgeBase\n",
    "kb = KnowledgeBase()\n",
    "gold_set_pvals = frozenset([ (doc.name, pval) for doc in corpus.documents for pval in kb.pvals_by_pmid(int(doc.name)) ])\n",
    "gold_set_dict = {doc.name: kb.assoc_by_pmid(int(doc.name)) for doc in corpus.documents }"
   ]
  },
  {
   "cell_type": "markdown",
   "metadata": {},
   "source": [
    "We will be looking at precision/recall over p-values that are known to be associated with a SNP, and the rsid of that SNP occurs somewhere in the document (as determined above)."
   ]
  },
  {
   "cell_type": "code",
   "execution_count": 43,
   "metadata": {
    "collapsed": false
   },
   "outputs": [
    {
     "name": "stdout",
     "output_type": "stream",
     "text": [
      "Found 299 gold mentions, e.g.:\n",
      "[('17903300', 1e-07), ('17903300', 2e-07), ('18604267', 3e-10), ('18464913', 6e-06), ('17903294', 2e-06)]\n",
      "\n",
      "p-value candidate extraction statistics:\n",
      "[('17684544', 1e-21), ('17684544', 4e-07), ('17684544', 3e-06), ('17903292', 9.000000000000001e-09), ('17903292', 2e-06), ('17903292', 4e-06), ('17903292', 7e-06), ('17903292', 8e-06), ('17903293', 1e-14), ('17903293', 4e-12)]\n",
      "[('17684544', -21.0), ('17684544', -7.0), ('17684544', -6.0), ('17903292', -9.0), ('17903292', -6.0), ('17903293', -14.0), ('17903293', -12.0), ('17903293', -8.0), ('17903293', -7.0), ('17903293', -6.0)]\n",
      "[('17684544', -49.0), ('17684544', -41.0), ('17684544', -34.0), ('17684544', -28.0), ('17684544', -22.0), ('17684544', -21.0), ('17684544', -20.0), ('17684544', -18.0), ('17684544', -17.0), ('17684544', -14.0)]\n",
      "# of gold annotations\t= 147\n",
      "# of candidates\t\t= 434\n",
      "Candidate recall\t= 0.932\n",
      "Candidate precision\t= 0.316\n",
      "None\n"
     ]
    }
   ],
   "source": [
    "from extractor.util import gold_pval_stats, gold_pval_stats_limited\n",
    "\n",
    "print 'Found %d gold mentions, e.g.:' % len(gold_set_pvals)\n",
    "print list(gold_set_pvals)[:5]\n",
    "print\n",
    "\n",
    "print 'p-value candidate extraction statistics:'\n",
    "# print gold_pval_stats(pval_c, gold_set_pvals, gold_set_dict)\n",
    "print gold_pval_stats_limited(pval_c, gold_set_dict, rs_candidates)"
   ]
  },
  {
   "cell_type": "markdown",
   "metadata": {},
   "source": [
    "Some debugging... We will print the papers and their pvalues that are not found in the paper. Below, is the list of all SNPs associated with the paper, so we can find the SNP that is missing."
   ]
  },
  {
   "cell_type": "code",
   "execution_count": 44,
   "metadata": {
    "collapsed": false
   },
   "outputs": [],
   "source": [
    "from extractor.util import gold_pval_recall, gold_pval_precision\n",
    "missing = list(gold_pval_recall(pval_c, gold_set_dict, rs_candidates))\n",
    "# print gold_pval_precision(pval_c, gold_set_pvals)"
   ]
  },
  {
   "cell_type": "code",
   "execution_count": 45,
   "metadata": {
    "collapsed": false
   },
   "outputs": [
    {
     "name": "stdout",
     "output_type": "stream",
     "text": [
      "17903302 -9.0\n",
      "[(2e-06, u'Blood pressure', -6.0, u'rs10493340'), (3e-06, u'Blood pressure', -6.0, u'rs1963982'), (3e-06, u'Blood pressure', -6.0, u'rs935334'), (2e-06, u'Tonometry', -6.0, u'rs6063312'), (3e-06, u'Tonometry', -6.0, u'rs770189'), (6e-06, u'Tonometry', -6.0, u'rs10514688'), (6e-06, u'Tonometry', -6.0, u'rs7042864'), (8e-06, u'Tonometry', -6.0, u'rs1322512'), (2e-07, u'Tonometry', -7.0, u'rs3773643'), (2e-06, u'Tonometry', -6.0, u'rs3793427'), (2e-06, u'Tonometry', -6.0, u'rs6492654'), (3e-06, u'Tonometry', -6.0, u'rs1367248'), (4e-06, u'Tonometry', -6.0, u'rs10521232'), (4e-06, u'Tonometry', -6.0, u'rs3766680'), (4e-06, u'Tonometry', -6.0, u'rs1371924'), (8e-06, u'Tonometry', -6.0, u'rs10488172'), (4e-06, u'Blood pressure', -6.0, u'rs4370013'), (4e-06, u'Blood pressure', -6.0, u'rs10491334'), (4.9999999999999996e-06, u'Blood pressure', -6.0, u'rs2121070'), (7e-06, u'Blood pressure', -6.0, u'rs2509458'), (3e-07, u'Blood pressure', -7.0, u'rs7591163'), (1e-09, u'Blood pressure', -9.0, u'rs3096277')]\n",
      "\n",
      "18483556 -127.0\n",
      "[(7.000000000000001e-127, u'Black vs. blond hair color', -127.0, u'rs12203592'), (1e-17, u'Black vs. blond hair color', -17.0, u'rs28777'), (6.000000000000001e-08, u'Black vs. blond hair color', -8.0, u'rs6918152'), (9e-28, u'Black vs. red hair color', -28.0, u'rs12203592'), (9e-14, u'Black vs. red hair color', -14.0, u'rs28777'), (5e-07, u'Black vs. red hair color', -7.0, u'rs6918152'), (4e-103, u'Black vs. blond hair color', -103.0, u'rs12913832'), (1e-77, u'Black vs. red hair color', -77.0, u'rs12913832'), (4.9999999999999995e-11, u'Black vs. blond hair color', -11.0, u'rs8033165'), (8e-21, u'Black vs. blond hair color', -21.0, u'rs12896399'), (2e-24, u'Black vs. blond hair color', -24.0, u'rs11855019'), (2e-12, u'Black vs. red hair color', -12.0, u'rs8033165'), (5.999999999999999e-20, u'Black vs. red hair color', -20.0, u'rs11855019'), (2e-23, u'Black vs. red hair color', -23.0, u'rs258322')]\n",
      "\n",
      "17903298 -6.0\n",
      "[(2e-06, u'Diabetes related insulin traits', -6.0, u'rs2877832'), (3e-06, u'Diabetes related insulin traits', -6.0, u'rs2877832'), (2e-08, u'Fasting plasma glucose', -8.0, u'rs2722425'), (4.9999999999999996e-06, u'Fasting plasma glucose', -6.0, u'rs10510634'), (7e-07, u'Diabetes (incident)', -7.0, u'rs10497721'), (8e-06, u'Diabetes related insulin traits', -6.0, u'rs10486607'), (9e-06, u'Diabetes related insulin traits', -6.0, u'rs2066219'), (4.9999999999999996e-06, u'Fasting plasma glucose', -6.0, u'rs180730'), (6e-06, u'Fasting plasma glucose', -6.0, u'rs180730'), (9e-06, u'Fasting plasma glucose', -6.0, u'rs2722425'), (7e-06, u'Fasting plasma glucose', -6.0, u'rs7731657')]\n",
      "\n",
      "19169254 -100.0\n",
      "[(1e-100, u'Psoriasis', -100.0, u'rs12191877'), (2e-28, u'Psoriasis', -28.0, u'rs2082412'), (1e-20, u'Psoriasis', -20.0, u'rs17728338'), (5.000000000000001e-15, u'Psoriasis', -15.0, u'rs20541'), (9e-12, u'Psoriasis', -12.0, u'rs610604'), (1e-09, u'Psoriasis', -9.0, u'rs2066808'), (3.0000000000000004e-08, u'Psoriasis', -8.0, u'rs2201841'), (6e-06, u'Psoriasis', -6.0, u'rs1076160')]\n",
      "\n",
      "17903298 -8.0\n",
      "[(2e-06, u'Diabetes related insulin traits', -6.0, u'rs2877832'), (3e-06, u'Diabetes related insulin traits', -6.0, u'rs2877832'), (2e-08, u'Fasting plasma glucose', -8.0, u'rs2722425'), (4.9999999999999996e-06, u'Fasting plasma glucose', -6.0, u'rs10510634'), (7e-07, u'Diabetes (incident)', -7.0, u'rs10497721'), (8e-06, u'Diabetes related insulin traits', -6.0, u'rs10486607'), (9e-06, u'Diabetes related insulin traits', -6.0, u'rs2066219'), (4.9999999999999996e-06, u'Fasting plasma glucose', -6.0, u'rs180730'), (6e-06, u'Fasting plasma glucose', -6.0, u'rs180730'), (9e-06, u'Fasting plasma glucose', -6.0, u'rs2722425'), (7e-06, u'Fasting plasma glucose', -6.0, u'rs7731657')]\n",
      "\n"
     ]
    }
   ],
   "source": [
    "from math import log10, floor\n",
    "\n",
    "for pmid, pval in missing[:5]:\n",
    "    print pmid, pval\n",
    "    print [(a.pvalue, a.phenotype.name, floor(log10(a.pvalue)), a.snp.rs_id) for a in gold_set_dict[pmid]]\n",
    "    print"
   ]
  },
  {
   "cell_type": "markdown",
   "metadata": {},
   "source": [
    "The SNPs above are either labeled incorrectly (most of the time), or could also not occur in tables."
   ]
  },
  {
   "cell_type": "markdown",
   "metadata": {},
   "source": [
    "## Extract candidate relations between SNPs and p-values"
   ]
  },
  {
   "cell_type": "code",
   "execution_count": 46,
   "metadata": {
    "collapsed": false
   },
   "outputs": [],
   "source": [
    "from snorkel.candidates import RelationExtractor\n",
    "# Relation Extractor:\n",
    "relation_extractor = RelationExtractor(rsid_extractor, pval_extractor)"
   ]
  },
  {
   "cell_type": "code",
   "execution_count": 47,
   "metadata": {
    "collapsed": false
   },
   "outputs": [
    {
     "name": "stdout",
     "output_type": "stream",
     "text": [
      "CPU times: user 3min 8s, sys: 3.39 s, total: 3min 12s\n",
      "Wall time: 3min 15s\n",
      "SpanPair(Span(\"rs2076756\", context=None, chars=[0,8], words=[0,0]), Span(\"1.93E-13\", context=None, chars=[0,7], words=[0,0]))\n",
      "SpanPair(Span(\"rs2076756\", context=None, chars=[0,8], words=[0,0]), Span(\"2.04E-12\", context=None, chars=[0,7], words=[0,0]))\n",
      "SpanPair(Span(\"rs2076756\", context=None, chars=[0,8], words=[0,0]), Span(\"6.80E-20\", context=None, chars=[0,7], words=[0,0]))\n",
      "SpanPair(Span(\"rs2076756\", context=None, chars=[0,8], words=[0,0]), Span(\"1.39E-21\", context=None, chars=[0,7], words=[0,0]))\n",
      "SpanPair(Span(\"rs2076756\", context=None, chars=[0,8], words=[0,0]), Span(\"5.90E-08\", context=None, chars=[0,7], words=[0,0]))\n",
      "SpanPair(Span(\"rs2076756\", context=None, chars=[0,8], words=[0,0]), Span(\"7.59E-05\", context=None, chars=[0,7], words=[0,0]))\n",
      "SpanPair(Span(\"rs2076756\", context=None, chars=[0,8], words=[0,0]), Span(\"4.53E-05\", context=None, chars=[0,7], words=[0,0]))\n",
      "SpanPair(Span(\"rs2076756\", context=None, chars=[0,8], words=[0,0]), Span(\"8.65E-05\", context=None, chars=[0,7], words=[0,0]))\n",
      "SpanPair(Span(\"rs2076756\", context=None, chars=[0,8], words=[0,0]), Span(\"8.68E-05\", context=None, chars=[0,7], words=[0,0]))\n",
      "SpanPair(Span(\"rs1992662\", context=None, chars=[0,8], words=[0,0]), Span(\"1.93E-13\", context=None, chars=[0,7], words=[0,0]))\n",
      "122698 relations extracted\n"
     ]
    }
   ],
   "source": [
    "%time candidates = relation_extractor.extract(corpus.get_tables(), name='all')\n",
    "\n",
    "for cand in candidates[:10]: \n",
    "    print cand\n",
    "print \"%s relations extracted\" % len(candidates)"
   ]
  },
  {
   "cell_type": "code",
   "execution_count": 48,
   "metadata": {
    "collapsed": false
   },
   "outputs": [
    {
     "data": {
      "text/plain": [
       "Span(\"1.93E-13\", context=None, chars=[0,7], words=[0,0])"
      ]
     },
     "execution_count": 48,
     "metadata": {},
     "output_type": "execute_result"
    }
   ],
   "source": [
    "candidates[0].span1"
   ]
  },
  {
   "cell_type": "markdown",
   "metadata": {},
   "source": [
    "### Statistics"
   ]
  },
  {
   "cell_type": "markdown",
   "metadata": {},
   "source": [
    "Let's consider the subset of gold SNPs that have been found to match somewhere with a table."
   ]
  },
  {
   "cell_type": "code",
   "execution_count": 49,
   "metadata": {
    "collapsed": false
   },
   "outputs": [
    {
     "name": "stdout",
     "output_type": "stream",
     "text": [
      "[u'rs10484246', u'rs7865184', u'rs1959289', u'rs2105819', u'rs1349721']\n"
     ]
    }
   ],
   "source": [
    "rs_subset = set([span.get_span().lower() for span in rs_candidates])\n",
    "print list(rs_subset)[:5]"
   ]
  },
  {
   "cell_type": "code",
   "execution_count": 50,
   "metadata": {
    "collapsed": false
   },
   "outputs": [
    {
     "name": "stdout",
     "output_type": "stream",
     "text": [
      "[(u'rs1402837', 5e-10), (u'rs10811661', 7e-07), (u'rs7815788', 4.9999999999999996e-06), (u'rs4466137', 3e-06), (u'rs10489849', 1e-06)]\n",
      "392\n"
     ]
    }
   ],
   "source": [
    "gold_relations = set([(assoc.snp.rs_id, assoc.pvalue) for doc in corpus.documents for assoc in kb.assoc_by_pmid(doc.name) if assoc.snp.rs_id.lower() in rs_subset])\n",
    "print list(gold_relations)[:5]\n",
    "print len(gold_relations)"
   ]
  },
  {
   "cell_type": "code",
   "execution_count": 51,
   "metadata": {
    "collapsed": false
   },
   "outputs": [
    {
     "data": {
      "text/plain": [
       "2e-24"
      ]
     },
     "execution_count": 51,
     "metadata": {},
     "output_type": "execute_result"
    }
   ],
   "source": [
    "kb.assoc_by_pmid(18483556)[10].pvalue"
   ]
  },
  {
   "cell_type": "code",
   "execution_count": 52,
   "metadata": {
    "collapsed": false
   },
   "outputs": [
    {
     "name": "stdout",
     "output_type": "stream",
     "text": [
      "# of gold annotations\t= 387\n",
      "# of candidates\t\t= 12477\n",
      "Candidate recall\t= 0.951\n",
      "Candidate precision\t= 0.029\n"
     ]
    }
   ],
   "source": [
    "from extractor.util import gold_rspval_stats\n",
    "\n",
    "gold_rspval_stats(candidates, gold_relations)"
   ]
  },
  {
   "cell_type": "markdown",
   "metadata": {},
   "source": [
    "## Learning the rsid/pvalue relation"
   ]
  },
  {
   "cell_type": "markdown",
   "metadata": {},
   "source": [
    "### Load the gold set"
   ]
  },
  {
   "cell_type": "code",
   "execution_count": 53,
   "metadata": {
    "collapsed": false
   },
   "outputs": [],
   "source": [
    "from extractor.util import get_exponent, pvalue_to_float\n",
    "\n",
    "gold_relations = set([(assoc.snp.rs_id, assoc.pvalue) for doc in corpus.documents for assoc in kb.assoc_by_pmid(doc.name) if assoc.snp.rs_id.lower() in rs_subset])\n",
    "gold_relations = set([ (rs_id, get_exponent(pval)) for rs_id, pval in gold_relations ])"
   ]
  },
  {
   "cell_type": "code",
   "execution_count": 54,
   "metadata": {
    "collapsed": false
   },
   "outputs": [
    {
     "name": "stdout",
     "output_type": "stream",
     "text": [
      "745 9255\n"
     ]
    }
   ],
   "source": [
    "gt_dict = dict()\n",
    "n_pos = 0\n",
    "n_neg = 0\n",
    "for crel in candidates[:10000]:\n",
    "    if (crel.span0.get_span(), get_exponent(pvalue_to_float(crel.span1.get_span()))) in gold_relations:\n",
    "        gt_dict[crel.id] = +1\n",
    "        n_pos += 1\n",
    "    else:\n",
    "        gt_dict[crel.id] = -1\n",
    "        n_neg += 1\n",
    "\n",
    "print n_pos, n_neg"
   ]
  },
  {
   "cell_type": "markdown",
   "metadata": {},
   "source": [
    "### Load the features"
   ]
  },
  {
   "cell_type": "markdown",
   "metadata": {},
   "source": [
    "Extract features, and store them to a file."
   ]
  },
  {
   "cell_type": "code",
   "execution_count": null,
   "metadata": {
    "collapsed": false
   },
   "outputs": [],
   "source": [
    "from snorkel.features import TableNgramPairFeaturizer\n",
    "\n",
    "pkl_f = 'phenotype_feats.pkl'\n",
    "try:\n",
    "    with open(pkl_f, 'rb') as f:\n",
    "        featurizer = cPickle.load(f)\n",
    "except:\n",
    "    featurizer = TableNgramPairFeaturizer()\n",
    "    featurizer.fit_transform(candidates)"
   ]
  },
  {
   "cell_type": "code",
   "execution_count": null,
   "metadata": {
    "collapsed": false
   },
   "outputs": [],
   "source": [
    "for f in featurizer.get_features_by_candidate(candidates[0])[:10]: print f"
   ]
  },
  {
   "cell_type": "code",
   "execution_count": null,
   "metadata": {
    "collapsed": true
   },
   "outputs": [],
   "source": [
    "pkl_f = 'rsid_pval_feats.pkl'\n",
    "with open(pkl_f, 'w+') as f:\n",
    "    cPickle.dump(featurizer, f)"
   ]
  },
  {
   "cell_type": "markdown",
   "metadata": {},
   "source": [
    "Split into training and test sets"
   ]
  },
  {
   "cell_type": "code",
   "execution_count": null,
   "metadata": {
    "collapsed": true
   },
   "outputs": [],
   "source": [
    "# Split into train and test set\n",
    "training_candidates = []\n",
    "gold_candidates     = []\n",
    "gold_labels         = []\n",
    "n_half = len(candidates)/2\n",
    "for c in candidates[:n_half]:\n",
    "    if c.uid in gt_dict:\n",
    "        gold_candidates.append(c)\n",
    "        gold_labels.append(gt_dict[c.uid])\n",
    "    else:\n",
    "        training_candidates.append(c)\n",
    "training_candidates.extend(candidates[n_half:])\n",
    "gold_labels = np.array(gold_labels)\n",
    "print \"Training set size: %s\" % len(training_candidates)\n",
    "print \"Gold set size: %s\" % len(gold_candidates)\n",
    "print \"Positive labels in gold set: %s\" % len([c for c in gold_candidates if gt_dict[c.uid]==1])\n",
    "print \"Negative labels in gold set: %s\" % len([c for c in gold_candidates if gt_dict[c.uid]==-1])"
   ]
  },
  {
   "cell_type": "markdown",
   "metadata": {},
   "source": [
    "Create the model."
   ]
  },
  {
   "cell_type": "markdown",
   "metadata": {},
   "source": [
    "### Labeling functions"
   ]
  },
  {
   "cell_type": "code",
   "execution_count": 299,
   "metadata": {
    "collapsed": false
   },
   "outputs": [],
   "source": [
    "rsid_keywords = [\"id\", \"rsid\", \"snp\"]\n",
    "pval_keywords = [\"value\", \"p-value\", \"p-val\", \"p_value\", \"pvalue\"]\n",
    "\n",
    "# positive LFs\n",
    "def LF_pval_header(m):\n",
    "    # if \"pvalue\" is mentioned in first or last row, it's probably correct\n",
    "def LF_pval_aligned(m):\n",
    "    # if \"pvalue\" is mentioned in aligned cells, it's probably correct\n",
    "def LF_id_aligned(m):\n",
    "    # if \"id\" is mentioned in aligned cells, it's probably correct    \n",
    "def LF_id_aligned(m):\n",
    "    # if there is an aligned phenotype, then it is probably correct\n",
    "    pass\n",
    "\n",
    "# negative LFs\n",
    "def LF_dont_align(m):\n",
    "    # if the two spans don't align in the table, then they're clearly wrong\n",
    "    return -1 if 'previously' in m.pre_window('lemmas', 8) else 0\n",
    "def LF_obese(m):\n",
    "    return -1 if 'obese' in m.mention('words') and len(m.mention('words')) == 1 else 0\n",
    "def LF_further(m):\n",
    "    return -1 if 'further' in m.lemmas or 'furthermore' in m.lemmas else 0\n",
    "def LF_also(m):\n",
    "    return -1 if 'also' in m.words else 0\n",
    "def LF_age(m):\n",
    "    return -1 if 'age' in m.mention('words') or 'aging' in m.mention('words') or 'ages' in m.mention('words') else 0\n",
    "def LF_trait(m):\n",
    "    return -1 if 'trait' in m.mention('lemmas') else 0\n",
    "def LF_weight(m):\n",
    "    return -1 if 'weight' in m.mention('lemmas') else 0\n",
    "def LF_recently(m):\n",
    "    return -1 if 'recently' in m.words else 0\n",
    "def LF_addit(m):\n",
    "    return -1 if 'addit' in m.lemmas else 0\n",
    "def LF_may(m):\n",
    "    return -1 if 'may' in m.words else 0\n",
    "def LF_short(m):\n",
    "    return -1 if len(m.mention('lemmas')) == 1 in m.lemmas else 0\n",
    "\n",
    "pos_LFs = []\n",
    "neg_LFs = []\n",
    "LFs = pos_LFs + neg_LFs"
   ]
  },
  {
   "cell_type": "code",
   "execution_count": 306,
   "metadata": {
    "collapsed": false
   },
   "outputs": [],
   "source": [
    "from snorkel.snorkel import TrainingSet\n",
    "from snorkel.features import NgramFeaturizer\n",
    "\n",
    "training_set = TrainingSet(training_candidates, LFs, featurizer=TableNgramPairFeaturizer())"
   ]
  },
  {
   "cell_type": "markdown",
   "metadata": {},
   "source": [
    "#### Results"
   ]
  },
  {
   "cell_type": "code",
   "execution_count": null,
   "metadata": {
    "collapsed": false
   },
   "outputs": [],
   "source": [
    "lf_stats = training_set.lf_stats()\n",
    "lf_stats[:5]"
   ]
  },
  {
   "cell_type": "code",
   "execution_count": null,
   "metadata": {
    "collapsed": true
   },
   "outputs": [],
   "source": [
    "lf_stats.hist(\"coverage\")"
   ]
  },
  {
   "cell_type": "code",
   "execution_count": null,
   "metadata": {
    "collapsed": false
   },
   "outputs": [],
   "source": [
    "from snorkel.snorkel import Learner\n",
    "from snorkel.learning import LogReg\n",
    "\n",
    "learner = Learner(training_set, model=LogReg(bias_term=True))"
   ]
  },
  {
   "cell_type": "code",
   "execution_count": null,
   "metadata": {
    "collapsed": true
   },
   "outputs": [],
   "source": [
    "# Splitting into CV and test set\n",
    "n_half = len(gold_candidates)/2\n",
    "test_candidates = gold_candidates[:n_half]\n",
    "test_labels     = gold_labels[:n_half]\n",
    "cv_candidates   = gold_candidates[n_half:]\n",
    "cv_labels       = gold_labels[n_half:]"
   ]
  },
  {
   "cell_type": "code",
   "execution_count": null,
   "metadata": {
    "collapsed": true
   },
   "outputs": [],
   "source": [
    "from snorkel.learning_utils import GridSearch\n",
    "\n",
    "gs       = GridSearch(learner, ['mu', 'lf_w0'], [[1e-5, 1e-7],[1.0,2.0]])\n",
    "gs_stats = gs.fit(cv_candidates, cv_labels)"
   ]
  },
  {
   "cell_type": "code",
   "execution_count": null,
   "metadata": {
    "collapsed": true
   },
   "outputs": [],
   "source": [
    "gs_stats"
   ]
  },
  {
   "cell_type": "code",
   "execution_count": null,
   "metadata": {
    "collapsed": true
   },
   "outputs": [],
   "source": [
    "learner.test(test_candidates, test_labels)"
   ]
  },
  {
   "cell_type": "code",
   "execution_count": null,
   "metadata": {
    "collapsed": true
   },
   "outputs": [],
   "source": [
    "learner.feature_stats(n_max=10)"
   ]
  }
 ],
 "metadata": {
  "kernelspec": {
   "display_name": "Python 2",
   "language": "python",
   "name": "python2"
  },
  "language_info": {
   "codemirror_mode": {
    "name": "ipython",
    "version": 2
   },
   "file_extension": ".py",
   "mimetype": "text/x-python",
   "name": "python",
   "nbconvert_exporter": "python",
   "pygments_lexer": "ipython2",
   "version": "2.7.2"
  }
 },
 "nbformat": 4,
 "nbformat_minor": 0
}
