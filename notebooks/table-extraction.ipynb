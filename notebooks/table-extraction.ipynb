{
 "cells": [
  {
   "cell_type": "markdown",
   "metadata": {},
   "source": [
    "# SNP/Phenotype detection from raw text"
   ]
  },
  {
   "cell_type": "code",
   "execution_count": 24,
   "metadata": {
    "collapsed": false
   },
   "outputs": [
    {
     "name": "stdout",
     "output_type": "stream",
     "text": [
      "The autoreload extension is already loaded. To reload it, use:\n",
      "  %reload_ext autoreload\n"
     ]
    }
   ],
   "source": [
    "%load_ext autoreload\n",
    "%autoreload 2\n",
    "\n",
    "import numpy as np\n",
    "import cPickle, os, sys\n",
    "np.random.seed(seed=1701)\n",
    "import matplotlib\n",
    "%matplotlib inline\n",
    "matplotlib.rcParams['figure.figsize'] = (18,6)"
   ]
  },
  {
   "cell_type": "code",
   "execution_count": 25,
   "metadata": {
    "collapsed": false
   },
   "outputs": [],
   "source": [
    "# import snorkel and gwasdb\n",
    "sys.path.append('../snorkel')\n",
    "sys.path.append('../src')\n",
    "\n",
    "# set up paths\n",
    "abstract_dir = '../data/db/papers'"
   ]
  },
  {
   "cell_type": "markdown",
   "metadata": {},
   "source": [
    "## Assemble a corpus"
   ]
  },
  {
   "cell_type": "markdown",
   "metadata": {},
   "source": [
    "Collect all the tables in our dataset"
   ]
  },
  {
   "cell_type": "code",
   "execution_count": 26,
   "metadata": {
    "collapsed": false
   },
   "outputs": [],
   "source": [
    "from snorkel.parser import XMLDocParser\n",
    "from extractor.parser import UnicodeXMLTableDocParser\n",
    "\n",
    "xml_parser = UnicodeXMLTableDocParser(\n",
    "    path=abstract_dir,\n",
    "    doc='./*',\n",
    "    text='.//table',\n",
    "    id='.//article-id[@pub-id-type=\"pmid\"]/text()',\n",
    "    keep_xml_tree=True)"
   ]
  },
  {
   "cell_type": "code",
   "execution_count": 27,
   "metadata": {
    "collapsed": false
   },
   "outputs": [
    {
     "name": "stdout",
     "output_type": "stream",
     "text": [
      "<Element article at 0x10a5a4a00>\n"
     ]
    }
   ],
   "source": [
    "import lxml.etree as et\n",
    "with open('../data/db/papers/19305408.xml') as f:\n",
    "    for i,doc in enumerate(et.parse(f).xpath('./*')):\n",
    "        print doc\n",
    "#         print et.tostring(doc.xpath('.//table')[0])\n",
    "#         print doc.xpath('.//table')\n",
    "#         print '\\n'.join([et.tostring(elem) for elem in doc.xpath('.//table') if elem is not None])"
   ]
  },
  {
   "cell_type": "code",
   "execution_count": 28,
   "metadata": {
    "collapsed": false
   },
   "outputs": [
    {
     "name": "stdout",
     "output_type": "stream",
     "text": [
      "CPU times: user 53.1 s, sys: 2.91 s, total: 56 s\n",
      "Wall time: 1min 20s\n"
     ]
    }
   ],
   "source": [
    "from snorkel.parser import HTMLParser\n",
    "from extractor.parser import UnicodeTableParser\n",
    "from snorkel.parser import CorpusParser\n",
    "import cPickle\n",
    "\n",
    "table_parser = UnicodeTableParser()\n",
    "html_parser = HTMLParser(path='../data/db/papers/')\n",
    "\n",
    "corpus_name = 'gwas-table-corpus.pkl'\n",
    "\n",
    "try:\n",
    "    with open(corpus_name,\"r\") as pkl:\n",
    "        corpus = cPickle.load(pkl)\n",
    "except:\n",
    "    cp = CorpusParser(xml_parser, table_parser, max_docs=15)\n",
    "    %time corpus = cp.parse_corpus(name='GWAS Corpus')\n",
    "    # pickling currently doesn't work...\n",
    "#     with open(corpus_name,\"w\") as pkl:\n",
    "#         corpus = cPickle.dump(corpus, pkl)"
   ]
  },
  {
   "cell_type": "code",
   "execution_count": 6,
   "metadata": {
    "collapsed": false
   },
   "outputs": [],
   "source": [
    "# pickling currently doesn't work...\n",
    "# import cPickle\n",
    "# with open(corpus_name,\"w\") as pkl:\n",
    "#     corpus = cPickle.dump(corpus, pkl)"
   ]
  },
  {
   "cell_type": "code",
   "execution_count": 7,
   "metadata": {
    "collapsed": false
   },
   "outputs": [
    {
     "name": "stdout",
     "output_type": "stream",
     "text": [
      "Document('17447842', Corpus (GWAS Corpus))\n"
     ]
    }
   ],
   "source": [
    "print corpus.documents[0]"
   ]
  },
  {
   "cell_type": "code",
   "execution_count": 8,
   "metadata": {
    "collapsed": false
   },
   "outputs": [
    {
     "ename": "IndexError",
     "evalue": "list index out of range",
     "output_type": "error",
     "traceback": [
      "\u001b[0;31m---------------------------------------------------------------------------\u001b[0m",
      "\u001b[0;31mIndexError\u001b[0m                                Traceback (most recent call last)",
      "\u001b[0;32m<ipython-input-8-e8a14042bf18>\u001b[0m in \u001b[0;36m<module>\u001b[0;34m()\u001b[0m\n\u001b[0;32m----> 1\u001b[0;31m \u001b[0;32mfor\u001b[0m \u001b[0mcell\u001b[0m \u001b[0;32min\u001b[0m \u001b[0mcorpus\u001b[0m\u001b[0;34m.\u001b[0m\u001b[0mget_tables\u001b[0m\u001b[0;34m(\u001b[0m\u001b[0;34m)\u001b[0m\u001b[0;34m[\u001b[0m\u001b[0;36m97\u001b[0m\u001b[0;34m]\u001b[0m\u001b[0;34m.\u001b[0m\u001b[0mcells\u001b[0m\u001b[0;34m:\u001b[0m\u001b[0;34m\u001b[0m\u001b[0m\n\u001b[0m\u001b[1;32m      2\u001b[0m \u001b[0;31m#     print cell.row_num , cell.col_num, cell.text\u001b[0m\u001b[0;34m\u001b[0m\u001b[0;34m\u001b[0m\u001b[0m\n\u001b[1;32m      3\u001b[0m     \u001b[0;32mpass\u001b[0m\u001b[0;34m\u001b[0m\u001b[0m\n",
      "\u001b[0;31mIndexError\u001b[0m: list index out of range"
     ]
    }
   ],
   "source": [
    "for cell in corpus.get_tables()[97].cells:\n",
    "#     print cell.row_num , cell.col_num, cell.text\n",
    "    pass"
   ]
  },
  {
   "cell_type": "code",
   "execution_count": null,
   "metadata": {
    "collapsed": false
   },
   "outputs": [],
   "source": [
    "print corpus.get_tables()[100].document"
   ]
  },
  {
   "cell_type": "code",
   "execution_count": null,
   "metadata": {
    "collapsed": false
   },
   "outputs": [],
   "source": [
    "from snorkel.models import Context\n",
    "context = Context()\n",
    "print context.id"
   ]
  },
  {
   "cell_type": "markdown",
   "metadata": {},
   "source": [
    "## Try extracting rs-ids first"
   ]
  },
  {
   "cell_type": "code",
   "execution_count": 29,
   "metadata": {
    "collapsed": false
   },
   "outputs": [],
   "source": [
    "# add new paths\n",
    "sys.path.append('../src/crawler')\n",
    "sys.path.append('../src/crawler/db')\n",
    "\n",
    "# import new libs\n",
    "from kb import KnowledgeBase\n",
    "from extractor.util import gold_rsid_stats, gold_rsid_precision\n",
    "\n",
    "from snorkel.candidates import Ngrams\n",
    "from snorkel.matchers import DictionaryMatch, RegexMatchSpan, Union\n",
    "from snorkel.candidates import EntityExtractor\n",
    "\n",
    "# from snorkel.candidates import Candidates"
   ]
  },
  {
   "cell_type": "markdown",
   "metadata": {},
   "source": [
    "### Create a gold set"
   ]
  },
  {
   "cell_type": "markdown",
   "metadata": {},
   "source": [
    "Get a list of all the rs-ids we know."
   ]
  },
  {
   "cell_type": "code",
   "execution_count": 30,
   "metadata": {
    "collapsed": true
   },
   "outputs": [],
   "source": [
    "kb = KnowledgeBase()"
   ]
  },
  {
   "cell_type": "code",
   "execution_count": 31,
   "metadata": {
    "collapsed": false
   },
   "outputs": [
    {
     "name": "stdout",
     "output_type": "stream",
     "text": [
      "rs4950928\n"
     ]
    }
   ],
   "source": [
    "rs_ids = kb.get_rsid_candidates()\n",
    "print rs_ids[0]"
   ]
  },
  {
   "cell_type": "markdown",
   "metadata": {},
   "source": [
    "Get a gold set:"
   ]
  },
  {
   "cell_type": "code",
   "execution_count": 32,
   "metadata": {
    "collapsed": false
   },
   "outputs": [],
   "source": [
    "gold_set = frozenset( [ (doc.name, rs_id) for doc in corpus.documents for rs_id in kb.rsids_by_pmid(int(doc.name)) ] )\n",
    "gold_set_rsids = [rs_id for doc_id, rs_id in gold_set]"
   ]
  },
  {
   "cell_type": "code",
   "execution_count": 33,
   "metadata": {
    "collapsed": false
   },
   "outputs": [],
   "source": [
    "gold_rsid_dict = {doc_id : set() for doc_id, rs_id in gold_set}\n",
    "for docid, rsid in gold_set:\n",
    "    gold_rsid_dict[docid].add(rsid)"
   ]
  },
  {
   "cell_type": "code",
   "execution_count": 34,
   "metadata": {
    "collapsed": false
   },
   "outputs": [
    {
     "name": "stdout",
     "output_type": "stream",
     "text": [
      "178\n"
     ]
    }
   ],
   "source": [
    "print len(gold_set)"
   ]
  },
  {
   "cell_type": "markdown",
   "metadata": {},
   "source": [
    "### Extract candidates:"
   ]
  },
  {
   "cell_type": "code",
   "execution_count": 45,
   "metadata": {
    "collapsed": false
   },
   "outputs": [
    {
     "name": "stdout",
     "output_type": "stream",
     "text": [
      "CPU times: user 1.06 s, sys: 36.7 ms, total: 1.1 s\n",
      "Wall time: 1.08 s\n"
     ]
    }
   ],
   "source": [
    "from snorkel.candidates import EntityExtractor\n",
    "from snorkel.candidates import TableNgrams\n",
    "\n",
    "# Define a candidate space\n",
    "ngrams = TableNgrams(n_max=1)\n",
    "\n",
    "# Define matchers\n",
    "dict_rsid_matcher = DictionaryMatch(d=rs_ids, longest_match_only=False)\n",
    "gold_rsid_matcher = DictionaryMatch(d=gold_set_rsids, longest_match_only=False)\n",
    "regx_rsid_matcher = RegexMatchSpan(rgx=r'rs\\d+')\n",
    "rsid_matcher = Union(dict_rsid_matcher, regx_rsid_matcher)\n",
    "\n",
    "rsid_extractor = EntityExtractor(ngrams, rsid_matcher)\n",
    "%time rs_candidates = rsid_extractor.extract(corpus.get_tables(), name='all')\n",
    "\n",
    "# # collect candidates\n",
    "# %time gold_dict_c = Candidates(ngrams, gold_rsid_matcher, corpus.get_contexts())\n",
    "# %time rsid_c = Candidates(ngrams, rsid_matcher, corpus.get_contexts())"
   ]
  },
  {
   "cell_type": "code",
   "execution_count": 46,
   "metadata": {
    "collapsed": false
   },
   "outputs": [
    {
     "name": "stdout",
     "output_type": "stream",
     "text": [
      "Span(\"rs2076756\", context=None, chars=[0,8], words=[0,0])\n",
      "Span(\"rs1992662\", context=None, chars=[0,8], words=[0,0])\n",
      "Span(\"rs1992660\", context=None, chars=[0,8], words=[0,0])\n",
      "Span(\"rs1793004\", context=None, chars=[0,8], words=[0,0])\n",
      "Span(\"rs10521209\", context=None, chars=[0,9], words=[0,0])\n",
      "Span(\"rs2631372\", context=None, chars=[0,8], words=[0,0])\n",
      "Span(\"rs2925757\", context=None, chars=[0,8], words=[0,0])\n",
      "Span(\"rs6947579\", context=None, chars=[0,8], words=[0,0])\n",
      "Span(\"rs1553575\", context=None, chars=[0,8], words=[0,0])\n",
      "Span(\"rs10484545\", context=None, chars=[0,9], words=[0,0])\n",
      "1577 candidates extracted\n",
      "Phrase('17684544', 1, 20, 0, u'rs2076756')\n",
      "Cell('17684544', 1, 20, u'rs2076756')\n"
     ]
    }
   ],
   "source": [
    "for cand in rs_candidates[:10]: \n",
    "    print cand\n",
    "print \"%s candidates extracted\" % len(rs_candidates)\n",
    "print rs_candidates[0].context\n",
    "print rs_candidates[0].context.cell"
   ]
  },
  {
   "cell_type": "markdown",
   "metadata": {},
   "source": [
    "### Statistics"
   ]
  },
  {
   "cell_type": "markdown",
   "metadata": {},
   "source": [
    "Statistics on all the rsid candidates:"
   ]
  },
  {
   "cell_type": "code",
   "execution_count": 17,
   "metadata": {
    "collapsed": false
   },
   "outputs": [
    {
     "name": "stdout",
     "output_type": "stream",
     "text": [
      "# of gold annotations\t= 178\n",
      "# of candidates\t\t= 1371\n",
      "Candidate recall\t= 0.978\n",
      "Candidate precision\t= 0.127\n"
     ]
    }
   ],
   "source": [
    "gold_rsid_stats(rs_candidates, gold_set)"
   ]
  },
  {
   "cell_type": "markdown",
   "metadata": {},
   "source": [
    "Interesting: some SNPs seem to be never mentioned (e.g. rs12122100) while others (rs727153) appear only in the text.\n",
    "\n",
    "Sometimes, it's not picked up for a different, strange reason: see rs13314993."
   ]
  },
  {
   "cell_type": "code",
   "execution_count": 18,
   "metadata": {
    "collapsed": false
   },
   "outputs": [
    {
     "name": "stdout",
     "output_type": "stream",
     "text": [
      "('17447842', 'rs11209026')\n",
      "('17447842', 'rs1373692')\n",
      "('17658951', 'rs9930506')\n",
      "('17447842', 'rs5743289')\n"
     ]
    }
   ],
   "source": [
    "from extractor.util import gold_rsid_recall\n",
    "\n",
    "incorrect_rsids = list(gold_rsid_recall(rs_candidates, gold_set))\n",
    "for ngram in incorrect_rsids[:10]:\n",
    "    print ngram"
   ]
  },
  {
   "cell_type": "code",
   "execution_count": 19,
   "metadata": {
    "collapsed": false
   },
   "outputs": [
    {
     "name": "stdout",
     "output_type": "stream",
     "text": [
      "Phrase('17903292', 1, 371, 0, u'rs295136')\n",
      "Phrase('17903292', 1, 389, 0, u'rs754958')\n",
      "Phrase('17903292', 1, 396, 0, u'rs10495487')\n",
      "Phrase('17903292', 1, 403, 0, u'rs10489578')\n",
      "Phrase('17903292', 1, 410, 0, u'rs10515134')\n",
      "Phrase('17903292', 1, 417, 0, u'rs10489578')\n",
      "Phrase('17903292', 1, 424, 0, u'rs10484370')\n",
      "Phrase('17903292', 1, 431, 0, u'rs10511176')\n",
      "Phrase('17903292', 1, 438, 0, u'rs10502302')\n",
      "Phrase('17903292', 2, 9, 0, u'rs2839235')\n",
      "Phrase('17903292', 2, 16, 0, u'rs10512437')\n",
      "Phrase('17903292', 2, 23, 0, u'rs2480555')\n",
      "Phrase('17903292', 2, 30, 0, u'rs10486135')\n",
      "Phrase('17903292', 2, 37, 0, u'rs727087')\n",
      "Phrase('17903292', 2, 44, 0, u'rs1005066')\n",
      "Phrase('17903292', 2, 51, 0, u'rs2885618')\n",
      "Phrase('17903292', 2, 58, 0, u'rs10496887')\n",
      "Phrase('17903292', 2, 72, 0, u'rs10485409')\n",
      "Phrase('17903292', 2, 86, 0, u'rs10502192')\n",
      "Phrase('17903292', 2, 93, 0, u'rs2077678')\n",
      "Phrase('17903292', 2, 100, 0, u'rs723464')\n",
      "Phrase('17903292', 2, 107, 0, u'rs9305355')\n",
      "Phrase('17903292', 2, 114, 0, u'rs10484587')\n",
      "Phrase('17903292', 2, 128, 0, u'rs10493147')\n",
      "Phrase('17903292', 2, 149, 0, u'rs9308765')\n",
      "Phrase('17903292', 2, 156, 0, u'rs6942231')\n",
      "Phrase('17903292', 2, 163, 0, u'rs10486365')\n",
      "Phrase('17903292', 2, 170, 0, u'rs10486653')\n",
      "Phrase('17903292', 3, 20, 0, u'rs2145231')\n",
      "Phrase('17903292', 3, 28, 0, u'rs726217')\n"
     ]
    }
   ],
   "source": [
    "from extractor.util import gold_rsid_precision\n",
    "\n",
    "strange_ngrams = list(gold_rsid_precision(rs_candidates, gold_set))\n",
    "for ngram in strange_ngrams[70:100]:\n",
    "    print ngram.context"
   ]
  },
  {
   "cell_type": "code",
   "execution_count": 20,
   "metadata": {
    "collapsed": false
   },
   "outputs": [
    {
     "data": {
      "text/plain": [
       "{'rs10499559', 'rs1158167', 'rs1712790', 'rs6977660', 'rs9305354', 'rs9322817'}"
      ]
     },
     "execution_count": 20,
     "metadata": {},
     "output_type": "execute_result"
    }
   ],
   "source": [
    "gold_rsid_dict['17903292']"
   ]
  },
  {
   "cell_type": "markdown",
   "metadata": {
    "collapsed": true
   },
   "source": [
    "## Get candidate p-values"
   ]
  },
  {
   "cell_type": "markdown",
   "metadata": {},
   "source": [
    "Need to use regular expressions for this."
   ]
  },
  {
   "cell_type": "code",
   "execution_count": 47,
   "metadata": {
    "collapsed": false
   },
   "outputs": [
    {
     "name": "stdout",
     "output_type": "stream",
     "text": [
      "CPU times: user 2.04 s, sys: 45.9 ms, total: 2.08 s\n",
      "Wall time: 2.07 s\n"
     ]
    }
   ],
   "source": [
    "from extractor.matcher import PvalMatcher\n",
    "rgx1 = u'[1-9]\\d?[\\xb7\\.]?\\d*\\s*[\\xd7\\*]\\s*10\\s*[-\\u2212\\u2013]\\s*\\d+'\n",
    "pval_rgx_matcher1 = RegexMatchSpan(rgx=rgx1)\n",
    "rgx2 = u'[1-9]\\d?[\\xb7\\.]?\\d*\\s*[eE][-\\u2212\\u2013]\\d+'\n",
    "pval_rgx_matcher2 = RegexMatchSpan(rgx=rgx2)\n",
    "rgx3 = u'0\\.0000+\\d+'\n",
    "pval_rgx_matcher3 = RegexMatchSpan(rgx=rgx3)\n",
    "pval_matcher = Union(pval_rgx_matcher1, pval_rgx_matcher2, pval_rgx_matcher3)\n",
    "# pval_matcher = PvalMatcher()\n",
    "ngrams = TableNgrams(n_max=7)\n",
    "pval_extractor = EntityExtractor(ngrams, pval_matcher)\n",
    "%time pval_c = pval_extractor.extract(corpus.get_tables(), name='all')"
   ]
  },
  {
   "cell_type": "code",
   "execution_count": 48,
   "metadata": {
    "collapsed": false
   },
   "outputs": [
    {
     "name": "stdout",
     "output_type": "stream",
     "text": [
      "Got 1246 candidates, e.g.:\n",
      "Span(\"1.93E-13\", context=None, chars=[0,7], words=[0,0])\n",
      "Phrase('17684544', 1, 26, 0, u'1.93E-13')\n",
      "\n",
      "Span(\"2.04E-12\", context=None, chars=[0,7], words=[0,0])\n",
      "Phrase('17684544', 1, 27, 0, u'2.04E-12')\n",
      "\n",
      "Span(\"6.80E-20\", context=None, chars=[0,7], words=[0,0])\n",
      "Phrase('17684544', 1, 31, 0, u'6.80E-20')\n",
      "\n",
      "Span(\"1.39E-21\", context=None, chars=[0,7], words=[0,0])\n",
      "Phrase('17684544', 1, 32, 0, u'1.39E-21')\n",
      "\n",
      "Span(\"5.90E-08\", context=None, chars=[0,7], words=[0,0])\n",
      "Phrase('17684544', 1, 34, 0, u'5.90E-08')\n",
      "\n",
      "Span(\"7.59E-05\", context=None, chars=[0,7], words=[0,0])\n",
      "Phrase('17684544', 1, 47, 0, u'7.59E-05')\n",
      "\n",
      "Span(\"4.53E-05\", context=None, chars=[0,7], words=[0,0])\n",
      "Phrase('17684544', 1, 63, 0, u'4.53E-05')\n",
      "\n",
      "Span(\"8.65E-05\", context=None, chars=[0,7], words=[0,0])\n",
      "Phrase('17684544', 1, 95, 0, u'8.65E-05')\n",
      "\n",
      "Span(\"8.68E-05\", context=None, chars=[0,7], words=[0,0])\n",
      "Phrase('17684544', 1, 96, 0, u'8.68E-05')\n",
      "\n",
      "Span(\"1.68E-06\", context=None, chars=[0,7], words=[0,0])\n",
      "Phrase('17684544', 2, 63, 0, u'1.68E-06')\n",
      "\n"
     ]
    }
   ],
   "source": [
    "ngrams = TableNgrams(n_max=7)\n",
    "\n",
    "print 'Got %d candidates, e.g.:' % len(pval_c)\n",
    "for candidate in pval_c[:10]:\n",
    "    print unicode(candidate)\n",
    "    print candidate.context\n",
    "#     for t in ngrams.apply(candidate.context):\n",
    "#         print unicode(t.get_span())\n",
    "#         print re.match(rgx, t.get_span())\n",
    "#     print [unicode(t.get_span()) for t in ngrams.apply(candidate.context)]\n",
    "#     print\n",
    "#     print candidate.get_attrib_span('words')\n",
    "    print"
   ]
  },
  {
   "cell_type": "code",
   "execution_count": 23,
   "metadata": {
    "collapsed": false
   },
   "outputs": [],
   "source": [
    "for ngram in pval_c:\n",
    "    if ngram.context.document.name == '19096518':\n",
    "        print str(ngram.context.cell)"
   ]
  },
  {
   "cell_type": "markdown",
   "metadata": {},
   "source": [
    "Filter nested p-value estimates e.g. 1.2\\*10^-7 and 2*10^-7"
   ]
  },
  {
   "cell_type": "code",
   "execution_count": 24,
   "metadata": {
    "collapsed": false
   },
   "outputs": [
    {
     "name": "stdout",
     "output_type": "stream",
     "text": [
      "1246 1246\n"
     ]
    }
   ],
   "source": [
    "# load existing candidates into a dict\n",
    "span_dict = { str(span.context.cell) : list() for span in pval_c }\n",
    "for span in pval_c:\n",
    "    span_dict[str(span.context.cell)].append( (span.char_start, span.char_end) )\n",
    "\n",
    "def nested(ivl1, ivl2):\n",
    "    if ivl1 != ivl2 and ivl2[0] <= ivl1[0] <= ivl1[1] <= ivl2[1]:\n",
    "        return True\n",
    "    else:\n",
    "        return False\n",
    "\n",
    "new_pval_c = list()\n",
    "for span in pval_c:\n",
    "    span_ivl = span.char_start, span.char_end\n",
    "    span_name = str(span.context.cell)\n",
    "    if all([not nested(span_ivl, other_ivl) for other_ivl in span_dict[span_name]]):\n",
    "        new_pval_c.append(span)\n",
    "#     else:\n",
    "#         print span_ivl, span_dict[span_name]\n",
    "#         print unicode(span)\n",
    "#         print unicode(span.context.cell.text)\n",
    "#         print span.uid\n",
    "#         print span.context.row_num, span.context.col_num\n",
    "#         print unicode(span)\n",
    "#         print\n",
    "#         print [(cell, cell.row_num, cell.col_num) for cell in span.context.table.cells]\n",
    "#         break\n",
    "\n",
    "print len(new_pval_c), len(pval_c)\n",
    "pval_c = new_pval_c"
   ]
  },
  {
   "cell_type": "markdown",
   "metadata": {},
   "source": [
    "### Statistics"
   ]
  },
  {
   "cell_type": "markdown",
   "metadata": {},
   "source": [
    "First, how many p-values that should be present do we extract?"
   ]
  },
  {
   "cell_type": "code",
   "execution_count": 25,
   "metadata": {
    "collapsed": false
   },
   "outputs": [
    {
     "name": "stdout",
     "output_type": "stream",
     "text": [
      "6.2e-05\n",
      "1.85e-20\n"
     ]
    }
   ],
   "source": [
    "# we need to define a p-value -> float converter\n",
    "from extractor.util import pvalue_to_float, gold_pval_stats, gold_pval_precision\n",
    "\n",
    "print pvalue_to_float(u\"6.2×10 −5\")\n",
    "print pvalue_to_float(u\"1.85×10 −20\")"
   ]
  },
  {
   "cell_type": "code",
   "execution_count": 26,
   "metadata": {
    "collapsed": false
   },
   "outputs": [],
   "source": [
    "from kb import KnowledgeBase\n",
    "kb = KnowledgeBase()\n",
    "gold_set_pvals = frozenset([ (doc.name, pval) for doc in corpus.documents for pval in kb.pvals_by_pmid(int(doc.name)) ])\n",
    "gold_set_dict = {doc.name: kb.assoc_by_pmid(int(doc.name)) for doc in corpus.documents }"
   ]
  },
  {
   "cell_type": "markdown",
   "metadata": {},
   "source": [
    "We will be looking at precision/recall over p-values that are known to be associated with a SNP, and the rsid of that SNP occurs somewhere in the document (as determined above)."
   ]
  },
  {
   "cell_type": "code",
   "execution_count": 27,
   "metadata": {
    "collapsed": false
   },
   "outputs": [
    {
     "name": "stdout",
     "output_type": "stream",
     "text": [
      "Found 107 gold mentions, e.g.:\n",
      "[('17903300', 1e-07), ('17903300', 2e-07), ('17903294', 2e-06), ('17903296', 2e-07), ('17903303', 4.9999999999999996e-06)]\n",
      "\n",
      "p-value candidate extraction statistics:\n",
      "[('17684544', 1e-21), ('17684544', 4e-07), ('17684544', 3e-06), ('17903292', 9.000000000000001e-09), ('17903292', 2e-06), ('17903292', 4e-06), ('17903292', 7e-06), ('17903292', 8e-06), ('17903293', 1e-14), ('17903293', 4e-12)]\n",
      "[('17684544', -21.0), ('17684544', -7.0), ('17684544', -6.0), ('17903292', -9.0), ('17903292', -6.0), ('17903293', -14.0), ('17903293', -12.0), ('17903293', -8.0), ('17903293', -7.0), ('17903293', -6.0)]\n",
      "[('17684544', -49.0), ('17684544', -41.0), ('17684544', -34.0), ('17684544', -28.0), ('17684544', -22.0), ('17684544', -21.0), ('17684544', -20.0), ('17684544', -18.0), ('17684544', -17.0), ('17684544', -14.0)]\n",
      "# of gold annotations\t= 35\n",
      "# of candidates\t\t= 78\n",
      "Candidate recall\t= 0.886\n",
      "Candidate precision\t= 0.397\n",
      "None\n"
     ]
    }
   ],
   "source": [
    "from extractor.util import gold_pval_stats, gold_pval_stats_limited\n",
    "\n",
    "print 'Found %d gold mentions, e.g.:' % len(gold_set_pvals)\n",
    "print list(gold_set_pvals)[:5]\n",
    "print\n",
    "\n",
    "print 'p-value candidate extraction statistics:'\n",
    "# print gold_pval_stats(pval_c, gold_set_pvals, gold_set_dict)\n",
    "print gold_pval_stats_limited(pval_c, gold_set_dict, rs_candidates)"
   ]
  },
  {
   "cell_type": "markdown",
   "metadata": {},
   "source": [
    "Some debugging... We will print the papers and their pvalues that are not found in the paper. Below, is the list of all SNPs associated with the paper, so we can find the SNP that is missing."
   ]
  },
  {
   "cell_type": "code",
   "execution_count": 28,
   "metadata": {
    "collapsed": false
   },
   "outputs": [],
   "source": [
    "from extractor.util import gold_pval_recall, gold_pval_precision\n",
    "missing = list(gold_pval_recall(pval_c, gold_set_dict, rs_candidates))\n",
    "# print gold_pval_precision(pval_c, gold_set_pvals)"
   ]
  },
  {
   "cell_type": "code",
   "execution_count": 29,
   "metadata": {
    "collapsed": false
   },
   "outputs": [
    {
     "name": "stdout",
     "output_type": "stream",
     "text": [
      "17903298 -8.0\n",
      "[(2e-06, u'Diabetes related insulin traits', -6.0, u'rs2877832'), (3e-06, u'Diabetes related insulin traits', -6.0, u'rs2877832'), (2e-08, u'Fasting plasma glucose', -8.0, u'rs2722425'), (4.9999999999999996e-06, u'Fasting plasma glucose', -6.0, u'rs10510634'), (7e-07, u'Diabetes (incident)', -7.0, u'rs10497721'), (8e-06, u'Diabetes related insulin traits', -6.0, u'rs10486607'), (9e-06, u'Diabetes related insulin traits', -6.0, u'rs2066219'), (4.9999999999999996e-06, u'Fasting plasma glucose', -6.0, u'rs180730'), (6e-06, u'Fasting plasma glucose', -6.0, u'rs180730'), (9e-06, u'Fasting plasma glucose', -6.0, u'rs2722425'), (7e-06, u'Fasting plasma glucose', -6.0, u'rs7731657')]\n",
      "\n",
      "17903302 -9.0\n",
      "[(2e-06, u'Blood pressure', -6.0, u'rs10493340'), (3e-06, u'Blood pressure', -6.0, u'rs1963982'), (3e-06, u'Blood pressure', -6.0, u'rs935334'), (2e-06, u'Tonometry', -6.0, u'rs6063312'), (3e-06, u'Tonometry', -6.0, u'rs770189'), (6e-06, u'Tonometry', -6.0, u'rs10514688'), (6e-06, u'Tonometry', -6.0, u'rs7042864'), (8e-06, u'Tonometry', -6.0, u'rs1322512'), (2e-07, u'Tonometry', -7.0, u'rs3773643'), (2e-06, u'Tonometry', -6.0, u'rs3793427'), (2e-06, u'Tonometry', -6.0, u'rs6492654'), (3e-06, u'Tonometry', -6.0, u'rs1367248'), (4e-06, u'Tonometry', -6.0, u'rs10521232'), (4e-06, u'Tonometry', -6.0, u'rs3766680'), (4e-06, u'Tonometry', -6.0, u'rs1371924'), (8e-06, u'Tonometry', -6.0, u'rs10488172'), (4e-06, u'Blood pressure', -6.0, u'rs4370013'), (4e-06, u'Blood pressure', -6.0, u'rs10491334'), (4.9999999999999996e-06, u'Blood pressure', -6.0, u'rs2121070'), (7e-06, u'Blood pressure', -6.0, u'rs2509458'), (3e-07, u'Blood pressure', -7.0, u'rs7591163'), (1e-09, u'Blood pressure', -9.0, u'rs3096277')]\n",
      "\n",
      "17903298 -6.0\n",
      "[(2e-06, u'Diabetes related insulin traits', -6.0, u'rs2877832'), (3e-06, u'Diabetes related insulin traits', -6.0, u'rs2877832'), (2e-08, u'Fasting plasma glucose', -8.0, u'rs2722425'), (4.9999999999999996e-06, u'Fasting plasma glucose', -6.0, u'rs10510634'), (7e-07, u'Diabetes (incident)', -7.0, u'rs10497721'), (8e-06, u'Diabetes related insulin traits', -6.0, u'rs10486607'), (9e-06, u'Diabetes related insulin traits', -6.0, u'rs2066219'), (4.9999999999999996e-06, u'Fasting plasma glucose', -6.0, u'rs180730'), (6e-06, u'Fasting plasma glucose', -6.0, u'rs180730'), (9e-06, u'Fasting plasma glucose', -6.0, u'rs2722425'), (7e-06, u'Fasting plasma glucose', -6.0, u'rs7731657')]\n",
      "\n",
      "17903298 -7.0\n",
      "[(2e-06, u'Diabetes related insulin traits', -6.0, u'rs2877832'), (3e-06, u'Diabetes related insulin traits', -6.0, u'rs2877832'), (2e-08, u'Fasting plasma glucose', -8.0, u'rs2722425'), (4.9999999999999996e-06, u'Fasting plasma glucose', -6.0, u'rs10510634'), (7e-07, u'Diabetes (incident)', -7.0, u'rs10497721'), (8e-06, u'Diabetes related insulin traits', -6.0, u'rs10486607'), (9e-06, u'Diabetes related insulin traits', -6.0, u'rs2066219'), (4.9999999999999996e-06, u'Fasting plasma glucose', -6.0, u'rs180730'), (6e-06, u'Fasting plasma glucose', -6.0, u'rs180730'), (9e-06, u'Fasting plasma glucose', -6.0, u'rs2722425'), (7e-06, u'Fasting plasma glucose', -6.0, u'rs7731657')]\n",
      "\n"
     ]
    }
   ],
   "source": [
    "from math import log10, floor\n",
    "\n",
    "for pmid, pval in missing[:5]:\n",
    "    print pmid, pval\n",
    "    print [(a.pvalue, a.phenotype.name, floor(log10(a.pvalue)), a.snp.rs_id) for a in gold_set_dict[pmid]]\n",
    "    print"
   ]
  },
  {
   "cell_type": "markdown",
   "metadata": {},
   "source": [
    "The SNPs above are either labeled incorrectly (most of the time), or could also not occur in tables."
   ]
  },
  {
   "cell_type": "markdown",
   "metadata": {},
   "source": [
    "## Extract candidate relations between SNPs and p-values"
   ]
  },
  {
   "cell_type": "code",
   "execution_count": 49,
   "metadata": {
    "collapsed": false
   },
   "outputs": [],
   "source": [
    "from snorkel.candidates import AlignedTableRelationExtractor\n",
    "# Relation Extractor:\n",
    "relation_extractor = AlignedTableRelationExtractor(rsid_extractor, pval_extractor)"
   ]
  },
  {
   "cell_type": "code",
   "execution_count": 50,
   "metadata": {
    "collapsed": false
   },
   "outputs": [
    {
     "name": "stdout",
     "output_type": "stream",
     "text": [
      "CPU times: user 58.5 s, sys: 514 ms, total: 59 s\n",
      "Wall time: 59.2 s\n",
      "SpanPair(Span(\"rs2076756\", context=None, chars=[0,8], words=[0,0]), Span(\"1.93E-13\", context=None, chars=[0,7], words=[0,0]))\n",
      "SpanPair(Span(\"rs2076756\", context=None, chars=[0,8], words=[0,0]), Span(\"2.04E-12\", context=None, chars=[0,7], words=[0,0]))\n",
      "SpanPair(Span(\"rs2076756\", context=None, chars=[0,8], words=[0,0]), Span(\"6.80E-20\", context=None, chars=[0,7], words=[0,0]))\n",
      "SpanPair(Span(\"rs2076756\", context=None, chars=[0,8], words=[0,0]), Span(\"1.39E-21\", context=None, chars=[0,7], words=[0,0]))\n",
      "SpanPair(Span(\"rs2076756\", context=None, chars=[0,8], words=[0,0]), Span(\"5.90E-08\", context=None, chars=[0,7], words=[0,0]))\n",
      "SpanPair(Span(\"rs1992662\", context=None, chars=[0,8], words=[0,0]), Span(\"7.59E-05\", context=None, chars=[0,7], words=[0,0]))\n",
      "SpanPair(Span(\"rs1992660\", context=None, chars=[0,8], words=[0,0]), Span(\"4.53E-05\", context=None, chars=[0,7], words=[0,0]))\n",
      "SpanPair(Span(\"rs10521209\", context=None, chars=[0,9], words=[0,0]), Span(\"8.65E-05\", context=None, chars=[0,7], words=[0,0]))\n",
      "SpanPair(Span(\"rs10521209\", context=None, chars=[0,9], words=[0,0]), Span(\"8.68E-05\", context=None, chars=[0,7], words=[0,0]))\n",
      "SpanPair(Span(\"rs1553575\", context=None, chars=[0,8], words=[0,0]), Span(\"1.68E-06\", context=None, chars=[0,7], words=[0,0]))\n",
      "1226 relations extracted\n"
     ]
    }
   ],
   "source": [
    "%time candidates = relation_extractor.extract(corpus.get_tables(), name='all')\n",
    "\n",
    "for cand in candidates[:10]: \n",
    "    print cand\n",
    "print \"%s relations extracted\" % len(candidates)"
   ]
  },
  {
   "cell_type": "code",
   "execution_count": 52,
   "metadata": {
    "collapsed": false
   },
   "outputs": [
    {
     "name": "stdout",
     "output_type": "stream",
     "text": [
      "63\n",
      "63\n"
     ]
    }
   ],
   "source": [
    "print candidates[1000].span0.context.cell.row_num\n",
    "print candidates[1000].span1.context.cell.row_num"
   ]
  },
  {
   "cell_type": "code",
   "execution_count": 86,
   "metadata": {
    "collapsed": false
   },
   "outputs": [],
   "source": [
    "# candidates_bak = candidates"
   ]
  },
  {
   "cell_type": "markdown",
   "metadata": {},
   "source": [
    "### Statistics"
   ]
  },
  {
   "cell_type": "markdown",
   "metadata": {},
   "source": [
    "Let's consider the subset of gold SNPs that have been found to match somewhere with a table."
   ]
  },
  {
   "cell_type": "code",
   "execution_count": 53,
   "metadata": {
    "collapsed": false
   },
   "outputs": [
    {
     "name": "stdout",
     "output_type": "stream",
     "text": [
      "[u'rs10484246', u'rs7865184', u'rs633082', u'rs667463', u'rs2105819']\n"
     ]
    }
   ],
   "source": [
    "rs_subset = set([span.get_span().lower() for span in rs_candidates])\n",
    "print list(rs_subset)[:5]"
   ]
  },
  {
   "cell_type": "code",
   "execution_count": 54,
   "metadata": {
    "collapsed": false
   },
   "outputs": [
    {
     "name": "stdout",
     "output_type": "stream",
     "text": [
      "[(u'rs10493485', 2e-06), (u'rs7042864', 6e-06), (u'rs2066219', 9e-06), (u'rs958672', 2e-06), (u'rs10489849', 1e-06)]\n",
      "178\n"
     ]
    }
   ],
   "source": [
    "gold_relations = set([(assoc.snp.rs_id, assoc.pvalue) for doc in corpus.documents for assoc in kb.assoc_by_pmid(doc.name) if assoc.snp.rs_id.lower() in rs_subset])\n",
    "print list(gold_relations)[:5]\n",
    "print len(gold_relations)"
   ]
  },
  {
   "cell_type": "code",
   "execution_count": 55,
   "metadata": {
    "collapsed": false
   },
   "outputs": [
    {
     "data": {
      "text/plain": [
       "2e-24"
      ]
     },
     "execution_count": 55,
     "metadata": {},
     "output_type": "execute_result"
    }
   ],
   "source": [
    "kb.assoc_by_pmid(18483556)[10].pvalue"
   ]
  },
  {
   "cell_type": "code",
   "execution_count": 56,
   "metadata": {
    "collapsed": false
   },
   "outputs": [
    {
     "name": "stdout",
     "output_type": "stream",
     "text": [
      "# of gold annotations\t= 176\n",
      "# of candidates\t\t= 1091\n",
      "Candidate recall\t= 0.932\n",
      "Candidate precision\t= 0.150\n"
     ]
    }
   ],
   "source": [
    "from extractor.util import gold_rspval_stats\n",
    "\n",
    "gold_rspval_stats(candidates, gold_relations)"
   ]
  },
  {
   "cell_type": "markdown",
   "metadata": {},
   "source": [
    "## Learning the rsid/pvalue relation"
   ]
  },
  {
   "cell_type": "markdown",
   "metadata": {},
   "source": [
    "### Load the gold set"
   ]
  },
  {
   "cell_type": "code",
   "execution_count": 57,
   "metadata": {
    "collapsed": false
   },
   "outputs": [],
   "source": [
    "from extractor.util import get_exponent, pvalue_to_float\n",
    "\n",
    "gold_relations = set([(assoc.snp.rs_id, assoc.pvalue) for doc in corpus.documents for assoc in kb.assoc_by_pmid(doc.name) if assoc.snp.rs_id.lower() in rs_subset])\n",
    "gold_relations = set([ (rs_id, get_exponent(pval)) for rs_id, pval in gold_relations ])"
   ]
  },
  {
   "cell_type": "code",
   "execution_count": 58,
   "metadata": {
    "collapsed": false
   },
   "outputs": [
    {
     "name": "stdout",
     "output_type": "stream",
     "text": [
      "180 1046\n"
     ]
    }
   ],
   "source": [
    "gt_dict_pos = dict()\n",
    "gt_dict_neg = dict()\n",
    "for crel in candidates:\n",
    "    if (crel.span0.get_span(), get_exponent(pvalue_to_float(crel.span1.get_span()))) in gold_relations:\n",
    "        gt_dict_pos[crel.uid] = +1\n",
    "    else:\n",
    "        gt_dict_neg[crel.uid] = -1\n",
    "\n",
    "print len(gt_dict_pos), len(gt_dict_neg)\n",
    "gt_dict = dict(gt_dict_pos.items() + gt_dict_neg.items())"
   ]
  },
  {
   "cell_type": "code",
   "execution_count": 59,
   "metadata": {
    "collapsed": false
   },
   "outputs": [
    {
     "data": {
      "text/plain": [
       "1226"
      ]
     },
     "execution_count": 59,
     "metadata": {},
     "output_type": "execute_result"
    }
   ],
   "source": [
    "len(gt_dict)"
   ]
  },
  {
   "cell_type": "markdown",
   "metadata": {},
   "source": [
    "### Load the features"
   ]
  },
  {
   "cell_type": "markdown",
   "metadata": {},
   "source": [
    "Extract features, and store them to a file."
   ]
  },
  {
   "cell_type": "code",
   "execution_count": 60,
   "metadata": {
    "collapsed": false
   },
   "outputs": [
    {
     "name": "stdout",
     "output_type": "stream",
     "text": [
      "Building feature index...\n",
      "5 feature generators in total.\n",
      "0/1226\n",
      "0/1226\n",
      "0/1226\n",
      "0/1226\n",
      "0/1226\n",
      "Extracting features...\n",
      "0/25480\n",
      "5000/25480\n",
      "10000/25480\n",
      "15000/25480\n",
      "20000/25480\n",
      "25000/25480\n"
     ]
    }
   ],
   "source": [
    "from snorkel.features import TableNgramPairFeaturizer\n",
    "\n",
    "pkl_f = 'phenotype_feats.pkl'\n",
    "try:\n",
    "    with open(pkl_f, 'rb') as f:\n",
    "        featurizer = cPickle.load(f)\n",
    "except:\n",
    "    featurizer = TableNgramPairFeaturizer()\n",
    "    featurizer.fit_transform(candidates)"
   ]
  },
  {
   "cell_type": "code",
   "execution_count": 61,
   "metadata": {
    "collapsed": false
   },
   "outputs": [
    {
     "name": "stdout",
     "output_type": "stream",
     "text": [
      "e0_DDLIB_WORD_SEQ_[rs2076756]\n",
      "e0_DDLIB_LEMMA_SEQ_[rs2076756]\n",
      "e0_DDLIB_POS_SEQ_[NN]\n",
      "e0_DDLIB_DEP_SEQ_[ROOT]\n",
      "e0_DDLIB_W_LEFT_1_[rs2076756]\n",
      "e0_DDLIB_W_LEFT_POS_1_[NN]\n",
      "e0_DDLIB_NUM_WORDS_1\n",
      "e0_TABLE_ROW_NUM_[2]\n",
      "e0_TABLE_COL_NUM_[1]\n",
      "e0_TABLE_HTML_TAG_td\n"
     ]
    }
   ],
   "source": [
    "for f in featurizer.get_features_by_candidate(candidates[0])[:10]: print f"
   ]
  },
  {
   "cell_type": "code",
   "execution_count": 62,
   "metadata": {
    "collapsed": true
   },
   "outputs": [],
   "source": [
    "pkl_f = 'rsid_pval_feats.pkl'\n",
    "with open(pkl_f, 'w+') as f:\n",
    "    cPickle.dump(featurizer, f)"
   ]
  },
  {
   "cell_type": "markdown",
   "metadata": {},
   "source": [
    "Split into training and test sets"
   ]
  },
  {
   "cell_type": "code",
   "execution_count": 63,
   "metadata": {
    "collapsed": false
   },
   "outputs": [
    {
     "name": "stdout",
     "output_type": "stream",
     "text": [
      "Training set size: 613\n",
      "Gold set size: 613\n",
      "Positive labels in training set: 76\n",
      "Negative labels in training set: 537\n",
      "Positive labels in gold set: 104\n",
      "Negative labels in gold set: 509\n"
     ]
    }
   ],
   "source": [
    "# Split into train and test set\n",
    "training_candidates = []\n",
    "gold_candidates     = []\n",
    "gold_labels         = []\n",
    "n_half = len(candidates)/2\n",
    "for c in candidates[:n_half]:\n",
    "    if c.uid in gt_dict:\n",
    "        gold_candidates.append(c)\n",
    "        gold_labels.append(gt_dict[c.uid])\n",
    "    else:\n",
    "        training_candidates.append(c)\n",
    "training_candidates.extend(candidates[n_half:])\n",
    "gold_labels = np.array(gold_labels)\n",
    "print \"Training set size: %s\" % len(training_candidates)\n",
    "print \"Gold set size: %s\" % len(gold_candidates)\n",
    "print \"Positive labels in training set: %s\" % len([c for c in training_candidates if gt_dict.get(c.uid,0)==1])\n",
    "print \"Negative labels in training set: %s\" % len([c for c in training_candidates if gt_dict.get(c.uid,0)==-1])\n",
    "print \"Positive labels in gold set: %s\" % len([c for c in gold_candidates if gt_dict[c.uid]==1])\n",
    "print \"Negative labels in gold set: %s\" % len([c for c in gold_candidates if gt_dict[c.uid]==-1])"
   ]
  },
  {
   "cell_type": "markdown",
   "metadata": {},
   "source": [
    "Create the model."
   ]
  },
  {
   "cell_type": "markdown",
   "metadata": {},
   "source": [
    "### Labeling functions"
   ]
  },
  {
   "cell_type": "code",
   "execution_count": 64,
   "metadata": {
    "collapsed": false
   },
   "outputs": [],
   "source": [
    "rsid_keywords = [\"id\", \"rsid\", \"snp\"]\n",
    "pval_keywords = [\"value\", \"p-value\", \"p-val\", \"p_value\", \"pvalue\"]\n",
    "\n",
    "# positive LFs\n",
    "def LF_pval_header(m):\n",
    "    # if \"pvalue\" is mentioned in first or last row, it's probably correct\n",
    "    pass\n",
    "def LF_pval_aligned(m):\n",
    "    # if \"pvalue\" is mentioned in aligned cells, it's probably correct\n",
    "    return +1 if any(kw in m.span1.aligned_ngrams('words') for kw in pval_keywords) else 0\n",
    "def LF_id_aligned(m):\n",
    "    # if \"id\" is mentioned in aligned cells, it's probably correct    \n",
    "    return +1 if any(kw in m.span0.aligned_ngrams('words') for kw in rsid_keywords) else 0\n",
    "def LF_phen_aligned(m):\n",
    "    # if there is an aligned phenotype, then it is probably correct\n",
    "    pass\n",
    "\n",
    "# negative LFs\n",
    "def LF_align(m):\n",
    "    # if the two spans don't align in the table, then they're clearly wrong    \n",
    "    return -1 if m.span0.context.row_num != m.span1.context.row_num and \\\n",
    "                 m.span0.context.col_num != m.span1.context.col_num \\\n",
    "              else 0\n",
    "def LF_diff_col(m):\n",
    "    return -1 if m.span0.context.col_num != m.span1.context.col_num else 0\n",
    "\n",
    "pos_LFs = [LF_pval_aligned, LF_id_aligned]\n",
    "neg_LFs = [LF_align]\n",
    "LFs = pos_LFs + neg_LFs"
   ]
  },
  {
   "cell_type": "code",
   "execution_count": 65,
   "metadata": {
    "collapsed": false
   },
   "outputs": [
    {
     "name": "stderr",
     "output_type": "stream",
     "text": [
      "/Library/Python/2.7/site-packages/matplotlib/__init__.py:1155: UserWarning:  This call to matplotlib.use() has no effect\n",
      "because the backend has already been chosen;\n",
      "matplotlib.use() must be called *before* pylab, matplotlib.pyplot,\n",
      "or matplotlib.backends is imported for the first time.\n",
      "\n",
      "  warnings.warn(_use_error_msg)\n"
     ]
    },
    {
     "name": "stdout",
     "output_type": "stream",
     "text": [
      "Applying LFs...\n",
      "Featurizing...\n",
      "Building feature index...\n",
      "5 feature generators in total.\n",
      "0/613\n",
      "0/613\n",
      "0/613\n",
      "0/613\n",
      "0/613\n",
      "Extracting features...\n",
      "0/13819\n",
      "5000/13819\n",
      "10000/13819\n",
      "============================================================\n",
      "LF Summary Statistics: 3 LFs applied to 613 candidates\n",
      "------------------------------------------------------------\n",
      "Coverage (candidates w/ > 0 labels):\t\t100.00%\n",
      "Overlap (candidates w/ > 1 labels):\t\t90.05%\n",
      "Conflict (candidates w/ conflicting labels):\t0.00%\n",
      "============================================================\n"
     ]
    }
   ],
   "source": [
    "from snorkel.snorkel import TrainingSet\n",
    "from snorkel.features import NgramFeaturizer\n",
    "\n",
    "training_set = TrainingSet(training_candidates, LFs, featurizer=TableNgramPairFeaturizer())"
   ]
  },
  {
   "cell_type": "markdown",
   "metadata": {},
   "source": [
    "#### Results"
   ]
  },
  {
   "cell_type": "code",
   "execution_count": 66,
   "metadata": {
    "collapsed": false
   },
   "outputs": [
    {
     "data": {
      "text/html": [
       "<div style=\"max-height:1000px;max-width:1500px;overflow:auto;\">\n",
       "<table border=\"1\" class=\"dataframe\">\n",
       "  <thead>\n",
       "    <tr style=\"text-align: right;\">\n",
       "      <th></th>\n",
       "      <th>conflicts</th>\n",
       "      <th>coverage</th>\n",
       "      <th>j</th>\n",
       "      <th>overlaps</th>\n",
       "    </tr>\n",
       "  </thead>\n",
       "  <tbody>\n",
       "    <tr>\n",
       "      <th>LF_pval_aligned</th>\n",
       "      <td> 0</td>\n",
       "      <td> 0.900489</td>\n",
       "      <td> 0</td>\n",
       "      <td> 0.900489</td>\n",
       "    </tr>\n",
       "    <tr>\n",
       "      <th>LF_id_aligned</th>\n",
       "      <td> 0</td>\n",
       "      <td> 1.000000</td>\n",
       "      <td> 1</td>\n",
       "      <td> 0.900489</td>\n",
       "    </tr>\n",
       "    <tr>\n",
       "      <th>LF_align</th>\n",
       "      <td> 0</td>\n",
       "      <td> 0.000000</td>\n",
       "      <td> 2</td>\n",
       "      <td> 0.000000</td>\n",
       "    </tr>\n",
       "  </tbody>\n",
       "</table>\n",
       "<p>3 rows × 4 columns</p>\n",
       "</div>"
      ],
      "text/plain": [
       "                 conflicts  coverage  j  overlaps\n",
       "LF_pval_aligned          0  0.900489  0  0.900489\n",
       "LF_id_aligned            0  1.000000  1  0.900489\n",
       "LF_align                 0  0.000000  2  0.000000\n",
       "\n",
       "[3 rows x 4 columns]"
      ]
     },
     "execution_count": 66,
     "metadata": {},
     "output_type": "execute_result"
    }
   ],
   "source": [
    "lf_stats = training_set.lf_stats()\n",
    "lf_stats[:5]"
   ]
  },
  {
   "cell_type": "code",
   "execution_count": 67,
   "metadata": {
    "collapsed": false
   },
   "outputs": [
    {
     "data": {
      "text/plain": [
       "array([[<matplotlib.axes.AxesSubplot object at 0x1133f2a90>]], dtype=object)"
      ]
     },
     "execution_count": 67,
     "metadata": {},
     "output_type": "execute_result"
    },
    {
     "data": {
      "image/png": "[encoded data removed]",
      "text/plain": [
       "<matplotlib.figure.Figure at 0x1132b0510>"
      ]
     },
     "metadata": {},
     "output_type": "display_data"
    }
   ],
   "source": [
    "lf_stats.hist(\"coverage\")"
   ]
  },
  {
   "cell_type": "code",
   "execution_count": 75,
   "metadata": {
    "collapsed": false
   },
   "outputs": [],
   "source": [
    "from snorkel.snorkel import Learner\n",
    "from snorkel.learning import LogReg\n",
    "\n",
    "learner = Learner(training_set, model=LogReg(bias_term=True))"
   ]
  },
  {
   "cell_type": "code",
   "execution_count": 76,
   "metadata": {
    "collapsed": true
   },
   "outputs": [],
   "source": [
    "# Splitting into CV and test set\n",
    "n_half = len(gold_candidates)/2\n",
    "test_candidates = gold_candidates[:n_half]\n",
    "test_labels     = gold_labels[:n_half]\n",
    "cv_candidates   = gold_candidates[n_half:]\n",
    "cv_labels       = gold_labels[n_half:]"
   ]
  },
  {
   "cell_type": "code",
   "execution_count": 77,
   "metadata": {
    "collapsed": false
   },
   "outputs": [
    {
     "name": "stdout",
     "output_type": "stream",
     "text": [
      "============================================================\n",
      "Testing mu = 1.00e-05, lf_w0 = 1.00e+00\n",
      "============================================================\n",
      "Begin training for rate=0.01, mu=1e-05\n",
      "\tLearning epoch = 0\tGradient mag. = 0.053487\n",
      "\tLearning epoch = 250\tGradient mag. = 0.100755\n",
      "\tLearning epoch = 500\tGradient mag. = 0.175007\n",
      "\tLearning epoch = 750\tGradient mag. = 0.277700\n",
      "Final gradient magnitude for rate=0.01, mu=1e-05: 0.299\n",
      "Applying LFs...\n",
      "Featurizing...\n",
      "============================================================\n",
      "Testing mu = 1.00e-05, lf_w0 = 2.00e+00\n",
      "============================================================\n",
      "Begin training for rate=0.01, mu=1e-05\n",
      "\tLearning epoch = 0\tGradient mag. = 0.102728\n",
      "\tLearning epoch = 250\tGradient mag. = 0.189344\n",
      "\tLearning epoch = 500\tGradient mag. = 0.298607\n",
      "\tLearning epoch = 750\tGradient mag. = 0.297986\n",
      "Final gradient magnitude for rate=0.01, mu=1e-05: 0.296\n",
      "============================================================\n",
      "Testing mu = 1.00e-07, lf_w0 = 1.00e+00\n",
      "============================================================\n",
      "Begin training for rate=0.01, mu=1e-07\n",
      "\tLearning epoch = 0\tGradient mag. = 0.053487\n",
      "\tLearning epoch = 250\tGradient mag. = 0.100882\n",
      "\tLearning epoch = 500\tGradient mag. = 0.175328\n",
      "\tLearning epoch = 750\tGradient mag. = 0.278068\n",
      "Final gradient magnitude for rate=0.01, mu=1e-07: 0.299\n",
      "============================================================\n",
      "Testing mu = 1.00e-07, lf_w0 = 2.00e+00\n",
      "============================================================\n",
      "Begin training for rate=0.01, mu=1e-07\n",
      "\tLearning epoch = 0\tGradient mag. = 0.102728\n",
      "\tLearning epoch = 250\tGradient mag. = 0.189464\n",
      "\tLearning epoch = 500\tGradient mag. = 0.298726\n",
      "\tLearning epoch = 750\tGradient mag. = 0.297983\n",
      "Final gradient magnitude for rate=0.01, mu=1e-07: 0.296\n"
     ]
    }
   ],
   "source": [
    "from snorkel.learning_utils import GridSearch\n",
    "\n",
    "gs       = GridSearch(learner, ['mu', 'lf_w0'], [[1e-5, 1e-7],[1.0,2.0]])\n",
    "gs_stats = gs.fit(cv_candidates, cv_labels)"
   ]
  },
  {
   "cell_type": "code",
   "execution_count": 78,
   "metadata": {
    "collapsed": false
   },
   "outputs": [
    {
     "data": {
      "text/html": [
       "<div style=\"max-height:1000px;max-width:1500px;overflow:auto;\">\n",
       "<table border=\"1\" class=\"dataframe\">\n",
       "  <thead>\n",
       "    <tr style=\"text-align: right;\">\n",
       "      <th></th>\n",
       "      <th>mu</th>\n",
       "      <th>lf_w0</th>\n",
       "      <th>Prec.</th>\n",
       "      <th>Rec.</th>\n",
       "      <th>F1</th>\n",
       "    </tr>\n",
       "  </thead>\n",
       "  <tbody>\n",
       "    <tr>\n",
       "      <th>0</th>\n",
       "      <td> 0.00001</td>\n",
       "      <td> 1</td>\n",
       "      <td> 0.14658</td>\n",
       "      <td> 1</td>\n",
       "      <td> 0.255682</td>\n",
       "    </tr>\n",
       "    <tr>\n",
       "      <th>1</th>\n",
       "      <td> 0.00001</td>\n",
       "      <td> 2</td>\n",
       "      <td> 0.14658</td>\n",
       "      <td> 1</td>\n",
       "      <td> 0.255682</td>\n",
       "    </tr>\n",
       "    <tr>\n",
       "      <th>2</th>\n",
       "      <td> 0.00000</td>\n",
       "      <td> 1</td>\n",
       "      <td> 0.14658</td>\n",
       "      <td> 1</td>\n",
       "      <td> 0.255682</td>\n",
       "    </tr>\n",
       "    <tr>\n",
       "      <th>3</th>\n",
       "      <td> 0.00000</td>\n",
       "      <td> 2</td>\n",
       "      <td> 0.14658</td>\n",
       "      <td> 1</td>\n",
       "      <td> 0.255682</td>\n",
       "    </tr>\n",
       "  </tbody>\n",
       "</table>\n",
       "<p>4 rows × 5 columns</p>\n",
       "</div>"
      ],
      "text/plain": [
       "        mu  lf_w0    Prec.  Rec.        F1\n",
       "0  0.00001      1  0.14658     1  0.255682\n",
       "1  0.00001      2  0.14658     1  0.255682\n",
       "2  0.00000      1  0.14658     1  0.255682\n",
       "3  0.00000      2  0.14658     1  0.255682\n",
       "\n",
       "[4 rows x 5 columns]"
      ]
     },
     "execution_count": 78,
     "metadata": {},
     "output_type": "execute_result"
    }
   ],
   "source": [
    "gs_stats"
   ]
  },
  {
   "cell_type": "code",
   "execution_count": 79,
   "metadata": {
    "collapsed": false
   },
   "outputs": [
    {
     "name": "stdout",
     "output_type": "stream",
     "text": [
      "Applying LFs...\n",
      "Featurizing...\n"
     ]
    },
    {
     "data": {
      "image/png": "[encoded data removed]",
      "text/plain": [
       "<matplotlib.figure.Figure at 0x1084b14d0>"
      ]
     },
     "metadata": {},
     "output_type": "display_data"
    },
    {
     "name": "stdout",
     "output_type": "stream",
     "text": [
      "========================================\n",
      "Test set size:\t306\n",
      "----------------------------------------\n",
      "Precision:\t0.192810457516\n",
      "Recall:\t\t1.0\n",
      "F1 Score:\t0.323287671233\n",
      "----------------------------------------\n",
      "TP: 59 | FP: 247 | TN: 0 | FN: 0\n",
      "========================================\n"
     ]
    }
   ],
   "source": [
    "learner.test(test_candidates, test_labels)"
   ]
  },
  {
   "cell_type": "code",
   "execution_count": 80,
   "metadata": {
    "collapsed": false
   },
   "outputs": [
    {
     "data": {
      "text/html": [
       "<div style=\"max-height:1000px;max-width:1500px;overflow:auto;\">\n",
       "<table border=\"1\" class=\"dataframe\">\n",
       "  <thead>\n",
       "    <tr style=\"text-align: right;\">\n",
       "      <th></th>\n",
       "      <th>j</th>\n",
       "      <th>w</th>\n",
       "    </tr>\n",
       "  </thead>\n",
       "  <tbody>\n",
       "    <tr>\n",
       "      <th>e0_TABLE_HTML_ANC_TAG_tr</th>\n",
       "      <td>  4076</td>\n",
       "      <td> 0.227713</td>\n",
       "    </tr>\n",
       "    <tr>\n",
       "      <th>e0_TABLE_HTML_ANC_TAG_table</th>\n",
       "      <td>  3747</td>\n",
       "      <td> 0.227713</td>\n",
       "    </tr>\n",
       "    <tr>\n",
       "      <th>e0_TABLE_COL_WORDS_snp</th>\n",
       "      <td>  7557</td>\n",
       "      <td> 0.227713</td>\n",
       "    </tr>\n",
       "    <tr>\n",
       "      <th>e0_TABLE_HTML_ANC_TAG_body</th>\n",
       "      <td>  7628</td>\n",
       "      <td> 0.227713</td>\n",
       "    </tr>\n",
       "    <tr>\n",
       "      <th>e1_TABLE_HTML_ANC_TAG_body</th>\n",
       "      <td>  2686</td>\n",
       "      <td> 0.227713</td>\n",
       "    </tr>\n",
       "    <tr>\n",
       "      <th>e0_TABLE_HTML_ANC_ATTR_frame=hsides</th>\n",
       "      <td> 13201</td>\n",
       "      <td> 0.227713</td>\n",
       "    </tr>\n",
       "    <tr>\n",
       "      <th>e0_TABLE_HTML_TAG_td</th>\n",
       "      <td>  2602</td>\n",
       "      <td> 0.227713</td>\n",
       "    </tr>\n",
       "    <tr>\n",
       "      <th>e1_DDLIB_W_LEFT_1_[_NUMBER]</th>\n",
       "      <td>  8142</td>\n",
       "      <td> 0.227713</td>\n",
       "    </tr>\n",
       "    <tr>\n",
       "      <th>e1_TABLE_HTML_ANC_ATTR_rules=groups</th>\n",
       "      <td>  5376</td>\n",
       "      <td> 0.227713</td>\n",
       "    </tr>\n",
       "    <tr>\n",
       "      <th>e0_TABLE_HTML_ANC_ATTR_rules=groups</th>\n",
       "      <td>  8868</td>\n",
       "      <td> 0.227713</td>\n",
       "    </tr>\n",
       "  </tbody>\n",
       "</table>\n",
       "<p>10 rows × 2 columns</p>\n",
       "</div>"
      ],
      "text/plain": [
       "                                         j         w\n",
       "e0_TABLE_HTML_ANC_TAG_tr              4076  0.227713\n",
       "e0_TABLE_HTML_ANC_TAG_table           3747  0.227713\n",
       "e0_TABLE_COL_WORDS_snp                7557  0.227713\n",
       "e0_TABLE_HTML_ANC_TAG_body            7628  0.227713\n",
       "e1_TABLE_HTML_ANC_TAG_body            2686  0.227713\n",
       "e0_TABLE_HTML_ANC_ATTR_frame=hsides  13201  0.227713\n",
       "e0_TABLE_HTML_TAG_td                  2602  0.227713\n",
       "e1_DDLIB_W_LEFT_1_[_NUMBER]           8142  0.227713\n",
       "e1_TABLE_HTML_ANC_ATTR_rules=groups   5376  0.227713\n",
       "e0_TABLE_HTML_ANC_ATTR_rules=groups   8868  0.227713\n",
       "\n",
       "[10 rows x 2 columns]"
      ]
     },
     "execution_count": 80,
     "metadata": {},
     "output_type": "execute_result"
    }
   ],
   "source": [
    "learner.feature_stats(n_max=10)"
   ]
  },
  {
   "cell_type": "code",
   "execution_count": 103,
   "metadata": {
    "collapsed": false
   },
   "outputs": [
    {
     "name": "stdout",
     "output_type": "stream",
     "text": [
      "17903292\n",
      "Phrase('17903292', 2, 65, 0, u'rs1712790')\n",
      "Phrase('17903292', 2, 68, 0, u'9.1*10 -07')\n",
      "\n",
      "17903292\n",
      "Phrase('17903292', 2, 79, 0, u'rs9305354')\n",
      "Phrase('17903292', 2, 82, 0, u'1.9*10 -05')\n",
      "\n",
      "17903292\n",
      "Phrase('17903292', 2, 121, 0, u'rs6977660')\n",
      "Phrase('17903292', 2, 124, 0, u'1.6*10 -05')\n",
      "\n",
      "17903292\n",
      "Phrase('17903292', 2, 135, 0, u'rs10499559')\n",
      "Phrase('17903292', 2, 138, 0, u'2.8*10 -05')\n",
      "\n",
      "17903292\n",
      "Phrase('17903292', 2, 142, 0, u'rs9322817')\n",
      "Phrase('17903292', 2, 145, 0, u'7.4*10 -05')\n",
      "\n",
      "17903293\n",
      "Phrase('17903293', 1, 11, 0, u'rs2494250')\n",
      "Phrase('17903293', 1, 15, 0, u'3.5*10 -8')\n",
      "\n",
      "17903293\n",
      "Phrase('17903293', 1, 19, 0, u'rs4128725')\n",
      "Phrase('17903293', 1, 23, 0, u'3.3*10 -8')\n",
      "\n",
      "17903293\n",
      "Phrase('17903293', 1, 27, 0, u'rs2794520')\n",
      "Phrase('17903293', 1, 31, 0, u'4.3*10 -5')\n",
      "\n",
      "17903293\n",
      "Phrase('17903293', 1, 43, 0, u'rs2794520')\n",
      "Phrase('17903293', 1, 46, 0, u'1.3*10 -7')\n",
      "\n",
      "17903293\n",
      "Phrase('17903293', 1, 43, 0, u'rs2794520')\n",
      "Phrase('17903293', 1, 47, 0, u'3.9*10 -4')\n",
      "\n",
      "17903293\n",
      "Phrase('17903293', 1, 99, 0, u'rs10518765')\n",
      "Phrase('17903293', 1, 103, 0, u'1.7*10 -4')\n",
      "\n",
      "17903293\n",
      "Phrase('17903293', 1, 115, 0, u'rs1119582')\n",
      "Phrase('17903293', 1, 119, 0, u'4.2*10 -4')\n",
      "\n",
      "17903293\n",
      "Phrase('17903293', 1, 163, 0, u'rs10492681')\n",
      "Phrase('17903293', 1, 167, 0, u'9.9*10 -5')\n",
      "\n",
      "17903293\n",
      "Phrase('17903293', 1, 187, 0, u'rs1474747')\n",
      "Phrase('17903293', 1, 191, 0, u'8.7*10 -4')\n",
      "\n",
      "17903293\n",
      "Phrase('17903293', 1, 223, 0, u'rs4128725')\n",
      "Phrase('17903293', 1, 227, 0, u'3.3*10 -8')\n",
      "\n",
      "17903293\n",
      "Phrase('17903293', 1, 231, 0, u'rs2494250')\n",
      "Phrase('17903293', 1, 235, 0, u'3.5*10 -8')\n",
      "\n",
      "17903293\n",
      "Phrase('17903293', 1, 399, 0, u'rs2390582')\n",
      "Phrase('17903293', 1, 403, 0, u'2.0*10 -5')\n",
      "\n",
      "17903293\n",
      "Phrase('17903293', 2, 160, 0, u'rs2794520')\n",
      "Phrase('17903293', 2, 163, 0, u'6.1*10 -5')\n",
      "\n",
      "17903293\n",
      "Phrase('17903293', 2, 160, 0, u'rs2794520')\n",
      "Phrase('17903293', 2, 164, 0, u'4.85*10 -4')\n",
      "\n",
      "17903293\n",
      "Phrase('17903293', 3, 113, 0, u'rs2794520')\n",
      "Phrase('17903293', 3, 119, 0, u'4.3*10 -5')\n",
      "\n",
      "17903293\n",
      "Phrase('17903293', 3, 168, 0, u'rs2794520')\n",
      "Phrase('17903293', 3, 174, 0, u'4.3*10 -5')\n",
      "\n",
      "17903293\n",
      "Phrase('17903293', 3, 223, 0, u'rs2794520')\n",
      "Phrase('17903293', 3, 229, 0, u'4.3*10 -5')\n",
      "\n",
      "17903293\n",
      "Phrase('17903293', 3, 278, 0, u'rs2794520')\n",
      "Phrase('17903293', 3, 284, 0, u'4.3*10 -5')\n",
      "\n",
      "17903294\n",
      "Phrase('17903294', 1, 41, 0, u'rs966321')\n",
      "Phrase('17903294', 1, 46, 0, u'4.5 \\xd7 10 -2')\n",
      "\n",
      "17903294\n",
      "Phrase('17903294', 1, 81, 0, u'rs4591494')\n",
      "Phrase('17903294', 1, 86, 0, u'1.2 \\xd7 10 -4')\n",
      "\n",
      "17903294\n",
      "Phrase('17903294', 1, 89, 0, u'rs10488360')\n",
      "Phrase('17903294', 1, 94, 0, u'9.3 \\xd7 10 -3')\n",
      "\n",
      "17903294\n",
      "Phrase('17903294', 1, 113, 0, u'rs561241')\n",
      "Phrase('17903294', 1, 118, 0, u'3.4 \\xd7 10 -4')\n",
      "\n",
      "17903294\n",
      "Phrase('17903294', 1, 129, 0, u'rs4460176')\n",
      "Phrase('17903294', 1, 134, 0, u'7.6 \\xd7 10 -2')\n",
      "\n",
      "17903294\n",
      "Phrase('17903294', 1, 137, 0, u'rs10493485')\n",
      "Phrase('17903294', 1, 142, 0, u'1.1 \\xd7 10 -3')\n",
      "\n",
      "17903294\n",
      "Phrase('17903294', 2, 9, 0, u'rs4133289')\n",
      "Phrase('17903294', 2, 14, 0, u'6.0 \\xd7 10 -4')\n",
      "\n",
      "17903294\n",
      "Phrase('17903294', 2, 25, 0, u'rs1160297')\n",
      "Phrase('17903294', 2, 30, 0, u'8.3 \\xd7 10 -4')\n",
      "\n",
      "17903294\n",
      "Phrase('17903294', 2, 33, 0, u'rs2357013')\n",
      "Phrase('17903294', 2, 38, 0, u'1.3 \\xd7 10 -3')\n",
      "\n",
      "17903294\n",
      "Phrase('17903294', 2, 41, 0, u'rs7844723')\n",
      "Phrase('17903294', 2, 46, 0, u'2.6 \\xd7 10 -3')\n",
      "\n",
      "17903294\n",
      "Phrase('17903294', 2, 49, 0, u'rs1829883')\n",
      "Phrase('17903294', 2, 54, 0, u'1.4 \\xd7 10 -2')\n",
      "\n",
      "17903294\n",
      "Phrase('17903294', 2, 57, 0, u'rs1200821')\n",
      "Phrase('17903294', 2, 62, 0, u'1.0 \\xd7 10 -1')\n",
      "\n",
      "17903294\n",
      "Phrase('17903294', 2, 65, 0, u'rs1397048')\n",
      "Phrase('17903294', 2, 70, 0, u'1.0 \\xd7 10 -2')\n",
      "\n",
      "17903294\n",
      "Phrase('17903294', 2, 81, 0, u'rs10484128')\n",
      "Phrase('17903294', 2, 86, 0, u'1.3 \\xd7 10 -3')\n",
      "\n",
      "17903294\n",
      "Phrase('17903294', 2, 97, 0, u'rs565229')\n",
      "Phrase('17903294', 2, 102, 0, u'2.6 \\xd7 10 -2')\n",
      "\n",
      "17903294\n",
      "Phrase('17903294', 2, 105, 0, u'rs10506458')\n",
      "Phrase('17903294', 2, 110, 0, u'1.1 \\xd7 10 -4')\n",
      "\n"
     ]
    }
   ],
   "source": [
    "mislabeled_cand = learner.mislabeled_test_candidates(test_candidates, test_labels)\n",
    "for (c,p,g) in mislabeled_cand[50:500]:\n",
    "    snp_name = c.span0.get_span()\n",
    "    if snp_name not in gold_rel_dict: continue\n",
    "    print c.span0.context.document.name\n",
    "    print c.span0.context    \n",
    "    print c.span1.context\n",
    "    print"
   ]
  },
  {
   "cell_type": "code",
   "execution_count": 92,
   "metadata": {
    "collapsed": false
   },
   "outputs": [],
   "source": [
    "gold_rel_dict = dict(gold_relations)"
   ]
  },
  {
   "cell_type": "code",
   "execution_count": 97,
   "metadata": {
    "collapsed": false
   },
   "outputs": [
    {
     "data": {
      "text/plain": [
       "{u'rs1031381': -6.0,\n",
       " u'rs10483853': -6.0,\n",
       " u'rs10484128': -6.0,\n",
       " u'rs10484246': -8.0,\n",
       " u'rs10485165': -6.0,\n",
       " u'rs10486607': -6.0,\n",
       " u'rs10488172': -6.0,\n",
       " u'rs10488360': -6.0,\n",
       " u'rs10489087': -6.0,\n",
       " u'rs10489849': -6.0,\n",
       " u'rs10489896': -6.0,\n",
       " u'rs10491334': -6.0,\n",
       " u'rs10492096': -6.0,\n",
       " u'rs10492681': -6.0,\n",
       " u'rs10493340': -6.0,\n",
       " u'rs10493389': -6.0,\n",
       " u'rs10493485': -6.0,\n",
       " u'rs10496262': -7.0,\n",
       " u'rs10496265': -8.0,\n",
       " u'rs10497721': -7.0,\n",
       " u'rs10498091': -6.0,\n",
       " u'rs10499559': -6.0,\n",
       " u'rs10501920': -6.0,\n",
       " u'rs10503887': -7.0,\n",
       " u'rs10504543': -6.0,\n",
       " u'rs10506458': -6.0,\n",
       " u'rs10506701': -6.0,\n",
       " u'rs10506821': -7.0,\n",
       " u'rs10507130': -6.0,\n",
       " u'rs10507577': -6.0,\n",
       " u'rs10510628': -6.0,\n",
       " u'rs10510634': -6.0,\n",
       " u'rs10514345': -7.0,\n",
       " u'rs10514688': -6.0,\n",
       " u'rs10515148': -7.0,\n",
       " u'rs10518765': -6.0,\n",
       " u'rs10521232': -6.0,\n",
       " u'rs1079596': -6.0,\n",
       " u'rs1106683': -7.0,\n",
       " u'rs1106684': -6.0,\n",
       " u'rs1119582': -6.0,\n",
       " u'rs11209026': -18.0,\n",
       " u'rs1155865': -6.0,\n",
       " u'rs1158167': -9.0,\n",
       " u'rs1160297': -6.0,\n",
       " u'rs1200821': -6.0,\n",
       " u'rs1320267': -6.0,\n",
       " u'rs1322512': -6.0,\n",
       " u'rs1333026': -6.0,\n",
       " u'rs1350445': -6.0,\n",
       " u'rs1367248': -6.0,\n",
       " u'rs1371924': -6.0,\n",
       " u'rs1376877': -7.0,\n",
       " u'rs1379659': -7.0,\n",
       " u'rs1397048': -8.0,\n",
       " u'rs1400544': -6.0,\n",
       " u'rs1412337': -9.0,\n",
       " u'rs1417352': -6.0,\n",
       " u'rs1452928': -7.0,\n",
       " u'rs1463605': -8.0,\n",
       " u'rs1474747': -6.0,\n",
       " u'rs1486139': -6.0,\n",
       " u'rs1502050': -6.0,\n",
       " u'rs1528753': -8.0,\n",
       " u'rs1590305': -6.0,\n",
       " u'rs1712790': -6.0,\n",
       " u'rs17532515': -6.0,\n",
       " u'rs1793004': -6.0,\n",
       " u'rs180730': -6.0,\n",
       " u'rs1829883': -6.0,\n",
       " u'rs1831521': -6.0,\n",
       " u'rs1875517': -6.0,\n",
       " u'rs1935881': -6.0,\n",
       " u'rs1963982': -6.0,\n",
       " u'rs1970546': -8.0,\n",
       " u'rs1992660': -7.0,\n",
       " u'rs1998303': -6.0,\n",
       " u'rs2053506': -6.0,\n",
       " u'rs2054989': -7.0,\n",
       " u'rs2066219': -6.0,\n",
       " u'rs2076756': -21.0,\n",
       " u'rs2121070': -6.0,\n",
       " u'rs2165468': -6.0,\n",
       " u'rs2179965': -6.0,\n",
       " u'rs2214681': -6.0,\n",
       " u'rs2352904': -6.0,\n",
       " u'rs2357013': -6.0,\n",
       " u'rs2371208': -6.0,\n",
       " u'rs2387326': -6.0,\n",
       " u'rs2390582': -6.0,\n",
       " u'rs2494250': -14.0,\n",
       " u'rs2509458': -6.0,\n",
       " u'rs2548003': -7.0,\n",
       " u'rs2553268': -6.0,\n",
       " u'rs2639889': -7.0,\n",
       " u'rs2722425': -8.0,\n",
       " u'rs2794520': -8.0,\n",
       " u'rs2819770': -6.0,\n",
       " u'rs2832077': -6.0,\n",
       " u'rs2847476': -6.0,\n",
       " u'rs2877832': -6.0,\n",
       " u'rs2896103': -6.0,\n",
       " u'rs291353': -6.0,\n",
       " u'rs3096277': -9.0,\n",
       " u'rs32566': -9.0,\n",
       " u'rs360929': -6.0,\n",
       " u'rs366676': -6.0,\n",
       " u'rs3766680': -6.0,\n",
       " u'rs3772255': -6.0,\n",
       " u'rs3773643': -7.0,\n",
       " u'rs3793427': -6.0,\n",
       " u'rs3814219': -7.0,\n",
       " u'rs3849150': -6.0,\n",
       " u'rs3891355': -6.0,\n",
       " u'rs4087296': -7.0,\n",
       " u'rs4128725': -12.0,\n",
       " u'rs4131805': -6.0,\n",
       " u'rs4133289': -7.0,\n",
       " u'rs4370013': -6.0,\n",
       " u'rs4460176': -6.0,\n",
       " u'rs4471028': -7.0,\n",
       " u'rs4591494': -6.0,\n",
       " u'rs4715166': -6.0,\n",
       " u'rs4776472': -6.0,\n",
       " u'rs4811196': -6.0,\n",
       " u'rs4831837': -7.0,\n",
       " u'rs4920799': -6.0,\n",
       " u'rs499818': -6.0,\n",
       " u'rs5028798': -6.0,\n",
       " u'rs530965': -6.0,\n",
       " u'rs561241': -16.0,\n",
       " u'rs565229': -6.0,\n",
       " u'rs583012': -6.0,\n",
       " u'rs6063312': -6.0,\n",
       " u'rs6108011': -6.0,\n",
       " u'rs636864': -6.0,\n",
       " u'rs638882': -6.0,\n",
       " u'rs6492654': -6.0,\n",
       " u'rs6600671': -7.0,\n",
       " u'rs666088': -6.0,\n",
       " u'rs6847149': -6.0,\n",
       " u'rs6914079': -6.0,\n",
       " u'rs6977660': -6.0,\n",
       " u'rs7042864': -6.0,\n",
       " u'rs7137869': -7.0,\n",
       " u'rs7159841': -7.0,\n",
       " u'rs7176093': -6.0,\n",
       " u'rs727979': -6.0,\n",
       " u'rs740363': -6.0,\n",
       " u'rs746463': -6.0,\n",
       " u'rs746961': -7.0,\n",
       " u'rs7552393': -7.0,\n",
       " u'rs7591163': -7.0,\n",
       " u'rs770189': -6.0,\n",
       " u'rs7715811': -6.0,\n",
       " u'rs7731657': -6.0,\n",
       " u'rs7778619': -6.0,\n",
       " u'rs7844723': -6.0,\n",
       " u'rs8005745': -6.0,\n",
       " u'rs922948': -6.0,\n",
       " u'rs9253': -6.0,\n",
       " u'rs9291683': -6.0,\n",
       " u'rs9300212': -6.0,\n",
       " u'rs9303401': -6.0,\n",
       " u'rs9305354': -6.0,\n",
       " u'rs9317284': -7.0,\n",
       " u'rs9322817': -6.0,\n",
       " u'rs9325032': -6.0,\n",
       " u'rs934299': -6.0,\n",
       " u'rs935334': -6.0,\n",
       " u'rs952700': -6.0,\n",
       " u'rs958546': -6.0,\n",
       " u'rs958672': -6.0,\n",
       " u'rs966321': -6.0,\n",
       " u'rs991258': -7.0}"
      ]
     },
     "execution_count": 97,
     "metadata": {},
     "output_type": "execute_result"
    }
   ],
   "source": [
    "gold_rel_dict"
   ]
  },
  {
   "cell_type": "code",
   "execution_count": null,
   "metadata": {
    "collapsed": true
   },
   "outputs": [],
   "source": []
  }
 ],
 "metadata": {
  "kernelspec": {
   "display_name": "Python 2",
   "language": "python",
   "name": "python2"
  },
  "language_info": {
   "codemirror_mode": {
    "name": "ipython",
    "version": 2
   },
   "file_extension": ".py",
   "mimetype": "text/x-python",
   "name": "python",
   "nbconvert_exporter": "python",
   "pygments_lexer": "ipython2",
   "version": "2.7.2"
  }
 },
 "nbformat": 4,
 "nbformat_minor": 0
}
