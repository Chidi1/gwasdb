{
 "cells": [
  {
   "cell_type": "markdown",
   "metadata": {},
   "source": [
    "# Phenotype extraction"
   ]
  },
  {
   "cell_type": "code",
   "execution_count": 42,
   "metadata": {
    "collapsed": false
   },
   "outputs": [
    {
     "name": "stdout",
     "output_type": "stream",
     "text": [
      "The autoreload extension is already loaded. To reload it, use:\n",
      "  %reload_ext autoreload\n"
     ]
    }
   ],
   "source": [
    "%load_ext autoreload\n",
    "%autoreload 2\n",
    "\n",
    "import sys\n",
    "import cPickle\n",
    "\n",
    "# import snorkel and gwasdb\n",
    "sys.path.append('../snorkel')\n",
    "sys.path.append('../src')\n",
    "sys.path.append('../src/crawler')\n",
    "\n",
    "# set up paths\n",
    "abstract_dir = '../data/db/papers'\n",
    "\n",
    "# set up matplotlib\n",
    "import matplotlib\n",
    "%matplotlib inline\n",
    "matplotlib.rcParams['figure.figsize'] = (12,4)"
   ]
  },
  {
   "cell_type": "markdown",
   "metadata": {},
   "source": [
    "## Extract phenotype candidates from papers"
   ]
  },
  {
   "cell_type": "markdown",
   "metadata": {},
   "source": [
    "### Load corpus"
   ]
  },
  {
   "cell_type": "code",
   "execution_count": 18,
   "metadata": {
    "collapsed": false
   },
   "outputs": [],
   "source": [
    "from snorkel.parser import XMLDocParser\n",
    "from extractor.parser import UnicodeXMLDocParser, GWASXMLDocParser\n",
    "\n",
    "xml_parser = GWASXMLDocParser(\n",
    "    path=abstract_dir,\n",
    "    doc='./*',\n",
    "    title='.//front//article-title//text()',\n",
    "    abstract='.//abstract//p//text()',\n",
    "    par1='.//body/p[1]//text()',\n",
    "    id='.//article-id[@pub-id-type=\"pmid\"]/text()',\n",
    "    keep_xml_tree=True)"
   ]
  },
  {
   "cell_type": "code",
   "execution_count": 20,
   "metadata": {
    "collapsed": false
   },
   "outputs": [
    {
     "name": "stdout",
     "output_type": "stream",
     "text": [
      "CPU times: user 2.54 s, sys: 155 ms, total: 2.7 s\n",
      "Wall time: 14.9 s\n"
     ]
    }
   ],
   "source": [
    "from snorkel.parser import HTMLParser\n",
    "from snorkel.parser import SentenceParser\n",
    "from snorkel.parser import CorpusParser\n",
    "\n",
    "sent_parser = SentenceParser()\n",
    "html_parser = HTMLParser(path='../data/db/papers/')\n",
    "\n",
    "corpus_name = 'gwas-text-corpus.pkl'\n",
    "\n",
    "try:\n",
    "    with open(corpus_name,\"r\") as pkl:\n",
    "        corpus = cPickle.load(pkl)\n",
    "except:\n",
    "    cp = CorpusParser(xml_parser, sent_parser, max_docs=100)\n",
    "    %time corpus = cp.parse_corpus(name='GWAS Corpus')\n",
    "    # pickling currently doesn't work...\n",
    "#     with open(corpus_name,\"w\") as pkl:\n",
    "#         corpus = cPickle.dump(corpus, pkl)"
   ]
  },
  {
   "cell_type": "markdown",
   "metadata": {},
   "source": [
    "### Extract candidates"
   ]
  },
  {
   "cell_type": "code",
   "execution_count": 35,
   "metadata": {
    "collapsed": false
   },
   "outputs": [
    {
     "name": "stdout",
     "output_type": "stream",
     "text": [
      "CPU times: user 11 s, sys: 95 ms, total: 11.1 s\n",
      "Wall time: 11.1 s\n",
      "7359 candidates extracted\n"
     ]
    }
   ],
   "source": [
    "from snorkel.candidates import Ngrams\n",
    "from snorkel.matchers import DictionaryMatch\n",
    "from snorkel.candidates import EntityExtractor\n",
    "\n",
    "from extractor.util import change_name\n",
    "from db.kb import KnowledgeBase\n",
    "\n",
    "# Define a candidate space\n",
    "ngrams = Ngrams(n_max=4)\n",
    "\n",
    "# collect phenotype list\n",
    "kb = KnowledgeBase()\n",
    "phenotype_list = kb.get_phenotype_candidates(mod_fn=change_name)\n",
    "\n",
    "# Define matchers\n",
    "phen_matcher = DictionaryMatch(d=phenotype_list, longest_match_only=True, ignore_case=True, stemmer='porter')\n",
    "\n",
    "# Extractor\n",
    "ngrams = Ngrams(n_max=7)\n",
    "phen_extractor = EntityExtractor(ngrams, phen_matcher)\n",
    "\n",
    "# collect candidates\n",
    "%time phen_c = phen_extractor.extract(corpus.get_sentences(), name='all')\n",
    "print len(phen_c), 'candidates extracted'"
   ]
  },
  {
   "cell_type": "markdown",
   "metadata": {},
   "source": [
    "We would like to remove nested candidates (manually, for now)."
   ]
  },
  {
   "cell_type": "code",
   "execution_count": 36,
   "metadata": {
    "collapsed": false
   },
   "outputs": [
    {
     "name": "stdout",
     "output_type": "stream",
     "text": [
      "0 candidates dropped, now we have 7359\n"
     ]
    }
   ],
   "source": [
    "# load existing candidates into a dict\n",
    "span_dict = { str(span.context) : list() for span in phen_c }\n",
    "for span in phen_c:\n",
    "    span_dict[str(span.context)].append( (span.char_start, span.char_end) )\n",
    "\n",
    "def nested(ivl1, ivl2):\n",
    "    if ivl1 != ivl2 and ivl2[0] <= ivl1[0] <= ivl1[1] <= ivl2[1]:\n",
    "        return True\n",
    "    else:\n",
    "        return False\n",
    "\n",
    "new_phen_c = list()\n",
    "for span in phen_c:\n",
    "    span_ivl = span.char_start, span.char_end\n",
    "    span_name = str(span.context)\n",
    "    if all([not nested(span_ivl, other_ivl) for other_ivl in span_dict[span_name]]):\n",
    "        new_phen_c.append(span)\n",
    "        \n",
    "print len(phen_c) - len(new_phen_c), 'candidates dropped, now we have', len(new_phen_c)\n",
    "phen_c = new_phen_c"
   ]
  },
  {
   "cell_type": "markdown",
   "metadata": {},
   "source": [
    "### Create gold-truth set"
   ]
  },
  {
   "cell_type": "code",
   "execution_count": 37,
   "metadata": {
    "collapsed": false
   },
   "outputs": [
    {
     "name": "stdout",
     "output_type": "stream",
     "text": [
      "Found 322 gold mentions, e.g.:\n",
      "[('17658951', u'http://www.ebi.ac.uk/efo/EFO_0004764'), ('17903294', u'http://purl.obolibrary.org/obo/GO_0070527'), ('20038947', u'http://www.ebi.ac.uk/efo/EFO_0003761'), ('19197348', u'http://www.ebi.ac.uk/efo/EFO_0004748'), ('17658951', u'http://www.ebi.ac.uk/efo/EFO_0004626')]\n",
      "833 216\n"
     ]
    }
   ],
   "source": [
    "from db.kb import KnowledgeBase\n",
    "from nltk.stem import PorterStemmer\n",
    "from extractor.util import change_name\n",
    "\n",
    "kb = KnowledgeBase() # reload\n",
    "gold_set_phens = frozenset \\\n",
    "([ \n",
    "    (doc.name, phen.ontology_ref) for doc in corpus.documents \n",
    "                                  for phen in kb.phen_by_pmid(doc.name)\n",
    "])\n",
    "\n",
    "# map phenotype names to their id\n",
    "phen2id = \\\n",
    "{\n",
    "    change_name(syn) : phen.ontology_ref for doc in corpus.documents\n",
    "                                                  for phen in kb.phen_by_pmid(doc.name)\n",
    "                                                  for syn in [phen.name] + phen.synonyms.split('|')\n",
    "}\n",
    "\n",
    "id2phen = \\\n",
    "{\n",
    "    phen.ontology_ref : phen for doc in corpus.documents\n",
    "                             for phen in kb.phen_by_pmid(doc.name)\n",
    "}\n",
    "\n",
    "print 'Found %d gold mentions, e.g.:' % len(gold_set_phens)\n",
    "print list(gold_set_phens)[:5]\n",
    "print len(phen2id), len(id2phen)"
   ]
  },
  {
   "cell_type": "markdown",
   "metadata": {},
   "source": [
    "## Statistics"
   ]
  },
  {
   "cell_type": "markdown",
   "metadata": {},
   "source": [
    "First, we need to understand whether the extraction or the classification approach will be better."
   ]
  },
  {
   "cell_type": "markdown",
   "metadata": {},
   "source": [
    "### Number of phenotypes per paper"
   ]
  },
  {
   "cell_type": "markdown",
   "metadata": {},
   "source": [
    "#### Number of EFO phenotypes per paper"
   ]
  },
  {
   "cell_type": "code",
   "execution_count": 53,
   "metadata": {
    "collapsed": false
   },
   "outputs": [
    {
     "name": "stdout",
     "output_type": "stream",
     "text": [
      "EFO phenotype numbers per paper: [1, 1, 1, 1, 1, 1, 1, 1, 1, 1, 1, 1, 1, 1, 1, 1, 1, 1, 1, 1, 1, 1, 1, 1, 1, 1, 1, 1, 1, 1, 1, 1, 1, 1, 1, 1, 1, 1, 1, 1, 1, 1, 1, 1, 1, 1, 1, 1, 1, 1, 1, 1, 1, 1, 1, 1, 1, 1, 1, 1, 1, 1, 1, 1, 1, 2, 2, 2, 2, 2, 2, 2, 2, 2, 2, 2, 2, 2, 3, 3, 3, 4, 4, 4, 4, 4, 5, 5, 5, 6, 6, 7, 7, 7, 10, 11, 13, 17, 37, 66]\n"
     ]
    }
   ],
   "source": [
    "docid2efo = \\\n",
    "{\n",
    "    doc.name : { phen.name for phen in kb.phen_by_pmid(doc.name, source='efo') } for doc in corpus.documents\n",
    "}\n",
    "print 'EFO phenotype numbers per paper:', sorted([len(v) for v in docid2efo.values()])"
   ]
  },
  {
   "cell_type": "markdown",
   "metadata": {},
   "source": [
    "#### Number of GWAS catalog (i.e. aggregate) phenotypes per paper"
   ]
  },
  {
   "cell_type": "code",
   "execution_count": 54,
   "metadata": {
    "collapsed": false
   },
   "outputs": [
    {
     "name": "stdout",
     "output_type": "stream",
     "text": [
      "GWAS catalog phenotype numbers per paper: [(1, '17447842'), (1, '17658951'), (1, '17684544'), (1, '17903293'), (1, '17903308'), (1, '17997608'), (1, '18159244'), (1, '18262040'), (1, '18282107'), (1, '18369459'), (1, '18455228'), (1, '18464913'), (1, '18604267'), (1, '18776929'), (1, '18823527'), (1, '18840781'), (1, '18846228'), (1, '18941528'), (1, '19043545'), (1, '19056611'), (1, '19081515'), (1, '19096518'), (1, '19116933'), (1, '19122664'), (1, '19132087'), (1, '19169254'), (1, '19197348'), (1, '19219042'), (1, '19247474'), (1, '19300482'), (1, '19300499'), (1, '19300500'), (1, '19304780'), (1, '19305408'), (1, '19343178'), (1, '19359265'), (1, '19401414'), (1, '19412175'), (1, '19412176'), (1, '19421330'), (1, '19430480'), (1, '19448621'), (1, '19454037'), (1, '19503088'), (1, '19503597'), (1, '19557161'), (1, '19557197'), (1, '19570815'), (1, '19571809'), (1, '19578366'), (1, '19587794'), (1, '19597492'), (1, '19609347'), (1, '19651812'), (1, '19668339'), (1, '19714205'), (1, '19714249'), (1, '19721433'), (1, '19734902'), (1, '19772629'), (1, '19779542'), (1, '19798445'), (1, '19812673'), (1, '19820699'), (1, '19874204'), (1, '19915575'), (1, '19936222'), (1, '19961619'), (1, '19966805'), (1, '20011104'), (1, '20038947'), (1, '20041166'), (1, '20062060'), (1, '20066028'), (1, '20072603'), (1, '20081856'), (1, '20169177'), (1, '20173747'), (1, '20173748'), (1, '20174558'), (1, '20190752'), (1, '20195266'), (2, '17903294'), (2, '17903295'), (2, '17903296'), (2, '17903297'), (2, '17903300'), (2, '17903302'), (2, '17903303'), (2, '17903305'), (2, '17903306'), (2, '17903307'), (2, '18483556'), (2, '19430483'), (2, '19801982'), (2, '20081858'), (3, '17903292'), (3, '17903298'), (3, '17903301'), (3, '17903304')]\n"
     ]
    }
   ],
   "source": [
    "docid2efo = \\\n",
    "{\n",
    "    doc.name : { phen.name for phen in kb.phen_by_pmid(doc.name, source='gwas_catalog') } for doc in corpus.documents\n",
    "}\n",
    "print 'GWAS catalog phenotype numbers per paper:', sorted([(len(v), d) for d, v in docid2efo.items()])"
   ]
  },
  {
   "cell_type": "markdown",
   "metadata": {},
   "source": [
    "### Candidate recall statistics"
   ]
  },
  {
   "cell_type": "markdown",
   "metadata": {},
   "source": [
    "#### Over EFO phenotypes"
   ]
  },
  {
   "cell_type": "code",
   "execution_count": 55,
   "metadata": {
    "collapsed": false
   },
   "outputs": [
    {
     "name": "stdout",
     "output_type": "stream",
     "text": [
      "# of gold annotations\t= 322\n",
      "# of candidates\t\t= 7359\n",
      "Candidate recall\t= 0.276\n",
      "Candidate precision\t= 0.012\n"
     ]
    }
   ],
   "source": [
    "from extractor.util import gold_phen_stats\n",
    "gold_phen_stats(phen_c, gold_set_phens, phen2id)"
   ]
  },
  {
   "cell_type": "markdown",
   "metadata": {},
   "source": [
    "Why is the recall low?"
   ]
  },
  {
   "cell_type": "code",
   "execution_count": 59,
   "metadata": {
    "collapsed": false
   },
   "outputs": [
    {
     "name": "stdout",
     "output_type": "stream",
     "text": [
      "233\n",
      "19798445\n",
      "blood metabolite measurement http://www.ebi.ac.uk/efo/EFO_0005664\n",
      "sphingolipid measurement http://www.ebi.ac.uk/efo/EFO_0004622\n",
      "blood metabolite measurement http://www.ebi.ac.uk/efo/EFO_0005664\n",
      "\n",
      "Genetic determinants of circulating sphingolipid concentrations in European populations.\n",
      "Genetic Determinants of Circulating Sphingolipid Concentrations in European Populations Sphingolipids have essential roles as structural components of cell membranes and in cell signalling, and disruption of their metabolism causes several diseases, with diverse neurological, psychiatric, and metabolic consequences. Increasingly, variants within a few of the genes that encode enzymes involved in sphingolipid metabolism are being associated with complex disease phenotypes. Direct experimental evidence supports a role of specific sphingolipid species in several common complex chronic disease processes including atherosclerotic plaque formation, myocardial infarction (MI), cardiomyopathy, pancreatic β-cell failure, insulin resistance, and type 2 diabetes mellitus. Therefore, sphingolipids represent novel and important intermediate phenotypes for genetic analysis, yet little is known about the major genetic variants that influence their circulating levels in the general population. We performed a genome-wide association study (GWAS) between 318,237 single-nucleotide polymorphisms (SNPs) and levels of circulating sphingomyelin (SM), dihydrosphingomyelin (Dih-SM), ceramide (Cer), and glucosylceramide (GluCer) single lipid species (33 traits); and 43 matched metabolite ratios measured in 4,400 subjects from five diverse European populations. Associated variants (32) in five genomic regions were identified with genome-wide significant corrected  p -values ranging down to 9.08×10 −66 . The strongest associations were observed in or near 7 genes functionally involved in ceramide biosynthesis and trafficking:  SPTLC3 ,  LASS4 ,  SGPP1 ,  ATP10D , and  FADS1–3 . Variants in 3 loci ( ATP10D ,  FADS3 , and  SPTLC3 ) associate with MI in a series of three German MI studies. An additional 70 variants across 23 candidate genes involved in sphingolipid-metabolizing pathways also demonstrate association ( p  = 10 −4  or less). Circulating concentrations of several key components in sphingolipid metabolism are thus under strong genetic control, and variants in these loci can be tested for a role in the development of common cardiovascular, metabolic, neurological, and psychiatric diseases. Although several rare monogenic diseases are caused by defects in enzymes involved in sphingolipid biosynthesis and metabolism, little is known about the major variants that control the circulating levels of these important bioactive molecules. As well as being essential components of plasma membranes and endosomes, sphingolipids play critical roles in cell surface protection, protein and lipid transport and sorting, and cellular signalling cascades. Experimental evidence supports a role for sphingolipids in several common complex chronic metabolic, cardiovascular, or neurological disease processes. Therefore, sphingolipids represent novel and important intermediate phenotypes for genetic analysis, and discovering the genetic variants that influence their circulating concentrations is an important step towards understanding how the genetic control of sphingolipids might contribute to common human disease. We have identified 32 variants in 7 genes that have a strong effect on the circulating plasma levels of 33 distinct sphingolipids, and 43 matched metabolite ratios. In a series of 3 German MI studies, we see association with MI for variants in 3 of the genes tested. Further cardiovascular, metabolic, neurological, and psychiatric disease associations can be tested with the variants described here, which may identify additional disease risk and potentially useful therapeutic targets.\n",
      "\n",
      "19557197\n",
      "waist circumference http://www.ebi.ac.uk/efo/EFO_0004342\n",
      "waist circumference http://www.ebi.ac.uk/efo/EFO_0004342\n",
      "\n",
      "NRXN3 is a novel locus for waist circumference: a genome-wide association study from the CHARGE Consortium.\n",
      "NRXN3  Is a Novel Locus for Waist Circumference: A Genome-Wide Association Study from the CHARGE Consortium Genome-Wide Association Scan Meta-Analysis Identifies Three Loci Influencing Adiposity and Fat Distribution Central abdominal fat is a strong risk factor for diabetes and cardiovascular disease. To identify common variants influencing central abdominal fat, we conducted a two-stage genome-wide association analysis for waist circumference (WC). In total, three loci reached genome-wide significance. In stage 1, 31,373 individuals of Caucasian descent from eight cohort studies confirmed the role of  FTO  and  MC4R  and identified one novel locus associated with WC in the neurexin 3 gene [ NRXN3  (rs10146997, p = 6.4×10 −7 )]. The association with  NRXN3  was confirmed in stage 2 by combining stage 1 results with those from 38,641 participants in the GIANT consortium (p = 0.009 in GIANT only, p = 5.3×10 −8  for combined analysis, n = 70,014). Mean WC increase per copy of the G allele was 0.0498 z-score units (0.65 cm). This SNP was also associated with body mass index (BMI) [p = 7.4×10 −6 , 0.024 z-score units (0.10 kg/m 2 ) per copy of the G allele] and the risk of obesity (odds ratio 1.13, 95% CI 1.07–1.19; p = 3.2×10 −5  per copy of the G allele). The  NRXN3  gene has been previously implicated in addiction and reward behavior, lending further evidence that common forms of obesity may be a central nervous system-mediated disorder. Our findings establish that common variants in  NRXN3  are associated with WC, BMI, and obesity. Obesity is a major health concern worldwide. In the past two years, genome-wide association studies of DNA markers known as SNPs (single nucleotide polymorphisms) have identified two novel genetic factors that may help scientists better understand why some people may be more susceptible to obesity. Similarly, this paper describes results from a large scale genome-wide association analysis for obesity susceptibility genes that includes 31,373 individuals from 8 separate studies. We uncovered a new gene influencing waist circumference, the neurexin 3 gene ( NRXN3 ), which has been previously implicated in studies of addiction and reward behavior. These findings lend further evidence that our genes may influence our desire and consumption of food and, in turn, our susceptibility to obesity.\n",
      "\n",
      "19779542\n",
      "pathological myopia http://www.ebi.ac.uk/efo/EFO_0004207\n",
      "pathological myopia http://www.ebi.ac.uk/efo/EFO_0004207\n",
      "myopia (pathological)|degenerative myopia|myopia, pathological|progressive myopia\n",
      "A genome-wide association analysis identified a novel susceptible locus for pathological myopia at 11q24.1.\n",
      "A Genome-Wide Association Analysis Identified a Novel Susceptible Locus for Pathological Myopia at 11q24.1 Myopia is one of the most common ocular disorders worldwide. Pathological myopia, also called high myopia, comprises 1% to 5% of the general population and is one of the leading causes of legal blindness in developed countries. To identify genetic determinants associated with pathological myopia in Japanese, we conducted a genome-wide association study, analyzing 411,777 SNPs with 830 cases and 1,911 general population controls in a two-stage design (297 cases and 934 controls in the first stage and 533 cases and 977 controls in the second stage). We selected 22 SNPs that showed  P -values smaller than 10 −4  in the first stage and tested them for association in the second stage. The meta-analysis combining the first and second stages identified an SNP, rs577948, at chromosome 11q24.1, which was associated with the disease ( P  = 2.22×10 −7  and OR of 1.37 with 95% confidence interval: 1.21–1.54). Two genes,  BLID  and  LOC399959 , were identified within a 200-kb DNA encompassing rs577948. RT–PCR analysis demonstrated that both genes were expressed in human retinal tissue. Our results strongly suggest that the region at 11q24.1 is a novel susceptibility locus for pathological myopia in Japanese. Myopia is one of the most common ocular disorders with elongation of axis of the eyeball. Pathological myopia or high myopia, a subset of myopia which is characterized with excessive axial elongation and degenerative changes of the eye, is a leading cause of visual impairment. Since genetic factors play significant roles in its development, identification of genetic determinants is an urgent and important issue. Although family-based linkage analyses have isolated at least 16 susceptible chromosomal loci for pathological or common myopia, no gene responsible for the disease has been identified. We conducted the first genome-wide case/control association study of pathological myopia in a two-stage design using 411,777 markers with 830 Japanese patients and 1,911 Japanese controls. We identified a region strongly suggestive for the disease susceptibility at chromosome 11q24.1 containing  BLID  and  LOC399959 . Their expression was confirmed in human retina with RT–PCR. BLID  encodes an inducer of apoptotic cell death, and apoptosis is known to play an important functional role in pathological myopia. We believe that our study contributes to further dissect the molecular events underlying the development and progression of pathological myopia.\n",
      "\n",
      "19557161\n",
      "obesity http://www.ebi.ac.uk/efo/EFO_0001073\n",
      "obesity http://www.ebi.ac.uk/efo/EFO_0001073\n",
      "overweight and obesity|obesity (disorder)|obese|obesity nos|obese (finding)|adiposity|adiposis|obesity [ambiguous]|obesity, unspecified\n",
      "Genome-wide association scan meta-analysis identifies three Loci influencing adiposity and fat distribution.\n",
      "Genome-Wide Association Scan Meta-Analysis Identifies Three Loci Influencing Adiposity and Fat Distribution NRXN3  is a Novel Locus for Waist Circumference: A Genome-Wide Association Study from the CHARGE Consortium To identify genetic loci influencing central obesity and fat distribution, we performed a meta-analysis of 16 genome-wide association studies (GWAS, N = 38,580) informative for adult waist circumference (WC) and waist–hip ratio (WHR). We selected 26 SNPs for follow-up, for which the evidence of association with measures of central adiposity (WC and/or WHR) was strong and disproportionate to that for overall adiposity or height. Follow-up studies in a maximum of 70,689 individuals identified two loci strongly associated with measures of central adiposity; these map near  TFAP2B  (WC,  P  = 1.9×10 −11 ) and  MSRA  (WC,  P  = 8.9×10 −9 ). A third locus, near  LYPLAL1 , was associated with WHR in women only ( P  = 2.6×10 −8 ). The variants near  TFAP2B  appear to influence central adiposity through an effect on overall obesity/fat-mass, whereas  LYPLAL1  displays a strong female-only association with fat distribution. By focusing on anthropometric measures of central obesity and fat distribution, we have identified three loci implicated in the regulation of human adiposity. Here, we describe a meta-analysis of genome-wide association data from 38,580 individuals, followed by large-scale replication (in up to 70,689 individuals) designed to uncover variants influencing anthropometric measures of central obesity and fat distribution, namely waist circumference (WC) and waist–hip ratio (WHR). This work complements parallel efforts that have been successful in defining variants impacting overall adiposity and focuses on the visceral fat accumulation which has particularly strong relationships to metabolic and cardiovascular disease. Our analyses have identified two loci ( TFAP2B  and  MSRA ) associated with WC, and a further locus, near  LYPLAL1 , which shows gender-specific relationships with WHR (all to levels of genome-wide significance). These loci vary in the strength of their associations with overall adiposity, and  LYPLAL1  in particular appears to have a specific effect on patterns of fat distribution. All in all, these three loci provide novel insights into human physiology and the development of obesity.\n",
      "\n",
      "18262040\n",
      "total cholesterol measurement http://www.ebi.ac.uk/efo/EFO_0004574\n",
      "lipid measurement http://www.ebi.ac.uk/efo/EFO_0004529\n",
      "low density lipoprotein cholesterol measurement http://www.ebi.ac.uk/efo/EFO_0004611\n",
      "low density lipoprotein cholesterol measurement http://www.ebi.ac.uk/efo/EFO_0004611\n",
      "ldl measurement\n",
      "LDL-cholesterol concentrations: a genome-wide association study.\n",
      "LDL-cholesterol concentrations: a genome-wide association study LDL cholesterol has a causal role in the development of cardiovascular disease. Improved understanding of the biological mechanisms that underlie the metabolism and regulation of LDL cholesterol might help to identify novel therapeutic targets. We therefore did a genome-wide association study of LDL-cholesterol concentrations. We used genome-wide association data from up to 11 685 participants with measures of circulating LDL-cholesterol concentrations across five studies, including data for 293 461 autosomal single nucleotide polymorphisms (SNPs) with a minor allele frequency of 5% or more that passed our quality control criteria. We also used data from a second genome-wide array in up to 4337 participants from three of these five studies, with data for 290 140 SNPs. We did replication studies in two independent populations consisting of up to 4979 participants. Statistical approaches, including meta-analysis and linkage disequilibrium plots, were used to refine association signals; we analysed pooled data from all seven populations to determine the effect of each SNP on variations in circulating LDL-cholesterol concentrations. In our initial scan, we found two SNPs (rs599839 [p=1·7×10 −15 ] and rs4970834 [p=3·0×10 −11 ]) that showed genome-wide statistical association with LDL cholesterol at chromosomal locus 1p13.3. The second genome screen found a third statistically associated SNP at the same locus (rs646776 [p=4·3×10 −9 ]). Meta-analysis of data from all studies showed an association of SNPs rs599839 (combined p=1·2×10 −33 ) and rs646776 (p=4·8×10 −20 ) with LDL-cholesterol concentrations. SNPs rs599839 and rs646776 both explained around 1% of the variation in circulating LDL-cholesterol concentrations and were associated with about 15% of an SD change in LDL cholesterol per allele, assuming an SD of 1 mmol/L. We found evidence for a novel locus for LDL cholesterol on chromosome 1p13.3. These results potentially provide insight into the biological mechanisms that underlie the regulation of LDL cholesterol and might help in the discovery of novel therapeutic targets for cardiovascular disease.\n",
      "\n",
      "17903305\n",
      "prostate carcinoma http://www.ebi.ac.uk/efo/EFO_0001663\n",
      "breast carcinoma http://www.ebi.ac.uk/efo/EFO_0000305\n",
      "prostate carcinoma http://www.ebi.ac.uk/efo/EFO_0001663\n",
      "cancer of the prostate|cancer of prostate|carcinoma of prostate|prostate cancer|carcinoma of the prostate\n",
      "A genome-wide association study of breast and prostate cancer in the NHLBI's Framingham Heart Study.\n",
      "A genome-wide association study of breast and prostate cancer in the NHLBI's Framingham Heart Study Breast and prostate cancer are two commonly diagnosed cancers in the United States. Prior work suggests that cancer causing genes and cancer susceptibility genes can be identified. We conducted a genome-wide association study (Affymetrix 100K SNP GeneChip) of cancer in the community-based Framingham Heart Study. We report on 2 cancer traits – prostate cancer and breast cancer – in up to 1335 participants from 330 families (54% women, mean entry age 33 years). Multivariable-adjusted residuals, computed using Cox proportional hazards models, were tested for association with qualifying SNPs (70, 987 autosomal SNPs with genotypic call rate ≥80%, minor allele frequency ≥10%, Hardy-Weinberg test p ≥ 0.001) using generalized estimating equations (GEE) models and family based association tests (FBAT). There were 58 women with breast cancer and 59 men with prostate cancer. No SNP associations attained genome-wide significance. The top SNP associations in GEE models for each trait were as follows: breast cancer, rs2075555, p = 8.0 × 10 -8  in  COL1A1 ; and prostate cancer, rs9311171, p = 1.75 × 10 -6  in  CTDSPL . In analysis of selected candidate cancer susceptibility genes, two  MSR1  SNPs (rs9325782, GEE p = 0.008 and rs2410373, FBAT p = 0.021) were associated with prostate cancer and three  ERBB4  SNPs (rs905883 GEE p = 0.0002, rs7564590 GEE p = 0.003, rs7558615 GEE p = 0.0078) were associated with breast cancer. The previously reported risk SNP for prostate cancer, rs1447295, was not included on the 100K chip. Results of cancer phenotype-genotype associations for all autosomal SNPs are web posted at  . Although no association attained genome-wide significance, several interesting associations emerged for breast and prostate cancer. These findings can serve as a resource for replication in other populations to identify novel biologic pathways contributing to cancer susceptibility.\n",
      "\n",
      "18159244\n",
      "obesity http://www.ebi.ac.uk/efo/EFO_0001073\n",
      "obesity http://www.ebi.ac.uk/efo/EFO_0001073\n",
      "overweight and obesity|obesity (disorder)|obese|obesity nos|obese (finding)|adiposity|adiposis|obesity [ambiguous]|obesity, unspecified\n",
      "Genome wide association (GWA) study for early onset extreme obesity supports the role of fat mass and obesity associated gene (FTO) variants.\n",
      "Genome Wide Association (GWA) Study for Early Onset Extreme Obesity Supports the Role of Fat Mass and Obesity Associated Gene  (FTO)  Variants Obesity is a major health problem. Although heritability is substantial, genetic mechanisms predisposing to obesity are not very well understood. We have performed a genome wide association study (GWA) for early onset (extreme) obesity. a) GWA (Genome-Wide Human SNP Array 5.0 comprising 440,794 single nucleotide polymorphisms) for early onset extreme obesity based on 487 extremely obese young German individuals and 442 healthy lean German controls; b) confirmatory analyses on 644 independent families with at least one obese offspring and both parents. We aimed to identify and subsequently confirm the 15 SNPs (minor allele frequency ≥10%) with the lowest p-values of the GWA by four genetic models: additive, recessive, dominant and allelic. Six single nucleotide polymorphisms (SNPs) in  FTO  (fat mass and obesity associated gene) within one linkage disequilibrium (LD) block including the GWA SNP rendering the lowest p-value (rs1121980; log-additive model: nominal p = 1.13×10 −7 , corrected p = 0.0494; odds ratio (OR) CT  1.67, 95% confidence interval (CI) 1.22–2.27; OR TT  2.76, 95% CI 1.88–4.03) belonged to the 15 SNPs showing the strongest evidence for association with obesity. For confirmation we genotyped 11 of these in the 644 independent families (of the six  FTO  SNPs we chose only two representing the LD bock). For both  FTO  SNPs the initial association was confirmed (both Bonferroni corrected p<0.01). However, none of the nine non- FTO  SNPs revealed significant transmission disequilibrium. Our GWA for extreme early onset obesity substantiates that variation in  FTO  strongly contributes to early onset obesity. This is a further proof of concept for GWA to detect genes relevant for highly complex phenotypes. We concurrently show that nine additional SNPs with initially low p-values in the GWA were not confirmed in our family study, thus suggesting that of the best 15 SNPs in the GWA only the  FTO  SNPs represent true positive findings.\n",
      "\n",
      "17447842\n",
      "crohn's disease http://www.ebi.ac.uk/efo/EFO_0000384\n",
      "crohn's disease http://www.ebi.ac.uk/efo/EFO_0000384\n",
      "gastritis associated with crohn's disease|ileitis, terminal|colitis, granulomatous|ileitis, regional|crohn's disease|enteritis, granulomatous|crohns disease|crohns dis|ileocolitis|enteritis, regional|gastritis associated with crohn disease|crohn disease|crohn dis|crohn's associated gastritis\n",
      "Novel Crohn disease locus identified by genome-wide association maps to a gene desert on 5p13.1 and modulates expression of PTGER4.\n",
      "Novel Crohn Disease Locus Identified by Genome-Wide Association Maps to a Gene Desert on 5p13.1 and Modulates Expression of  PTGER4 To identify novel susceptibility loci for Crohn disease (CD), we undertook a genome-wide association study with more than 300,000 SNPs characterized in 547 patients and 928 controls. We found three chromosome regions that provided evidence of disease association with  p -values between 10 −6  and 10 −9 . Two of these ( IL23R  on Chromosome 1 and  CARD15  on Chromosome 16) correspond to genes previously reported to be associated with CD. In addition, a 250-kb region of Chromosome 5p13.1 was found to contain multiple markers with strongly suggestive evidence of disease association (including four markers with  p  < 10 −7 ). We replicated the results for 5p13.1 by studying 1,266 additional CD patients, 559 additional controls, and 428 trios. Significant evidence of association ( p  < 4 × 10 −4 ) was found in case/control comparisons with the replication data, while associated alleles were over-transmitted to affected offspring ( p  < 0.05), thus confirming that the 5p13.1 locus contributes to CD susceptibility. The CD-associated 250-kb region was saturated with 111 SNP markers. Haplotype analysis supports a complex locus architecture with multiple variants contributing to disease susceptibility. The novel 5p13.1 CD locus is contained within a 1.25-Mb gene desert. We present evidence that disease-associated alleles correlate with quantitative expression levels of the prostaglandin receptor EP4,  PTGER4,  the gene that resides closest to the associated region. Our results identify a major new susceptibility locus for CD, and suggest that genetic variants associated with disease risk at this locus could modulate  cis -acting regulatory elements of  PTGER4 . Individual susceptibility to many common diseases is determined by a combination of environmental and genetic factors. Identifying these genetic risk factors is one of the most important objectives of modern medical genetics, as it paves the way towards personalized medicine and drug target identification. Recent advances in SNP genotyping technology allows systematic association scanning of the entire genome for the detection of novel susceptibility loci. We herein apply this approach to Crohn disease, which afflicts an estimated 0.15% of the people in the developed world and identify a novel susceptibility locus on Chromosome 5. A unique feature of the novel 5p13.1 locus is that it coincides with a 1.25-Mb gene desert. We present evidence that genetic variants at this locus influence the expression levels of the closest gene,  PTGER4,  located 270 kb away, in the direction of the centromere. PTGER4  encodes the prostaglandin receptor EP4 and is a strong candidate susceptibility gene for Crohn disease as PTGER4 knock-out mice have increased susceptibility to colitis.\n",
      "\n",
      "19570815\n",
      "body height http://www.ebi.ac.uk/efo/EFO_0004339\n",
      "anthropometry http://www.ebi.ac.uk/efo/EFO_0004302\n",
      "anthropometry http://www.ebi.ac.uk/efo/EFO_0004302\n",
      "anthropometric traits\n",
      "A genome-wide association study of northwestern Europeans involves the C-type natriuretic peptide signaling pathway in the etiology of human height variation.\n",
      "A genome-wide association study of northwestern Europeans involves the C-type natriuretic peptide signaling pathway in the etiology of human height variation Northwestern Europeans are among the tallest of human populations. The increase in body height in these people appears to have reached a plateau, suggesting the ubiquitous presence of an optimal environment in which genetic factors may have exerted a particularly strong influence on human growth. Therefore, we performed a genome-wide association study (GWAS) of body height using 2.2 million markers in 10 074 individuals from three Dutch and one German population-based cohorts. Upon genotyping, the 12 most significantly height-associated single nucleotide polymorphisms (SNPs) from this GWAS in 6912 additional individuals of Dutch and Swedish origin, a genetic variant (rs6717918) on chromosome 2q37.1 was found to be associated with height at a genome-wide significance level ( P combined  = 3.4 × 10 −9 ). Notably, a second SNP (rs6718438) located ∼450 bp away and in strong LD ( r 2  = 0.77) with rs6717918 was previously found to be suggestive of a height association in 29 820 individuals of mainly northwestern European ancestry, and the over-expression of a nearby natriuretic peptide precursor type C ( NPPC ) gene, has been associated with overgrowth and skeletal anomalies. We also found a SNP (rs10472828) located on 5p14 near the natriuretic peptide receptor 3 ( NPR3 ) gene, encoding a receptor of the NPPC ligand, to be associated with body height ( P combined  = 2.1 × 10 −7 ). Taken together, these results suggest that variation in the C-type natriuretic peptide signaling pathway, involving the  NPPC  and  NPR3  genes, plays an important role in determining human body height.\n",
      "\n",
      "19359265\n",
      "telomere length http://www.ebi.ac.uk/efo/EFO_0004505\n",
      "telomere length http://www.ebi.ac.uk/efo/EFO_0004505\n",
      "\n",
      "A genome-wide association study identifies a novel locus on chromosome 18q12.2 influencing white cell telomere length.\n",
      "A genome-wide association study identifies a novel locus on chromosome 18q12.2 influencing white cell telomere length Telomere length is a predictor for a number of common age related diseases and is a heritable trait. To identify new loci associated with mean leukocyte telomere length we conducted a genome wide association study of 314 075 single nucleotide polymorphisms (SNPs) and validated the results in a second cohort (n for both cohorts combined  =  2790). We identified two novel associated variants (rs2162440, p = 2.6×10 −6 ; and rs7235755, p = 5.5×10 −6 ) on chromosome 18q12.2 in the same region as the  VPS34/PIKC3C  gene, which has been directly implicated in the pathway controlling telomere length variation in yeast. These results provide new insights into the pathways regulating telomere homeostasis in humans.\n",
      "\n",
      "19343178\n",
      "body height http://www.ebi.ac.uk/efo/EFO_0004339\n",
      "anthropometry http://www.ebi.ac.uk/efo/EFO_0004302\n",
      "anthropometry http://www.ebi.ac.uk/efo/EFO_0004302\n",
      "anthropometric traits\n",
      "Meta-analysis of genome-wide scans for human adult stature identifies novel Loci and associations with measures of skeletal frame size.\n",
      "Meta-Analysis of Genome-Wide Scans for Human Adult Stature Identifies Novel Loci and Associations with Measures of Skeletal Frame Size Recent genome-wide (GW) scans have identified several independent loci affecting human stature, but their contribution through the different skeletal components of height is still poorly understood. We carried out a genome-wide scan in 12,611 participants, followed by replication in an additional 7,187 individuals, and identified 17 genomic regions with GW-significant association with height. Of these, two are entirely novel (rs11809207 in  CATSPER4 , combined  P -value = 6.1×10 −8  and rs910316 in  TMED10 ,  P -value = 1.4×10 −7 ) and two had previously been described with weak statistical support (rs10472828 in  NPR3 ,  P -value = 3×10 −7  and rs849141 in  JAZF1 ,  P -value = 3.2×10 −11 ). One locus (rs1182188 at  GNA12 ) identifies the first height eQTL. We also assessed the contribution of height loci to the upper- (trunk) and lower-body (hip axis and femur) skeletal components of height. We find evidence for several loci associated with trunk length (including rs6570507 in  GPR126 ,  P -value = 4×10 −5  and rs6817306 in  LCORL ,  P -value = 4×10 −4 ), hip axis length (including rs6830062 at  LCORL ,  P -value = 4.8×10 −4  and rs4911494 at  UQCC ,  P -value = 1.9×10 −4 ), and femur length (including rs710841 at  PRKG2 ,  P -value = 2.4×10 −5  and rs10946808 at  HIST1H1D ,  P -value = 6.4×10 −6 ). Finally, we used conditional analyses to explore a possible differential contribution of the height loci to these different skeletal size measurements. In addition to validating four novel loci controlling adult stature, our study represents the first effort to assess the contribution of genetic loci to three skeletal components of height. Further statistical tests in larger numbers of individuals will be required to verify if the height loci affect height preferentially through these subcomponents of height. The first genetic association studies of adult height have confirmed a role of many common variants in influencing human height, but to date, the genetic basis of differences between different skeletal components of height have not been addressed. Here, we take advantage of recent technical and methodological advances to examine the role of common genetic variants on both height and skeletal components of height. By examining nearly 20,000 individuals from the UK and the Netherlands, we provide statistically significant evidence that 17 genomic regions are associated with height, including four novel regions. We also examine, for the first time, the association of these 17 regions with skeletal size measurements of spine, femur, and hip axis length, a measurement of hip geometry known to influence the risk of osteoporotic fractures. We find that some height loci are also associated with these skeletal components, although further statistical tests will be required to verify if these genetic variants act differentially on the individual skeletal measurements. The knowledge generated by this and other studies will not only inform the genetics of human quantitative variation, but will also lead to the potential discovery of many medically important polymorphisms.\n",
      "\n",
      "19300499\n",
      "response to anticoagulant http://purl.obolibrary.org/obo/GO_0061476\n",
      "response to anticoagulant http://purl.obolibrary.org/obo/GO_0061476\n",
      "\n",
      "A genome-wide association study confirms VKORC1, CYP2C9, and CYP4F2 as principal genetic determinants of warfarin dose.\n",
      "A Genome-Wide Association Study Confirms  VKORC1 ,  CYP2C9 , and  CYP4F2  as Principal Genetic Determinants of Warfarin Dose We report the first genome-wide association study (GWAS) whose sample size (1,053 Swedish subjects) is sufficiently powered to detect genome-wide significance ( p <1.5×10 −7 ) for polymorphisms that modestly alter therapeutic warfarin dose. The anticoagulant drug warfarin is widely prescribed for reducing the risk of stroke, thrombosis, pulmonary embolism, and coronary malfunction. However, Caucasians vary widely (20-fold) in the dose needed for therapeutic anticoagulation, and hence prescribed doses may be too low (risking serious illness) or too high (risking severe bleeding). Prior work established that ∼30% of the dose variance is explained by single nucleotide polymorphisms (SNPs) in the warfarin drug target  VKORC1  and another ∼12% by two non-synonymous SNPs ( *2 ,  *3 ) in the cytochrome P450 warfarin-metabolizing gene  CYP2C9 . We initially tested each of 325,997 GWAS SNPs for association with warfarin dose by univariate regression and found the strongest statistical signals ( p <10 −78 ) at SNPs clustering near  VKORC1  and the second lowest p-values ( p <10 −31 ) emanating from  CYP2C9 . No other SNPs approached genome-wide significance. To enhance detection of weaker effects, we conducted multiple regression adjusting for known influences on warfarin dose ( VKORC1 ,  CYP2C9 , age, gender) and identified a single SNP (rs2108622) with genome-wide significance ( p  = 8.3×10 −10 ) that alters protein coding of the  CYP4F2  gene. We confirmed this result in 588 additional Swedish patients ( p <0.0029) and, during our investigation, a second group provided independent confirmation from a scan of warfarin-metabolizing genes. We also thoroughly investigated copy number variations, haplotypes, and imputed SNPs, but found no additional highly significant warfarin associations. We present power analysis of our GWAS that is generalizable to other studies, and conclude we had 80% power to detect genome-wide significance for common causative variants or markers explaining at least 1.5% of dose variance. These GWAS results provide further impetus for conducting large-scale trials assessing patient benefit from genotype-based forecasting of warfarin dose. Recently, geneticists have begun assaying hundreds of thousands of genetic markers covering the entire human genome to systematically search for and identify genes that cause disease. We have extended this “genome-wide association study” (GWAS) method by assaying ∼326,000 markers in 1,053 Swedish patients in order to identify genes that alter response to the anticoagulant drug warfarin. Warfarin is widely prescribed to reduce blood clotting in order to protect high-risk patients from stroke, thrombosis, and heart attack. But patients vary widely (20-fold) in the warfarin dose needed for proper blood thinning, which means that initial doses in some patients are too high (risking severe bleeding) or too low (risking serious illness). Our GWAS detected two genes ( VKORC1 ,  CYP2C9 ) already known to cause ∼40% of the variability in warfarin dose and discovered a new gene ( CYP4F2 ) contributing 1%–2% of the variability. Since our GWAS searched the entire genome, additional genes having a major influence on warfarin dose might not exist or be found in the near-term. Hence, clinical trials assessing patient benefit from individualized dose forecasting based on a patient's genetic makeup at  VKORC1 ,  CYP2C9  and possibly  CYP4F2  could provide state-of-the-art clinical benchmarks for warfarin use during the foreseeable future.\n",
      "\n",
      "19448621\n",
      "age at menarche http://www.ebi.ac.uk/efo/EFO_0004703\n",
      "age at menopause http://www.ebi.ac.uk/efo/EFO_0004704\n",
      "age at menopause http://www.ebi.ac.uk/efo/EFO_0004704\n",
      "\n",
      "Genome-wide association studies identify loci associated with age at menarche and age at natural menopause.\n",
      "Genome-wide association studies identify novel loci associated with age at menarche and age at natural menopause Age at menarche and age at natural menopause are associated with causes of substantial morbidity and mortality such as breast cancer and cardiovascular disease. Studies have suggested both traits might be partially under genetic control. We performed a joint analysis of two genome-wide association studies of these two traits in a total of 17,438 women from the Nurses’ Health Study (NHS, N=2,287) and the Women’s Genome Health Study (WGHS, N=15,151). For age at menarche, we identified 10 associated SNPs ( P =1×10 -7 -3×10 -13 ) clustered at 6q21 (in or near the gene  LIN28B ) and 9q31.2 (in an intergenic region). For age at natural menopause, we identified 13 associated SNPs ( P =1×10 -7 -1×10 -21 ) clustered at 20p12.3 (in the gene  MCM8 ), 19q13.42 (in or near the gene  BRSK1 ), 5q35.2 (in or near genes  RAP80  and  HK3 ), and 6p24.2 (in the gene  SYCP2L ). These newly identified loci might expand understanding of the biological pathways regulating these two traits.\n",
      "\n",
      "17903297\n",
      "neuropsychological test http://www.ebi.ac.uk/efo/EFO_0003926\n",
      "volumetric brain mri http://www.ebi.ac.uk/efo/EFO_0004868\n",
      "neuropsychological test http://www.ebi.ac.uk/efo/EFO_0003926\n",
      "test, aphasia|aphasia test|tests neuropsychol|memory for designs test|neuropsychologic tests|tests, aphasia|neuropsychologic test|test, neuropsychological|neuropsychological tests|neuropsychol test|tests, neuropsychologic|test, neuropsychologic|aphasia tests|cognitive performance|cognitive performance test|cognitive test performance|neuropsychol tests|test neuropsychol|tests, neuropsychological\n",
      "Genetic correlates of brain aging on MRI and cognitive test measures: a genome-wide association and linkage analysis in the Framingham Study.\n",
      "Genetic correlates of brain aging on MRI and cognitive test measures: a genome-wide association and linkage analysis in the Framingham study Brain magnetic resonance imaging (MRI) and cognitive tests can identify heritable endophenotypes associated with an increased risk of developing stroke, dementia and Alzheimer's disease (AD). We conducted a genome-wide association (GWA) and linkage analysis exploring the genetic basis of these endophenotypes in a community-based sample. A total of 705 stroke- and dementia-free Framingham participants (age 62 +9 yrs, 50% male) who underwent volumetric brain MRI and cognitive testing (1999–2002) were genotyped. We used linear models adjusting for first degree relationships via generalized estimating equations (GEE) and family based association tests (FBAT) in additive models to relate qualifying single nucleotide polymorphisms (SNPs, 70,987 autosomal on Affymetrix 100K Human Gene Chip with minor allele frequency ≥ 0.10, genotypic call rate ≥ 0.80, and Hardy-Weinberg equilibrium p-value ≥ 0.001) to multivariable-adjusted residuals of 9 MRI measures including total cerebral brain (TCBV), lobar, ventricular and white matter hyperintensity (WMH) volumes, and 6 cognitive factors/tests assessing verbal and visuospatial memory, visual scanning and motor speed, reading, abstract reasoning and naming. We determined multipoint identity-by-descent utilizing 10,592 informative SNPs and 613 short tandem repeats and used variance component analyses to compute LOD scores. The strongest gene-phenotype association in FBAT analyses was between  SORL1  (rs1131497; p = 3.2 × 10 -6 ) and abstract reasoning, and in GEE analyses between  CDH4  (rs1970546; p = 3.7 × 10 -8 ) and TCBV. SORL1  plays a role in amyloid precursor protein processing and has been associated with the risk of AD. Among the 50 strongest associations (25 each by GEE and FBAT) were other biologically interesting genes. Polymorphisms within 28 of 163 candidate genes for stroke, AD and memory impairment were associated with the endophenotypes studied at p < 0.001. We confirmed our previously reported linkage of WMH on chromosome 4 and describe linkage of reading performance to a marker on chromosome 18 (GATA11A06), previously linked to dyslexia (LOD scores = 2.2 and 5.1). Our results suggest that genes associated with clinical neurological disease also have detectable effects on subclinical phenotypes. These hypothesis generating data illustrate the use of an unbiased approach to discover novel pathways that may be involved in brain aging, and could be used to replicate observations made in other studies.\n",
      "\n",
      "17903296\n",
      "bone density http://www.ebi.ac.uk/efo/EFO_0003923\n",
      "hip geometry http://www.ebi.ac.uk/efo/EFO_0004685\n",
      "hip geometry http://www.ebi.ac.uk/efo/EFO_0004685\n",
      "\n",
      "Genome-wide association with bone mass and geometry in the Framingham Heart Study.\n",
      "Genome-wide association with bone mass and geometry in the Framingham Heart Study Osteoporosis is characterized by low bone mass and compromised bone structure, heritable traits that contribute to fracture risk. There have been no genome-wide association and linkage studies for these traits using high-density genotyping platforms. We used the Affymetrix 100K SNP GeneChip marker set in the Framingham Heart Study (FHS) to examine genetic associations with ten primary quantitative traits: bone mineral density (BMD), calcaneal ultrasound, and geometric indices of the hip. To test associations with multivariable-adjusted residual trait values, we used additive generalized estimating equation (GEE) and family-based association tests (FBAT) models within each sex as well as sexes combined. We evaluated 70,987 autosomal SNPs with genotypic call rates ≥80%, HWE p ≥ 0.001, and MAF ≥10% in up to 1141 phenotyped individuals (495 men and 646 women, mean age 62.5 yrs). Variance component linkage analysis was performed using 11,200 markers. Heritability estimates for all bone phenotypes were 30–66%. LOD scores ≥3.0 were found on chromosomes 15 (1.5 LOD confidence interval: 51,336,679–58,934,236 bp) and 22 (35,890,398–48,603,847 bp) for femoral shaft section modulus. The ten primary phenotypes had 12 associations with 100K SNPs in GEE models at p < 0.000001 and 2 associations in FBAT models at p < 0.000001. The 25 most significant p-values for GEE and FBAT were all less than 3.5 × 10 -6  and 2.5 × 10 -5 , respectively. Of the 40 top SNPs with the greatest numbers of significantly associated BMD traits (including femoral neck, trochanter, and lumbar spine), one half to two-thirds were in or near genes that have  not  previously been studied for osteoporosis. Notably, pleiotropic associations between BMD and bone geometric traits were uncommon. Evidence for association (FBAT or GEE p < 0.05) was observed for several SNPs in candidate genes for osteoporosis, such as rs1801133 in  MTHFR ; rs1884052 and rs3778099 in  ESR1 ; rs4988300 in  LRP5 ; rs2189480 in  VDR ; rs2075555 in  COLIA1 ; rs10519297 and rs2008691 in  CYP19 , as well as SNPs in  PPARG  (rs10510418 and rs2938392) and  ANKH  (rs2454873 and rs379016). All GEE, FBAT and linkage results are provided as an open-access results resource at  . The FHS 100K SNP project offers an unbiased genome-wide strategy to identify new candidate loci and to replicate previously suggested candidate genes for osteoporosis.\n",
      "\n",
      "20041166\n",
      "hiv-1 infection http://www.ebi.ac.uk/efo/EFO_0000180\n",
      "hiv-1 infection http://www.ebi.ac.uk/efo/EFO_0000180\n",
      "human immunodeficiency virus, type 1|hiv-1 seropositive|human immunodeficiency virus 1\n",
      "Common genetic variation and the control of HIV-1 in humans.\n",
      "Common Genetic Variation and the Control of HIV-1 in Humans To extend the understanding of host genetic determinants of HIV-1 control, we performed a genome-wide association study in a cohort of 2,554 infected Caucasian subjects. The study was powered to detect common genetic variants explaining down to 1.3% of the variability in viral load at set point. We provide overwhelming confirmation of three associations previously reported in a genome-wide study and show further independent effects of both common and rare variants in the Major Histocompatibility Complex region (MHC). We also examined the polymorphisms reported in previous candidate gene studies and fail to support a role for any variant outside of the MHC or the chemokine receptor cluster on chromosome 3. In addition, we evaluated functional variants, copy-number polymorphisms, epistatic interactions, and biological pathways. This study thus represents a comprehensive assessment of common human genetic variation in HIV-1 control in Caucasians. The ability to spontaneously control HIV-1 upon infection is highly variable between individuals. To evaluate the contribution of variation in human genes to differences in plasma viral load and in disease progression rates, we performed a genome-wide association study in >2,500 HIV–infected individuals. This study achieved two goals: it completed the analysis of common variation influencing viral control, and it re-assessed the majority of previously reported genetic associations. We show that genetic variants located near the  HLA-B  and  HLA-C  genes are the strongest determinants of viral control, and that other independent associations exist in the same region of chromosome 6, the Major Histocompatibility Complex, known to contain a large number of genes involved in immune defense. We could not replicate most of the previously published associations with HIV candidate genes in this large, well-characterized cohort. Overall, common human genetic variation, together with demographic variables, explains up to 22% of the variability in viral load in the Caucasian population.\n",
      "\n",
      "19430483\n",
      "systolic blood pressure http://www.ebi.ac.uk/efo/EFO_0006335\n",
      "diastolic blood pressure http://www.ebi.ac.uk/efo/EFO_0006336\n",
      "diastolic blood pressure http://www.ebi.ac.uk/efo/EFO_0006336\n",
      "diastolic pressure|diabp\n",
      "Genome-wide association study identifies eight loci associated with blood pressure.\n",
      "Eight blood pressure loci identified by genome-wide association study of 34,433 people of European ancestry Elevated blood pressure is a common, heritable cause of cardiovascular disease worldwide. To date, identification of common genetic variants influencing blood pressure has proven challenging. We tested 2.5m genotyped and imputed SNPs for association with systolic and diastolic blood pressure in 34,433 subjects of European ancestry from the Global BPgen consortium and followed up findings with direct genotyping (N≤71,225 European ancestry, N=12,889 Indian Asian ancestry) and  in silico  comparison (CHARGE consortium, N=29,136). We identified association between systolic or diastolic blood pressure and common variants in 8 regions near the  CYP17A1  ( P =7×10 −24 ),  CYP1A2  ( P =1×10 −23 ),  FGF5  ( P =1×10 −21 ),  SH2B3  ( P =3×10 −18 ),  MTHFR  ( P =2×10 −13 ),  c10orf107  ( P =1×10 −9 ),  ZNF652  ( P =5×10 −9 ) and  PLCD3  ( P =1×10 −8 ) genes. All variants associated with continuous blood pressure were associated with dichotomous hypertension. These associations between common variants and blood pressure and hypertension offer mechanistic insights into the regulation of blood pressure and may point to novel targets for interventions to prevent cardiovascular disease.\n",
      "\n"
     ]
    }
   ],
   "source": [
    "from extractor.util import gold_phen_recall\n",
    "kb = KnowledgeBase()\n",
    "id2doc = {doc.name : doc for doc in corpus.documents}\n",
    "\n",
    "phen_not_found = list(gold_phen_recall(phen_c, gold_set_phens, phen2id))\n",
    "print len(phen_not_found)\n",
    "for doc_id, phen_id in phen_not_found[:100]:\n",
    "    if len(gold_dict_phen[doc_id]) > 3: continue\n",
    "    print doc_id\n",
    "    for phen_id2 in gold_dict_phen[doc_id]:\n",
    "        print id2phen[phen_id2].name, phen_id2\n",
    "#     print gold_dict_phen[doc_id]\n",
    "    print id2phen[phen_id].name, id2phen[phen_id].ontology_ref\n",
    "    print id2phen[phen_id].synonyms    \n",
    "    print kb.title_by_pmid(doc_id)\n",
    "    print ' '.join(s.text for s in id2doc[doc_id].sentences)\n",
    "    print"
   ]
  },
  {
   "cell_type": "markdown",
   "metadata": {},
   "source": [
    "#### Over aggregate phenotypes"
   ]
  },
  {
   "cell_type": "markdown",
   "metadata": {},
   "source": [
    "## Extraction performance"
   ]
  },
  {
   "cell_type": "markdown",
   "metadata": {},
   "source": [
    "## Classification performance"
   ]
  },
  {
   "cell_type": "code",
   "execution_count": null,
   "metadata": {
    "collapsed": true
   },
   "outputs": [],
   "source": []
  }
 ],
 "metadata": {
  "kernelspec": {
   "display_name": "Python 2",
   "language": "python",
   "name": "python2"
  },
  "language_info": {
   "codemirror_mode": {
    "name": "ipython",
    "version": 2
   },
   "file_extension": ".py",
   "mimetype": "text/x-python",
   "name": "python",
   "nbconvert_exporter": "python",
   "pygments_lexer": "ipython2",
   "version": "2.7.2"
  }
 },
 "nbformat": 4,
 "nbformat_minor": 0
}
