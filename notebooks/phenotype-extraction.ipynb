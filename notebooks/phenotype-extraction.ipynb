{
 "cells": [
  {
   "cell_type": "markdown",
   "metadata": {},
   "source": [
    "# Phenotype extraction"
   ]
  },
  {
   "cell_type": "code",
   "execution_count": 172,
   "metadata": {
    "collapsed": false
   },
   "outputs": [
    {
     "name": "stdout",
     "output_type": "stream",
     "text": [
      "The autoreload extension is already loaded. To reload it, use:\n",
      "  %reload_ext autoreload\n"
     ]
    }
   ],
   "source": [
    "%load_ext autoreload\n",
    "%autoreload 2\n",
    "\n",
    "import sys\n",
    "import cPickle\n",
    "\n",
    "# import snorkel and gwasdb\n",
    "sys.path.append('../snorkel')\n",
    "sys.path.append('../src')\n",
    "sys.path.append('../src/crawler')\n",
    "\n",
    "# set up paths\n",
    "abstract_dir = '../data/db/papers'\n",
    "\n",
    "# set up matplotlib\n",
    "import matplotlib\n",
    "%matplotlib inline\n",
    "matplotlib.rcParams['figure.figsize'] = (12,4)"
   ]
  },
  {
   "cell_type": "markdown",
   "metadata": {},
   "source": [
    "## Extract phenotype candidates from papers"
   ]
  },
  {
   "cell_type": "markdown",
   "metadata": {},
   "source": [
    "### Load corpus"
   ]
  },
  {
   "cell_type": "code",
   "execution_count": 173,
   "metadata": {
    "collapsed": false
   },
   "outputs": [],
   "source": [
    "from snorkel.parser import XMLDocParser\n",
    "from extractor.parser import UnicodeXMLDocParser, GWASXMLDocParser\n",
    "\n",
    "xml_parser = GWASXMLDocParser(\n",
    "    path=abstract_dir,\n",
    "    doc='./*',\n",
    "    title='.//front//article-title//text()',\n",
    "    abstract='.//abstract//p//text()',\n",
    "    par1='.//body/p[1]//text()',\n",
    "    id='.//article-id[@pub-id-type=\"pmid\"]/text()',\n",
    "    keep_xml_tree=True)"
   ]
  },
  {
   "cell_type": "code",
   "execution_count": 94,
   "metadata": {
    "collapsed": false
   },
   "outputs": [
    {
     "name": "stdout",
     "output_type": "stream",
     "text": [
      "CPU times: user 2.4 s, sys: 237 ms, total: 2.64 s\n",
      "Wall time: 36.6 s\n"
     ]
    }
   ],
   "source": [
    "from snorkel.parser import HTMLParser\n",
    "from snorkel.parser import SentenceParser\n",
    "from snorkel.parser import CorpusParser\n",
    "\n",
    "sent_parser = SentenceParser()\n",
    "html_parser = HTMLParser(path='../data/db/papers/')\n",
    "\n",
    "corpus_name = 'gwas-text-corpus.pkl'\n",
    "\n",
    "try:\n",
    "    with open(corpus_name,\"r\") as pkl:\n",
    "        corpus = cPickle.load(pkl)\n",
    "except:\n",
    "    cp = CorpusParser(xml_parser, sent_parser, max_docs=100)\n",
    "    %time corpus = cp.parse_corpus(name='GWAS Corpus')\n",
    "    # pickling currently doesn't work...\n",
    "#     with open(corpus_name,\"w\") as pkl:\n",
    "#         corpus = cPickle.dump(corpus, pkl)"
   ]
  },
  {
   "cell_type": "markdown",
   "metadata": {},
   "source": [
    "### Extract candidates"
   ]
  },
  {
   "cell_type": "code",
   "execution_count": 177,
   "metadata": {
    "collapsed": false
   },
   "outputs": [
    {
     "name": "stdout",
     "output_type": "stream",
     "text": [
      "CPU times: user 28.6 s, sys: 184 ms, total: 28.8 s\n",
      "Wall time: 28.9 s\n",
      "2612 candidates extracted\n"
     ]
    }
   ],
   "source": [
    "from snorkel.candidates import Ngrams\n",
    "from snorkel.matchers import DictionaryMatch\n",
    "from snorkel.candidates import EntityExtractor\n",
    "\n",
    "from extractor.util import change_name\n",
    "from extractor.matcher import PhenotypeMatcher\n",
    "from db.kb import KnowledgeBase\n",
    "\n",
    "# Define a candidate space\n",
    "ngrams = Ngrams(n_max=4)\n",
    "\n",
    "# collect phenotype list\n",
    "kb = KnowledgeBase()\n",
    "# phenotype_list = kb.get_phenotype_candidates()\n",
    "phenotype_list = kb.get_phenotype_candidates_cheating() # TODO: revert to correct one!\n",
    "\n",
    "# Define matchers\n",
    "# phen_matcher = DictionaryMatch(d=phenotype_list, longest_match_only=True, ignore_case=True, stemmer='porter')\n",
    "phen_matcher = PhenotypeMatcher(d=phenotype_list, ignore_case=True, mod_fn=change_name)\n",
    "\n",
    "# Extractor\n",
    "ngrams = Ngrams(n_max=7) # TODO Ngrams=7 or 4??\n",
    "phen_extractor = EntityExtractor(ngrams, phen_matcher)\n",
    "\n",
    "# collect candidates\n",
    "%time phen_c = phen_extractor.extract(corpus.get_sentences(), name='all')\n",
    "print len(phen_c), 'candidates extracted'"
   ]
  },
  {
   "cell_type": "markdown",
   "metadata": {},
   "source": [
    "We would like to remove nested candidates (manually, for now)."
   ]
  },
  {
   "cell_type": "code",
   "execution_count": 178,
   "metadata": {
    "collapsed": false
   },
   "outputs": [
    {
     "name": "stdout",
     "output_type": "stream",
     "text": [
      "1165 candidates dropped, now we have 1447\n"
     ]
    }
   ],
   "source": [
    "# load existing candidates into a dict\n",
    "span_dict = { str(span.context) : list() for span in phen_c }\n",
    "for span in phen_c:\n",
    "    span_dict[str(span.context)].append( (span.char_start, span.char_end) )\n",
    "\n",
    "def nested(ivl1, ivl2):\n",
    "    if ivl1 != ivl2 and ivl2[0] <= ivl1[0] <= ivl1[1] <= ivl2[1]:\n",
    "        return True\n",
    "    else:\n",
    "        return False\n",
    "\n",
    "new_phen_c = list()\n",
    "for span in phen_c:\n",
    "    span_ivl = span.char_start, span.char_end\n",
    "    span_name = str(span.context)\n",
    "    if all([not nested(span_ivl, other_ivl) for other_ivl in span_dict[span_name]]):\n",
    "        new_phen_c.append(span)\n",
    "        \n",
    "print len(phen_c) - len(new_phen_c), 'candidates dropped, now we have', len(new_phen_c)\n",
    "phen_c = new_phen_c"
   ]
  },
  {
   "cell_type": "markdown",
   "metadata": {},
   "source": [
    "### Create gold-truth set"
   ]
  },
  {
   "cell_type": "code",
   "execution_count": 179,
   "metadata": {
    "collapsed": false
   },
   "outputs": [
    {
     "name": "stdout",
     "output_type": "stream",
     "text": [
      "Found 322 gold mentions, e.g.:\n",
      "[('17658951', u'http://www.ebi.ac.uk/efo/EFO_0004764'), ('17903294', u'http://purl.obolibrary.org/obo/GO_0070527'), ('20038947', u'http://www.ebi.ac.uk/efo/EFO_0003761'), ('19197348', u'http://www.ebi.ac.uk/efo/EFO_0004748'), ('17658951', u'http://www.ebi.ac.uk/efo/EFO_0004626')]\n",
      "814 216\n"
     ]
    }
   ],
   "source": [
    "from db.kb import KnowledgeBase\n",
    "from nltk.stem import PorterStemmer\n",
    "from extractor.util import change_name\n",
    "\n",
    "kb = KnowledgeBase() # reload\n",
    "gold_set_phens = frozenset \\\n",
    "([ \n",
    "    (doc.name, phen.ontology_ref) for doc in corpus.documents \n",
    "                                  for phen in kb.phen_by_pmid(doc.name, source='efo')\n",
    "])\n",
    "\n",
    "# map phenotype names to their id\n",
    "# TODO: change this to be like in the version below! (i.e. using sets)\n",
    "phen2id = \\\n",
    "{\n",
    "    change_name(syn) : phen.ontology_ref for doc in corpus.documents\n",
    "                                                  for phen in kb.phen_by_pmid(doc.name, source='efo')\n",
    "                                                  for syn in [phen.name] + phen.synonyms.split('|')\n",
    "}\n",
    "\n",
    "id2phen = \\\n",
    "{\n",
    "    phen.ontology_ref : phen for doc in corpus.documents\n",
    "                             for phen in kb.phen_by_pmid(doc.name, source='efo')\n",
    "}\n",
    "\n",
    "print 'Found %d gold mentions, e.g.:' % len(gold_set_phens)\n",
    "print list(gold_set_phens)[:5]\n",
    "print len(phen2id), len(id2phen)"
   ]
  },
  {
   "cell_type": "markdown",
   "metadata": {},
   "source": [
    "## Statistics"
   ]
  },
  {
   "cell_type": "markdown",
   "metadata": {},
   "source": [
    "First, we need to understand whether the extraction or the classification approach will be better."
   ]
  },
  {
   "cell_type": "markdown",
   "metadata": {},
   "source": [
    "### Number of phenotypes per paper"
   ]
  },
  {
   "cell_type": "markdown",
   "metadata": {},
   "source": [
    "#### Number of EFO phenotypes per paper"
   ]
  },
  {
   "cell_type": "code",
   "execution_count": 180,
   "metadata": {
    "collapsed": false
   },
   "outputs": [
    {
     "name": "stdout",
     "output_type": "stream",
     "text": [
      "EFO phenotype numbers per paper: [1, 1, 1, 1, 1, 1, 1, 1, 1, 1, 1, 1, 1, 1, 1, 1, 1, 1, 1, 1, 1, 1, 1, 1, 1, 1, 1, 1, 1, 1, 1, 1, 1, 1, 1, 1, 1, 1, 1, 1, 1, 1, 1, 1, 1, 1, 1, 1, 1, 1, 1, 1, 1, 1, 1, 1, 1, 1, 1, 1, 1, 1, 1, 1, 1, 2, 2, 2, 2, 2, 2, 2, 2, 2, 2, 2, 2, 2, 3, 3, 3, 4, 4, 4, 4, 4, 5, 5, 5, 6, 6, 7, 7, 7, 10, 11, 13, 17, 37, 66]\n"
     ]
    }
   ],
   "source": [
    "docid2efo = \\\n",
    "{\n",
    "    doc.name : [ phen.name for phen in kb.phen_by_pmid(doc.name, source='efo') ] for doc in corpus.documents\n",
    "}\n",
    "print 'EFO phenotype numbers per paper:', sorted([len(v) for v in docid2efo.values()])"
   ]
  },
  {
   "cell_type": "markdown",
   "metadata": {},
   "source": [
    "#### Number of GWAS catalog (i.e. aggregate) phenotypes per paper"
   ]
  },
  {
   "cell_type": "code",
   "execution_count": 181,
   "metadata": {
    "collapsed": false
   },
   "outputs": [
    {
     "name": "stdout",
     "output_type": "stream",
     "text": [
      "GWAS catalog phenotype numbers per paper: [1, 1, 1, 1, 1, 1, 1, 1, 1, 1, 1, 1, 1, 1, 1, 1, 1, 1, 1, 1, 1, 1, 1, 1, 1, 1, 1, 1, 1, 1, 1, 1, 1, 1, 1, 1, 1, 1, 1, 1, 1, 1, 1, 1, 1, 1, 1, 1, 1, 1, 1, 1, 1, 1, 1, 1, 1, 1, 1, 1, 1, 1, 1, 1, 1, 1, 1, 1, 1, 1, 1, 1, 1, 1, 1, 1, 1, 1, 1, 1, 1, 1, 2, 2, 2, 2, 2, 2, 2, 2, 2, 2, 2, 2, 2, 2, 3, 3, 3, 3]\n"
     ]
    }
   ],
   "source": [
    "docid2efo = \\\n",
    "{\n",
    "    doc.name : [ phen.name for phen in kb.phen_by_pmid(doc.name, source='gwas_catalog') ] for doc in corpus.documents\n",
    "}\n",
    "print 'GWAS catalog phenotype numbers per paper:', sorted([len(v) for d, v in docid2efo.items()])"
   ]
  },
  {
   "cell_type": "markdown",
   "metadata": {},
   "source": [
    "### Candidate recall statistics"
   ]
  },
  {
   "cell_type": "markdown",
   "metadata": {},
   "source": [
    "#### Over EFO phenotypes"
   ]
  },
  {
   "cell_type": "code",
   "execution_count": 182,
   "metadata": {
    "collapsed": false
   },
   "outputs": [
    {
     "name": "stdout",
     "output_type": "stream",
     "text": [
      "Statistics over EFO phenotypes:\n",
      "# of gold annotations\t= 322\n",
      "# of candidates\t\t= 1447\n",
      "Candidate recall\t= 0.425\n",
      "Candidate precision\t= 0.095\n"
     ]
    }
   ],
   "source": [
    "from extractor.util import gold_phen_stats\n",
    "gold_phen_stats(phen_c, gold_set_phens, phen2id)"
   ]
  },
  {
   "cell_type": "markdown",
   "metadata": {},
   "source": [
    "Why is the recall low?"
   ]
  },
  {
   "cell_type": "code",
   "execution_count": 183,
   "metadata": {
    "collapsed": false
   },
   "outputs": [
    {
     "name": "stdout",
     "output_type": "stream",
     "text": [
      "185\n",
      "19798445\n",
      "blood metabolite measurement http://www.ebi.ac.uk/efo/EFO_0005664\n",
      "sphingolipid measurement http://www.ebi.ac.uk/efo/EFO_0004622\n",
      "blood metabolite measurement http://www.ebi.ac.uk/efo/EFO_0005664\n",
      "\n",
      "Genetic determinants of circulating sphingolipid concentrations in European populations.\n",
      "Genetic Determinants of Circulating Sphingolipid Concentrations in European Populations. Sphingolipids have essential roles as structural components of cell membranes and in cell signalling, and disruption of their metabolism causes several diseases, with diverse neurological, psychiatric, and metabolic consequences. Increasingly, variants within a few of the genes that encode enzymes involved in sphingolipid metabolism are being associated with complex disease phenotypes. Direct experimental evidence supports a role of specific sphingolipid species in several common complex chronic disease processes including atherosclerotic plaque formation, myocardial infarction (MI), cardiomyopathy, pancreatic β-cell failure, insulin resistance, and type 2 diabetes mellitus. Therefore, sphingolipids represent novel and important intermediate phenotypes for genetic analysis, yet little is known about the major genetic variants that influence their circulating levels in the general population. We performed a genome-wide association study (GWAS) between 318,237 single-nucleotide polymorphisms (SNPs) and levels of circulating sphingomyelin (SM), dihydrosphingomyelin (Dih-SM), ceramide (Cer), and glucosylceramide (GluCer) single lipid species (33 traits); and 43 matched metabolite ratios measured in 4,400 subjects from five diverse European populations. Associated variants (32) in five genomic regions were identified with genome-wide significant corrected  p -values ranging down to 9.08×10 −66 . The strongest associations were observed in or near 7 genes functionally involved in ceramide biosynthesis and trafficking:  SPTLC3 ,  LASS4 ,  SGPP1 ,  ATP10D , and  FADS1–3 . Variants in 3 loci ( ATP10D ,  FADS3 , and  SPTLC3 ) associate with MI in a series of three German MI studies. An additional 70 variants across 23 candidate genes involved in sphingolipid-metabolizing pathways also demonstrate association ( p  = 10 −4  or less). Circulating concentrations of several key components in sphingolipid metabolism are thus under strong genetic control, and variants in these loci can be tested for a role in the development of common cardiovascular, metabolic, neurological, and psychiatric diseases. Although several rare monogenic diseases are caused by defects in enzymes involved in sphingolipid biosynthesis and metabolism, little is known about the major variants that control the circulating levels of these important bioactive molecules. As well as being essential components of plasma membranes and endosomes, sphingolipids play critical roles in cell surface protection, protein and lipid transport and sorting, and cellular signalling cascades. Experimental evidence supports a role for sphingolipids in several common complex chronic metabolic, cardiovascular, or neurological disease processes. Therefore, sphingolipids represent novel and important intermediate phenotypes for genetic analysis, and discovering the genetic variants that influence their circulating concentrations is an important step towards understanding how the genetic control of sphingolipids might contribute to common human disease. We have identified 32 variants in 7 genes that have a strong effect on the circulating plasma levels of 33 distinct sphingolipids, and 43 matched metabolite ratios. In a series of 3 German MI studies, we see association with MI for variants in 3 of the genes tested. Further cardiovascular, metabolic, neurological, and psychiatric disease associations can be tested with the variants described here, which may identify additional disease risk and potentially useful therapeutic targets.\n",
      "\n",
      "17903300\n",
      "waist circumference http://www.ebi.ac.uk/efo/EFO_0004342\n",
      "body mass index http://www.ebi.ac.uk/efo/EFO_0004340\n",
      "longitudinal bmi measurement http://www.ebi.ac.uk/efo/EFO_0005937\n",
      "longitudinal bmi measurement http://www.ebi.ac.uk/efo/EFO_0005937\n",
      "body mass index change measurement\n",
      "Genome-wide association to body mass index and waist circumference: the Framingham Heart Study 100K project.\n",
      "Genome-wide association to body mass index and waist circumference: the Framingham Heart Study 100K project. Obesity is related to multiple cardiovascular disease (CVD) risk factors as well as CVD and has a strong familial component. We tested for association between SNPs on the Affymetrix 100K SNP GeneChip and measures of adiposity in the Framingham Heart Study. A total of 1341 Framingham Heart Study participants in 310 families genotyped with the Affymetrix 100K SNP GeneChip had adiposity traits measured over 30 years of follow up. Body mass index (BMI), waist circumference (WC), weight change, height, and radiographic measures of adiposity (subcutaneous adipose tissue, visceral adipose tissue, waist circumference, sagittal height) were measured at multiple examination cycles. Multivariable-adjusted residuals, adjusting for age, age-squared, sex, smoking, and menopausal status, were evaluated in association with the genotype data using additive Generalized Estimating Equations (GEE) and Family Based Association Test (FBAT) models. We prioritized mean BMI over offspring examinations (1–7) and cohort examinations (10, 16, 18, 20, 22, 24, 26) and mean WC over offspring examinations (4–7) for presentation. We evaluated associations with 70,987 SNPs on autosomes with minor allele frequencies of at least 0.10, Hardy-Weinberg equilibrium p ≥ 0.001, and call rates of at least 80%. The top SNPs to be associated with mean BMI and mean WC by GEE were rs110683 (p-value 1.22*10 -7 ) and rs4471028 (p-values 1.96*10 -7 ). Please see   for the complete set of results. We were able to validate SNPs in known genes that have been related to BMI or other adiposity traits, including the  ESR1  Xba1 SNP,  PPARG , and  ADIPOQ . Adiposity traits are associated with SNPs on the Affymetrix 100K SNP GeneChip. Replication of these initial findings is necessary. These data will serve as a resource for replication as more genes become identified with BMI and WC.\n",
      "\n",
      "19570815\n",
      "body height http://www.ebi.ac.uk/efo/EFO_0004339\n",
      "anthropometry http://www.ebi.ac.uk/efo/EFO_0004302\n",
      "anthropometry http://www.ebi.ac.uk/efo/EFO_0004302\n",
      "anthropometric traits\n",
      "A genome-wide association study of northwestern Europeans involves the C-type natriuretic peptide signaling pathway in the etiology of human height variation.\n",
      "A genome-wide association study of northwestern Europeans involves the C-type natriuretic peptide signaling pathway in the etiology of human height variation. Northwestern Europeans are among the tallest of human populations. The increase in body height in these people appears to have reached a plateau, suggesting the ubiquitous presence of an optimal environment in which genetic factors may have exerted a particularly strong influence on human growth. Therefore, we performed a genome-wide association study (GWAS) of body height using 2.2 million markers in 10 074 individuals from three Dutch and one German population-based cohorts. Upon genotyping, the 12 most significantly height-associated single nucleotide polymorphisms (SNPs) from this GWAS in 6912 additional individuals of Dutch and Swedish origin, a genetic variant (rs6717918) on chromosome 2q37.1 was found to be associated with height at a genome-wide significance level ( P combined  = 3.4 × 10 −9 ). Notably, a second SNP (rs6718438) located ∼450 bp away and in strong LD ( r 2  = 0.77) with rs6717918 was previously found to be suggestive of a height association in 29 820 individuals of mainly northwestern European ancestry, and the over-expression of a nearby natriuretic peptide precursor type C ( NPPC ) gene, has been associated with overgrowth and skeletal anomalies. We also found a SNP (rs10472828) located on 5p14 near the natriuretic peptide receptor 3 ( NPR3 ) gene, encoding a receptor of the NPPC ligand, to be associated with body height ( P combined  = 2.1 × 10 −7 ). Taken together, these results suggest that variation in the C-type natriuretic peptide signaling pathway, involving the  NPPC  and  NPR3  genes, plays an important role in determining human body height.\n",
      "\n",
      "19343178\n",
      "body height http://www.ebi.ac.uk/efo/EFO_0004339\n",
      "anthropometry http://www.ebi.ac.uk/efo/EFO_0004302\n",
      "anthropometry http://www.ebi.ac.uk/efo/EFO_0004302\n",
      "anthropometric traits\n",
      "Meta-analysis of genome-wide scans for human adult stature identifies novel Loci and associations with measures of skeletal frame size.\n",
      "Meta-Analysis of Genome-Wide Scans for Human Adult Stature Identifies Novel Loci and Associations with Measures of Skeletal Frame Size. Recent genome-wide (GW) scans have identified several independent loci affecting human stature, but their contribution through the different skeletal components of height is still poorly understood. We carried out a genome-wide scan in 12,611 participants, followed by replication in an additional 7,187 individuals, and identified 17 genomic regions with GW-significant association with height. Of these, two are entirely novel (rs11809207 in  CATSPER4 , combined  P -value = 6.1×10 −8  and rs910316 in  TMED10 ,  P -value = 1.4×10 −7 ) and two had previously been described with weak statistical support (rs10472828 in  NPR3 ,  P -value = 3×10 −7  and rs849141 in  JAZF1 ,  P -value = 3.2×10 −11 ). One locus (rs1182188 at  GNA12 ) identifies the first height eQTL. We also assessed the contribution of height loci to the upper- (trunk) and lower-body (hip axis and femur) skeletal components of height. We find evidence for several loci associated with trunk length (including rs6570507 in  GPR126 ,  P -value = 4×10 −5  and rs6817306 in  LCORL ,  P -value = 4×10 −4 ), hip axis length (including rs6830062 at  LCORL ,  P -value = 4.8×10 −4  and rs4911494 at  UQCC ,  P -value = 1.9×10 −4 ), and femur length (including rs710841 at  PRKG2 ,  P -value = 2.4×10 −5  and rs10946808 at  HIST1H1D ,  P -value = 6.4×10 −6 ). Finally, we used conditional analyses to explore a possible differential contribution of the height loci to these different skeletal size measurements. In addition to validating four novel loci controlling adult stature, our study represents the first effort to assess the contribution of genetic loci to three skeletal components of height. Further statistical tests in larger numbers of individuals will be required to verify if the height loci affect height preferentially through these subcomponents of height. The first genetic association studies of adult height have confirmed a role of many common variants in influencing human height, but to date, the genetic basis of differences between different skeletal components of height have not been addressed. Here, we take advantage of recent technical and methodological advances to examine the role of common genetic variants on both height and skeletal components of height. By examining nearly 20,000 individuals from the UK and the Netherlands, we provide statistically significant evidence that 17 genomic regions are associated with height, including four novel regions. We also examine, for the first time, the association of these 17 regions with skeletal size measurements of spine, femur, and hip axis length, a measurement of hip geometry known to influence the risk of osteoporotic fractures. We find that some height loci are also associated with these skeletal components, although further statistical tests will be required to verify if these genetic variants act differentially on the individual skeletal measurements. The knowledge generated by this and other studies will not only inform the genetics of human quantitative variation, but will also lead to the potential discovery of many medically important polymorphisms.\n",
      "\n",
      "19300499\n",
      "response to anticoagulant http://purl.obolibrary.org/obo/GO_0061476\n",
      "response to anticoagulant http://purl.obolibrary.org/obo/GO_0061476\n",
      "\n",
      "A genome-wide association study confirms VKORC1, CYP2C9, and CYP4F2 as principal genetic determinants of warfarin dose.\n",
      "A Genome-Wide Association Study Confirms  VKORC1 ,  CYP2C9 , and  CYP4F2  as Principal Genetic Determinants of Warfarin Dose. We report the first genome-wide association study (GWAS) whose sample size (1,053 Swedish subjects) is sufficiently powered to detect genome-wide significance ( p <1.5×10 −7 ) for polymorphisms that modestly alter therapeutic warfarin dose. The anticoagulant drug warfarin is widely prescribed for reducing the risk of stroke, thrombosis, pulmonary embolism, and coronary malfunction. However, Caucasians vary widely (20-fold) in the dose needed for therapeutic anticoagulation, and hence prescribed doses may be too low (risking serious illness) or too high (risking severe bleeding). Prior work established that ∼30% of the dose variance is explained by single nucleotide polymorphisms (SNPs) in the warfarin drug target  VKORC1  and another ∼12% by two non-synonymous SNPs ( *2 ,  *3 ) in the cytochrome P450 warfarin-metabolizing gene  CYP2C9 . We initially tested each of 325,997 GWAS SNPs for association with warfarin dose by univariate regression and found the strongest statistical signals ( p <10 −78 ) at SNPs clustering near  VKORC1  and the second lowest p-values ( p <10 −31 ) emanating from  CYP2C9 . No other SNPs approached genome-wide significance. To enhance detection of weaker effects, we conducted multiple regression adjusting for known influences on warfarin dose ( VKORC1 ,  CYP2C9 , age, gender) and identified a single SNP (rs2108622) with genome-wide significance ( p  = 8.3×10 −10 ) that alters protein coding of the  CYP4F2  gene. We confirmed this result in 588 additional Swedish patients ( p <0.0029) and, during our investigation, a second group provided independent confirmation from a scan of warfarin-metabolizing genes. We also thoroughly investigated copy number variations, haplotypes, and imputed SNPs, but found no additional highly significant warfarin associations. We present power analysis of our GWAS that is generalizable to other studies, and conclude we had 80% power to detect genome-wide significance for common causative variants or markers explaining at least 1.5% of dose variance. These GWAS results provide further impetus for conducting large-scale trials assessing patient benefit from genotype-based forecasting of warfarin dose. Recently, geneticists have begun assaying hundreds of thousands of genetic markers covering the entire human genome to systematically search for and identify genes that cause disease. We have extended this “genome-wide association study” (GWAS) method by assaying ∼326,000 markers in 1,053 Swedish patients in order to identify genes that alter response to the anticoagulant drug warfarin. Warfarin is widely prescribed to reduce blood clotting in order to protect high-risk patients from stroke, thrombosis, and heart attack. But patients vary widely (20-fold) in the warfarin dose needed for proper blood thinning, which means that initial doses in some patients are too high (risking severe bleeding) or too low (risking serious illness). Our GWAS detected two genes ( VKORC1 ,  CYP2C9 ) already known to cause ∼40% of the variability in warfarin dose and discovered a new gene ( CYP4F2 ) contributing 1%–2% of the variability. Since our GWAS searched the entire genome, additional genes having a major influence on warfarin dose might not exist or be found in the near-term. Hence, clinical trials assessing patient benefit from individualized dose forecasting based on a patient's genetic makeup at  VKORC1 ,  CYP2C9  and possibly  CYP4F2  could provide state-of-the-art clinical benchmarks for warfarin use during the foreseeable future.\n",
      "\n",
      "17903296\n",
      "bone density http://www.ebi.ac.uk/efo/EFO_0003923\n",
      "hip geometry http://www.ebi.ac.uk/efo/EFO_0004685\n",
      "hip geometry http://www.ebi.ac.uk/efo/EFO_0004685\n",
      "\n",
      "Genome-wide association with bone mass and geometry in the Framingham Heart Study.\n",
      "Genome-wide association with bone mass and geometry in the Framingham Heart Study. Osteoporosis is characterized by low bone mass and compromised bone structure, heritable traits that contribute to fracture risk. There have been no genome-wide association and linkage studies for these traits using high-density genotyping platforms. We used the Affymetrix 100K SNP GeneChip marker set in the Framingham Heart Study (FHS) to examine genetic associations with ten primary quantitative traits: bone mineral density (BMD), calcaneal ultrasound, and geometric indices of the hip. To test associations with multivariable-adjusted residual trait values, we used additive generalized estimating equation (GEE) and family-based association tests (FBAT) models within each sex as well as sexes combined. We evaluated 70,987 autosomal SNPs with genotypic call rates ≥80%, HWE p ≥ 0.001, and MAF ≥10% in up to 1141 phenotyped individuals (495 men and 646 women, mean age 62.5 yrs). Variance component linkage analysis was performed using 11,200 markers. Heritability estimates for all bone phenotypes were 30–66%. LOD scores ≥3.0 were found on chromosomes 15 (1.5 LOD confidence interval: 51,336,679–58,934,236 bp) and 22 (35,890,398–48,603,847 bp) for femoral shaft section modulus. The ten primary phenotypes had 12 associations with 100K SNPs in GEE models at p < 0.000001 and 2 associations in FBAT models at p < 0.000001. The 25 most significant p-values for GEE and FBAT were all less than 3.5 × 10 -6  and 2.5 × 10 -5 , respectively. Of the 40 top SNPs with the greatest numbers of significantly associated BMD traits (including femoral neck, trochanter, and lumbar spine), one half to two-thirds were in or near genes that have  not  previously been studied for osteoporosis. Notably, pleiotropic associations between BMD and bone geometric traits were uncommon. Evidence for association (FBAT or GEE p < 0.05) was observed for several SNPs in candidate genes for osteoporosis, such as rs1801133 in  MTHFR ; rs1884052 and rs3778099 in  ESR1 ; rs4988300 in  LRP5 ; rs2189480 in  VDR ; rs2075555 in  COLIA1 ; rs10519297 and rs2008691 in  CYP19 , as well as SNPs in  PPARG  (rs10510418 and rs2938392) and  ANKH  (rs2454873 and rs379016). All GEE, FBAT and linkage results are provided as an open-access results resource at  . The FHS 100K SNP project offers an unbiased genome-wide strategy to identify new candidate loci and to replicate previously suggested candidate genes for osteoporosis.\n",
      "\n",
      "18262040\n",
      "total cholesterol measurement http://www.ebi.ac.uk/efo/EFO_0004574\n",
      "lipid measurement http://www.ebi.ac.uk/efo/EFO_0004529\n",
      "low density lipoprotein cholesterol measurement http://www.ebi.ac.uk/efo/EFO_0004611\n",
      "lipid measurement http://www.ebi.ac.uk/efo/EFO_0004529\n",
      "\n",
      "LDL-cholesterol concentrations: a genome-wide association study.\n",
      "LDL-cholesterol concentrations: a genome-wide association study. LDL cholesterol has a causal role in the development of cardiovascular disease. Improved understanding of the biological mechanisms that underlie the metabolism and regulation of LDL cholesterol might help to identify novel therapeutic targets. We therefore did a genome-wide association study of LDL-cholesterol concentrations. We used genome-wide association data from up to 11 685 participants with measures of circulating LDL-cholesterol concentrations across five studies, including data for 293 461 autosomal single nucleotide polymorphisms (SNPs) with a minor allele frequency of 5% or more that passed our quality control criteria. We also used data from a second genome-wide array in up to 4337 participants from three of these five studies, with data for 290 140 SNPs. We did replication studies in two independent populations consisting of up to 4979 participants. Statistical approaches, including meta-analysis and linkage disequilibrium plots, were used to refine association signals; we analysed pooled data from all seven populations to determine the effect of each SNP on variations in circulating LDL-cholesterol concentrations. In our initial scan, we found two SNPs (rs599839 [p=1·7×10 −15 ] and rs4970834 [p=3·0×10 −11 ]) that showed genome-wide statistical association with LDL cholesterol at chromosomal locus 1p13.3. The second genome screen found a third statistically associated SNP at the same locus (rs646776 [p=4·3×10 −9 ]). Meta-analysis of data from all studies showed an association of SNPs rs599839 (combined p=1·2×10 −33 ) and rs646776 (p=4·8×10 −20 ) with LDL-cholesterol concentrations. SNPs rs599839 and rs646776 both explained around 1% of the variation in circulating LDL-cholesterol concentrations and were associated with about 15% of an SD change in LDL cholesterol per allele, assuming an SD of 1 mmol/L. We found evidence for a novel locus for LDL cholesterol on chromosome 1p13.3. These results potentially provide insight into the biological mechanisms that underlie the regulation of LDL cholesterol and might help in the discovery of novel therapeutic targets for cardiovascular disease.\n",
      "\n"
     ]
    }
   ],
   "source": [
    "from extractor.util import gold_phen_recall\n",
    "kb = KnowledgeBase()\n",
    "id2doc = {doc.name : doc for doc in corpus.documents}\n",
    "gold_dict_phen = { doc_id : set() for doc_id, phen_id in gold_set_phens }\n",
    "for doc_id, phen_id in gold_set_phens:\n",
    "    gold_dict_phen[doc_id].add(phen_id)\n",
    "\n",
    "phen_not_found = list(gold_phen_recall(phen_c, gold_set_phens, phen2id))\n",
    "print len(phen_not_found)\n",
    "for doc_id, phen_id in phen_not_found[:100]:\n",
    "    if len(gold_dict_phen[doc_id]) > 3: continue\n",
    "    print doc_id\n",
    "    for phen_id2 in gold_dict_phen[doc_id]:\n",
    "        print id2phen[phen_id2].name, phen_id2\n",
    "#     print gold_dict_phen[doc_id]\n",
    "    print id2phen[phen_id].name, id2phen[phen_id].ontology_ref\n",
    "    print id2phen[phen_id].synonyms    \n",
    "    print kb.title_by_pmid(doc_id)\n",
    "    print ' '.join(s.text for s in id2doc[doc_id].sentences)\n",
    "    print"
   ]
  },
  {
   "cell_type": "markdown",
   "metadata": {},
   "source": [
    "#### Over aggregate phenotypes"
   ]
  },
  {
   "cell_type": "markdown",
   "metadata": {},
   "source": [
    "We say that a mention for an aggregate phenotype is correct, if it corresponds to the name of the GWC phenotype or to the phenotype of any equivalent EFO phenotype."
   ]
  },
  {
   "cell_type": "code",
   "execution_count": 188,
   "metadata": {
    "collapsed": false
   },
   "outputs": [
    {
     "name": "stdout",
     "output_type": "stream",
     "text": [
      "Found 322 gold mentions, e.g.:\n",
      "[('17658951', u'http://www.ebi.ac.uk/efo/EFO_0004764'), ('17903294', u'http://purl.obolibrary.org/obo/GO_0070527'), ('20038947', u'http://www.ebi.ac.uk/efo/EFO_0003761'), ('19197348', u'http://www.ebi.ac.uk/efo/EFO_0004748'), ('17658951', u'http://www.ebi.ac.uk/efo/EFO_0004626')]\n",
      "814 216\n",
      "Statistics over EFO phenotypes:\n",
      "# of gold annotations\t= 122\n",
      "# of candidates\t\t= 1447\n",
      "# of correct candidates\t= 114\n",
      "Candidate recall\t= 0.934\n",
      "Candidate precision\t= 0.079\n"
     ]
    }
   ],
   "source": [
    "from db.kb import KnowledgeBase\n",
    "from nltk.stem import PorterStemmer\n",
    "from extractor.util import change_name\n",
    "\n",
    "kb = KnowledgeBase() # reload\n",
    "gold_set_agg_phens = frozenset \\\n",
    "([ \n",
    "    (doc.name, phen.id) for doc in corpus.documents \n",
    "                        for phen in kb.phen_by_pmid(doc.name, source='gwas_catalog')\n",
    "])\n",
    "\n",
    "# map phenotype names to their id (EFO syn -> GWC id)\n",
    "agg_phen2id = dict()\n",
    "for doc in corpus.documents:\n",
    "    for phen in kb.phen_by_pmid(doc.name, source='gwas_catalog'):\n",
    "        for eq_phen in phen.equivalents:\n",
    "            for syn in [phen.name] + [eq_phen.name] + eq_phen.synonyms.split('|'):\n",
    "                syn_name = change_name(syn)\n",
    "                if syn_name not in agg_phen2id: agg_phen2id[syn_name] = set()\n",
    "                agg_phen2id[syn_name].add(phen.id)\n",
    "\n",
    "# map ids to phenotypes (GWC id -> GWC phen obj)                \n",
    "agg_id2phen = \\\n",
    "{\n",
    "    phen.id : phen for doc in corpus.documents\n",
    "                   for phen in kb.phen_by_pmid(doc.name, source='gwas_catalog')\n",
    "}\n",
    "\n",
    "print 'Found %d gold mentions, e.g.:' % len(gold_set_phens)\n",
    "print list(gold_set_phens)[:5]\n",
    "print len(phen2id), len(id2phen)\n",
    "\n",
    "from extractor.util import gold_phen_stats, gold_agg_phen_stats\n",
    "gold_agg_phen_stats(phen_c, gold_set_agg_phens, agg_phen2id)"
   ]
  },
  {
   "cell_type": "markdown",
   "metadata": {},
   "source": [
    "Why is the recall low?"
   ]
  },
  {
   "cell_type": "code",
   "execution_count": 190,
   "metadata": {
    "collapsed": false
   },
   "outputs": [
    {
     "name": "stdout",
     "output_type": "stream",
     "text": [
      "8\n",
      "19721433\n",
      "response to antipsychotic treatment 19282\n",
      "\tresponse to antipsychotic drug http://purl.obolibrary.org/obo/GO_0097332 response to antipsychotic treatment\n",
      "\tresponse to perphenazine http://purl.obolibrary.org/obo/GO_0097334 \n",
      "\tresponse to olanzapine http://purl.obolibrary.org/obo/GO_0097333 \n",
      "\tresponse to risperidone http://purl.obolibrary.org/obo/GO_0097336 \n",
      "\tresponse to quetiapine http://purl.obolibrary.org/obo/GO_0097335 \n",
      "\tresponse to clozapine http://purl.obolibrary.org/obo/GO_0097338 \n",
      "\tresponse to ziprasidone http://purl.obolibrary.org/obo/GO_0097337 \n",
      "response to antipsychotic treatment\n",
      "Genomewide Pharmacogenomic Analysis of Response to Treatment with Antipsychotics. Schizophrenia is an often devastating neuropsychiatric illness. Understanding the genetic variation affecting response to antipsychotics is important to develop novel diagnostic tests to match individual schizophrenic patients to the most effective and safe medication. Here we use a genomewide approach to detect genetic variation underlying individual differences in response to treatment with the antipsychotics olanzapine, quetiapine, risperidone, ziprasidone and perphenazine. Our sample consisted of 738 subjects with DSM-IV schizophrenia who took part in the Clinical Antipsychotic Trials of Intervention Effectiveness (CATIE). Subjects were genotyped using the Affymetrix 500K genotyping platform plus a custom 164K chip to improve genomewide coverage. Treatment outcome was measured using the Positive and Negative Syndrome Scale (PANSS). Our criterion for genomewide significance was a pre-specified threshold that ensures, on average, only 10% of the significant findings are false discoveries. The top statistical result reached significance at our pre-specified threshold and involved a SNP in an intergenic region on chromosome 4p15. In addition, SNPs in  ANKS1B  and  CNTNAP5  that mediated the effects of olanzapine and risperidone on Negative symptoms were very close to our threshold for declaring significance. The most significant SNP in  CNTNAP5  is nonsynonymous, giving rise to an amino acid substitution. In addition to highlighting our top results, we provide all  p -values for download as a resource for investigators with the requisite samples to carry out replication. This study demonstrates the potential of GWAS to discover novel genes that mediate effects of antipsychotics, which eventually could help to tailor drug treatment to schizophrenic patients.\n",
      "\n",
      "19300499\n",
      "warfarin maintenance dose 19166\n",
      "\tresponse to anticoagulant http://purl.obolibrary.org/obo/GO_0061476 \n",
      "warfarin maintenance dose\n",
      "A Genome-Wide Association Study Confirms  VKORC1 ,  CYP2C9 , and  CYP4F2  as Principal Genetic Determinants of Warfarin Dose. We report the first genome-wide association study (GWAS) whose sample size (1,053 Swedish subjects) is sufficiently powered to detect genome-wide significance ( p <1.5×10 −7 ) for polymorphisms that modestly alter therapeutic warfarin dose. The anticoagulant drug warfarin is widely prescribed for reducing the risk of stroke, thrombosis, pulmonary embolism, and coronary malfunction. However, Caucasians vary widely (20-fold) in the dose needed for therapeutic anticoagulation, and hence prescribed doses may be too low (risking serious illness) or too high (risking severe bleeding). Prior work established that ∼30% of the dose variance is explained by single nucleotide polymorphisms (SNPs) in the warfarin drug target  VKORC1  and another ∼12% by two non-synonymous SNPs ( *2 ,  *3 ) in the cytochrome P450 warfarin-metabolizing gene  CYP2C9 . We initially tested each of 325,997 GWAS SNPs for association with warfarin dose by univariate regression and found the strongest statistical signals ( p <10 −78 ) at SNPs clustering near  VKORC1  and the second lowest p-values ( p <10 −31 ) emanating from  CYP2C9 . No other SNPs approached genome-wide significance. To enhance detection of weaker effects, we conducted multiple regression adjusting for known influences on warfarin dose ( VKORC1 ,  CYP2C9 , age, gender) and identified a single SNP (rs2108622) with genome-wide significance ( p  = 8.3×10 −10 ) that alters protein coding of the  CYP4F2  gene. We confirmed this result in 588 additional Swedish patients ( p <0.0029) and, during our investigation, a second group provided independent confirmation from a scan of warfarin-metabolizing genes. We also thoroughly investigated copy number variations, haplotypes, and imputed SNPs, but found no additional highly significant warfarin associations. We present power analysis of our GWAS that is generalizable to other studies, and conclude we had 80% power to detect genome-wide significance for common causative variants or markers explaining at least 1.5% of dose variance. These GWAS results provide further impetus for conducting large-scale trials assessing patient benefit from genotype-based forecasting of warfarin dose. Recently, geneticists have begun assaying hundreds of thousands of genetic markers covering the entire human genome to systematically search for and identify genes that cause disease. We have extended this “genome-wide association study” (GWAS) method by assaying ∼326,000 markers in 1,053 Swedish patients in order to identify genes that alter response to the anticoagulant drug warfarin. Warfarin is widely prescribed to reduce blood clotting in order to protect high-risk patients from stroke, thrombosis, and heart attack. But patients vary widely (20-fold) in the warfarin dose needed for proper blood thinning, which means that initial doses in some patients are too high (risking severe bleeding) or too low (risking serious illness). Our GWAS detected two genes ( VKORC1 ,  CYP2C9 ) already known to cause ∼40% of the variability in warfarin dose and discovered a new gene ( CYP4F2 ) contributing 1%–2% of the variability. Since our GWAS searched the entire genome, additional genes having a major influence on warfarin dose might not exist or be found in the near-term. Hence, clinical trials assessing patient benefit from individualized dose forecasting based on a patient's genetic makeup at  VKORC1 ,  CYP2C9  and possibly  CYP4F2  could provide state-of-the-art clinical benchmarks for warfarin use during the foreseeable future.\n",
      "\n",
      "19430483\n",
      "systolic blood pressure 19252\n",
      "\tsystolic blood pressure http://www.ebi.ac.uk/efo/EFO_0006335 sysbp|systolic pressure\n",
      "diastolic blood pressure 19253\n",
      "\tdiastolic blood pressure http://www.ebi.ac.uk/efo/EFO_0006336 diastolic pressure|diabp\n",
      "systolic blood pressure\n",
      "Eight blood pressure loci identified by genome-wide association study of 34,433 people of European ancestry. Elevated blood pressure is a common, heritable cause of cardiovascular disease worldwide. To date, identification of common genetic variants influencing blood pressure has proven challenging. We tested 2.5m genotyped and imputed SNPs for association with systolic and diastolic blood pressure in 34,433 subjects of European ancestry from the Global BPgen consortium and followed up findings with direct genotyping (N≤71,225 European ancestry, N=12,889 Indian Asian ancestry) and  in silico  comparison (CHARGE consortium, N=29,136). We identified association between systolic or diastolic blood pressure and common variants in 8 regions near the  CYP17A1  ( P =7×10 −24 ),  CYP1A2  ( P =1×10 −23 ),  FGF5  ( P =1×10 −21 ),  SH2B3  ( P =3×10 −18 ),  MTHFR  ( P =2×10 −13 ),  c10orf107  ( P =1×10 −9 ),  ZNF652  ( P =5×10 −9 ) and  PLCD3  ( P =1×10 −8 ) genes. All variants associated with continuous blood pressure were associated with dichotomous hypertension. These associations between common variants and blood pressure and hypertension offer mechanistic insights into the regulation of blood pressure and may point to novel targets for interventions to prevent cardiovascular disease.\n",
      "\n",
      "19421330\n",
      "hypertension (young onset) 19254\n",
      "\tearly onset hypertension http://www.ebi.ac.uk/efo/EFO_0004772 \n",
      "hypertension (young onset)\n",
      "Genome-Wide Association Study of Young-Onset Hypertension in the Han Chinese Population of Taiwan. Young-onset hypertension has a stronger genetic component than late-onset counterpart; thus, the identification of genes related to its susceptibility is a critical issue for the prevention and management of this disease. We carried out a two-stage association scan to map young-onset hypertension susceptibility genes. The first-stage analysis, a genome-wide association study, analyzed 175 matched case-control pairs; the second-stage analysis, a confirmatory association study, verified the results at the first stage based on a total of 1,008 patients and 1,008 controls. Single-locus association tests, multilocus association tests and pair-wise gene-gene interaction tests were performed to identify young-onset hypertension susceptibility genes. After considering stringent adjustments of multiple testing, gene annotation and single-nucleotide polymorphism (SNP) quality, four SNPs from two SNP triplets with strong association signals (−log 10 (p)>7) and 13 SNPs from 8 interactive SNP pairs with strong interactive signals (−log 10 (p)>8) were carefully re-examined. The confirmatory study verified the association for a SNP quartet 219 kb and 495 kb downstream of  LOC344371  (a hypothetical gene) and  RASGRP3  on chromosome 2p22.3, respectively. The latter has been implicated in the abnormal vascular responsiveness to endothelin-1 and angiotensin II in diabetic-hypertensive rats. Intrinsic synergy involving  IMPG1  on chromosome 6q14.2-q15 was also verified. IMPG1  encodes interphotoreceptor matrix proteoglycan 1 which has cation binding capacity. The genes are novel hypertension targets identified in this first genome-wide hypertension association study of the Han Chinese population.\n",
      "\n",
      "17903301\n",
      "exercise treadmill test traits 19128\n",
      "\texercise test http://www.ebi.ac.uk/efo/EFO_0004328 stress test\n",
      "echocardiographic traits 19126\n",
      "\tleft atrial function http://www.ebi.ac.uk/efo/EFO_0004294 atrial function, left\n",
      "\tcardiovascular measurement http://www.ebi.ac.uk/efo/EFO_0004298 diagnostic techniques, cardiovascular|cardiovascular diagnostic technique\n",
      "\tleft ventricular function http://www.ebi.ac.uk/efo/EFO_0004295 ventricular function, left\n",
      "endothelial function traits 19127\n",
      "\tcardiovascular measurement http://www.ebi.ac.uk/efo/EFO_0004298 diagnostic techniques, cardiovascular|cardiovascular diagnostic technique\n",
      "endothelial function traits\n",
      "Genome-wide association of echocardiographic dimensions, brachial artery endothelial function and treadmill exercise responses in the Framingham Heart Study. Echocardiographic left ventricular (LV) measurements, exercise responses to standardized treadmill test (ETT) and brachial artery (BA) vascular function are heritable traits that are associated with cardiovascular disease risk. We conducted a genome-wide association study (GWAS) in the community-based Framingham Heart Study. We estimated multivariable-adjusted residuals for quantitative echocardiography, ETT and BA function traits. Echocardiography residuals were averaged across 4 examinations and included LV mass, diastolic and systolic dimensions, wall thickness, fractional shortening, left atrial and aortic root size. ETT measures (single exam) included systolic blood pressure and heart rate responses during exercise stage 2, and at 3 minutes post-exercise. BA measures (single exam) included vessel diameter, flow-mediated dilation (FMD), and baseline and hyperemic flow responses. Generalized estimating equations (GEE), family-based association tests (FBAT) and variance-components linkage were used to relate multivariable-adjusted trait residuals to 70,987 SNPs (Human 100K GeneChip, Affymetrix) restricted to autosomal SNPs with minor allele frequency ≥0.10, genotype call rate ≥0.80, and Hardy-Weinberg equilibrium p ≥ 0.001. We summarize results from 17 traits in up to 1238 related middle-aged to elderly men and women. Results of all association and linkage analyses are web-posted at  . We confirmed modest-to-strong heritabilities (estimates 0.30–0.52) for several Echo, ETT and BA function traits. Overall, p < 10 -5  in either GEE or FBAT models were observed for 21 SNPs (nine for echocardiography, eleven for ETT and one for BA function). The top SNPs associated were (GEE results): LV diastolic dimension, rs1379659 ( SLIT2 , p = 1.17*10 -7 ); LV systolic dimension, rs10504543 ( KCNB2 , p = 5.18*10 -6 ); LV mass, rs10498091 (p = 5.68*10 -6 ); Left atrial size, rs1935881 ( FAM5C , p = 6.56*10 -6 ); exercise heart rate, rs6847149 ( NOLA1 , p = 2.74*10 -6 ); exercise systolic blood pressure, rs2553268 ( WRN , p = 6.3*10 -6 ); BA baseline flow, rs3814219 ( OBFC1 , 9.48*10 -7 ), and FMD, rs4148686 ( CFTR , p = 1.13*10 -5 ). Several SNPs are reasonable biological candidates, with some being related to multiple traits suggesting pleiotropy. The peak LOD score was for LV mass (4.38; chromosome 5); the 1.5 LOD support interval included  NRG2 . In hypothesis-generating GWAS of echocardiography, ETT and BA vascular function in a moderate-sized community-based sample, we identified several SNPs that are candidates for replication attempts and we provide a web-based GWAS resource for the research community.\n",
      "\n",
      "17903301\n",
      "exercise treadmill test traits 19128\n",
      "\texercise test http://www.ebi.ac.uk/efo/EFO_0004328 stress test\n",
      "echocardiographic traits 19126\n",
      "\tleft atrial function http://www.ebi.ac.uk/efo/EFO_0004294 atrial function, left\n",
      "\tcardiovascular measurement http://www.ebi.ac.uk/efo/EFO_0004298 diagnostic techniques, cardiovascular|cardiovascular diagnostic technique\n",
      "\tleft ventricular function http://www.ebi.ac.uk/efo/EFO_0004295 ventricular function, left\n",
      "endothelial function traits 19127\n",
      "\tcardiovascular measurement http://www.ebi.ac.uk/efo/EFO_0004298 diagnostic techniques, cardiovascular|cardiovascular diagnostic technique\n",
      "echocardiographic traits\n",
      "Genome-wide association of echocardiographic dimensions, brachial artery endothelial function and treadmill exercise responses in the Framingham Heart Study. Echocardiographic left ventricular (LV) measurements, exercise responses to standardized treadmill test (ETT) and brachial artery (BA) vascular function are heritable traits that are associated with cardiovascular disease risk. We conducted a genome-wide association study (GWAS) in the community-based Framingham Heart Study. We estimated multivariable-adjusted residuals for quantitative echocardiography, ETT and BA function traits. Echocardiography residuals were averaged across 4 examinations and included LV mass, diastolic and systolic dimensions, wall thickness, fractional shortening, left atrial and aortic root size. ETT measures (single exam) included systolic blood pressure and heart rate responses during exercise stage 2, and at 3 minutes post-exercise. BA measures (single exam) included vessel diameter, flow-mediated dilation (FMD), and baseline and hyperemic flow responses. Generalized estimating equations (GEE), family-based association tests (FBAT) and variance-components linkage were used to relate multivariable-adjusted trait residuals to 70,987 SNPs (Human 100K GeneChip, Affymetrix) restricted to autosomal SNPs with minor allele frequency ≥0.10, genotype call rate ≥0.80, and Hardy-Weinberg equilibrium p ≥ 0.001. We summarize results from 17 traits in up to 1238 related middle-aged to elderly men and women. Results of all association and linkage analyses are web-posted at  . We confirmed modest-to-strong heritabilities (estimates 0.30–0.52) for several Echo, ETT and BA function traits. Overall, p < 10 -5  in either GEE or FBAT models were observed for 21 SNPs (nine for echocardiography, eleven for ETT and one for BA function). The top SNPs associated were (GEE results): LV diastolic dimension, rs1379659 ( SLIT2 , p = 1.17*10 -7 ); LV systolic dimension, rs10504543 ( KCNB2 , p = 5.18*10 -6 ); LV mass, rs10498091 (p = 5.68*10 -6 ); Left atrial size, rs1935881 ( FAM5C , p = 6.56*10 -6 ); exercise heart rate, rs6847149 ( NOLA1 , p = 2.74*10 -6 ); exercise systolic blood pressure, rs2553268 ( WRN , p = 6.3*10 -6 ); BA baseline flow, rs3814219 ( OBFC1 , 9.48*10 -7 ), and FMD, rs4148686 ( CFTR , p = 1.13*10 -5 ). Several SNPs are reasonable biological candidates, with some being related to multiple traits suggesting pleiotropy. The peak LOD score was for LV mass (4.38; chromosome 5); the 1.5 LOD support interval included  NRG2 . In hypothesis-generating GWAS of echocardiography, ETT and BA vascular function in a moderate-sized community-based sample, we identified several SNPs that are candidates for replication attempts and we provide a web-based GWAS resource for the research community.\n",
      "\n",
      "20195266\n",
      "response to antipsychotic treatment 19282\n",
      "\tresponse to antipsychotic drug http://purl.obolibrary.org/obo/GO_0097332 response to antipsychotic treatment\n",
      "\tresponse to perphenazine http://purl.obolibrary.org/obo/GO_0097334 \n",
      "\tresponse to olanzapine http://purl.obolibrary.org/obo/GO_0097333 \n",
      "\tresponse to risperidone http://purl.obolibrary.org/obo/GO_0097336 \n",
      "\tresponse to quetiapine http://purl.obolibrary.org/obo/GO_0097335 \n",
      "\tresponse to clozapine http://purl.obolibrary.org/obo/GO_0097338 \n",
      "\tresponse to ziprasidone http://purl.obolibrary.org/obo/GO_0097337 \n",
      "response to antipsychotic treatment\n",
      "Genomewide pharmacogenomic study of metabolic side effects to antipsychotic drugs. Understanding individual differences in the susceptibility to metabolic side effects as a response to antipsychotic therapy is essential to optimize the treatment of schizophrenia. Here we perform genomewide association studies (GWAS) to search for genetic variation affecting the susceptibility to metabolic side effects. The analysis sample consisted of 738 schizophrenia patients, successfully genotyped for 492K SNPs, from the genomic subsample of the Clinical Antipsychotic Trial of Intervention Effectiveness (CATIE) study. Outcomes included twelve indicators of metabolic side effects, quantifying antipsychotic-induced change in weight, blood lipids, glucose and hemoglobin A1c, blood pressure and heart rate. Our criterion for genomewide significance was a pre-specified threshold that ensures, on average, only 10% of the significant findings are false discoveries. Twenty-one SNPs satisfied this criterion. The top finding indicated a SNP in  MEIS2  mediated the effects of risperidone on hip circumference ( q  =.004). The same SNP was also found to mediate risperidone's effect on waist circumference ( q  =.055). Genomewide significant finding were also found for SNPs in  PRKAR2B, GPR98, FHOD3, RNF144A, ASTN2, SOX5  and  ATF7IP2 , as well as several intergenic markers. PRKAR2B  and  MEIS2  both have previous research indicating metabolic involvement and  PRKAR2B  has previously been shown to mediate antipsychotic response. Although our findings require replication and functional validation, this study demonstrates the potential of GWAS to discover genes and pathways that potentially mediate adverse effects of antipsychotic medication.\n",
      "\n",
      "17903296\n",
      "bone mineral density 19108\n",
      "\tbone density http://www.ebi.ac.uk/efo/EFO_0003923 density, bone mineral|bone densities|bone mineral density|bone mineral densities|density, bone|bmd\n",
      "hip geometry 19109\n",
      "\thip geometry http://www.ebi.ac.uk/efo/EFO_0004685 \n",
      "hip geometry\n",
      "Genome-wide association with bone mass and geometry in the Framingham Heart Study. Osteoporosis is characterized by low bone mass and compromised bone structure, heritable traits that contribute to fracture risk. There have been no genome-wide association and linkage studies for these traits using high-density genotyping platforms. We used the Affymetrix 100K SNP GeneChip marker set in the Framingham Heart Study (FHS) to examine genetic associations with ten primary quantitative traits: bone mineral density (BMD), calcaneal ultrasound, and geometric indices of the hip. To test associations with multivariable-adjusted residual trait values, we used additive generalized estimating equation (GEE) and family-based association tests (FBAT) models within each sex as well as sexes combined. We evaluated 70,987 autosomal SNPs with genotypic call rates ≥80%, HWE p ≥ 0.001, and MAF ≥10% in up to 1141 phenotyped individuals (495 men and 646 women, mean age 62.5 yrs). Variance component linkage analysis was performed using 11,200 markers. Heritability estimates for all bone phenotypes were 30–66%. LOD scores ≥3.0 were found on chromosomes 15 (1.5 LOD confidence interval: 51,336,679–58,934,236 bp) and 22 (35,890,398–48,603,847 bp) for femoral shaft section modulus. The ten primary phenotypes had 12 associations with 100K SNPs in GEE models at p < 0.000001 and 2 associations in FBAT models at p < 0.000001. The 25 most significant p-values for GEE and FBAT were all less than 3.5 × 10 -6  and 2.5 × 10 -5 , respectively. Of the 40 top SNPs with the greatest numbers of significantly associated BMD traits (including femoral neck, trochanter, and lumbar spine), one half to two-thirds were in or near genes that have  not  previously been studied for osteoporosis. Notably, pleiotropic associations between BMD and bone geometric traits were uncommon. Evidence for association (FBAT or GEE p < 0.05) was observed for several SNPs in candidate genes for osteoporosis, such as rs1801133 in  MTHFR ; rs1884052 and rs3778099 in  ESR1 ; rs4988300 in  LRP5 ; rs2189480 in  VDR ; rs2075555 in  COLIA1 ; rs10519297 and rs2008691 in  CYP19 , as well as SNPs in  PPARG  (rs10510418 and rs2938392) and  ANKH  (rs2454873 and rs379016). All GEE, FBAT and linkage results are provided as an open-access results resource at  . The FHS 100K SNP project offers an unbiased genome-wide strategy to identify new candidate loci and to replicate previously suggested candidate genes for osteoporosis.\n",
      "\n"
     ]
    }
   ],
   "source": [
    "from extractor.util import gold_agg_phen_recall\n",
    "kb = KnowledgeBase()\n",
    "id2doc = {doc.name : doc for doc in corpus.documents}\n",
    "gold_agg_dict_phen = { doc_id : set() for doc_id, phen_id in gold_set_agg_phens }\n",
    "for doc_id, phen_id in gold_set_agg_phens:\n",
    "    gold_agg_dict_phen[doc_id].add(phen_id)\n",
    "\n",
    "# this contains (doc_id, gwc_id) pairs from gold_set_agg_phens that haven't been found\n",
    "phen_not_found = list(gold_agg_phen_recall(phen_c, gold_set_agg_phens, agg_phen2id))\n",
    "print len(phen_not_found)\n",
    "for doc_id, phen_id in phen_not_found[:100]:\n",
    "    if len(gold_agg_dict_phen[doc_id]) > 3: continue # skip if >3 gwc_phen_ids in doc\n",
    "    print doc_id\n",
    "    for phen_id2 in gold_agg_dict_phen[doc_id]: # iterate over gwc_id's in doc\n",
    "        print agg_id2phen[phen_id2].name, phen_id2 # print its name and id\n",
    "        for eq_phen in agg_id2phen[phen_id2].equivalents: # loop over equivalent phens\n",
    "            print '\\t', eq_phen.name, eq_phen.ontology_ref, eq_phen.synonyms # print name, ref, synonyms\n",
    "    print agg_id2phen[phen_id].name # print the one that we haven't found\n",
    "    print ' '.join(s.text for s in id2doc[doc_id].sentences)\n",
    "    print"
   ]
  },
  {
   "cell_type": "code",
   "execution_count": 167,
   "metadata": {
    "collapsed": false
   },
   "outputs": [],
   "source": [
    "# FOR DEBUGGING WHY SPANS ARENT MATCHED\n",
    "# from extractor.util import change_name\n",
    "\n",
    "# doc_id, phen_id = phen_not_found[3]\n",
    "# print agg_id2phen[phen_id].name \n",
    "# print id2doc[doc_id].sentences[0]\n",
    "# for span in ngrams.apply(id2doc[doc_id].sentences[0]):\n",
    "#     print span.get_span()\n",
    "#     if phen_matcher._f(span):    \n",
    "#         phen_name = span.get_span()\n",
    "#         print phen_name\n",
    "#         print '...', change_name(phen_name) in phenotype_list, phen_name in phen_matcher.d, change_name(phen_name) in phen_matcher.d\n",
    "#         phen_id = phen2id.get(change_name(phen_name), None)\n",
    "#         print phen_id\n",
    "#         if not phen_id or phen_id not in gold_dict_phen[span.context.document.name]:\n",
    "#             print span.context.document.name, phen_id\n",
    "#             print gold_dict_phen[span.context.document.name]\n",
    "        \n",
    "#         print"
   ]
  },
  {
   "cell_type": "code",
   "execution_count": 166,
   "metadata": {
    "collapsed": false
   },
   "outputs": [
    {
     "name": "stdout",
     "output_type": "stream",
     "text": [
      "chinese http://www.ebi.ac.uk/efo/EFO_0003157\n"
     ]
    }
   ],
   "source": [
    "# query_word = 'chinese'\n",
    "\n",
    "# phenotypes = db_session.query(Phenotype).filter(Phenotype.source=='efo').all()\n",
    "# phenotype_names = set()\n",
    "# for phenotype in phenotypes:\n",
    "#     if phenotype.name:\n",
    "#         phenotype_names.add((phenotype.name))\n",
    "#         synonyms = [(syn) for syn in phenotype.synonyms.split('|')]\n",
    "#         if query_word in synonyms or query_word == phenotype.name:\n",
    "#             print phenotype.name, phenotype.ontology_ref\n",
    "#         phenotype_names.update(synonyms)"
   ]
  },
  {
   "cell_type": "code",
   "execution_count": 163,
   "metadata": {
    "collapsed": false
   },
   "outputs": [
    {
     "name": "stdout",
     "output_type": "stream",
     "text": [
      "56012\n"
     ]
    },
    {
     "data": {
      "text/plain": [
       "[(u'chinese', u'chines')]"
      ]
     },
     "execution_count": 163,
     "metadata": {},
     "output_type": "execute_result"
    }
   ],
   "source": [
    "# print len(phenotype_names)\n",
    "# [(word, change_name(word)) for word in phenotype_names if change_name(word) == change_name('Chinese')]"
   ]
  },
  {
   "cell_type": "markdown",
   "metadata": {},
   "source": [
    "## Extraction performance"
   ]
  },
  {
   "cell_type": "markdown",
   "metadata": {},
   "source": [
    "First, extract some features for each candidate mention."
   ]
  },
  {
   "cell_type": "code",
   "execution_count": 191,
   "metadata": {
    "collapsed": false
   },
   "outputs": [
    {
     "name": "stdout",
     "output_type": "stream",
     "text": [
      "Building feature index...\n",
      "Extracting features...\n",
      "0/24586\n",
      "5000/24586\n",
      "10000/24586\n",
      "15000/24586\n",
      "20000/24586\n",
      "Example features: [u'DDLIB_WORD_SEQ_[Crohn Disease]', u'DDLIB_LEMMA_SEQ_[crohn disease]', u'DDLIB_POS_SEQ_[NN NN]', u'DDLIB_DEP_SEQ_[compound compound]', u'DDLIB_W_LEFT_1_[novel]', u'DDLIB_W_LEFT_POS_1_[JJ]', u'DDLIB_W_LEFT_2_[. novel]', u'DDLIB_W_LEFT_POS_2_[. JJ]', u'DDLIB_W_LEFT_3_[ptger4 . novel]', u'DDLIB_W_LEFT_POS_3_[NN . JJ]']\n"
     ]
    }
   ],
   "source": [
    "import cPickle        \n",
    "from snorkel.features import NgramFeaturizer\n",
    "\n",
    "pkl_f = 'phenotype_feats.pkl'\n",
    "try:\n",
    "    with open(pkl_f, 'rb') as f:\n",
    "        featurizer = cPickle.load(f)\n",
    "except:\n",
    "    featurizer = NgramFeaturizer()\n",
    "    featurizer.fit_transform(phen_c)\n",
    "\n",
    "print 'Example features:', [f for f in featurizer.get_features_by_candidate(phen_c[0])[:10]]"
   ]
  },
  {
   "cell_type": "code",
   "execution_count": 199,
   "metadata": {
    "collapsed": false
   },
   "outputs": [
    {
     "name": "stdout",
     "output_type": "stream",
     "text": [
      "Defined 612 positive and 827 negative gold mentions\n"
     ]
    }
   ],
   "source": [
    "# classify candidates as correct or not\n",
    "\n",
    "# doc_id -> set of correct gwc_ids\n",
    "gold_agg_dict_phen = { doc_id : set() for doc_id, phen_id in gold_set_agg_phens }\n",
    "for doc_id, phen_id in gold_set_agg_phens:\n",
    "    gold_agg_dict_phen[doc_id].add(phen_id)\n",
    "        \n",
    "gt_dict_pos = dict()\n",
    "gt_dict_neg = dict()\n",
    "for candidate in phen_c:\n",
    "    doc_id = candidate.context.document.name\n",
    "    agg_ids = agg_phen2id.get(change_name(candidate.get_span()), set())\n",
    "    if agg_ids & gold_agg_dict_phen[doc_id]:\n",
    "        gt_dict_pos[candidate.uid] = +1\n",
    "    else:\n",
    "        gt_dict_neg[candidate.uid] = -1\n",
    "\n",
    "gt_dict = dict(gt_dict_pos.items() + gt_dict_neg.items())\n",
    "print 'Defined %d positive and %d negative gold mentions' % (len(gt_dict_pos), len(gt_dict_neg))"
   ]
  },
  {
   "cell_type": "code",
   "execution_count": 193,
   "metadata": {
    "collapsed": false
   },
   "outputs": [
    {
     "name": "stdout",
     "output_type": "stream",
     "text": [
      "+1 Crohn Disease\n",
      "-1 Maps\n",
      "+1 Crohn disease\n",
      "-1 personalized\n",
      "+1 Crohn disease,\n",
      "+1 Crohn disease\n",
      "-1 type 2 diabetes\n",
      "-1 cardiovascular disease.\n",
      "+1 obesity\n",
      "+1 , hip circumference,\n",
      "+1 BMI,\n",
      "+1 weight.\n",
      "+1 ), hip circumference\n",
      "+1 BMI\n",
      "+1 weight\n",
      "+1 BMI\n",
      "+1 BMI\n",
      "+1 BMI\n",
      "+1 ), weight\n",
      "+1 hip circumference\n",
      "+1 BMI\n",
      "+1 BMI\n",
      "+1 , hip circumference,\n",
      "+1 body weight.\n",
      "+1 BMI,\n",
      "+1 obesity,\n",
      "+1 body mass index,\n",
      "+1 , hip circumference,\n",
      "+1 body weight.\n",
      "+1 obesity.\n",
      "-1 cardiovascular disease\n",
      "-1 diabetes.\n",
      "+1 obesity\n",
      "-1 Mapping\n",
      "-1 IBD\n",
      "-1 (IBD),\n",
      "-1 inflammatory bowel disease\n",
      "+1 Crohn disease\n",
      "-1 mapping\n",
      "-1 ulcerative colitis\n",
      "-1 IBD\n",
      "-1 Glomerular filtration rate\n",
      "+1 urinary albumin excretion\n",
      "-1 (GFR)\n",
      "-1 Mapping\n",
      "-1 single\n",
      "-1 Mapping\n",
      "-1 ); GFR\n",
      "-1 Serum creatinine\n",
      "-1 Renal Disease\n",
      "+1 cystatin-C\n",
      "-1 creatinine\n",
      "+1 Thyroid stimulating hormone\n",
      "-1 GFR\n",
      "-1 GFR\n",
      "-1 Mapping\n",
      "-1 Systemic\n",
      "-1 systemic\n",
      "-1 stress;\n",
      "-1 vitamins.\n",
      "-1 single\n",
      "-1 systemic\n",
      "+1 monocyte chemoattractant protein-1\n",
      "+1 C-reactive protein\n",
      "-1 B-type natriuretic peptide\n",
      "+1 Vitamin K\n",
      "-1 systemic\n",
      "+1 hematological\n",
      "-1 cardiovascular disease (CVD)\n",
      "-1 (CVD).\n",
      "-1 anemia\n",
      "-1 single\n",
      "+1 , red blood cell count,\n",
      "+1 , plasminogen activator inhibitor-1,\n",
      "-1 , von Willebrand factor,\n",
      "+1 , tissue plasminogen activator,\n",
      "-1 , mean corpuscular volume,\n",
      "-1 , mean corpuscular hemoglobin concentration\n",
      "+1 , factor VII,\n",
      "+1 (platelet aggregation,\n",
      "-1 corpuscular volume, mean\n",
      "-1 volume, mean corpuscular\n",
      "-1 (fibrinogen,\n",
      "+1 , hemoglobin,\n",
      "-1 , D-dimer\n",
      "+1 hematological\n",
      "+1 hematological\n",
      "+1 factor VII at\n",
      "-1 mean corpuscular hemoglobin concentration.\n",
      "+1 hematological\n",
      "+1 hematological\n",
      "-1 erythrocyte\n",
      "-1 protein\n",
      "+1 hematological\n",
      "+1 factor VII\n",
      "+1 hematological\n",
      "+1 hemoglobin\n",
      "+1 factor VII,\n",
      "-1 All\n",
      "+1 hematological\n",
      "-1 longevity\n",
      "-1 longevity\n",
      "+1 aging\n",
      "+1 age at death\n",
      "+1 age at death\n",
      "+1 morbidity-free survival at age\n",
      "+1 age at death\n",
      "+1 age at death\n",
      "+1 menopause\n",
      "-1 all\n",
      "-1 longevity\n",
      "-1 all\n",
      "-1 Longevity\n",
      "+1 aging\n",
      "+1 aging.\n",
      "-1 longevity\n",
      "-1 bone\n",
      "-1 Osteoporosis\n",
      "-1 bone\n",
      "-1 bone\n",
      "+1 : bone mineral density\n",
      "+1 (BMD),\n",
      "-1 all\n",
      "-1 bone\n",
      "-1 all\n",
      "-1 osteoporosis.\n",
      "+1 BMD\n",
      "+1 BMD\n",
      "-1 bone\n",
      "-1 osteoporosis,\n",
      "-1 All\n",
      "-1 osteoporosis.\n",
      "+1 cognitive test\n",
      "-1 brain\n",
      "-1 aging\n",
      "-1 Alzheimer's disease\n",
      "-1 (AD).\n",
      "-1 stroke,\n",
      "-1 , dementia\n",
      "-1 Brain\n",
      "+1 cognitive\n",
      "+1 volumetric brain MRI\n",
      "-1 stroke-\n",
      "+1 cognitive\n",
      "-1 white matter hyperintensity\n",
      "-1 , reading,\n",
      "-1 memory,\n",
      "-1 single\n",
      "-1 brain\n",
      "+1 cognitive\n",
      "-1 reasoning\n",
      "-1 reasoning,\n",
      "-1 AD.\n",
      "-1 protein\n",
      "-1 stroke,\n",
      "-1 , AD\n",
      "-1 memory\n",
      "-1 reading performance\n",
      "-1 dyslexia\n",
      "-1 aging,\n",
      "-1 brain\n",
      "-1 type 2 diabetes\n",
      "+1 (fasting plasma glucose\n",
      "-1 ), hemoglobin\n",
      "+1 A1c,\n",
      "-1 insulin,\n",
      "+1 insulin sensitivity\n",
      "+1 diabetes.\n",
      "-1 glucose\n",
      "-1 insulin\n",
      "+1 diabetes.\n",
      "-1 survival\n",
      "+1 diabetes\n",
      "+1 diabetes\n",
      "-1 (all \n",
      "-1 glucose\n",
      "-1 all\n",
      "-1 insulin\n",
      "-1 glucose\n",
      "-1 insulin\n",
      "+1 diabetes =\n",
      "+1 diabetes\n",
      "+1 diabetes\n",
      "+1 diabetes\n",
      "+1 diabetes.\n",
      "+1 body mass index\n",
      "+1 waist circumference:\n",
      "-1 cardiovascular disease (CVD)\n",
      "-1 Obesity\n",
      "-1 CVD\n",
      "-1 adiposity\n",
      "-1 adiposity\n",
      "-1 (subcutaneous adipose tissue,\n",
      "-1 , visceral adipose tissue,\n",
      "+1 (BMI),\n",
      "+1 ), waist circumference\n",
      "-1 adipose tissue, visceral\n",
      "-1 tissue, visceral adipose\n",
      "+1 , waist circumference,\n",
      "+1 Body mass index\n"
     ]
    }
   ],
   "source": [
    "# let's look at a few examples\n",
    "for t, candidate in zip(gt, phen_c)[:200]:\n",
    "    if t == +1:\n",
    "        print '+1', candidate.get_span()\n",
    "    elif t == -1:\n",
    "        print '-1', candidate.get_span()"
   ]
  },
  {
   "cell_type": "markdown",
   "metadata": {},
   "source": [
    "Create training set"
   ]
  },
  {
   "cell_type": "code",
   "execution_count": 200,
   "metadata": {
    "collapsed": false
   },
   "outputs": [
    {
     "name": "stdout",
     "output_type": "stream",
     "text": [
      "Training set size: 724\n",
      "Gold set size: 723\n",
      "Positive labels in training set: 310\n",
      "Negative labels in training set: 414\n",
      "Positive labels in gold set: 304\n",
      "Negative labels in gold set: 419\n"
     ]
    }
   ],
   "source": [
    "import numpy as np\n",
    "\n",
    "# Split into train and test set\n",
    "candidates = phen_c\n",
    "training_candidates = []\n",
    "gold_candidates     = []\n",
    "gold_labels         = []\n",
    "n_half = len(candidates)/2\n",
    "for c in candidates[:n_half]:\n",
    "    if c.uid in gt_dict:\n",
    "        gold_candidates.append(c)\n",
    "        gold_labels.append(gt_dict[c.uid])\n",
    "    else:\n",
    "        training_candidates.append(c)\n",
    "training_candidates.extend(candidates[n_half:])\n",
    "gold_labels = np.array(gold_labels)\n",
    "print \"Training set size: %s\" % len(training_candidates)\n",
    "print \"Gold set size: %s\" % len(gold_candidates)\n",
    "print \"Positive labels in training set: %s\" % len([c for c in training_candidates if gt_dict.get(c.uid,0)==1])\n",
    "print \"Negative labels in training set: %s\" % len([c for c in training_candidates if gt_dict.get(c.uid,0)==-1])\n",
    "print \"Positive labels in gold set: %s\" % len([c for c in gold_candidates if gt_dict[c.uid]==1])\n",
    "print \"Negative labels in gold set: %s\" % len([c for c in gold_candidates if gt_dict[c.uid]==-1])"
   ]
  },
  {
   "cell_type": "code",
   "execution_count": 209,
   "metadata": {
    "collapsed": true
   },
   "outputs": [],
   "source": [
    "# load set of dictionary phenotypes\n",
    "kb = KnowledgeBase()\n",
    "phenotype_list = kb.get_phenotype_candidates() # TODO: load disease names from NCBI\n",
    "phenotype_list = [phenotype for phenotype in phenotype_list]\n",
    "phenotype_set = set(phenotype_list)\n",
    "\n",
    "def LF_gt(m):\n",
    "    return gt_dict.get(m.uid, 0) if m in training_candidates else 0\n",
    "\n",
    "# positive LFs\n",
    "def LF_in_set(m):\n",
    "    return +1 if get_phenotype(m, stem=True) in phenotype_list else -1\n",
    "def LF_associated(m):\n",
    "    return +1 if 'associate' in m.pre_window('lemmas') else 0\n",
    "def LF_influencing(m):\n",
    "    return +1 if 'influence' in m.pre_window('lemmas') else 0\n",
    "def LF_related(m):\n",
    "    return +1 if 'relate' in m.pre_window('lemmas') else 0\n",
    "def LF_phenotype(m):\n",
    "    return +1 if 'phenotype' in m.pre_window('lemmas') or 'phenotype' in m.post_window('lemmas') else 0\n",
    "\n",
    "# negative LFs\n",
    "def LF_previously(m):\n",
    "    return -1 if 'previously' in m.pre_window('lemmas', 8) else 0\n",
    "def LF_further(m):\n",
    "    lemmas = m.get_attrib_span('lemmas').split(' ')    \n",
    "    return -1 if 'further' in lemmas or 'furthermore' in lemmas else 0\n",
    "def LF_also(m):\n",
    "    words = m.get_span().split(' ')        \n",
    "    return -1 if 'also' in words else 0\n",
    "def LF_trait(m):\n",
    "    lemmas = m.get_attrib_span('lemmas').split(' ')\n",
    "    return -1 if 'trait' in lemmas else 0\n",
    "def LF_recently(m):\n",
    "    words = m.get_span().split(' ')    \n",
    "    return -1 if 'recently' in words else 0\n",
    "def LF_addit(m):\n",
    "    lemmas = m.get_attrib_span('lemmas').split(' ')\n",
    "    return -1 if 'addit' in lemmas else 0\n",
    "def LF_may(m):\n",
    "    words = m.get_span().split(' ')\n",
    "    return -1 if 'may' in words else 0\n",
    "def LF_short(m):\n",
    "    lemmas = m.get_attrib_span('lemmas').split(' ')    \n",
    "    return -1 if len(lemmas) == 1 else 0"
   ]
  },
  {
   "cell_type": "code",
   "execution_count": 210,
   "metadata": {
    "collapsed": false
   },
   "outputs": [
    {
     "name": "stdout",
     "output_type": "stream",
     "text": [
      "Applying LFs...\n",
      "Featurizing...\n",
      "Building feature index...\n",
      "Extracting features...\n",
      "0/12895\n",
      "5000/12895\n",
      "10000/12895\n",
      "============================================================\n",
      "LF Summary Statistics: 1 LFs applied to 724 candidates\n",
      "------------------------------------------------------------\n",
      "Coverage (candidates w/ > 0 labels):\t\t100.00%\n",
      "Overlap (candidates w/ > 1 labels):\t\t0.00%\n",
      "Conflict (candidates w/ conflicting labels):\t0.00%\n",
      "============================================================\n"
     ]
    }
   ],
   "source": [
    "from snorkel.snorkel import TrainingSet\n",
    "from snorkel.features import NgramFeaturizer\n",
    "\n",
    "training_set = TrainingSet(training_candidates, LFs, featurizer=NgramFeaturizer())"
   ]
  },
  {
   "cell_type": "code",
   "execution_count": 211,
   "metadata": {
    "collapsed": false
   },
   "outputs": [
    {
     "data": {
      "text/html": [
       "<div style=\"max-height:1000px;max-width:1500px;overflow:auto;\">\n",
       "<table border=\"1\" class=\"dataframe\">\n",
       "  <thead>\n",
       "    <tr style=\"text-align: right;\">\n",
       "      <th></th>\n",
       "      <th>conflicts</th>\n",
       "      <th>coverage</th>\n",
       "      <th>j</th>\n",
       "      <th>overlaps</th>\n",
       "    </tr>\n",
       "  </thead>\n",
       "  <tbody>\n",
       "    <tr>\n",
       "      <th>LF_gt</th>\n",
       "      <td> 0</td>\n",
       "      <td> 1</td>\n",
       "      <td> 0</td>\n",
       "      <td> 0</td>\n",
       "    </tr>\n",
       "  </tbody>\n",
       "</table>\n",
       "<p>1 rows × 4 columns</p>\n",
       "</div>"
      ],
      "text/plain": [
       "       conflicts  coverage  j  overlaps\n",
       "LF_gt          0         1  0         0\n",
       "\n",
       "[1 rows x 4 columns]"
      ]
     },
     "execution_count": 211,
     "metadata": {},
     "output_type": "execute_result"
    }
   ],
   "source": [
    "lf_stats = training_set.lf_stats()\n",
    "lf_stats[:5]"
   ]
  },
  {
   "cell_type": "code",
   "execution_count": 217,
   "metadata": {
    "collapsed": true
   },
   "outputs": [],
   "source": [
    "from snorkel.snorkel import Learner, PipelinedLearner\n",
    "import snorkel.learning\n",
    "from snorkel.learning import LogReg\n",
    "\n",
    "learner = PipelinedLearner(training_set, model=snorkel.learning.LogReg())\n",
    "\n",
    "# Splitting into CV and test set\n",
    "n_half = len(gold_candidates)/2\n",
    "test_candidates = gold_candidates[:n_half]\n",
    "test_labels     = gold_labels[:n_half]\n",
    "cv_candidates   = gold_candidates[n_half:]\n",
    "cv_labels       = gold_labels[n_half:]"
   ]
  },
  {
   "cell_type": "code",
   "execution_count": 218,
   "metadata": {
    "collapsed": false
   },
   "outputs": [
    {
     "name": "stdout",
     "output_type": "stream",
     "text": [
      "============================================================\n",
      "Testing mu = 1.00e-05, lf_w0 = 1.00e+00\n",
      "============================================================\n",
      "Training LF model...\n",
      "Begin training for rate=0.01, mu=1e-05\n",
      "\tLearning epoch = 0\tGradient mag. = 0.000000\n",
      "SGD converged for mu=1e-05 after 10 steps\n",
      "Training model...\n",
      "Begin training for rate=0.01, mu=1e-05\n",
      "\tLearning epoch = 0\tGradient mag. = 0.009454\n",
      "\tLearning epoch = 250\tGradient mag. = 0.009875\n",
      "\tLearning epoch = 500\tGradient mag. = 0.009800\n",
      "\tLearning epoch = 750\tGradient mag. = 0.009729\n",
      "Final gradient magnitude for rate=0.01, mu=1e-05: 0.010\n",
      "Applying LFs...\n",
      "Featurizing...\n",
      "============================================================\n",
      "Testing mu = 1.00e-05, lf_w0 = 2.00e+00\n",
      "============================================================\n",
      "Training LF model...\n",
      "Begin training for rate=0.01, mu=1e-05\n",
      "\tLearning epoch = 0\tGradient mag. = 0.000000\n",
      "SGD converged for mu=1e-05 after 10 steps\n",
      "Training model...\n",
      "Begin training for rate=0.01, mu=1e-05\n",
      "\tLearning epoch = 0\tGradient mag. = 0.017473\n",
      "\tLearning epoch = 250\tGradient mag. = 0.018274\n",
      "\tLearning epoch = 500\tGradient mag. = 0.018161\n",
      "\tLearning epoch = 750\tGradient mag. = 0.018051\n",
      "Final gradient magnitude for rate=0.01, mu=1e-05: 0.018\n",
      "============================================================\n",
      "Testing mu = 1.00e-07, lf_w0 = 1.00e+00\n",
      "============================================================\n",
      "Training LF model...\n",
      "Begin training for rate=0.01, mu=1e-07\n",
      "\tLearning epoch = 0\tGradient mag. = 0.000000\n",
      "SGD converged for mu=1e-07 after 10 steps\n",
      "Training model...\n",
      "Begin training for rate=0.01, mu=1e-07\n",
      "\tLearning epoch = 0\tGradient mag. = 0.009454\n",
      "\tLearning epoch = 250\tGradient mag. = 0.009874\n",
      "\tLearning epoch = 500\tGradient mag. = 0.009800\n",
      "\tLearning epoch = 750\tGradient mag. = 0.009728\n",
      "Final gradient magnitude for rate=0.01, mu=1e-07: 0.010\n",
      "============================================================\n",
      "Testing mu = 1.00e-07, lf_w0 = 2.00e+00\n",
      "============================================================\n",
      "Training LF model...\n",
      "Begin training for rate=0.01, mu=1e-07\n",
      "\tLearning epoch = 0\tGradient mag. = 0.000000\n",
      "SGD converged for mu=1e-07 after 10 steps\n",
      "Training model...\n",
      "Begin training for rate=0.01, mu=1e-07\n",
      "\tLearning epoch = 0\tGradient mag. = 0.017473\n",
      "\tLearning epoch = 250\tGradient mag. = 0.018274\n",
      "\tLearning epoch = 500\tGradient mag. = 0.018160\n",
      "\tLearning epoch = 750\tGradient mag. = 0.018051\n",
      "Final gradient magnitude for rate=0.01, mu=1e-07: 0.018\n"
     ]
    }
   ],
   "source": [
    "from snorkel.learning_utils import GridSearch\n",
    "\n",
    "gs       = GridSearch(learner, ['mu', 'lf_w0'], [[1e-5, 1e-7],[1.0,2.0]])\n",
    "gs_stats = gs.fit(cv_candidates, cv_labels)"
   ]
  },
  {
   "cell_type": "code",
   "execution_count": 219,
   "metadata": {
    "collapsed": false
   },
   "outputs": [
    {
     "data": {
      "text/html": [
       "<div style=\"max-height:1000px;max-width:1500px;overflow:auto;\">\n",
       "<table border=\"1\" class=\"dataframe\">\n",
       "  <thead>\n",
       "    <tr style=\"text-align: right;\">\n",
       "      <th></th>\n",
       "      <th>mu</th>\n",
       "      <th>lf_w0</th>\n",
       "      <th>Prec.</th>\n",
       "      <th>Rec.</th>\n",
       "      <th>F1</th>\n",
       "    </tr>\n",
       "  </thead>\n",
       "  <tbody>\n",
       "    <tr>\n",
       "      <th>0</th>\n",
       "      <td> 0.00001</td>\n",
       "      <td> 1</td>\n",
       "      <td> 0.642857</td>\n",
       "      <td> 0.294118</td>\n",
       "      <td> 0.403587</td>\n",
       "    </tr>\n",
       "    <tr>\n",
       "      <th>1</th>\n",
       "      <td> 0.00001</td>\n",
       "      <td> 2</td>\n",
       "      <td> 0.630137</td>\n",
       "      <td> 0.300654</td>\n",
       "      <td> 0.407080</td>\n",
       "    </tr>\n",
       "    <tr>\n",
       "      <th>2</th>\n",
       "      <td> 0.00000</td>\n",
       "      <td> 1</td>\n",
       "      <td> 0.647887</td>\n",
       "      <td> 0.300654</td>\n",
       "      <td> 0.410714</td>\n",
       "    </tr>\n",
       "    <tr>\n",
       "      <th>3</th>\n",
       "      <td> 0.00000</td>\n",
       "      <td> 2</td>\n",
       "      <td> 0.635135</td>\n",
       "      <td> 0.307190</td>\n",
       "      <td> 0.414097</td>\n",
       "    </tr>\n",
       "  </tbody>\n",
       "</table>\n",
       "<p>4 rows × 5 columns</p>\n",
       "</div>"
      ],
      "text/plain": [
       "        mu  lf_w0     Prec.      Rec.        F1\n",
       "0  0.00001      1  0.642857  0.294118  0.403587\n",
       "1  0.00001      2  0.630137  0.300654  0.407080\n",
       "2  0.00000      1  0.647887  0.300654  0.410714\n",
       "3  0.00000      2  0.635135  0.307190  0.414097\n",
       "\n",
       "[4 rows x 5 columns]"
      ]
     },
     "execution_count": 219,
     "metadata": {},
     "output_type": "execute_result"
    }
   ],
   "source": [
    "gs_stats"
   ]
  },
  {
   "cell_type": "code",
   "execution_count": 220,
   "metadata": {
    "collapsed": false
   },
   "outputs": [
    {
     "name": "stdout",
     "output_type": "stream",
     "text": [
      "Applying LFs...\n",
      "Featurizing...\n"
     ]
    },
    {
     "data": {
      "image/png": "[encoded data removed]",
      "text/plain": [
       "<matplotlib.figure.Figure at 0x1134eb3d0>"
      ]
     },
     "metadata": {},
     "output_type": "display_data"
    },
    {
     "name": "stdout",
     "output_type": "stream",
     "text": [
      "========================================\n",
      "Test set size:\t361\n",
      "----------------------------------------\n",
      "Precision:\t0.522727272727\n",
      "Recall:\t\t0.153333333333\n",
      "F1 Score:\t0.237113402062\n",
      "----------------------------------------\n",
      "TP: 23 | FP: 21 | TN: 189 | FN: 127\n",
      "========================================\n"
     ]
    }
   ],
   "source": [
    "learner.test(test_candidates, test_labels)"
   ]
  },
  {
   "cell_type": "code",
   "execution_count": 221,
   "metadata": {
    "collapsed": false
   },
   "outputs": [
    {
     "data": {
      "text/html": [
       "<div style=\"max-height:1000px;max-width:1500px;overflow:auto;\">\n",
       "<table border=\"1\" class=\"dataframe\">\n",
       "  <thead>\n",
       "    <tr style=\"text-align: right;\">\n",
       "      <th></th>\n",
       "      <th>j</th>\n",
       "      <th>w</th>\n",
       "    </tr>\n",
       "  </thead>\n",
       "  <tbody>\n",
       "    <tr>\n",
       "      <th>DDLIB_NUM_WORDS_1</th>\n",
       "      <td> 10679</td>\n",
       "      <td>-0.047223</td>\n",
       "    </tr>\n",
       "    <tr>\n",
       "      <th>DDLIB_W_RIGHT_POS_1_[NN]</th>\n",
       "      <td>  3217</td>\n",
       "      <td>-0.040594</td>\n",
       "    </tr>\n",
       "    <tr>\n",
       "      <th>DDLIB_W_LEFT_POS_1_[NN]</th>\n",
       "      <td>  3336</td>\n",
       "      <td>-0.030802</td>\n",
       "    </tr>\n",
       "    <tr>\n",
       "      <th>DDLIB_POS_SEQ_[NN]</th>\n",
       "      <td>  3353</td>\n",
       "      <td>-0.030333</td>\n",
       "    </tr>\n",
       "    <tr>\n",
       "      <th>DDLIB_W_LEFT_POS_1_[CC]</th>\n",
       "      <td>  4427</td>\n",
       "      <td>-0.026109</td>\n",
       "    </tr>\n",
       "    <tr>\n",
       "      <th>DDLIB_W_LEFT_POS_1_[JJ]</th>\n",
       "      <td>  3422</td>\n",
       "      <td>-0.024301</td>\n",
       "    </tr>\n",
       "    <tr>\n",
       "      <th>DDLIB_W_LEFT_1_[and]</th>\n",
       "      <td>  8157</td>\n",
       "      <td>-0.024166</td>\n",
       "    </tr>\n",
       "    <tr>\n",
       "      <th>DDLIB_DEP_SEQ_[compound]</th>\n",
       "      <td>  9174</td>\n",
       "      <td>-0.023339</td>\n",
       "    </tr>\n",
       "    <tr>\n",
       "      <th>DDLIB_W_POS_L_1_R_1_[NN]_[NN]</th>\n",
       "      <td>  1983</td>\n",
       "      <td>-0.016399</td>\n",
       "    </tr>\n",
       "    <tr>\n",
       "      <th>DDLIB_NUM_WORDS_2</th>\n",
       "      <td> 10677</td>\n",
       "      <td>-0.016104</td>\n",
       "    </tr>\n",
       "  </tbody>\n",
       "</table>\n",
       "<p>10 rows × 2 columns</p>\n",
       "</div>"
      ],
      "text/plain": [
       "                                   j         w\n",
       "DDLIB_NUM_WORDS_1              10679 -0.047223\n",
       "DDLIB_W_RIGHT_POS_1_[NN]        3217 -0.040594\n",
       "DDLIB_W_LEFT_POS_1_[NN]         3336 -0.030802\n",
       "DDLIB_POS_SEQ_[NN]              3353 -0.030333\n",
       "DDLIB_W_LEFT_POS_1_[CC]         4427 -0.026109\n",
       "DDLIB_W_LEFT_POS_1_[JJ]         3422 -0.024301\n",
       "DDLIB_W_LEFT_1_[and]            8157 -0.024166\n",
       "DDLIB_DEP_SEQ_[compound]        9174 -0.023339\n",
       "DDLIB_W_POS_L_1_R_1_[NN]_[NN]   1983 -0.016399\n",
       "DDLIB_NUM_WORDS_2              10677 -0.016104\n",
       "\n",
       "[10 rows x 2 columns]"
      ]
     },
     "execution_count": 221,
     "metadata": {},
     "output_type": "execute_result"
    }
   ],
   "source": [
    "learner.feature_stats(n_max=10)"
   ]
  },
  {
   "cell_type": "markdown",
   "metadata": {},
   "source": [
    "## Classification performance"
   ]
  },
  {
   "cell_type": "markdown",
   "metadata": {
    "collapsed": true
   },
   "source": [
    "First, I'd like to get a sense of how hard it would be to classify unseen classes."
   ]
  },
  {
   "cell_type": "code",
   "execution_count": 78,
   "metadata": {
    "collapsed": false
   },
   "outputs": [
    {
     "name": "stdout",
     "output_type": "stream",
     "text": [
      "17447842\n",
      "crohn's disease 19133\n",
      "\tcrohn's disease http://www.ebi.ac.uk/efo/EFO_0000384 gastritis associated with crohn's disease|ileitis, terminal|colitis, granulomatous|ileitis, regional|crohn's disease|enteritis, granulomatous|crohns disease|crohns dis|ileocolitis|enteritis, regional|gastritis associated with crohn disease|crohn disease|crohn dis|crohn's associated gastritis\n",
      "Novel Crohn Disease Locus Identified by Genome-Wide Association Maps to a Gene Desert on 5p13.1 and Modulates Expression of  PTGER4. To identify novel susceptibility loci for Crohn disease (CD), we undertook a genome-wide association study with more than 300,000 SNPs characterized in 547 patients and 928 controls. We found three chromosome regions that provided evidence of disease association with  p -values between 10 −6  and 10 −9 . Two of these ( IL23R  on Chromosome 1 and  CARD15  on Chromosome 16) correspond to genes previously reported to be associated with CD. In addition, a 250-kb region of Chromosome 5p13.1 was found to contain multiple markers with strongly suggestive evidence of disease association (including four markers with  p  < 10 −7 ). We replicated the results for 5p13.1 by studying 1,266 additional CD patients, 559 additional controls, and 428 trios. Significant evidence of association ( p  < 4 × 10 −4 ) was found in case/control comparisons with the replication data, while associated alleles were over-transmitted to affected offspring ( p  < 0.05), thus confirming that the 5p13.1 locus contributes to CD susceptibility. The CD-associated 250-kb region was saturated with 111 SNP markers. Haplotype analysis supports a complex locus architecture with multiple variants contributing to disease susceptibility. The novel 5p13.1 CD locus is contained within a 1.25-Mb gene desert. We present evidence that disease-associated alleles correlate with quantitative expression levels of the prostaglandin receptor EP4,  PTGER4,  the gene that resides closest to the associated region. Our results identify a major new susceptibility locus for CD, and suggest that genetic variants associated with disease risk at this locus could modulate  cis -acting regulatory elements of  PTGER4 . Individual susceptibility to many common diseases is determined by a combination of environmental and genetic factors. Identifying these genetic risk factors is one of the most important objectives of modern medical genetics, as it paves the way towards personalized medicine and drug target identification. Recent advances in SNP genotyping technology allows systematic association scanning of the entire genome for the detection of novel susceptibility loci. We herein apply this approach to Crohn disease, which afflicts an estimated 0.15% of the people in the developed world and identify a novel susceptibility locus on Chromosome 5. A unique feature of the novel 5p13.1 locus is that it coincides with a 1.25-Mb gene desert. We present evidence that genetic variants at this locus influence the expression levels of the closest gene,  PTGER4,  located 270 kb away, in the direction of the centromere. PTGER4  encodes the prostaglandin receptor EP4 and is a strong candidate susceptibility gene for Crohn disease as PTGER4 knock-out mice have increased susceptibility to colitis.\n",
      "\n",
      "17658951\n",
      "obesity-related traits 19140\n",
      "\tadiponectin measurement http://www.ebi.ac.uk/efo/EFO_0004502 adiponectin levels\n",
      "\thoma-ir http://www.ebi.ac.uk/efo/EFO_0004501 homeostasis model assessment insulin resistance\n",
      "\tccl2 measurement http://www.ebi.ac.uk/efo/EFO_0004749 monocyte chemotactic protein-1 measurement|chemokine ccl2 level|monocyte chemoattractant protein-1 measurement|chemokine ccl2 levels|monocyte chemotactic protein-1 levels|monocyte chemotactic protein-1 level\n",
      "\tthyroid stimulating hormone measurement http://www.ebi.ac.uk/efo/EFO_0004748 thyrotropin measurement|thyroid stimulating hormone level|thyroid stimulating hormone levels\n",
      "\tprotein measurement http://www.ebi.ac.uk/efo/EFO_0004747 protein levels\n",
      "\tblood urea nitrogen measurement http://www.ebi.ac.uk/efo/EFO_0004741 \n",
      "\tlean body mass http://www.ebi.ac.uk/efo/EFO_0004995 \n",
      "\tserum alanine aminotransferase measurement http://www.ebi.ac.uk/efo/EFO_0004735 alanine transaminase measurement|alanine aminotransferase measurement\n",
      "\taspartate aminotransferase measurement http://www.ebi.ac.uk/efo/EFO_0004736 aspartate transaminase measurement\n",
      "\thormone measurement http://www.ebi.ac.uk/efo/EFO_0004730 \n",
      "\tfat body mass http://www.ebi.ac.uk/efo/EFO_0005409 total body fat measurement\n",
      "\tadipose tissue measurement http://www.ebi.ac.uk/efo/EFO_0004764 \n",
      "\ticam-1 measurement http://www.ebi.ac.uk/efo/EFO_0004520 soluble icam1 measurement|soluble intercellular adhesion molecule-1|sicam-1\n",
      "\ttriglyceride measurement http://www.ebi.ac.uk/efo/EFO_0004530 triglyceride levels\n",
      "\twaist circumference http://www.ebi.ac.uk/efo/EFO_0004342 \n",
      "\tbody mass index http://www.ebi.ac.uk/efo/EFO_0004340 quetelet's index|bmi\n",
      "\tobesity http://www.ebi.ac.uk/efo/EFO_0001073 overweight and obesity|obesity (disorder)|obese|obesity nos|obese (finding)|adiposity|adiposis|obesity [ambiguous]|obesity, unspecified\n",
      "\tbirth weight http://www.ebi.ac.uk/efo/EFO_0004344 birthweight\n",
      "\twaist-hip ratio http://www.ebi.ac.uk/efo/EFO_0004343 \n",
      "\theart rate http://www.ebi.ac.uk/efo/EFO_0004326 pulse rate|cardiac chronotropy\n",
      "\tbody height http://www.ebi.ac.uk/efo/EFO_0004339 height\n",
      "\tbody weight http://www.ebi.ac.uk/efo/EFO_0004338 weight\n",
      "\thomocysteine measurement http://www.ebi.ac.uk/efo/EFO_0004578 homocysteine levels\n",
      "\ttotal cholesterol measurement http://www.ebi.ac.uk/efo/EFO_0004574 cholesterol, total|total cholesterol levels\n",
      "\tccl5 measurement http://www.ebi.ac.uk/efo/EFO_0005117 regulated on activation, normal t cell expressed and secreted|rantes\n",
      "\tigfbp-1 measurement http://www.ebi.ac.uk/efo/EFO_0005118 \n",
      "\tantioxidant measurement http://www.ebi.ac.uk/efo/EFO_0005119 \n",
      "\thead circumference http://www.ebi.ac.uk/efo/EFO_0005114 \n",
      "\tmetabolic rate measurement http://www.ebi.ac.uk/efo/EFO_0005115 \n",
      "\turinary metabolite measurement http://www.ebi.ac.uk/efo/EFO_0005116 \n",
      "\tfatty acid measurement http://www.ebi.ac.uk/efo/EFO_0005110 \n",
      "\tfolic acid measurement http://www.ebi.ac.uk/efo/EFO_0005111 folate measurement|vitamin b9 measurement\n",
      "\tgestational age http://www.ebi.ac.uk/efo/EFO_0005112 \n",
      "\tbody composition measurement http://www.ebi.ac.uk/efo/EFO_0005106 \n",
      "\tarm span http://www.ebi.ac.uk/efo/EFO_0005108 \n",
      "\tenergy expenditure http://www.ebi.ac.uk/efo/EFO_0005109 \n",
      "\tamino acid measurement http://www.ebi.ac.uk/efo/EFO_0005134 \n",
      "\tc-peptide measurement http://www.ebi.ac.uk/efo/EFO_0005187 \n",
      "\tccl11 measurement http://www.ebi.ac.uk/efo/EFO_0005188 \n",
      "\trespiratory quotient http://www.ebi.ac.uk/efo/EFO_0005189 \n",
      "\turinary nitrogen measurement http://www.ebi.ac.uk/efo/EFO_0005190 \n",
      "\twaist height ratio http://www.ebi.ac.uk/efo/EFO_0005191 \n",
      "\ttestosterone measurement http://www.ebi.ac.uk/efo/EFO_0004908 testosterone levels|testosterone level\n",
      "\tinterleukin-6 measurement http://www.ebi.ac.uk/efo/EFO_0004810 il-6 levels|il-6 level|il-6 measurement\n",
      "\ttransforming growth factor beta measurement http://www.ebi.ac.uk/efo/EFO_0004818 \n",
      "\tigf-1 measurement http://www.ebi.ac.uk/efo/EFO_0004627 insulin-like growth factor 1 levels\n",
      "\tigfbp-3 measurement http://www.ebi.ac.uk/efo/EFO_0004626 insulin-like growth factor binding protein 3 levels\n",
      "\tvitamin b12 measurement http://www.ebi.ac.uk/efo/EFO_0004620 vitamin b12 levels\n",
      "\tsleep measurement http://www.ebi.ac.uk/efo/EFO_0004870 \n",
      "\thigh density lipoprotein cholesterol measurement http://www.ebi.ac.uk/efo/EFO_0004612 hdl measurement\n",
      "\tlow density lipoprotein cholesterol measurement http://www.ebi.ac.uk/efo/EFO_0004611 ldl measurement\n",
      "\tmaximal oxygen uptake measurement http://www.ebi.ac.uk/efo/EFO_0004887 maximal oxygen consumption|peak oxygen uptake|maximal oxygen uptake|maximal aerobic capacity|vo2 max\n",
      "\tcortisol secretion measurement http://www.ebi.ac.uk/efo/EFO_0004642 \n",
      "\tfasting blood insulin measurement http://www.ebi.ac.uk/efo/EFO_0004466 fasting blood insulin|fasting blood insulin level|fasting insulin-related traits\n",
      "\tfasting blood glucose measurement http://www.ebi.ac.uk/efo/EFO_0004465 fasting glucose-related traits|fasting blood glucose level|fasting plasma glucose\n",
      "\tinsulin sensitivity measurement http://www.ebi.ac.uk/efo/EFO_0004471 insulin sensitivity test\n",
      "\ttumor necrosis factor-alpha measurement http://www.ebi.ac.uk/efo/EFO_0004684 \n",
      "\tc-reactive protein measurement http://www.ebi.ac.uk/efo/EFO_0004458 c-reactive protein level\n",
      "\testradiol measurement http://www.ebi.ac.uk/efo/EFO_0004697 oestrogen level|oestrogen levels|estradiol levels\n",
      "\tsystolic blood pressure http://www.ebi.ac.uk/efo/EFO_0006335 sysbp|systolic pressure\n",
      "\tdiastolic blood pressure http://www.ebi.ac.uk/efo/EFO_0006336 diastolic pressure|diabp\n",
      "\tleptin measurement http://www.ebi.ac.uk/efo/EFO_0005000 \n",
      "\thip circumference http://www.ebi.ac.uk/efo/EFO_0005093 \n",
      "\tenergy intake http://www.ebi.ac.uk/efo/EFO_0003939 caloric intake\n",
      "\tphysical activity http://www.ebi.ac.uk/efo/EFO_0003940 motor activity|activities, motor|locomotor activities|activity, physical|activity, motor|physical activities|locomotor activity|activities, physical|activity, locomotor|activities, locomotor|motor activities\n",
      "\tbone density http://www.ebi.ac.uk/efo/EFO_0003923 density, bone mineral|bone densities|bone mineral density|bone mineral densities|density, bone|bmd\n",
      "Genome-Wide Association Scan Shows Genetic Variants in the  FTO  Gene Are Associated with Obesity-Related Traits. The obesity epidemic is responsible for a substantial economic burden in developed countries and is a major risk factor for type 2 diabetes and cardiovascular disease. The disease is the result not only of several environmental risk factors, but also of genetic predisposition. To take advantage of recent advances in gene-mapping technology, we executed a genome-wide association scan to identify genetic variants associated with obesity-related quantitative traits in the genetically isolated population of Sardinia. Initial analysis suggested that several SNPs in the  FTO  and  PFKP  genes were associated with increased BMI, hip circumference, and weight. Within the  FTO  gene, rs9930506 showed the strongest association with BMI ( p =  8.6 ×10 − 7 ), hip circumference ( p =  3.4 × 10 − 8 ), and weight ( p =  9.1 × 10 − 7 ). In Sardinia, homozygotes for the rare “G” allele of this SNP (minor allele frequency = 0.46) were 1.3 BMI units heavier than homozygotes for the common “A” allele. Within the PFKP gene, rs6602024 showed very strong association with BMI ( p =  4.9 × 10 − 6 ). Homozygotes for the rare “A” allele of this SNP (minor allele frequency = 0.12) were 1.8 BMI units heavier than homozygotes for the common “G” allele. To replicate our findings, we genotyped these two SNPs in the GenNet study. In European Americans ( N  = 1,496) and in Hispanic Americans ( N  = 839), we replicated significant association between rs9930506 in the FTO gene and BMI ( p -value for meta-analysis of European American and Hispanic American follow-up samples,  p =  0.001), weight ( p =  0.001), and hip circumference ( p =  0.0005). We did not replicate association between rs6602024 and obesity-related traits in the GenNet sample, although we found that in European Americans, Hispanic Americans, and African Americans, homozygotes for the rare “A” allele were, on average, 1.0–3.0 BMI units heavier than homozygotes for the more common “G” allele. In summary, we have completed a whole genome–association scan for three obesity-related quantitative traits and report that common genetic variants in the  FTO  gene are associated with substantial changes in BMI, hip circumference, and body weight. These changes could have a significant impact on the risk of obesity-related morbidity in the general population. Although twin and family studies have clearly shown that genes play a role in obesity, it has proven quite difficult to identify the specific genetic variants involved. Here, we take advantage of recent technical and methodological advances to examine the role of common genetic variants on several obesity-related traits. By examining >4,000 Sardinians, we show that a specific genetic variant, rs9930506, and other nearby variants on human Chromosome 16 are associated with body mass index, hip circumference, and total body weight. The variants overlap  FTO,  a gene with poorly understood function. Further studies of the region may implicate new biological pathways affecting susceptibility to obesity. We also show that the association is not restricted to Sardinia but is also seen in independent samples of European Americans and Hispanic Americans. This finding is particularly important because obesity is associated with increased risk of cardiovascular disease and diabetes.\n",
      "\n",
      "17684544\n",
      "crohn's disease 19133\n",
      "\tcrohn's disease http://www.ebi.ac.uk/efo/EFO_0000384 gastritis associated with crohn's disease|ileitis, terminal|colitis, granulomatous|ileitis, regional|crohn's disease|enteritis, granulomatous|crohns disease|crohns dis|ileocolitis|enteritis, regional|gastritis associated with crohn disease|crohn disease|crohn dis|crohn's associated gastritis\n",
      "Systematic Association Mapping Identifies  NELL1  as a Novel IBD Disease Gene. Crohn disease (CD), a sub-entity of inflammatory bowel disease (IBD), is a complex polygenic disorder. Although recent studies have successfully identified CD-associated genetic variants, these susceptibility loci explain only a fraction of the heritability of the disease. Here, we report on a multi-stage genome-wide scan of 393 German CD cases and 399 controls. Among the 116,161 single-nucleotide polymorphisms tested, an association with the known CD susceptibility gene  NOD2 , the  5q31  haplotype, and the recently reported CD locus at  5p13.1  was confirmed. In addition, SNP rs1793004 in the gene encoding nel-like 1 precursor ( NELL1,  chromosome  11p15.1 ) showed a consistent disease-association in independent German population- and family-based samples (942 cases, 1082 controls, 375 trios). Subsequent fine mapping and replication in an independent sample of 454 French/Canadian CD trios supported the authenticity of the  NELL1  association. Further confirmation in a large German ulcerative colitis (UC) sample indicated that  NELL1  is a ubiquitous IBD susceptibility locus (combined p<10 −6 ; OR = 1.66, 95% CI: 1.30–2.11). The novel  5p13.1  locus was also replicated in the French/Canadian sample and in an independent UK CD patient panel (453 cases, 521 controls, combined p<10 −6  for SNP rs1992660). Several associations were replicated in at least one independent sample, point to an involvement of  ITGB6  (upstream),  GRM8  (downstream),  OR5V1  (downstream),  PPP3R2  (downstream),  NM_152575  (upstream) and  HNF4G  (intron).\n",
      "\n",
      "17903292\n",
      "cystatin c 19105\n",
      "\tcystatin c measurement http://www.ebi.ac.uk/efo/EFO_0004617 \n",
      "thyroid stimulating hormone 19106\n",
      "\tthyroid stimulating hormone measurement http://www.ebi.ac.uk/efo/EFO_0004748 thyrotropin measurement|thyroid stimulating hormone level|thyroid stimulating hormone levels\n",
      "\tthyroid function http://www.ebi.ac.uk/efo/EFO_0004296 \n",
      "urinary albumin excretion 19107\n",
      "\talbuminuria http://www.ebi.ac.uk/efo/EFO_0004285 urinary albumin excretion\n",
      "A genome-wide association for kidney function and endocrine-related traits in the NHLBI's Framingham Heart Study. Glomerular filtration rate (GFR) and urinary albumin excretion (UAE) are markers of kidney function that are known to be heritable. Many endocrine conditions have strong familial components. We tested for association between the Affymetrix GeneChip Human Mapping 100K single nucleotide polymorphism (SNP) set and measures of kidney function and endocrine traits. Genotype information on the Affymetrix GeneChip Human Mapping 100K SNP set was available on 1345 participants. Serum creatinine and cystatin-C (cysC; n = 981) were measured at the seventh examination cycle (1998–2001); GFR (n = 1010) was estimated via the Modification of Diet in Renal Disease (MDRD) equation; UAE was measured on spot urine samples during the sixth examination cycle (1995–1998) and was indexed to urinary creatinine (n = 822). Thyroid stimulating hormone (TSH) was measured at the third and fourth examination cycles (1981–1984; 1984–1987) and mean value of the measurements were used (n = 810). Age-sex-adjusted and multivariable-adjusted residuals for these measurements were used in association with genotype data using generalized estimating equations (GEE) and family-based association tests (FBAT) models. We presented the results for association tests using additive allele model. We evaluated associations with 70,987 SNPs on autosomes with minor allele frequencies of at least 0.10, Hardy-Weinberg Equilibrium p-value ≥ 0.001, and call rates of at least 80%. The top SNPs associated with these traits using the GEE method were rs2839235 with GFR (p-value 1.6*10 -05 ), rs1158167 with cysC (p-value 8.5*10 -09 ), rs1712790 with UAE (p-value 1.9*10 -06 ), and rs6977660 with TSH (p-value 3.7*10 -06 ), respectively. The top SNPs associated with these traits using the FBAT method were rs6434804 with GFR(p-value 2.4*10 -5 ), rs563754 with cysC (p-value 4.7*10 -5 ), rs1243400 with UAE (p-value 4.8*10 -6 ), and rs4128956 with TSH (p-value 3.6*10 -5 ), respectively. Detailed association test results can be found at  . Four SNPs in or near the  CST 3 gene were highly associated with cysC levels (p-value 8.5*10 -09  to 0.007). Kidney function traits and TSH are associated with SNPs on the Affymetrix GeneChip Human Mapping 100K SNP set. These data will serve as a valuable resource for replication as more SNPs associated with kidney function and endocrine traits are identified.\n",
      "\n",
      "17903293\n",
      "select biomarker traits 19101\n",
      "\tccl2 measurement http://www.ebi.ac.uk/efo/EFO_0004749 monocyte chemotactic protein-1 measurement|chemokine ccl2 level|monocyte chemoattractant protein-1 measurement|chemokine ccl2 levels|monocyte chemotactic protein-1 levels|monocyte chemotactic protein-1 level\n",
      "\tserum alanine aminotransferase measurement http://www.ebi.ac.uk/efo/EFO_0004735 alanine transaminase measurement|alanine aminotransferase measurement\n",
      "\tatrial natriuretic factor measurement http://www.ebi.ac.uk/efo/EFO_0004789 \n",
      "\tcd40 ligand measurement http://www.ebi.ac.uk/efo/EFO_0004790 cd154 ligand measurement\n",
      "\talkaline phosphatase measurement http://www.ebi.ac.uk/efo/EFO_0004533 ap\n",
      "\tbilirubin measurement http://www.ebi.ac.uk/efo/EFO_0004570 bilirubin levels\n",
      "\tvitamin d measurement http://www.ebi.ac.uk/efo/EFO_0004631 \n",
      "\tvitamin k measurement http://www.ebi.ac.uk/efo/EFO_0004618 phylloquinone measurement\n",
      "\ttumor necrosis factor-alpha measurement http://www.ebi.ac.uk/efo/EFO_0004684 \n",
      "\tc-reactive protein measurement http://www.ebi.ac.uk/efo/EFO_0004458 c-reactive protein level\n",
      "Genome-wide association with select biomarker traits in the Framingham Heart Study. Systemic biomarkers provide insights into disease pathogenesis, diagnosis, and risk stratification. Many systemic biomarker concentrations are heritable phenotypes. Genome-wide association studies (GWAS) provide mechanisms to investigate the genetic contributions to biomarker variability unconstrained by current knowledge of physiological relations. We examined the association of Affymetrix 100K GeneChip single nucleotide polymorphisms (SNPs) to 22 systemic biomarker concentrations in 4 biological domains: inflammation/oxidative stress; natriuretic peptides; liver function; and vitamins. Related members of the Framingham Offspring cohort (n = 1012; mean age 59 ± 10 years, 51% women) had both phenotype and genotype data (minimum-maximum per phenotype n = 507–1008). We used Generalized Estimating Equations (GEE), Family Based Association Tests (FBAT) and variance components linkage to relate SNPs to multivariable-adjusted biomarker residuals. Autosomal SNPs (n = 70,987) meeting the following criteria were studied: minor allele frequency ≥ 10%, call rate ≥ 80% and Hardy-Weinberg equilibrium p ≥ 0.001. With  GEE , 58 SNPs had p < 10 -6 : the top SNPs were rs2494250 (p = 1.00*10 -14 ) and rs4128725 (p = 3.68*10 -12 ) for monocyte chemoattractant protein-1 (MCP1), and rs2794520 (p = 2.83*10 -8 ) and rs2808629 (p = 3.19*10 -8 ) for C-reactive protein (CRP) averaged from 3 examinations (over about 20 years). With  FBAT , 11 SNPs had p < 10 -6 : the top SNPs were the same for MCP1 (rs4128725, p = 3.28*10 -8 , and rs2494250, p = 3.55*10 -8 ), and also included B-type natriuretic peptide (rs437021, p = 1.01*10 -6 ) and Vitamin K percent undercarboxylated osteocalcin (rs2052028, p = 1.07*10 -6 ). The peak  LOD  (logarithm of the odds) scores were for MCP1 (4.38, chromosome 1) and CRP (3.28, chromosome 1; previously described) concentrations; of note the 1.5 support interval included the MCP1 and CRP SNPs reported above (GEE model). Previous candidate SNP associations with circulating CRP concentrations were replicated at p < 0.05; the SNPs rs2794520 and rs2808629 are in linkage disequilibrium with previously reported SNPs. GEE, FBAT and linkage results are posted at  . The Framingham GWAS represents a resource to describe potentially novel genetic influences on systemic biomarker variability. The newly described associations will need to be replicated in other studies.\n",
      "\n",
      "17903294\n",
      "factor vii 19131\n",
      "\tfactor vii measurement http://www.ebi.ac.uk/efo/EFO_0004619 \n",
      "hemostatic factors and hematological phenotypes 19132\n",
      "\thematological measurement http://www.ebi.ac.uk/efo/EFO_0004503 \n",
      "\themoglobin measurement http://www.ebi.ac.uk/efo/EFO_0004509 hb|haemoglobin measurement|hemoglobin count\n",
      "\tplatelet aggregation http://purl.obolibrary.org/obo/GO_0070527 \n",
      "\terythrocyte count http://www.ebi.ac.uk/efo/EFO_0004305 erythrocyte number|red blood cell count|rbc\n",
      "\tblood viscosity http://www.ebi.ac.uk/efo/EFO_0004301 \n",
      "\tplasminogen activator inhibitor 1 measurement http://www.ebi.ac.uk/efo/EFO_0004792 \n",
      "\ttissue plasminogen activator measurement http://www.ebi.ac.uk/efo/EFO_0004791 \n",
      "\tmean corpuscular hemoglobin http://www.ebi.ac.uk/efo/EFO_0004527 mch|mean corpuscular haemoglobin\n",
      "\tprotein c measurement http://www.ebi.ac.uk/efo/EFO_0004633 coagulation factor xiv\n",
      "\tprotein s measurement http://www.ebi.ac.uk/efo/EFO_0004637 \n",
      "Genome-wide association and linkage analyses of hemostatic factors and hematological phenotypes in the Framingham Heart Study. Increased circulating levels of hemostatic factors as well as anemia have been associated with increased risk of cardiovascular disease (CVD). Known associations between hemostatic factors and sequence variants at genes encoding these factors explain only a small proportion of total phenotypic variation. We sought to confirm known putative loci and identify novel loci that may influence either trait in genome-wide association and linkage analyses using the Affymetrix GeneChip 100K single nucleotide polymorphism (SNP) set. Plasma levels of circulating hemostatic factors (fibrinogen, factor VII, plasminogen activator inhibitor-1, von Willebrand factor, tissue plasminogen activator, D-dimer) and hematological phenotypes (platelet aggregation, viscosity, hemoglobin, red blood cell count, mean corpuscular volume, mean corpuscular hemoglobin concentration) were obtained in approximately 1000 Framingham Heart Study (FHS) participants from 310 families. Population-based association analyses using the generalized estimating equations (GEE), family-based association test (FBAT), and multipoint variance components linkage analyses were performed on the multivariable adjusted residuals of hemostatic and hematological phenotypes. In association analysis, the lowest GEE p-value for hemostatic factors was p = 4.5*10 -16  for factor VII at SNP rs561241, a variant located near the  F7  gene and in complete linkage disequilibrium (LD) (r 2  = 1) with the Arg353Gln  F7  SNP previously shown to account for 9% of total phenotypic variance. The lowest GEE p-value for hematological phenotypes was 7*10 -8  at SNP rs2412522 on chromosome 4 for mean corpuscular hemoglobin concentration. We presented top 25 most significant GEE results with p-values in the range of 10 -6  to 10 -5  for hemostatic or hematological phenotypes. In relating 100K SNPs to known candidate genes, we identified two SNPs (rs1582055, rs4897475) in erythrocyte membrane protein band 4.1-like 2 ( EPB41L2 ) associated with hematological phenotypes (GEE p < 10 -3 ). In linkage analyses, the highest linkage LOD score for hemostatic factors was 3.3 for factor VII on chromosome 10 around 15 Mb, and for hematological phenotypes, LOD 3.4 for hemoglobin on chromosome 4 around 55 Mb. All GEE and FBAT association and variance components linkage results can be found at  Using genome-wide association methodology, we have successfully identified a SNP in complete LD with a sequence variant previously shown to be strongly associated with factor VII, providing proof of principle for this approach. Further study of additional strongly associated SNPs and linked regions may identify novel variants that influence the inter-individual variability in hemostatic factors and hematological phenotypes.\n",
      "\n",
      "17903295\n",
      "morbidity-free survival 19115\n",
      "\tdisease free survival http://www.ebi.ac.uk/efo/EFO_0000409  disease-free survival|morbidity-free survival\n",
      "aging traits 19116\n",
      "\tage at menopause http://www.ebi.ac.uk/efo/EFO_0004704 \n",
      "\texercise test http://www.ebi.ac.uk/efo/EFO_0004328 stress test\n",
      "\taging http://purl.obolibrary.org/obo/GO_0007568 senescence|aging, biological|biological aging|biol aging|aging biol\n",
      "\tage at death http://www.ebi.ac.uk/efo/EFO_0005056 \n",
      "Genetic correlates of longevity and selected age-related phenotypes: a genome-wide association study in the Framingham Study. Family studies and heritability estimates provide evidence for a genetic contribution to variation in the human life span. We conducted a genome wide association study (Affymetrix 100K SNP GeneChip) for longevity-related traits in a community-based sample. We report on 5 longevity and aging traits in up to 1345 Framingham Study participants from 330 families. Multivariable-adjusted residuals were computed using appropriate models (Cox proportional hazards, logistic, or linear regression) and the residuals from these models were used to test for association with qualifying SNPs (70, 987 autosomal SNPs with genotypic call rate ≥80%, minor allele frequency ≥10%, Hardy-Weinberg test p ≥ 0.001). In family-based association test (FBAT) models, 8 SNPs in two regions approximately 500 kb apart on chromosome 1 (physical positions 73,091,610 and 73, 527,652) were associated with age at death (p-value < 10 -5 ). The two sets of SNPs were in high linkage disequilibrium (minimum r 2  = 0.58). The top 30 SNPs for generalized estimating equation (GEE) tests of association with age at death included rs10507486 (p = 0.0001) and rs4943794 (p = 0.0002), SNPs intronic to  FOXO1A , a gene implicated in lifespan extension in animal models. FBAT models identified 7 SNPs and GEE models identified 9 SNPs associated with both age at death and morbidity-free survival at age 65 including rs2374983 near  PON1 . In the analysis of selected candidate genes, SNP associations (FBAT or GEE p-value < 0.01) were identified for age at death in or near the following genes:  FOXO1A, GAPDH, KL, LEPR, PON1, PSEN1, SOD2, and WRN . Top ranked SNP associations in the GEE model for age at natural menopause included rs6910534 (p = 0.00003) near  FOXO3a  and rs3751591 (p = 0.00006) in  CYP19A1 . Results of all longevity phenotype-genotype associations for all autosomal SNPs are web posted at  . Longevity and aging traits are associated with SNPs on the Affymetrix 100K GeneChip. None of the associations achieved genome-wide significance. These data generate hypotheses and serve as a resource for replication as more genes and biologic pathways are proposed as contributing to longevity and healthy aging.\n",
      "\n",
      "17903296\n",
      "bone mineral density 19108\n",
      "\tbone density http://www.ebi.ac.uk/efo/EFO_0003923 density, bone mineral|bone densities|bone mineral density|bone mineral densities|density, bone|bmd\n",
      "hip geometry 19109\n",
      "\thip geometry http://www.ebi.ac.uk/efo/EFO_0004685 \n",
      "Genome-wide association with bone mass and geometry in the Framingham Heart Study. Osteoporosis is characterized by low bone mass and compromised bone structure, heritable traits that contribute to fracture risk. There have been no genome-wide association and linkage studies for these traits using high-density genotyping platforms. We used the Affymetrix 100K SNP GeneChip marker set in the Framingham Heart Study (FHS) to examine genetic associations with ten primary quantitative traits: bone mineral density (BMD), calcaneal ultrasound, and geometric indices of the hip. To test associations with multivariable-adjusted residual trait values, we used additive generalized estimating equation (GEE) and family-based association tests (FBAT) models within each sex as well as sexes combined. We evaluated 70,987 autosomal SNPs with genotypic call rates ≥80%, HWE p ≥ 0.001, and MAF ≥10% in up to 1141 phenotyped individuals (495 men and 646 women, mean age 62.5 yrs). Variance component linkage analysis was performed using 11,200 markers. Heritability estimates for all bone phenotypes were 30–66%. LOD scores ≥3.0 were found on chromosomes 15 (1.5 LOD confidence interval: 51,336,679–58,934,236 bp) and 22 (35,890,398–48,603,847 bp) for femoral shaft section modulus. The ten primary phenotypes had 12 associations with 100K SNPs in GEE models at p < 0.000001 and 2 associations in FBAT models at p < 0.000001. The 25 most significant p-values for GEE and FBAT were all less than 3.5 × 10 -6  and 2.5 × 10 -5 , respectively. Of the 40 top SNPs with the greatest numbers of significantly associated BMD traits (including femoral neck, trochanter, and lumbar spine), one half to two-thirds were in or near genes that have  not  previously been studied for osteoporosis. Notably, pleiotropic associations between BMD and bone geometric traits were uncommon. Evidence for association (FBAT or GEE p < 0.05) was observed for several SNPs in candidate genes for osteoporosis, such as rs1801133 in  MTHFR ; rs1884052 and rs3778099 in  ESR1 ; rs4988300 in  LRP5 ; rs2189480 in  VDR ; rs2075555 in  COLIA1 ; rs10519297 and rs2008691 in  CYP19 , as well as SNPs in  PPARG  (rs10510418 and rs2938392) and  ANKH  (rs2454873 and rs379016). All GEE, FBAT and linkage results are provided as an open-access results resource at  . The FHS 100K SNP project offers an unbiased genome-wide strategy to identify new candidate loci and to replicate previously suggested candidate genes for osteoporosis.\n",
      "\n",
      "17903297\n",
      "cognitive test performance 19124\n",
      "\tneuropsychological test http://www.ebi.ac.uk/efo/EFO_0003926 test, aphasia|aphasia test|tests neuropsychol|memory for designs test|neuropsychologic tests|tests, aphasia|neuropsychologic test|test, neuropsychological|neuropsychological tests|neuropsychol test|tests, neuropsychologic|test, neuropsychologic|aphasia tests|cognitive performance|cognitive performance test|cognitive test performance|neuropsychol tests|test neuropsychol|tests, neuropsychological\n",
      "volumetric brain mri 19125\n",
      "\tvolumetric brain mri http://www.ebi.ac.uk/efo/EFO_0004868 \n",
      "Genetic correlates of brain aging on MRI and cognitive test measures: a genome-wide association and linkage analysis in the Framingham study. Brain magnetic resonance imaging (MRI) and cognitive tests can identify heritable endophenotypes associated with an increased risk of developing stroke, dementia and Alzheimer's disease (AD). We conducted a genome-wide association (GWA) and linkage analysis exploring the genetic basis of these endophenotypes in a community-based sample. A total of 705 stroke- and dementia-free Framingham participants (age 62 +9 yrs, 50% male) who underwent volumetric brain MRI and cognitive testing (1999–2002) were genotyped. We used linear models adjusting for first degree relationships via generalized estimating equations (GEE) and family based association tests (FBAT) in additive models to relate qualifying single nucleotide polymorphisms (SNPs, 70,987 autosomal on Affymetrix 100K Human Gene Chip with minor allele frequency ≥ 0.10, genotypic call rate ≥ 0.80, and Hardy-Weinberg equilibrium p-value ≥ 0.001) to multivariable-adjusted residuals of 9 MRI measures including total cerebral brain (TCBV), lobar, ventricular and white matter hyperintensity (WMH) volumes, and 6 cognitive factors/tests assessing verbal and visuospatial memory, visual scanning and motor speed, reading, abstract reasoning and naming. We determined multipoint identity-by-descent utilizing 10,592 informative SNPs and 613 short tandem repeats and used variance component analyses to compute LOD scores. The strongest gene-phenotype association in FBAT analyses was between  SORL1  (rs1131497; p = 3.2 × 10 -6 ) and abstract reasoning, and in GEE analyses between  CDH4  (rs1970546; p = 3.7 × 10 -8 ) and TCBV. SORL1  plays a role in amyloid precursor protein processing and has been associated with the risk of AD. Among the 50 strongest associations (25 each by GEE and FBAT) were other biologically interesting genes. Polymorphisms within 28 of 163 candidate genes for stroke, AD and memory impairment were associated with the endophenotypes studied at p < 0.001. We confirmed our previously reported linkage of WMH on chromosome 4 and describe linkage of reading performance to a marker on chromosome 18 (GATA11A06), previously linked to dyslexia (LOD scores = 2.2 and 5.1). Our results suggest that genes associated with clinical neurological disease also have detectable effects on subclinical phenotypes. These hypothesis generating data illustrate the use of an unbiased approach to discover novel pathways that may be involved in brain aging, and could be used to replicate observations made in other studies.\n",
      "\n",
      "17903298\n",
      "diabetes related insulin traits 19117\n",
      "\ta1c measurement http://www.ebi.ac.uk/efo/EFO_0004541 hba1c levels|glycosylated haemoglobin a level|glycosylated hemoglobin a level|glycated hemoglobin levels\n",
      "\tfasting blood insulin measurement http://www.ebi.ac.uk/efo/EFO_0004466 fasting blood insulin|fasting blood insulin level|fasting insulin-related traits\n",
      "\tinsulin sensitivity measurement http://www.ebi.ac.uk/efo/EFO_0004471 insulin sensitivity test\n",
      "\tinsulin resistance http://www.ebi.ac.uk/efo/EFO_0002614 drug resistance to insulin (disorder)\n",
      "fasting plasma glucose 19118\n",
      "\tfasting blood glucose measurement http://www.ebi.ac.uk/efo/EFO_0004465 fasting glucose-related traits|fasting blood glucose level|fasting plasma glucose\n",
      "diabetes (incident) 19119\n",
      "\tdiabetes mellitus http://www.ebi.ac.uk/efo/EFO_0000400 dm - diabetes mellitus|diabetes mellitus, nos|diabetes|diabetes mellitus (disorder)|diabetes nos\n",
      "Genome-wide association with diabetes-related traits in the Framingham Heart Study. Susceptibility to type 2 diabetes may be conferred by genetic variants having modest effects on risk. Genome-wide fixed marker arrays offer a novel approach to detect these variants. We used the Affymetrix 100K SNP array in 1,087 Framingham Offspring Study family members to examine genetic associations with three diabetes-related quantitative glucose traits (fasting plasma glucose (FPG), hemoglobin A1c, 28-yr time-averaged FPG (tFPG)), three insulin traits (fasting insulin, HOMA-insulin resistance, and 0–120 min insulin sensitivity index); and with risk for diabetes. We used additive generalized estimating equations (GEE) and family-based association test (FBAT) models to test associations of SNP genotypes with sex-age-age 2 -adjusted residual trait values, and Cox survival models to test incident diabetes. We found 415 SNPs associated (at p < 0.001) with at least one of the six quantitative traits in GEE, 242 in FBAT (18 overlapped with GEE for 639 non-overlapping SNPs), and 128 associated with incident diabetes (31 overlapped with the 639) giving 736 non-overlapping SNPs. Of these 736 SNPs, 439 were within 60 kb of a known gene. Additionally, 53 SNPs (of which 42 had r 2  < 0.80 with each other) had p < 0.01 for incident diabetes AND (all 3 glucose traits OR all 3 insulin traits, OR 2 glucose traits and 2 insulin traits); of these, 36 overlapped with the 736 other SNPs. Of 100K SNPs, one (rs7100927) was in moderate LD (r 2  = 0.50) with  TCF7L2  (rs7903146), and was associated with risk of diabetes (Cox p-value 0.007, additive hazard ratio for diabetes = 1.56) and with tFPG (GEE p-value 0.03). There were no common (MAF > 1%) 100K SNPs in LD (r 2  > 0.05) with  ABCC8  A1369S (rs757110),  KCNJ11  E23K (rs5219), or SNPs in  CAPN10  or  HNFa . PPARG  P12A (rs1801282) was not significantly associated with diabetes or related traits. Framingham 100K SNP data is a resource for association tests of known and novel genes with diabetes and related traits posted at  . Framingham 100K data replicate the  TCF7L2  association with diabetes.\n",
      "\n"
     ]
    }
   ],
   "source": [
    "from extractor.util import gold_agg_phen_recall\n",
    "kb = KnowledgeBase()\n",
    "id2doc = {doc.name : doc for doc in corpus.documents}\n",
    "gold_agg_dict_phen = { doc_id : set() for doc_id, phen_id in gold_set_agg_phens }\n",
    "for doc_id, phen_id in gold_set_agg_phens:\n",
    "    gold_agg_dict_phen[doc_id].add(phen_id)\n",
    "\n",
    "for doc in corpus.documents[:10]:\n",
    "    doc_id = doc.name\n",
    "    if len(gold_agg_dict_phen[doc_id]) > 3: continue # skip if >3 gwc_phen_ids in doc\n",
    "    print doc_id\n",
    "    for phen_id2 in gold_agg_dict_phen[doc_id]: # iterate over gwc_id's in doc\n",
    "        print agg_id2phen[phen_id2].name, phen_id2 # print its name and id\n",
    "        for eq_phen in agg_id2phen[phen_id2].equivalents: # loop over equivalent phens\n",
    "            print '\\t', eq_phen.name, eq_phen.ontology_ref, eq_phen.synonyms # print name, ref, synonyms\n",
    "    print ' '.join(s.text for s in id2doc[doc_id].sentences)\n",
    "    print"
   ]
  },
  {
   "cell_type": "markdown",
   "metadata": {},
   "source": [
    "An important experiment to do is to count how many papers support each class."
   ]
  },
  {
   "cell_type": "code",
   "execution_count": 68,
   "metadata": {
    "collapsed": false
   },
   "outputs": [
    {
     "data": {
      "text/plain": [
       "(1422, 2088)"
      ]
     },
     "execution_count": 68,
     "metadata": {},
     "output_type": "execute_result"
    }
   ],
   "source": [
    "# How many aggregate classes in total in the database?\n",
    "from db.kb import db_session\n",
    "from db.schema import Phenotype, Paper\n",
    "\n",
    "all_phens=db_session.query(Phenotype).filter(Phenotype.source=='gwas_catalog').all()\n",
    "all_papers=db_session.query(Paper).all()\n",
    "len(all_phens), len(all_papers)"
   ]
  },
  {
   "cell_type": "code",
   "execution_count": null,
   "metadata": {
    "collapsed": true
   },
   "outputs": [],
   "source": []
  }
 ],
 "metadata": {
  "kernelspec": {
   "display_name": "Python 2",
   "language": "python",
   "name": "python2"
  },
  "language_info": {
   "codemirror_mode": {
    "name": "ipython",
    "version": 2
   },
   "file_extension": ".py",
   "mimetype": "text/x-python",
   "name": "python",
   "nbconvert_exporter": "python",
   "pygments_lexer": "ipython2",
   "version": "2.7.2"
  }
 },
 "nbformat": 4,
 "nbformat_minor": 0
}
