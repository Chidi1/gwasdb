{
 "cells": [
  {
   "cell_type": "markdown",
   "metadata": {},
   "source": [
    "# Phenotype extraction"
   ]
  },
  {
   "cell_type": "code",
   "execution_count": 1,
   "metadata": {
    "collapsed": false
   },
   "outputs": [],
   "source": [
    "%load_ext autoreload\n",
    "%autoreload 2\n",
    "\n",
    "import sys\n",
    "import cPickle\n",
    "\n",
    "# import snorkel and gwasdb\n",
    "sys.path.append('../snorkel')\n",
    "sys.path.append('../src')\n",
    "sys.path.append('../src/crawler')\n",
    "\n",
    "# set up paths\n",
    "abstract_dir = '../data/db/papers'\n",
    "\n",
    "# set up matplotlib\n",
    "import matplotlib\n",
    "%matplotlib inline\n",
    "matplotlib.rcParams['figure.figsize'] = (12,4)"
   ]
  },
  {
   "cell_type": "markdown",
   "metadata": {},
   "source": [
    "## Extract phenotype candidates from papers"
   ]
  },
  {
   "cell_type": "markdown",
   "metadata": {},
   "source": [
    "### Load corpus"
   ]
  },
  {
   "cell_type": "code",
   "execution_count": 2,
   "metadata": {
    "collapsed": false
   },
   "outputs": [],
   "source": [
    "from snorkel.parser import XMLDocParser\n",
    "from extractor.parser import UnicodeXMLDocParser, GWASXMLDocParser\n",
    "\n",
    "xml_parser = GWASXMLDocParser(\n",
    "    path=abstract_dir,\n",
    "    doc='./*',\n",
    "    title='.//front//article-title//text()',\n",
    "    abstract='.//abstract//p//text()',\n",
    "    par1='.//body/p[1]//text()',\n",
    "    id='.//article-id[@pub-id-type=\"pmid\"]/text()',\n",
    "    keep_xml_tree=True)"
   ]
  },
  {
   "cell_type": "code",
   "execution_count": 3,
   "metadata": {
    "collapsed": false
   },
   "outputs": [
    {
     "name": "stdout",
     "output_type": "stream",
     "text": [
      "CPU times: user 2.38 s, sys: 201 ms, total: 2.58 s\n",
      "Wall time: 24.7 s\n"
     ]
    }
   ],
   "source": [
    "from snorkel.parser import HTMLParser\n",
    "from snorkel.parser import SentenceParser\n",
    "from snorkel.parser import CorpusParser\n",
    "\n",
    "sent_parser = SentenceParser()\n",
    "html_parser = HTMLParser(path='../data/db/papers/')\n",
    "\n",
    "corpus_name = 'gwas-text-corpus.pkl'\n",
    "\n",
    "try:\n",
    "    with open(corpus_name,\"r\") as pkl:\n",
    "        corpus = cPickle.load(pkl)\n",
    "except:\n",
    "    cp = CorpusParser(xml_parser, sent_parser, max_docs=100)\n",
    "    %time corpus = cp.parse_corpus(name='GWAS Corpus')\n",
    "    # pickling currently doesn't work...\n",
    "#     with open(corpus_name,\"w\") as pkl:\n",
    "#         corpus = cPickle.dump(corpus, pkl)"
   ]
  },
  {
   "cell_type": "markdown",
   "metadata": {},
   "source": [
    "### Extract candidates"
   ]
  },
  {
   "cell_type": "code",
   "execution_count": 13,
   "metadata": {
    "collapsed": false
   },
   "outputs": [
    {
     "name": "stdout",
     "output_type": "stream",
     "text": [
      "CPU times: user 23.9 s, sys: 189 ms, total: 24.1 s\n",
      "Wall time: 24.1 s\n",
      "16731 candidates extracted\n"
     ]
    }
   ],
   "source": [
    "from snorkel.candidates import Ngrams\n",
    "from snorkel.matchers import DictionaryMatch\n",
    "from snorkel.candidates import EntityExtractor\n",
    "\n",
    "from extractor.util import change_name\n",
    "from extractor.matcher import PhenotypeMatcher\n",
    "from db.kb import KnowledgeBase\n",
    "\n",
    "# Define a candidate space\n",
    "ngrams = Ngrams(n_max=4)\n",
    "\n",
    "# collect phenotype list\n",
    "kb = KnowledgeBase()\n",
    "phenotype_list = kb.get_phenotype_candidates()\n",
    "\n",
    "# Define matchers\n",
    "# phen_matcher = DictionaryMatch(d=phenotype_list, longest_match_only=True, ignore_case=True, stemmer='porter')\n",
    "phen_matcher = PhenotypeMatcher(d=phenotype_list, ignore_case=True, mod_fn=change_name)\n",
    "\n",
    "# Extractor\n",
    "ngrams = Ngrams(n_max=7)\n",
    "phen_extractor = EntityExtractor(ngrams, phen_matcher)\n",
    "\n",
    "# collect candidates\n",
    "%time phen_c = phen_extractor.extract(corpus.get_sentences(), name='all')\n",
    "print len(phen_c), 'candidates extracted'"
   ]
  },
  {
   "cell_type": "markdown",
   "metadata": {},
   "source": [
    "We would like to remove nested candidates (manually, for now)."
   ]
  },
  {
   "cell_type": "code",
   "execution_count": 14,
   "metadata": {
    "collapsed": false
   },
   "outputs": [
    {
     "name": "stdout",
     "output_type": "stream",
     "text": [
      "6932 candidates dropped, now we have 9799\n"
     ]
    }
   ],
   "source": [
    "# load existing candidates into a dict\n",
    "span_dict = { str(span.context) : list() for span in phen_c }\n",
    "for span in phen_c:\n",
    "    span_dict[str(span.context)].append( (span.char_start, span.char_end) )\n",
    "\n",
    "def nested(ivl1, ivl2):\n",
    "    if ivl1 != ivl2 and ivl2[0] <= ivl1[0] <= ivl1[1] <= ivl2[1]:\n",
    "        return True\n",
    "    else:\n",
    "        return False\n",
    "\n",
    "new_phen_c = list()\n",
    "for span in phen_c:\n",
    "    span_ivl = span.char_start, span.char_end\n",
    "    span_name = str(span.context)\n",
    "    if all([not nested(span_ivl, other_ivl) for other_ivl in span_dict[span_name]]):\n",
    "        new_phen_c.append(span)\n",
    "        \n",
    "print len(phen_c) - len(new_phen_c), 'candidates dropped, now we have', len(new_phen_c)\n",
    "phen_c = new_phen_c"
   ]
  },
  {
   "cell_type": "markdown",
   "metadata": {},
   "source": [
    "### Create gold-truth set"
   ]
  },
  {
   "cell_type": "code",
   "execution_count": 20,
   "metadata": {
    "collapsed": false
   },
   "outputs": [
    {
     "name": "stdout",
     "output_type": "stream",
     "text": [
      "Found 322 gold mentions, e.g.:\n",
      "[('17658951', u'http://www.ebi.ac.uk/efo/EFO_0004764'), ('17903294', u'http://purl.obolibrary.org/obo/GO_0070527'), ('20038947', u'http://www.ebi.ac.uk/efo/EFO_0003761'), ('19197348', u'http://www.ebi.ac.uk/efo/EFO_0004748'), ('17658951', u'http://www.ebi.ac.uk/efo/EFO_0004626')]\n",
      "833 216\n"
     ]
    }
   ],
   "source": [
    "from db.kb import KnowledgeBase\n",
    "from nltk.stem import PorterStemmer\n",
    "from extractor.util import change_name\n",
    "\n",
    "kb = KnowledgeBase() # reload\n",
    "gold_set_phens = frozenset \\\n",
    "([ \n",
    "    (doc.name, phen.ontology_ref) for doc in corpus.documents \n",
    "                                  for phen in kb.phen_by_pmid(doc.name, source='efo')\n",
    "])\n",
    "\n",
    "# map phenotype names to their id\n",
    "# TODO: change this to be like in the version below! (i.e. using sets)\n",
    "phen2id = \\\n",
    "{\n",
    "    change_name(syn) : phen.ontology_ref for doc in corpus.documents\n",
    "                                                  for phen in kb.phen_by_pmid(doc.name, source='efo')\n",
    "                                                  for syn in [phen.name] + phen.synonyms.split('|')\n",
    "}\n",
    "\n",
    "id2phen = \\\n",
    "{\n",
    "    phen.ontology_ref : phen for doc in corpus.documents\n",
    "                             for phen in kb.phen_by_pmid(doc.name, source='efo')\n",
    "}\n",
    "\n",
    "print 'Found %d gold mentions, e.g.:' % len(gold_set_phens)\n",
    "print list(gold_set_phens)[:5]\n",
    "print len(phen2id), len(id2phen)"
   ]
  },
  {
   "cell_type": "markdown",
   "metadata": {},
   "source": [
    "## Statistics"
   ]
  },
  {
   "cell_type": "markdown",
   "metadata": {},
   "source": [
    "First, we need to understand whether the extraction or the classification approach will be better."
   ]
  },
  {
   "cell_type": "markdown",
   "metadata": {},
   "source": [
    "### Number of phenotypes per paper"
   ]
  },
  {
   "cell_type": "markdown",
   "metadata": {},
   "source": [
    "#### Number of EFO phenotypes per paper"
   ]
  },
  {
   "cell_type": "code",
   "execution_count": 16,
   "metadata": {
    "collapsed": false
   },
   "outputs": [
    {
     "name": "stdout",
     "output_type": "stream",
     "text": [
      "EFO phenotype numbers per paper: [1, 1, 1, 1, 1, 1, 1, 1, 1, 1, 1, 1, 1, 1, 1, 1, 1, 1, 1, 1, 1, 1, 1, 1, 1, 1, 1, 1, 1, 1, 1, 1, 1, 1, 1, 1, 1, 1, 1, 1, 1, 1, 1, 1, 1, 1, 1, 1, 1, 1, 1, 1, 1, 1, 1, 1, 1, 1, 1, 1, 1, 1, 1, 1, 1, 2, 2, 2, 2, 2, 2, 2, 2, 2, 2, 2, 2, 2, 3, 3, 3, 4, 4, 4, 4, 4, 5, 5, 5, 6, 6, 7, 7, 7, 10, 11, 13, 17, 37, 66]\n"
     ]
    }
   ],
   "source": [
    "docid2efo = \\\n",
    "{\n",
    "    doc.name : [ phen.name for phen in kb.phen_by_pmid(doc.name, source='efo') ] for doc in corpus.documents\n",
    "}\n",
    "print 'EFO phenotype numbers per paper:', sorted([len(v) for v in docid2efo.values()])"
   ]
  },
  {
   "cell_type": "markdown",
   "metadata": {},
   "source": [
    "#### Number of GWAS catalog (i.e. aggregate) phenotypes per paper"
   ]
  },
  {
   "cell_type": "code",
   "execution_count": 17,
   "metadata": {
    "collapsed": false
   },
   "outputs": [
    {
     "name": "stdout",
     "output_type": "stream",
     "text": [
      "GWAS catalog phenotype numbers per paper: [1, 1, 1, 1, 1, 1, 1, 1, 1, 1, 1, 1, 1, 1, 1, 1, 1, 1, 1, 1, 1, 1, 1, 1, 1, 1, 1, 1, 1, 1, 1, 1, 1, 1, 1, 1, 1, 1, 1, 1, 1, 1, 1, 1, 1, 1, 1, 1, 1, 1, 1, 1, 1, 1, 1, 1, 1, 1, 1, 1, 1, 1, 1, 1, 1, 1, 1, 1, 1, 1, 1, 1, 1, 1, 1, 1, 1, 1, 1, 1, 1, 1, 2, 2, 2, 2, 2, 2, 2, 2, 2, 2, 2, 2, 2, 2, 3, 3, 3, 3]\n"
     ]
    }
   ],
   "source": [
    "docid2efo = \\\n",
    "{\n",
    "    doc.name : [ phen.name for phen in kb.phen_by_pmid(doc.name, source='gwas_catalog') ] for doc in corpus.documents\n",
    "}\n",
    "print 'GWAS catalog phenotype numbers per paper:', sorted([len(v) for d, v in docid2efo.items()])"
   ]
  },
  {
   "cell_type": "markdown",
   "metadata": {},
   "source": [
    "### Candidate recall statistics"
   ]
  },
  {
   "cell_type": "markdown",
   "metadata": {},
   "source": [
    "#### Over EFO phenotypes"
   ]
  },
  {
   "cell_type": "code",
   "execution_count": 18,
   "metadata": {
    "collapsed": false
   },
   "outputs": [
    {
     "name": "stdout",
     "output_type": "stream",
     "text": [
      "# of gold annotations\t= 322\n",
      "# of candidates\t\t= 9799\n",
      "Candidate recall\t= 0.419\n",
      "Candidate precision\t= 0.014\n"
     ]
    }
   ],
   "source": [
    "from extractor.util import gold_phen_stats\n",
    "gold_phen_stats(phen_c, gold_set_phens, phen2id)"
   ]
  },
  {
   "cell_type": "markdown",
   "metadata": {},
   "source": [
    "Why is the recall low?"
   ]
  },
  {
   "cell_type": "code",
   "execution_count": 22,
   "metadata": {
    "collapsed": false
   },
   "outputs": [
    {
     "name": "stdout",
     "output_type": "stream",
     "text": [
      "187\n",
      "19798445\n",
      "blood metabolite measurement http://www.ebi.ac.uk/efo/EFO_0005664\n",
      "sphingolipid measurement http://www.ebi.ac.uk/efo/EFO_0004622\n",
      "blood metabolite measurement http://www.ebi.ac.uk/efo/EFO_0005664\n",
      "\n",
      "Genetic determinants of circulating sphingolipid concentrations in European populations.\n",
      "Genetic Determinants of Circulating Sphingolipid Concentrations in European Populations. Sphingolipids have essential roles as structural components of cell membranes and in cell signalling, and disruption of their metabolism causes several diseases, with diverse neurological, psychiatric, and metabolic consequences. Increasingly, variants within a few of the genes that encode enzymes involved in sphingolipid metabolism are being associated with complex disease phenotypes. Direct experimental evidence supports a role of specific sphingolipid species in several common complex chronic disease processes including atherosclerotic plaque formation, myocardial infarction (MI), cardiomyopathy, pancreatic β-cell failure, insulin resistance, and type 2 diabetes mellitus. Therefore, sphingolipids represent novel and important intermediate phenotypes for genetic analysis, yet little is known about the major genetic variants that influence their circulating levels in the general population. We performed a genome-wide association study (GWAS) between 318,237 single-nucleotide polymorphisms (SNPs) and levels of circulating sphingomyelin (SM), dihydrosphingomyelin (Dih-SM), ceramide (Cer), and glucosylceramide (GluCer) single lipid species (33 traits); and 43 matched metabolite ratios measured in 4,400 subjects from five diverse European populations. Associated variants (32) in five genomic regions were identified with genome-wide significant corrected  p -values ranging down to 9.08×10 −66 . The strongest associations were observed in or near 7 genes functionally involved in ceramide biosynthesis and trafficking:  SPTLC3 ,  LASS4 ,  SGPP1 ,  ATP10D , and  FADS1–3 . Variants in 3 loci ( ATP10D ,  FADS3 , and  SPTLC3 ) associate with MI in a series of three German MI studies. An additional 70 variants across 23 candidate genes involved in sphingolipid-metabolizing pathways also demonstrate association ( p  = 10 −4  or less). Circulating concentrations of several key components in sphingolipid metabolism are thus under strong genetic control, and variants in these loci can be tested for a role in the development of common cardiovascular, metabolic, neurological, and psychiatric diseases. Although several rare monogenic diseases are caused by defects in enzymes involved in sphingolipid biosynthesis and metabolism, little is known about the major variants that control the circulating levels of these important bioactive molecules. As well as being essential components of plasma membranes and endosomes, sphingolipids play critical roles in cell surface protection, protein and lipid transport and sorting, and cellular signalling cascades. Experimental evidence supports a role for sphingolipids in several common complex chronic metabolic, cardiovascular, or neurological disease processes. Therefore, sphingolipids represent novel and important intermediate phenotypes for genetic analysis, and discovering the genetic variants that influence their circulating concentrations is an important step towards understanding how the genetic control of sphingolipids might contribute to common human disease. We have identified 32 variants in 7 genes that have a strong effect on the circulating plasma levels of 33 distinct sphingolipids, and 43 matched metabolite ratios. In a series of 3 German MI studies, we see association with MI for variants in 3 of the genes tested. Further cardiovascular, metabolic, neurological, and psychiatric disease associations can be tested with the variants described here, which may identify additional disease risk and potentially useful therapeutic targets.\n",
      "\n",
      "17903300\n",
      "waist circumference http://www.ebi.ac.uk/efo/EFO_0004342\n",
      "body mass index http://www.ebi.ac.uk/efo/EFO_0004340\n",
      "longitudinal bmi measurement http://www.ebi.ac.uk/efo/EFO_0005937\n",
      "longitudinal bmi measurement http://www.ebi.ac.uk/efo/EFO_0005937\n",
      "body mass index change measurement\n",
      "Genome-wide association to body mass index and waist circumference: the Framingham Heart Study 100K project.\n",
      "Genome-wide association to body mass index and waist circumference: the Framingham Heart Study 100K project. Obesity is related to multiple cardiovascular disease (CVD) risk factors as well as CVD and has a strong familial component. We tested for association between SNPs on the Affymetrix 100K SNP GeneChip and measures of adiposity in the Framingham Heart Study. A total of 1341 Framingham Heart Study participants in 310 families genotyped with the Affymetrix 100K SNP GeneChip had adiposity traits measured over 30 years of follow up. Body mass index (BMI), waist circumference (WC), weight change, height, and radiographic measures of adiposity (subcutaneous adipose tissue, visceral adipose tissue, waist circumference, sagittal height) were measured at multiple examination cycles. Multivariable-adjusted residuals, adjusting for age, age-squared, sex, smoking, and menopausal status, were evaluated in association with the genotype data using additive Generalized Estimating Equations (GEE) and Family Based Association Test (FBAT) models. We prioritized mean BMI over offspring examinations (1–7) and cohort examinations (10, 16, 18, 20, 22, 24, 26) and mean WC over offspring examinations (4–7) for presentation. We evaluated associations with 70,987 SNPs on autosomes with minor allele frequencies of at least 0.10, Hardy-Weinberg equilibrium p ≥ 0.001, and call rates of at least 80%. The top SNPs to be associated with mean BMI and mean WC by GEE were rs110683 (p-value 1.22*10 -7 ) and rs4471028 (p-values 1.96*10 -7 ). Please see   for the complete set of results. We were able to validate SNPs in known genes that have been related to BMI or other adiposity traits, including the  ESR1  Xba1 SNP,  PPARG , and  ADIPOQ . Adiposity traits are associated with SNPs on the Affymetrix 100K SNP GeneChip. Replication of these initial findings is necessary. These data will serve as a resource for replication as more genes become identified with BMI and WC.\n",
      "\n",
      "19570815\n",
      "body height http://www.ebi.ac.uk/efo/EFO_0004339\n",
      "anthropometry http://www.ebi.ac.uk/efo/EFO_0004302\n",
      "anthropometry http://www.ebi.ac.uk/efo/EFO_0004302\n",
      "anthropometric traits\n",
      "A genome-wide association study of northwestern Europeans involves the C-type natriuretic peptide signaling pathway in the etiology of human height variation.\n",
      "A genome-wide association study of northwestern Europeans involves the C-type natriuretic peptide signaling pathway in the etiology of human height variation. Northwestern Europeans are among the tallest of human populations. The increase in body height in these people appears to have reached a plateau, suggesting the ubiquitous presence of an optimal environment in which genetic factors may have exerted a particularly strong influence on human growth. Therefore, we performed a genome-wide association study (GWAS) of body height using 2.2 million markers in 10 074 individuals from three Dutch and one German population-based cohorts. Upon genotyping, the 12 most significantly height-associated single nucleotide polymorphisms (SNPs) from this GWAS in 6912 additional individuals of Dutch and Swedish origin, a genetic variant (rs6717918) on chromosome 2q37.1 was found to be associated with height at a genome-wide significance level ( P combined  = 3.4 × 10 −9 ). Notably, a second SNP (rs6718438) located ∼450 bp away and in strong LD ( r 2  = 0.77) with rs6717918 was previously found to be suggestive of a height association in 29 820 individuals of mainly northwestern European ancestry, and the over-expression of a nearby natriuretic peptide precursor type C ( NPPC ) gene, has been associated with overgrowth and skeletal anomalies. We also found a SNP (rs10472828) located on 5p14 near the natriuretic peptide receptor 3 ( NPR3 ) gene, encoding a receptor of the NPPC ligand, to be associated with body height ( P combined  = 2.1 × 10 −7 ). Taken together, these results suggest that variation in the C-type natriuretic peptide signaling pathway, involving the  NPPC  and  NPR3  genes, plays an important role in determining human body height.\n",
      "\n",
      "19343178\n",
      "body height http://www.ebi.ac.uk/efo/EFO_0004339\n",
      "anthropometry http://www.ebi.ac.uk/efo/EFO_0004302\n",
      "anthropometry http://www.ebi.ac.uk/efo/EFO_0004302\n",
      "anthropometric traits\n",
      "Meta-analysis of genome-wide scans for human adult stature identifies novel Loci and associations with measures of skeletal frame size.\n",
      "Meta-Analysis of Genome-Wide Scans for Human Adult Stature Identifies Novel Loci and Associations with Measures of Skeletal Frame Size. Recent genome-wide (GW) scans have identified several independent loci affecting human stature, but their contribution through the different skeletal components of height is still poorly understood. We carried out a genome-wide scan in 12,611 participants, followed by replication in an additional 7,187 individuals, and identified 17 genomic regions with GW-significant association with height. Of these, two are entirely novel (rs11809207 in  CATSPER4 , combined  P -value = 6.1×10 −8  and rs910316 in  TMED10 ,  P -value = 1.4×10 −7 ) and two had previously been described with weak statistical support (rs10472828 in  NPR3 ,  P -value = 3×10 −7  and rs849141 in  JAZF1 ,  P -value = 3.2×10 −11 ). One locus (rs1182188 at  GNA12 ) identifies the first height eQTL. We also assessed the contribution of height loci to the upper- (trunk) and lower-body (hip axis and femur) skeletal components of height. We find evidence for several loci associated with trunk length (including rs6570507 in  GPR126 ,  P -value = 4×10 −5  and rs6817306 in  LCORL ,  P -value = 4×10 −4 ), hip axis length (including rs6830062 at  LCORL ,  P -value = 4.8×10 −4  and rs4911494 at  UQCC ,  P -value = 1.9×10 −4 ), and femur length (including rs710841 at  PRKG2 ,  P -value = 2.4×10 −5  and rs10946808 at  HIST1H1D ,  P -value = 6.4×10 −6 ). Finally, we used conditional analyses to explore a possible differential contribution of the height loci to these different skeletal size measurements. In addition to validating four novel loci controlling adult stature, our study represents the first effort to assess the contribution of genetic loci to three skeletal components of height. Further statistical tests in larger numbers of individuals will be required to verify if the height loci affect height preferentially through these subcomponents of height. The first genetic association studies of adult height have confirmed a role of many common variants in influencing human height, but to date, the genetic basis of differences between different skeletal components of height have not been addressed. Here, we take advantage of recent technical and methodological advances to examine the role of common genetic variants on both height and skeletal components of height. By examining nearly 20,000 individuals from the UK and the Netherlands, we provide statistically significant evidence that 17 genomic regions are associated with height, including four novel regions. We also examine, for the first time, the association of these 17 regions with skeletal size measurements of spine, femur, and hip axis length, a measurement of hip geometry known to influence the risk of osteoporotic fractures. We find that some height loci are also associated with these skeletal components, although further statistical tests will be required to verify if these genetic variants act differentially on the individual skeletal measurements. The knowledge generated by this and other studies will not only inform the genetics of human quantitative variation, but will also lead to the potential discovery of many medically important polymorphisms.\n",
      "\n",
      "19116933\n",
      "chronic childhood arthritis http://www.ebi.ac.uk/efo/EFO_0002609\n",
      "chronic childhood arthritis http://www.ebi.ac.uk/efo/EFO_0002609\n",
      "arthritis, juvenile rheumatoid|juvenile chronic arthritis (disorder)|juvenile idiopathic arthritis (disorder)|juvenile rheumatoid arthritis, nos|juvenile rheumatoid arthritis|juvenile seropositive polyarthritis|juvenile rheumatoid a.|juvenile arthritis|juvenile rheumatoid arthritis (disorder)|juvenile rheumatoid arthritis nos (disorder)|arthritis (juvenile idiopathic)|breast myoepithelial carcinoma\n",
      "Identification of a novel susceptibility locus for juvenile idiopathic arthritis by genome-wide association analysis.\n",
      "Identification of a novel susceptibility locus for juvenile idiopathic arthritis by genome-wide association analysis. Juvenile idiopathic arthritis (JIA) is a chronic rheumatic disease of childhood. Two well-established genetic factors known to contribute to JIA susceptibility,  HLA  and  PTPN22 , account for less than half of the genetic susceptibility to disease; therefore, additional genetic factors have yet to be identified. The purpose of this study was to perform a systematic search of the genome to identify novel susceptibility loci for JIA. A genome-wide association study using Affymetrix GeneChip 100K arrays was performed in a discovery cohort (279 cases and 184 controls). Single-nucleotide polymorphisms (SNPs) showing the most significant differences between cases and controls were then genotyped in a validation sample of cases (n = 321) and controls, combined with control data from the 1958 UK birth cohort (n = 2,024). In one region in which association was confirmed, fine-mapping was performed (654 cases and 1,847 controls). Of the 112 SNPs that were significantly associated with JIA in the discovery cohort, 6 SNPs were associated with JIA in the independent validation cohort. The most strongly associated SNP mapped to the  HLA  region, while the second strongest association was with a SNP within the  VTCN1  gene. Fine-mapping of that gene was performed, and 10 SNPs were found to be associated with JIA. This study is the first to successfully apply a SNP-based genome-wide association approach to the investigation of JIA. The replicated association with markers in the  VTCN1  gene defined an additional susceptibility locus for JIA and implicates a novel pathway in the pathogenesis of this chronic disease of childhood.\n",
      "\n",
      "19300499\n",
      "response to anticoagulant http://purl.obolibrary.org/obo/GO_0061476\n",
      "response to anticoagulant http://purl.obolibrary.org/obo/GO_0061476\n",
      "\n",
      "A genome-wide association study confirms VKORC1, CYP2C9, and CYP4F2 as principal genetic determinants of warfarin dose.\n",
      "A Genome-Wide Association Study Confirms  VKORC1 ,  CYP2C9 , and  CYP4F2  as Principal Genetic Determinants of Warfarin Dose. We report the first genome-wide association study (GWAS) whose sample size (1,053 Swedish subjects) is sufficiently powered to detect genome-wide significance ( p <1.5×10 −7 ) for polymorphisms that modestly alter therapeutic warfarin dose. The anticoagulant drug warfarin is widely prescribed for reducing the risk of stroke, thrombosis, pulmonary embolism, and coronary malfunction. However, Caucasians vary widely (20-fold) in the dose needed for therapeutic anticoagulation, and hence prescribed doses may be too low (risking serious illness) or too high (risking severe bleeding). Prior work established that ∼30% of the dose variance is explained by single nucleotide polymorphisms (SNPs) in the warfarin drug target  VKORC1  and another ∼12% by two non-synonymous SNPs ( *2 ,  *3 ) in the cytochrome P450 warfarin-metabolizing gene  CYP2C9 . We initially tested each of 325,997 GWAS SNPs for association with warfarin dose by univariate regression and found the strongest statistical signals ( p <10 −78 ) at SNPs clustering near  VKORC1  and the second lowest p-values ( p <10 −31 ) emanating from  CYP2C9 . No other SNPs approached genome-wide significance. To enhance detection of weaker effects, we conducted multiple regression adjusting for known influences on warfarin dose ( VKORC1 ,  CYP2C9 , age, gender) and identified a single SNP (rs2108622) with genome-wide significance ( p  = 8.3×10 −10 ) that alters protein coding of the  CYP4F2  gene. We confirmed this result in 588 additional Swedish patients ( p <0.0029) and, during our investigation, a second group provided independent confirmation from a scan of warfarin-metabolizing genes. We also thoroughly investigated copy number variations, haplotypes, and imputed SNPs, but found no additional highly significant warfarin associations. We present power analysis of our GWAS that is generalizable to other studies, and conclude we had 80% power to detect genome-wide significance for common causative variants or markers explaining at least 1.5% of dose variance. These GWAS results provide further impetus for conducting large-scale trials assessing patient benefit from genotype-based forecasting of warfarin dose. Recently, geneticists have begun assaying hundreds of thousands of genetic markers covering the entire human genome to systematically search for and identify genes that cause disease. We have extended this “genome-wide association study” (GWAS) method by assaying ∼326,000 markers in 1,053 Swedish patients in order to identify genes that alter response to the anticoagulant drug warfarin. Warfarin is widely prescribed to reduce blood clotting in order to protect high-risk patients from stroke, thrombosis, and heart attack. But patients vary widely (20-fold) in the warfarin dose needed for proper blood thinning, which means that initial doses in some patients are too high (risking severe bleeding) or too low (risking serious illness). Our GWAS detected two genes ( VKORC1 ,  CYP2C9 ) already known to cause ∼40% of the variability in warfarin dose and discovered a new gene ( CYP4F2 ) contributing 1%–2% of the variability. Since our GWAS searched the entire genome, additional genes having a major influence on warfarin dose might not exist or be found in the near-term. Hence, clinical trials assessing patient benefit from individualized dose forecasting based on a patient's genetic makeup at  VKORC1 ,  CYP2C9  and possibly  CYP4F2  could provide state-of-the-art clinical benchmarks for warfarin use during the foreseeable future.\n",
      "\n",
      "17903297\n",
      "neuropsychological test http://www.ebi.ac.uk/efo/EFO_0003926\n",
      "volumetric brain mri http://www.ebi.ac.uk/efo/EFO_0004868\n",
      "neuropsychological test http://www.ebi.ac.uk/efo/EFO_0003926\n",
      "test, aphasia|aphasia test|tests neuropsychol|memory for designs test|neuropsychologic tests|tests, aphasia|neuropsychologic test|test, neuropsychological|neuropsychological tests|neuropsychol test|tests, neuropsychologic|test, neuropsychologic|aphasia tests|cognitive performance|cognitive performance test|cognitive test performance|neuropsychol tests|test neuropsychol|tests, neuropsychological\n",
      "Genetic correlates of brain aging on MRI and cognitive test measures: a genome-wide association and linkage analysis in the Framingham Study.\n",
      "Genetic correlates of brain aging on MRI and cognitive test measures: a genome-wide association and linkage analysis in the Framingham study. Brain magnetic resonance imaging (MRI) and cognitive tests can identify heritable endophenotypes associated with an increased risk of developing stroke, dementia and Alzheimer's disease (AD). We conducted a genome-wide association (GWA) and linkage analysis exploring the genetic basis of these endophenotypes in a community-based sample. A total of 705 stroke- and dementia-free Framingham participants (age 62 +9 yrs, 50% male) who underwent volumetric brain MRI and cognitive testing (1999–2002) were genotyped. We used linear models adjusting for first degree relationships via generalized estimating equations (GEE) and family based association tests (FBAT) in additive models to relate qualifying single nucleotide polymorphisms (SNPs, 70,987 autosomal on Affymetrix 100K Human Gene Chip with minor allele frequency ≥ 0.10, genotypic call rate ≥ 0.80, and Hardy-Weinberg equilibrium p-value ≥ 0.001) to multivariable-adjusted residuals of 9 MRI measures including total cerebral brain (TCBV), lobar, ventricular and white matter hyperintensity (WMH) volumes, and 6 cognitive factors/tests assessing verbal and visuospatial memory, visual scanning and motor speed, reading, abstract reasoning and naming. We determined multipoint identity-by-descent utilizing 10,592 informative SNPs and 613 short tandem repeats and used variance component analyses to compute LOD scores. The strongest gene-phenotype association in FBAT analyses was between  SORL1  (rs1131497; p = 3.2 × 10 -6 ) and abstract reasoning, and in GEE analyses between  CDH4  (rs1970546; p = 3.7 × 10 -8 ) and TCBV. SORL1  plays a role in amyloid precursor protein processing and has been associated with the risk of AD. Among the 50 strongest associations (25 each by GEE and FBAT) were other biologically interesting genes. Polymorphisms within 28 of 163 candidate genes for stroke, AD and memory impairment were associated with the endophenotypes studied at p < 0.001. We confirmed our previously reported linkage of WMH on chromosome 4 and describe linkage of reading performance to a marker on chromosome 18 (GATA11A06), previously linked to dyslexia (LOD scores = 2.2 and 5.1). Our results suggest that genes associated with clinical neurological disease also have detectable effects on subclinical phenotypes. These hypothesis generating data illustrate the use of an unbiased approach to discover novel pathways that may be involved in brain aging, and could be used to replicate observations made in other studies.\n",
      "\n",
      "17903296\n",
      "bone density http://www.ebi.ac.uk/efo/EFO_0003923\n",
      "hip geometry http://www.ebi.ac.uk/efo/EFO_0004685\n",
      "hip geometry http://www.ebi.ac.uk/efo/EFO_0004685\n",
      "\n",
      "Genome-wide association with bone mass and geometry in the Framingham Heart Study.\n",
      "Genome-wide association with bone mass and geometry in the Framingham Heart Study. Osteoporosis is characterized by low bone mass and compromised bone structure, heritable traits that contribute to fracture risk. There have been no genome-wide association and linkage studies for these traits using high-density genotyping platforms. We used the Affymetrix 100K SNP GeneChip marker set in the Framingham Heart Study (FHS) to examine genetic associations with ten primary quantitative traits: bone mineral density (BMD), calcaneal ultrasound, and geometric indices of the hip. To test associations with multivariable-adjusted residual trait values, we used additive generalized estimating equation (GEE) and family-based association tests (FBAT) models within each sex as well as sexes combined. We evaluated 70,987 autosomal SNPs with genotypic call rates ≥80%, HWE p ≥ 0.001, and MAF ≥10% in up to 1141 phenotyped individuals (495 men and 646 women, mean age 62.5 yrs). Variance component linkage analysis was performed using 11,200 markers. Heritability estimates for all bone phenotypes were 30–66%. LOD scores ≥3.0 were found on chromosomes 15 (1.5 LOD confidence interval: 51,336,679–58,934,236 bp) and 22 (35,890,398–48,603,847 bp) for femoral shaft section modulus. The ten primary phenotypes had 12 associations with 100K SNPs in GEE models at p < 0.000001 and 2 associations in FBAT models at p < 0.000001. The 25 most significant p-values for GEE and FBAT were all less than 3.5 × 10 -6  and 2.5 × 10 -5 , respectively. Of the 40 top SNPs with the greatest numbers of significantly associated BMD traits (including femoral neck, trochanter, and lumbar spine), one half to two-thirds were in or near genes that have  not  previously been studied for osteoporosis. Notably, pleiotropic associations between BMD and bone geometric traits were uncommon. Evidence for association (FBAT or GEE p < 0.05) was observed for several SNPs in candidate genes for osteoporosis, such as rs1801133 in  MTHFR ; rs1884052 and rs3778099 in  ESR1 ; rs4988300 in  LRP5 ; rs2189480 in  VDR ; rs2075555 in  COLIA1 ; rs10519297 and rs2008691 in  CYP19 , as well as SNPs in  PPARG  (rs10510418 and rs2938392) and  ANKH  (rs2454873 and rs379016). All GEE, FBAT and linkage results are provided as an open-access results resource at  . The FHS 100K SNP project offers an unbiased genome-wide strategy to identify new candidate loci and to replicate previously suggested candidate genes for osteoporosis.\n",
      "\n",
      "18262040\n",
      "total cholesterol measurement http://www.ebi.ac.uk/efo/EFO_0004574\n",
      "lipid measurement http://www.ebi.ac.uk/efo/EFO_0004529\n",
      "low density lipoprotein cholesterol measurement http://www.ebi.ac.uk/efo/EFO_0004611\n",
      "lipid measurement http://www.ebi.ac.uk/efo/EFO_0004529\n",
      "\n",
      "LDL-cholesterol concentrations: a genome-wide association study.\n",
      "LDL-cholesterol concentrations: a genome-wide association study. LDL cholesterol has a causal role in the development of cardiovascular disease. Improved understanding of the biological mechanisms that underlie the metabolism and regulation of LDL cholesterol might help to identify novel therapeutic targets. We therefore did a genome-wide association study of LDL-cholesterol concentrations. We used genome-wide association data from up to 11 685 participants with measures of circulating LDL-cholesterol concentrations across five studies, including data for 293 461 autosomal single nucleotide polymorphisms (SNPs) with a minor allele frequency of 5% or more that passed our quality control criteria. We also used data from a second genome-wide array in up to 4337 participants from three of these five studies, with data for 290 140 SNPs. We did replication studies in two independent populations consisting of up to 4979 participants. Statistical approaches, including meta-analysis and linkage disequilibrium plots, were used to refine association signals; we analysed pooled data from all seven populations to determine the effect of each SNP on variations in circulating LDL-cholesterol concentrations. In our initial scan, we found two SNPs (rs599839 [p=1·7×10 −15 ] and rs4970834 [p=3·0×10 −11 ]) that showed genome-wide statistical association with LDL cholesterol at chromosomal locus 1p13.3. The second genome screen found a third statistically associated SNP at the same locus (rs646776 [p=4·3×10 −9 ]). Meta-analysis of data from all studies showed an association of SNPs rs599839 (combined p=1·2×10 −33 ) and rs646776 (p=4·8×10 −20 ) with LDL-cholesterol concentrations. SNPs rs599839 and rs646776 both explained around 1% of the variation in circulating LDL-cholesterol concentrations and were associated with about 15% of an SD change in LDL cholesterol per allele, assuming an SD of 1 mmol/L. We found evidence for a novel locus for LDL cholesterol on chromosome 1p13.3. These results potentially provide insight into the biological mechanisms that underlie the regulation of LDL cholesterol and might help in the discovery of novel therapeutic targets for cardiovascular disease.\n",
      "\n"
     ]
    }
   ],
   "source": [
    "from extractor.util import gold_phen_recall\n",
    "kb = KnowledgeBase()\n",
    "id2doc = {doc.name : doc for doc in corpus.documents}\n",
    "gold_dict_phen = { doc_id : set() for doc_id, phen_id in gold_set_phens }\n",
    "for doc_id, phen_id in gold_set_phens:\n",
    "    gold_dict_phen[doc_id].add(phen_id)\n",
    "\n",
    "phen_not_found = list(gold_phen_recall(phen_c, gold_set_phens, phen2id))\n",
    "print len(phen_not_found)\n",
    "for doc_id, phen_id in phen_not_found[:100]:\n",
    "    if len(gold_dict_phen[doc_id]) > 3: continue\n",
    "    print doc_id\n",
    "    for phen_id2 in gold_dict_phen[doc_id]:\n",
    "        print id2phen[phen_id2].name, phen_id2\n",
    "#     print gold_dict_phen[doc_id]\n",
    "    print id2phen[phen_id].name, id2phen[phen_id].ontology_ref\n",
    "    print id2phen[phen_id].synonyms    \n",
    "    print kb.title_by_pmid(doc_id)\n",
    "    print ' '.join(s.text for s in id2doc[doc_id].sentences)\n",
    "    print"
   ]
  },
  {
   "cell_type": "markdown",
   "metadata": {},
   "source": [
    "#### Over aggregate phenotypes"
   ]
  },
  {
   "cell_type": "markdown",
   "metadata": {},
   "source": [
    "We say that a mention for an aggregate phenotype is correct, if it corresponds to the name of the GWC phenotype or to the phenotype of any equivalent EFO phenotype."
   ]
  },
  {
   "cell_type": "code",
   "execution_count": 38,
   "metadata": {
    "collapsed": false
   },
   "outputs": [
    {
     "name": "stdout",
     "output_type": "stream",
     "text": [
      "Found 122 gold mentions, e.g.:\n",
      "[('17903295', 19116), ('17903300', 19103), ('19412175', 19249), ('18464913', 19158), ('20066028', 19672)]\n",
      "869 101\n",
      "Statistics over EFO phenotypes:\n",
      "# of gold annotations\t= 122\n",
      "# of candidates\t\t= 9799\n",
      "Candidate recall\t= 0.951\n",
      "Candidate precision\t= 0.012\n"
     ]
    }
   ],
   "source": [
    "from db.kb import KnowledgeBase\n",
    "from nltk.stem import PorterStemmer\n",
    "from extractor.util import change_name\n",
    "\n",
    "kb = KnowledgeBase() # reload\n",
    "gold_set_agg_phens = frozenset \\\n",
    "([ \n",
    "    (doc.name, phen.id) for doc in corpus.documents \n",
    "                        for phen in kb.phen_by_pmid(doc.name, source='gwas_catalog')\n",
    "])\n",
    "\n",
    "# map phenotype names to their id\n",
    "agg_phen2id = dict()\n",
    "for doc in corpus.documents:\n",
    "    for phen in kb.phen_by_pmid(doc.name, source='gwas_catalog'):\n",
    "        for eq_phen in phen.equivalents:\n",
    "            for syn in [phen.name] + [eq_phen.name] + eq_phen.synonyms.split('|'):\n",
    "                syn_name = change_name(syn)\n",
    "                if syn_name not in agg_phen2id: agg_phen2id[syn_name] = set()\n",
    "                agg_phen2id[syn_name].add(phen.id)\n",
    "                \n",
    "agg_id2phen = \\\n",
    "{\n",
    "    phen.id : phen for doc in corpus.documents\n",
    "                   for phen in kb.phen_by_pmid(doc.name, source='gwas_catalog')\n",
    "}\n",
    "\n",
    "print 'Found %d gold mentions, e.g.:' % len(gold_set_phens)\n",
    "print list(gold_set_phens)[:5]\n",
    "print len(phen2id), len(id2phen)\n",
    "\n",
    "from extractor.util import gold_phen_stats, gold_agg_phen_stats\n",
    "gold_agg_phen_stats(phen_c, gold_set_agg_phens, agg_phen2id)"
   ]
  },
  {
   "cell_type": "markdown",
   "metadata": {},
   "source": [
    "Why is the recall low?"
   ]
  },
  {
   "cell_type": "code",
   "execution_count": 41,
   "metadata": {
    "collapsed": false
   },
   "outputs": [
    {
     "name": "stdout",
     "output_type": "stream",
     "text": [
      "6\n",
      "19430483\n",
      "systolic blood pressure 19252\n",
      "systolic blood pressure http://www.ebi.ac.uk/efo/EFO_0006335\n",
      "diastolic blood pressure 19253\n",
      "diastolic blood pressure http://www.ebi.ac.uk/efo/EFO_0006336\n",
      "systolic blood pressure\n",
      "Eight blood pressure loci identified by genome-wide association study of 34,433 people of European ancestry. Elevated blood pressure is a common, heritable cause of cardiovascular disease worldwide. To date, identification of common genetic variants influencing blood pressure has proven challenging. We tested 2.5m genotyped and imputed SNPs for association with systolic and diastolic blood pressure in 34,433 subjects of European ancestry from the Global BPgen consortium and followed up findings with direct genotyping (N≤71,225 European ancestry, N=12,889 Indian Asian ancestry) and  in silico  comparison (CHARGE consortium, N=29,136). We identified association between systolic or diastolic blood pressure and common variants in 8 regions near the  CYP17A1  ( P =7×10 −24 ),  CYP1A2  ( P =1×10 −23 ),  FGF5  ( P =1×10 −21 ),  SH2B3  ( P =3×10 −18 ),  MTHFR  ( P =2×10 −13 ),  c10orf107  ( P =1×10 −9 ),  ZNF652  ( P =5×10 −9 ) and  PLCD3  ( P =1×10 −8 ) genes. All variants associated with continuous blood pressure were associated with dichotomous hypertension. These associations between common variants and blood pressure and hypertension offer mechanistic insights into the regulation of blood pressure and may point to novel targets for interventions to prevent cardiovascular disease.\n",
      "\n",
      "17903297\n",
      "cognitive test performance 19124\n",
      "neuropsychological test http://www.ebi.ac.uk/efo/EFO_0003926\n",
      "volumetric brain mri 19125\n",
      "volumetric brain mri http://www.ebi.ac.uk/efo/EFO_0004868\n",
      "cognitive test performance\n",
      "Genetic correlates of brain aging on MRI and cognitive test measures: a genome-wide association and linkage analysis in the Framingham study. Brain magnetic resonance imaging (MRI) and cognitive tests can identify heritable endophenotypes associated with an increased risk of developing stroke, dementia and Alzheimer's disease (AD). We conducted a genome-wide association (GWA) and linkage analysis exploring the genetic basis of these endophenotypes in a community-based sample. A total of 705 stroke- and dementia-free Framingham participants (age 62 +9 yrs, 50% male) who underwent volumetric brain MRI and cognitive testing (1999–2002) were genotyped. We used linear models adjusting for first degree relationships via generalized estimating equations (GEE) and family based association tests (FBAT) in additive models to relate qualifying single nucleotide polymorphisms (SNPs, 70,987 autosomal on Affymetrix 100K Human Gene Chip with minor allele frequency ≥ 0.10, genotypic call rate ≥ 0.80, and Hardy-Weinberg equilibrium p-value ≥ 0.001) to multivariable-adjusted residuals of 9 MRI measures including total cerebral brain (TCBV), lobar, ventricular and white matter hyperintensity (WMH) volumes, and 6 cognitive factors/tests assessing verbal and visuospatial memory, visual scanning and motor speed, reading, abstract reasoning and naming. We determined multipoint identity-by-descent utilizing 10,592 informative SNPs and 613 short tandem repeats and used variance component analyses to compute LOD scores. The strongest gene-phenotype association in FBAT analyses was between  SORL1  (rs1131497; p = 3.2 × 10 -6 ) and abstract reasoning, and in GEE analyses between  CDH4  (rs1970546; p = 3.7 × 10 -8 ) and TCBV. SORL1  plays a role in amyloid precursor protein processing and has been associated with the risk of AD. Among the 50 strongest associations (25 each by GEE and FBAT) were other biologically interesting genes. Polymorphisms within 28 of 163 candidate genes for stroke, AD and memory impairment were associated with the endophenotypes studied at p < 0.001. We confirmed our previously reported linkage of WMH on chromosome 4 and describe linkage of reading performance to a marker on chromosome 18 (GATA11A06), previously linked to dyslexia (LOD scores = 2.2 and 5.1). Our results suggest that genes associated with clinical neurological disease also have detectable effects on subclinical phenotypes. These hypothesis generating data illustrate the use of an unbiased approach to discover novel pathways that may be involved in brain aging, and could be used to replicate observations made in other studies.\n",
      "\n",
      "17903301\n",
      "exercise treadmill test traits 19128\n",
      "exercise test http://www.ebi.ac.uk/efo/EFO_0004328\n",
      "echocardiographic traits 19126\n",
      "left atrial function http://www.ebi.ac.uk/efo/EFO_0004294\n",
      "cardiovascular measurement http://www.ebi.ac.uk/efo/EFO_0004298\n",
      "left ventricular function http://www.ebi.ac.uk/efo/EFO_0004295\n",
      "endothelial function traits 19127\n",
      "cardiovascular measurement http://www.ebi.ac.uk/efo/EFO_0004298\n",
      "exercise treadmill test traits\n",
      "Genome-wide association of echocardiographic dimensions, brachial artery endothelial function and treadmill exercise responses in the Framingham Heart Study. Echocardiographic left ventricular (LV) measurements, exercise responses to standardized treadmill test (ETT) and brachial artery (BA) vascular function are heritable traits that are associated with cardiovascular disease risk. We conducted a genome-wide association study (GWAS) in the community-based Framingham Heart Study. We estimated multivariable-adjusted residuals for quantitative echocardiography, ETT and BA function traits. Echocardiography residuals were averaged across 4 examinations and included LV mass, diastolic and systolic dimensions, wall thickness, fractional shortening, left atrial and aortic root size. ETT measures (single exam) included systolic blood pressure and heart rate responses during exercise stage 2, and at 3 minutes post-exercise. BA measures (single exam) included vessel diameter, flow-mediated dilation (FMD), and baseline and hyperemic flow responses. Generalized estimating equations (GEE), family-based association tests (FBAT) and variance-components linkage were used to relate multivariable-adjusted trait residuals to 70,987 SNPs (Human 100K GeneChip, Affymetrix) restricted to autosomal SNPs with minor allele frequency ≥0.10, genotype call rate ≥0.80, and Hardy-Weinberg equilibrium p ≥ 0.001. We summarize results from 17 traits in up to 1238 related middle-aged to elderly men and women. Results of all association and linkage analyses are web-posted at  . We confirmed modest-to-strong heritabilities (estimates 0.30–0.52) for several Echo, ETT and BA function traits. Overall, p < 10 -5  in either GEE or FBAT models were observed for 21 SNPs (nine for echocardiography, eleven for ETT and one for BA function). The top SNPs associated were (GEE results): LV diastolic dimension, rs1379659 ( SLIT2 , p = 1.17*10 -7 ); LV systolic dimension, rs10504543 ( KCNB2 , p = 5.18*10 -6 ); LV mass, rs10498091 (p = 5.68*10 -6 ); Left atrial size, rs1935881 ( FAM5C , p = 6.56*10 -6 ); exercise heart rate, rs6847149 ( NOLA1 , p = 2.74*10 -6 ); exercise systolic blood pressure, rs2553268 ( WRN , p = 6.3*10 -6 ); BA baseline flow, rs3814219 ( OBFC1 , 9.48*10 -7 ), and FMD, rs4148686 ( CFTR , p = 1.13*10 -5 ). Several SNPs are reasonable biological candidates, with some being related to multiple traits suggesting pleiotropy. The peak LOD score was for LV mass (4.38; chromosome 5); the 1.5 LOD support interval included  NRG2 . In hypothesis-generating GWAS of echocardiography, ETT and BA vascular function in a moderate-sized community-based sample, we identified several SNPs that are candidates for replication attempts and we provide a web-based GWAS resource for the research community.\n",
      "\n",
      "17903301\n",
      "exercise treadmill test traits 19128\n",
      "exercise test http://www.ebi.ac.uk/efo/EFO_0004328\n",
      "echocardiographic traits 19126\n",
      "left atrial function http://www.ebi.ac.uk/efo/EFO_0004294\n",
      "cardiovascular measurement http://www.ebi.ac.uk/efo/EFO_0004298\n",
      "left ventricular function http://www.ebi.ac.uk/efo/EFO_0004295\n",
      "endothelial function traits 19127\n",
      "cardiovascular measurement http://www.ebi.ac.uk/efo/EFO_0004298\n",
      "endothelial function traits\n",
      "Genome-wide association of echocardiographic dimensions, brachial artery endothelial function and treadmill exercise responses in the Framingham Heart Study. Echocardiographic left ventricular (LV) measurements, exercise responses to standardized treadmill test (ETT) and brachial artery (BA) vascular function are heritable traits that are associated with cardiovascular disease risk. We conducted a genome-wide association study (GWAS) in the community-based Framingham Heart Study. We estimated multivariable-adjusted residuals for quantitative echocardiography, ETT and BA function traits. Echocardiography residuals were averaged across 4 examinations and included LV mass, diastolic and systolic dimensions, wall thickness, fractional shortening, left atrial and aortic root size. ETT measures (single exam) included systolic blood pressure and heart rate responses during exercise stage 2, and at 3 minutes post-exercise. BA measures (single exam) included vessel diameter, flow-mediated dilation (FMD), and baseline and hyperemic flow responses. Generalized estimating equations (GEE), family-based association tests (FBAT) and variance-components linkage were used to relate multivariable-adjusted trait residuals to 70,987 SNPs (Human 100K GeneChip, Affymetrix) restricted to autosomal SNPs with minor allele frequency ≥0.10, genotype call rate ≥0.80, and Hardy-Weinberg equilibrium p ≥ 0.001. We summarize results from 17 traits in up to 1238 related middle-aged to elderly men and women. Results of all association and linkage analyses are web-posted at  . We confirmed modest-to-strong heritabilities (estimates 0.30–0.52) for several Echo, ETT and BA function traits. Overall, p < 10 -5  in either GEE or FBAT models were observed for 21 SNPs (nine for echocardiography, eleven for ETT and one for BA function). The top SNPs associated were (GEE results): LV diastolic dimension, rs1379659 ( SLIT2 , p = 1.17*10 -7 ); LV systolic dimension, rs10504543 ( KCNB2 , p = 5.18*10 -6 ); LV mass, rs10498091 (p = 5.68*10 -6 ); Left atrial size, rs1935881 ( FAM5C , p = 6.56*10 -6 ); exercise heart rate, rs6847149 ( NOLA1 , p = 2.74*10 -6 ); exercise systolic blood pressure, rs2553268 ( WRN , p = 6.3*10 -6 ); BA baseline flow, rs3814219 ( OBFC1 , 9.48*10 -7 ), and FMD, rs4148686 ( CFTR , p = 1.13*10 -5 ). Several SNPs are reasonable biological candidates, with some being related to multiple traits suggesting pleiotropy. The peak LOD score was for LV mass (4.38; chromosome 5); the 1.5 LOD support interval included  NRG2 . In hypothesis-generating GWAS of echocardiography, ETT and BA vascular function in a moderate-sized community-based sample, we identified several SNPs that are candidates for replication attempts and we provide a web-based GWAS resource for the research community.\n",
      "\n",
      "17903301\n",
      "exercise treadmill test traits 19128\n",
      "exercise test http://www.ebi.ac.uk/efo/EFO_0004328\n",
      "echocardiographic traits 19126\n",
      "left atrial function http://www.ebi.ac.uk/efo/EFO_0004294\n",
      "cardiovascular measurement http://www.ebi.ac.uk/efo/EFO_0004298\n",
      "left ventricular function http://www.ebi.ac.uk/efo/EFO_0004295\n",
      "endothelial function traits 19127\n",
      "cardiovascular measurement http://www.ebi.ac.uk/efo/EFO_0004298\n",
      "echocardiographic traits\n",
      "Genome-wide association of echocardiographic dimensions, brachial artery endothelial function and treadmill exercise responses in the Framingham Heart Study. Echocardiographic left ventricular (LV) measurements, exercise responses to standardized treadmill test (ETT) and brachial artery (BA) vascular function are heritable traits that are associated with cardiovascular disease risk. We conducted a genome-wide association study (GWAS) in the community-based Framingham Heart Study. We estimated multivariable-adjusted residuals for quantitative echocardiography, ETT and BA function traits. Echocardiography residuals were averaged across 4 examinations and included LV mass, diastolic and systolic dimensions, wall thickness, fractional shortening, left atrial and aortic root size. ETT measures (single exam) included systolic blood pressure and heart rate responses during exercise stage 2, and at 3 minutes post-exercise. BA measures (single exam) included vessel diameter, flow-mediated dilation (FMD), and baseline and hyperemic flow responses. Generalized estimating equations (GEE), family-based association tests (FBAT) and variance-components linkage were used to relate multivariable-adjusted trait residuals to 70,987 SNPs (Human 100K GeneChip, Affymetrix) restricted to autosomal SNPs with minor allele frequency ≥0.10, genotype call rate ≥0.80, and Hardy-Weinberg equilibrium p ≥ 0.001. We summarize results from 17 traits in up to 1238 related middle-aged to elderly men and women. Results of all association and linkage analyses are web-posted at  . We confirmed modest-to-strong heritabilities (estimates 0.30–0.52) for several Echo, ETT and BA function traits. Overall, p < 10 -5  in either GEE or FBAT models were observed for 21 SNPs (nine for echocardiography, eleven for ETT and one for BA function). The top SNPs associated were (GEE results): LV diastolic dimension, rs1379659 ( SLIT2 , p = 1.17*10 -7 ); LV systolic dimension, rs10504543 ( KCNB2 , p = 5.18*10 -6 ); LV mass, rs10498091 (p = 5.68*10 -6 ); Left atrial size, rs1935881 ( FAM5C , p = 6.56*10 -6 ); exercise heart rate, rs6847149 ( NOLA1 , p = 2.74*10 -6 ); exercise systolic blood pressure, rs2553268 ( WRN , p = 6.3*10 -6 ); BA baseline flow, rs3814219 ( OBFC1 , 9.48*10 -7 ), and FMD, rs4148686 ( CFTR , p = 1.13*10 -5 ). Several SNPs are reasonable biological candidates, with some being related to multiple traits suggesting pleiotropy. The peak LOD score was for LV mass (4.38; chromosome 5); the 1.5 LOD support interval included  NRG2 . In hypothesis-generating GWAS of echocardiography, ETT and BA vascular function in a moderate-sized community-based sample, we identified several SNPs that are candidates for replication attempts and we provide a web-based GWAS resource for the research community.\n",
      "\n",
      "19116933\n",
      "arthritis (juvenile idiopathic) 19172\n",
      "chronic childhood arthritis http://www.ebi.ac.uk/efo/EFO_0002609\n",
      "arthritis (juvenile idiopathic)\n",
      "Identification of a novel susceptibility locus for juvenile idiopathic arthritis by genome-wide association analysis. Juvenile idiopathic arthritis (JIA) is a chronic rheumatic disease of childhood. Two well-established genetic factors known to contribute to JIA susceptibility,  HLA  and  PTPN22 , account for less than half of the genetic susceptibility to disease; therefore, additional genetic factors have yet to be identified. The purpose of this study was to perform a systematic search of the genome to identify novel susceptibility loci for JIA. A genome-wide association study using Affymetrix GeneChip 100K arrays was performed in a discovery cohort (279 cases and 184 controls). Single-nucleotide polymorphisms (SNPs) showing the most significant differences between cases and controls were then genotyped in a validation sample of cases (n = 321) and controls, combined with control data from the 1958 UK birth cohort (n = 2,024). In one region in which association was confirmed, fine-mapping was performed (654 cases and 1,847 controls). Of the 112 SNPs that were significantly associated with JIA in the discovery cohort, 6 SNPs were associated with JIA in the independent validation cohort. The most strongly associated SNP mapped to the  HLA  region, while the second strongest association was with a SNP within the  VTCN1  gene. Fine-mapping of that gene was performed, and 10 SNPs were found to be associated with JIA. This study is the first to successfully apply a SNP-based genome-wide association approach to the investigation of JIA. The replicated association with markers in the  VTCN1  gene defined an additional susceptibility locus for JIA and implicates a novel pathway in the pathogenesis of this chronic disease of childhood.\n",
      "\n"
     ]
    }
   ],
   "source": [
    "from extractor.util import gold_agg_phen_recall\n",
    "kb = KnowledgeBase()\n",
    "id2doc = {doc.name : doc for doc in corpus.documents}\n",
    "gold_dict_phen = { doc_id : set() for doc_id, phen_id in gold_set_phens }\n",
    "for doc_id, phen_id in gold_set_phens:\n",
    "    gold_dict_phen[doc_id].add(phen_id)\n",
    "\n",
    "phen_not_found = list(gold_agg_phen_recall(phen_c, gold_set_agg_phens, agg_phen2id))\n",
    "print len(phen_not_found)\n",
    "for doc_id, phen_id in phen_not_found[:100]:\n",
    "    if len(gold_dict_phen[doc_id]) > 3: continue\n",
    "    print doc_id\n",
    "    for phen_id2 in gold_dict_phen[doc_id]:\n",
    "        print id2phen[phen_id2].name, phen_id2\n",
    "        for eq_phen in id2phen[phen_id2].equivalents:\n",
    "            print eq_phen.name, eq_phen.ontology_ref\n",
    "#     print gold_dict_phen[doc_id]\n",
    "    print id2phen[phen_id].name\n",
    "#     print id2phen[phen_id].synonyms    \n",
    "#     print kb.title_by_pmid(doc_id)\n",
    "    print ' '.join(s.text for s in id2doc[doc_id].sentences)\n",
    "    print"
   ]
  },
  {
   "cell_type": "markdown",
   "metadata": {},
   "source": [
    "## Extraction performance"
   ]
  },
  {
   "cell_type": "markdown",
   "metadata": {},
   "source": [
    "## Classification performance"
   ]
  },
  {
   "cell_type": "code",
   "execution_count": null,
   "metadata": {
    "collapsed": true
   },
   "outputs": [],
   "source": []
  }
 ],
 "metadata": {
  "kernelspec": {
   "display_name": "Python 2",
   "language": "python",
   "name": "python2"
  },
  "language_info": {
   "codemirror_mode": {
    "name": "ipython",
    "version": 2
   },
   "file_extension": ".py",
   "mimetype": "text/x-python",
   "name": "python",
   "nbconvert_exporter": "python",
   "pygments_lexer": "ipython2",
   "version": "2.7.2"
  }
 },
 "nbformat": 4,
 "nbformat_minor": 0
}
