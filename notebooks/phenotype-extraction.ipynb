{
 "cells": [
  {
   "cell_type": "markdown",
   "metadata": {},
   "source": [
    "# Phenotype extraction"
   ]
  },
  {
   "cell_type": "code",
   "execution_count": 12,
   "metadata": {
    "collapsed": false
   },
   "outputs": [
    {
     "name": "stdout",
     "output_type": "stream",
     "text": [
      "The autoreload extension is already loaded. To reload it, use:\n",
      "  %reload_ext autoreload\n"
     ]
    }
   ],
   "source": [
    "%load_ext autoreload\n",
    "%autoreload 2\n",
    "\n",
    "import sys\n",
    "import cPickle\n",
    "\n",
    "# import snorkel and gwasdb\n",
    "sys.path.append('../snorkel')\n",
    "sys.path.append('../src')\n",
    "sys.path.append('../src/crawler')\n",
    "\n",
    "# set up paths\n",
    "abstract_dir = '../data/db/papers'\n",
    "\n",
    "# set up matplotlib\n",
    "import matplotlib\n",
    "%matplotlib inline\n",
    "matplotlib.rcParams['figure.figsize'] = (12,4)"
   ]
  },
  {
   "cell_type": "markdown",
   "metadata": {},
   "source": [
    "## Extract phenotype candidates from papers"
   ]
  },
  {
   "cell_type": "markdown",
   "metadata": {},
   "source": [
    "### Load corpus"
   ]
  },
  {
   "cell_type": "code",
   "execution_count": 13,
   "metadata": {
    "collapsed": false
   },
   "outputs": [],
   "source": [
    "from snorkel.parser import XMLDocParser\n",
    "from extractor.parser import UnicodeXMLDocParser, GWASXMLAbstractParser\n",
    "\n",
    "xml_parser = GWASXMLAbstractParser(\n",
    "    path=abstract_dir,\n",
    "    doc='./*',\n",
    "    title='.//front//article-title//text()',\n",
    "    abstract='.//abstract//p//text()',\n",
    "    par1='.//body/p[1]//text()',\n",
    "    id='.//article-id[@pub-id-type=\"pmid\"]/text()',\n",
    "    keep_xml_tree=True)"
   ]
  },
  {
   "cell_type": "code",
   "execution_count": 14,
   "metadata": {
    "collapsed": false
   },
   "outputs": [
    {
     "name": "stdout",
     "output_type": "stream",
     "text": [
      "CPU times: user 13.5 s, sys: 994 ms, total: 14.5 s\n",
      "Wall time: 1min 28s\n"
     ]
    }
   ],
   "source": [
    "from snorkel.parser import HTMLParser\n",
    "from snorkel.parser import SentenceParser\n",
    "from snorkel.parser import CorpusParser\n",
    "\n",
    "sent_parser = SentenceParser()\n",
    "html_parser = HTMLParser(path='../data/db/papers/')\n",
    "\n",
    "corpus_name = 'gwas-text-corpus.pkl'\n",
    "\n",
    "try:\n",
    "    with open(corpus_name,\"r\") as pkl:\n",
    "        corpus = cPickle.load(pkl)\n",
    "except:\n",
    "    cp = CorpusParser(xml_parser, sent_parser)\n",
    "    %time corpus = cp.parse_corpus(name='GWAS Corpus')\n",
    "    # pickling currently doesn't work...\n",
    "#     with open(corpus_name,\"w\") as pkl:\n",
    "#         corpus = cPickle.dump(corpus, pkl)"
   ]
  },
  {
   "cell_type": "markdown",
   "metadata": {},
   "source": [
    "### Extract candidates"
   ]
  },
  {
   "cell_type": "code",
   "execution_count": null,
   "metadata": {
    "collapsed": false
   },
   "outputs": [],
   "source": [
    "from snorkel.candidates import Ngrams\n",
    "from snorkel.matchers import DictionaryMatch, Union, RegexMatchSpan\n",
    "from snorkel.candidates import EntityExtractor\n",
    "from snorkel.utils import slice_into_ngrams\n",
    "\n",
    "from extractor.util import change_name\n",
    "from extractor.matcher import PhenotypeMatcher\n",
    "from db.kb import KnowledgeBase\n",
    "\n",
    "def make_ngrams(L, n_max=10, n_min=3, delim=' '):\n",
    "    for l in L:\n",
    "        yield l\n",
    "        tokens = l.strip().split(delim)\n",
    "        for ngram in slice_into_ngrams(tokens, n_max=n_max, n_min=n_min, delim=delim):\n",
    "            yield ngram\n",
    "\n",
    "# Define a candidate space\n",
    "ngrams = Ngrams(n_max=7)\n",
    "\n",
    "# collect phenotype list\n",
    "kb = KnowledgeBase()\n",
    "# efo phenotypes\n",
    "efo_phenotype_list0 = kb.get_phenotype_candidates(source='efo-matching', peek=False) # TODO: remove peaking\n",
    "efo_phenotype_list = list(make_ngrams(efo_phenotype_list0))\n",
    "# snomed keywords\n",
    "snomed_phenotype_list = kb.get_phenotype_candidates(source='snomed')\n",
    "# mesh diseases\n",
    "mesh_phenotype_list0 = kb.get_phenotype_candidates(source='mesh')\n",
    "mesh_phenotype_list = list(make_ngrams(mesh_phenotype_list0))\n",
    "# mesh chemicals\n",
    "chem_phenotype_list = kb.get_phenotype_candidates(source='chemical')\n",
    "# regex matches\n",
    "rgx = u'[A-Za-z\\u2013-]+ (disease|trait|phenotype|outcome|response|quantitative trait|measurement|response)s?'\n",
    "\n",
    "# Define matchers\n",
    "efo_phen_matcher = PhenotypeMatcher(d=efo_phenotype_list, ignore_case=True, mod_fn=change_name)\n",
    "snom_phen_matcher = PhenotypeMatcher(d=snomed_phenotype_list, ignore_case=True, mod_fn=change_name)\n",
    "mesh_phen_matcher = PhenotypeMatcher(d=mesh_phenotype_list, ignore_case=True, mod_fn=change_name)\n",
    "chem_phen_matcher = DictionaryMatch(d=chem_phenotype_list, longest_match_only=True, ignore_case=True)\n",
    "regex_phen_matcher = RegexMatchSpan(rgx=rgx)\n",
    "phen_matcher = Union(efo_phen_matcher, snom_phen_matcher, mesh_phen_matcher, chem_phen_matcher, regex_phen_matcher)\n",
    "# phen_matcher = PhenotypeMatcher(d=phenotype_list, ignore_case=True, mod_fn=change_name)\n",
    "\n",
    "# Extractor\n",
    "phen_extractor = EntityExtractor(ngrams, phen_matcher)\n",
    "\n",
    "# collect candidates\n",
    "%time phen_c = phen_extractor.extract(corpus.get_sentences(), name='all')\n",
    "print len(phen_c), 'candidates extracted'"
   ]
  },
  {
   "cell_type": "code",
   "execution_count": null,
   "metadata": {
    "collapsed": false
   },
   "outputs": [],
   "source": [
    "def make_ngrams(L, n_max=10, n_min=3, delim=' '):\n",
    "    for l in L:\n",
    "        yield l\n",
    "        tokens = l.strip().split(delim)\n",
    "        for ngram in slice_into_ngrams(tokens, n_max=n_max, n_min=n_min, delim=delim):\n",
    "            yield ngram"
   ]
  },
  {
   "cell_type": "markdown",
   "metadata": {},
   "source": [
    "We would like to remove nested candidates (manually, for now)."
   ]
  },
  {
   "cell_type": "code",
   "execution_count": null,
   "metadata": {
    "collapsed": false
   },
   "outputs": [],
   "source": [
    "# load existing candidates into a dict\n",
    "span_dict = { str(span.context) : list() for span in phen_c }\n",
    "for span in phen_c:\n",
    "    span_dict[str(span.context)].append( (span.char_start, span.char_end) )\n",
    "\n",
    "def nested(ivl1, ivl2):\n",
    "    if ivl1 != ivl2 and ivl2[0] <= ivl1[0] <= ivl1[1] <= ivl2[1]:\n",
    "        return True\n",
    "    else:\n",
    "        return False\n",
    "\n",
    "new_phen_c = list()\n",
    "for span in phen_c:\n",
    "    span_ivl = span.char_start, span.char_end\n",
    "    span_name = str(span.context)\n",
    "    if all([not nested(span_ivl, other_ivl) for other_ivl in span_dict[span_name]]):\n",
    "        new_phen_c.append(span)\n",
    "        \n",
    "print len(phen_c) - len(new_phen_c), 'candidates dropped, now we have', len(new_phen_c)\n",
    "phen_c = new_phen_c"
   ]
  },
  {
   "cell_type": "markdown",
   "metadata": {},
   "source": [
    "### Create gold-truth set"
   ]
  },
  {
   "cell_type": "code",
   "execution_count": null,
   "metadata": {
    "collapsed": false
   },
   "outputs": [],
   "source": [
    "from db.kb import KnowledgeBase\n",
    "from nltk.stem import PorterStemmer\n",
    "from extractor.util import change_name\n",
    "\n",
    "kb = KnowledgeBase() # reload\n",
    "gold_set_phens = frozenset \\\n",
    "([ \n",
    "    (doc.name, phen.ontology_ref) for doc in corpus.documents \n",
    "                                  for phen in kb.phen_by_pmid(doc.name, source='efo')\n",
    "])\n",
    "\n",
    "# map phenotype names to their id\n",
    "phen2id = \\\n",
    "{\n",
    "    change_name(syn) : phen.ontology_ref for doc in corpus.documents\n",
    "    \n",
    "                                                  for phen in kb.phen_by_pmid(doc.name, source='efo')\n",
    "                                                  for syn in [phen.name] + phen.synonyms.split('|')\n",
    "}\n",
    "\n",
    "# this is the more correct version (code below should be changed to use it)\n",
    "# we collect a set of EFOs matching a string; we use this only at the very end for now\n",
    "phen2idset = dict()\n",
    "for doc in corpus.documents:\n",
    "    for phen in kb.phen_by_pmid(doc.name, source='efo'):\n",
    "        synonyms = [phen.name] + phen.synonyms.split('|')\n",
    "        ngrams = make_ngrams(synonyms)\n",
    "        for ngram in ngrams:\n",
    "            syn_name = change_name(ngram)\n",
    "            if syn_name not in phen2idset: phen2idset[syn_name] = set()\n",
    "            phen2idset[syn_name].add(phen.id)\n",
    "\n",
    "id2phen = \\\n",
    "{\n",
    "    phen.ontology_ref : phen for doc in corpus.documents\n",
    "                             for phen in kb.phen_by_pmid(doc.name, source='efo')\n",
    "}\n",
    "\n",
    "print 'Found %d gold mentions, e.g.:' % len(gold_set_phens)\n",
    "print list(gold_set_phens)[:5]\n",
    "print len(phen2id), len(id2phen)"
   ]
  },
  {
   "cell_type": "code",
   "execution_count": null,
   "metadata": {
    "collapsed": false
   },
   "outputs": [],
   "source": [
    "from db import db_session\n",
    "from db.schema import *\n",
    "\n",
    "# paper = db_session.query(Paper).filter(Paper.pubmed_id=='20195266').first()\n",
    "# print [ (assoc.phenotype.name, [(p.name, p.source) for p in assoc.phenotype.equivalents]) for assoc in paper.associations ]\n",
    "# print first_degree_phens\n",
    "\n",
    "from db.kb import KnowledgeBase\n",
    "kb = KnowledgeBase() # reload\n",
    "print len(kb.phen_by_pmid('20195266', source='efo'))"
   ]
  },
  {
   "cell_type": "markdown",
   "metadata": {},
   "source": [
    "## Statistics"
   ]
  },
  {
   "cell_type": "markdown",
   "metadata": {},
   "source": [
    "First, we need to understand whether the extraction or the classification approach will be better."
   ]
  },
  {
   "cell_type": "markdown",
   "metadata": {},
   "source": [
    "### Number of phenotypes per paper"
   ]
  },
  {
   "cell_type": "markdown",
   "metadata": {},
   "source": [
    "#### Number of EFO phenotypes per paper"
   ]
  },
  {
   "cell_type": "code",
   "execution_count": null,
   "metadata": {
    "collapsed": false
   },
   "outputs": [],
   "source": [
    "docid2efo = \\\n",
    "{\n",
    "    doc.name : [ phen.name for phen in kb.phen_by_pmid(doc.name, source='efo') ] for doc in corpus.documents\n",
    "}"
   ]
  },
  {
   "cell_type": "markdown",
   "metadata": {},
   "source": [
    "#### Number of GWAS catalog (i.e. aggregate) phenotypes per paper"
   ]
  },
  {
   "cell_type": "code",
   "execution_count": null,
   "metadata": {
    "collapsed": false
   },
   "outputs": [],
   "source": [
    "docid2efo = \\\n",
    "{\n",
    "    doc.name : [ phen.name for phen in kb.phen_by_pmid(doc.name, source='gwas_catalog') ] for doc in corpus.documents\n",
    "}\n",
    "print 'GWAS catalog phenotype numbers per paper:', sorted([len(v) for d, v in docid2efo.items()])"
   ]
  },
  {
   "cell_type": "markdown",
   "metadata": {},
   "source": [
    "### Candidate recall statistics"
   ]
  },
  {
   "cell_type": "markdown",
   "metadata": {},
   "source": [
    "#### Over EFO phenotypes"
   ]
  },
  {
   "cell_type": "code",
   "execution_count": null,
   "metadata": {
    "collapsed": false
   },
   "outputs": [],
   "source": [
    "from extractor.util import gold_phen_stats\n",
    "gold_phen_stats(phen_c, gold_set_phens, phen2id)"
   ]
  },
  {
   "cell_type": "markdown",
   "metadata": {},
   "source": [
    "Why is the recall low?"
   ]
  },
  {
   "cell_type": "code",
   "execution_count": 15,
   "metadata": {
    "collapsed": false
   },
   "outputs": [
    {
     "ename": "KeyError",
     "evalue": "'17447842'",
     "output_type": "error",
     "traceback": [
      "\u001b[0;31m---------------------------------------------------------------------------\u001b[0m",
      "\u001b[0;31mKeyError\u001b[0m                                  Traceback (most recent call last)",
      "\u001b[0;32m<ipython-input-15-7f00cbde2b79>\u001b[0m in \u001b[0;36m<module>\u001b[0;34m()\u001b[0m\n\u001b[1;32m      6\u001b[0m     \u001b[0mgold_dict_phen\u001b[0m\u001b[0;34m[\u001b[0m\u001b[0mdoc_id\u001b[0m\u001b[0;34m]\u001b[0m\u001b[0;34m.\u001b[0m\u001b[0madd\u001b[0m\u001b[0;34m(\u001b[0m\u001b[0mphen_id\u001b[0m\u001b[0;34m)\u001b[0m\u001b[0;34m\u001b[0m\u001b[0m\n\u001b[1;32m      7\u001b[0m \u001b[0;34m\u001b[0m\u001b[0m\n\u001b[0;32m----> 8\u001b[0;31m \u001b[0mphen_not_found\u001b[0m \u001b[0;34m=\u001b[0m \u001b[0mlist\u001b[0m\u001b[0;34m(\u001b[0m\u001b[0mgold_phen_recall\u001b[0m\u001b[0;34m(\u001b[0m\u001b[0mphen_c\u001b[0m\u001b[0;34m,\u001b[0m \u001b[0mgold_set_phens\u001b[0m\u001b[0;34m,\u001b[0m \u001b[0mphen2id\u001b[0m\u001b[0;34m)\u001b[0m\u001b[0;34m)\u001b[0m\u001b[0;34m\u001b[0m\u001b[0m\n\u001b[0m\u001b[1;32m      9\u001b[0m \u001b[0;32mprint\u001b[0m \u001b[0mlen\u001b[0m\u001b[0;34m(\u001b[0m\u001b[0mphen_not_found\u001b[0m\u001b[0;34m)\u001b[0m\u001b[0;34m\u001b[0m\u001b[0m\n\u001b[1;32m     10\u001b[0m \u001b[0;32mfor\u001b[0m \u001b[0mdoc_id\u001b[0m\u001b[0;34m,\u001b[0m \u001b[0mphen_id\u001b[0m \u001b[0;32min\u001b[0m \u001b[0mphen_not_found\u001b[0m\u001b[0;34m[\u001b[0m\u001b[0;34m:\u001b[0m\u001b[0;36m100\u001b[0m\u001b[0;34m]\u001b[0m\u001b[0;34m:\u001b[0m\u001b[0;34m\u001b[0m\u001b[0m\n",
      "\u001b[0;32m/Users/kuleshov/work/gwasdb/src/extractor/util.pyc\u001b[0m in \u001b[0;36mgold_phen_recall\u001b[0;34m(candidates, gold_set, phen2id)\u001b[0m\n\u001b[1;32m    161\u001b[0m     \u001b[0mphen_name\u001b[0m \u001b[0;34m=\u001b[0m \u001b[0mspan\u001b[0m\u001b[0;34m.\u001b[0m\u001b[0mget_span\u001b[0m\u001b[0;34m(\u001b[0m\u001b[0;34m)\u001b[0m\u001b[0;34m\u001b[0m\u001b[0m\n\u001b[1;32m    162\u001b[0m     \u001b[0mphen_id\u001b[0m \u001b[0;34m=\u001b[0m \u001b[0mphen2id\u001b[0m\u001b[0;34m.\u001b[0m\u001b[0mget\u001b[0m\u001b[0;34m(\u001b[0m\u001b[0mchange_name\u001b[0m\u001b[0;34m(\u001b[0m\u001b[0mphen_name\u001b[0m\u001b[0;34m)\u001b[0m\u001b[0;34m,\u001b[0m \u001b[0mNone\u001b[0m\u001b[0;34m)\u001b[0m\u001b[0;34m\u001b[0m\u001b[0m\n\u001b[0;32m--> 163\u001b[0;31m     \u001b[0;32mif\u001b[0m \u001b[0mphen_id\u001b[0m \u001b[0;32min\u001b[0m \u001b[0mgold_dict\u001b[0m\u001b[0;34m[\u001b[0m\u001b[0mspan\u001b[0m\u001b[0;34m.\u001b[0m\u001b[0mcontext\u001b[0m\u001b[0;34m.\u001b[0m\u001b[0mdocument\u001b[0m\u001b[0;34m.\u001b[0m\u001b[0mname\u001b[0m\u001b[0;34m]\u001b[0m\u001b[0;34m:\u001b[0m\u001b[0;34m\u001b[0m\u001b[0m\n\u001b[0m\u001b[1;32m    164\u001b[0m       \u001b[0mcorrect_candidates\u001b[0m\u001b[0;34m.\u001b[0m\u001b[0madd\u001b[0m\u001b[0;34m(\u001b[0m \u001b[0;34m(\u001b[0m\u001b[0mspan\u001b[0m\u001b[0;34m.\u001b[0m\u001b[0mcontext\u001b[0m\u001b[0;34m.\u001b[0m\u001b[0mdocument\u001b[0m\u001b[0;34m.\u001b[0m\u001b[0mname\u001b[0m\u001b[0;34m,\u001b[0m \u001b[0mphen_id\u001b[0m\u001b[0;34m)\u001b[0m \u001b[0;34m)\u001b[0m\u001b[0;34m\u001b[0m\u001b[0m\n\u001b[1;32m    165\u001b[0m \u001b[0;34m\u001b[0m\u001b[0m\n",
      "\u001b[0;31mKeyError\u001b[0m: '17447842'"
     ]
    }
   ],
   "source": [
    "from extractor.util import gold_phen_recall\n",
    "kb = KnowledgeBase()\n",
    "id2doc = {doc.name : doc for doc in corpus.documents}\n",
    "gold_dict_phen = { doc_id : set() for doc_id, phen_id in gold_set_phens }\n",
    "for doc_id, phen_id in gold_set_phens:\n",
    "    gold_dict_phen[doc_id].add(phen_id)\n",
    "\n",
    "phen_not_found = list(gold_phen_recall(phen_c, gold_set_phens, phen2id))\n",
    "print len(phen_not_found)\n",
    "for doc_id, phen_id in phen_not_found[:100]:\n",
    "    if len(gold_dict_phen[doc_id]) > 3: continue\n",
    "    print doc_id\n",
    "    for phen_id2 in gold_dict_phen[doc_id]:\n",
    "        print id2phen[phen_id2].name, phen_id2\n",
    "#     print gold_dict_phen[doc_id]\n",
    "    print id2phen[phen_id].name, id2phen[phen_id].ontology_ref\n",
    "    print id2phen[phen_id].synonyms    \n",
    "    print kb.title_by_pmid(doc_id)\n",
    "    print ' '.join(s.text for s in id2doc[doc_id].sentences)\n",
    "    print"
   ]
  },
  {
   "cell_type": "markdown",
   "metadata": {},
   "source": [
    "#### Over aggregate phenotypes"
   ]
  },
  {
   "cell_type": "markdown",
   "metadata": {},
   "source": [
    "We say that a mention for an aggregate phenotype is correct, if it corresponds to the name of the GWC phenotype or to the phenotype of any equivalent EFO phenotype."
   ]
  },
  {
   "cell_type": "code",
   "execution_count": 39,
   "metadata": {
    "collapsed": false
   },
   "outputs": [
    {
     "name": "stdout",
     "output_type": "stream",
     "text": [
      "Found 0 gold mentions, e.g.:\n",
      "[]\n",
      "0 0\n",
      "Statistics over EFO phenotypes:\n",
      "# of gold annotations\t= 9747\n",
      "# of candidates\t\t= 49091\n",
      "# of correct candidates\t= 0\n",
      "Candidate recall\t= 0.000\n",
      "Candidate precision\t= 0.000\n"
     ]
    }
   ],
   "source": [
    "from db.kb import KnowledgeBase\n",
    "from nltk.stem import PorterStemmer\n",
    "from extractor.util import change_name\n",
    "\n",
    "kb = KnowledgeBase() # reload\n",
    "gold_set_agg_phens = frozenset \\\n",
    "([ \n",
    "    (doc.name, phen.id) for doc in corpus.documents \n",
    "                        for phen in kb.phen_by_pmid(doc.name, source='gwas_catalog')\n",
    "])\n",
    "\n",
    "# map phenotype names to their id (EFO syn -> GWC id)\n",
    "agg_phen2id = dict()\n",
    "for doc in corpus.documents:\n",
    "    for phen in kb.phen_by_pmid(doc.name, source='gwas_catalog'):\n",
    "        for eq_phen in phen.equivalents:\n",
    "            for syn in [phen.name] + [eq_phen.name] + eq_phen.synonyms.split('|'):\n",
    "                syn_name = change_name(syn)\n",
    "                if syn_name not in agg_phen2id: agg_phen2id[syn_name] = set()\n",
    "                agg_phen2id[syn_name].add(phen.id)\n",
    "\n",
    "# map ids to phenotypes (GWC id -> GWC phen obj)                \n",
    "agg_id2phen = \\\n",
    "{\n",
    "    phen.id : phen for doc in corpus.documents\n",
    "                   for phen in kb.phen_by_pmid(doc.name, source='gwas_catalog')\n",
    "}\n",
    "\n",
    "print 'Found %d gold mentions, e.g.:' % len(gold_set_phens)\n",
    "print list(gold_set_phens)[:5]\n",
    "print len(phen2id), len(id2phen)\n",
    "\n",
    "from extractor.util import gold_phen_stats, gold_agg_phen_stats\n",
    "gold_agg_phen_stats(phen_c, gold_set_agg_phens, agg_phen2id)"
   ]
  },
  {
   "cell_type": "markdown",
   "metadata": {},
   "source": [
    "Why is the recall low?"
   ]
  },
  {
   "cell_type": "code",
   "execution_count": 15,
   "metadata": {
    "collapsed": false
   },
   "outputs": [
    {
     "name": "stdout",
     "output_type": "stream",
     "text": [
      "1003\n",
      "22383897\n",
      "breast cancer 25571\n",
      "\tbreast carcinoma http://www.ebi.ac.uk/efo/EFO_0000305 breast neoplasms|neoplasm\n",
      "breast cancer 25572\n",
      "\tbreast carcinoma http://www.ebi.ac.uk/efo/EFO_0000305 breast neoplasms|neoplasm\n",
      "breast cancer 25573\n",
      "\tbreast carcinoma http://www.ebi.ac.uk/efo/EFO_0000305 breast neoplasms|neoplasm\n",
      "breast cancer\n",
      "Genome-Wide Association Study in East Asians Identifies Novel Susceptibility Loci for Breast Cancer. Genetic factors play an important role in the etiology of both sporadic and familial breast cancer. We aimed to discover novel genetic susceptibility loci for breast cancer. We conducted a four-stage genome-wide association study (GWAS) in 19,091 cases and 20,606 controls of East-Asian descent including Chinese, Korean, and Japanese women. After analyzing 690,947 SNPs in 2,918 cases and 2,324 controls, we evaluated 5,365 SNPs for replication in 3,972 cases and 3,852 controls. Ninety-four SNPs were further evaluated in 5,203 cases and 5,138 controls, and finally the top 22 SNPs were investigated in up to 17,423 additional subjects (7,489 cases and 9,934 controls). SNP rs9485372, near the TGF-β activated kinase ( TAB2 ) gene in chromosome 6q25.1, showed a consistent association with breast cancer risk across all four stages, with a  P -value of 3.8×10 −12  in the combined analysis of all samples. Adjusted odds ratios (95% confidence intervals) were 0.89 (0.85–0.94) and 0.80 (0.75–0.86) for the A/G and A/A genotypes, respectively, compared with the genotype G/G. SNP rs9383951 ( P  = 1.9×10 −6  from the combined analysis of all samples), located in intron 5 of the  ESR1  gene, and SNP rs7107217 ( P  = 4.6×10 −7 ), located at 11q24.3, also showed a consistent association in each of the four stages. This study provides strong evidence for a novel breast cancer susceptibility locus represented by rs9485372, near the  TAB2  gene (6q25.1), and identifies two possible susceptibility loci located in the  ESR1  gene and 11q24.3, respectively. Breast cancer is one of the most common malignancies among women worldwide. Genetic factors play an important role in the etiology of breast cancer. To identify common genetic susceptibility alleles for breast cancer, we performed a four-stage genome-wide association study in 19,091 cases and 20,606 controls among East-Asian women. Single nucleotide polymorphism (SNP) rs9485372, near the TGF-beta activated kinase 1 ( TAB2 ) gene at chromosome 6q25.1, was associated with breast cancer risk ( P  = 3.8×10 −12 ). SNPs rs9383951, located in intron 5 of the estrogen receptor 1 ( ESR1 ) gene, and rs7107217, located at 11q24.3, were also consistently associated with breast cancer risk in all four stages with a combined  P  of 1.9×10 −6  and 4.6×10 −7 , respectively. This study provides strong evidence for a novel breast cancer susceptibility locus represented by rs9485372, near the  TAB2  gene (6q25.1), and identifies two possible susceptibility loci located in the  ESR1  gene and 11q24.3, respectively.\n",
      "\n",
      "19578366\n",
      "glioma (high-grade) 20856\n",
      "\tcentral nervous system cancer http://www.ebi.ac.uk/efo/EFO_0000326 cns cancer|malignant central nervous system neoplasm|malignant tumor of cns|cancer of cns|malignant tumor of central nervous system|malignant cns neoplasms|malignant neoplasm of cns|malignant tumor of the central nervous system|malignant cns tumor|malignant central nervous system tumor|malignant neoplasm of the cns|malignant neoplasm of the central nervous system|malignant cns neoplasm|central nervous system neoplasms\n",
      "glioma (high-grade) 20857\n",
      "\tcentral nervous system cancer http://www.ebi.ac.uk/efo/EFO_0000326 cns cancer|malignant central nervous system neoplasm|malignant tumor of cns|cancer of cns|malignant tumor of central nervous system|malignant cns neoplasms|malignant neoplasm of cns|malignant tumor of the central nervous system|malignant cns tumor|malignant central nervous system tumor|malignant neoplasm of the cns|malignant neoplasm of the central nervous system|malignant cns neoplasm|central nervous system neoplasms\n",
      "glioma (high-grade) 20855\n",
      "\tcentral nervous system cancer http://www.ebi.ac.uk/efo/EFO_0000326 cns cancer|malignant central nervous system neoplasm|malignant tumor of cns|cancer of cns|malignant tumor of central nervous system|malignant cns neoplasms|malignant neoplasm of cns|malignant tumor of the central nervous system|malignant cns tumor|malignant central nervous system tumor|malignant neoplasm of the cns|malignant neoplasm of the central nervous system|malignant cns neoplasm|central nervous system neoplasms\n",
      "glioma (high-grade)\n",
      "Variants in the  CDKN2B  and  RTEL1  regions are associated with high grade glioma susceptibility. The causes of glioblastoma and other devastating gliomas remain obscure  1 , 2 . To discover new candidate genes that might influence glioma susceptibility, we conducted a principal component  3  adjusted genome wide association study (GWAS) of 275,895 autosomal variants among 692 adult high grade glioma patients (622 from the San Francisco Adult Glioma Study (AGS) and 70 from the Cancer Genome Atlas (TCGA)  4  versus 3992 controls (602 from AGS and 3390 from Illumina iControlDB (iControls)). For replication, we then analyzed the 13 SNPs with p<10 −6  using completely independent data from 176 high grade glioma patients versus 174 controls from the Mayo Clinic. Rs1412829 in chromosome 9p21 (near  CDKN2B ) had discovery p-value 3.4*10 −8 , replication p-value 0.0038, and combined p-value 1.85*10 −10 . Rs6010620 intronic to  RTEL1  had discovery p-value 1.5*10 −7 , replication p-value 0.00035, and combined p-value 3.40*10 −9 . For both SNPs, the direction of association was the same in discovery and replication phases.\n",
      "\n",
      "19412176\n",
      "narcolepsy 20551\n",
      "\tnarcolepsy with cataplexy http://www.ebi.ac.uk/efo/EFO_0000614 gelineau's syndrome|narcolepsy nos|paroxysmal sleep|gelineaus syndrome|syndrome\n",
      "narcolepsy\n",
      "Narcolepsy is strongly associated with the TCR alpha locus. Narcolepsy-cataplexy, characterized by sleepiness and rapid onset into REM sleep, affects 1 in 2,000 individuals 1 , 2 . Narcolepsy was first shown to be tightly associated with HLA-DR2 3 , and later sublocalized to DQB1*0602 4 . Following studies in dogs 5  and mice 6 , a 95% loss of hypocretin-producing cells in human postmortem hypothalami was reported 7 , 8 , Using Genome Wide Association (GWA) in Caucasians with replication in three ethnic groups, we found association with polymorphisms in the T-Cell receptor alpha ( TCRA ) locus, with highest significance at rs1154155 (average allelic odds ratio 1.69, genotype odds ratios 1.94 and 2.55, p<10 −21 , 1830 cases, 2164 controls). This is the first documented genetic involvement of the  TCRA  locus, the major receptor for HLA-peptide presentation, in any disease. It is still unclear how specific HLA alleles confer susceptibility to over 100 HLA-associated disorders 9 , thus narcolepsy will provide new insights on how HLA-TCR interactions contribute to organ specific autoimmune targeting.\n",
      "\n",
      "23001122\n",
      "breast cancer (male) 21123\n",
      "\tbreast carcinoma http://www.ebi.ac.uk/efo/EFO_0000305 breast neoplasms|neoplasm\n",
      "breast cancer (male) 21124\n",
      "\tbreast carcinoma http://www.ebi.ac.uk/efo/EFO_0000305 breast neoplasms|neoplasm\n",
      "breast cancer (male) 21125\n",
      "\tbreast carcinoma http://www.ebi.ac.uk/efo/EFO_0000305 breast neoplasms|neoplasm\n",
      "breast cancer (male)\n",
      "Genome-wide association study identifies a novel variant in  RAD51B  associated with male breast cancer risk. We conducted a genome-wide association study of male breast cancer using 823 cases and 2,795 controls of European ancestry with validation in independent sample sets totalling 438 cases and 474 controls. A novel variant in  RAD51B  (14q24.1) was significantly associated with male breast cancer risk ( P  = 3.02 ×10 −13 , odds ratio (OR) = 1.57). TOX3  (16q12.1) was also a susceptibility locus ( P  = 3.87 ×10 −15 , OR = 1.50).\n",
      "\n",
      "23183491\n",
      "opioid sensitivity 21902\n",
      "\tresponse to opiate http://purl.obolibrary.org/obo/GO_0014072 response to isoquinoline alkaloid\n",
      "opioid sensitivity\n",
      "Genome-wide association study identifies a potent locus associated with human opioid sensitivity. Opioids, such as morphine and fentanyl, are widely used as effective analgesics for the treatment of acute and chronic pain. In addition, the opioid system has a key role in the rewarding effects of morphine, ethanol, cocaine and various other drugs. Although opioid sensitivity is well known to vary widely among individual subjects, several candidate genetic polymorphisms reported so far are not sufficient for fully understanding the wide range of interindividual differences in human opioid sensitivity. By conducting a multistage genome-wide association study (GWAS) in healthy subjects, we found that genetic polymorphisms within a linkage disequilibrium block that spans 2q33.3–2q34 were strongly associated with the requirements for postoperative opioid analgesics after painful cosmetic surgery. The C allele of the best candidate single-nucleotide polymorphism (SNP), rs2952768, was associated with more analgesic requirements, and consistent results were obtained in patients who underwent abdominal surgery. In addition, carriers of the C allele in this SNP exhibited less vulnerability to severe drug dependence in patients with methamphetamine dependence, alcohol dependence, and eating disorders and a lower ‘Reward Dependence' score on a personality questionnaire in healthy subjects. Furthermore, the C/C genotype of this SNP was significantly associated with the elevated expression of a neighboring gene,  CREB1 . These results show that SNPs in this locus are the most potent genetic factors associated with human opioid sensitivity known to date, affecting both the efficacy of opioid analgesics and liability to severe substance dependence. Our findings provide valuable information for the personalized treatment of pain and drug dependence.\n",
      "\n",
      "22383897\n",
      "breast cancer 25571\n",
      "\tbreast carcinoma http://www.ebi.ac.uk/efo/EFO_0000305 breast neoplasms|neoplasm\n",
      "breast cancer 25572\n",
      "\tbreast carcinoma http://www.ebi.ac.uk/efo/EFO_0000305 breast neoplasms|neoplasm\n",
      "breast cancer 25573\n",
      "\tbreast carcinoma http://www.ebi.ac.uk/efo/EFO_0000305 breast neoplasms|neoplasm\n",
      "breast cancer\n",
      "Genome-Wide Association Study in East Asians Identifies Novel Susceptibility Loci for Breast Cancer. Genetic factors play an important role in the etiology of both sporadic and familial breast cancer. We aimed to discover novel genetic susceptibility loci for breast cancer. We conducted a four-stage genome-wide association study (GWAS) in 19,091 cases and 20,606 controls of East-Asian descent including Chinese, Korean, and Japanese women. After analyzing 690,947 SNPs in 2,918 cases and 2,324 controls, we evaluated 5,365 SNPs for replication in 3,972 cases and 3,852 controls. Ninety-four SNPs were further evaluated in 5,203 cases and 5,138 controls, and finally the top 22 SNPs were investigated in up to 17,423 additional subjects (7,489 cases and 9,934 controls). SNP rs9485372, near the TGF-β activated kinase ( TAB2 ) gene in chromosome 6q25.1, showed a consistent association with breast cancer risk across all four stages, with a  P -value of 3.8×10 −12  in the combined analysis of all samples. Adjusted odds ratios (95% confidence intervals) were 0.89 (0.85–0.94) and 0.80 (0.75–0.86) for the A/G and A/A genotypes, respectively, compared with the genotype G/G. SNP rs9383951 ( P  = 1.9×10 −6  from the combined analysis of all samples), located in intron 5 of the  ESR1  gene, and SNP rs7107217 ( P  = 4.6×10 −7 ), located at 11q24.3, also showed a consistent association in each of the four stages. This study provides strong evidence for a novel breast cancer susceptibility locus represented by rs9485372, near the  TAB2  gene (6q25.1), and identifies two possible susceptibility loci located in the  ESR1  gene and 11q24.3, respectively. Breast cancer is one of the most common malignancies among women worldwide. Genetic factors play an important role in the etiology of breast cancer. To identify common genetic susceptibility alleles for breast cancer, we performed a four-stage genome-wide association study in 19,091 cases and 20,606 controls among East-Asian women. Single nucleotide polymorphism (SNP) rs9485372, near the TGF-beta activated kinase 1 ( TAB2 ) gene at chromosome 6q25.1, was associated with breast cancer risk ( P  = 3.8×10 −12 ). SNPs rs9383951, located in intron 5 of the estrogen receptor 1 ( ESR1 ) gene, and rs7107217, located at 11q24.3, were also consistently associated with breast cancer risk in all four stages with a combined  P  of 1.9×10 −6  and 4.6×10 −7 , respectively. This study provides strong evidence for a novel breast cancer susceptibility locus represented by rs9485372, near the  TAB2  gene (6q25.1), and identifies two possible susceptibility loci located in the  ESR1  gene and 11q24.3, respectively.\n",
      "\n"
     ]
    }
   ],
   "source": [
    "from extractor.util import gold_agg_phen_recall\n",
    "kb = KnowledgeBase()\n",
    "id2doc = {doc.name : doc for doc in corpus.documents}\n",
    "gold_agg_dict_phen = { doc_id : set() for doc_id, phen_id in gold_set_agg_phens }\n",
    "for doc_id, phen_id in gold_set_agg_phens:\n",
    "    gold_agg_dict_phen[doc_id].add(phen_id)\n",
    "\n",
    "# this contains (doc_id, gwc_id) pairs from gold_set_agg_phens that haven't been found\n",
    "phen_not_found = list(gold_agg_phen_recall(phen_c, gold_set_agg_phens, agg_phen2id))\n",
    "print len(phen_not_found)\n",
    "for doc_id, phen_id in phen_not_found[:100]:\n",
    "    if len(gold_agg_dict_phen[doc_id]) > 3: continue # skip if >3 gwc_phen_ids in doc\n",
    "    print doc_id\n",
    "    for phen_id2 in gold_agg_dict_phen[doc_id]: # iterate over gwc_id's in doc\n",
    "        print agg_id2phen[phen_id2].name, phen_id2 # print its name and id\n",
    "        for eq_phen in agg_id2phen[phen_id2].equivalents: # loop over equivalent phens\n",
    "            print '\\t', eq_phen.name, eq_phen.ontology_ref, eq_phen.synonyms # print name, ref, synonyms\n",
    "    print agg_id2phen[phen_id].name # print the one that we haven't found\n",
    "    print ' '.join(s.text for s in id2doc[doc_id].sentences)\n",
    "    print"
   ]
  },
  {
   "cell_type": "code",
   "execution_count": 85,
   "metadata": {
    "collapsed": false
   },
   "outputs": [
    {
     "name": "stdout",
     "output_type": "stream",
     "text": [
      "[u'Genome-wide', u'association', u'study', u'identifies', u'multiple', u'susceptibility', u'loci', u'for', u'pulmonary', u'fibrosis', u'.']\n"
     ]
    }
   ],
   "source": [
    "print id2doc[doc_id].sentences[0].words"
   ]
  },
  {
   "cell_type": "code",
   "execution_count": 89,
   "metadata": {
    "collapsed": false
   },
   "outputs": [
    {
     "name": "stdout",
     "output_type": "stream",
     "text": [
      "Sentence(Document('23583980', Corpus (GWAS Corpus)), 0, u'Genome-wide association study identifies multiple susceptibility loci for pulmonary fibrosis.')\n",
      "Genome-wide association study identifies multiple susceptibility loci\n",
      "Genome-wide association study identifies multiple susceptibility loci genom wide associ studi identifi multipl suscept loci\n",
      "... False False False False False\n",
      "None\n",
      "23583980 None\n",
      "set([u'http://www.ebi.ac.uk/efo/EFO_0004244'])\n",
      "\n",
      "association study identifies multiple susceptibility loci for\n",
      "association study identifies multiple susceptibility loci for associ studi identifi multipl suscept loci for\n",
      "... False False False False False\n",
      "None\n",
      "23583980 None\n",
      "set([u'http://www.ebi.ac.uk/efo/EFO_0004244'])\n",
      "\n",
      "study identifies multiple susceptibility loci for pulmonary\n",
      "study identifies multiple susceptibility loci for pulmonary studi identifi multipl suscept loci for pulmonari\n",
      "... False False False False False\n",
      "None\n",
      "23583980 None\n",
      "set([u'http://www.ebi.ac.uk/efo/EFO_0004244'])\n",
      "\n",
      "identifies multiple susceptibility loci for pulmonary fibrosis\n",
      "identifies multiple susceptibility loci for pulmonary fibrosis identifi multipl suscept loci for pulmonari fibrosi\n",
      "... False False False False False\n",
      "None\n",
      "23583980 None\n",
      "set([u'http://www.ebi.ac.uk/efo/EFO_0004244'])\n",
      "\n",
      "multiple susceptibility loci for pulmonary fibrosis.\n",
      "multiple susceptibility loci for pulmonary fibrosis. multipl suscept loci for pulmonari fibrosi\n",
      "... False False False False False\n",
      "None\n",
      "23583980 None\n",
      "set([u'http://www.ebi.ac.uk/efo/EFO_0004244'])\n",
      "\n",
      "Genome-wide association study identifies multiple susceptibility\n",
      "Genome-wide association study identifies multiple susceptibility genom wide associ studi identifi multipl suscept\n",
      "... False False False False False\n",
      "None\n",
      "23583980 None\n",
      "set([u'http://www.ebi.ac.uk/efo/EFO_0004244'])\n",
      "\n",
      "association study identifies multiple susceptibility loci\n",
      "association study identifies multiple susceptibility loci associ studi identifi multipl suscept loci\n",
      "... False False False False False\n",
      "None\n",
      "23583980 None\n",
      "set([u'http://www.ebi.ac.uk/efo/EFO_0004244'])\n",
      "\n",
      "study identifies multiple susceptibility loci for\n",
      "study identifies multiple susceptibility loci for studi identifi multipl suscept loci for\n",
      "... False False False False False\n",
      "None\n",
      "23583980 None\n",
      "set([u'http://www.ebi.ac.uk/efo/EFO_0004244'])\n",
      "\n",
      "identifies multiple susceptibility loci for pulmonary\n",
      "identifies multiple susceptibility loci for pulmonary identifi multipl suscept loci for pulmonari\n",
      "... False False False False False\n",
      "None\n",
      "23583980 None\n",
      "set([u'http://www.ebi.ac.uk/efo/EFO_0004244'])\n",
      "\n",
      "multiple susceptibility loci for pulmonary fibrosis\n",
      "multiple susceptibility loci for pulmonary fibrosis multipl suscept loci for pulmonari fibrosi\n",
      "... False False False False False\n",
      "None\n",
      "23583980 None\n",
      "set([u'http://www.ebi.ac.uk/efo/EFO_0004244'])\n",
      "\n",
      "susceptibility loci for pulmonary fibrosis.\n",
      "susceptibility loci for pulmonary fibrosis. suscept loci for pulmonari fibrosi\n",
      "... False False False False False\n",
      "None\n",
      "23583980 None\n",
      "set([u'http://www.ebi.ac.uk/efo/EFO_0004244'])\n",
      "\n",
      "Genome-wide association study identifies multiple\n",
      "Genome-wide association study identifies multiple genom wide associ studi identifi multipl\n",
      "... False False False False False\n",
      "None\n",
      "23583980 None\n",
      "set([u'http://www.ebi.ac.uk/efo/EFO_0004244'])\n",
      "\n",
      "association study identifies multiple susceptibility\n",
      "association study identifies multiple susceptibility associ studi identifi multipl suscept\n",
      "... False False False False False\n",
      "None\n",
      "23583980 None\n",
      "set([u'http://www.ebi.ac.uk/efo/EFO_0004244'])\n",
      "\n",
      "study identifies multiple susceptibility loci\n",
      "study identifies multiple susceptibility loci studi identifi multipl suscept loci\n",
      "... False False False False False\n",
      "None\n",
      "23583980 None\n",
      "set([u'http://www.ebi.ac.uk/efo/EFO_0004244'])\n",
      "\n",
      "identifies multiple susceptibility loci for\n",
      "identifies multiple susceptibility loci for identifi multipl suscept loci for\n",
      "... False False False False False\n",
      "None\n",
      "23583980 None\n",
      "set([u'http://www.ebi.ac.uk/efo/EFO_0004244'])\n",
      "\n",
      "multiple susceptibility loci for pulmonary\n",
      "multiple susceptibility loci for pulmonary multipl suscept loci for pulmonari\n",
      "... False False False False False\n",
      "None\n",
      "23583980 None\n",
      "set([u'http://www.ebi.ac.uk/efo/EFO_0004244'])\n",
      "\n",
      "susceptibility loci for pulmonary fibrosis\n",
      "susceptibility loci for pulmonary fibrosis suscept loci for pulmonari fibrosi\n",
      "... False False False False False\n",
      "None\n",
      "23583980 None\n",
      "set([u'http://www.ebi.ac.uk/efo/EFO_0004244'])\n",
      "\n",
      "loci for pulmonary fibrosis.\n",
      "loci for pulmonary fibrosis. loci for pulmonari fibrosi\n",
      "... False False False False False\n",
      "None\n",
      "23583980 None\n",
      "set([u'http://www.ebi.ac.uk/efo/EFO_0004244'])\n",
      "\n",
      "Genome-wide association study identifies\n",
      "Genome-wide association study identifies genom wide associ studi identifi\n",
      "... False False False False False\n",
      "None\n",
      "23583980 None\n",
      "set([u'http://www.ebi.ac.uk/efo/EFO_0004244'])\n",
      "\n",
      "association study identifies multiple\n",
      "association study identifies multiple associ studi identifi multipl\n",
      "... False False False False False\n",
      "None\n",
      "23583980 None\n",
      "set([u'http://www.ebi.ac.uk/efo/EFO_0004244'])\n",
      "\n",
      "study identifies multiple susceptibility\n",
      "study identifies multiple susceptibility studi identifi multipl suscept\n",
      "... False False False False False\n",
      "None\n",
      "23583980 None\n",
      "set([u'http://www.ebi.ac.uk/efo/EFO_0004244'])\n",
      "\n",
      "identifies multiple susceptibility loci\n",
      "identifies multiple susceptibility loci identifi multipl suscept loci\n",
      "... False False False False False\n",
      "None\n",
      "23583980 None\n",
      "set([u'http://www.ebi.ac.uk/efo/EFO_0004244'])\n",
      "\n",
      "multiple susceptibility loci for\n",
      "multiple susceptibility loci for multipl suscept loci for\n",
      "... False False False False False\n",
      "None\n",
      "23583980 None\n",
      "set([u'http://www.ebi.ac.uk/efo/EFO_0004244'])\n",
      "\n",
      "susceptibility loci for pulmonary\n",
      "susceptibility loci for pulmonary suscept loci for pulmonari\n",
      "... False False False False False\n",
      "None\n",
      "23583980 None\n",
      "set([u'http://www.ebi.ac.uk/efo/EFO_0004244'])\n",
      "\n",
      "loci for pulmonary fibrosis\n",
      "loci for pulmonary fibrosis loci for pulmonari fibrosi\n",
      "... False False False False False\n",
      "None\n",
      "23583980 None\n",
      "set([u'http://www.ebi.ac.uk/efo/EFO_0004244'])\n",
      "\n",
      "for pulmonary fibrosis.\n",
      "for pulmonary fibrosis. for pulmonari fibrosi\n",
      "... False False False False False\n",
      "None\n",
      "23583980 None\n",
      "set([u'http://www.ebi.ac.uk/efo/EFO_0004244'])\n",
      "\n",
      "Genome-wide association study\n",
      "Genome-wide association study genom wide associ studi\n",
      "... False False False False False\n",
      "None\n",
      "23583980 None\n",
      "set([u'http://www.ebi.ac.uk/efo/EFO_0004244'])\n",
      "\n",
      "association study identifies\n",
      "association study identifies associ studi identifi\n",
      "... False False False False False\n",
      "None\n",
      "23583980 None\n",
      "set([u'http://www.ebi.ac.uk/efo/EFO_0004244'])\n",
      "\n",
      "study identifies multiple\n",
      "study identifies multiple studi identifi multipl\n",
      "... False False False False False\n",
      "None\n",
      "23583980 None\n",
      "set([u'http://www.ebi.ac.uk/efo/EFO_0004244'])\n",
      "\n",
      "identifies multiple susceptibility\n",
      "identifies multiple susceptibility identifi multipl suscept\n",
      "... False False False False False\n",
      "None\n",
      "23583980 None\n",
      "set([u'http://www.ebi.ac.uk/efo/EFO_0004244'])\n",
      "\n",
      "multiple susceptibility loci\n",
      "multiple susceptibility loci multipl suscept loci\n",
      "... False False False False False\n",
      "None\n",
      "23583980 None\n",
      "set([u'http://www.ebi.ac.uk/efo/EFO_0004244'])\n",
      "\n",
      "susceptibility loci for\n",
      "susceptibility loci for suscept loci for\n",
      "... False False False False False\n",
      "None\n",
      "23583980 None\n",
      "set([u'http://www.ebi.ac.uk/efo/EFO_0004244'])\n",
      "\n",
      "loci for pulmonary\n",
      "loci for pulmonary loci for pulmonari\n",
      "... False False False False False\n",
      "None\n",
      "23583980 None\n",
      "set([u'http://www.ebi.ac.uk/efo/EFO_0004244'])\n",
      "\n",
      "for pulmonary fibrosis\n",
      "for pulmonary fibrosis for pulmonari fibrosi\n",
      "... False False False False False\n",
      "None\n",
      "23583980 None\n",
      "set([u'http://www.ebi.ac.uk/efo/EFO_0004244'])\n",
      "\n",
      "pulmonary fibrosis.\n",
      "pulmonary fibrosis. pulmonari fibrosi\n",
      "... False False False False False\n",
      "None\n",
      "23583980 None\n",
      "set([u'http://www.ebi.ac.uk/efo/EFO_0004244'])\n",
      "\n",
      "Genome-wide association\n",
      "Genome-wide association genom wide associ\n",
      "... False False False False False\n",
      "None\n",
      "23583980 None\n",
      "set([u'http://www.ebi.ac.uk/efo/EFO_0004244'])\n",
      "\n",
      "association study\n",
      "association study associ studi\n",
      "... False False False False False\n",
      "None\n",
      "23583980 None\n",
      "set([u'http://www.ebi.ac.uk/efo/EFO_0004244'])\n",
      "\n",
      "study identifies\n",
      "study identifies studi identifi\n",
      "... False False False False False\n",
      "None\n",
      "23583980 None\n",
      "set([u'http://www.ebi.ac.uk/efo/EFO_0004244'])\n",
      "\n",
      "identifies multiple\n",
      "identifies multiple identifi multipl\n",
      "... False False False False False\n",
      "None\n",
      "23583980 None\n",
      "set([u'http://www.ebi.ac.uk/efo/EFO_0004244'])\n",
      "\n",
      "multiple susceptibility\n",
      "multiple susceptibility multipl suscept\n",
      "... False False False False False\n",
      "None\n",
      "23583980 None\n",
      "set([u'http://www.ebi.ac.uk/efo/EFO_0004244'])\n",
      "\n",
      "susceptibility loci\n",
      "susceptibility loci suscept loci\n",
      "... False False False False False\n",
      "None\n",
      "23583980 None\n",
      "set([u'http://www.ebi.ac.uk/efo/EFO_0004244'])\n",
      "\n",
      "loci for\n",
      "loci for loci for\n",
      "... False False False False False\n",
      "None\n",
      "23583980 None\n",
      "set([u'http://www.ebi.ac.uk/efo/EFO_0004244'])\n",
      "\n",
      "for pulmonary\n",
      "for pulmonary for pulmonari\n",
      "... False False False False False\n",
      "None\n",
      "23583980 None\n",
      "set([u'http://www.ebi.ac.uk/efo/EFO_0004244'])\n",
      "\n",
      "pulmonary fibrosis\n",
      "pulmonary fibrosis pulmonari fibrosi\n",
      "... False False False False False\n",
      "None\n",
      "23583980 None\n",
      "set([u'http://www.ebi.ac.uk/efo/EFO_0004244'])\n",
      "\n",
      "fibrosis.\n",
      "fibrosis. fibrosi\n",
      "... False False False False False\n",
      "None\n",
      "23583980 None\n",
      "set([u'http://www.ebi.ac.uk/efo/EFO_0004244'])\n",
      "\n",
      "Genome-wide\n",
      "Genome-wide genom wide\n",
      "... False False False False False\n",
      "None\n",
      "23583980 None\n",
      "set([u'http://www.ebi.ac.uk/efo/EFO_0004244'])\n",
      "\n",
      "association\n",
      "association associ\n",
      "... False False False False False\n",
      "None\n",
      "23583980 None\n",
      "set([u'http://www.ebi.ac.uk/efo/EFO_0004244'])\n",
      "\n",
      "study\n",
      "study studi\n",
      "... False False False False False\n",
      "None\n",
      "23583980 None\n",
      "set([u'http://www.ebi.ac.uk/efo/EFO_0004244'])\n",
      "\n",
      "identifies\n",
      "identifies identifi\n",
      "... False False False False False\n",
      "None\n",
      "23583980 None\n",
      "set([u'http://www.ebi.ac.uk/efo/EFO_0004244'])\n",
      "\n",
      "multiple\n",
      "multiple multipl\n",
      "... False False False False False\n",
      "None\n",
      "23583980 None\n",
      "set([u'http://www.ebi.ac.uk/efo/EFO_0004244'])\n",
      "\n",
      "susceptibility\n",
      "susceptibility suscept\n",
      "... False False False False False\n",
      "None\n",
      "23583980 None\n",
      "set([u'http://www.ebi.ac.uk/efo/EFO_0004244'])\n",
      "\n",
      "loci\n",
      "loci loci\n",
      "... False False False False False\n",
      "None\n",
      "23583980 None\n",
      "set([u'http://www.ebi.ac.uk/efo/EFO_0004244'])\n",
      "\n",
      "for\n",
      "for for\n",
      "... False False False False False\n",
      "None\n",
      "23583980 None\n",
      "set([u'http://www.ebi.ac.uk/efo/EFO_0004244'])\n",
      "\n",
      "pulmonary\n",
      "pulmonary pulmonari\n",
      "... False False False False False\n",
      "None\n",
      "23583980 None\n",
      "set([u'http://www.ebi.ac.uk/efo/EFO_0004244'])\n",
      "\n",
      "fibrosis\n",
      "fibrosis fibrosi\n",
      "... True True False False False\n",
      "None\n",
      "23583980 None\n",
      "set([u'http://www.ebi.ac.uk/efo/EFO_0004244'])\n",
      "\n",
      ".\n",
      ". \n",
      "... False False True False True\n",
      "http://www.ebi.ac.uk/efo/EFO_0006918\n",
      "23583980 http://www.ebi.ac.uk/efo/EFO_0006918\n",
      "set([u'http://www.ebi.ac.uk/efo/EFO_0004244'])\n",
      "\n"
     ]
    }
   ],
   "source": [
    "# FOR DEBUGGING WHY SPANS ARENT MATCHED\n",
    "from extractor.util import change_name\n",
    "\n",
    "doc_id = '23583980'\n",
    "ngrams = Ngrams(n_max=7)\n",
    "print id2doc[doc_id].sentences[0]\n",
    "for span in ngrams.apply(id2doc[doc_id].sentences[0]):\n",
    "    print span.get_span()\n",
    "    if phen_matcher._f(span):    \n",
    "        phen_name = span.get_span()\n",
    "        print phen_name, change_name(phen_name)\n",
    "        print '...', phen_name == 'fibrosis', phen_name in phenotype_list, change_name(phen_name) in phenotype_list, phen_name in efo_phen_matcher.d, change_name(phen_name) in efo_phen_matcher.d\n",
    "        phen_id = phen2id.get(change_name(phen_name), None)\n",
    "        print phen_id\n",
    "        if not phen_id or phen_id not in gold_dict_phen[span.context.document.name]:\n",
    "            print span.context.document.name, phen_id\n",
    "            print gold_dict_phen[span.context.document.name]\n",
    "        \n",
    "        print"
   ]
  },
  {
   "cell_type": "code",
   "execution_count": 124,
   "metadata": {
    "collapsed": false
   },
   "outputs": [
    {
     "name": "stdout",
     "output_type": "stream",
     "text": [
      "[u'cd8_alpha-negative plasmactyoid dendritic cell', u'alpha-hydro-omega-hydroxypoly(oxyethylene)', u'ajmalan-17alpha', u'(-)-(s)-alpha-ethyl-2-oxo-1-pyrrolidineacetamide', u'alpha-l-fucosidase deficiency', u'branched chain alpha-ketoacid dehydrogenase complex deficiency', u'tumor necrosis factor-alpha', u'primary alpha-dystroglycanopathy', u'alpha-thalassemia - x-linked intellectual disability syndrome', u' alpha-beta intraepithelial t cell', u'alpha-n-acetylgalactosaminidase deficiency', u'(3alpha', u'cd8-alpha-beta-positive', u'l-alpha-acetamido-beta-mercaptopropionic acid', u'fc-epsilon rialpha-high basophil progenitor cell', u'cd8_alpha-positive cd11b-negative dendritic cell', u'alpha globulin measurement', u'hyperphenylalaninemia due to pterin-4-alpha-carbinolamine dehydratase deficiency', u'alpha-tocopherol metabolic process', u'(22s)-5alpha-campestane-3beta', u'(s)-(+)-alpha-amino-4-carboxy-2-methylbenzeneacetic', u't-b+ scid due to il-7ralpha deficiency', u'cd8alpha-negative thymic conventional dendritic cell', u'alpha-b crystallin-related late-onset distal myopathy', u'mature alpha-beta t cell', u'hemorrhagic disease due to alpha-1-antitrypsin pittsburgh mutation', u'alpha mating type (yeast)', u'alpha-phthalimidoglutarimide', u'dl-alpha-tocopherol', u'(s)-alpha-methyl-4-carboxyphenylglycine', u'interleukin-2 receptor alpha chain deficiency', u'3-(alpha-phenyl-beta-acetylethyl)-4-hydroxycoumarin', u'immature cd8_alpha-positive cd11b-negative dendritic cell', u'3-carboxamido-4-hydroxy-alpha-((1-methyl-3-phenylpropylamino)methyl)benzyl alcohol', u'pyruvate dehydrogenase e1-alpha deficiency', u'familial hypoalphalipoproteinemia', u'qualitative or quantitative defects of alpha-actin', u'alpha-methyl-p-tyrosine', u'17alpha-ethynylestradiol', u'mating_type_alpha', u'congenital adrenal hyperplasia due to 17-alpha-hydroxylase deficiency', u'hereditary persistence of alpha-fetoprotein', u'hereditary renal amyloidosis due to fibrinogen a alpha-chain variant', u'3-(alpha-acetonyl-p-nitrobenzyl)-4-hydroxycoumarin', u'analphalipoproteinemia', u'(s)-alpha-methyl-4-(2-methylpropyl)benzeneacetic acid', u'alpha-naphthaleneacetic acid', u'(s)-6-methoxy-alpha-methyl-2-naphthaleneacetic acid', u'7alpha-{9-[(4', u'alpha-adrenergic receptor blockaders', u'(alphae)-2-[[6-(2-cyanophenoxy)-4-pyrimidinyl]oxy]-alpha-(methoxymethylene) benzeneacetic acid methyl ester', u'(5alpha', u'3-(alpha-acetonyl-4-nitrobenzyl)-4-hydroxycoumarin', u'alpha granule disease', u'alpha cell', u'7 alpha-hydroxy-4-cholesten-3-one 12-alpha-hydroxylase', u' cd8_alpha-negative', u'tumor necrosis factor-alpha measurement', u'alpha-adrenergic agonist', u'streptomyces griseus subsp. alpha', u'qualitative or quantitative defects of integrin alpha-7', u'immature alpha-beta t cell', u'hereditary amyloid nephropathy due to fibrinogen a alpha-chain variant', u'n-(alpha', u'alpha-thalassemia major', u'mating type alpha', u'17alpha-methyl-delta(4)-androsten-17beta-ol-3-one', u'n-[(1s)-1-(dihydroxyboranyl)-3-methylbutyl]-n(alpha)-(pyrazin-2-ylcarbonyl)-d-phenylalaninamide', u'1-(o-chloro-alpha', u'alpha-1', u'17alpha-estradiol', u'cd8_alpha-positive plasmactyoid dendritic cell', u'n-acetyl-alpha-glucosaminidase deficiency', u' alpha-beta cytokine secreting effector t cell', u'alpha-butylene', u'3-(alpha-p-nitrophenyl-beta-acetylethyl)-4-hydroxycoumarin', u'[2r-(2alpha', u'gamma-diisopropylamino-alpha-phenyl-alpha-(2-pyridyl)butyramide', u'tcr-alpha-beta+ t-cell deficiency', u'immature cd8_alpha-negative cd11b-positive dendritic cell', u'l-alpha-methyltyrosine', u'17alpha-ethynylestra-1', u'qualitative or quantitative defects of protein involved in o-glycosylation of alpha-dystroglycan', u'secondary alpha-dystroglycanopathy', u'interferon alpha', u'alphavirus infections', u'(rs)-4-hydroxy-alpha(1)-({[6-(4-phenylbutoxy)hexyl]amino}methyl)-1', u'4-alpha-hydroxyphenylpyruvate hydroxylase deficiency', u'alpha dense granule deficiency', u'alpha peak frequency measurement', u'l-histidylglycyl-l-alpha-glutamylglycyl-l-threonyl-l-phenylalanyl-l-threonyl-l-seryl-l-alpha-aspartyl-l-leucyl-l-seryl-l-lysyl-l-glutaminyl-l-methionyl-l-alpha-glutamyl-l-alpha-glutamyl-l-alpha-glutamyl-l-alanyl-l-valyl-l-arginyl-l-leucyl-l-phenylalanyl-l-isoleucyl-l-alpha-glutamyl-l-tryptophyl-l-leucyl-l-lysyl-l-asparaginylglycylglycyl-l-prolyl-l-seryl-l-serylglycyl-l-alanyl-l-prolyl-l-prolyl-l-prolyl-l-serinamide', u'qualitative or quantitative defects of alpha-sarcoglycan', u'lysosomal alpha-d-mannosidase deficiency', u'heparan-alpha-glucosaminide n-acetyltransferase deficiency', u'alpha-1-antitrypsin deficiency (disorder)', u'alpha-thalassemia - myelodysplastic syndrome', u'alpha-methyl-acetoacetyl-coa thiolase deficiency', u'mature cd8_alpha-negative cd11b-negative dendritic cell', u'cd8alpha-positive thymic conventional dendritic cell', u'platelet alpha-granule deficiency', u'alpha-ketopropionaldehyde', u'alpha-methyldopa', u'familial amyloid nephropathy due to fibrinogen a alpha-chain variant', u'(s)-(-)-alpha-ethyl-2-oxo-1-pyrrolidineacetamide', u'hypoalphalipoproteinemia', u'17(alpha)-methyl-delta(4)-androsten-17(beta)-ol-3-one', u'3-(alpha-(p-nitrophenol)-beta-acetylethyl)-4-hydroxycoumarin', u'alpha-adrenergic antagonists', u'mature cd8_alpha-negative cd11b-positive dendritic cell', u'alpha-methyltyrosine', u'(24r)-5alpha-ergostan-3beta-ol', u'4-androstene-17alpha-methyl-17beta-ol-3-one', u'alpha-methyl-beta-(3', u' alpha-beta cytotoxic t cell', u'disorder of peroxisomal alpha-', u'congenital disorder of glycosylation due to steroid 5alpha-reductase type 3 deficiency', u'(2s-(2alpha', u'oxysterol 7-alpha-hydroxylase deficiency', u'immature cd8_alpha-negative cd11b-negative dendritic cell', u'serum alpha-1-antitrypsin measurement', u\"3-(alpha-(4'-nitrophenyl)-beta-acetylethyl)-4-hydroxycoumarin\", u'alpha lipoprotein cholesterol', u'alpha-thalassemia and related diseases', u'adult-onset alpha-n-acetylgalactosaminidase deficiency', u'qualitative or quantitative defects of alphab-cristallin', u'alpha-thalassemia - intellectual disability syndrome linked to chromosome 16', u'(2alpha', u'pregnenolone 16alpha-carbonitrile', u'mature cd8_alpha-positive cd11b-negative dendritic cell', u'congenital muscular alpha-dystroglycanopathy with brain and eye anomalies', u'5alpha-dihydrotestosterone', u'1-dehydro-16alpha-methyl-9alpha-fluorohydrocortisone', u'alpha-thalassemia hydrops fetalis', u'bleeding diathesis due to integrin alpha2-beta1 deficiency', u'bilirubin ixalpha', u'alpha-1-antichymotrypsin deficiency', u'obsolete_alpha-1-antitrypsin deficiency', u'alpha thalassemia - retardation syndrome', u'(-)-alpha-methyl-l-tyrosine', u'congenital muscular dystrophy with integrin alpha-7 deficiency', u'interferon alpha measurement', u'familial hyperalphalipoproteinemia', u'alpha-l-iduronidase deficiency', u'alpha-1-antitrypsin def', u'cd8_alpha-low langerhans cell', u'alpha-amino-gamma-methylmercaptobutyric acid', u'fc-epsilon rialpha-low mast cell progenitor', u'soluble interleukin-2 receptor subunit alpha measurement', u'l-seryl-l-tyrosyl-l-seryl-l-methionyl-l-alpha-glutamyl-l-histidyl-l-phenylalanyl-l-arginyl-l-tryptophylglycyl-l-lysyl-l-prolyl-l-valylglycyl-l-lysyl-l-lysyl-l-arginyl-l-arginyl-l-prolyl-l-valyl-l-lysyl-l-valyl-l-tyrosyl-l-prolyl-l-alpha-aspartylglycyl-l-alanyl-l-alpha-glutamyl-l-alpha-aspartyl-l-alpha-glutamyl-l-seryl-l-alanyl-l-alpha-glutamyl-l-alanyl-l-phenylalanyl-l-prolyl-l-leucyl-l-alpha-glutamyl-l-phenylalanine', u'cd8-alpha-alpha-positive', u'cah due to 17-alpha-hydroxylase deficiency', u' alpha-beta regulatory t cell', u'immature cd8_alpha-low langerhans cell', u'susceptibility to respiratory infections associated with cd8alpha chain mutation', u'sterol 12 alpha hydroxylase', u'tcr-alpha-beta-positive t-cell deficiency', u'alpha-n-acetylgalactosaminidase deficiency type 2', u'alpha-crystallinopathy', u'alpha wave measurement', u'primary qualitative or quantitative defects of alpha-dystroglycan', u'steroid 12-alpha-hydroxylase', u'(s)-alpha-ethyl-2-oxo-1-pyrrolidineacetamide', u'hypercholesterolemia due to cholesterol 7alpha-hydroxylase deficiency', u'alpha macroglobulin measurement', u' alpha-beta thymocyte', u'(alphas)-n', u'alpha-thalassemia', u'17alpha-ethinyl estradiol', u'congenital deficiency in alpha-fetoprotein', u'alpha-beta t cell', u'alpha-tocopherol metabolism', u'alpha-(p-chlorophenoxy)isobutyric acid', u'alpha-methyl-l-p-tyrosine', u'alpha-naphthyl n-methylcarbamate', u'alpha-methyl-acyl-coa racemase deficiency', u'qualitative or quantitative defects of alpha-dystroglycan', u'lysine alpha-ketoglutarate reductase deficiency', u'alpha-amanitin', u'alpha-methyl-l-dopa', u'7-amino-9alpha-methoxymitosane', u'alpha-thalassemia-related diseases', u'alpha delta granule deficiency', u'(+-)-n-methyl-3-phenyl-3-((alpha', u'hyperalphalipoproteinemia', u'alpha-d-glucose', u'17alpha-methyltestosterone', u'1-dehydro-6alpha-methylhydrocortisone', u't-b+ severe combined immunodeficiency due to il-7ralpha deficiency', u'xy disorder of sex development due to 5-alpha-reductase 2 deficiency', u'alpha-n-acetylgalactosaminidase deficiency type 1', u'alpha-n-acetylgalactosaminidase deficiency type 3', u'alpha-naphthyl isothiocyanate', u'6-(p-hydroxy-alpha-aminophenylacetamido)penicillanic acid', u'alpha-dystroglycanopathy', u'l-alpha-pyrrolidinecarboxylic acid', u\"(5'alpha)-2-bromo-12'-hydroxy-5'-isobutyl-2'-isopropyl-3'\", u'delta(1)-6alpha-methylhydrocortisone', u'17alpha-methyl-3-oxo-4-androsten-17beta-ol', u'alpha-adrenergic blockers', u'vgamma5-positive cd8alpha alpha positive gamma-delta intraepithelial t cell', u'17beta-hydroxy-5alpha-androstan-3-one', u'(s)-(+)-alpha-methyl-4-carboxyphenylglycine', u'fibrinogen a alpha-chain amyloidosis', u'tnf-alpha; tumor necrosis factor', u'alpha-sarcoglycanopathy', u'alpha-p-chlorophenoxyisobutyryl ethyl ester', u'alpha-(4-chlorophenoxy)-alpha-methylpropionic acid', u'alpha-aminoadipic aciduria', u' alpha-beta t cell', u'alpha-galactosidase a deficiency', u'alphavirus infectious disease', u'streptomyces griseus subsp. alpha (ciferri 1927) pridham 1970 (approved lists 1980)', u'6alpha-methylprednisolone', u'(+)-alpha-tocopherol', u'alpha-(2-(diisopropylamino)ethyl)-alpha-phenyl-2-pyridineacetamide', u'alpha', u'alpha-methyl-l-tyrosine', u'homozygous alpha0-thalassemia', u'mature cd8_alpha-low langerhans cell', u'alpha-thalassemia intermedia', u'alpha-beta intraepithelial t cell', u'cd8-alpha alpha positive', u'alpha-adrenoceptor antagonists', u'alpha-mannosidosis', u'(e)-(+-)-beta-((4-chlorophenyl)methylene)-alpha-(1', u'alpha-ketoglutarate dehydrogenase deficiency', u'(s)-(alpha)-methyl-4-carboxyphenylglycine', u'alpha-kainic acid', u'5alpha-campestan-3beta-ol', u'alpha-tocopherol', u'familial renal amyloidosis due to fibrinogen a alpha-chain variant', u'interferon alpha 2a', u'(s)-alpha-methyltyrosine', u'(+)-(s)-6-methoxy-alpha-methyl-2-naphthaleneacetic acid', u'(s)-alpha-amino-5-fluoro-3', u'alpha-methylguanidino acetic acid', u'congenital alpha2 antiplasmin deficiency', u'cd8_alpha-negative cd11b-negative dendritic cell', u'alpha 1-antitrypsin deficiency', u'1-alpha-hydroxylase deficiency', u'alpha-methyl-para-tyrosine', u'pancreatic alpha cell', u'alpha-adrenergic blocker', u'alpha-butene', u' alpha-beta memory t cell', u'(+)-alpha-methyl-4-carboxyphenylglycine', u'alpha-amino-beta-phenylpropionic acid', u'alpha-adrenergic antagonist', u'alpha-lipoprotein cholesterol', u'cytochrome p450 subfamily viiib (sterol 12-alpha-hydroxylase) polypeptide 1', u'alpha-1-antitrypsin deficiency', u'congenital muscular dystrophy due to laminin alpha2 deficiency', u'alpha storage pool deficiency', u'vgamma5-negative cd8alpha alpha positive gamma-delta intraepithelial t cell', u'limb-girdle muscular dystrophy due to alpha-sarcoglycan deficiency', u'pyruvate dehydrogenase complex e1 component subunit alpha deficiency']\n",
      "[u'alpha chain defici', u'due to cholesterol 7alpha hydroxylas defici', u'dehydrogenas e1 alpha defici', u'4 alpha hydroxyphenylpyruv hydroxylas defici', u'alphaviru infecti diseas', u'hereditari amyloid nephropathi due to fibrinogen a alpha chain', u'alpha 2 6 2 cyanophenoxi 4 pyrimidinyloxi alpha methoxymethylen benzeneacet acid', u'disord of sex develop due to 5 alpha reductas 2 defici', u'protein involv in o glycosyl of alpha dystroglycan', u'congenit muscular alpha dystroglycanopathi with brain and', u'adren hyperplasia due to 17 alpha hydroxylas', u'amyloid nephropathi due to fibrinogen a alpha chain variant', u'matur cd8alpha neg cd11b neg dendrit cell', u'alpha thalassemia hydrop fetali', u'to alpha sarcoglycan defici', u'to respiratori infect associ with cd8alpha chain mutat', u'or quantit defect of protein involv in o glycosyl of alpha dystroglycan', u'alpha beta intraepitheli t', u'alpha thalassemia myelodysplast', u'sterol 12 alpha hydroxylas', u'p450 subfamili viiib sterol 12 alpha hydroxylas polypeptid 1', u'alpha b crystallin relat late onset distal', u'or quantit defect of integrin alpha 7', u'congenit alpha2 antiplasmin', u'diathesi due to integrin alpha2 beta1 defici', u'to laminin alpha2', u'interleukin 2 receptor alpha chain defici', u'to cholesterol 7alpha hydroxylas defici', u'congenit muscular alpha dystroglycanopathi with brain and eye', u'alpha amino gamma methylmercaptobutyr acid', u'famili hypoalphalipoproteinemia', u'serum alpha 1 antitrypsin', u'glycosyl due to steroid 5alpha reductas', u'fibrinogen a alpha chain', u'fc epsilon rialpha low mast', u'due to pterin 4 alpha carbinolamin dehydratas defici', u'amyloidosi due to fibrinogen a alpha chain variant', u'5alpha reductas type 3 defici', u'alpha adrenerg antagonist', u'of integrin alpha 7', u'cd8alpha neg thymic convent dendrit cell', u'tcr alpha beta t cell defici', u'streptomyc griseu subsp alpha ciferri 1927 pridham 1970', u'12 alpha hydroxylas polypeptid 1', u'due to steroid 5alpha reductas type', u'with cd8alpha chain mutat', u'quantit defect of protein involv in o glycosyl of alpha dystroglycan', u'associ with cd8alpha', u'due to steroid 5alpha reductas type 3 defici', u'immatur cd8alpha neg cd11b posit', u'matur alpha beta t cell', u'or quantit defect of alpha dystroglycan', u'vgamma5 neg cd8alpha alpha posit gamma delta intraepitheli t', u's alpha ethyl 2 oxo 1 pyrrolidineacetamid', u'alpha storag pool defici', u'cd8alpha neg plasmactyoid dendrit cell', u'combin immunodefici due to il 7ralpha defici', u'alpha thalassemia intellectu disabl syndrom link', u'cd8alpha neg cd11b neg dendrit', u'to steroid 5alpha reductas', u'bleed diathesi due to integrin alpha2 beta1', u'homozyg alpha0 thalassemia', u'matur cd8alpha posit cd11b neg dendrit cell', u'alpha methyl 4 carboxyphenylglycin', u'rs 4 hydroxi alpha1 6 4 phenylbutoxyhexylaminomethyl 1', u'qualit or quantit defect of alpha sarcoglycan', u'alpha beta t cell', u'xy disord of sex develop due to 5 alpha reductas', u'alpha dystroglycanopathi with brain', u'alpha thalassemia and relat', u'famili renal amyloidosi due to fibrinogen a alpha chain variant', u'alpha thalassemia', u'alpha 1 antitrypsin pittsburgh mutat', u'quantit defect of alpha dystroglycan', u'due to alpha 1 antitrypsin', u'cd8alpha posit thymic convent dendrit cell', u'respiratori infect associ with cd8alpha', u'diseas due to alpha 1 antitrypsin pittsburgh', u'quantit defect of alphab cristallin', u'immunodefici due to il 7ralpha defici', u'or quantit defect of alpha actin', u'suscept to respiratori infect associ with cd8alpha', u'cd8alpha alpha posit gamma delta', u'immatur cd8alpha neg cd11b neg dendrit cell', u'dehydrogenas complex e1 compon subunit alpha defici', u'immatur cd8alpha neg cd11b neg dendrit', u'renal amyloidosi due to fibrinogen a alpha chain', u'3 carboxamido 4 hydroxi alpha 1 methyl 3 phenylpropylaminomethylbenzyl alcohol', u'pterin 4 alpha carbinolamin dehydratas defici', u'of protein involv in o glycosyl of alpha dystroglycan', u'l histidylglycyl l alpha glutamylglycyl l threonyl l phenylalanyl l threonyl l seryl l alpha aspartyl l leucyl l seryl l lysyl l glutaminyl l methionyl l alpha glutamyl l alpha glutamyl l alpha glutamyl l alanyl l valyl l arginyl l leucyl l phenylalanyl l isoleucyl l alpha glutamyl l tryptophyl l leucyl l lysyl l asparaginylglycylglycyl l prolyl l seryl l serylglycyl l alanyl l prolyl l prolyl l prolyl l serinamid', u'matur cd8alpha low langerhan cell', u'3 alpha acetonyl 4 nitrobenzyl 4 hydroxycoumarin', u'diseas due to alpha 1 antitrypsin pittsburgh mutat', u'alpha methyl l p tyrosin', u't b scid due to il 7ralpha defici', u'diathesi due to integrin alpha2 beta1', u'tnf alpha tumor necrosi', u'alpha posit gamma delta intraepitheli t', u'sex develop due to 5 alpha reductas 2', u'12 alpha hydroxylas', u'muscular dystrophi with integrin alpha 7', u'disord of glycosyl due to steroid 5alpha reductas', u'due to alpha 1 antitrypsin pittsburgh', u'oxysterol 7 alpha hydroxylas defici', u'of peroxisom alpha', u'alpha ketoacid dehydrogenas complex defici', u'due to integrin alpha2 beta1 defici', u't b sever combin immunodefici due to il 7ralpha', u'alpha galactosidas a defici', u'alpha ketoglutar dehydrogenas defici', u'alpha naphthaleneacet acid', u'hypoalphalipoproteinemia', u'famili amyloid nephropathi due to fibrinogen a alpha chain', u'ciferri 1927 griseu subsp alpha', u'or quantit defect of alpha sarcoglycan', u'alpha delta granul defici', u'lysin alpha ketoglutar reductas', u'alpha 2 diisopropylaminoethyl alpha phenyl 2 pyridineacetamid', u's alpha methyltyrosin', u'to 5 alpha reductas 2', u'griseu subsp alpha ciferri 1927 pridham 1970 approv', u'quantit defect of integrin alpha 7', u'congenit muscular alpha dystroglycanopathi with brain and eye anomali', u'alpha mate type', u'chain alpha ketoacid dehydrogenas complex defici', u'alpha dystroglycanopathi with brain and eye', u'hypercholesterolemia due to cholesterol 7alpha hydroxylas', u'alpha methyl l dopa', u'alpha crystallinopathi', u'a alpha chain variant', u'glycosyl due to steroid 5alpha reductas type', u'disord of glycosyl due to steroid 5alpha reductas type 3', u'griseu subsp alpha ciferri', u'chain alpha ketoacid dehydrogenas complex', u'22 5alpha campestan 3beta', u'vgamma5 neg cd8alpha alpha posit gamma delta intraepitheli t cell', u's alpha methyl 4 2 methylpropylbenzeneacet acid', u'e beta 4 chlorophenylmethylen alpha 1', u'complex e1 compon subunit alpha defici', u'due to 5 alpha reductas 2', u'receptor alpha chain', u'alpha thalassemia x link', u'respiratori infect associ with cd8alpha chain mutat', u's 6 methoxi alpha methyl 2 naphthaleneacet acid', u'cd8alpha neg cd11b posit dendrit', u'to cholesterol 7alpha hydroxylas', u'alpha beta cytotox t', u'l alpha pyrrolidinecarboxyl acid', u'to 17 alpha hydroxylas defici', u'subfamili viiib sterol 12 alpha hydroxylas polypeptid 1', u'alpha beta memori t cell', u'hyperplasia due to 17 alpha hydroxylas', u'limb girdl muscular dystrophi due to alpha sarcoglycan defici', u'matur cd8alpha low langerhan', u'1 dehydro 16alpha methyl 9alpha fluorohydrocortison', u'congenit muscular alpha dystroglycanopathi with', u'ciferri 1927 alpha', u'or quantit defect of alphab cristallin', u'subfamili viiib sterol 12 alpha hydroxylas polypeptid', u'griseu subsp alpha ciferri 1927 pridham 1970 approv list', u'sex develop due to 5 alpha reductas', u'branch chain alpha ketoacid dehydrogenas complex', u'cd8alpha chain mutat', u'cd8alpha neg plasmactyoid dendrit', u'solubl interleukin 2 receptor subunit alpha', u'integrin alpha 7 defici', u't b scid due to il 7ralpha', u'matingtypealpha', u'alpha p chlorophenoxyisobutyryl ethyl ester', u'dystrophi with integrin alpha 7 defici', u'6alpha methylprednisolon', u'3 alpha p nitrophenol beta acetylethyl 4 hydroxycoumarin', u'defici in alpha fetoprotein', u'muscular alpha dystroglycanopathi with brain and', u'alpha storag pool', u'cd8 alpha beta posit', u'alpha naphthyl n methylcarbam', u'secondari alpha dystroglycanopathi', u'amyloidosi due to fibrinogen a alpha chain', u'alpha mannosidosi', u'approv list 1980 subsp alpha ciferri 1927 pridham 1970', u'alpha aminoadip aciduria', u'alpha beta cytokin secret effector t', u'approv list 1980 alpha ciferri 1927 pridham 1970', u'2s 2alpha', u'congenit adren hyperplasia due to 17 alpha hydroxylas', u'17beta hydroxi 5alpha androstan 3 one', u'tnf alpha tumor necrosi factor', u'alpha thalassemia intellectu disabl syndrom link to chromosom 16', u'streptomyc griseu subsp alpha ciferri', u'xy disord of sex develop due to 5 alpha reductas 2 defici', u'congenit adren hyperplasia due to 17 alpha hydroxylas defici', u'alpha adrenoceptor antagonist', u'alpha ciferri 1927 pridham 1970', u'sterol 12 alpha', u'alpha thalassemia and relat diseas', u'2r 2alpha', u'alpha adrenerg blocker', u'alpha wave', u'alpha 1 antitrypsin defici', u'alpha methyl l tyrosin', u'to laminin alpha2 defici', u'due to 17 alpha hydroxylas', u'lysin alpha ketoglutar reductas defici', u'griseu subsp alpha', u'gamma diisopropylamino alpha phenyl alpha 2 pyridylbutyramid', u'dystrophi due to laminin alpha2 defici', u'of sex develop due to 5 alpha reductas', u'alpha sarcoglycanopathi', u'nephropathi due to fibrinogen a alpha chain variant', u'alpha ketoacid dehydrogenas complex', u'5alpha 2 bromo 12 hydroxi 5 isobutyl 2 isopropyl 3', u'alpha n acetylgalactosaminidas defici type 2', u'alpha n acetylgalactosaminidas defici type 3', u'alpha n acetylgalactosaminidas defici type 1', u'hemorrhag diseas due to alpha 1 antitrypsin', u'immunodefici due to il 7ralpha', u'hyperalphalipoproteinemia', u'defect of protein involv in o glycosyl of alpha dystroglycan', u'primari qualit or quantit defect of alpha dystroglycan', u'scid due to il 7ralpha', u'alpha thalassemia intellectu disabl', u'muscular dystrophi due to laminin alpha2', u'due to 17 alpha hydroxylas defici', u'renal amyloidosi due to fibrinogen a alpha chain variant', u'subsp alpha ciferri 1927 pridham', u'sterol 12 alpha hydroxylas viiib', u'vgamma5 posit cd8alpha alpha posit gamma delta intraepitheli', u'dl alpha tocopherol', u'branch chain alpha ketoacid dehydrogenas complex defici', u'cd8alpha posit thymic convent dendrit', u'with integrin alpha 7', u'sterol 12 alpha hydroxylas subfamili viiib', u'5alpha', u'o glycosyl of alpha dystroglycan', u'3 alpha p nitrophenyl beta acetylethyl 4 hydroxycoumarin', u'necrosi factor alpha', u'alpha dens granul defici', u'interleukin 2 receptor subunit alpha', u'alpha posit gamma delta intraepitheli t cell', u'alpha thalassemia x link intellectu disabl syndrom', u'alpha p chlorophenoxyisobutyr acid', u'associ with cd8alpha chain mutat', u'alpha beta intraepitheli t cell', u'alpha b crystallin relat late onset distal myopathi', u'24r 5alpha ergostan 3beta ol', u'muscular dystrophi due to laminin alpha2 defici', u'qualit or quantit defect of integrin alpha 7', u'qualit or quantit defect of alphab cristallin', u'alpha', u'infect associ with cd8alpha', u'defect of alphab cristallin', u'alpha thalassemia intellectu disabl syndrom link to', u'of sex develop due to 5 alpha reductas 2 defici', u'muscular alpha dystroglycanopathi with brain and eye anomali', u'fc epsilon rialpha high basophil progenitor cell', u'sever combin immunodefici due to il 7ralpha defici', u'scid due to il 7ralpha defici', u'pyruv dehydrogenas complex e1 compon subunit alpha defici', u'alpha delta granul', u'cah due to 17 alpha hydroxylas', u'alpha methyl acetoacetyl coa thiolas defici', u'alpha butylen', u'alpha tocopherol metabol process', u'to alpha 1 antitrypsin pittsburgh', u'alpha ketoglutar reductas defici', u'with integrin alpha 7 defici', u'5alpha campestan 3beta ol', u'vgamma5 neg cd8alpha alpha posit gamma delta intraepitheli', u'cd8alpha neg cd11b posit dendrit cell', u'interferon alpha 2a', u'in o glycosyl of alpha dystroglycan', u'hemorrhag diseas due to alpha 1 antitrypsin pittsburgh', u'vgamma5 neg cd8alpha alpha', u'immatur cd8alpha low langerhan', u'immatur alpha beta t', u'alpha beta thymocyt', u'to integrin alpha2 beta1', u'pancreat alpha cell', u'7alpha 9 4', u'alpha methyltyrosin', u'due to steroid 5alpha reductas type 3', u'alpha 2 6 2 cyanophenoxi 4 pyrimidinyloxi alpha methoxymethylen benzeneacet acid methyl', u'17alpha ethynylestradiol', u'laminin alpha2 defici', u'vgamma5 posit cd8alpha alpha posit', u'6 p hydroxi alpha aminophenylacetamidopenicillan acid', u'alpha posit gamma delta', u'immatur cd8alpha neg cd11b neg', u'vgamma5 posit cd8alpha alpha posit gamma delta intraepitheli t cell', u'muscular dystrophi due to alpha sarcoglycan', u'alpha dystroglycanopathi', u'sterol 12 alpha hydroxylas polypeptid 1', u'integrin alpha2 beta1 defici', u'dehydrogenas complex e1 compon subunit alpha', u'17alpha methyl delta4 androsten 17beta ol 3 one', u'alpha hydro omega hydroxypolyoxyethylen', u'immatur cd8alpha posit cd11b neg', u'compon subunit alpha', u'alpha macroglobulin', u'vgamma5 posit cd8alpha alpha', u'immatur alpha beta t cell', u'muscular dystrophi due to alpha sarcoglycan defici', u'a alpha chain amyloidosi', u'rialpha high basophil progenitor', u'alpha beta cytokin secret effector', u'interferon alpha', u'alpha n acetylgalactosaminidas defici', u'sterol 12 alpha hydroxylas p450 subfamili viiib', u'hyperphenylalaninemia due to pterin 4 alpha carbinolamin dehydratas defici', u'disord of peroxisom alpha', u'alpha thalassemia retard', u'hyperplasia due to 17 alpha hydroxylas defici', u'hereditari persist of alpha fetoprotein', u'alpha l iduronidas defici', u'to steroid 5alpha reductas type 3', u'compon subunit alpha defici', u'immatur cd8alpha neg cd11b posit dendrit cell', u'alpha globulin', u'matur cd8alpha neg cd11b neg', u'alpha adrenerg agonist', u'sterol 12 alpha hydroxylas cytochrom p450 subfamili viiib', u'griseu subsp alpha ciferri 1927 pridham', u'due to laminin alpha2', u'immatur cd8alpha posit cd11b neg dendrit cell', u'alpha thalassemia relat diseas', u'17alpha estradiol', u'suscept to respiratori infect associ with cd8alpha chain', u'cytochrom p450 subfamili viiib sterol 12 alpha hydroxylas polypeptid 1', u'famili amyloid nephropathi due to fibrinogen a alpha chain variant', u'alpha ciferri 1927 pridham', u'alpha dystroglycanopathi with brain and', u'alpha b crystallin relat late onset', u'alpha thalassemia intellectu', u'quantit defect of alpha actin', u'analphalipoproteinemia', u'streptomyc griseu subsp alpha', u'develop due to 5 alpha reductas 2 defici', u'congenit disord of glycosyl due to steroid 5alpha reductas type', u'limb girdl muscular dystrophi due to alpha sarcoglycan', u'rialpha low mast cell', u'to pterin 4 alpha carbinolamin dehydratas', u'vgamma5 posit cd8alpha alpha posit gamma delta', u'alpha adrenerg receptor blockad', u'l alpha acetamido beta mercaptopropion acid', u'streptomyc griseu subsp alpha ciferri 1927 pridham 1970 approv', u'cd8alpha posit cd11b neg dendrit', u'alpha cell', u'alpha amino beta phenylpropion acid', u'cd8alpha posit thymic convent', u'cd8alpha alpha posit gamma delta intraepitheli t cell', u'qualit or quantit defect of protein involv in o glycosyl of alpha dystroglycan', u'immatur cd8alpha neg cd11b posit dendrit', u'infect associ with cd8alpha chain', u'1 o chloro alpha', u'alpha methyl beta 3', u'alpha beta cytokin secret', u'alpha beta regulatori t cell', u'subsp alpha ciferri 1927 pridham 1970', u'defect of alpha dystroglycan', u'interleukin 2 receptor alpha', u'subunit alpha defici', u'tcr alpha beta posit t cell defici', u'fc epsilon rialpha high basophil progenitor', u'cah due to 17 alpha hydroxylas defici', u'disord alpha 1 antitrypsin defici', u'to respiratori infect associ with cd8alpha', u'disord of glycosyl due to steroid 5alpha reductas type 3 defici', u'cd8alpha low langerhan cell', u'alpha ciferri 1927 pridham 1970 approv list', u'steroid 5alpha reductas type 3', u'alpha thalassemia myelodysplast syndrom', u'fibrinogen a alpha chain variant', u'muscular alpha dystroglycanopathi with brain', u'4 androsten 17alpha methyl 17beta ol 3 one', u'rialpha high basophil progenitor cell', u'amyloid nephropathi due to fibrinogen a alpha chain', u'dystrophi with integrin alpha 7', u'to pterin 4 alpha carbinolamin dehydratas defici', u'nephropathi due to fibrinogen a alpha chain', u'congenit alpha2 antiplasmin defici', u'due to alpha 1 antitrypsin pittsburgh mutat', u'due to 5 alpha reductas', u'cd8alpha neg thymic convent dendrit', u'2alpha', u'alpha beta regulatori t', u'involv in o glycosyl of alpha dystroglycan', u'3alpha', u'to integrin alpha2 beta1 defici', u'to steroid 5alpha reductas type 3 defici', u'quantit defect of alpha sarcoglycan', u's alpha methyl 4 carboxyphenylglycin', u'to il 7ralpha defici', u'alpha thalassemia intellectu disabl syndrom', u'n methyl 3 phenyl 3 alpha', u'congenit muscular alpha dystroglycanopathi with brain', u'hereditari renal amyloidosi due to fibrinogen a alpha chain', u'to 5 alpha reductas 2 defici', u'7 amino 9alpha methoxymitosan', u'congenit defici in alpha fetoprotein', u'alpha d glucos', u'3 alpha 4 nitrophenyl beta acetylethyl 4 hydroxycoumarin', u'alpha ciferri 1927 pridham 1970 approv', u'immatur cd8alpha low langerhan cell', u'ajmalan 17alpha', u's alpha amino 5 fluoro 3', u'pyruv dehydrogenas e1 alpha defici', u'famili renal amyloidosi due to fibrinogen a alpha chain', u'muscular dystrophi with integrin alpha 7 defici', u'alpha methyl acyl coa racemas defici', u'heparan alpha glucosaminid n acetyltransferas defici', u'l alpha methyltyrosin', u'alpha ketopropionaldehyd', u'due to steroid 5alpha reductas', u'adult onset alpha n acetylgalactosaminidas defici', u'bleed diathesi due to integrin alpha2 beta1 defici', u'receptor alpha chain defici', u'3 alpha phenyl beta acetylethyl 4 hydroxycoumarin', u'of glycosyl due to steroid 5alpha reductas type 3 defici', u'qualit or quantit defect of alpha actin', u'cd8alpha neg cd11b neg dendrit cell', u'qualit or quantit defect of alpha dystroglycan', u'alpha 1 antitrypsin def', u'e1 compon subunit alpha defici', u'alpha n acetylgalactosaminidas defici type', u'cd8alpha alpha posit', u'alpha lipoprotein cholesterol', u'associ with cd8alpha chain', u'with cd8alpha chain', u'receptor subunit alpha', u'cd8alpha posit plasmactyoid dendrit', u'defect of alpha sarcoglycan', u'of sex develop due to 5 alpha reductas 2', u'5 alpha reductas 2 defici', u'to steroid 5alpha reductas type', u'matur cd8alpha neg cd11b posit dendrit', u'cd8alpha posit cd11b neg dendrit cell', u'dystrophi due to laminin alpha2', u'subsp alpha ciferri 1927 pridham 1970 approv list', u'alpha methyl para tyrosin', u'alphaviru infect', u'alpha beta cytokin secret effector t cell', u'defect of alpha actin', u'alpha beta cytotox t cell', u'matur alpha beta t', u'17alpha methyl 3 oxo 4 androsten 17beta ol', u'matur cd8alpha neg cd11b neg dendrit', u'bilirubin ixalpha', u'obsoletealpha 1 antitrypsin defici', u'due to laminin alpha2 defici', u'due to integrin alpha2 beta1', u'alpha 1 antichymotrypsin defici', u'chain alpha ketoacid dehydrogenas', u'immatur cd8alpha posit cd11b neg dendrit', u'persist of alpha fetoprotein', u'vgamma5 posit cd8alpha alpha posit gamma delta intraepitheli t', u'alpha methylguanidino acet acid', u'adren hyperplasia due to 17 alpha hydroxylas defici', u'muscular alpha dystroglycanopathi with brain and eye', u'griseu subsp alpha ciferri 1927 pridham 1970', u't b sever combin immunodefici due to il 7ralpha defici', u'17alpha ethinyl estradiol', u'glycosyl due to steroid 5alpha reductas type 3 defici', u's alpha amino 4 carboxi 2 methylbenzeneacet', u'alpha 4 chlorophenoxi alpha methylpropion acid', u'alpha buten', u'fc epsilon rialpha low mast cell progenitor', u'complex e1 compon subunit alpha', u'due to 5 alpha reductas 2 defici', u'steroid 12 alpha hydroxylas', u'alpha thalassemia intellectu disabl syndrom link to chromosom', u'combin immunodefici due to il 7ralpha', u'sterol 12 alpha hydroxylas polypeptid', u'17alpha methyltestosteron', u'disord of sex develop due to 5 alpha reductas 2', u'cd8alpha alpha posit gamma delta intraepitheli', u'ciferri 1927 streptomyc griseu subsp alpha', u'lysosom alpha d mannosidas defici', u'dystrophi due to alpha sarcoglycan defici', u'due to alpha sarcoglycan defici', u'subsp alpha ciferri', u'alpha methyl p tyrosin', u'famili hyperalphalipoproteinemia', u'alpha 2 6 2 cyanophenoxi 4 pyrimidinyloxi alpha methoxymethylen benzeneacet acid methyl ester', u'infect associ with cd8alpha chain mutat', u'alpha amanitin', u'hereditari renal amyloidosi due to fibrinogen a alpha chain variant', u'branch chain alpha ketoacid dehydrogenas', u'cholesterol 7alpha hydroxylas defici', u'to alpha 1 antitrypsin pittsburgh mutat', u'due to alpha sarcoglycan', u'disord of glycosyl due to steroid 5alpha reductas type', u'alpha2 antiplasmin defici', u'of glycosyl due to steroid 5alpha reductas type 3', u'due to fibrinogen a alpha chain variant', u'alpha posit gamma delta intraepitheli', u'to fibrinogen a alpha chain', u'ciferri 1927 subsp alpha', u'steroid 5alpha reductas type 3 defici', u'1 alpha hydroxylas defici', u'fc epsilon rialpha high basophil', u'alpha l fucosidas defici', u'xy disord of sex develop due to 5 alpha reductas 2', u'dystrophi due to alpha sarcoglycan', u'glycosyl due to steroid 5alpha reductas type 3', u'mate type alpha', u'alpha peak frequenc', u'of glycosyl due to steroid 5alpha reductas', u'alpha thalassemia retard syndrom', u'pregnenolon 16alpha carbonitril', u'hyperphenylalaninemia due to pterin 4 alpha carbinolamin dehydratas', u'subsp alpha ciferri 1927 pridham 1970 approv', u'congenit muscular dystrophi with integrin alpha 7 defici', u'of glycosyl due to steroid 5alpha reductas type', u'n alpha', u'alpha thalassemia x link intellectu', u'platelet alpha granul defici', u'alpha 1', u'alpha n', u'n acetyl alpha glucosaminidas defici', u'tumor necrosi factor alpha', u'cd8 alpha alpha posit', u'alpha naphthyl isothiocyan', u'cytochrom p450 subfamili viiib sterol 12 alpha hydroxylas polypeptid', u'congenit disord of glycosyl due to steroid 5alpha reductas', u'matur cd8alpha posit cd11b neg', u'n 1s 1 dihydroxyboranyl 3 methylbutyl nalpha pyrazin 2 ylcarbonyl d phenylalaninamid', u'vgamma5 neg cd8alpha alpha posit gamma delta', u'l seryl l tyrosyl l seryl l methionyl l alpha glutamyl l histidyl l phenylalanyl l arginyl l tryptophylglycyl l lysyl l prolyl l valylglycyl l lysyl l lysyl l arginyl l arginyl l prolyl l valyl l lysyl l valyl l tyrosyl l prolyl l alpha aspartylglycyl l alanyl l alpha glutamyl l alpha aspartyl l alpha glutamyl l seryl l alanyl l alpha glutamyl l alanyl l phenylalanyl l prolyl l leucyl l alpha glutamyl l phenylalanin', u'alpha tocopherol', u'e1 compon subunit alpha', u'due to fibrinogen a alpha chain', u'due to il 7ralpha', u'pyruv dehydrogenas e1 alpha', u'steroid 5alpha reductas type', u'cd8alpha neg', u'matur cd8alpha posit cd11b neg dendrit', u'congenit muscular dystrophi with integrin alpha 7', u'alpha phthalimidoglutarimid', u'fc epsilon rialpha low mast cell', u'primari alpha dystroglycanopathi', u'vgamma5 neg cd8alpha alpha posit', u'alpha kainic acid', u'7 alpha hydroxi 4 cholesten 3 one 12 alpha hydroxylas', u'delta1 6alpha methylhydrocortison', u'congenit muscular dystrophi due to laminin alpha2 defici', u'defect of integrin alpha 7', u'suscept to respiratori infect associ with cd8alpha chain mutat', u'3 alpha acetonyl p nitrobenzyl 4 hydroxycoumarin', u'17alpha ethynylestra 1', u'yeast alpha mate type', u'alpha thalassemia intermedia', u'1 dehydro 6alpha methylhydrocortison', u'subunit alpha', u'alpha dens granul', u'alpha tocopherol metabol', u'due to pterin 4 alpha carbinolamin dehydratas', u'viiib sterol 12 alpha hydroxylas polypeptid 1', u'develop due to 5 alpha reductas', u'cd8alpha neg thymic convent', u'to respiratori infect associ with cd8alpha chain', u'develop due to 5 alpha reductas 2', u'diseas due to alpha 1 antitrypsin', u'sex develop due to 5 alpha reductas 2 defici', u'alpha thalassemia x link intellectu disabl', u'5alpha reductas type 3', u'to fibrinogen a alpha chain variant', u'matur cd8alpha neg cd11b posit', u'hereditari amyloid nephropathi due to fibrinogen a alpha chain variant', u'sever combin immunodefici due to il 7ralpha', u'due to cholesterol 7alpha hydroxylas', u'alpha methyldopa', u'disord of sex develop due to 5 alpha reductas', u'rialpha low mast cell progenitor', u'hemorrhag diseas due to alpha 1 antitrypsin pittsburgh mutat', u'alpha beta memori t', u'congenit muscular dystrophi due to laminin alpha2', u'branch chain alpha ketoacid', u'approv list 1980 streptomyc griseu subsp alpha ciferri 1927 pridham 1970', u'alpha granul diseas', u'congenit disord of glycosyl due to steroid 5alpha reductas type 3', u'respiratori infect associ with cd8alpha chain', u'streptomyc griseu subsp alpha ciferri 1927 pridham 1970 approv list', u'due to pterin 4 alpha carbinolamin', u'cd8alpha posit plasmactyoid dendrit cell', u'cd8alpha alpha posit gamma delta intraepitheli t', u'congenit disord of glycosyl due to steroid 5alpha reductas type 3 defici', u'due to il 7ralpha defici', u'pyruv dehydrogenas complex e1 compon subunit alpha', u'hypercholesterolemia due to cholesterol 7alpha hydroxylas defici', u'matur cd8alpha neg cd11b posit dendrit cell', u'streptomyc griseu subsp alpha ciferri 1927 pridham', u'hyperphenylalaninemia due to pterin 4 alpha carbinolamin', u'interleukin 2 receptor alpha chain', u'muscular alpha dystroglycanopathi with', u'congenit muscular alpha dystroglycanopathi', u'p450 subfamili viiib sterol 12 alpha hydroxylas polypeptid', u'approv list 1980 griseu subsp alpha ciferri 1927 pridham 1970', u'viiib sterol 12 alpha hydroxylas polypeptid', u'5alpha dihydrotestosteron', u'alpha dystroglycanopathi with brain and eye anomali', u'fibrinogen a alpha chain amyloidosi']\n"
     ]
    }
   ],
   "source": [
    "print [ph for ph in efo_phenotype_list0 if 'alpha' in ph]\n",
    "print [ph for ph in efo_phen_matcher.d if 'alpha' in ph]"
   ]
  },
  {
   "cell_type": "code",
   "execution_count": 128,
   "metadata": {
    "collapsed": false
   },
   "outputs": [
    {
     "name": "stdout",
     "output_type": "stream",
     "text": [
      "polyethylene glycol http://purl.obolibrary.org/obo/CHEBI_46793\n",
      "anastrozole http://purl.obolibrary.org/obo/CHEBI_2704\n",
      "lysine http://purl.obolibrary.org/obo/CHEBI_25094\n",
      "flutamide http://purl.obolibrary.org/obo/CHEBI_5132\n",
      "dimercaprol http://purl.obolibrary.org/obo/CHEBI_64198\n",
      "mating type alpha http://www.ebi.ac.uk/efo/EFO_0001270\n"
     ]
    }
   ],
   "source": [
    "query_word = 'alpha'\n",
    "from db import db_session\n",
    "from db.schema import *\n",
    "\n",
    "phenotypes = db_session.query(Phenotype).filter(Phenotype.source=='efo').all()\n",
    "# phenotypes == kb.get_phenotype_candidates_cheating()\n",
    "phenotype_names = set()\n",
    "for phenotype in phenotypes:\n",
    "    if phenotype.name:\n",
    "        phenotype_names.add((phenotype.name))\n",
    "        synonyms = [(syn) for syn in phenotype.synonyms.split('|')]\n",
    "        if query_word in synonyms or query_word == phenotype.name:\n",
    "            print phenotype.name, phenotype.ontology_ref\n",
    "        phenotype_names.update(synonyms)"
   ]
  },
  {
   "cell_type": "code",
   "execution_count": 18,
   "metadata": {
    "collapsed": false
   },
   "outputs": [],
   "source": [
    "# print len(phenotype_names)\n",
    "# [(word, change_name(word)) for word in phenotype_list if change_name(word) == change_name('personalized')]"
   ]
  },
  {
   "cell_type": "markdown",
   "metadata": {},
   "source": [
    "## Extraction performance"
   ]
  },
  {
   "cell_type": "markdown",
   "metadata": {},
   "source": [
    "First, extract some features for each candidate mention."
   ]
  },
  {
   "cell_type": "code",
   "execution_count": null,
   "metadata": {
    "collapsed": false
   },
   "outputs": [],
   "source": [
    "import cPickle        \n",
    "from snorkel.features import NgramFeaturizer\n",
    "\n",
    "# pkl_f = 'phenotype_feats.pkl'\n",
    "# try:\n",
    "#     with open(pkl_f, 'rb') as f:\n",
    "#         featurizer = cPickle.load(f)\n",
    "# except:\n",
    "featurizer = NgramFeaturizer()\n",
    "featurizer.fit_transform(phen_c)\n",
    "\n",
    "print 'Example features:', [f for f in featurizer.get_features_by_candidate(phen_c[0])[:10]]"
   ]
  },
  {
   "cell_type": "code",
   "execution_count": null,
   "metadata": {
    "collapsed": false
   },
   "outputs": [],
   "source": [
    "# classify candidates as correct or not\n",
    "\n",
    "# doc_id -> set of correct gwc_ids\n",
    "gold_agg_dict_phen = { doc_id : set() for doc_id, phen_id in gold_set_agg_phens }\n",
    "for doc_id, phen_id in gold_set_agg_phens:\n",
    "    gold_agg_dict_phen[doc_id].add(phen_id)\n",
    "\n",
    "def c2uid(candidate):\n",
    "    return candidate.context.document.name, candidate.context.position, candidate.char_start, candidate.char_end\n",
    "    \n",
    "gt_dict_pos = dict()\n",
    "gt_dict_neg = dict()\n",
    "for candidate in phen_c:\n",
    "    doc_id = candidate.context.document.name\n",
    "    agg_ids = agg_phen2id.get(change_name(candidate.get_span()), set())\n",
    "    uid = c2uid(candidate)\n",
    "    if agg_ids & gold_agg_dict_phen[doc_id]:\n",
    "        gt_dict_pos[uid] = +1\n",
    "    else:\n",
    "        gt_dict_neg[uid] = -1\n",
    "\n",
    "gt_dict = dict(gt_dict_pos.items() + gt_dict_neg.items())\n",
    "print 'Defined %d positive and %d negative gold mentions' % (len(gt_dict_pos), len(gt_dict_neg))"
   ]
  },
  {
   "cell_type": "code",
   "execution_count": null,
   "metadata": {
    "collapsed": false
   },
   "outputs": [],
   "source": [
    "# let's look at a few examples\n",
    "for doc in corpus.documents[:10]:\n",
    "    doc_id = doc.name\n",
    "    print doc.name\n",
    "    for phen_id2 in gold_agg_dict_phen[doc_id]: # iterate over gwc_id's in doc\n",
    "        print agg_id2phen[phen_id2].name, phen_id2 # print its name and id\n",
    "        for eq_phen in agg_id2phen[phen_id2].equivalents: # loop over equivalent phens\n",
    "            print '\\t', eq_phen.name, eq_phen.ontology_ref, eq_phen.synonyms # print name, ref, synonyms\n",
    "    print ' '.join(s.text for s in id2doc[doc_id].sentences)\n",
    "    for candidate in phen_c:\n",
    "        if candidate.context.document != doc: continue\n",
    "#         print gt_dict[candidate.uid], candidate.get_span(), [agg_id2phen[phen_id].name for phen_id in phen2id.get(change_name(candidate.get_span()),set())]\n",
    "        print gt_dict[c2uid(candidate)], candidate.get_span(), \n",
    "        phen_id = phen2id.get(change_name(candidate.get_span()), None)\n",
    "        if phen_id: print '|', id2phen[phen_id].name, id2phen[phen_id].ontology_ref,\n",
    "        print\n",
    "    print"
   ]
  },
  {
   "cell_type": "markdown",
   "metadata": {},
   "source": [
    "Create training set"
   ]
  },
  {
   "cell_type": "code",
   "execution_count": null,
   "metadata": {
    "collapsed": false
   },
   "outputs": [],
   "source": [
    "import numpy as np\n",
    "\n",
    "# Split into train and test set\n",
    "candidates = phen_c\n",
    "training_candidates = []\n",
    "gold_candidates     = []\n",
    "gold_labels         = []\n",
    "n_half = len(candidates)/2\n",
    "for c in candidates[:n_half]:\n",
    "    uid = c2uid(c)\n",
    "    if uid in gt_dict:\n",
    "        gold_candidates.append(c)\n",
    "        gold_labels.append(gt_dict[uid])\n",
    "    else:\n",
    "        training_candidates.append(c)\n",
    "training_candidates.extend(candidates[n_half:])\n",
    "gold_labels = np.array(gold_labels)\n",
    "print \"Training set size: %s\" % len(training_candidates)\n",
    "print \"Gold set size: %s\" % len(gold_candidates)\n",
    "print \"Positive labels in training set: %s\" % len([c for c in training_candidates if gt_dict.get(c2uid(c),0)==1])\n",
    "print \"Negative labels in training set: %s\" % len([c for c in training_candidates if gt_dict.get(c2uid(c),0)==-1])\n",
    "print \"Positive labels in gold set: %s\" % len([c for c in gold_candidates if gt_dict[c2uid(c)]==1])\n",
    "print \"Negative labels in gold set: %s\" % len([c for c in gold_candidates if gt_dict[c2uid(c)]==-1])"
   ]
  },
  {
   "cell_type": "code",
   "execution_count": null,
   "metadata": {
    "collapsed": false
   },
   "outputs": [],
   "source": [
    "print phen_c[0]\n",
    "print phen_c[0].post_window(d=4)\n",
    "print phen_c[0].get_attrib_span('words')\n",
    "print re.search(r'\\([A-Z]{2,4}\\)', 'Test [AVC)')"
   ]
  },
  {
   "cell_type": "code",
   "execution_count": null,
   "metadata": {
    "collapsed": false
   },
   "outputs": [],
   "source": [
    "from nltk.stem import PorterStemmer\n",
    "import re\n",
    "stemmer = PorterStemmer()\n",
    "\n",
    "# load set of dictionary phenotypes\n",
    "kb = KnowledgeBase()\n",
    "phenotype_list = kb.get_phenotype_candidates() # TODO: load disease names from NCBI\n",
    "phenotype_list = [phenotype for phenotype in phenotype_list]\n",
    "phenotype_set = set(phenotype_list)\n",
    "\n",
    "# load stopwords\n",
    "with open('../data/phenotypes/snorkel/dicts/manual_stopwords.txt') as f:\n",
    "    stopwords = {line.strip() for line in f}\n",
    "stopwords.update(['analysis', 'age', 'drug', 'community', 'detect', 'activity', 'genome',\n",
    "                  'genetic', 'phenotype', 'response', 'population', 'parameter', 'diagnosis',\n",
    "                  'level', 'survival', 'maternal', 'paternal', 'clinical', 'joint', 'related',\n",
    "                  'status', 'risk', 'protein', 'association', 'signal', 'pathway', 'genotype', 'scale'])\n",
    "from nltk.corpus import stopwords as nltk_stopwords\n",
    "stopwords.update(nltk_stopwords.words('english'))\n",
    "stopwords = {stemmer.stem(word) for word in stopwords}\n",
    "\n",
    "# small helpers\n",
    "def get_phenotype(entity, stem=False):\n",
    "    phenotype = entity.get_span()\n",
    "    if stem: phenotype = stemmer.stem(phenotype)\n",
    "    return phenotype.lower()\n",
    "\n",
    "def stem_list(L):\n",
    "    return [stemmer.stem(l.lower()) for l in L]\n",
    "\n",
    "def LF_gt(m):\n",
    "    return gt_dict.get(m.uid, 0) if m in training_candidates else 0\n",
    "\n",
    "# positive LFs\n",
    "def LF_first_sentence(m):\n",
    "    return +10 if m.context.position == 0 else 0\n",
    "def LF_from_regex(m):\n",
    "    if m.context.position == 0 and not regex_phen_matcher._f(m) and not LF_bad_words(m): return +5\n",
    "    else: return 0\n",
    "def LF_with_acronym(m):\n",
    "    post_txt = ''.join(m.post_window('words',d=5))\n",
    "    return +1 if re.search(r'\\([A-Z]{2,4}\\)', post_txt) else 0\n",
    "def LF_many_words(m):\n",
    "    return +1 if len(m.get_span().split()) >= 3 else 0\n",
    "def LF_start_of_sentence(m):\n",
    "    return +1 if m.get_word_start() <= 3 else 0\n",
    "\n",
    "LFs_pos = [LF_first_sentence, LF_with_acronym, LF_from_regex, LF_many_words]\n",
    "\n",
    "# negative LFs\n",
    "def LF_bad_words(m):\n",
    "    bad_words = ['disease', 'single', 'map', 'genetic variation', '( p <']\n",
    "    return -100 if any(m.get_span().lower().startswith(b) for b in bad_words) else 0\n",
    "def LF_short(m):\n",
    "    txt = m.get_attrib_span('words', 3)\n",
    "    return -50 if len(txt) < 5 else 0\n",
    "def LF_no_nouns(m):\n",
    "    return -5 if not any(t.startswith('NN') for t in m.get_attrib_tokens('poses')) else 0\n",
    "def LF_pvalue(m):\n",
    "    txt = m.get_span().lower()\n",
    "    return -100 if 'p <' in txt or 'p =' in txt else 0\n",
    "def LF_stopwords(m):\n",
    "    words = m.get_span().lower().split()\n",
    "    return -10 if all(word in stopwords for word in words) or \\\n",
    "                  all(stemmer.stem(word) in stopwords for word in words) or \\\n",
    "                  all(change_name(word) in stopwords for word in words) else 0\n",
    "\n",
    "\n",
    "LFs_neg = [LF_bad_words, LF_short, LF_no_nouns, LF_pvalue, LF_stopwords]\n",
    "\n",
    "LFs = LFs_pos + LFs_neg"
   ]
  },
  {
   "cell_type": "code",
   "execution_count": null,
   "metadata": {
    "collapsed": false
   },
   "outputs": [],
   "source": [
    "from snorkel.snorkel import TrainingSet\n",
    "from snorkel.features import NgramFeaturizer\n",
    "\n",
    "training_set = TrainingSet(training_candidates, LFs, featurizer=NgramFeaturizer())"
   ]
  },
  {
   "cell_type": "code",
   "execution_count": null,
   "metadata": {
    "collapsed": false
   },
   "outputs": [],
   "source": [
    "lf_stats = training_set.lf_stats()\n",
    "lf_stats[:5]"
   ]
  },
  {
   "cell_type": "code",
   "execution_count": null,
   "metadata": {
    "collapsed": true
   },
   "outputs": [],
   "source": [
    "from snorkel.snorkel import Learner, PipelinedLearner\n",
    "import snorkel.learning\n",
    "from snorkel.learning import LogReg\n",
    "\n",
    "learner = Learner(training_set, model=snorkel.learning.LogReg())\n",
    "\n",
    "# Splitting into CV and test set\n",
    "n_half = len(gold_candidates)/2\n",
    "test_candidates = gold_candidates[:n_half]\n",
    "test_labels     = gold_labels[:n_half]\n",
    "cv_candidates   = gold_candidates[n_half:]\n",
    "cv_labels       = gold_labels[n_half:]"
   ]
  },
  {
   "cell_type": "code",
   "execution_count": null,
   "metadata": {
    "collapsed": false
   },
   "outputs": [],
   "source": [
    "from snorkel.learning_utils import GridSearch\n",
    "\n",
    "gs       = GridSearch(learner, ['mu', 'lf_w0'], [[1e-5, 1e-7],[1.0,2.0]])\n",
    "gs_stats = gs.fit(cv_candidates, cv_labels)"
   ]
  },
  {
   "cell_type": "code",
   "execution_count": null,
   "metadata": {
    "collapsed": false
   },
   "outputs": [],
   "source": [
    "gs_stats"
   ]
  },
  {
   "cell_type": "code",
   "execution_count": null,
   "metadata": {
    "collapsed": false
   },
   "outputs": [],
   "source": [
    "learner.test_wmv(test_candidates, test_labels)"
   ]
  },
  {
   "cell_type": "markdown",
   "metadata": {},
   "source": [
    "## Save and analyze the results"
   ]
  },
  {
   "cell_type": "markdown",
   "metadata": {},
   "source": [
    "### Analyze / Visualize"
   ]
  },
  {
   "cell_type": "markdown",
   "metadata": {
    "collapsed": true
   },
   "source": [
    "If a mention occurs in the title, its probably correct, we can take it.\n",
    "\n",
    "Question: what papers did not have any disease mentions in the title?"
   ]
  },
  {
   "cell_type": "code",
   "execution_count": null,
   "metadata": {
    "collapsed": false
   },
   "outputs": [],
   "source": [
    "preds = learner.predict_wmv(phen_c)\n",
    "results = [c for p, c in zip(preds, phen_c) if p > 0 and c.context.position == 0]\n",
    "doc_set = {c.context.document.name for c in results}\n",
    "missing_docs = {doc.name for doc in corpus.documents} - doc_set\n",
    "docs = sorted(list(missing_docs))\n",
    "print len(docs)\n",
    "for d in missing_docs:\n",
    "    print d, kb.paper_by_pmid(d).title"
   ]
  },
  {
   "cell_type": "markdown",
   "metadata": {},
   "source": [
    "Let's not visualize what we found."
   ]
  },
  {
   "cell_type": "code",
   "execution_count": null,
   "metadata": {
    "collapsed": false
   },
   "outputs": [],
   "source": [
    "scores = learner.score_wmv(phen_c)\n",
    "score_dict = { doc.name : list() for doc in corpus.documents }\n",
    "for s, c in zip(scores, phen_c):\n",
    "    score_dict[c.context.document.name].append((s,c))\n",
    "\n",
    "results = dict()\n",
    "for pmid, preds in score_dict.items():\n",
    "    if preds: \n",
    "        best_c = sorted(preds, reverse=True)[0][1]\n",
    "        results[best_c.context.document.name] = best_c\n",
    "    "
   ]
  },
  {
   "cell_type": "code",
   "execution_count": null,
   "metadata": {
    "collapsed": false
   },
   "outputs": [],
   "source": [
    "# doc_set = {c.context.document.name for c in results}\n",
    "# missing_docs = {doc.name for doc in corpus.documents} - doc_set\n",
    "# docs = sorted(list(missing_docs))\n",
    "# print len(docs)\n",
    "for d in corpus.documents:\n",
    "    print d, kb.paper_by_pmid(d.name).title\n",
    "    print unicode(results.get(d.name, None)), LF_stopwords(results.get(d.name))\n",
    "    try:\n",
    "        print sorted(score_dict[d.name], reverse=True)[:5]\n",
    "    except UnicodeEncodeError:\n",
    "        print 'Unicode error'\n",
    "    print"
   ]
  },
  {
   "cell_type": "code",
   "execution_count": null,
   "metadata": {
    "collapsed": false
   },
   "outputs": [],
   "source": [
    "# print 'waist circumference' in phenotype_list\n",
    "# [ph for ph in phenotype_list if 'sex' in ph]\n",
    "[ph for ph in efo_phenotype_list if 'waist' in ph]"
   ]
  },
  {
   "cell_type": "markdown",
   "metadata": {
    "collapsed": false
   },
   "source": [
    "\n",
    "### Save results"
   ]
  },
  {
   "cell_type": "code",
   "execution_count": 285,
   "metadata": {
    "collapsed": false
   },
   "outputs": [],
   "source": [
    "with open('phenotypes.extracted.tsv', 'w') as f:\n",
    "    for d in corpus.documents:\n",
    "        # pick the top two results:\n",
    "        best = sorted(score_dict[d.name], reverse=True)[:2]\n",
    "        # if both are in title, report both, otherwise report only the best one\n",
    "        if len(best) > 1 and best[1][1].context.position == 0 and best[1][0] > 5:\n",
    "            (_, r1), (_, r2) = best\n",
    "            phen = r1.get_span() + '|' + r2.get_span()\n",
    "        else:\n",
    "            phen = best[0][1].get_span()\n",
    "        phen = re.sub('\\n', ' ', phen)\n",
    "        out_str = u'%s\\t%s\\t\\n' % (d.name, phen)        \n",
    "        f.write(out_str.encode(\"UTF-8\"))\n",
    "        "
   ]
  },
  {
   "cell_type": "code",
   "execution_count": null,
   "metadata": {
    "collapsed": true
   },
   "outputs": [],
   "source": []
  },
  {
   "cell_type": "code",
   "execution_count": null,
   "metadata": {
    "collapsed": true
   },
   "outputs": [],
   "source": []
  }
 ],
 "metadata": {
  "kernelspec": {
   "display_name": "Python 2",
   "language": "python",
   "name": "python2"
  },
  "language_info": {
   "codemirror_mode": {
    "name": "ipython",
    "version": 2
   },
   "file_extension": ".py",
   "mimetype": "text/x-python",
   "name": "python",
   "nbconvert_exporter": "python",
   "pygments_lexer": "ipython2",
   "version": "2.7.2"
  }
 },
 "nbformat": 4,
 "nbformat_minor": 0
}
