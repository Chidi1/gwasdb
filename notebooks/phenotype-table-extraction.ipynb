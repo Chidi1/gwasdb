{
 "cells": [
  {
   "cell_type": "markdown",
   "metadata": {},
   "source": [
    "# Phenotype/SNP relation extraction from tables"
   ]
  },
  {
   "cell_type": "code",
   "execution_count": 1,
   "metadata": {
    "collapsed": false
   },
   "outputs": [],
   "source": [
    "%load_ext autoreload\n",
    "%autoreload 2\n",
    "\n",
    "import sys\n",
    "import cPickle\n",
    "\n",
    "# import snorkel and gwasdb\n",
    "sys.path.append('../snorkel')\n",
    "sys.path.append('../src')\n",
    "sys.path.append('../src/crawler')\n",
    "\n",
    "# set up paths\n",
    "abstract_dir = '../data/db/papers'\n",
    "\n",
    "# set up matplotlib\n",
    "import matplotlib\n",
    "%matplotlib inline\n",
    "matplotlib.rcParams['figure.figsize'] = (12,4)"
   ]
  },
  {
   "cell_type": "markdown",
   "metadata": {},
   "source": [
    "## Load corpus"
   ]
  },
  {
   "cell_type": "code",
   "execution_count": 2,
   "metadata": {
    "collapsed": false
   },
   "outputs": [],
   "source": [
    "from snorkel.parser import XMLDocParser\n",
    "from extractor.parser import UnicodeXMLTableDocParser\n",
    "\n",
    "xml_parser = UnicodeXMLTableDocParser(\n",
    "    path=abstract_dir,\n",
    "    doc='./*',\n",
    "    text='.//table',\n",
    "    id='.//article-id[@pub-id-type=\"pmid\"]/text()',\n",
    "    keep_xml_tree=True)"
   ]
  },
  {
   "cell_type": "code",
   "execution_count": 3,
   "metadata": {
    "collapsed": false
   },
   "outputs": [
    {
     "name": "stdout",
     "output_type": "stream",
     "text": [
      "CPU times: user 52.5 s, sys: 2.84 s, total: 55.4 s\n",
      "Wall time: 1min 21s\n"
     ]
    }
   ],
   "source": [
    "from snorkel.parser import HTMLParser\n",
    "from extractor.parser import UnicodeTableParser\n",
    "from snorkel.parser import CorpusParser\n",
    "import cPickle\n",
    "\n",
    "table_parser = UnicodeTableParser()\n",
    "html_parser = HTMLParser(path='../data/db/papers/')\n",
    "\n",
    "corpus_name = 'gwas-table-corpus.pkl'\n",
    "\n",
    "try:\n",
    "    with open(corpus_name,\"r\") as pkl:\n",
    "        corpus = cPickle.load(pkl)\n",
    "except:\n",
    "    cp = CorpusParser(xml_parser, table_parser, max_docs=15)\n",
    "    %time corpus = cp.parse_corpus(name='GWAS Corpus')\n",
    "    # pickling currently doesn't work...\n",
    "#     with open(corpus_name,\"w\") as pkl:\n",
    "#         corpus = cPickle.dump(corpus, pkl)"
   ]
  },
  {
   "cell_type": "markdown",
   "metadata": {},
   "source": [
    "## Candidate extraction"
   ]
  },
  {
   "cell_type": "markdown",
   "metadata": {},
   "source": [
    "### RSid Extraction"
   ]
  },
  {
   "cell_type": "code",
   "execution_count": 4,
   "metadata": {
    "collapsed": false
   },
   "outputs": [],
   "source": [
    "from snorkel.matchers import DictionaryMatch, RegexMatchSpan, Union\n",
    "from snorkel.candidates import EntityExtractor\n",
    "from snorkel.candidates import TableNgrams\n",
    "\n",
    "from db.kb import KnowledgeBase\n",
    "\n",
    "# Define a candidate space\n",
    "ngrams = TableNgrams(n_max=1)\n",
    "\n",
    "# Get a list of all the RSids we know\n",
    "kb = KnowledgeBase()\n",
    "rs_ids = kb.get_rsid_candidates()\n",
    "\n",
    "# Define matchers\n",
    "dict_rsid_matcher = DictionaryMatch(d=rs_ids, longest_match_only=False)\n",
    "regx_rsid_matcher = RegexMatchSpan(rgx=r'rs\\d+')\n",
    "rsid_matcher = Union(dict_rsid_matcher, regx_rsid_matcher)\n",
    "\n",
    "rsid_extractor = EntityExtractor(ngrams, rsid_matcher)\n",
    "# %time rs_candidates = rsid_extractor.extract(corpus.get_tables(), name='all')"
   ]
  },
  {
   "cell_type": "code",
   "execution_count": 6,
   "metadata": {
    "collapsed": false
   },
   "outputs": [
    {
     "name": "stdout",
     "output_type": "stream",
     "text": [
      "Span(\"rs2076756\", context=None, chars=[0,8], words=[0,0])\n",
      "Span(\"rs1992662\", context=None, chars=[0,8], words=[0,0])\n",
      "Span(\"rs1992660\", context=None, chars=[0,8], words=[0,0])\n",
      "Span(\"rs1793004\", context=None, chars=[0,8], words=[0,0])\n",
      "Span(\"rs10521209\", context=None, chars=[0,9], words=[0,0])\n",
      "Span(\"rs2631372\", context=None, chars=[0,8], words=[0,0])\n",
      "Span(\"rs2925757\", context=None, chars=[0,8], words=[0,0])\n",
      "Span(\"rs6947579\", context=None, chars=[0,8], words=[0,0])\n",
      "Span(\"rs1553575\", context=None, chars=[0,8], words=[0,0])\n",
      "Span(\"rs10484545\", context=None, chars=[0,9], words=[0,0])\n",
      "1577 candidates extracted\n",
      "Phrase('17684544', 1, 20, 0, u'rs2076756')\n",
      "Cell('17684544', 1, 20, u'rs2076756')\n"
     ]
    }
   ],
   "source": [
    "for cand in rs_candidates[:10]: \n",
    "    print cand\n",
    "print \"%s candidates extracted\" % len(rs_candidates)\n",
    "print rs_candidates[0].context\n",
    "print rs_candidates[0].context.cell"
   ]
  },
  {
   "cell_type": "markdown",
   "metadata": {},
   "source": [
    "#### Statistics"
   ]
  },
  {
   "cell_type": "code",
   "execution_count": 7,
   "metadata": {
    "collapsed": false
   },
   "outputs": [
    {
     "name": "stdout",
     "output_type": "stream",
     "text": [
      "# of gold annotations\t= 178\n",
      "# of candidates\t\t= 1371\n",
      "Candidate recall\t= 0.978\n",
      "Candidate precision\t= 0.127\n"
     ]
    }
   ],
   "source": [
    "from extractor.util import gold_rsid_stats, gold_rsid_precision\n",
    "\n",
    "gold_set = frozenset( [ (doc.name, rs_id) for doc in corpus.documents for rs_id in kb.rsids_by_pmid(int(doc.name)) ] )\n",
    "gold_set_rsids = [rs_id for doc_id, rs_id in gold_set]\n",
    "\n",
    "gold_rsid_stats(rs_candidates, gold_set)"
   ]
  },
  {
   "cell_type": "markdown",
   "metadata": {},
   "source": [
    "Interesting: some SNPs seem to be never mentioned (e.g. rs12122100) while others (rs727153) appear only in the text.\n",
    "Sometimes, it's not picked up for a different, strange reason: see rs13314993."
   ]
  },
  {
   "cell_type": "code",
   "execution_count": 8,
   "metadata": {
    "collapsed": false
   },
   "outputs": [
    {
     "data": {
      "text/plain": [
       "[u'1',\n",
       " u'16',\n",
       " u'49,314,382',\n",
       " u'CARD15, intron',\n",
       " u'0.26',\n",
       " u'0.43',\n",
       " u'1.93E-13',\n",
       " u'2.04E-12',\n",
       " u'2.1 (1.58-2.80)',\n",
       " u'0.27',\n",
       " u'0.41',\n",
       " u'6.80E-20',\n",
       " u'1.39E-21',\n",
       " u'1.71 (1.42-2.05)',\n",
       " u'5.90E-08']"
      ]
     },
     "execution_count": 8,
     "metadata": {},
     "output_type": "execute_result"
    }
   ],
   "source": [
    "cells = rs_candidates[0].context.cell.aligned_cells('row')\n",
    "[cell.text for cell in cells]"
   ]
  },
  {
   "cell_type": "markdown",
   "metadata": {},
   "source": [
    "### Phenotypes"
   ]
  },
  {
   "cell_type": "code",
   "execution_count": 5,
   "metadata": {
    "collapsed": false
   },
   "outputs": [],
   "source": [
    "from snorkel.matchers import DictionaryMatch, Union, CellNameMatcher, CellDictNameMatcher\n",
    "from snorkel.candidates import EntityExtractor\n",
    "from snorkel.candidates import TableNgrams\n",
    "\n",
    "# Define a candidate space\n",
    "ngrams = TableNgrams(n_max=3)\n",
    "\n",
    "# Create a list of possible words that could denote phenotypes\n",
    "phen_words = ['trait', 'phenotype']\n",
    "\n",
    "# Define matchers\n",
    "# dict_row_matcher = DictionaryMatch(d=phen_words, longest_match_only=False, stemmer='porter')\n",
    "# cell_row_matcher = CellNameMatcher(row_matcher=dict_row_matcher, cand_space=ngrams)\n",
    "# dict_col_matcher = DictionaryMatch(d=phen_words, longest_match_only=False, stemmer='porter')\n",
    "# cell_col_matcher = CellNameMatcher(col_matcher=dict_col_matcher, cand_space=ngrams)\n",
    "# phen_matcher = Union(cell_row_matcher, cell_col_matcher)\n",
    "# phen_matcher = CellNameMatcher(col_matcher=dict_col_matcher, cand_space=ngrams)\n",
    "phen_matcher = CellDictNameMatcher(axis='col', d=phen_words, n_max=3, ignore_case=True)\n",
    "\n",
    "phen_extractor = EntityExtractor(ngrams, phen_matcher)\n",
    "# %time phen_candidates = phen_extractor.extract(corpus.get_tables(), name='all')"
   ]
  },
  {
   "cell_type": "code",
   "execution_count": 11,
   "metadata": {
    "collapsed": false
   },
   "outputs": [
    {
     "name": "stdout",
     "output_type": "stream",
     "text": [
      "9457 candidates extracted\n",
      "17903292\n",
      "Span(\"Serum Creatinine\", context=None, chars=[0,15], words=[0,1])\n",
      "17903292\n",
      "Span(\"Serum\", context=None, chars=[0,4], words=[0,0])\n",
      "17903292\n",
      "Span(\"Creatinine\", context=None, chars=[6,15], words=[1,1])\n",
      "17903292\n",
      "Span(\"Change in serum\", context=None, chars=[0,14], words=[0,2])\n",
      "17903292\n",
      "Span(\"in serum creatinine\", context=None, chars=[7,25], words=[1,3])\n",
      "17903292\n",
      "Span(\"Change in\", context=None, chars=[0,8], words=[0,1])\n",
      "17903292\n",
      "Span(\"in serum\", context=None, chars=[7,14], words=[1,2])\n",
      "17903292\n",
      "Span(\"serum creatinine\", context=None, chars=[10,25], words=[2,3])\n",
      "17903292\n",
      "Span(\"Change\", context=None, chars=[0,5], words=[0,0])\n",
      "17903292\n",
      "Span(\"in\", context=None, chars=[7,8], words=[1,1])\n",
      "Phrase('17903292', 0, 10, 0, u'Serum Creatinine')\n",
      "17903292\n",
      "Cell('17903292', 0, 10, u'Serum Creatinine')\n"
     ]
    }
   ],
   "source": [
    "print \"%s candidates extracted\" % len(phen_candidates)\n",
    "for cand in phen_candidates[0:10]: \n",
    "    print cand.context.document.name\n",
    "    print unicode(cand)\n",
    "#     print [span for span in cand.row_ngrams()]\n",
    "#     print [span for span in cand.col_ngrams()]\n",
    "#     print\n",
    "print phen_candidates[0].context\n",
    "print phen_candidates[0].context.document.name\n",
    "print phen_candidates[0].context.cell"
   ]
  },
  {
   "cell_type": "markdown",
   "metadata": {
    "collapsed": true
   },
   "source": [
    "### Relations"
   ]
  },
  {
   "cell_type": "code",
   "execution_count": 6,
   "metadata": {
    "collapsed": true
   },
   "outputs": [],
   "source": [
    "from snorkel.candidates import AlignedTableRelationExtractor\n",
    "relation_extractor = AlignedTableRelationExtractor(rsid_extractor, phen_extractor, axis='row', induced=True)"
   ]
  },
  {
   "cell_type": "code",
   "execution_count": 16,
   "metadata": {
    "collapsed": false
   },
   "outputs": [
    {
     "name": "stdout",
     "output_type": "stream",
     "text": [
      "CPU times: user 13.8 s, sys: 128 ms, total: 13.9 s\n",
      "Wall time: 13.9 s\n",
      "573 relations extracted, e.g.\n",
      "SpanPair(Span(\"rs10511884\", context=None, chars=[0,9], words=[0,0]), Span(\"Interleukin-6, C-reactive\", context=None, chars=[0,24], words=[0,2]))\n",
      "SpanPair(Span(\"rs10511884\", context=None, chars=[0,9], words=[0,0]), Span(\", C-reactive protein\", context=None, chars=[13,32], words=[1,3]))\n",
      "SpanPair(Span(\"rs10511884\", context=None, chars=[0,9], words=[0,0]), Span(\"C-reactive protein and\", context=None, chars=[15,36], words=[2,4]))\n",
      "SpanPair(Span(\"rs10511884\", context=None, chars=[0,9], words=[0,0]), Span(\"protein and Fibrinogen\", context=None, chars=[26,47], words=[3,5]))\n",
      "SpanPair(Span(\"rs10511884\", context=None, chars=[0,9], words=[0,0]), Span(\"Interleukin-6,\", context=None, chars=[0,13], words=[0,1]))\n",
      "SpanPair(Span(\"rs10511884\", context=None, chars=[0,9], words=[0,0]), Span(\", C-reactive\", context=None, chars=[13,24], words=[1,2]))\n",
      "SpanPair(Span(\"rs10511884\", context=None, chars=[0,9], words=[0,0]), Span(\"C-reactive protein\", context=None, chars=[15,32], words=[2,3]))\n",
      "SpanPair(Span(\"rs10511884\", context=None, chars=[0,9], words=[0,0]), Span(\"protein and\", context=None, chars=[26,36], words=[3,4]))\n",
      "SpanPair(Span(\"rs10511884\", context=None, chars=[0,9], words=[0,0]), Span(\"and Fibrinogen\", context=None, chars=[34,47], words=[4,5]))\n",
      "SpanPair(Span(\"rs10511884\", context=None, chars=[0,9], words=[0,0]), Span(\"Interleukin-6\", context=None, chars=[0,12], words=[0,0]))\n",
      "SpanPair(Span(\"rs10511884\", context=None, chars=[0,9], words=[0,0]), Span(\",\", context=None, chars=[13,13], words=[1,1]))\n",
      "SpanPair(Span(\"rs10511884\", context=None, chars=[0,9], words=[0,0]), Span(\"C-reactive\", context=None, chars=[15,24], words=[2,2]))\n",
      "SpanPair(Span(\"rs10511884\", context=None, chars=[0,9], words=[0,0]), Span(\"protein\", context=None, chars=[26,32], words=[3,3]))\n",
      "SpanPair(Span(\"rs10511884\", context=None, chars=[0,9], words=[0,0]), Span(\"and\", context=None, chars=[34,36], words=[4,4]))\n",
      "SpanPair(Span(\"rs10511884\", context=None, chars=[0,9], words=[0,0]), Span(\"Fibrinogen\", context=None, chars=[38,47], words=[5,5]))\n",
      "SpanPair(Span(\"rs1887027\", context=None, chars=[0,8], words=[0,0]), Span(\"Interleukin-6, C-reactive\", context=None, chars=[0,24], words=[0,2]))\n",
      "SpanPair(Span(\"rs1887027\", context=None, chars=[0,8], words=[0,0]), Span(\", C-reactive protein\", context=None, chars=[13,32], words=[1,3]))\n",
      "SpanPair(Span(\"rs1887027\", context=None, chars=[0,8], words=[0,0]), Span(\"C-reactive protein and\", context=None, chars=[15,36], words=[2,4]))\n",
      "SpanPair(Span(\"rs1887027\", context=None, chars=[0,8], words=[0,0]), Span(\"protein and Fibrinogen\", context=None, chars=[26,47], words=[3,5]))\n",
      "SpanPair(Span(\"rs1887027\", context=None, chars=[0,8], words=[0,0]), Span(\"Interleukin-6,\", context=None, chars=[0,13], words=[0,1]))\n",
      "SpanPair(Span(\"rs1887027\", context=None, chars=[0,8], words=[0,0]), Span(\", C-reactive\", context=None, chars=[13,24], words=[1,2]))\n",
      "SpanPair(Span(\"rs1887027\", context=None, chars=[0,8], words=[0,0]), Span(\"C-reactive protein\", context=None, chars=[15,32], words=[2,3]))\n",
      "SpanPair(Span(\"rs1887027\", context=None, chars=[0,8], words=[0,0]), Span(\"protein and\", context=None, chars=[26,36], words=[3,4]))\n",
      "SpanPair(Span(\"rs1887027\", context=None, chars=[0,8], words=[0,0]), Span(\"and Fibrinogen\", context=None, chars=[34,47], words=[4,5]))\n",
      "SpanPair(Span(\"rs1887027\", context=None, chars=[0,8], words=[0,0]), Span(\"Interleukin-6\", context=None, chars=[0,12], words=[0,0]))\n",
      "SpanPair(Span(\"rs1887027\", context=None, chars=[0,8], words=[0,0]), Span(\",\", context=None, chars=[13,13], words=[1,1]))\n",
      "SpanPair(Span(\"rs1887027\", context=None, chars=[0,8], words=[0,0]), Span(\"C-reactive\", context=None, chars=[15,24], words=[2,2]))\n",
      "SpanPair(Span(\"rs1887027\", context=None, chars=[0,8], words=[0,0]), Span(\"protein\", context=None, chars=[26,32], words=[3,3]))\n",
      "SpanPair(Span(\"rs1887027\", context=None, chars=[0,8], words=[0,0]), Span(\"and\", context=None, chars=[34,36], words=[4,4]))\n",
      "SpanPair(Span(\"rs1887027\", context=None, chars=[0,8], words=[0,0]), Span(\"Fibrinogen\", context=None, chars=[38,47], words=[5,5]))\n",
      "SpanPair(Span(\"rs2831617\", context=None, chars=[0,8], words=[0,0]), Span(\"Interleukin-6, C-reactive\", context=None, chars=[0,24], words=[0,2]))\n",
      "SpanPair(Span(\"rs2831617\", context=None, chars=[0,8], words=[0,0]), Span(\", C-reactive protein\", context=None, chars=[13,32], words=[1,3]))\n",
      "SpanPair(Span(\"rs2831617\", context=None, chars=[0,8], words=[0,0]), Span(\"C-reactive protein and\", context=None, chars=[15,36], words=[2,4]))\n",
      "SpanPair(Span(\"rs2831617\", context=None, chars=[0,8], words=[0,0]), Span(\"protein and Fibrinogen\", context=None, chars=[26,47], words=[3,5]))\n",
      "SpanPair(Span(\"rs2831617\", context=None, chars=[0,8], words=[0,0]), Span(\"Interleukin-6,\", context=None, chars=[0,13], words=[0,1]))\n",
      "SpanPair(Span(\"rs2831617\", context=None, chars=[0,8], words=[0,0]), Span(\", C-reactive\", context=None, chars=[13,24], words=[1,2]))\n",
      "SpanPair(Span(\"rs2831617\", context=None, chars=[0,8], words=[0,0]), Span(\"C-reactive protein\", context=None, chars=[15,32], words=[2,3]))\n",
      "SpanPair(Span(\"rs2831617\", context=None, chars=[0,8], words=[0,0]), Span(\"protein and\", context=None, chars=[26,36], words=[3,4]))\n",
      "SpanPair(Span(\"rs2831617\", context=None, chars=[0,8], words=[0,0]), Span(\"and Fibrinogen\", context=None, chars=[34,47], words=[4,5]))\n",
      "SpanPair(Span(\"rs2831617\", context=None, chars=[0,8], words=[0,0]), Span(\"Interleukin-6\", context=None, chars=[0,12], words=[0,0]))\n"
     ]
    }
   ],
   "source": [
    "tables = corpus.get_tables()\n",
    "# mini_tables = [tables[8]]\n",
    "mini_tables = [fun_table]\n",
    "%time candidates = relation_extractor.extract(mini_tables, name='all')\n",
    "print \"%s relations extracted, e.g.\" % len(candidates)\n",
    "for cand in candidates[:40]: \n",
    "    print cand"
   ]
  },
  {
   "cell_type": "code",
   "execution_count": 7,
   "metadata": {
    "collapsed": false
   },
   "outputs": [
    {
     "name": "stdout",
     "output_type": "stream",
     "text": [
      "Table('17903292', 1)\n"
     ]
    }
   ],
   "source": [
    "tables = corpus.get_tables()\n",
    "print tables[8]"
   ]
  },
  {
   "cell_type": "code",
   "execution_count": 8,
   "metadata": {
    "collapsed": false
   },
   "outputs": [],
   "source": [
    "fun_tables = [t for t in tables if t.document.name=='17658951']"
   ]
  },
  {
   "cell_type": "code",
   "execution_count": 9,
   "metadata": {
    "collapsed": false
   },
   "outputs": [],
   "source": [
    "fun_doc = [d for d in corpus.documents if d.name == '17903293'][0]\n",
    "fun_table = fun_doc.tables[2]"
   ]
  },
  {
   "cell_type": "code",
   "execution_count": 10,
   "metadata": {
    "collapsed": false
   },
   "outputs": [
    {
     "name": "stdout",
     "output_type": "stream",
     "text": [
      "rs2831617 5 1\n"
     ]
    }
   ],
   "source": [
    "from snorkel.models import Span\n",
    "# fun_cell = fun_table.cells[10]\n",
    "# fun_cell = fun_table.cells[17]\n",
    "fun_cell = fun_table.cells[24]\n",
    "fun_phrase = fun_cell.phrases[0]\n",
    "fun_span = Span(char_start=0, char_end=10, context=fun_phrase)\n",
    "\n",
    "print fun_cell.text, fun_cell.row_num, fun_cell.col_num"
   ]
  },
  {
   "cell_type": "code",
   "execution_count": 12,
   "metadata": {
    "collapsed": false
   },
   "outputs": [
    {
     "name": "stdout",
     "output_type": "stream",
     "text": [
      "3\n"
     ]
    }
   ],
   "source": [
    "head_cell=fun_span.context.cell.head_cell(axis='row', induced=True)\n",
    "print head_cell.row_num"
   ]
  },
  {
   "cell_type": "code",
   "execution_count": 13,
   "metadata": {
    "collapsed": false
   },
   "outputs": [],
   "source": [
    "other_axis='col'\n",
    "other_axis_name='col_num'\n",
    "axis_name='row_num'\n",
    "cells = [ cell for cell in fun_cell.table.cells\n",
    "                  if getattr(cell,axis_name) == getattr(fun_cell,axis_name)\n",
    "                  and cell != fun_cell ]\n",
    "def induced_or_real(c):\n",
    "    return c if c.text and not c.text.isspace() else \\\n",
    "           c.first_aligned_nonempty_cell(other_axis)\n",
    "aligned_cells = [induced_or_real(cell) for cell in cells\n",
    "                if induced_or_real(cell) is not None]\n",
    "# aligned_cells = [cell for cell in head_cell.table.cells\n",
    "#                              if getattr(cell,other_axis_name) == getattr(head_cell,other_axis_name)\n",
    "#                              if getattr(cell,axis_name) < getattr(head_cell,axis_name)\n",
    "#                              and not cell.text.isspace()]"
   ]
  },
  {
   "cell_type": "code",
   "execution_count": 14,
   "metadata": {
    "collapsed": false
   },
   "outputs": [],
   "source": [
    "aligned_cells = fun_cell.aligned_cells('row', induced=True)"
   ]
  },
  {
   "cell_type": "code",
   "execution_count": 15,
   "metadata": {
    "collapsed": false
   },
   "outputs": [
    {
     "name": "stdout",
     "output_type": "stream",
     "text": [
      "rs2831617 5 1\n",
      "Cell('17903293', 2, 9, u'Interleukin-6, C-reactive protein and Fibrinogen') 3 0\n",
      "Cell('17903293', 2, 25, u'21') 5 2\n",
      "Cell('17903293', 2, 26, u'28481515') 5 3\n",
      "Cell('17903293', 2, 27, u'6.2*10 -4') 5 4\n",
      "Cell('17903293', 2, 28, u'0.0027') 5 5\n",
      "Cell('17903293', 2, 22, u'IL2RA , RBM17') 4 6\n",
      "[Cell('17903293', 2, 9, u'Interleukin-6, C-reactive protein and Fibrinogen'), Cell('17903293', 2, 25, u'21'), Cell('17903293', 2, 26, u'28481515'), Cell('17903293', 2, 27, u'6.2*10 -4'), Cell('17903293', 2, 28, u'0.0027'), Cell('17903293', 2, 22, u'IL2RA , RBM17')]\n"
     ]
    }
   ],
   "source": [
    "print fun_cell.text, fun_cell.row_num, fun_cell.col_num\n",
    "for cell in aligned_cells:\n",
    "    print cell, cell.row_num, cell.col_num\n",
    "print aligned_cells"
   ]
  },
  {
   "cell_type": "code",
   "execution_count": null,
   "metadata": {
    "collapsed": true
   },
   "outputs": [],
   "source": []
  }
 ],
 "metadata": {
  "kernelspec": {
   "display_name": "Python 2",
   "language": "python",
   "name": "python2"
  },
  "language_info": {
   "codemirror_mode": {
    "name": "ipython",
    "version": 2
   },
   "file_extension": ".py",
   "mimetype": "text/x-python",
   "name": "python",
   "nbconvert_exporter": "python",
   "pygments_lexer": "ipython2",
   "version": "2.7.2"
  }
 },
 "nbformat": 4,
 "nbformat_minor": 0
}
