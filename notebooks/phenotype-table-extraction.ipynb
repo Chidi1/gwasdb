{
 "cells": [
  {
   "cell_type": "markdown",
   "metadata": {},
   "source": [
    "# Phenotype/SNP relation extraction from tables"
   ]
  },
  {
   "cell_type": "code",
   "execution_count": 1,
   "metadata": {
    "collapsed": false
   },
   "outputs": [],
   "source": [
    "%load_ext autoreload\n",
    "%autoreload 2\n",
    "\n",
    "import sys\n",
    "import cPickle\n",
    "\n",
    "# import snorkel and gwasdb\n",
    "sys.path.append('../snorkel')\n",
    "sys.path.append('../src')\n",
    "sys.path.append('../src/crawler')\n",
    "\n",
    "# set up paths\n",
    "abstract_dir = '../data/db/papers'\n",
    "\n",
    "# set up matplotlib\n",
    "import matplotlib\n",
    "%matplotlib inline\n",
    "matplotlib.rcParams['figure.figsize'] = (12,4)"
   ]
  },
  {
   "cell_type": "markdown",
   "metadata": {},
   "source": [
    "## Load corpus"
   ]
  },
  {
   "cell_type": "code",
   "execution_count": 2,
   "metadata": {
    "collapsed": false
   },
   "outputs": [],
   "source": [
    "from snorkel.parser import XMLDocParser\n",
    "from extractor.parser import UnicodeXMLTableDocParser\n",
    "\n",
    "xml_parser = UnicodeXMLTableDocParser(\n",
    "    path=abstract_dir,\n",
    "    doc='./*',\n",
    "    text='.//table',\n",
    "    id='.//article-id[@pub-id-type=\"pmid\"]/text()',\n",
    "    keep_xml_tree=True)"
   ]
  },
  {
   "cell_type": "code",
   "execution_count": 3,
   "metadata": {
    "collapsed": false
   },
   "outputs": [
    {
     "name": "stdout",
     "output_type": "stream",
     "text": [
      "CPU times: user 52.3 s, sys: 2.8 s, total: 55.1 s\n",
      "Wall time: 1min 35s\n"
     ]
    }
   ],
   "source": [
    "from snorkel.parser import HTMLParser\n",
    "from extractor.parser import UnicodeTableParser\n",
    "from snorkel.parser import CorpusParser\n",
    "import cPickle\n",
    "\n",
    "table_parser = UnicodeTableParser()\n",
    "html_parser = HTMLParser(path='../data/db/papers/')\n",
    "\n",
    "corpus_name = 'gwas-table-corpus.pkl'\n",
    "\n",
    "try:\n",
    "    with open(corpus_name,\"r\") as pkl:\n",
    "        corpus = cPickle.load(pkl)\n",
    "except:\n",
    "    cp = CorpusParser(xml_parser, table_parser, max_docs=15)\n",
    "    %time corpus = cp.parse_corpus(name='GWAS Corpus')\n",
    "    # pickling currently doesn't work...\n",
    "#     with open(corpus_name,\"w\") as pkl:\n",
    "#         corpus = cPickle.dump(corpus, pkl)"
   ]
  },
  {
   "cell_type": "markdown",
   "metadata": {},
   "source": [
    "## Candidate extraction"
   ]
  },
  {
   "cell_type": "markdown",
   "metadata": {},
   "source": [
    "### RSid Extraction"
   ]
  },
  {
   "cell_type": "code",
   "execution_count": 4,
   "metadata": {
    "collapsed": false
   },
   "outputs": [
    {
     "name": "stdout",
     "output_type": "stream",
     "text": [
      "CPU times: user 1.07 s, sys: 7.75 ms, total: 1.08 s\n",
      "Wall time: 1.08 s\n"
     ]
    }
   ],
   "source": [
    "from snorkel.matchers import DictionaryMatch, RegexMatchSpan, Union\n",
    "from snorkel.candidates import EntityExtractor\n",
    "from snorkel.candidates import TableNgrams\n",
    "\n",
    "from db.kb import KnowledgeBase\n",
    "\n",
    "# Define a candidate space\n",
    "ngrams = TableNgrams(n_max=1)\n",
    "\n",
    "# Get a list of all the RSids we know\n",
    "kb = KnowledgeBase()\n",
    "rs_ids = kb.get_rsid_candidates()\n",
    "\n",
    "# Define matchers\n",
    "dict_rsid_matcher = DictionaryMatch(d=rs_ids, longest_match_only=False)\n",
    "regx_rsid_matcher = RegexMatchSpan(rgx=r'rs\\d+')\n",
    "rsid_matcher = Union(dict_rsid_matcher, regx_rsid_matcher)\n",
    "\n",
    "rsid_extractor = EntityExtractor(ngrams, rsid_matcher)\n",
    "%time rs_candidates = rsid_extractor.extract(corpus.get_tables(), name='all')"
   ]
  },
  {
   "cell_type": "code",
   "execution_count": 5,
   "metadata": {
    "collapsed": false
   },
   "outputs": [
    {
     "name": "stdout",
     "output_type": "stream",
     "text": [
      "Span(\"rs2076756\", context=None, chars=[0,8], words=[0,0])\n",
      "Span(\"rs1992662\", context=None, chars=[0,8], words=[0,0])\n",
      "Span(\"rs1992660\", context=None, chars=[0,8], words=[0,0])\n",
      "Span(\"rs1793004\", context=None, chars=[0,8], words=[0,0])\n",
      "Span(\"rs10521209\", context=None, chars=[0,9], words=[0,0])\n",
      "Span(\"rs2631372\", context=None, chars=[0,8], words=[0,0])\n",
      "Span(\"rs2925757\", context=None, chars=[0,8], words=[0,0])\n",
      "Span(\"rs6947579\", context=None, chars=[0,8], words=[0,0])\n",
      "Span(\"rs1553575\", context=None, chars=[0,8], words=[0,0])\n",
      "Span(\"rs10484545\", context=None, chars=[0,9], words=[0,0])\n",
      "1577 candidates extracted\n",
      "Phrase('17684544', 1, 20, 0, u'rs2076756')\n",
      "Cell('17684544', 1, 20, u'rs2076756')\n"
     ]
    }
   ],
   "source": [
    "for cand in rs_candidates[:10]: \n",
    "    print cand\n",
    "print \"%s candidates extracted\" % len(rs_candidates)\n",
    "print rs_candidates[0].context\n",
    "print rs_candidates[0].context.cell"
   ]
  },
  {
   "cell_type": "markdown",
   "metadata": {},
   "source": [
    "#### Statistics"
   ]
  },
  {
   "cell_type": "code",
   "execution_count": 6,
   "metadata": {
    "collapsed": false
   },
   "outputs": [
    {
     "name": "stdout",
     "output_type": "stream",
     "text": [
      "# of gold annotations\t= 178\n",
      "# of candidates\t\t= 1371\n",
      "Candidate recall\t= 0.978\n",
      "Candidate precision\t= 0.127\n"
     ]
    }
   ],
   "source": [
    "from extractor.util import gold_rsid_stats, gold_rsid_precision\n",
    "\n",
    "gold_set = frozenset( [ (doc.name, rs_id) for doc in corpus.documents for rs_id in kb.rsids_by_pmid(int(doc.name)) ] )\n",
    "gold_set_rsids = [rs_id for doc_id, rs_id in gold_set]\n",
    "\n",
    "gold_rsid_stats(rs_candidates, gold_set)"
   ]
  },
  {
   "cell_type": "markdown",
   "metadata": {},
   "source": [
    "Interesting: some SNPs seem to be never mentioned (e.g. rs12122100) while others (rs727153) appear only in the text.\n",
    "Sometimes, it's not picked up for a different, strange reason: see rs13314993."
   ]
  },
  {
   "cell_type": "code",
   "execution_count": 8,
   "metadata": {
    "collapsed": false
   },
   "outputs": [
    {
     "data": {
      "text/plain": [
       "[u'1',\n",
       " u'rs2076756',\n",
       " u'16',\n",
       " u'49,314,382',\n",
       " u'CARD15, intron',\n",
       " u'0.26',\n",
       " u'0.43',\n",
       " u'1.93E-13',\n",
       " u'2.04E-12',\n",
       " u'2.1 (1.58-2.80)',\n",
       " u'0.27',\n",
       " u'0.41',\n",
       " u'6.80E-20',\n",
       " u'1.39E-21',\n",
       " u'1.71 (1.42-2.05)',\n",
       " u'5.90E-08']"
      ]
     },
     "execution_count": 8,
     "metadata": {},
     "output_type": "execute_result"
    }
   ],
   "source": [
    "cells = rs_candidates[0].row_cells()\n",
    "[cell.text for cell in cells]"
   ]
  },
  {
   "cell_type": "markdown",
   "metadata": {},
   "source": [
    "### Phenotypes"
   ]
  },
  {
   "cell_type": "code",
   "execution_count": 12,
   "metadata": {
    "collapsed": false
   },
   "outputs": [
    {
     "name": "stdout",
     "output_type": "stream",
     "text": [
      "CPU times: user 2min 39s, sys: 1.62 s, total: 2min 40s\n",
      "Wall time: 2min 42s\n"
     ]
    }
   ],
   "source": [
    "from snorkel.matchers import DictionaryMatch, RegexMatchSpan, Union, CellNameMatcher\n",
    "from snorkel.candidates import EntityExtractor\n",
    "from snorkel.candidates import TableNgrams\n",
    "\n",
    "# Define a candidate space\n",
    "ngrams = TableNgrams(n_max=1)\n",
    "\n",
    "# Create a list of possible words that could denote phenotypes\n",
    "phen_words = ['trait', 'phenotype']\n",
    "\n",
    "# Define matchers\n",
    "# dict_row_matcher = DictionaryMatch(d=phen_words, longest_match_only=False, stemmer='porter')\n",
    "# cell_row_matcher = CellNameMatcher(row_matcher=dict_row_matcher, cand_space=ngrams)\n",
    "dict_col_matcher = DictionaryMatch(d=phen_words, longest_match_only=False, stemmer='porter')\n",
    "# cell_col_matcher = CellNameMatcher(col_matcher=dict_col_matcher, cand_space=ngrams)\n",
    "# phen_matcher = Union(cell_row_matcher, cell_col_matcher)\n",
    "phen_matcher = CellNameMatcher(col_matcher=dict_col_matcher, cand_space=ngrams)\n",
    "\n",
    "phen_extractor = EntityExtractor(ngrams, phen_matcher)\n",
    "%time phen_candidates = phen_extractor.extract(corpus.get_tables(), name='all')"
   ]
  },
  {
   "cell_type": "code",
   "execution_count": 13,
   "metadata": {
    "collapsed": false
   },
   "outputs": [
    {
     "name": "stdout",
     "output_type": "stream",
     "text": [
      "5337 candidates extracted\n",
      "17903292\n",
      "Span(\"TSH\", context=None, chars=[29,31], words=[4,4])\n",
      "\n",
      "17903292\n",
      "Span(\")\", context=None, chars=[32,36], words=[5,5])\n",
      "\n",
      "17903292\n",
      "Span(\"Mean\", context=None, chars=[0,3], words=[0,0])\n",
      "\n",
      "17903292\n",
      "Span(\"of\", context=None, chars=[5,6], words=[1,1])\n",
      "\n",
      "17903292\n",
      "Span(\"TSH\", context=None, chars=[8,10], words=[2,2])\n",
      "\n",
      "17903292\n",
      "Span(\"exam\", context=None, chars=[12,15], words=[3,3])\n",
      "\n",
      "17903292\n",
      "Span(\"3\", context=None, chars=[17,17], words=[4,4])\n",
      "\n",
      "17903292\n",
      "Span(\"&\", context=None, chars=[19,19], words=[5,5])\n",
      "\n",
      "17903292\n",
      "Span(\"4\", context=None, chars=[21,21], words=[6,6])\n",
      "\n",
      "17903292\n",
      "Span(\"Luteinizing\", context=None, chars=[0,10], words=[0,0])\n",
      "\n",
      "17903292\n",
      "Span(\"hormone\", context=None, chars=[12,18], words=[1,1])\n",
      "\n",
      "17903292\n",
      "Span(\"(LH) \", context=None, chars=[20,24], words=[2,4])\n",
      "\n",
      "17903292\n",
      "Span(\"LH\", context=None, chars=[21,22], words=[3,3])\n",
      "\n",
      "17903292\n",
      "Span(\") **\", context=None, chars=[23,27], words=[4,5])\n",
      "\n",
      "17903292\n",
      "Span(\"**\", context=None, chars=[25,26], words=[5,5])\n",
      "\n",
      "17903292\n",
      "Span(\"Follicle\", context=None, chars=[0,7], words=[0,0])\n",
      "\n",
      "17903292\n",
      "Span(\"stimulating\", context=None, chars=[9,19], words=[1,1])\n",
      "\n",
      "17903292\n",
      "Span(\"hormone\", context=None, chars=[21,27], words=[2,2])\n",
      "\n",
      "17903292\n",
      "Span(\"(FSH)\", context=None, chars=[29,33], words=[3,5])\n",
      "\n",
      "17903292\n",
      "Span(\"FSH\", context=None, chars=[30,32], words=[4,4])\n",
      "\n",
      "17903292\n",
      "Span(\")**\", context=None, chars=[33,37], words=[5,6])\n",
      "\n",
      "17903292\n",
      "Span(\"**\", context=None, chars=[34,35], words=[6,6])\n",
      "\n",
      "17903292\n",
      "Span(\"Dehydroepiandrosterone\", context=None, chars=[0,21], words=[0,0])\n",
      "\n",
      "17903292\n",
      "Span(\"sulfate\", context=None, chars=[23,29], words=[1,1])\n",
      "\n",
      "17903292\n",
      "Span(\"(DHEA\", context=None, chars=[31,35], words=[2,3])\n",
      "\n",
      "17903292\n",
      "Span(\"DHEAS\", context=None, chars=[32,36], words=[3,3])\n",
      "\n",
      "17903292\n",
      "Span(\")\", context=None, chars=[37,41], words=[4,4])\n",
      "\n",
      "17903292\n",
      "Span(\"2a\", context=None, chars=[0,1], words=[0,0])\n",
      "\n",
      "17903292\n",
      "Span(\".\", context=None, chars=[2,2], words=[1,1])\n",
      "\n",
      "17903292\n",
      "Span(\"Top\", context=None, chars=[0,2], words=[0,0])\n",
      "\n",
      "17903292\n",
      "Span(\"25\", context=None, chars=[4,5], words=[1,1])\n",
      "\n",
      "17903292\n",
      "Span(\"SNPs\", context=None, chars=[7,10], words=[2,2])\n",
      "\n",
      "17903292\n",
      "Span(\"for\", context=None, chars=[12,14], words=[3,3])\n",
      "\n",
      "17903292\n",
      "Span(\"association\", context=None, chars=[16,26], words=[4,4])\n",
      "\n",
      "17903292\n",
      "Span(\"with\", context=None, chars=[28,31], words=[5,5])\n",
      "\n",
      "17903292\n",
      "Span(\"GFR\", context=None, chars=[33,35], words=[6,6])\n",
      "\n",
      "17903292\n",
      "Span(\"(exam\", context=None, chars=[37,41], words=[7,8])\n",
      "\n",
      "17903292\n",
      "Span(\"examination\", context=None, chars=[38,48], words=[8,8])\n",
      "\n",
      "17903292\n",
      "Span(\"7\", context=None, chars=[50,50], words=[9,9])\n",
      "\n",
      "17903292\n",
      "Span(\"), UA\", context=None, chars=[51,55], words=[10,12])\n",
      "\n",
      "Phrase('17903292', 0, 0, 0, u'Trait')\n",
      "17903292\n",
      "Cell('17903292', 0, 0, u'Trait')\n"
     ]
    }
   ],
   "source": [
    "print \"%s candidates extracted\" % len(phen_candidates)\n",
    "for cand in phen_candidates[40:80]: \n",
    "    print cand.context.document.name\n",
    "    print unicode(cand)\n",
    "#     print [span for span in cand.row_ngrams()]\n",
    "#     print [span for span in cand.col_ngrams()]\n",
    "    print\n",
    "print phen_candidates[0].context\n",
    "print phen_candidates[0].context.document.name\n",
    "print phen_candidates[0].context.cell"
   ]
  },
  {
   "cell_type": "markdown",
   "metadata": {
    "collapsed": true
   },
   "source": [
    "### Relations"
   ]
  },
  {
   "cell_type": "code",
   "execution_count": 14,
   "metadata": {
    "collapsed": true
   },
   "outputs": [],
   "source": [
    "from snorkel.candidates import RelationExtractor\n",
    "relation_extractor = RelationExtractor(rsid_extractor, phen_extractor)"
   ]
  },
  {
   "cell_type": "code",
   "execution_count": null,
   "metadata": {
    "collapsed": false
   },
   "outputs": [],
   "source": [
    "%time candidates = relation_extractor.extract(corpus.get_tables(), name='all')\n",
    "print \"%s relations extracted, e.g.\" % len(candidates)\n",
    "for cand in candidates[:10]: \n",
    "    print cand"
   ]
  },
  {
   "cell_type": "code",
   "execution_count": null,
   "metadata": {
    "collapsed": true
   },
   "outputs": [],
   "source": []
  }
 ],
 "metadata": {
  "kernelspec": {
   "display_name": "Python 2",
   "language": "python",
   "name": "python2"
  },
  "language_info": {
   "codemirror_mode": {
    "name": "ipython",
    "version": 2
   },
   "file_extension": ".py",
   "mimetype": "text/x-python",
   "name": "python",
   "nbconvert_exporter": "python",
   "pygments_lexer": "ipython2",
   "version": "2.7.2"
  }
 },
 "nbformat": 4,
 "nbformat_minor": 0
}
